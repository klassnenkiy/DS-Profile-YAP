{
 "cells": [
  {
   "cell_type": "markdown",
   "metadata": {},
   "source": [
    "# Определение стоимости автомобилей"
   ]
  },
  {
   "cell_type": "markdown",
   "metadata": {},
   "source": [
    "Сервис по продаже автомобилей с пробегом «Не бит, не крашен» разрабатывает приложение для привлечения новых клиентов. В нём можно быстро узнать рыночную стоимость своего автомобиля. В вашем распоряжении исторические данные: технические характеристики, комплектации и цены автомобилей. Вам нужно построить модель для определения стоимости. \n",
    "\n",
    "Заказчику важны:\n",
    "\n",
    "- качество предсказания;\n",
    "- скорость предсказания;\n",
    "- время обучения."
   ]
  },
  {
   "cell_type": "markdown",
   "metadata": {},
   "source": [
    "## Подготовка данных"
   ]
  },
  {
   "cell_type": "code",
   "execution_count": 1,
   "metadata": {},
   "outputs": [
    {
     "name": "stdout",
     "output_type": "stream",
     "text": [
      "Requirement already satisfied: category_encoders in /opt/conda/lib/python3.9/site-packages (2.5.0)\n",
      "Requirement already satisfied: scipy>=1.0.0 in /opt/conda/lib/python3.9/site-packages (from category_encoders) (1.8.0)\n",
      "Requirement already satisfied: numpy>=1.14.0 in /opt/conda/lib/python3.9/site-packages (from category_encoders) (1.21.1)\n",
      "Requirement already satisfied: pandas>=1.0.5 in /opt/conda/lib/python3.9/site-packages (from category_encoders) (1.2.4)\n",
      "Requirement already satisfied: scikit-learn>=0.20.0 in /opt/conda/lib/python3.9/site-packages (from category_encoders) (0.24.1)\n",
      "Requirement already satisfied: statsmodels>=0.9.0 in /opt/conda/lib/python3.9/site-packages (from category_encoders) (0.13.2)\n",
      "Requirement already satisfied: patsy>=0.5.1 in /opt/conda/lib/python3.9/site-packages (from category_encoders) (0.5.2)\n",
      "Requirement already satisfied: python-dateutil>=2.7.3 in /opt/conda/lib/python3.9/site-packages (from pandas>=1.0.5->category_encoders) (2.8.1)\n",
      "Requirement already satisfied: pytz>=2017.3 in /opt/conda/lib/python3.9/site-packages (from pandas>=1.0.5->category_encoders) (2021.1)\n",
      "Requirement already satisfied: six in /opt/conda/lib/python3.9/site-packages (from patsy>=0.5.1->category_encoders) (1.16.0)\n",
      "Requirement already satisfied: threadpoolctl>=2.0.0 in /opt/conda/lib/python3.9/site-packages (from scikit-learn>=0.20.0->category_encoders) (3.1.0)\n",
      "Requirement already satisfied: joblib>=0.11 in /opt/conda/lib/python3.9/site-packages (from scikit-learn>=0.20.0->category_encoders) (1.1.0)\n",
      "Requirement already satisfied: packaging>=21.3 in /opt/conda/lib/python3.9/site-packages (from statsmodels>=0.9.0->category_encoders) (21.3)\n",
      "Requirement already satisfied: pyparsing!=3.0.5,>=2.0.2 in /opt/conda/lib/python3.9/site-packages (from packaging>=21.3->statsmodels>=0.9.0->category_encoders) (2.4.7)\n",
      "Note: you may need to restart the kernel to use updated packages.\n"
     ]
    }
   ],
   "source": [
    "pip install category_encoders"
   ]
  },
  {
   "cell_type": "code",
   "execution_count": 2,
   "metadata": {},
   "outputs": [],
   "source": [
    "import pandas as pd\n",
    "import numpy as np\n",
    "import seaborn as sns\n",
    "import matplotlib.pyplot as plt\n",
    "from sklearn.model_selection import cross_val_score, RandomizedSearchCV, GridSearchCV, train_test_split\n",
    "import category_encoders as ce\n",
    "from sklearn.preprocessing import StandardScaler\n",
    "import time\n",
    "from catboost import CatBoostRegressor, Pool\n",
    "from sklearn.metrics import mean_squared_error, make_scorer\n",
    "from sklearn.ensemble import RandomForestRegressor\n",
    "from lightgbm import LGBMRegressor\n",
    "\n",
    "\n",
    "import warnings\n",
    "warnings.filterwarnings('ignore')"
   ]
  },
  {
   "cell_type": "code",
   "execution_count": 3,
   "metadata": {},
   "outputs": [],
   "source": [
    "df = pd.read_csv(\"/datasets/autos.csv\")"
   ]
  },
  {
   "cell_type": "code",
   "execution_count": 4,
   "metadata": {},
   "outputs": [
    {
     "data": {
      "text/html": [
       "<div>\n",
       "<style scoped>\n",
       "    .dataframe tbody tr th:only-of-type {\n",
       "        vertical-align: middle;\n",
       "    }\n",
       "\n",
       "    .dataframe tbody tr th {\n",
       "        vertical-align: top;\n",
       "    }\n",
       "\n",
       "    .dataframe thead th {\n",
       "        text-align: right;\n",
       "    }\n",
       "</style>\n",
       "<table border=\"1\" class=\"dataframe\">\n",
       "  <thead>\n",
       "    <tr style=\"text-align: right;\">\n",
       "      <th></th>\n",
       "      <th>DateCrawled</th>\n",
       "      <th>Price</th>\n",
       "      <th>VehicleType</th>\n",
       "      <th>RegistrationYear</th>\n",
       "      <th>Gearbox</th>\n",
       "      <th>Power</th>\n",
       "      <th>Model</th>\n",
       "      <th>Kilometer</th>\n",
       "      <th>RegistrationMonth</th>\n",
       "      <th>FuelType</th>\n",
       "      <th>Brand</th>\n",
       "      <th>NotRepaired</th>\n",
       "      <th>DateCreated</th>\n",
       "      <th>NumberOfPictures</th>\n",
       "      <th>PostalCode</th>\n",
       "      <th>LastSeen</th>\n",
       "    </tr>\n",
       "  </thead>\n",
       "  <tbody>\n",
       "    <tr>\n",
       "      <th>258509</th>\n",
       "      <td>2016-03-08 17:39:44</td>\n",
       "      <td>920</td>\n",
       "      <td>NaN</td>\n",
       "      <td>2016</td>\n",
       "      <td>NaN</td>\n",
       "      <td>82</td>\n",
       "      <td>zafira</td>\n",
       "      <td>150000</td>\n",
       "      <td>8</td>\n",
       "      <td>gasoline</td>\n",
       "      <td>opel</td>\n",
       "      <td>no</td>\n",
       "      <td>2016-03-08 00:00:00</td>\n",
       "      <td>0</td>\n",
       "      <td>45355</td>\n",
       "      <td>2016-03-09 08:45:48</td>\n",
       "    </tr>\n",
       "    <tr>\n",
       "      <th>104850</th>\n",
       "      <td>2016-03-08 18:25:20</td>\n",
       "      <td>3200</td>\n",
       "      <td>small</td>\n",
       "      <td>2003</td>\n",
       "      <td>manual</td>\n",
       "      <td>58</td>\n",
       "      <td>corsa</td>\n",
       "      <td>150000</td>\n",
       "      <td>3</td>\n",
       "      <td>petrol</td>\n",
       "      <td>opel</td>\n",
       "      <td>no</td>\n",
       "      <td>2016-03-08 00:00:00</td>\n",
       "      <td>0</td>\n",
       "      <td>56294</td>\n",
       "      <td>2016-03-12 19:18:18</td>\n",
       "    </tr>\n",
       "    <tr>\n",
       "      <th>32012</th>\n",
       "      <td>2016-04-05 00:53:59</td>\n",
       "      <td>2350</td>\n",
       "      <td>convertible</td>\n",
       "      <td>2001</td>\n",
       "      <td>manual</td>\n",
       "      <td>136</td>\n",
       "      <td>2_reihe</td>\n",
       "      <td>150000</td>\n",
       "      <td>7</td>\n",
       "      <td>petrol</td>\n",
       "      <td>peugeot</td>\n",
       "      <td>no</td>\n",
       "      <td>2016-04-04 00:00:00</td>\n",
       "      <td>0</td>\n",
       "      <td>68199</td>\n",
       "      <td>2016-04-07 09:46:50</td>\n",
       "    </tr>\n",
       "    <tr>\n",
       "      <th>117012</th>\n",
       "      <td>2016-03-06 23:47:00</td>\n",
       "      <td>300</td>\n",
       "      <td>small</td>\n",
       "      <td>1998</td>\n",
       "      <td>manual</td>\n",
       "      <td>55</td>\n",
       "      <td>polo</td>\n",
       "      <td>150000</td>\n",
       "      <td>2</td>\n",
       "      <td>petrol</td>\n",
       "      <td>volkswagen</td>\n",
       "      <td>yes</td>\n",
       "      <td>2016-03-06 00:00:00</td>\n",
       "      <td>0</td>\n",
       "      <td>25727</td>\n",
       "      <td>2016-03-10 16:46:51</td>\n",
       "    </tr>\n",
       "    <tr>\n",
       "      <th>186458</th>\n",
       "      <td>2016-04-04 11:45:23</td>\n",
       "      <td>6000</td>\n",
       "      <td>wagon</td>\n",
       "      <td>2008</td>\n",
       "      <td>manual</td>\n",
       "      <td>140</td>\n",
       "      <td>passat</td>\n",
       "      <td>150000</td>\n",
       "      <td>10</td>\n",
       "      <td>gasoline</td>\n",
       "      <td>volkswagen</td>\n",
       "      <td>no</td>\n",
       "      <td>2016-04-04 00:00:00</td>\n",
       "      <td>0</td>\n",
       "      <td>23970</td>\n",
       "      <td>2016-04-04 11:45:23</td>\n",
       "    </tr>\n",
       "    <tr>\n",
       "      <th>157171</th>\n",
       "      <td>2016-03-18 20:51:37</td>\n",
       "      <td>5500</td>\n",
       "      <td>NaN</td>\n",
       "      <td>2016</td>\n",
       "      <td>NaN</td>\n",
       "      <td>231</td>\n",
       "      <td>5er</td>\n",
       "      <td>150000</td>\n",
       "      <td>6</td>\n",
       "      <td>NaN</td>\n",
       "      <td>bmw</td>\n",
       "      <td>NaN</td>\n",
       "      <td>2016-03-18 00:00:00</td>\n",
       "      <td>0</td>\n",
       "      <td>65934</td>\n",
       "      <td>2016-03-19 19:28:10</td>\n",
       "    </tr>\n",
       "    <tr>\n",
       "      <th>283979</th>\n",
       "      <td>2016-03-16 11:42:56</td>\n",
       "      <td>10</td>\n",
       "      <td>NaN</td>\n",
       "      <td>2000</td>\n",
       "      <td>NaN</td>\n",
       "      <td>0</td>\n",
       "      <td>NaN</td>\n",
       "      <td>150000</td>\n",
       "      <td>1</td>\n",
       "      <td>NaN</td>\n",
       "      <td>sonstige_autos</td>\n",
       "      <td>NaN</td>\n",
       "      <td>2016-03-16 00:00:00</td>\n",
       "      <td>0</td>\n",
       "      <td>48366</td>\n",
       "      <td>2016-03-21 11:15:18</td>\n",
       "    </tr>\n",
       "    <tr>\n",
       "      <th>104687</th>\n",
       "      <td>2016-03-16 08:54:32</td>\n",
       "      <td>1200</td>\n",
       "      <td>sedan</td>\n",
       "      <td>2000</td>\n",
       "      <td>manual</td>\n",
       "      <td>106</td>\n",
       "      <td>other</td>\n",
       "      <td>150000</td>\n",
       "      <td>3</td>\n",
       "      <td>petrol</td>\n",
       "      <td>fiat</td>\n",
       "      <td>NaN</td>\n",
       "      <td>2016-03-16 00:00:00</td>\n",
       "      <td>0</td>\n",
       "      <td>15834</td>\n",
       "      <td>2016-04-06 01:44:37</td>\n",
       "    </tr>\n",
       "    <tr>\n",
       "      <th>116770</th>\n",
       "      <td>2016-03-27 14:55:50</td>\n",
       "      <td>3500</td>\n",
       "      <td>small</td>\n",
       "      <td>2010</td>\n",
       "      <td>manual</td>\n",
       "      <td>82</td>\n",
       "      <td>spark</td>\n",
       "      <td>90000</td>\n",
       "      <td>2</td>\n",
       "      <td>petrol</td>\n",
       "      <td>chevrolet</td>\n",
       "      <td>no</td>\n",
       "      <td>2016-03-27 00:00:00</td>\n",
       "      <td>0</td>\n",
       "      <td>21726</td>\n",
       "      <td>2016-04-07 11:45:19</td>\n",
       "    </tr>\n",
       "    <tr>\n",
       "      <th>97968</th>\n",
       "      <td>2016-04-02 02:36:42</td>\n",
       "      <td>6499</td>\n",
       "      <td>sedan</td>\n",
       "      <td>2006</td>\n",
       "      <td>manual</td>\n",
       "      <td>105</td>\n",
       "      <td>golf</td>\n",
       "      <td>150000</td>\n",
       "      <td>6</td>\n",
       "      <td>gasoline</td>\n",
       "      <td>volkswagen</td>\n",
       "      <td>no</td>\n",
       "      <td>2016-04-02 00:00:00</td>\n",
       "      <td>0</td>\n",
       "      <td>44809</td>\n",
       "      <td>2016-04-04 05:47:01</td>\n",
       "    </tr>\n",
       "  </tbody>\n",
       "</table>\n",
       "</div>"
      ],
      "text/plain": [
       "                DateCrawled  Price  VehicleType  RegistrationYear Gearbox  \\\n",
       "258509  2016-03-08 17:39:44    920          NaN              2016     NaN   \n",
       "104850  2016-03-08 18:25:20   3200        small              2003  manual   \n",
       "32012   2016-04-05 00:53:59   2350  convertible              2001  manual   \n",
       "117012  2016-03-06 23:47:00    300        small              1998  manual   \n",
       "186458  2016-04-04 11:45:23   6000        wagon              2008  manual   \n",
       "157171  2016-03-18 20:51:37   5500          NaN              2016     NaN   \n",
       "283979  2016-03-16 11:42:56     10          NaN              2000     NaN   \n",
       "104687  2016-03-16 08:54:32   1200        sedan              2000  manual   \n",
       "116770  2016-03-27 14:55:50   3500        small              2010  manual   \n",
       "97968   2016-04-02 02:36:42   6499        sedan              2006  manual   \n",
       "\n",
       "        Power    Model  Kilometer  RegistrationMonth  FuelType  \\\n",
       "258509     82   zafira     150000                  8  gasoline   \n",
       "104850     58    corsa     150000                  3    petrol   \n",
       "32012     136  2_reihe     150000                  7    petrol   \n",
       "117012     55     polo     150000                  2    petrol   \n",
       "186458    140   passat     150000                 10  gasoline   \n",
       "157171    231      5er     150000                  6       NaN   \n",
       "283979      0      NaN     150000                  1       NaN   \n",
       "104687    106    other     150000                  3    petrol   \n",
       "116770     82    spark      90000                  2    petrol   \n",
       "97968     105     golf     150000                  6  gasoline   \n",
       "\n",
       "                 Brand NotRepaired          DateCreated  NumberOfPictures  \\\n",
       "258509            opel          no  2016-03-08 00:00:00                 0   \n",
       "104850            opel          no  2016-03-08 00:00:00                 0   \n",
       "32012          peugeot          no  2016-04-04 00:00:00                 0   \n",
       "117012      volkswagen         yes  2016-03-06 00:00:00                 0   \n",
       "186458      volkswagen          no  2016-04-04 00:00:00                 0   \n",
       "157171             bmw         NaN  2016-03-18 00:00:00                 0   \n",
       "283979  sonstige_autos         NaN  2016-03-16 00:00:00                 0   \n",
       "104687            fiat         NaN  2016-03-16 00:00:00                 0   \n",
       "116770       chevrolet          no  2016-03-27 00:00:00                 0   \n",
       "97968       volkswagen          no  2016-04-02 00:00:00                 0   \n",
       "\n",
       "        PostalCode             LastSeen  \n",
       "258509       45355  2016-03-09 08:45:48  \n",
       "104850       56294  2016-03-12 19:18:18  \n",
       "32012        68199  2016-04-07 09:46:50  \n",
       "117012       25727  2016-03-10 16:46:51  \n",
       "186458       23970  2016-04-04 11:45:23  \n",
       "157171       65934  2016-03-19 19:28:10  \n",
       "283979       48366  2016-03-21 11:15:18  \n",
       "104687       15834  2016-04-06 01:44:37  \n",
       "116770       21726  2016-04-07 11:45:19  \n",
       "97968        44809  2016-04-04 05:47:01  "
      ]
     },
     "execution_count": 4,
     "metadata": {},
     "output_type": "execute_result"
    }
   ],
   "source": [
    "df.sample(10)"
   ]
  },
  {
   "cell_type": "code",
   "execution_count": 5,
   "metadata": {},
   "outputs": [
    {
     "data": {
      "text/plain": [
       "(354369, 16)"
      ]
     },
     "execution_count": 5,
     "metadata": {},
     "output_type": "execute_result"
    }
   ],
   "source": [
    "df.shape"
   ]
  },
  {
   "cell_type": "code",
   "execution_count": 6,
   "metadata": {
    "scrolled": true
   },
   "outputs": [
    {
     "name": "stdout",
     "output_type": "stream",
     "text": [
      "<class 'pandas.core.frame.DataFrame'>\n",
      "RangeIndex: 354369 entries, 0 to 354368\n",
      "Data columns (total 16 columns):\n",
      " #   Column             Non-Null Count   Dtype \n",
      "---  ------             --------------   ----- \n",
      " 0   DateCrawled        354369 non-null  object\n",
      " 1   Price              354369 non-null  int64 \n",
      " 2   VehicleType        316879 non-null  object\n",
      " 3   RegistrationYear   354369 non-null  int64 \n",
      " 4   Gearbox            334536 non-null  object\n",
      " 5   Power              354369 non-null  int64 \n",
      " 6   Model              334664 non-null  object\n",
      " 7   Kilometer          354369 non-null  int64 \n",
      " 8   RegistrationMonth  354369 non-null  int64 \n",
      " 9   FuelType           321474 non-null  object\n",
      " 10  Brand              354369 non-null  object\n",
      " 11  NotRepaired        283215 non-null  object\n",
      " 12  DateCreated        354369 non-null  object\n",
      " 13  NumberOfPictures   354369 non-null  int64 \n",
      " 14  PostalCode         354369 non-null  int64 \n",
      " 15  LastSeen           354369 non-null  object\n",
      "dtypes: int64(7), object(9)\n",
      "memory usage: 43.3+ MB\n"
     ]
    }
   ],
   "source": [
    "df.info()"
   ]
  },
  {
   "cell_type": "markdown",
   "metadata": {},
   "source": [
    "Признаки:\n",
    "\n",
    "- DateCrawled — дата скачивания анкеты из базы\n",
    "- VehicleType — тип автомобильного кузова\n",
    "- RegistrationYear — год регистрации автомобиля\n",
    "- Gearbox — тип коробки передач\n",
    "- Power — мощность (л. с.)\n",
    "- Model — модель автомобиля\n",
    "- Kilometer — пробег (км)\n",
    "- RegistrationMonth — месяц регистрации автомобиля\n",
    "- FuelType — тип топлива\n",
    "- Brand — марка автомобиля\n",
    "- NotRepaired — была машина в ремонте или нет\n",
    "- DateCreated — дата создания анкеты\n",
    "- NumberOfPictures — количество фотографий автомобиля\n",
    "- PostalCode — почтовый индекс владельца анкеты (пользователя)\n",
    "- LastSeen — дата последней активности пользователя\n",
    "\n",
    "Целевой признак:\n",
    "\n",
    "- Price — цена (евро)"
   ]
  },
  {
   "cell_type": "markdown",
   "metadata": {},
   "source": [
    "#### Проверим дубликаты"
   ]
  },
  {
   "cell_type": "code",
   "execution_count": 7,
   "metadata": {},
   "outputs": [
    {
     "data": {
      "text/plain": [
       "4"
      ]
     },
     "execution_count": 7,
     "metadata": {},
     "output_type": "execute_result"
    }
   ],
   "source": [
    "df.duplicated().sum()"
   ]
  },
  {
   "cell_type": "markdown",
   "metadata": {},
   "source": [
    "удалим"
   ]
  },
  {
   "cell_type": "code",
   "execution_count": 8,
   "metadata": {},
   "outputs": [
    {
     "data": {
      "text/plain": [
       "0"
      ]
     },
     "execution_count": 8,
     "metadata": {},
     "output_type": "execute_result"
    }
   ],
   "source": [
    "df = df.drop_duplicates()\n",
    "df.duplicated().sum()"
   ]
  },
  {
   "cell_type": "markdown",
   "metadata": {},
   "source": [
    "дубликатов больше нет"
   ]
  },
  {
   "cell_type": "markdown",
   "metadata": {},
   "source": [
    "Приведем названия признаков к нижнему регистру "
   ]
  },
  {
   "cell_type": "code",
   "execution_count": 9,
   "metadata": {},
   "outputs": [],
   "source": [
    "df.columns = df.columns.str.lower()\n",
    "df.columns = [ 'date_crawled' , 'price' , 'vehicle_type' , 'registration_year' , 'gearbox' ,\n",
    "               'power' , 'model' , 'kilometer' , 'registration_month' , 'fuel_type' , 'brand' ,\n",
    "               'not_repaired' , 'date_created' , 'number_of_pictures' , 'postal_code' ,\n",
    "               'last_seen' ]"
   ]
  },
  {
   "cell_type": "markdown",
   "metadata": {},
   "source": [
    "#### Пропуски\n"
   ]
  },
  {
   "cell_type": "code",
   "execution_count": 10,
   "metadata": {
    "scrolled": false
   },
   "outputs": [
    {
     "data": {
      "text/plain": [
       "not_repaired          0.200793\n",
       "vehicle_type          0.105795\n",
       "fuel_type             0.092828\n",
       "gearbox               0.055968\n",
       "model                 0.055607\n",
       "date_crawled          0.000000\n",
       "price                 0.000000\n",
       "registration_year     0.000000\n",
       "power                 0.000000\n",
       "kilometer             0.000000\n",
       "registration_month    0.000000\n",
       "brand                 0.000000\n",
       "date_created          0.000000\n",
       "number_of_pictures    0.000000\n",
       "postal_code           0.000000\n",
       "last_seen             0.000000\n",
       "dtype: float64"
      ]
     },
     "execution_count": 10,
     "metadata": {},
     "output_type": "execute_result"
    }
   ],
   "source": [
    "df.isna().mean().sort_values(ascending=False)"
   ]
  },
  {
   "cell_type": "markdown",
   "metadata": {},
   "source": [
    "Пропуски есть в 5 признаках - not_repaired, vehicle_type, fuel_type, gearbox, model\n",
    "\n",
    "- not_repaired - возможно клиент не сообщил о факте отсутствия ремонта, либо автомобиль подвергался ремонту, и данные отсутствуют в зависимости от неизвестных факторов.  \n",
    "- vehicle_type - вероятно клиент не сообщил о типе кузова\n",
    "- fuel_type - клиент не заполнил информацию либо не знал\n",
    "- gearbox, model - клиент не заполнил информацию либо не знал\n",
    "\n",
    "Некоторые из признаков с пропусками действиетльно важны и сильно влияют на целевой признак (цену) поэтому удалять пропуски не будем, а заменим их значениями `unknown`\n"
   ]
  },
  {
   "cell_type": "code",
   "execution_count": 11,
   "metadata": {},
   "outputs": [],
   "source": [
    "nan_columns = ['not_repaired', 'vehicle_type', 'fuel_type', 'gearbox', 'model']\n",
    "df[nan_columns] = df[nan_columns].fillna('unknown')"
   ]
  },
  {
   "cell_type": "markdown",
   "metadata": {},
   "source": [
    "Проверим значения"
   ]
  },
  {
   "cell_type": "code",
   "execution_count": 12,
   "metadata": {
    "scrolled": true
   },
   "outputs": [
    {
     "data": {
      "text/html": [
       "<div>\n",
       "<style scoped>\n",
       "    .dataframe tbody tr th:only-of-type {\n",
       "        vertical-align: middle;\n",
       "    }\n",
       "\n",
       "    .dataframe tbody tr th {\n",
       "        vertical-align: top;\n",
       "    }\n",
       "\n",
       "    .dataframe thead th {\n",
       "        text-align: right;\n",
       "    }\n",
       "</style>\n",
       "<table border=\"1\" class=\"dataframe\">\n",
       "  <thead>\n",
       "    <tr style=\"text-align: right;\">\n",
       "      <th></th>\n",
       "      <th>price</th>\n",
       "      <th>registration_year</th>\n",
       "      <th>power</th>\n",
       "      <th>kilometer</th>\n",
       "      <th>registration_month</th>\n",
       "      <th>number_of_pictures</th>\n",
       "      <th>postal_code</th>\n",
       "    </tr>\n",
       "  </thead>\n",
       "  <tbody>\n",
       "    <tr>\n",
       "      <th>count</th>\n",
       "      <td>354365.000000</td>\n",
       "      <td>354365.000000</td>\n",
       "      <td>354365.000000</td>\n",
       "      <td>354365.000000</td>\n",
       "      <td>354365.000000</td>\n",
       "      <td>354365.0</td>\n",
       "      <td>354365.000000</td>\n",
       "    </tr>\n",
       "    <tr>\n",
       "      <th>mean</th>\n",
       "      <td>4416.679830</td>\n",
       "      <td>2004.234481</td>\n",
       "      <td>110.093816</td>\n",
       "      <td>128211.363989</td>\n",
       "      <td>5.714650</td>\n",
       "      <td>0.0</td>\n",
       "      <td>50508.503800</td>\n",
       "    </tr>\n",
       "    <tr>\n",
       "      <th>std</th>\n",
       "      <td>4514.176349</td>\n",
       "      <td>90.228466</td>\n",
       "      <td>189.851330</td>\n",
       "      <td>37905.083858</td>\n",
       "      <td>3.726432</td>\n",
       "      <td>0.0</td>\n",
       "      <td>25783.100078</td>\n",
       "    </tr>\n",
       "    <tr>\n",
       "      <th>min</th>\n",
       "      <td>0.000000</td>\n",
       "      <td>1000.000000</td>\n",
       "      <td>0.000000</td>\n",
       "      <td>5000.000000</td>\n",
       "      <td>0.000000</td>\n",
       "      <td>0.0</td>\n",
       "      <td>1067.000000</td>\n",
       "    </tr>\n",
       "    <tr>\n",
       "      <th>25%</th>\n",
       "      <td>1050.000000</td>\n",
       "      <td>1999.000000</td>\n",
       "      <td>69.000000</td>\n",
       "      <td>125000.000000</td>\n",
       "      <td>3.000000</td>\n",
       "      <td>0.0</td>\n",
       "      <td>30165.000000</td>\n",
       "    </tr>\n",
       "    <tr>\n",
       "      <th>50%</th>\n",
       "      <td>2700.000000</td>\n",
       "      <td>2003.000000</td>\n",
       "      <td>105.000000</td>\n",
       "      <td>150000.000000</td>\n",
       "      <td>6.000000</td>\n",
       "      <td>0.0</td>\n",
       "      <td>49413.000000</td>\n",
       "    </tr>\n",
       "    <tr>\n",
       "      <th>75%</th>\n",
       "      <td>6400.000000</td>\n",
       "      <td>2008.000000</td>\n",
       "      <td>143.000000</td>\n",
       "      <td>150000.000000</td>\n",
       "      <td>9.000000</td>\n",
       "      <td>0.0</td>\n",
       "      <td>71083.000000</td>\n",
       "    </tr>\n",
       "    <tr>\n",
       "      <th>max</th>\n",
       "      <td>20000.000000</td>\n",
       "      <td>9999.000000</td>\n",
       "      <td>20000.000000</td>\n",
       "      <td>150000.000000</td>\n",
       "      <td>12.000000</td>\n",
       "      <td>0.0</td>\n",
       "      <td>99998.000000</td>\n",
       "    </tr>\n",
       "  </tbody>\n",
       "</table>\n",
       "</div>"
      ],
      "text/plain": [
       "               price  registration_year          power      kilometer  \\\n",
       "count  354365.000000      354365.000000  354365.000000  354365.000000   \n",
       "mean     4416.679830        2004.234481     110.093816  128211.363989   \n",
       "std      4514.176349          90.228466     189.851330   37905.083858   \n",
       "min         0.000000        1000.000000       0.000000    5000.000000   \n",
       "25%      1050.000000        1999.000000      69.000000  125000.000000   \n",
       "50%      2700.000000        2003.000000     105.000000  150000.000000   \n",
       "75%      6400.000000        2008.000000     143.000000  150000.000000   \n",
       "max     20000.000000        9999.000000   20000.000000  150000.000000   \n",
       "\n",
       "       registration_month  number_of_pictures    postal_code  \n",
       "count       354365.000000            354365.0  354365.000000  \n",
       "mean             5.714650                 0.0   50508.503800  \n",
       "std              3.726432                 0.0   25783.100078  \n",
       "min              0.000000                 0.0    1067.000000  \n",
       "25%              3.000000                 0.0   30165.000000  \n",
       "50%              6.000000                 0.0   49413.000000  \n",
       "75%              9.000000                 0.0   71083.000000  \n",
       "max             12.000000                 0.0   99998.000000  "
      ]
     },
     "execution_count": 12,
     "metadata": {},
     "output_type": "execute_result"
    }
   ],
   "source": [
    "df.describe()"
   ]
  },
  {
   "cell_type": "markdown",
   "metadata": {},
   "source": [
    "Имеются  аномалии в признаки `registration_year` - min не может быть равен 1000.0, а max 9999\n",
    "Также для признака `power` аномальное значения мощности (max) - 20 000 л.с. - это возможно только для реактивных двигателей, и данные значения выбиваются из общей массы - большая часть сета - автомобили с мощностью до 143 л.с.\n",
    "В столбце `price` есть аномальное значение 0. В столбце `kilometer` странные значение 150 000 км. Возможно на сайте стоит какое-то огрничение или значение по умолчанию в 150000.\n"
   ]
  },
  {
   "cell_type": "markdown",
   "metadata": {},
   "source": [
    "Удалим неинформативные признаки, ненужные при обучении моделей.\n",
    "\n",
    "- date_crawled — дата скачивания анкеты из базы \n",
    "- registration_month — месяц регистрации автомобиля - достаточно года регистрации\n",
    "- date_created — дата создания анкеты  \n",
    "- number_of_pictures — количество фотографий автомобиля - \n",
    "- postalcode — почтовый индекс владельца анкеты (клиента)  не интересует география клиента, а рынок в целом\n",
    "- last_seen — дата последней активности клиента  "
   ]
  },
  {
   "cell_type": "code",
   "execution_count": 13,
   "metadata": {},
   "outputs": [],
   "source": [
    "df = df.drop(['date_crawled', 'registration_month', 'date_created', \n",
    "        'number_of_pictures', 'postal_code', 'last_seen'], axis=1)"
   ]
  },
  {
   "cell_type": "code",
   "execution_count": 14,
   "metadata": {
    "scrolled": true
   },
   "outputs": [
    {
     "data": {
      "text/html": [
       "<div>\n",
       "<style scoped>\n",
       "    .dataframe tbody tr th:only-of-type {\n",
       "        vertical-align: middle;\n",
       "    }\n",
       "\n",
       "    .dataframe tbody tr th {\n",
       "        vertical-align: top;\n",
       "    }\n",
       "\n",
       "    .dataframe thead th {\n",
       "        text-align: right;\n",
       "    }\n",
       "</style>\n",
       "<table border=\"1\" class=\"dataframe\">\n",
       "  <thead>\n",
       "    <tr style=\"text-align: right;\">\n",
       "      <th></th>\n",
       "      <th>price</th>\n",
       "      <th>vehicle_type</th>\n",
       "      <th>registration_year</th>\n",
       "      <th>gearbox</th>\n",
       "      <th>power</th>\n",
       "      <th>model</th>\n",
       "      <th>kilometer</th>\n",
       "      <th>fuel_type</th>\n",
       "      <th>brand</th>\n",
       "      <th>not_repaired</th>\n",
       "    </tr>\n",
       "  </thead>\n",
       "  <tbody>\n",
       "    <tr>\n",
       "      <th>0</th>\n",
       "      <td>480</td>\n",
       "      <td>unknown</td>\n",
       "      <td>1993</td>\n",
       "      <td>manual</td>\n",
       "      <td>0</td>\n",
       "      <td>golf</td>\n",
       "      <td>150000</td>\n",
       "      <td>petrol</td>\n",
       "      <td>volkswagen</td>\n",
       "      <td>unknown</td>\n",
       "    </tr>\n",
       "    <tr>\n",
       "      <th>1</th>\n",
       "      <td>18300</td>\n",
       "      <td>coupe</td>\n",
       "      <td>2011</td>\n",
       "      <td>manual</td>\n",
       "      <td>190</td>\n",
       "      <td>unknown</td>\n",
       "      <td>125000</td>\n",
       "      <td>gasoline</td>\n",
       "      <td>audi</td>\n",
       "      <td>yes</td>\n",
       "    </tr>\n",
       "    <tr>\n",
       "      <th>2</th>\n",
       "      <td>9800</td>\n",
       "      <td>suv</td>\n",
       "      <td>2004</td>\n",
       "      <td>auto</td>\n",
       "      <td>163</td>\n",
       "      <td>grand</td>\n",
       "      <td>125000</td>\n",
       "      <td>gasoline</td>\n",
       "      <td>jeep</td>\n",
       "      <td>unknown</td>\n",
       "    </tr>\n",
       "    <tr>\n",
       "      <th>3</th>\n",
       "      <td>1500</td>\n",
       "      <td>small</td>\n",
       "      <td>2001</td>\n",
       "      <td>manual</td>\n",
       "      <td>75</td>\n",
       "      <td>golf</td>\n",
       "      <td>150000</td>\n",
       "      <td>petrol</td>\n",
       "      <td>volkswagen</td>\n",
       "      <td>no</td>\n",
       "    </tr>\n",
       "    <tr>\n",
       "      <th>4</th>\n",
       "      <td>3600</td>\n",
       "      <td>small</td>\n",
       "      <td>2008</td>\n",
       "      <td>manual</td>\n",
       "      <td>69</td>\n",
       "      <td>fabia</td>\n",
       "      <td>90000</td>\n",
       "      <td>gasoline</td>\n",
       "      <td>skoda</td>\n",
       "      <td>no</td>\n",
       "    </tr>\n",
       "  </tbody>\n",
       "</table>\n",
       "</div>"
      ],
      "text/plain": [
       "   price vehicle_type  registration_year gearbox  power    model  kilometer  \\\n",
       "0    480      unknown               1993  manual      0     golf     150000   \n",
       "1  18300        coupe               2011  manual    190  unknown     125000   \n",
       "2   9800          suv               2004    auto    163    grand     125000   \n",
       "3   1500        small               2001  manual     75     golf     150000   \n",
       "4   3600        small               2008  manual     69    fabia      90000   \n",
       "\n",
       "  fuel_type       brand not_repaired  \n",
       "0    petrol  volkswagen      unknown  \n",
       "1  gasoline        audi          yes  \n",
       "2  gasoline        jeep      unknown  \n",
       "3    petrol  volkswagen           no  \n",
       "4  gasoline       skoda           no  "
      ]
     },
     "execution_count": 14,
     "metadata": {},
     "output_type": "execute_result"
    }
   ],
   "source": [
    "df.head()"
   ]
  },
  {
   "cell_type": "markdown",
   "metadata": {},
   "source": [
    "#### Обработка аномалий"
   ]
  },
  {
   "cell_type": "code",
   "execution_count": 15,
   "metadata": {},
   "outputs": [
    {
     "data": {
      "image/png": "[encoded data removed]",
      "text/plain": [
       "<Figure size 1440x1080 with 4 Axes>"
      ]
     },
     "metadata": {
      "needs_background": "light"
     },
     "output_type": "display_data"
    }
   ],
   "source": [
    "df.hist(bins=100, figsize=(20,15), edgecolor='grey', linewidth=2)\n",
    "plt.show()"
   ]
  },
  {
   "cell_type": "code",
   "execution_count": 16,
   "metadata": {},
   "outputs": [
    {
     "data": {
      "text/html": [
       "<div>\n",
       "<style scoped>\n",
       "    .dataframe tbody tr th:only-of-type {\n",
       "        vertical-align: middle;\n",
       "    }\n",
       "\n",
       "    .dataframe tbody tr th {\n",
       "        vertical-align: top;\n",
       "    }\n",
       "\n",
       "    .dataframe thead th {\n",
       "        text-align: right;\n",
       "    }\n",
       "</style>\n",
       "<table border=\"1\" class=\"dataframe\">\n",
       "  <thead>\n",
       "    <tr style=\"text-align: right;\">\n",
       "      <th></th>\n",
       "      <th>price</th>\n",
       "      <th>registration_year</th>\n",
       "      <th>power</th>\n",
       "      <th>kilometer</th>\n",
       "    </tr>\n",
       "  </thead>\n",
       "  <tbody>\n",
       "    <tr>\n",
       "      <th>count</th>\n",
       "      <td>354365.000000</td>\n",
       "      <td>354365.000000</td>\n",
       "      <td>354365.000000</td>\n",
       "      <td>354365.000000</td>\n",
       "    </tr>\n",
       "    <tr>\n",
       "      <th>mean</th>\n",
       "      <td>4416.679830</td>\n",
       "      <td>2004.234481</td>\n",
       "      <td>110.093816</td>\n",
       "      <td>128211.363989</td>\n",
       "    </tr>\n",
       "    <tr>\n",
       "      <th>std</th>\n",
       "      <td>4514.176349</td>\n",
       "      <td>90.228466</td>\n",
       "      <td>189.851330</td>\n",
       "      <td>37905.083858</td>\n",
       "    </tr>\n",
       "    <tr>\n",
       "      <th>min</th>\n",
       "      <td>0.000000</td>\n",
       "      <td>1000.000000</td>\n",
       "      <td>0.000000</td>\n",
       "      <td>5000.000000</td>\n",
       "    </tr>\n",
       "    <tr>\n",
       "      <th>25%</th>\n",
       "      <td>1050.000000</td>\n",
       "      <td>1999.000000</td>\n",
       "      <td>69.000000</td>\n",
       "      <td>125000.000000</td>\n",
       "    </tr>\n",
       "    <tr>\n",
       "      <th>50%</th>\n",
       "      <td>2700.000000</td>\n",
       "      <td>2003.000000</td>\n",
       "      <td>105.000000</td>\n",
       "      <td>150000.000000</td>\n",
       "    </tr>\n",
       "    <tr>\n",
       "      <th>75%</th>\n",
       "      <td>6400.000000</td>\n",
       "      <td>2008.000000</td>\n",
       "      <td>143.000000</td>\n",
       "      <td>150000.000000</td>\n",
       "    </tr>\n",
       "    <tr>\n",
       "      <th>max</th>\n",
       "      <td>20000.000000</td>\n",
       "      <td>9999.000000</td>\n",
       "      <td>20000.000000</td>\n",
       "      <td>150000.000000</td>\n",
       "    </tr>\n",
       "  </tbody>\n",
       "</table>\n",
       "</div>"
      ],
      "text/plain": [
       "               price  registration_year          power      kilometer\n",
       "count  354365.000000      354365.000000  354365.000000  354365.000000\n",
       "mean     4416.679830        2004.234481     110.093816  128211.363989\n",
       "std      4514.176349          90.228466     189.851330   37905.083858\n",
       "min         0.000000        1000.000000       0.000000    5000.000000\n",
       "25%      1050.000000        1999.000000      69.000000  125000.000000\n",
       "50%      2700.000000        2003.000000     105.000000  150000.000000\n",
       "75%      6400.000000        2008.000000     143.000000  150000.000000\n",
       "max     20000.000000        9999.000000   20000.000000  150000.000000"
      ]
     },
     "execution_count": 16,
     "metadata": {},
     "output_type": "execute_result"
    }
   ],
   "source": [
    "df.describe()"
   ]
  },
  {
   "cell_type": "markdown",
   "metadata": {},
   "source": [
    "Аномалии в признаках мощность и год регистрации, также есть проблемы с целевым столбцом цены - есть нулевые значения.\n",
    "\n",
    "год регистрации не может быть больше 2022, и маловероятно может быть меньше 1943 (довоенного времени).\n",
    "Макисмальную мощность ограничим 1000 л.с. (большинство тягачей и фур имеют мощность до 1000)"
   ]
  },
  {
   "cell_type": "markdown",
   "metadata": {},
   "source": [
    "аномалии registration_year"
   ]
  },
  {
   "cell_type": "code",
   "execution_count": 17,
   "metadata": {},
   "outputs": [
    {
     "data": {
      "text/plain": [
       "<AxesSubplot:xlabel='registration_year'>"
      ]
     },
     "execution_count": 17,
     "metadata": {},
     "output_type": "execute_result"
    },
    {
     "data": {
      "image/png": "[encoded data removed]",
      "text/plain": [
       "<Figure size 432x288 with 1 Axes>"
      ]
     },
     "metadata": {
      "needs_background": "light"
     },
     "output_type": "display_data"
    }
   ],
   "source": [
    "df=df.loc[(df['registration_year']>1943)& (df['registration_year']<2017)]\n",
    "sns.boxplot(df['registration_year'])"
   ]
  },
  {
   "cell_type": "markdown",
   "metadata": {},
   "source": [
    "аномалии power"
   ]
  },
  {
   "cell_type": "code",
   "execution_count": 18,
   "metadata": {
    "scrolled": true
   },
   "outputs": [
    {
     "data": {
      "text/plain": [
       "<AxesSubplot:xlabel='power'>"
      ]
     },
     "execution_count": 18,
     "metadata": {},
     "output_type": "execute_result"
    },
    {
     "data": {
      "image/png": "[encoded data removed]",
      "text/plain": [
       "<Figure size 432x288 with 1 Axes>"
      ]
     },
     "metadata": {
      "needs_background": "light"
     },
     "output_type": "display_data"
    }
   ],
   "source": [
    "df=df.loc[(df['power']>=0)&(df['power']<1001)]\n",
    "sns.boxplot(df['power'])"
   ]
  },
  {
   "cell_type": "markdown",
   "metadata": {},
   "source": [
    "аномалии price. Установим минимально значение в 50 евро. Такое возможно если авто не на ходу и продается на запчасти либо на лом."
   ]
  },
  {
   "cell_type": "code",
   "execution_count": 19,
   "metadata": {
    "scrolled": true
   },
   "outputs": [
    {
     "data": {
      "text/plain": [
       "<AxesSubplot:xlabel='price'>"
      ]
     },
     "execution_count": 19,
     "metadata": {},
     "output_type": "execute_result"
    },
    {
     "data": {
      "image/png": "[encoded data removed]",
      "text/plain": [
       "<Figure size 432x288 with 1 Axes>"
      ]
     },
     "metadata": {
      "needs_background": "light"
     },
     "output_type": "display_data"
    }
   ],
   "source": [
    "df=df.loc[(df['price'] > 50)]\n",
    "sns.boxplot(df['price'])"
   ]
  },
  {
   "cell_type": "markdown",
   "metadata": {},
   "source": [
    "\n",
    "<div class=\"alert alert-block alert-info\">\n",
    "<b>Совет:</b>  \n",
    "Самое интересное, что на нескольких сайтов по продажам подержанных автомобилей в Германии (страну можно определить по почтовым индексам, большинство из них из Германии) показало, что цены начинаются действительно с 0 и 1 евро, но это единичные объявления и не понятно, то ли это ошибка при заполнении формы, то ли машины на металлолом. Но я  все-таки склоняюсь к тому, чтобы избавиться от таких данных\n",
    "</div>\n"
   ]
  },
  {
   "cell_type": "code",
   "execution_count": 20,
   "metadata": {
    "scrolled": true
   },
   "outputs": [
    {
     "data": {
      "text/html": [
       "<div>\n",
       "<style scoped>\n",
       "    .dataframe tbody tr th:only-of-type {\n",
       "        vertical-align: middle;\n",
       "    }\n",
       "\n",
       "    .dataframe tbody tr th {\n",
       "        vertical-align: top;\n",
       "    }\n",
       "\n",
       "    .dataframe thead th {\n",
       "        text-align: right;\n",
       "    }\n",
       "</style>\n",
       "<table border=\"1\" class=\"dataframe\">\n",
       "  <thead>\n",
       "    <tr style=\"text-align: right;\">\n",
       "      <th></th>\n",
       "      <th>price</th>\n",
       "      <th>registration_year</th>\n",
       "      <th>power</th>\n",
       "      <th>kilometer</th>\n",
       "    </tr>\n",
       "  </thead>\n",
       "  <tbody>\n",
       "    <tr>\n",
       "      <th>count</th>\n",
       "      <td>327519.000000</td>\n",
       "      <td>327519.000000</td>\n",
       "      <td>327519.000000</td>\n",
       "      <td>327519.000000</td>\n",
       "    </tr>\n",
       "    <tr>\n",
       "      <th>mean</th>\n",
       "      <td>4634.171294</td>\n",
       "      <td>2002.640934</td>\n",
       "      <td>109.008992</td>\n",
       "      <td>128357.225077</td>\n",
       "    </tr>\n",
       "    <tr>\n",
       "      <th>std</th>\n",
       "      <td>4545.968062</td>\n",
       "      <td>6.740362</td>\n",
       "      <td>63.151211</td>\n",
       "      <td>37266.417489</td>\n",
       "    </tr>\n",
       "    <tr>\n",
       "      <th>min</th>\n",
       "      <td>55.000000</td>\n",
       "      <td>1944.000000</td>\n",
       "      <td>0.000000</td>\n",
       "      <td>5000.000000</td>\n",
       "    </tr>\n",
       "    <tr>\n",
       "      <th>25%</th>\n",
       "      <td>1200.000000</td>\n",
       "      <td>1999.000000</td>\n",
       "      <td>71.000000</td>\n",
       "      <td>125000.000000</td>\n",
       "    </tr>\n",
       "    <tr>\n",
       "      <th>50%</th>\n",
       "      <td>2950.000000</td>\n",
       "      <td>2003.000000</td>\n",
       "      <td>105.000000</td>\n",
       "      <td>150000.000000</td>\n",
       "    </tr>\n",
       "    <tr>\n",
       "      <th>75%</th>\n",
       "      <td>6700.000000</td>\n",
       "      <td>2007.000000</td>\n",
       "      <td>143.000000</td>\n",
       "      <td>150000.000000</td>\n",
       "    </tr>\n",
       "    <tr>\n",
       "      <th>max</th>\n",
       "      <td>20000.000000</td>\n",
       "      <td>2016.000000</td>\n",
       "      <td>1000.000000</td>\n",
       "      <td>150000.000000</td>\n",
       "    </tr>\n",
       "  </tbody>\n",
       "</table>\n",
       "</div>"
      ],
      "text/plain": [
       "               price  registration_year          power      kilometer\n",
       "count  327519.000000      327519.000000  327519.000000  327519.000000\n",
       "mean     4634.171294        2002.640934     109.008992  128357.225077\n",
       "std      4545.968062           6.740362      63.151211   37266.417489\n",
       "min        55.000000        1944.000000       0.000000    5000.000000\n",
       "25%      1200.000000        1999.000000      71.000000  125000.000000\n",
       "50%      2950.000000        2003.000000     105.000000  150000.000000\n",
       "75%      6700.000000        2007.000000     143.000000  150000.000000\n",
       "max     20000.000000        2016.000000    1000.000000  150000.000000"
      ]
     },
     "execution_count": 20,
     "metadata": {},
     "output_type": "execute_result"
    }
   ],
   "source": [
    "df.describe()"
   ]
  },
  {
   "cell_type": "code",
   "execution_count": 21,
   "metadata": {},
   "outputs": [
    {
     "data": {
      "image/png": "[encoded data removed]",
      "text/plain": [
       "<Figure size 1440x1080 with 4 Axes>"
      ]
     },
     "metadata": {
      "needs_background": "light"
     },
     "output_type": "display_data"
    }
   ],
   "source": [
    "df.hist(bins=100, figsize=(20,15), edgecolor='grey', linewidth=2)\n",
    "plt.show()"
   ]
  },
  {
   "cell_type": "code",
   "execution_count": 22,
   "metadata": {
    "scrolled": true
   },
   "outputs": [
    {
     "name": "stdout",
     "output_type": "stream",
     "text": [
      "<class 'pandas.core.frame.DataFrame'>\n",
      "Int64Index: 327519 entries, 0 to 354368\n",
      "Data columns (total 10 columns):\n",
      " #   Column             Non-Null Count   Dtype \n",
      "---  ------             --------------   ----- \n",
      " 0   price              327519 non-null  int64 \n",
      " 1   vehicle_type       327519 non-null  object\n",
      " 2   registration_year  327519 non-null  int64 \n",
      " 3   gearbox            327519 non-null  object\n",
      " 4   power              327519 non-null  int64 \n",
      " 5   model              327519 non-null  object\n",
      " 6   kilometer          327519 non-null  int64 \n",
      " 7   fuel_type          327519 non-null  object\n",
      " 8   brand              327519 non-null  object\n",
      " 9   not_repaired       327519 non-null  object\n",
      "dtypes: int64(4), object(6)\n",
      "memory usage: 27.5+ MB\n"
     ]
    }
   ],
   "source": [
    "df.info()"
   ]
  },
  {
   "cell_type": "code",
   "execution_count": 23,
   "metadata": {
    "scrolled": false
   },
   "outputs": [
    {
     "data": {
      "text/html": [
       "<div>\n",
       "<style scoped>\n",
       "    .dataframe tbody tr th:only-of-type {\n",
       "        vertical-align: middle;\n",
       "    }\n",
       "\n",
       "    .dataframe tbody tr th {\n",
       "        vertical-align: top;\n",
       "    }\n",
       "\n",
       "    .dataframe thead th {\n",
       "        text-align: right;\n",
       "    }\n",
       "</style>\n",
       "<table border=\"1\" class=\"dataframe\">\n",
       "  <thead>\n",
       "    <tr style=\"text-align: right;\">\n",
       "      <th></th>\n",
       "      <th>price</th>\n",
       "      <th>vehicle_type</th>\n",
       "      <th>registration_year</th>\n",
       "      <th>gearbox</th>\n",
       "      <th>power</th>\n",
       "      <th>model</th>\n",
       "      <th>kilometer</th>\n",
       "      <th>fuel_type</th>\n",
       "      <th>brand</th>\n",
       "      <th>not_repaired</th>\n",
       "    </tr>\n",
       "  </thead>\n",
       "  <tbody>\n",
       "    <tr>\n",
       "      <th>118931</th>\n",
       "      <td>3899</td>\n",
       "      <td>convertible</td>\n",
       "      <td>2003</td>\n",
       "      <td>manual</td>\n",
       "      <td>147</td>\n",
       "      <td>astra</td>\n",
       "      <td>125000</td>\n",
       "      <td>petrol</td>\n",
       "      <td>opel</td>\n",
       "      <td>no</td>\n",
       "    </tr>\n",
       "    <tr>\n",
       "      <th>162226</th>\n",
       "      <td>1950</td>\n",
       "      <td>sedan</td>\n",
       "      <td>1999</td>\n",
       "      <td>manual</td>\n",
       "      <td>116</td>\n",
       "      <td>beetle</td>\n",
       "      <td>150000</td>\n",
       "      <td>petrol</td>\n",
       "      <td>volkswagen</td>\n",
       "      <td>no</td>\n",
       "    </tr>\n",
       "    <tr>\n",
       "      <th>20721</th>\n",
       "      <td>4250</td>\n",
       "      <td>sedan</td>\n",
       "      <td>2001</td>\n",
       "      <td>manual</td>\n",
       "      <td>118</td>\n",
       "      <td>3er</td>\n",
       "      <td>150000</td>\n",
       "      <td>petrol</td>\n",
       "      <td>bmw</td>\n",
       "      <td>no</td>\n",
       "    </tr>\n",
       "    <tr>\n",
       "      <th>305250</th>\n",
       "      <td>1150</td>\n",
       "      <td>small</td>\n",
       "      <td>2000</td>\n",
       "      <td>manual</td>\n",
       "      <td>60</td>\n",
       "      <td>punto</td>\n",
       "      <td>150000</td>\n",
       "      <td>petrol</td>\n",
       "      <td>fiat</td>\n",
       "      <td>no</td>\n",
       "    </tr>\n",
       "    <tr>\n",
       "      <th>56058</th>\n",
       "      <td>1799</td>\n",
       "      <td>sedan</td>\n",
       "      <td>1998</td>\n",
       "      <td>manual</td>\n",
       "      <td>75</td>\n",
       "      <td>golf</td>\n",
       "      <td>150000</td>\n",
       "      <td>petrol</td>\n",
       "      <td>volkswagen</td>\n",
       "      <td>no</td>\n",
       "    </tr>\n",
       "    <tr>\n",
       "      <th>10264</th>\n",
       "      <td>10950</td>\n",
       "      <td>sedan</td>\n",
       "      <td>2011</td>\n",
       "      <td>manual</td>\n",
       "      <td>105</td>\n",
       "      <td>golf</td>\n",
       "      <td>100000</td>\n",
       "      <td>gasoline</td>\n",
       "      <td>volkswagen</td>\n",
       "      <td>no</td>\n",
       "    </tr>\n",
       "    <tr>\n",
       "      <th>175902</th>\n",
       "      <td>2390</td>\n",
       "      <td>bus</td>\n",
       "      <td>2004</td>\n",
       "      <td>manual</td>\n",
       "      <td>118</td>\n",
       "      <td>c_max</td>\n",
       "      <td>150000</td>\n",
       "      <td>gasoline</td>\n",
       "      <td>ford</td>\n",
       "      <td>no</td>\n",
       "    </tr>\n",
       "    <tr>\n",
       "      <th>19048</th>\n",
       "      <td>450</td>\n",
       "      <td>bus</td>\n",
       "      <td>1997</td>\n",
       "      <td>manual</td>\n",
       "      <td>75</td>\n",
       "      <td>berlingo</td>\n",
       "      <td>150000</td>\n",
       "      <td>unknown</td>\n",
       "      <td>citroen</td>\n",
       "      <td>unknown</td>\n",
       "    </tr>\n",
       "    <tr>\n",
       "      <th>257059</th>\n",
       "      <td>8500</td>\n",
       "      <td>bus</td>\n",
       "      <td>2011</td>\n",
       "      <td>manual</td>\n",
       "      <td>120</td>\n",
       "      <td>other</td>\n",
       "      <td>125000</td>\n",
       "      <td>gasoline</td>\n",
       "      <td>peugeot</td>\n",
       "      <td>no</td>\n",
       "    </tr>\n",
       "    <tr>\n",
       "      <th>354310</th>\n",
       "      <td>1650</td>\n",
       "      <td>bus</td>\n",
       "      <td>2002</td>\n",
       "      <td>manual</td>\n",
       "      <td>66</td>\n",
       "      <td>vito</td>\n",
       "      <td>150000</td>\n",
       "      <td>gasoline</td>\n",
       "      <td>mercedes_benz</td>\n",
       "      <td>no</td>\n",
       "    </tr>\n",
       "  </tbody>\n",
       "</table>\n",
       "</div>"
      ],
      "text/plain": [
       "        price vehicle_type  registration_year gearbox  power     model  \\\n",
       "118931   3899  convertible               2003  manual    147     astra   \n",
       "162226   1950        sedan               1999  manual    116    beetle   \n",
       "20721    4250        sedan               2001  manual    118       3er   \n",
       "305250   1150        small               2000  manual     60     punto   \n",
       "56058    1799        sedan               1998  manual     75      golf   \n",
       "10264   10950        sedan               2011  manual    105      golf   \n",
       "175902   2390          bus               2004  manual    118     c_max   \n",
       "19048     450          bus               1997  manual     75  berlingo   \n",
       "257059   8500          bus               2011  manual    120     other   \n",
       "354310   1650          bus               2002  manual     66      vito   \n",
       "\n",
       "        kilometer fuel_type          brand not_repaired  \n",
       "118931     125000    petrol           opel           no  \n",
       "162226     150000    petrol     volkswagen           no  \n",
       "20721      150000    petrol            bmw           no  \n",
       "305250     150000    petrol           fiat           no  \n",
       "56058      150000    petrol     volkswagen           no  \n",
       "10264      100000  gasoline     volkswagen           no  \n",
       "175902     150000  gasoline           ford           no  \n",
       "19048      150000   unknown        citroen      unknown  \n",
       "257059     125000  gasoline        peugeot           no  \n",
       "354310     150000  gasoline  mercedes_benz           no  "
      ]
     },
     "execution_count": 23,
     "metadata": {},
     "output_type": "execute_result"
    }
   ],
   "source": [
    "df.sample(10)"
   ]
  },
  {
   "cell_type": "markdown",
   "metadata": {},
   "source": [
    "**Вывод**\n",
    "\n",
    "Данные готовы для обучения.\n",
    "\n",
    "На этапе исследования были выявлены аномалии, дубликаты, пропуски, удалены неинформативные признаки.\n",
    "\n",
    "- дубликаты удалены\n",
    "- пропуски были заменены на unknown\n",
    "- аномалии обработаны"
   ]
  },
  {
   "cell_type": "markdown",
   "metadata": {},
   "source": [
    "## Обучение моделей"
   ]
  },
  {
   "cell_type": "markdown",
   "metadata": {},
   "source": [
    "### Разделим и закодируем выборки"
   ]
  },
  {
   "cell_type": "markdown",
   "metadata": {},
   "source": [
    "разделим выборку на тестовую и обучающую"
   ]
  },
  {
   "cell_type": "code",
   "execution_count": 24,
   "metadata": {},
   "outputs": [],
   "source": [
    "features_train, features_test, target_train, target_test = train_test_split(\n",
    "    df.drop(['price'], axis=1), df['price'], test_size=0.25, random_state=42)"
   ]
  },
  {
   "cell_type": "markdown",
   "metadata": {},
   "source": [
    "перекодируем категориальные признаки"
   ]
  },
  {
   "cell_type": "code",
   "execution_count": 25,
   "metadata": {},
   "outputs": [],
   "source": [
    "ce_ord = ce.OrdinalEncoder(cols = ['vehicle_type', 'gearbox', 'model', 'fuel_type', 'brand', 'not_repaired'])\n",
    "features_train = ce_ord.fit_transform(features_train, target_train)\n",
    "features_test = ce_ord.transform(features_test, target_test)"
   ]
  },
  {
   "cell_type": "code",
   "execution_count": 26,
   "metadata": {},
   "outputs": [],
   "source": [
    "scaler = StandardScaler()\n",
    "features_train = scaler.fit_transform(features_train, target_train)\n",
    "features_test = scaler.fit_transform(features_test, target_test)"
   ]
  },
  {
   "cell_type": "markdown",
   "metadata": {},
   "source": [
    "Функция вычисления RMSE"
   ]
  },
  {
   "cell_type": "code",
   "execution_count": 27,
   "metadata": {},
   "outputs": [],
   "source": [
    "def RMSE(target,predictions):\n",
    "    MSE = mean_squared_error(target, predictions)\n",
    "    return MSE ** 0.5\n",
    "RMSE_score = make_scorer(RMSE, greater_is_better=False)"
   ]
  },
  {
   "cell_type": "markdown",
   "metadata": {},
   "source": [
    "Функция вычисления времени обучения модели, времени предсказания модели, а так же RMSE и оценка для кросс-валидации"
   ]
  },
  {
   "cell_type": "code",
   "execution_count": 28,
   "metadata": {},
   "outputs": [],
   "source": [
    "def best_model(model, params, features_train, target_train):\n",
    "    grid = GridSearchCV(model, param_grid = params, cv=3)\n",
    "    grid.fit(features_train,target_train)\n",
    "    predict = grid.predict(features_test) \n",
    "    return (grid.cv_results_['mean_fit_time'][grid.best_index_],\n",
    "            grid.cv_results_['mean_score_time'][grid.best_index_],\n",
    "            grid.cv_results_['mean_test_score'][grid.best_index_], RMSE(target_test, predict))"
   ]
  },
  {
   "cell_type": "markdown",
   "metadata": {},
   "source": [
    "### catboost"
   ]
  },
  {
   "cell_type": "code",
   "execution_count": 29,
   "metadata": {},
   "outputs": [],
   "source": [
    "catboost_params = {\n",
    "    'learning_rate': [0.1],\n",
    "    'iterations': [10,50,100],\n",
    "    'max_depth': [10,20]\n",
    "}\n",
    "catboost_model = CatBoostRegressor(random_state=42,silent=True)"
   ]
  },
  {
   "cell_type": "code",
   "execution_count": 30,
   "metadata": {},
   "outputs": [],
   "source": [
    "CatBoost = best_model(catboost_model, catboost_params, features_train, target_train)"
   ]
  },
  {
   "cell_type": "code",
   "execution_count": 38,
   "metadata": {},
   "outputs": [
    {
     "data": {
      "text/plain": [
       "(5.766357024510701,\n",
       " 0.18820500373840332,\n",
       " 0.8557888332490782,\n",
       " 1708.8915017677616)"
      ]
     },
     "execution_count": 38,
     "metadata": {},
     "output_type": "execute_result"
    }
   ],
   "source": [
    "CatBoost"
   ]
  },
  {
   "cell_type": "markdown",
   "metadata": {},
   "source": [
    "### LightGBM"
   ]
  },
  {
   "cell_type": "code",
   "execution_count": 31,
   "metadata": {},
   "outputs": [],
   "source": [
    "LightGBM_params = {\n",
    "    'n_estimators': [10,50,100],\n",
    "    'max_depth': [15,30],\n",
    "    'num_leaves': [10,20,31],\n",
    "    'learning_rate': [0.1]\n",
    "}\n",
    "LightGBM_reg_model = LGBMRegressor(random_state=42)"
   ]
  },
  {
   "cell_type": "code",
   "execution_count": 32,
   "metadata": {},
   "outputs": [],
   "source": [
    "LightGBM = best_model(LightGBM_reg_model, LightGBM_params, features_train, target_train)"
   ]
  },
  {
   "cell_type": "markdown",
   "metadata": {},
   "source": [
    "### RandomForest"
   ]
  },
  {
   "cell_type": "code",
   "execution_count": 33,
   "metadata": {},
   "outputs": [],
   "source": [
    "RF_model = RandomForestRegressor(random_state=42)\n",
    "forestregressor_params = {'n_estimators':range(10, 51, 10),\n",
    "             'max_depth':range (1,10)}"
   ]
  },
  {
   "cell_type": "code",
   "execution_count": 34,
   "metadata": {},
   "outputs": [],
   "source": [
    "RandomForest = best_model(RF_model, forestregressor_params, features_train, target_train)"
   ]
  },
  {
   "cell_type": "markdown",
   "metadata": {},
   "source": [
    "## Анализ моделей"
   ]
  },
  {
   "cell_type": "code",
   "execution_count": 40,
   "metadata": {
    "scrolled": true
   },
   "outputs": [
    {
     "data": {
      "text/html": [
       "<div>\n",
       "<style scoped>\n",
       "    .dataframe tbody tr th:only-of-type {\n",
       "        vertical-align: middle;\n",
       "    }\n",
       "\n",
       "    .dataframe tbody tr th {\n",
       "        vertical-align: top;\n",
       "    }\n",
       "\n",
       "    .dataframe thead th {\n",
       "        text-align: right;\n",
       "    }\n",
       "</style>\n",
       "<table border=\"1\" class=\"dataframe\">\n",
       "  <thead>\n",
       "    <tr style=\"text-align: right;\">\n",
       "      <th></th>\n",
       "      <th>mean_fit_time</th>\n",
       "      <th>mean_score_time</th>\n",
       "      <th>mean_test_score</th>\n",
       "      <th>RMSE</th>\n",
       "    </tr>\n",
       "  </thead>\n",
       "  <tbody>\n",
       "    <tr>\n",
       "      <th>LightGBM</th>\n",
       "      <td>4.860948</td>\n",
       "      <td>0.643327</td>\n",
       "      <td>0.856542</td>\n",
       "      <td>1721.119366</td>\n",
       "    </tr>\n",
       "    <tr>\n",
       "      <th>CatBoost</th>\n",
       "      <td>5.766357</td>\n",
       "      <td>0.188205</td>\n",
       "      <td>0.855789</td>\n",
       "      <td>1708.891502</td>\n",
       "    </tr>\n",
       "    <tr>\n",
       "      <th>RandomForest</th>\n",
       "      <td>10.282981</td>\n",
       "      <td>0.321740</td>\n",
       "      <td>0.816915</td>\n",
       "      <td>1951.322916</td>\n",
       "    </tr>\n",
       "  </tbody>\n",
       "</table>\n",
       "</div>"
      ],
      "text/plain": [
       "              mean_fit_time  mean_score_time  mean_test_score         RMSE\n",
       "LightGBM           4.860948         0.643327         0.856542  1721.119366\n",
       "CatBoost           5.766357         0.188205         0.855789  1708.891502\n",
       "RandomForest      10.282981         0.321740         0.816915  1951.322916"
      ]
     },
     "execution_count": 40,
     "metadata": {},
     "output_type": "execute_result"
    }
   ],
   "source": [
    "table = pd.DataFrame([LightGBM, CatBoost, RandomForest], \n",
    "             columns=['mean_fit_time', 'mean_score_time', 'mean_test_score', 'RMSE'], \n",
    "                      index=['LightGBM','CatBoost', 'RandomForest'])\n",
    "table"
   ]
  },
  {
   "cell_type": "code",
   "execution_count": null,
   "metadata": {},
   "outputs": [],
   "source": [
    "CatBoost = best_model(catboost_model, catboost_params, features_train, target_train)"
   ]
  },
  {
   "cell_type": "markdown",
   "metadata": {},
   "source": [
    "На базе полученных результатов можно сделать вывод, что наименьшую ошибку выдает CatBoost. (RMSE модели LightGBM почти такое же). Однако Время обучения и предсказания у модели CatBoost заметно меньше.\n",
    " \n",
    "Основываясь на всем вышеперечисленном, можно сделать вывод, что лучше всего подойдет модель построенная на **CatBoost**."
   ]
  },
  {
   "cell_type": "markdown",
   "metadata": {},
   "source": [
    "## Чек-лист проверки"
   ]
  },
  {
   "cell_type": "markdown",
   "metadata": {},
   "source": [
    "Поставьте 'x' в выполненных пунктах. Далее нажмите Shift+Enter."
   ]
  },
  {
   "cell_type": "markdown",
   "metadata": {},
   "source": [
    "- [x]  Jupyter Notebook открыт\n",
    "- [x]  Весь код выполняется без ошибок\n",
    "- [x]  Ячейки с кодом расположены в порядке исполнения\n",
    "- [x]  Выполнена загрузка и подготовка данных\n",
    "- [x]  Выполнено обучение моделей\n",
    "- [x]  Есть анализ скорости работы и качества моделей"
   ]
  },
  {
   "cell_type": "code",
   "execution_count": null,
   "metadata": {},
   "outputs": [],
   "source": []
  }
 ],
 "metadata": {
  "ExecuteTimeLog": [
   {
    "duration": 150,
    "start_time": "2022-08-27T17:04:06.857Z"
   },
   {
    "duration": 1378,
    "start_time": "2022-08-27T17:04:13.699Z"
   },
   {
    "duration": 796,
    "start_time": "2022-08-27T17:04:15.079Z"
   },
   {
    "duration": 26,
    "start_time": "2022-08-27T17:04:15.877Z"
   },
   {
    "duration": 4,
    "start_time": "2022-08-27T17:04:15.905Z"
   },
   {
    "duration": 179,
    "start_time": "2022-08-27T17:04:15.911Z"
   },
   {
    "duration": 202,
    "start_time": "2022-08-27T17:04:16.092Z"
   },
   {
    "duration": 183,
    "start_time": "2022-08-27T17:04:16.296Z"
   },
   {
    "duration": 497,
    "start_time": "2022-08-27T17:04:16.481Z"
   },
   {
    "duration": 909,
    "start_time": "2022-08-27T17:04:16.980Z"
   },
   {
    "duration": 52,
    "start_time": "2022-08-27T17:04:17.890Z"
   },
   {
    "duration": 0,
    "start_time": "2022-08-27T17:04:17.943Z"
   },
   {
    "duration": 0,
    "start_time": "2022-08-27T17:04:17.945Z"
   },
   {
    "duration": 0,
    "start_time": "2022-08-27T17:04:17.946Z"
   },
   {
    "duration": 0,
    "start_time": "2022-08-27T17:04:17.947Z"
   },
   {
    "duration": 88,
    "start_time": "2022-08-27T17:38:27.987Z"
   },
   {
    "duration": 82,
    "start_time": "2022-08-27T17:38:33.478Z"
   },
   {
    "duration": 42,
    "start_time": "2022-08-29T08:24:17.574Z"
   },
   {
    "duration": 5,
    "start_time": "2022-08-29T08:24:23.250Z"
   },
   {
    "duration": 1530,
    "start_time": "2022-08-29T08:24:26.313Z"
   },
   {
    "duration": 1721,
    "start_time": "2022-08-29T08:24:32.704Z"
   },
   {
    "duration": 2961,
    "start_time": "2022-08-29T08:24:34.427Z"
   },
   {
    "duration": 25,
    "start_time": "2022-08-29T08:24:37.389Z"
   },
   {
    "duration": 4,
    "start_time": "2022-08-29T08:24:37.416Z"
   },
   {
    "duration": 105,
    "start_time": "2022-08-29T08:24:37.421Z"
   },
   {
    "duration": 132,
    "start_time": "2022-08-29T08:24:37.528Z"
   },
   {
    "duration": 103,
    "start_time": "2022-08-29T08:24:37.662Z"
   },
   {
    "duration": 421,
    "start_time": "2022-08-29T08:24:37.766Z"
   },
   {
    "duration": 848,
    "start_time": "2022-08-29T08:24:38.189Z"
   },
   {
    "duration": 101,
    "start_time": "2022-08-29T08:24:39.039Z"
   },
   {
    "duration": 83,
    "start_time": "2022-08-29T08:24:39.141Z"
   },
   {
    "duration": 465,
    "start_time": "2022-08-29T08:32:57.287Z"
   },
   {
    "duration": 1319,
    "start_time": "2022-08-29T08:33:09.118Z"
   },
   {
    "duration": 694,
    "start_time": "2022-08-29T08:33:10.439Z"
   },
   {
    "duration": 25,
    "start_time": "2022-08-29T08:33:11.134Z"
   },
   {
    "duration": 3,
    "start_time": "2022-08-29T08:33:11.161Z"
   },
   {
    "duration": 113,
    "start_time": "2022-08-29T08:33:11.165Z"
   },
   {
    "duration": 411,
    "start_time": "2022-08-29T08:33:11.279Z"
   },
   {
    "duration": 821,
    "start_time": "2022-08-29T08:33:11.692Z"
   },
   {
    "duration": 77,
    "start_time": "2022-08-29T08:33:12.515Z"
   },
   {
    "duration": 14,
    "start_time": "2022-08-29T08:33:12.593Z"
   },
   {
    "duration": 98,
    "start_time": "2022-08-29T08:37:34.413Z"
   },
   {
    "duration": 101,
    "start_time": "2022-08-29T08:37:50.984Z"
   },
   {
    "duration": 94,
    "start_time": "2022-08-29T08:38:28.081Z"
   },
   {
    "duration": 104,
    "start_time": "2022-08-29T08:41:06.446Z"
   },
   {
    "duration": 85,
    "start_time": "2022-08-29T08:47:03.314Z"
   },
   {
    "duration": 89,
    "start_time": "2022-08-29T08:47:08.948Z"
   },
   {
    "duration": 26,
    "start_time": "2022-08-29T08:49:31.281Z"
   },
   {
    "duration": 82,
    "start_time": "2022-08-29T09:02:51.897Z"
   },
   {
    "duration": 31,
    "start_time": "2022-08-29T09:10:08.253Z"
   },
   {
    "duration": 15,
    "start_time": "2022-08-29T09:10:27.346Z"
   },
   {
    "duration": 12,
    "start_time": "2022-08-29T09:10:54.378Z"
   },
   {
    "duration": 1451,
    "start_time": "2022-08-29T09:11:06.782Z"
   },
   {
    "duration": 770,
    "start_time": "2022-08-29T09:11:08.236Z"
   },
   {
    "duration": 25,
    "start_time": "2022-08-29T09:11:09.008Z"
   },
   {
    "duration": 4,
    "start_time": "2022-08-29T09:11:09.035Z"
   },
   {
    "duration": 124,
    "start_time": "2022-08-29T09:11:09.041Z"
   },
   {
    "duration": 439,
    "start_time": "2022-08-29T09:11:09.167Z"
   },
   {
    "duration": 954,
    "start_time": "2022-08-29T09:11:09.607Z"
   },
   {
    "duration": 4,
    "start_time": "2022-08-29T09:11:10.563Z"
   },
   {
    "duration": 119,
    "start_time": "2022-08-29T09:11:10.569Z"
   },
   {
    "duration": 104,
    "start_time": "2022-08-29T09:11:10.690Z"
   },
   {
    "duration": 97,
    "start_time": "2022-08-29T09:11:10.795Z"
   },
   {
    "duration": 49,
    "start_time": "2022-08-29T09:11:10.894Z"
   },
   {
    "duration": 10,
    "start_time": "2022-08-29T09:11:21.355Z"
   },
   {
    "duration": 158,
    "start_time": "2022-08-29T09:12:34.094Z"
   },
   {
    "duration": 29,
    "start_time": "2022-08-29T09:14:40.749Z"
   },
   {
    "duration": 50,
    "start_time": "2022-08-29T09:17:59.939Z"
   },
   {
    "duration": 7,
    "start_time": "2022-08-29T09:25:58.991Z"
   },
   {
    "duration": 60,
    "start_time": "2022-08-29T09:26:31.867Z"
   },
   {
    "duration": 91,
    "start_time": "2022-08-29T09:27:22.386Z"
   },
   {
    "duration": 48,
    "start_time": "2022-08-29T09:27:29.839Z"
   },
   {
    "duration": 784,
    "start_time": "2022-08-29T09:31:48.956Z"
   },
   {
    "duration": 960,
    "start_time": "2022-08-29T09:35:05.685Z"
   },
   {
    "duration": 601,
    "start_time": "2022-08-29T09:35:17.598Z"
   },
   {
    "duration": 726,
    "start_time": "2022-08-29T09:35:45.696Z"
   },
   {
    "duration": 100,
    "start_time": "2022-08-29T09:39:14.547Z"
   },
   {
    "duration": 6,
    "start_time": "2022-08-29T09:39:42.859Z"
   },
   {
    "duration": 49,
    "start_time": "2022-08-29T09:39:48.447Z"
   },
   {
    "duration": 722,
    "start_time": "2022-08-29T09:39:57.061Z"
   },
   {
    "duration": 969,
    "start_time": "2022-08-29T09:40:06.811Z"
   },
   {
    "duration": 8,
    "start_time": "2022-08-29T09:44:43.952Z"
   },
   {
    "duration": 1043,
    "start_time": "2022-08-29T09:49:46.516Z"
   },
   {
    "duration": 123,
    "start_time": "2022-08-29T09:52:36.469Z"
   },
   {
    "duration": 10,
    "start_time": "2022-08-29T09:53:01.632Z"
   },
   {
    "duration": 9,
    "start_time": "2022-08-29T09:53:03.186Z"
   },
   {
    "duration": 1271,
    "start_time": "2022-08-29T09:53:12.663Z"
   },
   {
    "duration": 780,
    "start_time": "2022-08-29T09:53:13.936Z"
   },
   {
    "duration": 25,
    "start_time": "2022-08-29T09:53:14.718Z"
   },
   {
    "duration": 3,
    "start_time": "2022-08-29T09:53:14.745Z"
   },
   {
    "duration": 124,
    "start_time": "2022-08-29T09:53:14.749Z"
   },
   {
    "duration": 390,
    "start_time": "2022-08-29T09:53:14.874Z"
   },
   {
    "duration": 853,
    "start_time": "2022-08-29T09:53:15.266Z"
   },
   {
    "duration": 4,
    "start_time": "2022-08-29T09:53:16.121Z"
   },
   {
    "duration": 133,
    "start_time": "2022-08-29T09:53:16.128Z"
   },
   {
    "duration": 97,
    "start_time": "2022-08-29T09:53:16.263Z"
   },
   {
    "duration": 86,
    "start_time": "2022-08-29T09:53:16.362Z"
   },
   {
    "duration": 32,
    "start_time": "2022-08-29T09:53:16.449Z"
   },
   {
    "duration": 24,
    "start_time": "2022-08-29T09:53:16.483Z"
   },
   {
    "duration": 83,
    "start_time": "2022-08-29T09:53:16.509Z"
   },
   {
    "duration": 97,
    "start_time": "2022-08-29T09:53:16.593Z"
   },
   {
    "duration": 14,
    "start_time": "2022-08-29T09:53:16.692Z"
   },
   {
    "duration": 8,
    "start_time": "2022-08-29T09:53:16.707Z"
   },
   {
    "duration": 81,
    "start_time": "2022-08-29T09:53:16.716Z"
   },
   {
    "duration": 1023,
    "start_time": "2022-08-29T09:53:16.799Z"
   },
   {
    "duration": 1288,
    "start_time": "2022-08-29T09:54:36.016Z"
   },
   {
    "duration": 25,
    "start_time": "2022-08-29T09:54:44.531Z"
   },
   {
    "duration": 47,
    "start_time": "2022-08-29T09:54:49.218Z"
   },
   {
    "duration": 953,
    "start_time": "2022-08-29T09:54:54.141Z"
   },
   {
    "duration": 81,
    "start_time": "2022-08-29T09:55:01.415Z"
   },
   {
    "duration": 28,
    "start_time": "2022-08-29T09:55:07.794Z"
   },
   {
    "duration": 22,
    "start_time": "2022-08-29T09:55:15.564Z"
   },
   {
    "duration": 44,
    "start_time": "2022-08-29T09:55:19.180Z"
   },
   {
    "duration": 1697,
    "start_time": "2022-08-29T09:57:00.220Z"
   },
   {
    "duration": 18,
    "start_time": "2022-08-29T09:57:15.098Z"
   },
   {
    "duration": 48,
    "start_time": "2022-08-29T09:57:23.156Z"
   },
   {
    "duration": 47,
    "start_time": "2022-08-29T09:57:42.757Z"
   },
   {
    "duration": 24,
    "start_time": "2022-08-29T09:57:55.921Z"
   },
   {
    "duration": 46,
    "start_time": "2022-08-29T09:57:57.522Z"
   },
   {
    "duration": 1045,
    "start_time": "2022-08-29T09:57:59.821Z"
   },
   {
    "duration": 24,
    "start_time": "2022-08-29T09:59:40.936Z"
   },
   {
    "duration": 50,
    "start_time": "2022-08-29T09:59:49.152Z"
   },
   {
    "duration": 27,
    "start_time": "2022-08-29T10:01:08.745Z"
   },
   {
    "duration": 48,
    "start_time": "2022-08-29T10:01:15.000Z"
   },
   {
    "duration": 973,
    "start_time": "2022-08-29T10:01:23.556Z"
   },
   {
    "duration": 23,
    "start_time": "2022-08-29T10:01:37.226Z"
   },
   {
    "duration": 50,
    "start_time": "2022-08-29T10:01:40.152Z"
   },
   {
    "duration": 23,
    "start_time": "2022-08-29T10:02:23.767Z"
   },
   {
    "duration": 22,
    "start_time": "2022-08-29T10:02:28.940Z"
   },
   {
    "duration": 8,
    "start_time": "2022-08-29T10:03:12.451Z"
   },
   {
    "duration": 18,
    "start_time": "2022-08-29T10:03:13.890Z"
   },
   {
    "duration": 997,
    "start_time": "2022-08-29T10:03:16.119Z"
   },
   {
    "duration": 4,
    "start_time": "2022-08-29T10:03:24.974Z"
   },
   {
    "duration": 17,
    "start_time": "2022-08-29T10:03:27.595Z"
   },
   {
    "duration": 1393,
    "start_time": "2022-08-29T10:03:46.996Z"
   },
   {
    "duration": 720,
    "start_time": "2022-08-29T10:03:48.391Z"
   },
   {
    "duration": 24,
    "start_time": "2022-08-29T10:03:49.112Z"
   },
   {
    "duration": 3,
    "start_time": "2022-08-29T10:03:49.138Z"
   },
   {
    "duration": 108,
    "start_time": "2022-08-29T10:03:49.143Z"
   },
   {
    "duration": 390,
    "start_time": "2022-08-29T10:03:49.253Z"
   },
   {
    "duration": 835,
    "start_time": "2022-08-29T10:03:49.645Z"
   },
   {
    "duration": 4,
    "start_time": "2022-08-29T10:03:50.482Z"
   },
   {
    "duration": 102,
    "start_time": "2022-08-29T10:03:50.488Z"
   },
   {
    "duration": 101,
    "start_time": "2022-08-29T10:03:50.591Z"
   },
   {
    "duration": 87,
    "start_time": "2022-08-29T10:03:50.693Z"
   },
   {
    "duration": 42,
    "start_time": "2022-08-29T10:03:50.782Z"
   },
   {
    "duration": 10,
    "start_time": "2022-08-29T10:03:50.825Z"
   },
   {
    "duration": 52,
    "start_time": "2022-08-29T10:03:50.838Z"
   },
   {
    "duration": 40,
    "start_time": "2022-08-29T10:03:50.892Z"
   },
   {
    "duration": 28,
    "start_time": "2022-08-29T10:03:50.933Z"
   },
   {
    "duration": 62,
    "start_time": "2022-08-29T10:03:50.962Z"
   },
   {
    "duration": 1234,
    "start_time": "2022-08-29T10:03:51.026Z"
   },
   {
    "duration": 25,
    "start_time": "2022-08-29T10:04:32.731Z"
   },
   {
    "duration": 51,
    "start_time": "2022-08-29T10:04:34.008Z"
   },
   {
    "duration": 1127,
    "start_time": "2022-08-29T10:04:43.219Z"
   },
   {
    "duration": 21,
    "start_time": "2022-08-29T10:04:56.559Z"
   },
   {
    "duration": 48,
    "start_time": "2022-08-29T10:04:57.847Z"
   },
   {
    "duration": 20,
    "start_time": "2022-08-29T10:05:05.644Z"
   },
   {
    "duration": 46,
    "start_time": "2022-08-29T10:05:06.997Z"
   },
   {
    "duration": 11,
    "start_time": "2022-08-29T10:05:57.153Z"
   },
   {
    "duration": 56,
    "start_time": "2022-08-29T10:06:05.601Z"
   },
   {
    "duration": 11,
    "start_time": "2022-08-29T10:06:41.249Z"
   },
   {
    "duration": 19,
    "start_time": "2022-08-29T10:08:57.360Z"
   },
   {
    "duration": 48,
    "start_time": "2022-08-29T10:09:01.598Z"
   },
   {
    "duration": 1327,
    "start_time": "2022-08-29T10:09:16.283Z"
   },
   {
    "duration": 690,
    "start_time": "2022-08-29T10:09:17.612Z"
   },
   {
    "duration": 23,
    "start_time": "2022-08-29T10:09:18.305Z"
   },
   {
    "duration": 3,
    "start_time": "2022-08-29T10:09:18.330Z"
   },
   {
    "duration": 113,
    "start_time": "2022-08-29T10:09:18.335Z"
   },
   {
    "duration": 376,
    "start_time": "2022-08-29T10:09:18.450Z"
   },
   {
    "duration": 790,
    "start_time": "2022-08-29T10:09:18.827Z"
   },
   {
    "duration": 4,
    "start_time": "2022-08-29T10:09:19.618Z"
   },
   {
    "duration": 105,
    "start_time": "2022-08-29T10:09:19.623Z"
   },
   {
    "duration": 106,
    "start_time": "2022-08-29T10:09:19.729Z"
   },
   {
    "duration": 81,
    "start_time": "2022-08-29T10:09:19.836Z"
   },
   {
    "duration": 30,
    "start_time": "2022-08-29T10:09:19.918Z"
   },
   {
    "duration": 9,
    "start_time": "2022-08-29T10:09:19.950Z"
   },
   {
    "duration": 65,
    "start_time": "2022-08-29T10:09:19.961Z"
   },
   {
    "duration": 27,
    "start_time": "2022-08-29T10:09:20.027Z"
   },
   {
    "duration": 26,
    "start_time": "2022-08-29T10:09:20.055Z"
   },
   {
    "duration": 37,
    "start_time": "2022-08-29T10:09:20.083Z"
   },
   {
    "duration": 43,
    "start_time": "2022-08-29T10:09:20.122Z"
   },
   {
    "duration": 1092,
    "start_time": "2022-08-29T10:09:20.167Z"
   },
   {
    "duration": 65,
    "start_time": "2022-08-29T10:09:21.261Z"
   },
   {
    "duration": 9,
    "start_time": "2022-08-29T10:09:21.328Z"
   },
   {
    "duration": 20,
    "start_time": "2022-08-29T10:09:40.035Z"
   },
   {
    "duration": 1292,
    "start_time": "2022-08-29T10:21:32.570Z"
   },
   {
    "duration": 25,
    "start_time": "2022-08-29T10:22:13.383Z"
   },
   {
    "duration": 1370,
    "start_time": "2022-08-29T10:22:19.231Z"
   },
   {
    "duration": 707,
    "start_time": "2022-08-29T10:22:20.603Z"
   },
   {
    "duration": 26,
    "start_time": "2022-08-29T10:22:21.314Z"
   },
   {
    "duration": 4,
    "start_time": "2022-08-29T10:22:21.341Z"
   },
   {
    "duration": 117,
    "start_time": "2022-08-29T10:22:21.346Z"
   },
   {
    "duration": 406,
    "start_time": "2022-08-29T10:22:21.465Z"
   },
   {
    "duration": 851,
    "start_time": "2022-08-29T10:22:21.873Z"
   },
   {
    "duration": 3,
    "start_time": "2022-08-29T10:22:22.726Z"
   },
   {
    "duration": 98,
    "start_time": "2022-08-29T10:22:22.731Z"
   },
   {
    "duration": 94,
    "start_time": "2022-08-29T10:22:22.830Z"
   },
   {
    "duration": 94,
    "start_time": "2022-08-29T10:22:22.925Z"
   },
   {
    "duration": 33,
    "start_time": "2022-08-29T10:22:23.021Z"
   },
   {
    "duration": 10,
    "start_time": "2022-08-29T10:22:23.056Z"
   },
   {
    "duration": 74,
    "start_time": "2022-08-29T10:22:23.068Z"
   },
   {
    "duration": 25,
    "start_time": "2022-08-29T10:22:23.143Z"
   },
   {
    "duration": 39,
    "start_time": "2022-08-29T10:22:23.169Z"
   },
   {
    "duration": 19,
    "start_time": "2022-08-29T10:22:23.209Z"
   },
   {
    "duration": 46,
    "start_time": "2022-08-29T10:22:23.229Z"
   },
   {
    "duration": 1292,
    "start_time": "2022-08-29T10:22:23.276Z"
   },
   {
    "duration": 0,
    "start_time": "2022-08-29T10:22:24.570Z"
   },
   {
    "duration": 0,
    "start_time": "2022-08-29T10:22:24.571Z"
   },
   {
    "duration": 1179,
    "start_time": "2022-08-29T10:23:46.770Z"
   },
   {
    "duration": 1348,
    "start_time": "2022-08-29T10:26:40.408Z"
   },
   {
    "duration": 705,
    "start_time": "2022-08-29T10:26:41.758Z"
   },
   {
    "duration": 31,
    "start_time": "2022-08-29T10:26:42.465Z"
   },
   {
    "duration": 12,
    "start_time": "2022-08-29T10:26:42.497Z"
   },
   {
    "duration": 126,
    "start_time": "2022-08-29T10:26:42.511Z"
   },
   {
    "duration": 397,
    "start_time": "2022-08-29T10:26:42.639Z"
   },
   {
    "duration": 820,
    "start_time": "2022-08-29T10:26:43.038Z"
   },
   {
    "duration": 3,
    "start_time": "2022-08-29T10:26:43.860Z"
   },
   {
    "duration": 99,
    "start_time": "2022-08-29T10:26:43.865Z"
   },
   {
    "duration": 88,
    "start_time": "2022-08-29T10:26:43.966Z"
   },
   {
    "duration": 87,
    "start_time": "2022-08-29T10:26:44.056Z"
   },
   {
    "duration": 33,
    "start_time": "2022-08-29T10:26:44.145Z"
   },
   {
    "duration": 10,
    "start_time": "2022-08-29T10:26:44.180Z"
   },
   {
    "duration": 55,
    "start_time": "2022-08-29T10:26:44.208Z"
   },
   {
    "duration": 45,
    "start_time": "2022-08-29T10:26:44.265Z"
   },
   {
    "duration": 29,
    "start_time": "2022-08-29T10:26:44.312Z"
   },
   {
    "duration": 20,
    "start_time": "2022-08-29T10:26:44.343Z"
   },
   {
    "duration": 69,
    "start_time": "2022-08-29T10:26:44.365Z"
   },
   {
    "duration": 1273,
    "start_time": "2022-08-29T10:26:44.436Z"
   },
   {
    "duration": 58,
    "start_time": "2022-08-29T10:26:45.711Z"
   },
   {
    "duration": 23,
    "start_time": "2022-08-29T10:26:45.770Z"
   },
   {
    "duration": 115,
    "start_time": "2022-08-29T10:27:02.369Z"
   },
   {
    "duration": 1382,
    "start_time": "2022-08-29T10:27:52.309Z"
   },
   {
    "duration": 756,
    "start_time": "2022-08-29T10:27:53.693Z"
   },
   {
    "duration": 26,
    "start_time": "2022-08-29T10:27:54.450Z"
   },
   {
    "duration": 4,
    "start_time": "2022-08-29T10:27:54.478Z"
   },
   {
    "duration": 113,
    "start_time": "2022-08-29T10:27:54.483Z"
   },
   {
    "duration": 416,
    "start_time": "2022-08-29T10:27:54.597Z"
   },
   {
    "duration": 796,
    "start_time": "2022-08-29T10:27:55.014Z"
   },
   {
    "duration": 4,
    "start_time": "2022-08-29T10:27:55.811Z"
   },
   {
    "duration": 106,
    "start_time": "2022-08-29T10:27:55.816Z"
   },
   {
    "duration": 91,
    "start_time": "2022-08-29T10:27:55.924Z"
   },
   {
    "duration": 103,
    "start_time": "2022-08-29T10:27:56.017Z"
   },
   {
    "duration": 37,
    "start_time": "2022-08-29T10:27:56.122Z"
   },
   {
    "duration": 13,
    "start_time": "2022-08-29T10:27:56.161Z"
   },
   {
    "duration": 1045,
    "start_time": "2022-08-29T10:27:56.175Z"
   },
   {
    "duration": 51,
    "start_time": "2022-08-29T10:27:57.222Z"
   },
   {
    "duration": 150,
    "start_time": "2022-08-29T10:27:57.274Z"
   },
   {
    "duration": 135,
    "start_time": "2022-08-29T10:27:57.426Z"
   },
   {
    "duration": 144,
    "start_time": "2022-08-29T10:27:57.563Z"
   },
   {
    "duration": 47,
    "start_time": "2022-08-29T10:27:57.709Z"
   },
   {
    "duration": 1183,
    "start_time": "2022-08-29T10:27:57.758Z"
   },
   {
    "duration": 73,
    "start_time": "2022-08-29T10:27:58.943Z"
   },
   {
    "duration": 11,
    "start_time": "2022-08-29T10:27:59.017Z"
   },
   {
    "duration": 18,
    "start_time": "2022-08-29T10:29:25.621Z"
   },
   {
    "duration": 770,
    "start_time": "2022-08-29T10:36:17.862Z"
   },
   {
    "duration": 2,
    "start_time": "2022-08-29T10:36:41.273Z"
   },
   {
    "duration": 3,
    "start_time": "2022-08-29T10:36:42.904Z"
   },
   {
    "duration": 119,
    "start_time": "2022-08-29T10:39:38.739Z"
   },
   {
    "duration": 583,
    "start_time": "2022-08-29T10:40:11.101Z"
   },
   {
    "duration": 488,
    "start_time": "2022-08-29T10:40:37.332Z"
   },
   {
    "duration": 4617616,
    "start_time": "2022-08-29T10:42:35.447Z"
   },
   {
    "duration": 4,
    "start_time": "2022-08-29T11:59:33.065Z"
   },
   {
    "duration": 504968,
    "start_time": "2022-08-29T12:06:00.483Z"
   },
   {
    "duration": 40982,
    "start_time": "2022-08-29T12:19:28.340Z"
   },
   {
    "duration": 472291,
    "start_time": "2022-08-29T12:25:25.633Z"
   },
   {
    "duration": 1425,
    "start_time": "2022-08-29T12:33:19.469Z"
   },
   {
    "duration": 9897,
    "start_time": "2022-08-29T12:33:20.895Z"
   },
   {
    "duration": 4227,
    "start_time": "2022-08-29T12:33:30.806Z"
   },
   {
    "duration": 113,
    "start_time": "2022-08-29T13:46:56.977Z"
   },
   {
    "duration": 17,
    "start_time": "2022-08-29T13:47:11.625Z"
   },
   {
    "duration": 1467,
    "start_time": "2022-08-29T13:47:56.116Z"
   },
   {
    "duration": 832,
    "start_time": "2022-08-29T13:47:57.585Z"
   },
   {
    "duration": 27,
    "start_time": "2022-08-29T13:47:58.419Z"
   },
   {
    "duration": 4,
    "start_time": "2022-08-29T13:47:58.448Z"
   },
   {
    "duration": 124,
    "start_time": "2022-08-29T13:47:58.453Z"
   },
   {
    "duration": 484,
    "start_time": "2022-08-29T13:47:58.578Z"
   },
   {
    "duration": 949,
    "start_time": "2022-08-29T13:47:59.063Z"
   },
   {
    "duration": 6,
    "start_time": "2022-08-29T13:48:00.014Z"
   },
   {
    "duration": 129,
    "start_time": "2022-08-29T13:48:00.021Z"
   },
   {
    "duration": 110,
    "start_time": "2022-08-29T13:48:00.152Z"
   },
   {
    "duration": 105,
    "start_time": "2022-08-29T13:48:00.263Z"
   },
   {
    "duration": 50,
    "start_time": "2022-08-29T13:48:00.369Z"
   },
   {
    "duration": 10,
    "start_time": "2022-08-29T13:48:00.421Z"
   },
   {
    "duration": 1159,
    "start_time": "2022-08-29T13:48:00.434Z"
   },
   {
    "duration": 68,
    "start_time": "2022-08-29T13:48:01.595Z"
   },
   {
    "duration": 163,
    "start_time": "2022-08-29T13:48:01.665Z"
   },
   {
    "duration": 145,
    "start_time": "2022-08-29T13:48:01.829Z"
   },
   {
    "duration": 198,
    "start_time": "2022-08-29T13:48:01.976Z"
   },
   {
    "duration": 58,
    "start_time": "2022-08-29T13:48:02.175Z"
   },
   {
    "duration": 1287,
    "start_time": "2022-08-29T13:48:02.234Z"
   },
   {
    "duration": 62,
    "start_time": "2022-08-29T13:48:03.522Z"
   },
   {
    "duration": 28,
    "start_time": "2022-08-29T13:48:03.586Z"
   },
   {
    "duration": 123,
    "start_time": "2022-08-29T13:48:03.616Z"
   },
   {
    "duration": 0,
    "start_time": "2022-08-29T13:48:03.740Z"
   },
   {
    "duration": 0,
    "start_time": "2022-08-29T13:48:03.741Z"
   },
   {
    "duration": 78,
    "start_time": "2022-08-29T13:48:23.818Z"
   },
   {
    "duration": 114,
    "start_time": "2022-08-29T13:48:46.536Z"
   },
   {
    "duration": 11,
    "start_time": "2022-08-29T13:51:38.386Z"
   },
   {
    "duration": 14,
    "start_time": "2022-08-29T13:53:30.220Z"
   },
   {
    "duration": 16,
    "start_time": "2022-08-29T13:53:44.285Z"
   },
   {
    "duration": 11,
    "start_time": "2022-08-29T13:55:30.166Z"
   },
   {
    "duration": 3093,
    "start_time": "2022-08-29T13:56:11.116Z"
   },
   {
    "duration": 75,
    "start_time": "2022-08-29T13:56:16.781Z"
   },
   {
    "duration": 2219,
    "start_time": "2022-08-29T13:56:24.817Z"
   },
   {
    "duration": 1559,
    "start_time": "2022-08-29T13:56:27.039Z"
   },
   {
    "duration": 886,
    "start_time": "2022-08-29T13:56:28.600Z"
   },
   {
    "duration": 30,
    "start_time": "2022-08-29T13:56:29.487Z"
   },
   {
    "duration": 4,
    "start_time": "2022-08-29T13:56:29.519Z"
   },
   {
    "duration": 136,
    "start_time": "2022-08-29T13:56:29.525Z"
   },
   {
    "duration": 555,
    "start_time": "2022-08-29T13:56:29.662Z"
   },
   {
    "duration": 1046,
    "start_time": "2022-08-29T13:56:30.219Z"
   },
   {
    "duration": 5,
    "start_time": "2022-08-29T13:56:31.266Z"
   },
   {
    "duration": 126,
    "start_time": "2022-08-29T13:56:31.272Z"
   },
   {
    "duration": 113,
    "start_time": "2022-08-29T13:56:31.400Z"
   },
   {
    "duration": 107,
    "start_time": "2022-08-29T13:56:31.514Z"
   },
   {
    "duration": 39,
    "start_time": "2022-08-29T13:56:31.623Z"
   },
   {
    "duration": 13,
    "start_time": "2022-08-29T13:56:31.665Z"
   },
   {
    "duration": 1211,
    "start_time": "2022-08-29T13:56:31.680Z"
   },
   {
    "duration": 71,
    "start_time": "2022-08-29T13:56:32.893Z"
   },
   {
    "duration": 193,
    "start_time": "2022-08-29T13:56:32.965Z"
   },
   {
    "duration": 182,
    "start_time": "2022-08-29T13:56:33.160Z"
   },
   {
    "duration": 187,
    "start_time": "2022-08-29T13:56:33.345Z"
   },
   {
    "duration": 74,
    "start_time": "2022-08-29T13:56:33.533Z"
   },
   {
    "duration": 1433,
    "start_time": "2022-08-29T13:56:33.609Z"
   },
   {
    "duration": 80,
    "start_time": "2022-08-29T13:56:35.044Z"
   },
   {
    "duration": 23,
    "start_time": "2022-08-29T13:56:35.126Z"
   },
   {
    "duration": 117,
    "start_time": "2022-08-29T13:56:35.151Z"
   },
   {
    "duration": 930,
    "start_time": "2022-08-29T13:56:35.270Z"
   },
   {
    "duration": 1100,
    "start_time": "2022-08-29T13:56:36.203Z"
   },
   {
    "duration": 605,
    "start_time": "2022-08-29T13:56:37.306Z"
   },
   {
    "duration": 121,
    "start_time": "2022-08-29T13:57:38.674Z"
   },
   {
    "duration": 4,
    "start_time": "2022-08-29T13:58:06.627Z"
   },
   {
    "duration": 81,
    "start_time": "2022-08-29T13:58:16.749Z"
   },
   {
    "duration": 10,
    "start_time": "2022-08-29T14:02:03.600Z"
   },
   {
    "duration": 5,
    "start_time": "2022-08-29T14:02:35.440Z"
   },
   {
    "duration": 3,
    "start_time": "2022-08-29T14:02:47.109Z"
   },
   {
    "duration": 4,
    "start_time": "2022-08-29T14:05:18.385Z"
   },
   {
    "duration": 3,
    "start_time": "2022-08-29T14:06:08.671Z"
   },
   {
    "duration": 14,
    "start_time": "2022-08-29T14:06:25.535Z"
   },
   {
    "duration": 5,
    "start_time": "2022-08-29T14:07:37.274Z"
   },
   {
    "duration": 72830,
    "start_time": "2022-08-29T14:07:44.580Z"
   },
   {
    "duration": 13,
    "start_time": "2022-08-29T14:08:57.412Z"
   },
   {
    "duration": 0,
    "start_time": "2022-08-29T14:08:57.427Z"
   },
   {
    "duration": 13,
    "start_time": "2022-08-29T14:09:50.821Z"
   },
   {
    "duration": 5,
    "start_time": "2022-08-29T14:10:17.938Z"
   },
   {
    "duration": 12,
    "start_time": "2022-08-29T14:10:26.630Z"
   },
   {
    "duration": 6,
    "start_time": "2022-08-29T14:10:40.459Z"
   },
   {
    "duration": 9,
    "start_time": "2022-08-29T14:14:43.915Z"
   },
   {
    "duration": 0,
    "start_time": "2022-08-29T14:14:43.925Z"
   },
   {
    "duration": 0,
    "start_time": "2022-08-29T14:14:43.926Z"
   },
   {
    "duration": 0,
    "start_time": "2022-08-29T14:14:43.927Z"
   },
   {
    "duration": 3,
    "start_time": "2022-08-29T14:14:51.358Z"
   },
   {
    "duration": 51406,
    "start_time": "2022-08-29T14:15:03.830Z"
   },
   {
    "duration": 3,
    "start_time": "2022-08-29T14:16:00.630Z"
   },
   {
    "duration": 4399,
    "start_time": "2022-08-29T14:16:02.221Z"
   },
   {
    "duration": 0,
    "start_time": "2022-08-29T14:16:06.622Z"
   },
   {
    "duration": 14,
    "start_time": "2022-08-29T14:16:14.545Z"
   },
   {
    "duration": 11,
    "start_time": "2022-08-29T14:16:48.194Z"
   },
   {
    "duration": 299334,
    "start_time": "2022-08-29T14:16:54.772Z"
   },
   {
    "duration": 809198,
    "start_time": "2022-08-29T14:21:54.108Z"
   },
   {
    "duration": 8,
    "start_time": "2022-08-29T14:35:23.307Z"
   },
   {
    "duration": 2058,
    "start_time": "2022-08-29T14:39:37.359Z"
   },
   {
    "duration": 1468,
    "start_time": "2022-08-29T14:39:39.419Z"
   },
   {
    "duration": 744,
    "start_time": "2022-08-29T14:39:40.888Z"
   },
   {
    "duration": 25,
    "start_time": "2022-08-29T14:39:41.634Z"
   },
   {
    "duration": 4,
    "start_time": "2022-08-29T14:39:41.661Z"
   },
   {
    "duration": 124,
    "start_time": "2022-08-29T14:39:41.666Z"
   },
   {
    "duration": 453,
    "start_time": "2022-08-29T14:39:41.791Z"
   },
   {
    "duration": 949,
    "start_time": "2022-08-29T14:39:42.245Z"
   },
   {
    "duration": 11,
    "start_time": "2022-08-29T14:39:43.196Z"
   },
   {
    "duration": 102,
    "start_time": "2022-08-29T14:39:43.209Z"
   },
   {
    "duration": 95,
    "start_time": "2022-08-29T14:39:43.312Z"
   },
   {
    "duration": 82,
    "start_time": "2022-08-29T14:39:43.409Z"
   },
   {
    "duration": 47,
    "start_time": "2022-08-29T14:39:43.493Z"
   },
   {
    "duration": 10,
    "start_time": "2022-08-29T14:39:43.542Z"
   },
   {
    "duration": 1117,
    "start_time": "2022-08-29T14:39:43.553Z"
   },
   {
    "duration": 65,
    "start_time": "2022-08-29T14:39:44.672Z"
   },
   {
    "duration": 140,
    "start_time": "2022-08-29T14:39:44.738Z"
   },
   {
    "duration": 157,
    "start_time": "2022-08-29T14:39:44.880Z"
   },
   {
    "duration": 157,
    "start_time": "2022-08-29T14:39:45.038Z"
   },
   {
    "duration": 61,
    "start_time": "2022-08-29T14:39:45.196Z"
   },
   {
    "duration": 1281,
    "start_time": "2022-08-29T14:39:45.259Z"
   },
   {
    "duration": 71,
    "start_time": "2022-08-29T14:39:46.542Z"
   },
   {
    "duration": 17,
    "start_time": "2022-08-29T14:39:46.615Z"
   },
   {
    "duration": 94,
    "start_time": "2022-08-29T14:39:46.633Z"
   },
   {
    "duration": 755,
    "start_time": "2022-08-29T14:39:46.728Z"
   },
   {
    "duration": 77,
    "start_time": "2022-08-29T14:39:47.485Z"
   },
   {
    "duration": 3,
    "start_time": "2022-08-29T14:39:47.564Z"
   },
   {
    "duration": 7,
    "start_time": "2022-08-29T14:39:47.569Z"
   },
   {
    "duration": 24,
    "start_time": "2022-08-29T14:39:47.577Z"
   },
   {
    "duration": 75086,
    "start_time": "2022-08-29T14:39:47.603Z"
   },
   {
    "duration": 3,
    "start_time": "2022-08-29T14:41:02.691Z"
   },
   {
    "duration": 258124,
    "start_time": "2022-08-29T14:41:02.695Z"
   },
   {
    "duration": 4,
    "start_time": "2022-08-29T14:45:20.821Z"
   },
   {
    "duration": 808005,
    "start_time": "2022-08-29T14:45:20.826Z"
   },
   {
    "duration": 9,
    "start_time": "2022-08-29T14:58:48.833Z"
   },
   {
    "duration": 77,
    "start_time": "2022-08-29T15:49:15.519Z"
   },
   {
    "duration": 112,
    "start_time": "2022-08-29T15:49:30.424Z"
   },
   {
    "duration": 2058,
    "start_time": "2022-08-29T16:06:54.228Z"
   },
   {
    "duration": 1480,
    "start_time": "2022-08-29T16:06:56.288Z"
   },
   {
    "duration": 773,
    "start_time": "2022-08-29T16:06:57.769Z"
   },
   {
    "duration": 25,
    "start_time": "2022-08-29T16:06:58.544Z"
   },
   {
    "duration": 3,
    "start_time": "2022-08-29T16:06:58.571Z"
   },
   {
    "duration": 125,
    "start_time": "2022-08-29T16:06:58.576Z"
   },
   {
    "duration": 425,
    "start_time": "2022-08-29T16:06:58.706Z"
   },
   {
    "duration": 933,
    "start_time": "2022-08-29T16:06:59.132Z"
   },
   {
    "duration": 4,
    "start_time": "2022-08-29T16:07:00.067Z"
   },
   {
    "duration": 114,
    "start_time": "2022-08-29T16:07:00.074Z"
   },
   {
    "duration": 109,
    "start_time": "2022-08-29T16:07:00.190Z"
   },
   {
    "duration": 89,
    "start_time": "2022-08-29T16:07:00.306Z"
   },
   {
    "duration": 43,
    "start_time": "2022-08-29T16:07:00.397Z"
   },
   {
    "duration": 9,
    "start_time": "2022-08-29T16:07:00.442Z"
   },
   {
    "duration": 1083,
    "start_time": "2022-08-29T16:07:00.453Z"
   },
   {
    "duration": 69,
    "start_time": "2022-08-29T16:07:01.538Z"
   },
   {
    "duration": 150,
    "start_time": "2022-08-29T16:07:01.608Z"
   },
   {
    "duration": 149,
    "start_time": "2022-08-29T16:07:01.759Z"
   },
   {
    "duration": 165,
    "start_time": "2022-08-29T16:07:01.909Z"
   },
   {
    "duration": 60,
    "start_time": "2022-08-29T16:07:02.076Z"
   },
   {
    "duration": 1081,
    "start_time": "2022-08-29T16:07:02.137Z"
   },
   {
    "duration": 65,
    "start_time": "2022-08-29T16:07:03.219Z"
   },
   {
    "duration": 33,
    "start_time": "2022-08-29T16:07:03.286Z"
   },
   {
    "duration": 90,
    "start_time": "2022-08-29T16:07:03.321Z"
   },
   {
    "duration": 816,
    "start_time": "2022-08-29T16:07:03.412Z"
   },
   {
    "duration": 87,
    "start_time": "2022-08-29T16:07:04.230Z"
   },
   {
    "duration": 3,
    "start_time": "2022-08-29T16:07:04.319Z"
   },
   {
    "duration": 17,
    "start_time": "2022-08-29T16:07:04.325Z"
   },
   {
    "duration": 20,
    "start_time": "2022-08-29T16:07:04.343Z"
   },
   {
    "duration": 121,
    "start_time": "2022-08-29T16:07:04.364Z"
   },
   {
    "duration": 0,
    "start_time": "2022-08-29T16:07:04.487Z"
   },
   {
    "duration": 0,
    "start_time": "2022-08-29T16:07:04.488Z"
   },
   {
    "duration": 0,
    "start_time": "2022-08-29T16:07:04.489Z"
   },
   {
    "duration": 0,
    "start_time": "2022-08-29T16:07:04.490Z"
   },
   {
    "duration": 0,
    "start_time": "2022-08-29T16:07:04.491Z"
   },
   {
    "duration": 2055,
    "start_time": "2022-08-29T16:11:45.619Z"
   },
   {
    "duration": 1486,
    "start_time": "2022-08-29T16:11:47.677Z"
   },
   {
    "duration": 797,
    "start_time": "2022-08-29T16:11:49.164Z"
   },
   {
    "duration": 25,
    "start_time": "2022-08-29T16:11:49.963Z"
   },
   {
    "duration": 3,
    "start_time": "2022-08-29T16:11:49.990Z"
   },
   {
    "duration": 126,
    "start_time": "2022-08-29T16:11:49.994Z"
   },
   {
    "duration": 448,
    "start_time": "2022-08-29T16:11:50.122Z"
   },
   {
    "duration": 937,
    "start_time": "2022-08-29T16:11:50.572Z"
   },
   {
    "duration": 4,
    "start_time": "2022-08-29T16:11:51.512Z"
   },
   {
    "duration": 117,
    "start_time": "2022-08-29T16:11:51.518Z"
   },
   {
    "duration": 109,
    "start_time": "2022-08-29T16:11:51.638Z"
   },
   {
    "duration": 97,
    "start_time": "2022-08-29T16:11:51.748Z"
   },
   {
    "duration": 39,
    "start_time": "2022-08-29T16:11:51.847Z"
   },
   {
    "duration": 26,
    "start_time": "2022-08-29T16:11:51.888Z"
   },
   {
    "duration": 1144,
    "start_time": "2022-08-29T16:11:51.916Z"
   },
   {
    "duration": 74,
    "start_time": "2022-08-29T16:11:53.062Z"
   },
   {
    "duration": 177,
    "start_time": "2022-08-29T16:11:53.138Z"
   },
   {
    "duration": 171,
    "start_time": "2022-08-29T16:11:53.317Z"
   },
   {
    "duration": 197,
    "start_time": "2022-08-29T16:11:53.490Z"
   },
   {
    "duration": 63,
    "start_time": "2022-08-29T16:11:53.689Z"
   },
   {
    "duration": 1163,
    "start_time": "2022-08-29T16:11:53.754Z"
   },
   {
    "duration": 72,
    "start_time": "2022-08-29T16:11:54.918Z"
   },
   {
    "duration": 31,
    "start_time": "2022-08-29T16:11:54.991Z"
   },
   {
    "duration": 97,
    "start_time": "2022-08-29T16:11:55.024Z"
   },
   {
    "duration": 838,
    "start_time": "2022-08-29T16:11:55.124Z"
   },
   {
    "duration": 97,
    "start_time": "2022-08-29T16:11:55.963Z"
   },
   {
    "duration": 4,
    "start_time": "2022-08-29T16:11:56.062Z"
   },
   {
    "duration": 99,
    "start_time": "2022-08-29T16:11:56.069Z"
   },
   {
    "duration": 0,
    "start_time": "2022-08-29T16:11:56.170Z"
   },
   {
    "duration": 0,
    "start_time": "2022-08-29T16:11:56.172Z"
   },
   {
    "duration": 0,
    "start_time": "2022-08-29T16:11:56.173Z"
   },
   {
    "duration": 0,
    "start_time": "2022-08-29T16:11:56.174Z"
   },
   {
    "duration": 0,
    "start_time": "2022-08-29T16:11:56.176Z"
   },
   {
    "duration": 0,
    "start_time": "2022-08-29T16:11:56.178Z"
   },
   {
    "duration": 0,
    "start_time": "2022-08-29T16:11:56.179Z"
   },
   {
    "duration": 92,
    "start_time": "2022-08-29T16:13:13.939Z"
   },
   {
    "duration": 4,
    "start_time": "2022-08-29T16:13:52.724Z"
   },
   {
    "duration": 1944,
    "start_time": "2022-08-29T16:14:00.897Z"
   },
   {
    "duration": 1456,
    "start_time": "2022-08-29T16:14:02.843Z"
   },
   {
    "duration": 768,
    "start_time": "2022-08-29T16:14:04.301Z"
   },
   {
    "duration": 26,
    "start_time": "2022-08-29T16:14:05.071Z"
   },
   {
    "duration": 4,
    "start_time": "2022-08-29T16:14:05.107Z"
   },
   {
    "duration": 124,
    "start_time": "2022-08-29T16:14:05.113Z"
   },
   {
    "duration": 459,
    "start_time": "2022-08-29T16:14:05.239Z"
   },
   {
    "duration": 1002,
    "start_time": "2022-08-29T16:14:05.700Z"
   },
   {
    "duration": 4,
    "start_time": "2022-08-29T16:14:06.706Z"
   },
   {
    "duration": 112,
    "start_time": "2022-08-29T16:14:06.711Z"
   },
   {
    "duration": 97,
    "start_time": "2022-08-29T16:14:06.824Z"
   },
   {
    "duration": 100,
    "start_time": "2022-08-29T16:14:06.923Z"
   },
   {
    "duration": 37,
    "start_time": "2022-08-29T16:14:07.025Z"
   },
   {
    "duration": 11,
    "start_time": "2022-08-29T16:14:07.065Z"
   },
   {
    "duration": 1112,
    "start_time": "2022-08-29T16:14:07.077Z"
   },
   {
    "duration": 64,
    "start_time": "2022-08-29T16:14:08.191Z"
   },
   {
    "duration": 161,
    "start_time": "2022-08-29T16:14:08.258Z"
   },
   {
    "duration": 159,
    "start_time": "2022-08-29T16:14:08.422Z"
   },
   {
    "duration": 180,
    "start_time": "2022-08-29T16:14:08.582Z"
   },
   {
    "duration": 67,
    "start_time": "2022-08-29T16:14:08.764Z"
   },
   {
    "duration": 1105,
    "start_time": "2022-08-29T16:14:08.833Z"
   },
   {
    "duration": 73,
    "start_time": "2022-08-29T16:14:09.940Z"
   },
   {
    "duration": 22,
    "start_time": "2022-08-29T16:14:10.014Z"
   },
   {
    "duration": 102,
    "start_time": "2022-08-29T16:14:10.039Z"
   },
   {
    "duration": 868,
    "start_time": "2022-08-29T16:14:10.143Z"
   },
   {
    "duration": 79,
    "start_time": "2022-08-29T16:14:11.013Z"
   },
   {
    "duration": 3,
    "start_time": "2022-08-29T16:14:11.107Z"
   },
   {
    "duration": 10,
    "start_time": "2022-08-29T16:14:11.111Z"
   },
   {
    "duration": 19,
    "start_time": "2022-08-29T16:14:11.122Z"
   },
   {
    "duration": 76104,
    "start_time": "2022-08-29T16:14:11.143Z"
   },
   {
    "duration": 3,
    "start_time": "2022-08-29T16:15:27.249Z"
   },
   {
    "duration": 251770,
    "start_time": "2022-08-29T16:15:27.254Z"
   },
   {
    "duration": 3,
    "start_time": "2022-08-29T16:19:39.026Z"
   },
   {
    "duration": 929461,
    "start_time": "2022-08-29T16:19:39.031Z"
   },
   {
    "duration": 14,
    "start_time": "2022-08-29T16:35:08.493Z"
   },
   {
    "duration": 67,
    "start_time": "2022-08-29T20:45:22.985Z"
   },
   {
    "duration": 3104,
    "start_time": "2022-08-29T20:45:33.147Z"
   },
   {
    "duration": 2756,
    "start_time": "2022-08-29T20:45:36.254Z"
   },
   {
    "duration": 1083,
    "start_time": "2022-08-29T20:45:39.012Z"
   },
   {
    "duration": 32,
    "start_time": "2022-08-29T20:45:40.097Z"
   },
   {
    "duration": 3,
    "start_time": "2022-08-29T20:45:40.130Z"
   },
   {
    "duration": 143,
    "start_time": "2022-08-29T20:45:40.135Z"
   },
   {
    "duration": 451,
    "start_time": "2022-08-29T20:45:40.280Z"
   },
   {
    "duration": 886,
    "start_time": "2022-08-29T20:45:40.733Z"
   },
   {
    "duration": 4,
    "start_time": "2022-08-29T20:45:41.621Z"
   },
   {
    "duration": 129,
    "start_time": "2022-08-29T20:45:41.627Z"
   },
   {
    "duration": 112,
    "start_time": "2022-08-29T20:45:41.757Z"
   },
   {
    "duration": 85,
    "start_time": "2022-08-29T20:45:41.871Z"
   },
   {
    "duration": 44,
    "start_time": "2022-08-29T20:45:41.958Z"
   },
   {
    "duration": 10,
    "start_time": "2022-08-29T20:45:42.004Z"
   },
   {
    "duration": 1038,
    "start_time": "2022-08-29T20:45:42.016Z"
   },
   {
    "duration": 56,
    "start_time": "2022-08-29T20:45:43.055Z"
   },
   {
    "duration": 138,
    "start_time": "2022-08-29T20:45:43.112Z"
   },
   {
    "duration": 136,
    "start_time": "2022-08-29T20:45:43.252Z"
   },
   {
    "duration": 151,
    "start_time": "2022-08-29T20:45:43.389Z"
   },
   {
    "duration": 56,
    "start_time": "2022-08-29T20:45:43.542Z"
   },
   {
    "duration": 1037,
    "start_time": "2022-08-29T20:45:43.599Z"
   },
   {
    "duration": 81,
    "start_time": "2022-08-29T20:45:44.638Z"
   },
   {
    "duration": 18,
    "start_time": "2022-08-29T20:45:44.720Z"
   },
   {
    "duration": 99,
    "start_time": "2022-08-29T20:45:44.739Z"
   },
   {
    "duration": 820,
    "start_time": "2022-08-29T20:45:44.840Z"
   },
   {
    "duration": 80,
    "start_time": "2022-08-29T20:45:45.661Z"
   },
   {
    "duration": 3,
    "start_time": "2022-08-29T20:45:45.742Z"
   },
   {
    "duration": 10,
    "start_time": "2022-08-29T20:45:45.748Z"
   },
   {
    "duration": 16,
    "start_time": "2022-08-29T20:45:45.759Z"
   },
   {
    "duration": 67792,
    "start_time": "2022-08-29T20:45:45.777Z"
   },
   {
    "duration": 4,
    "start_time": "2022-08-29T20:46:53.571Z"
   },
   {
    "duration": 328030,
    "start_time": "2022-08-29T20:46:53.577Z"
   },
   {
    "duration": 3,
    "start_time": "2022-08-29T20:52:21.686Z"
   },
   {
    "duration": 2038,
    "start_time": "2022-08-29T20:53:37.721Z"
   },
   {
    "duration": 1439,
    "start_time": "2022-08-29T20:53:39.762Z"
   },
   {
    "duration": 761,
    "start_time": "2022-08-29T20:53:41.203Z"
   },
   {
    "duration": 30,
    "start_time": "2022-08-29T20:53:41.966Z"
   },
   {
    "duration": 3,
    "start_time": "2022-08-29T20:53:41.998Z"
   },
   {
    "duration": 135,
    "start_time": "2022-08-29T20:53:42.003Z"
   },
   {
    "duration": 442,
    "start_time": "2022-08-29T20:53:42.140Z"
   },
   {
    "duration": 897,
    "start_time": "2022-08-29T20:53:42.583Z"
   },
   {
    "duration": 4,
    "start_time": "2022-08-29T20:53:43.487Z"
   },
   {
    "duration": 120,
    "start_time": "2022-08-29T20:53:43.495Z"
   },
   {
    "duration": 109,
    "start_time": "2022-08-29T20:53:43.617Z"
   },
   {
    "duration": 91,
    "start_time": "2022-08-29T20:53:43.728Z"
   },
   {
    "duration": 34,
    "start_time": "2022-08-29T20:53:43.821Z"
   },
   {
    "duration": 10,
    "start_time": "2022-08-29T20:53:43.857Z"
   },
   {
    "duration": 1015,
    "start_time": "2022-08-29T20:53:43.886Z"
   },
   {
    "duration": 52,
    "start_time": "2022-08-29T20:53:44.903Z"
   },
   {
    "duration": 157,
    "start_time": "2022-08-29T20:53:44.957Z"
   },
   {
    "duration": 135,
    "start_time": "2022-08-29T20:53:45.116Z"
   },
   {
    "duration": 154,
    "start_time": "2022-08-29T20:53:45.253Z"
   },
   {
    "duration": 47,
    "start_time": "2022-08-29T20:53:45.409Z"
   },
   {
    "duration": 1126,
    "start_time": "2022-08-29T20:53:45.458Z"
   },
   {
    "duration": 83,
    "start_time": "2022-08-29T20:53:46.586Z"
   },
   {
    "duration": 30,
    "start_time": "2022-08-29T20:53:46.671Z"
   },
   {
    "duration": 91,
    "start_time": "2022-08-29T20:53:46.703Z"
   },
   {
    "duration": 864,
    "start_time": "2022-08-29T20:53:46.797Z"
   },
   {
    "duration": 77,
    "start_time": "2022-08-29T20:53:47.663Z"
   },
   {
    "duration": 3,
    "start_time": "2022-08-29T20:53:47.742Z"
   },
   {
    "duration": 5,
    "start_time": "2022-08-29T20:53:47.748Z"
   },
   {
    "duration": 5,
    "start_time": "2022-08-29T20:53:47.754Z"
   },
   {
    "duration": 67854,
    "start_time": "2022-08-29T20:53:47.760Z"
   },
   {
    "duration": 4,
    "start_time": "2022-08-29T20:54:55.617Z"
   },
   {
    "duration": 1621290,
    "start_time": "2022-08-29T20:54:55.622Z"
   },
   {
    "duration": 3,
    "start_time": "2022-08-29T21:21:56.913Z"
   },
   {
    "duration": 977378,
    "start_time": "2022-08-29T21:21:56.918Z"
   },
   {
    "duration": 9,
    "start_time": "2022-08-29T21:38:14.298Z"
   },
   {
    "duration": 146,
    "start_time": "2022-08-30T10:02:11.011Z"
   },
   {
    "duration": 3341,
    "start_time": "2022-08-30T10:13:21.636Z"
   },
   {
    "duration": 1996,
    "start_time": "2022-08-30T10:13:24.980Z"
   },
   {
    "duration": 3024,
    "start_time": "2022-08-30T10:13:26.978Z"
   },
   {
    "duration": 31,
    "start_time": "2022-08-30T10:13:30.003Z"
   },
   {
    "duration": 4,
    "start_time": "2022-08-30T10:13:30.037Z"
   },
   {
    "duration": 153,
    "start_time": "2022-08-30T10:13:30.043Z"
   },
   {
    "duration": 489,
    "start_time": "2022-08-30T10:13:30.198Z"
   },
   {
    "duration": 981,
    "start_time": "2022-08-30T10:13:30.691Z"
   },
   {
    "duration": 4,
    "start_time": "2022-08-30T10:13:31.674Z"
   },
   {
    "duration": 148,
    "start_time": "2022-08-30T10:13:31.680Z"
   },
   {
    "duration": 169,
    "start_time": "2022-08-30T10:13:31.830Z"
   },
   {
    "duration": 119,
    "start_time": "2022-08-30T10:13:32.001Z"
   },
   {
    "duration": 36,
    "start_time": "2022-08-30T10:13:32.122Z"
   },
   {
    "duration": 11,
    "start_time": "2022-08-30T10:13:32.160Z"
   },
   {
    "duration": 1136,
    "start_time": "2022-08-30T10:13:32.173Z"
   },
   {
    "duration": 60,
    "start_time": "2022-08-30T10:13:33.311Z"
   },
   {
    "duration": 161,
    "start_time": "2022-08-30T10:13:33.373Z"
   },
   {
    "duration": 158,
    "start_time": "2022-08-30T10:13:33.536Z"
   },
   {
    "duration": 168,
    "start_time": "2022-08-30T10:13:33.696Z"
   },
   {
    "duration": 66,
    "start_time": "2022-08-30T10:13:33.866Z"
   },
   {
    "duration": 1239,
    "start_time": "2022-08-30T10:13:33.933Z"
   },
   {
    "duration": 95,
    "start_time": "2022-08-30T10:13:35.173Z"
   },
   {
    "duration": 31,
    "start_time": "2022-08-30T10:13:35.269Z"
   },
   {
    "duration": 97,
    "start_time": "2022-08-30T10:13:35.302Z"
   },
   {
    "duration": 944,
    "start_time": "2022-08-30T10:13:35.401Z"
   },
   {
    "duration": 85,
    "start_time": "2022-08-30T10:13:36.347Z"
   },
   {
    "duration": 3,
    "start_time": "2022-08-30T10:13:36.434Z"
   },
   {
    "duration": 17,
    "start_time": "2022-08-30T10:13:36.439Z"
   },
   {
    "duration": 10,
    "start_time": "2022-08-30T10:13:36.458Z"
   },
   {
    "duration": 76631,
    "start_time": "2022-08-30T10:13:36.469Z"
   },
   {
    "duration": 4,
    "start_time": "2022-08-30T10:14:53.102Z"
   },
   {
    "duration": 258710,
    "start_time": "2022-08-30T10:14:53.107Z"
   },
   {
    "duration": 73,
    "start_time": "2022-08-30T10:19:11.820Z"
   },
   {
    "duration": 1099008,
    "start_time": "2022-08-30T10:19:11.895Z"
   },
   {
    "duration": 10,
    "start_time": "2022-08-30T10:37:30.904Z"
   },
   {
    "duration": 4,
    "start_time": "2022-08-30T10:46:19.110Z"
   },
   {
    "duration": 2357,
    "start_time": "2022-08-30T10:46:25.956Z"
   },
   {
    "duration": 1520,
    "start_time": "2022-08-30T10:46:28.315Z"
   },
   {
    "duration": 874,
    "start_time": "2022-08-30T10:46:29.837Z"
   },
   {
    "duration": 27,
    "start_time": "2022-08-30T10:46:30.713Z"
   },
   {
    "duration": 8,
    "start_time": "2022-08-30T10:46:30.743Z"
   },
   {
    "duration": 143,
    "start_time": "2022-08-30T10:46:30.752Z"
   },
   {
    "duration": 501,
    "start_time": "2022-08-30T10:46:30.897Z"
   },
   {
    "duration": 1053,
    "start_time": "2022-08-30T10:46:31.399Z"
   },
   {
    "duration": 5,
    "start_time": "2022-08-30T10:46:32.454Z"
   },
   {
    "duration": 151,
    "start_time": "2022-08-30T10:46:32.460Z"
   },
   {
    "duration": 121,
    "start_time": "2022-08-30T10:46:32.613Z"
   },
   {
    "duration": 97,
    "start_time": "2022-08-30T10:46:32.735Z"
   },
   {
    "duration": 37,
    "start_time": "2022-08-30T10:46:32.833Z"
   },
   {
    "duration": 25,
    "start_time": "2022-08-30T10:46:32.873Z"
   },
   {
    "duration": 1156,
    "start_time": "2022-08-30T10:46:32.900Z"
   },
   {
    "duration": 73,
    "start_time": "2022-08-30T10:46:34.058Z"
   },
   {
    "duration": 160,
    "start_time": "2022-08-30T10:46:34.133Z"
   },
   {
    "duration": 158,
    "start_time": "2022-08-30T10:46:34.295Z"
   },
   {
    "duration": 177,
    "start_time": "2022-08-30T10:46:34.454Z"
   },
   {
    "duration": 65,
    "start_time": "2022-08-30T10:46:34.633Z"
   },
   {
    "duration": 1197,
    "start_time": "2022-08-30T10:46:34.699Z"
   },
   {
    "duration": 93,
    "start_time": "2022-08-30T10:46:35.898Z"
   },
   {
    "duration": 26,
    "start_time": "2022-08-30T10:46:35.994Z"
   },
   {
    "duration": 109,
    "start_time": "2022-08-30T10:46:36.022Z"
   },
   {
    "duration": 1155,
    "start_time": "2022-08-30T10:46:36.133Z"
   },
   {
    "duration": 89,
    "start_time": "2022-08-30T10:46:37.290Z"
   },
   {
    "duration": 9,
    "start_time": "2022-08-30T10:46:37.382Z"
   },
   {
    "duration": 7,
    "start_time": "2022-08-30T10:46:37.393Z"
   },
   {
    "duration": 8,
    "start_time": "2022-08-30T10:46:37.402Z"
   },
   {
    "duration": 96440,
    "start_time": "2022-08-30T10:46:37.412Z"
   },
   {
    "duration": 3,
    "start_time": "2022-08-30T10:48:13.854Z"
   },
   {
    "duration": 246352,
    "start_time": "2022-08-30T10:48:13.859Z"
   },
   {
    "duration": 3,
    "start_time": "2022-08-30T10:52:20.213Z"
   },
   {
    "duration": 1065423,
    "start_time": "2022-08-30T10:52:20.218Z"
   },
   {
    "duration": 9,
    "start_time": "2022-08-30T11:10:05.643Z"
   },
   {
    "duration": 8,
    "start_time": "2022-08-30T12:03:36.002Z"
   },
   {
    "duration": 6375,
    "start_time": "2022-08-30T12:11:00.918Z"
   },
   {
    "duration": 2792,
    "start_time": "2022-08-30T12:11:07.295Z"
   },
   {
    "duration": 826,
    "start_time": "2022-08-30T12:11:10.088Z"
   },
   {
    "duration": 30,
    "start_time": "2022-08-30T12:11:10.916Z"
   },
   {
    "duration": 4,
    "start_time": "2022-08-30T12:11:10.947Z"
   },
   {
    "duration": 113,
    "start_time": "2022-08-30T12:11:10.952Z"
   },
   {
    "duration": 420,
    "start_time": "2022-08-30T12:11:11.066Z"
   },
   {
    "duration": 802,
    "start_time": "2022-08-30T12:11:11.487Z"
   },
   {
    "duration": 3,
    "start_time": "2022-08-30T12:11:12.290Z"
   },
   {
    "duration": 101,
    "start_time": "2022-08-30T12:11:12.296Z"
   },
   {
    "duration": 102,
    "start_time": "2022-08-30T12:11:12.399Z"
   },
   {
    "duration": 87,
    "start_time": "2022-08-30T12:11:12.503Z"
   },
   {
    "duration": 29,
    "start_time": "2022-08-30T12:11:12.591Z"
   },
   {
    "duration": 16,
    "start_time": "2022-08-30T12:11:12.621Z"
   },
   {
    "duration": 991,
    "start_time": "2022-08-30T12:11:12.639Z"
   },
   {
    "duration": 56,
    "start_time": "2022-08-30T12:11:13.631Z"
   },
   {
    "duration": 144,
    "start_time": "2022-08-30T12:11:13.689Z"
   },
   {
    "duration": 132,
    "start_time": "2022-08-30T12:11:13.835Z"
   },
   {
    "duration": 146,
    "start_time": "2022-08-30T12:11:13.968Z"
   },
   {
    "duration": 54,
    "start_time": "2022-08-30T12:11:14.115Z"
   },
   {
    "duration": 1009,
    "start_time": "2022-08-30T12:11:14.170Z"
   },
   {
    "duration": 61,
    "start_time": "2022-08-30T12:11:15.181Z"
   },
   {
    "duration": 17,
    "start_time": "2022-08-30T12:11:15.244Z"
   },
   {
    "duration": 107,
    "start_time": "2022-08-30T12:11:15.263Z"
   },
   {
    "duration": 773,
    "start_time": "2022-08-30T12:11:15.372Z"
   },
   {
    "duration": 73,
    "start_time": "2022-08-30T12:11:16.146Z"
   },
   {
    "duration": 12,
    "start_time": "2022-08-30T12:11:16.220Z"
   },
   {
    "duration": 5,
    "start_time": "2022-08-30T12:11:16.234Z"
   },
   {
    "duration": 103,
    "start_time": "2022-08-30T12:11:39.605Z"
   },
   {
    "duration": 24890,
    "start_time": "2022-08-30T12:11:58.663Z"
   },
   {
    "duration": 3,
    "start_time": "2022-08-30T12:12:31.966Z"
   },
   {
    "duration": 112,
    "start_time": "2022-08-30T12:12:37.395Z"
   },
   {
    "duration": 24993,
    "start_time": "2022-08-30T12:12:45.671Z"
   },
   {
    "duration": 2488,
    "start_time": "2022-08-30T12:21:53.541Z"
   },
   {
    "duration": 1639,
    "start_time": "2022-08-30T12:21:56.032Z"
   },
   {
    "duration": 893,
    "start_time": "2022-08-30T12:21:57.672Z"
   },
   {
    "duration": 32,
    "start_time": "2022-08-30T12:21:58.568Z"
   },
   {
    "duration": 3,
    "start_time": "2022-08-30T12:21:58.602Z"
   },
   {
    "duration": 171,
    "start_time": "2022-08-30T12:21:58.607Z"
   },
   {
    "duration": 498,
    "start_time": "2022-08-30T12:21:58.779Z"
   },
   {
    "duration": 1066,
    "start_time": "2022-08-30T12:21:59.279Z"
   },
   {
    "duration": 4,
    "start_time": "2022-08-30T12:22:00.347Z"
   },
   {
    "duration": 156,
    "start_time": "2022-08-30T12:22:00.353Z"
   },
   {
    "duration": 118,
    "start_time": "2022-08-30T12:22:00.510Z"
   },
   {
    "duration": 99,
    "start_time": "2022-08-30T12:22:00.630Z"
   },
   {
    "duration": 36,
    "start_time": "2022-08-30T12:22:00.731Z"
   },
   {
    "duration": 25,
    "start_time": "2022-08-30T12:22:00.768Z"
   },
   {
    "duration": 1259,
    "start_time": "2022-08-30T12:22:00.795Z"
   },
   {
    "duration": 85,
    "start_time": "2022-08-30T12:22:02.055Z"
   },
   {
    "duration": 160,
    "start_time": "2022-08-30T12:22:02.142Z"
   },
   {
    "duration": 149,
    "start_time": "2022-08-30T12:22:02.303Z"
   },
   {
    "duration": 171,
    "start_time": "2022-08-30T12:22:02.454Z"
   },
   {
    "duration": 53,
    "start_time": "2022-08-30T12:22:02.626Z"
   },
   {
    "duration": 1170,
    "start_time": "2022-08-30T12:22:02.692Z"
   },
   {
    "duration": 101,
    "start_time": "2022-08-30T12:22:03.864Z"
   },
   {
    "duration": 37,
    "start_time": "2022-08-30T12:22:03.967Z"
   },
   {
    "duration": 103,
    "start_time": "2022-08-30T12:22:04.006Z"
   },
   {
    "duration": 916,
    "start_time": "2022-08-30T12:22:04.111Z"
   },
   {
    "duration": 94,
    "start_time": "2022-08-30T12:22:05.029Z"
   },
   {
    "duration": 4,
    "start_time": "2022-08-30T12:22:05.125Z"
   },
   {
    "duration": 6,
    "start_time": "2022-08-30T12:22:05.134Z"
   },
   {
    "duration": 19,
    "start_time": "2022-08-30T12:22:05.142Z"
   },
   {
    "duration": 48331,
    "start_time": "2022-08-30T12:22:05.163Z"
   },
   {
    "duration": 4,
    "start_time": "2022-08-30T12:22:53.495Z"
   },
   {
    "duration": 161398,
    "start_time": "2022-08-30T12:22:53.501Z"
   },
   {
    "duration": 3,
    "start_time": "2022-08-30T12:25:34.901Z"
   },
   {
    "duration": 544573,
    "start_time": "2022-08-30T12:25:34.906Z"
   },
   {
    "duration": 11,
    "start_time": "2022-08-30T12:34:39.481Z"
   },
   {
    "duration": 9,
    "start_time": "2022-08-30T12:43:26.423Z"
   },
   {
    "duration": 10,
    "start_time": "2022-08-30T12:51:06.005Z"
   },
   {
    "duration": 9,
    "start_time": "2022-08-30T12:51:39.134Z"
   },
   {
    "duration": 207,
    "start_time": "2022-08-30T12:55:57.682Z"
   },
   {
    "duration": 121,
    "start_time": "2022-08-30T13:00:41.348Z"
   },
   {
    "duration": 2493,
    "start_time": "2022-08-30T13:13:52.168Z"
   },
   {
    "duration": 1556,
    "start_time": "2022-08-30T13:13:54.663Z"
   },
   {
    "duration": 898,
    "start_time": "2022-08-30T13:13:56.220Z"
   },
   {
    "duration": 36,
    "start_time": "2022-08-30T13:13:57.120Z"
   },
   {
    "duration": 7,
    "start_time": "2022-08-30T13:13:57.158Z"
   },
   {
    "duration": 161,
    "start_time": "2022-08-30T13:13:57.166Z"
   },
   {
    "duration": 526,
    "start_time": "2022-08-30T13:13:57.329Z"
   },
   {
    "duration": 1067,
    "start_time": "2022-08-30T13:13:57.856Z"
   },
   {
    "duration": 4,
    "start_time": "2022-08-30T13:13:58.926Z"
   },
   {
    "duration": 144,
    "start_time": "2022-08-30T13:13:58.934Z"
   },
   {
    "duration": 124,
    "start_time": "2022-08-30T13:13:59.080Z"
   },
   {
    "duration": 105,
    "start_time": "2022-08-30T13:13:59.206Z"
   },
   {
    "duration": 39,
    "start_time": "2022-08-30T13:13:59.313Z"
   },
   {
    "duration": 12,
    "start_time": "2022-08-30T13:13:59.354Z"
   },
   {
    "duration": 1180,
    "start_time": "2022-08-30T13:13:59.393Z"
   },
   {
    "duration": 70,
    "start_time": "2022-08-30T13:14:00.575Z"
   },
   {
    "duration": 158,
    "start_time": "2022-08-30T13:14:00.646Z"
   },
   {
    "duration": 149,
    "start_time": "2022-08-30T13:14:00.806Z"
   },
   {
    "duration": 170,
    "start_time": "2022-08-30T13:14:00.956Z"
   },
   {
    "duration": 64,
    "start_time": "2022-08-30T13:14:01.128Z"
   },
   {
    "duration": 1256,
    "start_time": "2022-08-30T13:14:01.194Z"
   },
   {
    "duration": 86,
    "start_time": "2022-08-30T13:14:02.452Z"
   },
   {
    "duration": 34,
    "start_time": "2022-08-30T13:14:02.541Z"
   },
   {
    "duration": 111,
    "start_time": "2022-08-30T13:14:02.577Z"
   },
   {
    "duration": 917,
    "start_time": "2022-08-30T13:14:02.690Z"
   },
   {
    "duration": 97,
    "start_time": "2022-08-30T13:14:03.609Z"
   },
   {
    "duration": 4,
    "start_time": "2022-08-30T13:14:03.708Z"
   },
   {
    "duration": 11,
    "start_time": "2022-08-30T13:14:03.717Z"
   },
   {
    "duration": 6,
    "start_time": "2022-08-30T13:14:03.730Z"
   },
   {
    "duration": 46503,
    "start_time": "2022-08-30T13:14:03.737Z"
   },
   {
    "duration": 4,
    "start_time": "2022-08-30T13:14:50.242Z"
   },
   {
    "duration": 389149,
    "start_time": "2022-08-30T13:14:50.248Z"
   },
   {
    "duration": 4,
    "start_time": "2022-08-30T13:21:19.399Z"
   },
   {
    "duration": 564412,
    "start_time": "2022-08-30T13:21:19.406Z"
   },
   {
    "duration": 11,
    "start_time": "2022-08-30T13:30:43.819Z"
   },
   {
    "duration": 91,
    "start_time": "2022-08-30T13:41:33.927Z"
   },
   {
    "duration": 240,
    "start_time": "2022-08-30T13:44:46.682Z"
   },
   {
    "duration": 4,
    "start_time": "2022-08-30T13:50:13.110Z"
   },
   {
    "duration": 92,
    "start_time": "2022-08-30T13:51:33.147Z"
   },
   {
    "duration": 13,
    "start_time": "2022-08-30T13:59:11.939Z"
   }
  ],
  "kernelspec": {
   "display_name": "Python 3 (ipykernel)",
   "language": "python",
   "name": "python3"
  },
  "language_info": {
   "codemirror_mode": {
    "name": "ipython",
    "version": 3
   },
   "file_extension": ".py",
   "mimetype": "text/x-python",
   "name": "python",
   "nbconvert_exporter": "python",
   "pygments_lexer": "ipython3",
   "version": "3.9.7"
  },
  "toc": {
   "base_numbering": 1,
   "nav_menu": {},
   "number_sections": true,
   "sideBar": true,
   "skip_h1_title": true,
   "title_cell": "Table of Contents",
   "title_sidebar": "Contents",
   "toc_cell": false,
   "toc_position": {},
   "toc_section_display": true,
   "toc_window_display": false
  }
 },
 "nbformat": 4,
 "nbformat_minor": 2
}
