{
 "cells": [
  {
   "cell_type": "markdown",
   "metadata": {
    "toc": true
   },
   "source": [
    "<h1>Содержание<span class=\"tocSkip\"></span></h1>\n",
    "<div class=\"toc\"><ul class=\"toc-item\"><li><span><a href=\"#Подготовка\" data-toc-modified-id=\"Подготовка-1\"><span class=\"toc-item-num\">1&nbsp;&nbsp;</span>Подготовка</a></span></li><li><span><a href=\"#Обучение\" data-toc-modified-id=\"Обучение-2\"><span class=\"toc-item-num\">2&nbsp;&nbsp;</span>Обучение</a></span><ul class=\"toc-item\"><li><span><a href=\"#Тестирование\" data-toc-modified-id=\"Тестирование-2.1\"><span class=\"toc-item-num\">2.1&nbsp;&nbsp;</span>Тестирование</a></span></li></ul></li><li><span><a href=\"#Выводы\" data-toc-modified-id=\"Выводы-3\"><span class=\"toc-item-num\">3&nbsp;&nbsp;</span>Выводы</a></span></li><li><span><a href=\"#Чек-лист-проверки\" data-toc-modified-id=\"Чек-лист-проверки-4\"><span class=\"toc-item-num\">4&nbsp;&nbsp;</span>Чек-лист проверки</a></span></li></ul></div>"
   ]
  },
  {
   "cell_type": "markdown",
   "metadata": {},
   "source": [
    "# Проект для «Викишоп»"
   ]
  },
  {
   "cell_type": "markdown",
   "metadata": {},
   "source": [
    "Интернет-магазин «Викишоп» запускает новый сервис. Теперь пользователи могут редактировать и дополнять описания товаров, как в вики-сообществах. То есть клиенты предлагают свои правки и комментируют изменения других. Магазину нужен инструмент, который будет искать токсичные комментарии и отправлять их на модерацию. \n",
    "\n",
    "Обучите модель классифицировать комментарии на позитивные и негативные. В вашем распоряжении набор данных с разметкой о токсичности правок.\n",
    "\n",
    "Постройте модель со значением метрики качества *F1* не меньше 0.75. \n",
    "\n",
    "**Инструкция по выполнению проекта**\n",
    "\n",
    "1. Загрузите и подготовьте данные.\n",
    "2. Обучите разные модели. \n",
    "3. Сделайте выводы.\n",
    "\n",
    "Для выполнения проекта применять *BERT* необязательно, но вы можете попробовать.\n",
    "\n",
    "**Описание данных**\n",
    "\n",
    "Данные находятся в файле `toxic_comments.csv`. Столбец *text* в нём содержит текст комментария, а *toxic* — целевой признак."
   ]
  },
  {
   "cell_type": "markdown",
   "metadata": {},
   "source": [
    "## Подготовка"
   ]
  },
  {
   "cell_type": "markdown",
   "metadata": {},
   "source": [
    "**Описание**\n",
    "\n",
    "В нашем распоряжении набор данных с разметкой о токсичности комментариев. Стоит задача обучить модель классифицировать комментарии на позитивные и негативные. \n",
    "\n",
    "- text - комментарий пользователя\n",
    "- toxic - является ли комментарий токсичным или нет (1 или 0)"
   ]
  },
  {
   "cell_type": "markdown",
   "metadata": {},
   "source": [
    "**Задачи**"
   ]
  },
  {
   "cell_type": "markdown",
   "metadata": {},
   "source": [
    "- исследовать и подготовить данные\n",
    "- обучить разные модели для классификации комментариев на позитивные и негативные.\n",
    "- добиться значения метрики качества F1 не меньше 0.75\n",
    "- сделать вывод"
   ]
  },
  {
   "cell_type": "code",
   "execution_count": 1,
   "metadata": {},
   "outputs": [
    {
     "name": "stdout",
     "output_type": "stream",
     "text": [
      "Requirement already satisfied: pymystem3 in /opt/conda/lib/python3.9/site-packages (0.2.0)\n",
      "Requirement already satisfied: requests in /opt/conda/lib/python3.9/site-packages (from pymystem3) (2.25.1)\n",
      "Requirement already satisfied: idna<3,>=2.5 in /opt/conda/lib/python3.9/site-packages (from requests->pymystem3) (2.10)\n",
      "Requirement already satisfied: chardet<5,>=3.0.2 in /opt/conda/lib/python3.9/site-packages (from requests->pymystem3) (4.0.0)\n",
      "Requirement already satisfied: certifi>=2017.4.17 in /opt/conda/lib/python3.9/site-packages (from requests->pymystem3) (2022.6.15)\n",
      "Requirement already satisfied: urllib3<1.27,>=1.21.1 in /opt/conda/lib/python3.9/site-packages (from requests->pymystem3) (1.26.6)\n",
      "Note: you may need to restart the kernel to use updated packages.\n"
     ]
    }
   ],
   "source": [
    "pip install pymystem3"
   ]
  },
  {
   "cell_type": "code",
   "execution_count": 2,
   "metadata": {},
   "outputs": [
    {
     "name": "stdout",
     "output_type": "stream",
     "text": [
      "Requirement already satisfied: lightgbm in /opt/conda/lib/python3.9/site-packages (3.3.1)\n",
      "Requirement already satisfied: scipy in /opt/conda/lib/python3.9/site-packages (from lightgbm) (1.9.1)\n",
      "Requirement already satisfied: numpy in /opt/conda/lib/python3.9/site-packages (from lightgbm) (1.21.1)\n",
      "Requirement already satisfied: scikit-learn!=0.22.0 in /opt/conda/lib/python3.9/site-packages (from lightgbm) (0.24.1)\n",
      "Requirement already satisfied: wheel in /opt/conda/lib/python3.9/site-packages (from lightgbm) (0.36.2)\n",
      "Requirement already satisfied: joblib>=0.11 in /opt/conda/lib/python3.9/site-packages (from scikit-learn!=0.22.0->lightgbm) (1.1.0)\n",
      "Requirement already satisfied: threadpoolctl>=2.0.0 in /opt/conda/lib/python3.9/site-packages (from scikit-learn!=0.22.0->lightgbm) (3.1.0)\n",
      "Note: you may need to restart the kernel to use updated packages.\n"
     ]
    }
   ],
   "source": [
    "pip install lightgbm"
   ]
  },
  {
   "cell_type": "code",
   "execution_count": 3,
   "metadata": {},
   "outputs": [
    {
     "name": "stderr",
     "output_type": "stream",
     "text": [
      "[nltk_data] Downloading package stopwords to /home/jovyan/nltk_data...\n",
      "[nltk_data]   Package stopwords is already up-to-date!\n",
      "[nltk_data] Downloading package wordnet to /home/jovyan/nltk_data...\n",
      "[nltk_data]   Package wordnet is already up-to-date!\n",
      "[nltk_data] Downloading package punkt to /home/jovyan/nltk_data...\n",
      "[nltk_data]   Package punkt is already up-to-date!\n"
     ]
    }
   ],
   "source": [
    "import pandas as pd\n",
    "import numpy as np\n",
    "import matplotlib.pyplot as plt\n",
    "import re\n",
    "from pymystem3 import Mystem\n",
    "import nltk\n",
    "nltk.download('stopwords')\n",
    "nltk.download('wordnet') \n",
    "nltk.download('punkt')\n",
    "from nltk.stem import WordNetLemmatizer\n",
    "from nltk.corpus import stopwords as nltk_stopwords\n",
    "from nltk.corpus import wordnet\n",
    "from nltk.tokenize import word_tokenize\n",
    "from sklearn.model_selection import train_test_split, GridSearchCV\n",
    "from sklearn.linear_model import LogisticRegression\n",
    "from lightgbm import LGBMClassifier\n",
    "from sklearn.feature_extraction.text import TfidfVectorizer\n",
    "from sklearn.metrics import f1_score\n",
    "from sklearn.pipeline import Pipeline\n",
    "\n",
    "import warnings\n",
    "warnings.filterwarnings('ignore')"
   ]
  },
  {
   "cell_type": "code",
   "execution_count": 4,
   "metadata": {},
   "outputs": [],
   "source": [
    "try: \n",
    "    df = pd.read_csv('toxic_comments.csv')\n",
    "except:\n",
    "    df = pd.read_csv('/datasets/toxic_comments.csv')"
   ]
  },
  {
   "cell_type": "code",
   "execution_count": 5,
   "metadata": {
    "scrolled": true
   },
   "outputs": [
    {
     "name": "stdout",
     "output_type": "stream",
     "text": [
      "<class 'pandas.core.frame.DataFrame'>\n",
      "RangeIndex: 159292 entries, 0 to 159291\n",
      "Data columns (total 3 columns):\n",
      " #   Column      Non-Null Count   Dtype \n",
      "---  ------      --------------   ----- \n",
      " 0   Unnamed: 0  159292 non-null  int64 \n",
      " 1   text        159292 non-null  object\n",
      " 2   toxic       159292 non-null  int64 \n",
      "dtypes: int64(2), object(1)\n",
      "memory usage: 3.6+ MB\n"
     ]
    }
   ],
   "source": [
    "df.info()"
   ]
  },
  {
   "cell_type": "code",
   "execution_count": 6,
   "metadata": {},
   "outputs": [
    {
     "data": {
      "text/html": [
       "<div>\n",
       "<style scoped>\n",
       "    .dataframe tbody tr th:only-of-type {\n",
       "        vertical-align: middle;\n",
       "    }\n",
       "\n",
       "    .dataframe tbody tr th {\n",
       "        vertical-align: top;\n",
       "    }\n",
       "\n",
       "    .dataframe thead th {\n",
       "        text-align: right;\n",
       "    }\n",
       "</style>\n",
       "<table border=\"1\" class=\"dataframe\">\n",
       "  <thead>\n",
       "    <tr style=\"text-align: right;\">\n",
       "      <th></th>\n",
       "      <th>Unnamed: 0</th>\n",
       "      <th>text</th>\n",
       "      <th>toxic</th>\n",
       "    </tr>\n",
       "  </thead>\n",
       "  <tbody>\n",
       "    <tr>\n",
       "      <th>108718</th>\n",
       "      <td>108815</td>\n",
       "      <td>Another thing, PartyPoker the international ga...</td>\n",
       "      <td>0</td>\n",
       "    </tr>\n",
       "    <tr>\n",
       "      <th>107728</th>\n",
       "      <td>107825</td>\n",
       "      <td>\"\\n\\n Rotten Tomatoes \\n\\nThe article says it ...</td>\n",
       "      <td>0</td>\n",
       "    </tr>\n",
       "    <tr>\n",
       "      <th>83505</th>\n",
       "      <td>83584</td>\n",
       "      <td>Blocking Anthony Robbins \\n\\nYou fucking moron...</td>\n",
       "      <td>1</td>\n",
       "    </tr>\n",
       "    <tr>\n",
       "      <th>154612</th>\n",
       "      <td>154769</td>\n",
       "      <td>\"\\n\\nhehe, you *ARE* truly pathetic Zereshk, a...</td>\n",
       "      <td>1</td>\n",
       "    </tr>\n",
       "    <tr>\n",
       "      <th>7420</th>\n",
       "      <td>7432</td>\n",
       "      <td>I can live with this.  I like reliably sourced...</td>\n",
       "      <td>0</td>\n",
       "    </tr>\n",
       "    <tr>\n",
       "      <th>86033</th>\n",
       "      <td>86114</td>\n",
       "      <td>Really? I think you did.</td>\n",
       "      <td>0</td>\n",
       "    </tr>\n",
       "    <tr>\n",
       "      <th>80667</th>\n",
       "      <td>80743</td>\n",
       "      <td>Removed Redirect\\nI removed the redirect of th...</td>\n",
       "      <td>0</td>\n",
       "    </tr>\n",
       "    <tr>\n",
       "      <th>115135</th>\n",
       "      <td>115234</td>\n",
       "      <td>Thanks for your note. Can you back that up wit...</td>\n",
       "      <td>0</td>\n",
       "    </tr>\n",
       "    <tr>\n",
       "      <th>98389</th>\n",
       "      <td>98484</td>\n",
       "      <td>Speechless \\n\\nIs that a good speechless or a ...</td>\n",
       "      <td>0</td>\n",
       "    </tr>\n",
       "    <tr>\n",
       "      <th>151267</th>\n",
       "      <td>151423</td>\n",
       "      <td>I understand. I'll leave the wording as it is,...</td>\n",
       "      <td>0</td>\n",
       "    </tr>\n",
       "  </tbody>\n",
       "</table>\n",
       "</div>"
      ],
      "text/plain": [
       "        Unnamed: 0                                               text  toxic\n",
       "108718      108815  Another thing, PartyPoker the international ga...      0\n",
       "107728      107825  \"\\n\\n Rotten Tomatoes \\n\\nThe article says it ...      0\n",
       "83505        83584  Blocking Anthony Robbins \\n\\nYou fucking moron...      1\n",
       "154612      154769  \"\\n\\nhehe, you *ARE* truly pathetic Zereshk, a...      1\n",
       "7420          7432  I can live with this.  I like reliably sourced...      0\n",
       "86033        86114                           Really? I think you did.      0\n",
       "80667        80743  Removed Redirect\\nI removed the redirect of th...      0\n",
       "115135      115234  Thanks for your note. Can you back that up wit...      0\n",
       "98389        98484  Speechless \\n\\nIs that a good speechless or a ...      0\n",
       "151267      151423  I understand. I'll leave the wording as it is,...      0"
      ]
     },
     "execution_count": 6,
     "metadata": {},
     "output_type": "execute_result"
    }
   ],
   "source": [
    "df.sample(10)"
   ]
  },
  {
   "cell_type": "markdown",
   "metadata": {},
   "source": [
    "Датасет содержит 159292 строки, типы данных ок"
   ]
  },
  {
   "cell_type": "markdown",
   "metadata": {},
   "source": [
    "удалим дублирующий столбец"
   ]
  },
  {
   "cell_type": "code",
   "execution_count": 7,
   "metadata": {},
   "outputs": [],
   "source": [
    "df = df.drop(['Unnamed: 0'], axis=1)"
   ]
  },
  {
   "cell_type": "code",
   "execution_count": 8,
   "metadata": {},
   "outputs": [
    {
     "data": {
      "text/plain": [
       "(159292, 2)"
      ]
     },
     "execution_count": 8,
     "metadata": {},
     "output_type": "execute_result"
    }
   ],
   "source": [
    "df.shape"
   ]
  },
  {
   "cell_type": "code",
   "execution_count": 9,
   "metadata": {},
   "outputs": [
    {
     "data": {
      "text/plain": [
       "text     0\n",
       "toxic    0\n",
       "dtype: int64"
      ]
     },
     "execution_count": 9,
     "metadata": {},
     "output_type": "execute_result"
    }
   ],
   "source": [
    "df.isna().sum() "
   ]
  },
  {
   "cell_type": "markdown",
   "metadata": {},
   "source": [
    "пропусков нет"
   ]
  },
  {
   "cell_type": "code",
   "execution_count": 10,
   "metadata": {},
   "outputs": [
    {
     "data": {
      "text/plain": [
       "0"
      ]
     },
     "execution_count": 10,
     "metadata": {},
     "output_type": "execute_result"
    }
   ],
   "source": [
    "df.duplicated().sum()"
   ]
  },
  {
   "cell_type": "markdown",
   "metadata": {},
   "source": [
    "дубликатов нет"
   ]
  },
  {
   "cell_type": "markdown",
   "metadata": {},
   "source": [
    "В датасете 159292 строк и 2 столбца. Пропущенных значений и дубликатов нет. Целевым признаком является `toxic` -оценка токсичности в комментарии `text`"
   ]
  },
  {
   "cell_type": "markdown",
   "metadata": {},
   "source": [
    "Посмотрим сколько у нас токсичных/нектоксичных текстов. (распределение целевого признака)"
   ]
  },
  {
   "cell_type": "code",
   "execution_count": 11,
   "metadata": {},
   "outputs": [
    {
     "data": {
      "text/plain": [
       "0    0.898388\n",
       "1    0.101612\n",
       "Name: toxic, dtype: float64"
      ]
     },
     "execution_count": 11,
     "metadata": {},
     "output_type": "execute_result"
    }
   ],
   "source": [
    "df['toxic'].value_counts(normalize=True)"
   ]
  },
  {
   "cell_type": "code",
   "execution_count": 12,
   "metadata": {},
   "outputs": [
    {
     "data": {
      "text/plain": [
       "8.841344371679229"
      ]
     },
     "execution_count": 12,
     "metadata": {},
     "output_type": "execute_result"
    }
   ],
   "source": [
    "class_ratio = df['toxic'].value_counts()[0] / df['toxic'].value_counts()[1]\n",
    "class_ratio"
   ]
  },
  {
   "cell_type": "markdown",
   "metadata": {},
   "source": [
    "На лицо сильный дисбаланс. Позитивных комментариев сильно больше, чем токсичных. обучим модель с выставлением параметра `class_weight='balanced'`"
   ]
  },
  {
   "cell_type": "markdown",
   "metadata": {},
   "source": [
    "Комментарии выгружены с какими-то специальными символами и числами. Очистим их с помощью регулярных выражений"
   ]
  },
  {
   "cell_type": "code",
   "execution_count": 13,
   "metadata": {},
   "outputs": [],
   "source": [
    "def clear_text(text):\n",
    "    text = re.sub(r\"[^a-z0-9!@#\\$%\\^\\&\\*_\\-,\\.' ]\", ' ', text.lower()) # преобразовываем и переводим в нижний регистр\n",
    "    retext = text.split() \n",
    "    text = \" \".join(retext)\n",
    "    return text"
   ]
  },
  {
   "cell_type": "code",
   "execution_count": 14,
   "metadata": {},
   "outputs": [
    {
     "data": {
      "text/html": [
       "<div>\n",
       "<style scoped>\n",
       "    .dataframe tbody tr th:only-of-type {\n",
       "        vertical-align: middle;\n",
       "    }\n",
       "\n",
       "    .dataframe tbody tr th {\n",
       "        vertical-align: top;\n",
       "    }\n",
       "\n",
       "    .dataframe thead th {\n",
       "        text-align: right;\n",
       "    }\n",
       "</style>\n",
       "<table border=\"1\" class=\"dataframe\">\n",
       "  <thead>\n",
       "    <tr style=\"text-align: right;\">\n",
       "      <th></th>\n",
       "      <th>text</th>\n",
       "      <th>toxic</th>\n",
       "    </tr>\n",
       "  </thead>\n",
       "  <tbody>\n",
       "    <tr>\n",
       "      <th>0</th>\n",
       "      <td>explanation why the edits made under my userna...</td>\n",
       "      <td>0</td>\n",
       "    </tr>\n",
       "    <tr>\n",
       "      <th>1</th>\n",
       "      <td>d'aww! he matches this background colour i'm s...</td>\n",
       "      <td>0</td>\n",
       "    </tr>\n",
       "    <tr>\n",
       "      <th>2</th>\n",
       "      <td>hey man, i'm really not trying to edit war. it...</td>\n",
       "      <td>0</td>\n",
       "    </tr>\n",
       "    <tr>\n",
       "      <th>3</th>\n",
       "      <td>more i can't make any real suggestions on impr...</td>\n",
       "      <td>0</td>\n",
       "    </tr>\n",
       "    <tr>\n",
       "      <th>4</th>\n",
       "      <td>you, sir, are my hero. any chance you remember...</td>\n",
       "      <td>0</td>\n",
       "    </tr>\n",
       "  </tbody>\n",
       "</table>\n",
       "</div>"
      ],
      "text/plain": [
       "                                                text  toxic\n",
       "0  explanation why the edits made under my userna...      0\n",
       "1  d'aww! he matches this background colour i'm s...      0\n",
       "2  hey man, i'm really not trying to edit war. it...      0\n",
       "3  more i can't make any real suggestions on impr...      0\n",
       "4  you, sir, are my hero. any chance you remember...      0"
      ]
     },
     "execution_count": 14,
     "metadata": {},
     "output_type": "execute_result"
    }
   ],
   "source": [
    "df['text'] = df['text'].apply(clear_text)\n",
    "df.head()"
   ]
  },
  {
   "cell_type": "markdown",
   "metadata": {},
   "source": [
    "Создадим корпус, текст приведем к формату Unicode"
   ]
  },
  {
   "cell_type": "code",
   "execution_count": 15,
   "metadata": {},
   "outputs": [],
   "source": [
    "corpus = df['text'].values.astype('U')"
   ]
  },
  {
   "cell_type": "markdown",
   "metadata": {},
   "source": [
    "**Токенизация** "
   ]
  },
  {
   "cell_type": "code",
   "execution_count": 16,
   "metadata": {},
   "outputs": [],
   "source": [
    "def tokenize(words):\n",
    "    tokenizer = nltk.RegexpTokenizer(r\"\\w+\")\n",
    "    tokens = tokenizer.tokenize(words)\n",
    "    return tokens"
   ]
  },
  {
   "cell_type": "code",
   "execution_count": null,
   "metadata": {},
   "outputs": [],
   "source": [
    "df['tokens'] = df['text'].apply(tokenize)"
   ]
  },
  {
   "cell_type": "markdown",
   "metadata": {},
   "source": [
    "**Удаление стоп слов**"
   ]
  },
  {
   "cell_type": "code",
   "execution_count": null,
   "metadata": {},
   "outputs": [],
   "source": [
    "stopwords = set(nltk_stopwords.words('english'))"
   ]
  },
  {
   "cell_type": "code",
   "execution_count": null,
   "metadata": {},
   "outputs": [],
   "source": [
    "def remove_stopwords(tokens):\n",
    "    filtered = [w for w in tokens if not w in stopwords]\n",
    "    return filtered"
   ]
  },
  {
   "cell_type": "code",
   "execution_count": null,
   "metadata": {},
   "outputs": [],
   "source": [
    "df['no_stop'] = df['tokens'].apply(remove_stopwords)"
   ]
  },
  {
   "cell_type": "markdown",
   "metadata": {},
   "source": [
    "**Лемматизация**"
   ]
  },
  {
   "cell_type": "code",
   "execution_count": null,
   "metadata": {},
   "outputs": [],
   "source": [
    "def lemmatize(tokens):\n",
    "    wnl = WordNetLemmatizer()\n",
    "    lemm = [wnl.lemmatize(word) for word in tokens]\n",
    "    return lemm"
   ]
  },
  {
   "cell_type": "code",
   "execution_count": null,
   "metadata": {},
   "outputs": [],
   "source": [
    "df['lemm'] = df['no_stop'].apply(lemmatize)"
   ]
  },
  {
   "cell_type": "code",
   "execution_count": null,
   "metadata": {
    "scrolled": true
   },
   "outputs": [],
   "source": [
    "df.head()"
   ]
  },
  {
   "cell_type": "markdown",
   "metadata": {},
   "source": [
    "**Вывод**:\n",
    "- Исследовали и обработали данные.\n",
    "- Преобразовали датасет и получили леммы слов. "
   ]
  },
  {
   "cell_type": "markdown",
   "metadata": {},
   "source": [
    "## Обучение"
   ]
  },
  {
   "cell_type": "code",
   "execution_count": null,
   "metadata": {},
   "outputs": [],
   "source": [
    "features = df['lemm']\n",
    "target = df['toxic']"
   ]
  },
  {
   "cell_type": "markdown",
   "metadata": {},
   "source": [
    "делим данные на две выборки трейн и тест  70 к 30"
   ]
  },
  {
   "cell_type": "code",
   "execution_count": null,
   "metadata": {},
   "outputs": [],
   "source": [
    "features_train, features_test, target_train, target_test = train_test_split(features, target, test_size=.25, random_state=42)"
   ]
  },
  {
   "cell_type": "markdown",
   "metadata": {},
   "source": [
    " создадим счётчик"
   ]
  },
  {
   "cell_type": "code",
   "execution_count": null,
   "metadata": {},
   "outputs": [],
   "source": [
    "count_tf_idf = TfidfVectorizer(stop_words=stopwords)"
   ]
  },
  {
   "cell_type": "code",
   "execution_count": null,
   "metadata": {},
   "outputs": [],
   "source": [
    "corpus_train = features_train.astype('U')\n",
    "corpus_test = features_test.astype('U')"
   ]
  },
  {
   "cell_type": "markdown",
   "metadata": {},
   "source": [
    "посчитаем TF-IDF для корпуса "
   ]
  },
  {
   "cell_type": "code",
   "execution_count": null,
   "metadata": {},
   "outputs": [],
   "source": [
    "tf_idf = count_tf_idf.fit_transform(corpus_train)"
   ]
  },
  {
   "cell_type": "markdown",
   "metadata": {},
   "source": [
    "LogisticRegression"
   ]
  },
  {
   "cell_type": "code",
   "execution_count": null,
   "metadata": {},
   "outputs": [],
   "source": [
    "%%time\n",
    "lr = LogisticRegression(random_state=42)\n",
    "parameters = {'penalty':['l1', 'l2'],\n",
    "              'C': [10,100],\n",
    "              'solver':['liblinear'],\n",
    "              'max_iter':[100,200],\n",
    "              'class_weight':['balanced']}\n",
    "\n",
    "grid = GridSearchCV(lr, param_grid = parameters, scoring = 'f1', cv = 3)\n",
    "\n",
    "train_grid = grid.fit(tf_idf,target_train)\n",
    "predictions_train = grid.predict(tf_idf)\n",
    "\n",
    "f1_lr_train = f1_score(target_train, predictions_train)\n",
    "print('f1 на тренировочной выборке:', f1_lr_train)"
   ]
  },
  {
   "cell_type": "code",
   "execution_count": null,
   "metadata": {},
   "outputs": [],
   "source": [
    "grid.best_params_ "
   ]
  },
  {
   "cell_type": "markdown",
   "metadata": {},
   "source": [
    "LGBMClassifier"
   ]
  },
  {
   "cell_type": "code",
   "execution_count": null,
   "metadata": {},
   "outputs": [],
   "source": [
    "%%time\n",
    "lgbm = LGBMClassifier(random_state=42, class_weight='balanced')\n",
    "\n",
    "lgbm.fit(tf_idf,target_train)\n",
    "predictions_train = lgbm.predict(tf_idf)\n",
    "\n",
    "f1_lgbm_train = f1_score(target_train, predictions_train)\n",
    "print('f1 на тренировочной выборке:', f1_lgbm_train)"
   ]
  },
  {
   "cell_type": "code",
   "execution_count": null,
   "metadata": {},
   "outputs": [],
   "source": [
    "lr_pipe = Pipeline([\n",
    "    ('vect', CountVectorizer()),\n",
    "    ('tfidf', TfidfVectorizer(stop_words=stopwords)),\n",
    "    ('clf', LogisticRegression(random_state=12345))])\n",
    "\n",
    "parameters = {'clf__penalty':['l1', 'l2'],\n",
    "          'clf__C': [10,100],\n",
    "          'clf__solver':['liblinear'],\n",
    "          'clf__max_iter':[100,200],\n",
    "          'clf__class_weight': ['balanced']}\n",
    "\n",
    "grid = GridSearchCV(estimator=lr_pipe, param_grid=parameters, cv=3, scoring='f1')\n",
    "grid.fit(features_train, target_train)\n",
    "lr_best_parameters = grid.best_params_\n",
    "\n",
    "print(lr_best_parameters)\n",
    "print(grid.best_score_)"
   ]
  },
  {
   "cell_type": "markdown",
   "metadata": {},
   "source": [
    "### Тестирование"
   ]
  },
  {
   "cell_type": "code",
   "execution_count": null,
   "metadata": {},
   "outputs": [],
   "source": [
    "tf_idf_test = count_tf_idf.transform(corpus_test)"
   ]
  },
  {
   "cell_type": "markdown",
   "metadata": {},
   "source": [
    "LogisticRegression"
   ]
  },
  {
   "cell_type": "code",
   "execution_count": null,
   "metadata": {},
   "outputs": [],
   "source": [
    "%%time\n",
    "lr = LogisticRegression(random_state=42, C = 10, class_weight = 'balanced', \n",
    "                        max_iter = 100, penalty = 'l1', solver = 'liblinear')\n",
    "lr.fit(tf_idf,target_train)\n",
    "predictions_test = lr.predict(tf_idf_test)\n",
    "f1_lr_test = f1_score(target_test, predictions_test)\n",
    "\n",
    "print('f1 логистической регрессии на тестовой выборке:', f1_lr_test)"
   ]
  },
  {
   "cell_type": "markdown",
   "metadata": {},
   "source": [
    "LGBM"
   ]
  },
  {
   "cell_type": "code",
   "execution_count": null,
   "metadata": {},
   "outputs": [],
   "source": [
    "%%time\n",
    "predictions_test = lgbm.predict(tf_idf_test)\n",
    "f1_lgbm_test = f1_score(target_test, predictions_test)\n",
    "\n",
    "print('f1 LightGBM на тестовой выборке:', f1_lgbm_test)"
   ]
  },
  {
   "cell_type": "markdown",
   "metadata": {},
   "source": [
    "## Выводы"
   ]
  },
  {
   "cell_type": "markdown",
   "metadata": {},
   "source": [
    "В ходе данного проекта были обучены модели LogisticRegression и LGBMClassifier, чтобы классифицировать комментарии на позитивные и негативные. Перед этим комментарии были токенизированы, очищены от стоп-слов и лемматизированы.\n",
    "\n",
    "Лучший результат f1 метрики показала модель логистической регрессии - 0.9142 на тренировочной выборке и 0.7576 на тестовой."
   ]
  },
  {
   "cell_type": "code",
   "execution_count": null,
   "metadata": {},
   "outputs": [],
   "source": [
    "summary = pd.DataFrame(columns = [\"LogisticRegression\",\"LGBMClassifier\"],\n",
    "                      index = [\"f1_train\",\n",
    "                               \"f1_test\"])\n",
    "\n",
    "\n",
    "summary.iloc[0] = [f1_lr_train,f1_lgbm_train]\n",
    "summary.iloc[1] = [f1_lr_test,f1_lgbm_test]"
   ]
  },
  {
   "cell_type": "code",
   "execution_count": null,
   "metadata": {},
   "outputs": [],
   "source": [
    "summary"
   ]
  },
  {
   "cell_type": "markdown",
   "metadata": {},
   "source": [
    "## Чек-лист проверки"
   ]
  },
  {
   "cell_type": "markdown",
   "metadata": {},
   "source": [
    "- [x]  Jupyter Notebook открыт\n",
    "- [ ]  Весь код выполняется без ошибок\n",
    "- [ ]  Ячейки с кодом расположены в порядке исполнения\n",
    "- [ ]  Данные загружены и подготовлены\n",
    "- [ ]  Модели обучены\n",
    "- [ ]  Значение метрики *F1* не меньше 0.75\n",
    "- [ ]  Выводы написаны"
   ]
  }
 ],
 "metadata": {
  "ExecuteTimeLog": [
   {
    "duration": 2124,
    "start_time": "2022-09-01T11:00:13.630Z"
   },
   {
    "duration": 2,
    "start_time": "2022-09-01T11:00:50.532Z"
   },
   {
    "duration": 3342,
    "start_time": "2022-09-01T11:05:45.999Z"
   },
   {
    "duration": 19,
    "start_time": "2022-09-01T11:10:40.998Z"
   },
   {
    "duration": 30,
    "start_time": "2022-09-01T11:11:17.585Z"
   },
   {
    "duration": 727,
    "start_time": "2022-09-01T11:12:11.313Z"
   },
   {
    "duration": 7,
    "start_time": "2022-09-01T11:12:14.265Z"
   },
   {
    "duration": 11,
    "start_time": "2022-09-01T11:21:31.697Z"
   },
   {
    "duration": 8,
    "start_time": "2022-09-01T11:21:41.140Z"
   },
   {
    "duration": 514,
    "start_time": "2022-09-01T11:24:08.939Z"
   },
   {
    "duration": 262,
    "start_time": "2022-09-01T11:24:19.479Z"
   },
   {
    "duration": 3,
    "start_time": "2022-09-01T11:24:57.960Z"
   },
   {
    "duration": 99,
    "start_time": "2022-09-01T11:25:03.141Z"
   },
   {
    "duration": 41,
    "start_time": "2022-09-01T11:25:59.754Z"
   },
   {
    "duration": 215,
    "start_time": "2022-09-01T11:26:32.611Z"
   },
   {
    "duration": 477,
    "start_time": "2022-09-01T11:26:41.680Z"
   },
   {
    "duration": 12,
    "start_time": "2022-09-01T11:29:20.915Z"
   },
   {
    "duration": 11,
    "start_time": "2022-09-01T11:29:26.207Z"
   },
   {
    "duration": 607,
    "start_time": "2022-09-01T11:29:34.103Z"
   },
   {
    "duration": 791,
    "start_time": "2022-09-01T11:29:34.712Z"
   },
   {
    "duration": 33,
    "start_time": "2022-09-01T11:29:35.505Z"
   },
   {
    "duration": 15,
    "start_time": "2022-09-01T11:29:35.539Z"
   },
   {
    "duration": 16,
    "start_time": "2022-09-01T11:29:35.556Z"
   },
   {
    "duration": 13,
    "start_time": "2022-09-01T11:29:35.573Z"
   },
   {
    "duration": 27,
    "start_time": "2022-09-01T11:29:35.588Z"
   },
   {
    "duration": 259,
    "start_time": "2022-09-01T11:29:35.617Z"
   },
   {
    "duration": 117,
    "start_time": "2022-09-01T11:29:35.877Z"
   },
   {
    "duration": 76,
    "start_time": "2022-09-01T11:30:41.231Z"
   },
   {
    "duration": 7,
    "start_time": "2022-09-01T11:31:41.383Z"
   },
   {
    "duration": 4,
    "start_time": "2022-09-01T11:32:33.607Z"
   },
   {
    "duration": 293,
    "start_time": "2022-09-01T11:58:05.836Z"
   },
   {
    "duration": 9,
    "start_time": "2022-09-01T11:58:12.338Z"
   },
   {
    "duration": 7,
    "start_time": "2022-09-01T11:58:25.609Z"
   },
   {
    "duration": 106,
    "start_time": "2022-09-01T11:59:51.468Z"
   },
   {
    "duration": 8,
    "start_time": "2022-09-01T12:02:12.383Z"
   },
   {
    "duration": 1239,
    "start_time": "2022-09-01T12:03:01.001Z"
   },
   {
    "duration": 829,
    "start_time": "2022-09-01T12:03:02.242Z"
   },
   {
    "duration": 32,
    "start_time": "2022-09-01T12:03:03.072Z"
   },
   {
    "duration": 14,
    "start_time": "2022-09-01T12:03:03.107Z"
   },
   {
    "duration": 16,
    "start_time": "2022-09-01T12:03:03.123Z"
   },
   {
    "duration": 8,
    "start_time": "2022-09-01T12:03:03.141Z"
   },
   {
    "duration": 33,
    "start_time": "2022-09-01T12:03:03.168Z"
   },
   {
    "duration": 250,
    "start_time": "2022-09-01T12:03:03.203Z"
   },
   {
    "duration": 276,
    "start_time": "2022-09-01T12:03:03.455Z"
   },
   {
    "duration": 7,
    "start_time": "2022-09-01T12:03:03.734Z"
   },
   {
    "duration": 11,
    "start_time": "2022-09-01T12:03:03.742Z"
   },
   {
    "duration": 15,
    "start_time": "2022-09-01T12:03:03.754Z"
   },
   {
    "duration": 4,
    "start_time": "2022-09-01T12:03:03.770Z"
   },
   {
    "duration": 413,
    "start_time": "2022-09-01T12:19:33.713Z"
   },
   {
    "duration": 2,
    "start_time": "2022-09-01T12:20:28.249Z"
   },
   {
    "duration": 8354,
    "start_time": "2022-09-01T12:20:33.677Z"
   },
   {
    "duration": 5,
    "start_time": "2022-09-01T12:22:28.866Z"
   },
   {
    "duration": 1976,
    "start_time": "2022-09-01T12:30:02.582Z"
   },
   {
    "duration": 1501,
    "start_time": "2022-09-01T12:32:28.950Z"
   },
   {
    "duration": 3,
    "start_time": "2022-09-01T12:47:36.370Z"
   },
   {
    "duration": 1486,
    "start_time": "2022-09-01T12:48:06.623Z"
   },
   {
    "duration": 1598,
    "start_time": "2022-09-01T13:02:10.608Z"
   },
   {
    "duration": 1552,
    "start_time": "2022-09-01T13:02:12.208Z"
   },
   {
    "duration": 37,
    "start_time": "2022-09-01T13:02:13.762Z"
   },
   {
    "duration": 14,
    "start_time": "2022-09-01T13:02:13.801Z"
   },
   {
    "duration": 14,
    "start_time": "2022-09-01T13:02:13.817Z"
   },
   {
    "duration": 6,
    "start_time": "2022-09-01T13:02:13.832Z"
   },
   {
    "duration": 57,
    "start_time": "2022-09-01T13:02:13.839Z"
   },
   {
    "duration": 232,
    "start_time": "2022-09-01T13:02:13.898Z"
   },
   {
    "duration": 7,
    "start_time": "2022-09-01T13:02:14.132Z"
   },
   {
    "duration": 8,
    "start_time": "2022-09-01T13:02:14.140Z"
   },
   {
    "duration": 26,
    "start_time": "2022-09-01T13:02:14.150Z"
   },
   {
    "duration": 4,
    "start_time": "2022-09-01T13:02:14.177Z"
   },
   {
    "duration": 2458,
    "start_time": "2022-09-01T13:02:14.187Z"
   },
   {
    "duration": 0,
    "start_time": "2022-09-01T13:02:16.647Z"
   },
   {
    "duration": 1448,
    "start_time": "2022-09-01T13:03:15.816Z"
   },
   {
    "duration": 1527,
    "start_time": "2022-09-01T13:13:47.819Z"
   },
   {
    "duration": 890,
    "start_time": "2022-09-01T13:13:49.348Z"
   },
   {
    "duration": 45,
    "start_time": "2022-09-01T13:13:50.240Z"
   },
   {
    "duration": 22,
    "start_time": "2022-09-01T13:13:50.292Z"
   },
   {
    "duration": 14,
    "start_time": "2022-09-01T13:13:50.316Z"
   },
   {
    "duration": 8,
    "start_time": "2022-09-01T13:13:50.331Z"
   },
   {
    "duration": 42,
    "start_time": "2022-09-01T13:13:50.341Z"
   },
   {
    "duration": 247,
    "start_time": "2022-09-01T13:13:50.387Z"
   },
   {
    "duration": 7,
    "start_time": "2022-09-01T13:13:50.636Z"
   },
   {
    "duration": 29,
    "start_time": "2022-09-01T13:13:50.645Z"
   },
   {
    "duration": 15,
    "start_time": "2022-09-01T13:13:50.676Z"
   },
   {
    "duration": 2535,
    "start_time": "2022-09-01T13:13:50.694Z"
   },
   {
    "duration": 2045,
    "start_time": "2022-09-01T13:13:53.231Z"
   },
   {
    "duration": 25,
    "start_time": "2022-09-01T13:13:55.280Z"
   },
   {
    "duration": 6,
    "start_time": "2022-09-01T13:14:43.189Z"
   },
   {
    "duration": 471,
    "start_time": "2022-09-01T13:15:11.202Z"
   },
   {
    "duration": 3,
    "start_time": "2022-09-01T13:15:59.655Z"
   },
   {
    "duration": 4,
    "start_time": "2022-09-01T13:16:11.407Z"
   },
   {
    "duration": 5,
    "start_time": "2022-09-01T13:17:27.319Z"
   },
   {
    "duration": 4,
    "start_time": "2022-09-01T13:17:40.050Z"
   },
   {
    "duration": 86351,
    "start_time": "2022-09-01T13:17:41.754Z"
   },
   {
    "duration": 576,
    "start_time": "2022-09-01T13:19:36.137Z"
   },
   {
    "duration": 6,
    "start_time": "2022-09-01T13:20:12.727Z"
   },
   {
    "duration": 6,
    "start_time": "2022-09-01T13:21:49.840Z"
   },
   {
    "duration": 12,
    "start_time": "2022-09-01T13:22:04.146Z"
   },
   {
    "duration": 7,
    "start_time": "2022-09-01T13:22:23.100Z"
   },
   {
    "duration": 1,
    "start_time": "2022-09-01T13:34:16.828Z"
   },
   {
    "duration": 0,
    "start_time": "2022-09-01T13:34:16.830Z"
   },
   {
    "duration": 1862,
    "start_time": "2022-09-01T13:34:20.985Z"
   },
   {
    "duration": 899,
    "start_time": "2022-09-01T13:34:22.849Z"
   },
   {
    "duration": 38,
    "start_time": "2022-09-01T13:34:23.749Z"
   },
   {
    "duration": 20,
    "start_time": "2022-09-01T13:34:23.789Z"
   },
   {
    "duration": 13,
    "start_time": "2022-09-01T13:34:23.811Z"
   },
   {
    "duration": 5,
    "start_time": "2022-09-01T13:34:23.827Z"
   },
   {
    "duration": 51,
    "start_time": "2022-09-01T13:34:23.833Z"
   },
   {
    "duration": 243,
    "start_time": "2022-09-01T13:34:23.885Z"
   },
   {
    "duration": 6,
    "start_time": "2022-09-01T13:34:24.129Z"
   },
   {
    "duration": 8,
    "start_time": "2022-09-01T13:34:24.136Z"
   },
   {
    "duration": 24,
    "start_time": "2022-09-01T13:34:24.146Z"
   },
   {
    "duration": 2290,
    "start_time": "2022-09-01T13:34:24.172Z"
   },
   {
    "duration": 2113,
    "start_time": "2022-09-01T13:34:26.471Z"
   },
   {
    "duration": 12,
    "start_time": "2022-09-01T13:34:28.587Z"
   },
   {
    "duration": 149,
    "start_time": "2022-09-01T13:34:28.601Z"
   },
   {
    "duration": 0,
    "start_time": "2022-09-01T13:34:28.751Z"
   },
   {
    "duration": 40676,
    "start_time": "2022-09-01T13:34:48.033Z"
   },
   {
    "duration": 0,
    "start_time": "2022-09-01T13:35:28.710Z"
   },
   {
    "duration": 85537,
    "start_time": "2022-09-01T13:35:32.057Z"
   },
   {
    "duration": 13,
    "start_time": "2022-09-01T13:36:57.596Z"
   },
   {
    "duration": 3121,
    "start_time": "2022-09-01T13:37:28.468Z"
   },
   {
    "duration": 46,
    "start_time": "2022-09-01T13:38:12.951Z"
   },
   {
    "duration": 19,
    "start_time": "2022-09-01T13:39:06.559Z"
   },
   {
    "duration": 1965,
    "start_time": "2022-09-01T13:39:17.134Z"
   },
   {
    "duration": 3991,
    "start_time": "2022-09-01T13:39:19.101Z"
   },
   {
    "duration": 36,
    "start_time": "2022-09-01T13:39:23.097Z"
   },
   {
    "duration": 17,
    "start_time": "2022-09-01T13:39:23.134Z"
   },
   {
    "duration": 17,
    "start_time": "2022-09-01T13:39:23.153Z"
   },
   {
    "duration": 29,
    "start_time": "2022-09-01T13:39:23.171Z"
   },
   {
    "duration": 32,
    "start_time": "2022-09-01T13:39:23.201Z"
   },
   {
    "duration": 260,
    "start_time": "2022-09-01T13:39:23.235Z"
   },
   {
    "duration": 8,
    "start_time": "2022-09-01T13:39:23.499Z"
   },
   {
    "duration": 8,
    "start_time": "2022-09-01T13:39:23.510Z"
   },
   {
    "duration": 7,
    "start_time": "2022-09-01T13:39:23.520Z"
   },
   {
    "duration": 167,
    "start_time": "2022-09-01T13:39:23.528Z"
   },
   {
    "duration": 0,
    "start_time": "2022-09-01T13:39:23.698Z"
   },
   {
    "duration": 0,
    "start_time": "2022-09-01T13:39:23.699Z"
   },
   {
    "duration": 0,
    "start_time": "2022-09-01T13:39:23.700Z"
   },
   {
    "duration": 0,
    "start_time": "2022-09-01T13:39:23.702Z"
   },
   {
    "duration": 0,
    "start_time": "2022-09-01T13:39:23.703Z"
   },
   {
    "duration": 2837,
    "start_time": "2022-09-01T13:39:43.318Z"
   },
   {
    "duration": 2190,
    "start_time": "2022-09-01T13:40:20.396Z"
   },
   {
    "duration": 941,
    "start_time": "2022-09-01T13:40:22.589Z"
   },
   {
    "duration": 52,
    "start_time": "2022-09-01T13:40:23.533Z"
   },
   {
    "duration": 33,
    "start_time": "2022-09-01T13:40:23.590Z"
   },
   {
    "duration": 19,
    "start_time": "2022-09-01T13:40:23.625Z"
   },
   {
    "duration": 52,
    "start_time": "2022-09-01T13:40:23.646Z"
   },
   {
    "duration": 37,
    "start_time": "2022-09-01T13:40:23.700Z"
   },
   {
    "duration": 261,
    "start_time": "2022-09-01T13:40:23.739Z"
   },
   {
    "duration": 6,
    "start_time": "2022-09-01T13:40:24.002Z"
   },
   {
    "duration": 8,
    "start_time": "2022-09-01T13:40:24.011Z"
   },
   {
    "duration": 4,
    "start_time": "2022-09-01T13:40:24.021Z"
   },
   {
    "duration": 2967,
    "start_time": "2022-09-01T13:40:24.027Z"
   },
   {
    "duration": 2117,
    "start_time": "2022-09-01T13:40:27.001Z"
   },
   {
    "duration": 25,
    "start_time": "2022-09-01T13:40:29.120Z"
   },
   {
    "duration": 17153,
    "start_time": "2022-09-01T13:40:29.147Z"
   },
   {
    "duration": 0,
    "start_time": "2022-09-01T13:40:46.302Z"
   },
   {
    "duration": 0,
    "start_time": "2022-09-01T13:40:46.304Z"
   },
   {
    "duration": 105574,
    "start_time": "2022-09-01T13:41:01.195Z"
   },
   {
    "duration": 6,
    "start_time": "2022-09-01T13:46:00.955Z"
   },
   {
    "duration": 11,
    "start_time": "2022-09-01T13:47:12.734Z"
   },
   {
    "duration": 4,
    "start_time": "2022-09-01T13:47:45.894Z"
   },
   {
    "duration": 653,
    "start_time": "2022-09-01T13:47:50.346Z"
   },
   {
    "duration": 6,
    "start_time": "2022-09-01T13:48:21.095Z"
   },
   {
    "duration": 3,
    "start_time": "2022-09-01T13:48:45.637Z"
   },
   {
    "duration": 1932,
    "start_time": "2022-09-01T13:48:49.765Z"
   },
   {
    "duration": 2190,
    "start_time": "2022-09-01T13:49:08.458Z"
   },
   {
    "duration": 1009,
    "start_time": "2022-09-01T13:49:10.650Z"
   },
   {
    "duration": 46,
    "start_time": "2022-09-01T13:49:11.660Z"
   },
   {
    "duration": 21,
    "start_time": "2022-09-01T13:49:11.707Z"
   },
   {
    "duration": 14,
    "start_time": "2022-09-01T13:49:11.730Z"
   },
   {
    "duration": 25,
    "start_time": "2022-09-01T13:49:11.746Z"
   },
   {
    "duration": 58,
    "start_time": "2022-09-01T13:49:11.773Z"
   },
   {
    "duration": 272,
    "start_time": "2022-09-01T13:49:11.833Z"
   },
   {
    "duration": 6,
    "start_time": "2022-09-01T13:49:12.107Z"
   },
   {
    "duration": 8,
    "start_time": "2022-09-01T13:49:12.115Z"
   },
   {
    "duration": 4,
    "start_time": "2022-09-01T13:49:12.125Z"
   },
   {
    "duration": 173,
    "start_time": "2022-09-01T13:49:12.131Z"
   },
   {
    "duration": 0,
    "start_time": "2022-09-01T13:49:12.306Z"
   },
   {
    "duration": 0,
    "start_time": "2022-09-01T13:49:12.308Z"
   },
   {
    "duration": 0,
    "start_time": "2022-09-01T13:49:12.309Z"
   },
   {
    "duration": 0,
    "start_time": "2022-09-01T13:49:12.311Z"
   },
   {
    "duration": 0,
    "start_time": "2022-09-01T13:49:12.312Z"
   },
   {
    "duration": 1872,
    "start_time": "2022-09-01T13:49:31.870Z"
   },
   {
    "duration": 888,
    "start_time": "2022-09-01T13:49:33.744Z"
   },
   {
    "duration": 45,
    "start_time": "2022-09-01T13:49:34.634Z"
   },
   {
    "duration": 30,
    "start_time": "2022-09-01T13:49:34.686Z"
   },
   {
    "duration": 15,
    "start_time": "2022-09-01T13:49:34.718Z"
   },
   {
    "duration": 7,
    "start_time": "2022-09-01T13:49:34.735Z"
   },
   {
    "duration": 56,
    "start_time": "2022-09-01T13:49:34.744Z"
   },
   {
    "duration": 242,
    "start_time": "2022-09-01T13:49:34.803Z"
   },
   {
    "duration": 6,
    "start_time": "2022-09-01T13:49:35.046Z"
   },
   {
    "duration": 15,
    "start_time": "2022-09-01T13:49:35.070Z"
   },
   {
    "duration": 21,
    "start_time": "2022-09-01T13:49:35.088Z"
   },
   {
    "duration": 2099,
    "start_time": "2022-09-01T13:49:35.111Z"
   },
   {
    "duration": 2129,
    "start_time": "2022-09-01T13:49:37.211Z"
   },
   {
    "duration": 5,
    "start_time": "2022-09-01T13:49:39.342Z"
   },
   {
    "duration": 156439,
    "start_time": "2022-09-01T13:49:39.348Z"
   },
   {
    "duration": 11,
    "start_time": "2022-09-01T13:52:15.789Z"
   },
   {
    "duration": 65,
    "start_time": "2022-09-01T13:52:48.032Z"
   },
   {
    "duration": 3102,
    "start_time": "2022-09-01T13:52:53.894Z"
   },
   {
    "duration": 7,
    "start_time": "2022-09-01T13:52:57.002Z"
   },
   {
    "duration": 4141,
    "start_time": "2022-09-01T13:52:57.011Z"
   },
   {
    "duration": 44,
    "start_time": "2022-09-01T13:53:01.155Z"
   },
   {
    "duration": 26,
    "start_time": "2022-09-01T13:53:01.202Z"
   },
   {
    "duration": 27,
    "start_time": "2022-09-01T13:53:01.230Z"
   },
   {
    "duration": 38,
    "start_time": "2022-09-01T13:53:01.258Z"
   },
   {
    "duration": 49,
    "start_time": "2022-09-01T13:53:01.298Z"
   },
   {
    "duration": 306,
    "start_time": "2022-09-01T13:53:01.349Z"
   },
   {
    "duration": 7,
    "start_time": "2022-09-01T13:53:01.657Z"
   },
   {
    "duration": 36,
    "start_time": "2022-09-01T13:53:01.673Z"
   },
   {
    "duration": 11,
    "start_time": "2022-09-01T13:53:01.710Z"
   },
   {
    "duration": 2104,
    "start_time": "2022-09-01T13:53:01.723Z"
   },
   {
    "duration": 2320,
    "start_time": "2022-09-01T13:53:03.830Z"
   },
   {
    "duration": 27,
    "start_time": "2022-09-01T13:53:06.152Z"
   },
   {
    "duration": 151122,
    "start_time": "2022-09-01T13:53:06.181Z"
   },
   {
    "duration": 10,
    "start_time": "2022-09-01T13:55:37.305Z"
   },
   {
    "duration": 2958,
    "start_time": "2022-09-01T13:59:32.391Z"
   },
   {
    "duration": 4149,
    "start_time": "2022-09-01T13:59:35.352Z"
   },
   {
    "duration": 36,
    "start_time": "2022-09-01T13:59:39.503Z"
   },
   {
    "duration": 18,
    "start_time": "2022-09-01T13:59:39.542Z"
   },
   {
    "duration": 35,
    "start_time": "2022-09-01T13:59:39.562Z"
   },
   {
    "duration": 6,
    "start_time": "2022-09-01T13:59:39.601Z"
   },
   {
    "duration": 33,
    "start_time": "2022-09-01T13:59:39.608Z"
   },
   {
    "duration": 263,
    "start_time": "2022-09-01T13:59:39.643Z"
   },
   {
    "duration": 7,
    "start_time": "2022-09-01T13:59:39.908Z"
   },
   {
    "duration": 10,
    "start_time": "2022-09-01T13:59:39.916Z"
   },
   {
    "duration": 4,
    "start_time": "2022-09-01T13:59:39.927Z"
   },
   {
    "duration": 2113,
    "start_time": "2022-09-01T13:59:39.932Z"
   },
   {
    "duration": 2240,
    "start_time": "2022-09-01T13:59:42.047Z"
   },
   {
    "duration": 12,
    "start_time": "2022-09-01T13:59:44.290Z"
   },
   {
    "duration": 142777,
    "start_time": "2022-09-01T13:59:44.303Z"
   },
   {
    "duration": 15,
    "start_time": "2022-09-01T14:02:07.087Z"
   },
   {
    "duration": 52,
    "start_time": "2022-09-01T14:02:58.012Z"
   },
   {
    "duration": 15,
    "start_time": "2022-09-01T14:06:49.698Z"
   },
   {
    "duration": 3317,
    "start_time": "2022-09-01T14:06:55.261Z"
   },
   {
    "duration": 4334,
    "start_time": "2022-09-01T14:06:58.589Z"
   },
   {
    "duration": 40,
    "start_time": "2022-09-01T14:07:02.925Z"
   },
   {
    "duration": 28,
    "start_time": "2022-09-01T14:07:02.968Z"
   },
   {
    "duration": 28,
    "start_time": "2022-09-01T14:07:02.998Z"
   },
   {
    "duration": 10,
    "start_time": "2022-09-01T14:07:03.029Z"
   },
   {
    "duration": 46,
    "start_time": "2022-09-01T14:07:03.041Z"
   },
   {
    "duration": 264,
    "start_time": "2022-09-01T14:07:03.089Z"
   },
   {
    "duration": 26,
    "start_time": "2022-09-01T14:07:03.356Z"
   },
   {
    "duration": 9,
    "start_time": "2022-09-01T14:07:03.395Z"
   },
   {
    "duration": 3,
    "start_time": "2022-09-01T14:07:03.407Z"
   },
   {
    "duration": 2045,
    "start_time": "2022-09-01T14:07:03.412Z"
   },
   {
    "duration": 2354,
    "start_time": "2022-09-01T14:07:05.459Z"
   },
   {
    "duration": 5,
    "start_time": "2022-09-01T14:07:07.815Z"
   },
   {
    "duration": 140606,
    "start_time": "2022-09-01T14:07:07.822Z"
   },
   {
    "duration": 10,
    "start_time": "2022-09-01T14:09:28.430Z"
   },
   {
    "duration": 3954,
    "start_time": "2022-09-01T14:10:03.732Z"
   },
   {
    "duration": 4167,
    "start_time": "2022-09-01T14:10:07.691Z"
   },
   {
    "duration": 41,
    "start_time": "2022-09-01T14:10:11.860Z"
   },
   {
    "duration": 17,
    "start_time": "2022-09-01T14:10:11.903Z"
   },
   {
    "duration": 18,
    "start_time": "2022-09-01T14:10:11.922Z"
   },
   {
    "duration": 38,
    "start_time": "2022-09-01T14:10:11.942Z"
   },
   {
    "duration": 49,
    "start_time": "2022-09-01T14:10:11.982Z"
   },
   {
    "duration": 273,
    "start_time": "2022-09-01T14:10:12.033Z"
   },
   {
    "duration": 8,
    "start_time": "2022-09-01T14:10:12.308Z"
   },
   {
    "duration": 8,
    "start_time": "2022-09-01T14:10:12.319Z"
   },
   {
    "duration": 3,
    "start_time": "2022-09-01T14:10:12.328Z"
   },
   {
    "duration": 2023,
    "start_time": "2022-09-01T14:10:12.333Z"
   },
   {
    "duration": 2217,
    "start_time": "2022-09-01T14:10:14.358Z"
   },
   {
    "duration": 33,
    "start_time": "2022-09-01T14:10:16.578Z"
   },
   {
    "duration": 142939,
    "start_time": "2022-09-01T14:10:16.615Z"
   },
   {
    "duration": 16,
    "start_time": "2022-09-01T14:12:39.557Z"
   },
   {
    "duration": 3560,
    "start_time": "2022-09-01T14:12:47.392Z"
   },
   {
    "duration": 4203,
    "start_time": "2022-09-01T14:12:50.955Z"
   },
   {
    "duration": 46,
    "start_time": "2022-09-01T14:12:55.160Z"
   },
   {
    "duration": 18,
    "start_time": "2022-09-01T14:12:55.209Z"
   },
   {
    "duration": 16,
    "start_time": "2022-09-01T14:12:55.229Z"
   },
   {
    "duration": 9,
    "start_time": "2022-09-01T14:12:55.272Z"
   },
   {
    "duration": 44,
    "start_time": "2022-09-01T14:12:55.287Z"
   },
   {
    "duration": 269,
    "start_time": "2022-09-01T14:12:55.333Z"
   },
   {
    "duration": 11,
    "start_time": "2022-09-01T14:12:55.604Z"
   },
   {
    "duration": 10,
    "start_time": "2022-09-01T14:12:55.617Z"
   },
   {
    "duration": 5,
    "start_time": "2022-09-01T14:12:55.629Z"
   },
   {
    "duration": 2295,
    "start_time": "2022-09-01T14:12:55.636Z"
   },
   {
    "duration": 2193,
    "start_time": "2022-09-01T14:12:57.933Z"
   },
   {
    "duration": 10,
    "start_time": "2022-09-01T14:13:00.129Z"
   },
   {
    "duration": 142039,
    "start_time": "2022-09-01T14:13:00.141Z"
   },
   {
    "duration": 19,
    "start_time": "2022-09-01T14:15:22.184Z"
   },
   {
    "duration": 80,
    "start_time": "2022-09-01T14:15:56.765Z"
   },
   {
    "duration": 3553,
    "start_time": "2022-09-01T14:16:26.156Z"
   },
   {
    "duration": 4122,
    "start_time": "2022-09-01T14:16:29.711Z"
   },
   {
    "duration": 46,
    "start_time": "2022-09-01T14:16:33.835Z"
   },
   {
    "duration": 42,
    "start_time": "2022-09-01T14:16:33.889Z"
   },
   {
    "duration": 15,
    "start_time": "2022-09-01T14:16:33.934Z"
   },
   {
    "duration": 16,
    "start_time": "2022-09-01T14:16:33.951Z"
   },
   {
    "duration": 63,
    "start_time": "2022-09-01T14:16:33.973Z"
   },
   {
    "duration": 274,
    "start_time": "2022-09-01T14:16:34.038Z"
   },
   {
    "duration": 11,
    "start_time": "2022-09-01T14:16:34.314Z"
   },
   {
    "duration": 10,
    "start_time": "2022-09-01T14:16:34.327Z"
   },
   {
    "duration": 4,
    "start_time": "2022-09-01T14:16:34.339Z"
   },
   {
    "duration": 2109,
    "start_time": "2022-09-01T14:16:34.373Z"
   },
   {
    "duration": 2257,
    "start_time": "2022-09-01T14:16:36.488Z"
   },
   {
    "duration": 7,
    "start_time": "2022-09-01T14:16:38.747Z"
   },
   {
    "duration": 140929,
    "start_time": "2022-09-01T14:16:38.756Z"
   },
   {
    "duration": 3748,
    "start_time": "2022-09-01T14:20:18.959Z"
   },
   {
    "duration": 4456,
    "start_time": "2022-09-01T14:20:22.709Z"
   },
   {
    "duration": 46,
    "start_time": "2022-09-01T14:20:27.167Z"
   },
   {
    "duration": 24,
    "start_time": "2022-09-01T14:20:27.216Z"
   },
   {
    "duration": 29,
    "start_time": "2022-09-01T14:20:27.242Z"
   },
   {
    "duration": 39,
    "start_time": "2022-09-01T14:20:27.276Z"
   },
   {
    "duration": 34,
    "start_time": "2022-09-01T14:20:27.317Z"
   },
   {
    "duration": 278,
    "start_time": "2022-09-01T14:20:27.353Z"
   },
   {
    "duration": 9,
    "start_time": "2022-09-01T14:20:27.633Z"
   },
   {
    "duration": 26,
    "start_time": "2022-09-01T14:20:27.644Z"
   },
   {
    "duration": 3,
    "start_time": "2022-09-01T14:20:27.671Z"
   },
   {
    "duration": 2109,
    "start_time": "2022-09-01T14:20:27.676Z"
   },
   {
    "duration": 2205,
    "start_time": "2022-09-01T14:20:29.790Z"
   },
   {
    "duration": 35,
    "start_time": "2022-09-01T14:20:31.996Z"
   },
   {
    "duration": 142152,
    "start_time": "2022-09-01T14:20:32.033Z"
   },
   {
    "duration": 3004,
    "start_time": "2022-09-01T14:28:03.637Z"
   },
   {
    "duration": 4058,
    "start_time": "2022-09-01T14:28:06.643Z"
   },
   {
    "duration": 38,
    "start_time": "2022-09-01T14:28:10.703Z"
   },
   {
    "duration": 17,
    "start_time": "2022-09-01T14:28:10.744Z"
   },
   {
    "duration": 22,
    "start_time": "2022-09-01T14:28:10.769Z"
   },
   {
    "duration": 7,
    "start_time": "2022-09-01T14:28:10.797Z"
   },
   {
    "duration": 33,
    "start_time": "2022-09-01T14:28:10.806Z"
   },
   {
    "duration": 276,
    "start_time": "2022-09-01T14:28:10.841Z"
   },
   {
    "duration": 11,
    "start_time": "2022-09-01T14:28:11.119Z"
   },
   {
    "duration": 9,
    "start_time": "2022-09-01T14:28:11.133Z"
   },
   {
    "duration": 4,
    "start_time": "2022-09-01T14:28:11.167Z"
   },
   {
    "duration": 2120,
    "start_time": "2022-09-01T14:28:11.176Z"
   },
   {
    "duration": 2130,
    "start_time": "2022-09-01T14:28:13.299Z"
   },
   {
    "duration": 174,
    "start_time": "2022-09-01T14:28:15.433Z"
   },
   {
    "duration": 0,
    "start_time": "2022-09-01T14:28:15.609Z"
   },
   {
    "duration": 0,
    "start_time": "2022-09-01T14:28:15.610Z"
   },
   {
    "duration": 0,
    "start_time": "2022-09-01T14:28:15.612Z"
   },
   {
    "duration": 0,
    "start_time": "2022-09-01T14:28:15.612Z"
   },
   {
    "duration": 5,
    "start_time": "2022-09-01T14:32:05.860Z"
   },
   {
    "duration": 137479,
    "start_time": "2022-09-01T14:32:10.679Z"
   },
   {
    "duration": 50,
    "start_time": "2022-09-01T14:36:48.085Z"
   },
   {
    "duration": 7,
    "start_time": "2022-09-01T14:36:53.185Z"
   },
   {
    "duration": 2994,
    "start_time": "2022-09-01T14:36:58.758Z"
   },
   {
    "duration": 3805,
    "start_time": "2022-09-01T14:37:01.755Z"
   },
   {
    "duration": 41,
    "start_time": "2022-09-01T14:37:05.562Z"
   },
   {
    "duration": 17,
    "start_time": "2022-09-01T14:37:05.605Z"
   },
   {
    "duration": 19,
    "start_time": "2022-09-01T14:37:05.624Z"
   },
   {
    "duration": 36,
    "start_time": "2022-09-01T14:37:05.645Z"
   },
   {
    "duration": 34,
    "start_time": "2022-09-01T14:37:05.684Z"
   },
   {
    "duration": 269,
    "start_time": "2022-09-01T14:37:05.720Z"
   },
   {
    "duration": 10,
    "start_time": "2022-09-01T14:37:05.990Z"
   },
   {
    "duration": 8,
    "start_time": "2022-09-01T14:37:06.002Z"
   },
   {
    "duration": 4,
    "start_time": "2022-09-01T14:37:06.011Z"
   },
   {
    "duration": 2037,
    "start_time": "2022-09-01T14:37:06.016Z"
   },
   {
    "duration": 2120,
    "start_time": "2022-09-01T14:37:08.055Z"
   },
   {
    "duration": 39,
    "start_time": "2022-09-01T14:37:10.178Z"
   },
   {
    "duration": 133302,
    "start_time": "2022-09-01T14:37:10.219Z"
   },
   {
    "duration": 8,
    "start_time": "2022-09-01T14:41:38.629Z"
   },
   {
    "duration": 2772,
    "start_time": "2022-09-01T14:43:48.879Z"
   },
   {
    "duration": 3759,
    "start_time": "2022-09-01T14:43:51.654Z"
   },
   {
    "duration": 39,
    "start_time": "2022-09-01T14:43:55.414Z"
   },
   {
    "duration": 24,
    "start_time": "2022-09-01T14:43:55.455Z"
   },
   {
    "duration": 16,
    "start_time": "2022-09-01T14:43:55.483Z"
   },
   {
    "duration": 9,
    "start_time": "2022-09-01T14:43:55.501Z"
   },
   {
    "duration": 35,
    "start_time": "2022-09-01T14:43:55.512Z"
   },
   {
    "duration": 351,
    "start_time": "2022-09-01T14:43:55.548Z"
   },
   {
    "duration": 10,
    "start_time": "2022-09-01T14:43:55.901Z"
   },
   {
    "duration": 7,
    "start_time": "2022-09-01T14:43:55.913Z"
   },
   {
    "duration": 3,
    "start_time": "2022-09-01T14:43:55.922Z"
   },
   {
    "duration": 2120,
    "start_time": "2022-09-01T14:43:55.927Z"
   },
   {
    "duration": 2279,
    "start_time": "2022-09-01T14:43:58.049Z"
   },
   {
    "duration": 21,
    "start_time": "2022-09-01T14:44:00.334Z"
   },
   {
    "duration": 58,
    "start_time": "2022-09-01T22:15:21.306Z"
   },
   {
    "duration": 47,
    "start_time": "2022-09-01T22:15:23.667Z"
   },
   {
    "duration": 46,
    "start_time": "2022-09-01T22:32:29.858Z"
   },
   {
    "duration": 7,
    "start_time": "2022-09-01T22:58:35.442Z"
   },
   {
    "duration": 2121,
    "start_time": "2022-09-01T22:59:30.465Z"
   },
   {
    "duration": 80,
    "start_time": "2022-09-01T22:59:53.579Z"
   },
   {
    "duration": 1840,
    "start_time": "2022-09-01T23:02:50.945Z"
   },
   {
    "duration": 1805,
    "start_time": "2022-09-01T23:02:52.787Z"
   },
   {
    "duration": 1597,
    "start_time": "2022-09-01T23:02:54.594Z"
   },
   {
    "duration": 2460,
    "start_time": "2022-09-01T23:02:56.193Z"
   },
   {
    "duration": 26,
    "start_time": "2022-09-01T23:02:58.655Z"
   },
   {
    "duration": 14,
    "start_time": "2022-09-01T23:02:58.683Z"
   },
   {
    "duration": 13,
    "start_time": "2022-09-01T23:02:58.699Z"
   },
   {
    "duration": 6,
    "start_time": "2022-09-01T23:02:58.713Z"
   },
   {
    "duration": 25,
    "start_time": "2022-09-01T23:02:58.720Z"
   },
   {
    "duration": 222,
    "start_time": "2022-09-01T23:02:58.747Z"
   },
   {
    "duration": 18,
    "start_time": "2022-09-01T23:02:58.970Z"
   },
   {
    "duration": 7,
    "start_time": "2022-09-01T23:02:58.990Z"
   },
   {
    "duration": 2,
    "start_time": "2022-09-01T23:02:58.999Z"
   },
   {
    "duration": 1622,
    "start_time": "2022-09-01T23:02:59.005Z"
   },
   {
    "duration": 1992,
    "start_time": "2022-09-01T23:03:00.628Z"
   },
   {
    "duration": 11,
    "start_time": "2022-09-01T23:03:02.622Z"
   }
  ],
  "kernelspec": {
   "display_name": "Python 3 (ipykernel)",
   "language": "python",
   "name": "python3"
  },
  "language_info": {
   "codemirror_mode": {
    "name": "ipython",
    "version": 3
   },
   "file_extension": ".py",
   "mimetype": "text/x-python",
   "name": "python",
   "nbconvert_exporter": "python",
   "pygments_lexer": "ipython3",
   "version": "3.9.7"
  },
  "toc": {
   "base_numbering": 1,
   "nav_menu": {},
   "number_sections": true,
   "sideBar": true,
   "skip_h1_title": true,
   "title_cell": "Содержание",
   "title_sidebar": "Contents",
   "toc_cell": true,
   "toc_position": {
    "height": "calc(100% - 180px)",
    "left": "10px",
    "top": "150px",
    "width": "302.391px"
   },
   "toc_section_display": true,
   "toc_window_display": false
  }
 },
 "nbformat": 4,
 "nbformat_minor": 2
}
