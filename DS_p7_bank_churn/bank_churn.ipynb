{
 "cells": [
  {
   "cell_type": "markdown",
   "metadata": {
    "toc": true
   },
   "source": [
    "<h1>Содержание<span class=\"tocSkip\"></span></h1>\n",
    "<div class=\"toc\"><ul class=\"toc-item\"><li><span><a href=\"#Подготовка-данных\" data-toc-modified-id=\"Подготовка-данных-1\"><span class=\"toc-item-num\">1&nbsp;&nbsp;</span>Подготовка данных</a></span><ul class=\"toc-item\"><li><span><a href=\"#Изучение-и-Предобработка-данных\" data-toc-modified-id=\"Изучение-и-Предобработка-данных-1.1\"><span class=\"toc-item-num\">1.1&nbsp;&nbsp;</span>Изучение и Предобработка данных</a></span></li><li><span><a href=\"#Диаграмма-корреляции-данных\" data-toc-modified-id=\"Диаграмма-корреляции-данных-1.2\"><span class=\"toc-item-num\">1.2&nbsp;&nbsp;</span>Диаграмма корреляции данных</a></span></li><li><span><a href=\"#Создадим-выборки-и-приведём-объекты-выборок-к-единому-масштабу\" data-toc-modified-id=\"Создадим-выборки-и-приведём-объекты-выборок-к-единому-масштабу-1.3\"><span class=\"toc-item-num\">1.3&nbsp;&nbsp;</span>Создадим выборки и приведём объекты выборок к единому масштабу</a></span></li></ul></li><li><span><a href=\"#Исследование-задачи\" data-toc-modified-id=\"Исследование-задачи-2\"><span class=\"toc-item-num\">2&nbsp;&nbsp;</span>Исследование задачи</a></span></li><li><span><a href=\"#Борьба-с-дисбалансом\" data-toc-modified-id=\"Борьба-с-дисбалансом-3\"><span class=\"toc-item-num\">3&nbsp;&nbsp;</span>Борьба с дисбалансом</a></span><ul class=\"toc-item\"><li><span><a href=\"#downsampling\" data-toc-modified-id=\"downsampling-3.1\"><span class=\"toc-item-num\">3.1&nbsp;&nbsp;</span>downsampling</a></span></li><li><span><a href=\"#взвешивание-классов-class_weight\" data-toc-modified-id=\"взвешивание-классов-class_weight-3.2\"><span class=\"toc-item-num\">3.2&nbsp;&nbsp;</span>взвешивание классов class_weight</a></span></li></ul></li><li><span><a href=\"#Тестирование-модели\" data-toc-modified-id=\"Тестирование-модели-4\"><span class=\"toc-item-num\">4&nbsp;&nbsp;</span>Тестирование модели</a></span></li></ul></div>"
   ]
  },
  {
   "cell_type": "markdown",
   "metadata": {},
   "source": [
    "# Отток клиентов"
   ]
  },
  {
   "cell_type": "markdown",
   "metadata": {},
   "source": [
    "Из «Бета-Банка» стали уходить клиенты. Каждый месяц. Немного, но заметно. Банковские маркетологи посчитали: сохранять текущих клиентов дешевле, чем привлекать новых.\n",
    "\n",
    "Нужно спрогнозировать, уйдёт клиент из банка в ближайшее время или нет. Вам предоставлены исторические данные о поведении клиентов и расторжении договоров с банком. \n",
    "\n",
    "Постройте модель с предельно большим значением *F1*-меры. Чтобы сдать проект успешно, нужно довести метрику до 0.59. Проверьте *F1*-меру на тестовой выборке самостоятельно.\n",
    "\n",
    "Дополнительно измеряйте *AUC-ROC*, сравнивайте её значение с *F1*-мерой.\n",
    "\n",
    "Источник данных: [https://www.kaggle.com/barelydedicated/bank-customer-churn-modeling](https://www.kaggle.com/barelydedicated/bank-customer-churn-modeling)"
   ]
  },
  {
   "cell_type": "markdown",
   "metadata": {},
   "source": [
    "## Подготовка данных"
   ]
  },
  {
   "cell_type": "code",
   "execution_count": 1,
   "metadata": {},
   "outputs": [],
   "source": [
    "import pandas as pd\n",
    "import matplotlib.pyplot as plt\n",
    "import numpy as np\n",
    "import seaborn as sns\n",
    "import warnings\n",
    "from sklearn.tree import DecisionTreeClassifier\n",
    "from sklearn.ensemble import RandomForestClassifier\n",
    "from sklearn.linear_model import LogisticRegression\n",
    "from sklearn.model_selection import train_test_split\n",
    "from sklearn.model_selection import GridSearchCV\n",
    "from sklearn.preprocessing import OrdinalEncoder\n",
    "from sklearn.preprocessing import StandardScaler\n",
    "from sklearn.dummy import DummyClassifier\n",
    "from sklearn.metrics import f1_score\n",
    "from sklearn.model_selection import cross_val_score\n",
    "from sklearn.utils import shuffle\n",
    "from sklearn.metrics import roc_curve\n",
    "from sklearn.metrics import roc_auc_score\n",
    "from sklearn.model_selection import StratifiedKFold\n",
    "from sklearn.metrics import plot_roc_curve, auc"
   ]
  },
  {
   "cell_type": "code",
   "execution_count": 2,
   "metadata": {},
   "outputs": [],
   "source": [
    "# отключаем некритические предупреждения в коде\n",
    "warnings.filterwarnings(\"ignore\")\n",
    "# два знака\n",
    "# pd.set_option('display.float_format', '{:,.2f}'.format)\n",
    "# все столбцы\n",
    "pd.set_option('display.max_columns', None)"
   ]
  },
  {
   "cell_type": "code",
   "execution_count": 3,
   "metadata": {},
   "outputs": [],
   "source": [
    "df = pd.read_csv(\"/datasets/Churn.csv\")"
   ]
  },
  {
   "cell_type": "markdown",
   "metadata": {},
   "source": [
    "### Изучение и Предобработка данных"
   ]
  },
  {
   "cell_type": "code",
   "execution_count": 4,
   "metadata": {},
   "outputs": [
    {
     "name": "stdout",
     "output_type": "stream",
     "text": [
      "<class 'pandas.core.frame.DataFrame'>\n",
      "RangeIndex: 10000 entries, 0 to 9999\n",
      "Data columns (total 14 columns):\n",
      " #   Column           Non-Null Count  Dtype  \n",
      "---  ------           --------------  -----  \n",
      " 0   RowNumber        10000 non-null  int64  \n",
      " 1   CustomerId       10000 non-null  int64  \n",
      " 2   Surname          10000 non-null  object \n",
      " 3   CreditScore      10000 non-null  int64  \n",
      " 4   Geography        10000 non-null  object \n",
      " 5   Gender           10000 non-null  object \n",
      " 6   Age              10000 non-null  int64  \n",
      " 7   Tenure           9091 non-null   float64\n",
      " 8   Balance          10000 non-null  float64\n",
      " 9   NumOfProducts    10000 non-null  int64  \n",
      " 10  HasCrCard        10000 non-null  int64  \n",
      " 11  IsActiveMember   10000 non-null  int64  \n",
      " 12  EstimatedSalary  10000 non-null  float64\n",
      " 13  Exited           10000 non-null  int64  \n",
      "dtypes: float64(3), int64(8), object(3)\n",
      "memory usage: 1.1+ MB\n"
     ]
    }
   ],
   "source": [
    "df.info()"
   ]
  },
  {
   "cell_type": "markdown",
   "metadata": {},
   "source": [
    "В данном датасете 13 признаков, включая целевой признак, 10000 строк."
   ]
  },
  {
   "cell_type": "markdown",
   "metadata": {},
   "source": [
    "Признаки:\n",
    "\n",
    "- RowNumber — индекс строки в данных (int64)\n",
    "- CustomerId — уникальный идентификатор клиента (int64)\n",
    "- Surname — фамилия (object)\n",
    "- CreditScore — кредитный рейтинг (int64)\n",
    "- Geography — страна проживания (object)\n",
    "- Gender — пол (object)\n",
    "- Age — возраст (int64)\n",
    "- Tenure — количество недвижимости у клиента (float64)\n",
    "- Balance — баланс на счёте (float64)\n",
    "- NumOfProducts — количество продуктов банка, используемых клиентом (int64)\n",
    "- HasCrCard — наличие кредитной карты (int64)\n",
    "- IsActiveMember — активность клиента (int64)\n",
    "- EstimatedSalary — предполагаемая зарплата (float64) \n",
    "\n",
    "Целевой признак:\n",
    "- Exited — факт ухода клиента (int64)"
   ]
  },
  {
   "cell_type": "code",
   "execution_count": 5,
   "metadata": {},
   "outputs": [
    {
     "data": {
      "text/html": [
       "<div>\n",
       "<style scoped>\n",
       "    .dataframe tbody tr th:only-of-type {\n",
       "        vertical-align: middle;\n",
       "    }\n",
       "\n",
       "    .dataframe tbody tr th {\n",
       "        vertical-align: top;\n",
       "    }\n",
       "\n",
       "    .dataframe thead th {\n",
       "        text-align: right;\n",
       "    }\n",
       "</style>\n",
       "<table border=\"1\" class=\"dataframe\">\n",
       "  <thead>\n",
       "    <tr style=\"text-align: right;\">\n",
       "      <th></th>\n",
       "      <th>RowNumber</th>\n",
       "      <th>CustomerId</th>\n",
       "      <th>Surname</th>\n",
       "      <th>CreditScore</th>\n",
       "      <th>Geography</th>\n",
       "      <th>Gender</th>\n",
       "      <th>Age</th>\n",
       "      <th>Tenure</th>\n",
       "      <th>Balance</th>\n",
       "      <th>NumOfProducts</th>\n",
       "      <th>HasCrCard</th>\n",
       "      <th>IsActiveMember</th>\n",
       "      <th>EstimatedSalary</th>\n",
       "      <th>Exited</th>\n",
       "    </tr>\n",
       "  </thead>\n",
       "  <tbody>\n",
       "    <tr>\n",
       "      <th>0</th>\n",
       "      <td>1</td>\n",
       "      <td>15634602</td>\n",
       "      <td>Hargrave</td>\n",
       "      <td>619</td>\n",
       "      <td>France</td>\n",
       "      <td>Female</td>\n",
       "      <td>42</td>\n",
       "      <td>2.0</td>\n",
       "      <td>0.00</td>\n",
       "      <td>1</td>\n",
       "      <td>1</td>\n",
       "      <td>1</td>\n",
       "      <td>101348.88</td>\n",
       "      <td>1</td>\n",
       "    </tr>\n",
       "    <tr>\n",
       "      <th>1</th>\n",
       "      <td>2</td>\n",
       "      <td>15647311</td>\n",
       "      <td>Hill</td>\n",
       "      <td>608</td>\n",
       "      <td>Spain</td>\n",
       "      <td>Female</td>\n",
       "      <td>41</td>\n",
       "      <td>1.0</td>\n",
       "      <td>83807.86</td>\n",
       "      <td>1</td>\n",
       "      <td>0</td>\n",
       "      <td>1</td>\n",
       "      <td>112542.58</td>\n",
       "      <td>0</td>\n",
       "    </tr>\n",
       "    <tr>\n",
       "      <th>2</th>\n",
       "      <td>3</td>\n",
       "      <td>15619304</td>\n",
       "      <td>Onio</td>\n",
       "      <td>502</td>\n",
       "      <td>France</td>\n",
       "      <td>Female</td>\n",
       "      <td>42</td>\n",
       "      <td>8.0</td>\n",
       "      <td>159660.80</td>\n",
       "      <td>3</td>\n",
       "      <td>1</td>\n",
       "      <td>0</td>\n",
       "      <td>113931.57</td>\n",
       "      <td>1</td>\n",
       "    </tr>\n",
       "    <tr>\n",
       "      <th>3</th>\n",
       "      <td>4</td>\n",
       "      <td>15701354</td>\n",
       "      <td>Boni</td>\n",
       "      <td>699</td>\n",
       "      <td>France</td>\n",
       "      <td>Female</td>\n",
       "      <td>39</td>\n",
       "      <td>1.0</td>\n",
       "      <td>0.00</td>\n",
       "      <td>2</td>\n",
       "      <td>0</td>\n",
       "      <td>0</td>\n",
       "      <td>93826.63</td>\n",
       "      <td>0</td>\n",
       "    </tr>\n",
       "    <tr>\n",
       "      <th>4</th>\n",
       "      <td>5</td>\n",
       "      <td>15737888</td>\n",
       "      <td>Mitchell</td>\n",
       "      <td>850</td>\n",
       "      <td>Spain</td>\n",
       "      <td>Female</td>\n",
       "      <td>43</td>\n",
       "      <td>2.0</td>\n",
       "      <td>125510.82</td>\n",
       "      <td>1</td>\n",
       "      <td>1</td>\n",
       "      <td>1</td>\n",
       "      <td>79084.10</td>\n",
       "      <td>0</td>\n",
       "    </tr>\n",
       "  </tbody>\n",
       "</table>\n",
       "</div>"
      ],
      "text/plain": [
       "   RowNumber  CustomerId   Surname  CreditScore Geography  Gender  Age  \\\n",
       "0          1    15634602  Hargrave          619    France  Female   42   \n",
       "1          2    15647311      Hill          608     Spain  Female   41   \n",
       "2          3    15619304      Onio          502    France  Female   42   \n",
       "3          4    15701354      Boni          699    France  Female   39   \n",
       "4          5    15737888  Mitchell          850     Spain  Female   43   \n",
       "\n",
       "   Tenure    Balance  NumOfProducts  HasCrCard  IsActiveMember  \\\n",
       "0     2.0       0.00              1          1               1   \n",
       "1     1.0   83807.86              1          0               1   \n",
       "2     8.0  159660.80              3          1               0   \n",
       "3     1.0       0.00              2          0               0   \n",
       "4     2.0  125510.82              1          1               1   \n",
       "\n",
       "   EstimatedSalary  Exited  \n",
       "0        101348.88       1  \n",
       "1        112542.58       0  \n",
       "2        113931.57       1  \n",
       "3         93826.63       0  \n",
       "4         79084.10       0  "
      ]
     },
     "execution_count": 5,
     "metadata": {},
     "output_type": "execute_result"
    }
   ],
   "source": [
    "df.head()"
   ]
  },
  {
   "cell_type": "markdown",
   "metadata": {},
   "source": [
    "Переименуем названия столбцов в нашем датафрейме:"
   ]
  },
  {
   "cell_type": "code",
   "execution_count": 6,
   "metadata": {},
   "outputs": [],
   "source": [
    "df.columns = ['row_number', 'customer_id', 'surname','credit_score', 'geography', 'gender', 'age', 'tenure', \n",
    "              'balance', 'num_of_products', 'has_cr_card', 'is_active_member', 'estimated_salary', 'exited']"
   ]
  },
  {
   "cell_type": "markdown",
   "metadata": {},
   "source": [
    "Приведем к нижнему регистру значения столбцов Gender и Geography"
   ]
  },
  {
   "cell_type": "code",
   "execution_count": 7,
   "metadata": {},
   "outputs": [],
   "source": [
    "df['gender'] = df['gender'].str.lower()\n",
    "df['geography'] = df['geography'].str.lower()"
   ]
  },
  {
   "cell_type": "markdown",
   "metadata": {},
   "source": [
    "Имеются пропуски в количестве недвижимости у клиента. Это вероятней всего означает, что у клиента нет ее. Значит можно заменить пропуски на 0 и перевести в целочисленный тип."
   ]
  },
  {
   "cell_type": "code",
   "execution_count": 8,
   "metadata": {},
   "outputs": [
    {
     "data": {
      "text/plain": [
       "909"
      ]
     },
     "execution_count": 8,
     "metadata": {},
     "output_type": "execute_result"
    }
   ],
   "source": [
    "df['tenure'].isnull().sum()"
   ]
  },
  {
   "cell_type": "code",
   "execution_count": 9,
   "metadata": {},
   "outputs": [],
   "source": [
    "df['tenure'] = df['tenure'].fillna(0).astype('int64')"
   ]
  },
  {
   "cell_type": "markdown",
   "metadata": {},
   "source": [
    "грубая проверка дубликатов:"
   ]
  },
  {
   "cell_type": "code",
   "execution_count": 10,
   "metadata": {},
   "outputs": [
    {
     "name": "stdout",
     "output_type": "stream",
     "text": [
      "Количество дубликатов: 0\n"
     ]
    }
   ],
   "source": [
    "print(\"Количество дубликатов:\", df.duplicated().sum())"
   ]
  },
  {
   "cell_type": "markdown",
   "metadata": {},
   "source": [
    "Признаки, от которых можно избавиться на этапе предобработки: surname, row_number и customer_id. Предполагаем, что id и фамилия клиента совершенно не влияют на факт ухода клиента  "
   ]
  },
  {
   "cell_type": "code",
   "execution_count": 11,
   "metadata": {},
   "outputs": [],
   "source": [
    "df = df.drop([\"row_number\",\"customer_id\",\"surname\"], axis = 1)"
   ]
  },
  {
   "cell_type": "code",
   "execution_count": 12,
   "metadata": {
    "scrolled": false
   },
   "outputs": [
    {
     "data": {
      "text/html": [
       "<div>\n",
       "<style scoped>\n",
       "    .dataframe tbody tr th:only-of-type {\n",
       "        vertical-align: middle;\n",
       "    }\n",
       "\n",
       "    .dataframe tbody tr th {\n",
       "        vertical-align: top;\n",
       "    }\n",
       "\n",
       "    .dataframe thead th {\n",
       "        text-align: right;\n",
       "    }\n",
       "</style>\n",
       "<table border=\"1\" class=\"dataframe\">\n",
       "  <thead>\n",
       "    <tr style=\"text-align: right;\">\n",
       "      <th></th>\n",
       "      <th>credit_score</th>\n",
       "      <th>geography</th>\n",
       "      <th>gender</th>\n",
       "      <th>age</th>\n",
       "      <th>tenure</th>\n",
       "      <th>balance</th>\n",
       "      <th>num_of_products</th>\n",
       "      <th>has_cr_card</th>\n",
       "      <th>is_active_member</th>\n",
       "      <th>estimated_salary</th>\n",
       "      <th>exited</th>\n",
       "    </tr>\n",
       "  </thead>\n",
       "  <tbody>\n",
       "    <tr>\n",
       "      <th>0</th>\n",
       "      <td>619</td>\n",
       "      <td>france</td>\n",
       "      <td>female</td>\n",
       "      <td>42</td>\n",
       "      <td>2</td>\n",
       "      <td>0.00</td>\n",
       "      <td>1</td>\n",
       "      <td>1</td>\n",
       "      <td>1</td>\n",
       "      <td>101348.88</td>\n",
       "      <td>1</td>\n",
       "    </tr>\n",
       "    <tr>\n",
       "      <th>1</th>\n",
       "      <td>608</td>\n",
       "      <td>spain</td>\n",
       "      <td>female</td>\n",
       "      <td>41</td>\n",
       "      <td>1</td>\n",
       "      <td>83807.86</td>\n",
       "      <td>1</td>\n",
       "      <td>0</td>\n",
       "      <td>1</td>\n",
       "      <td>112542.58</td>\n",
       "      <td>0</td>\n",
       "    </tr>\n",
       "    <tr>\n",
       "      <th>2</th>\n",
       "      <td>502</td>\n",
       "      <td>france</td>\n",
       "      <td>female</td>\n",
       "      <td>42</td>\n",
       "      <td>8</td>\n",
       "      <td>159660.80</td>\n",
       "      <td>3</td>\n",
       "      <td>1</td>\n",
       "      <td>0</td>\n",
       "      <td>113931.57</td>\n",
       "      <td>1</td>\n",
       "    </tr>\n",
       "    <tr>\n",
       "      <th>3</th>\n",
       "      <td>699</td>\n",
       "      <td>france</td>\n",
       "      <td>female</td>\n",
       "      <td>39</td>\n",
       "      <td>1</td>\n",
       "      <td>0.00</td>\n",
       "      <td>2</td>\n",
       "      <td>0</td>\n",
       "      <td>0</td>\n",
       "      <td>93826.63</td>\n",
       "      <td>0</td>\n",
       "    </tr>\n",
       "    <tr>\n",
       "      <th>4</th>\n",
       "      <td>850</td>\n",
       "      <td>spain</td>\n",
       "      <td>female</td>\n",
       "      <td>43</td>\n",
       "      <td>2</td>\n",
       "      <td>125510.82</td>\n",
       "      <td>1</td>\n",
       "      <td>1</td>\n",
       "      <td>1</td>\n",
       "      <td>79084.10</td>\n",
       "      <td>0</td>\n",
       "    </tr>\n",
       "  </tbody>\n",
       "</table>\n",
       "</div>"
      ],
      "text/plain": [
       "   credit_score geography  gender  age  tenure    balance  num_of_products  \\\n",
       "0           619    france  female   42       2       0.00                1   \n",
       "1           608     spain  female   41       1   83807.86                1   \n",
       "2           502    france  female   42       8  159660.80                3   \n",
       "3           699    france  female   39       1       0.00                2   \n",
       "4           850     spain  female   43       2  125510.82                1   \n",
       "\n",
       "   has_cr_card  is_active_member  estimated_salary  exited  \n",
       "0            1                 1         101348.88       1  \n",
       "1            0                 1         112542.58       0  \n",
       "2            1                 0         113931.57       1  \n",
       "3            0                 0          93826.63       0  \n",
       "4            1                 1          79084.10       0  "
      ]
     },
     "execution_count": 12,
     "metadata": {},
     "output_type": "execute_result"
    }
   ],
   "source": [
    "df.head()"
   ]
  },
  {
   "cell_type": "markdown",
   "metadata": {},
   "source": [
    "Подробнее изучим данные, содержащиеся в столбцах:"
   ]
  },
  {
   "cell_type": "code",
   "execution_count": 13,
   "metadata": {},
   "outputs": [
    {
     "data": {
      "text/plain": [
       "0    0.7963\n",
       "1    0.2037\n",
       "Name: exited, dtype: float64"
      ]
     },
     "execution_count": 13,
     "metadata": {},
     "output_type": "execute_result"
    }
   ],
   "source": [
    "df.exited.value_counts(normalize=True)"
   ]
  },
  {
   "cell_type": "code",
   "execution_count": 14,
   "metadata": {},
   "outputs": [
    {
     "data": {
      "text/plain": [
       "male      5457\n",
       "female    4543\n",
       "Name: gender, dtype: int64"
      ]
     },
     "execution_count": 14,
     "metadata": {},
     "output_type": "execute_result"
    }
   ],
   "source": [
    "df.gender.value_counts()"
   ]
  },
  {
   "cell_type": "code",
   "execution_count": 15,
   "metadata": {},
   "outputs": [
    {
     "data": {
      "text/plain": [
       "france     5014\n",
       "germany    2509\n",
       "spain      2477\n",
       "Name: geography, dtype: int64"
      ]
     },
     "execution_count": 15,
     "metadata": {},
     "output_type": "execute_result"
    }
   ],
   "source": [
    "df.geography.value_counts()"
   ]
  },
  {
   "cell_type": "code",
   "execution_count": 16,
   "metadata": {},
   "outputs": [
    {
     "data": {
      "text/plain": [
       "1    7055\n",
       "0    2945\n",
       "Name: has_cr_card, dtype: int64"
      ]
     },
     "execution_count": 16,
     "metadata": {},
     "output_type": "execute_result"
    }
   ],
   "source": [
    "df.has_cr_card.value_counts()"
   ]
  },
  {
   "cell_type": "code",
   "execution_count": 17,
   "metadata": {},
   "outputs": [
    {
     "data": {
      "text/plain": [
       "1    5151\n",
       "0    4849\n",
       "Name: is_active_member, dtype: int64"
      ]
     },
     "execution_count": 17,
     "metadata": {},
     "output_type": "execute_result"
    }
   ],
   "source": [
    "df.is_active_member.value_counts()"
   ]
  },
  {
   "cell_type": "markdown",
   "metadata": {},
   "source": [
    "Методом describe выясним, как распределены данные в количественных признаках:"
   ]
  },
  {
   "cell_type": "code",
   "execution_count": 18,
   "metadata": {},
   "outputs": [
    {
     "data": {
      "text/html": [
       "<div>\n",
       "<style scoped>\n",
       "    .dataframe tbody tr th:only-of-type {\n",
       "        vertical-align: middle;\n",
       "    }\n",
       "\n",
       "    .dataframe tbody tr th {\n",
       "        vertical-align: top;\n",
       "    }\n",
       "\n",
       "    .dataframe thead th {\n",
       "        text-align: right;\n",
       "    }\n",
       "</style>\n",
       "<table border=\"1\" class=\"dataframe\">\n",
       "  <thead>\n",
       "    <tr style=\"text-align: right;\">\n",
       "      <th></th>\n",
       "      <th>credit_score</th>\n",
       "      <th>age</th>\n",
       "      <th>tenure</th>\n",
       "      <th>balance</th>\n",
       "      <th>num_of_products</th>\n",
       "      <th>estimated_salary</th>\n",
       "    </tr>\n",
       "  </thead>\n",
       "  <tbody>\n",
       "    <tr>\n",
       "      <th>count</th>\n",
       "      <td>10000.000000</td>\n",
       "      <td>10000.000000</td>\n",
       "      <td>10000.000000</td>\n",
       "      <td>10000.000000</td>\n",
       "      <td>10000.000000</td>\n",
       "      <td>10000.000000</td>\n",
       "    </tr>\n",
       "    <tr>\n",
       "      <th>mean</th>\n",
       "      <td>650.528800</td>\n",
       "      <td>38.921800</td>\n",
       "      <td>4.543400</td>\n",
       "      <td>76485.889288</td>\n",
       "      <td>1.530200</td>\n",
       "      <td>100090.239881</td>\n",
       "    </tr>\n",
       "    <tr>\n",
       "      <th>std</th>\n",
       "      <td>96.653299</td>\n",
       "      <td>10.487806</td>\n",
       "      <td>3.111573</td>\n",
       "      <td>62397.405202</td>\n",
       "      <td>0.581654</td>\n",
       "      <td>57510.492818</td>\n",
       "    </tr>\n",
       "    <tr>\n",
       "      <th>min</th>\n",
       "      <td>350.000000</td>\n",
       "      <td>18.000000</td>\n",
       "      <td>0.000000</td>\n",
       "      <td>0.000000</td>\n",
       "      <td>1.000000</td>\n",
       "      <td>11.580000</td>\n",
       "    </tr>\n",
       "    <tr>\n",
       "      <th>25%</th>\n",
       "      <td>584.000000</td>\n",
       "      <td>32.000000</td>\n",
       "      <td>2.000000</td>\n",
       "      <td>0.000000</td>\n",
       "      <td>1.000000</td>\n",
       "      <td>51002.110000</td>\n",
       "    </tr>\n",
       "    <tr>\n",
       "      <th>50%</th>\n",
       "      <td>652.000000</td>\n",
       "      <td>37.000000</td>\n",
       "      <td>4.000000</td>\n",
       "      <td>97198.540000</td>\n",
       "      <td>1.000000</td>\n",
       "      <td>100193.915000</td>\n",
       "    </tr>\n",
       "    <tr>\n",
       "      <th>75%</th>\n",
       "      <td>718.000000</td>\n",
       "      <td>44.000000</td>\n",
       "      <td>7.000000</td>\n",
       "      <td>127644.240000</td>\n",
       "      <td>2.000000</td>\n",
       "      <td>149388.247500</td>\n",
       "    </tr>\n",
       "    <tr>\n",
       "      <th>max</th>\n",
       "      <td>850.000000</td>\n",
       "      <td>92.000000</td>\n",
       "      <td>10.000000</td>\n",
       "      <td>250898.090000</td>\n",
       "      <td>4.000000</td>\n",
       "      <td>199992.480000</td>\n",
       "    </tr>\n",
       "  </tbody>\n",
       "</table>\n",
       "</div>"
      ],
      "text/plain": [
       "       credit_score           age        tenure        balance  \\\n",
       "count  10000.000000  10000.000000  10000.000000   10000.000000   \n",
       "mean     650.528800     38.921800      4.543400   76485.889288   \n",
       "std       96.653299     10.487806      3.111573   62397.405202   \n",
       "min      350.000000     18.000000      0.000000       0.000000   \n",
       "25%      584.000000     32.000000      2.000000       0.000000   \n",
       "50%      652.000000     37.000000      4.000000   97198.540000   \n",
       "75%      718.000000     44.000000      7.000000  127644.240000   \n",
       "max      850.000000     92.000000     10.000000  250898.090000   \n",
       "\n",
       "       num_of_products  estimated_salary  \n",
       "count     10000.000000      10000.000000  \n",
       "mean          1.530200     100090.239881  \n",
       "std           0.581654      57510.492818  \n",
       "min           1.000000         11.580000  \n",
       "25%           1.000000      51002.110000  \n",
       "50%           1.000000     100193.915000  \n",
       "75%           2.000000     149388.247500  \n",
       "max           4.000000     199992.480000  "
      ]
     },
     "execution_count": 18,
     "metadata": {},
     "output_type": "execute_result"
    }
   ],
   "source": [
    "df[['credit_score', 'age', 'tenure', 'balance', 'num_of_products', 'estimated_salary']].describe()"
   ]
  },
  {
   "cell_type": "markdown",
   "metadata": {},
   "source": [
    "Применим one hot encoding к датафрейму, избежав \"ловушку фиктивных признаков\""
   ]
  },
  {
   "cell_type": "code",
   "execution_count": 19,
   "metadata": {},
   "outputs": [
    {
     "data": {
      "text/html": [
       "<div>\n",
       "<style scoped>\n",
       "    .dataframe tbody tr th:only-of-type {\n",
       "        vertical-align: middle;\n",
       "    }\n",
       "\n",
       "    .dataframe tbody tr th {\n",
       "        vertical-align: top;\n",
       "    }\n",
       "\n",
       "    .dataframe thead th {\n",
       "        text-align: right;\n",
       "    }\n",
       "</style>\n",
       "<table border=\"1\" class=\"dataframe\">\n",
       "  <thead>\n",
       "    <tr style=\"text-align: right;\">\n",
       "      <th></th>\n",
       "      <th>credit_score</th>\n",
       "      <th>age</th>\n",
       "      <th>tenure</th>\n",
       "      <th>balance</th>\n",
       "      <th>num_of_products</th>\n",
       "      <th>has_cr_card</th>\n",
       "      <th>is_active_member</th>\n",
       "      <th>estimated_salary</th>\n",
       "      <th>exited</th>\n",
       "      <th>geography_germany</th>\n",
       "      <th>geography_spain</th>\n",
       "      <th>gender_male</th>\n",
       "    </tr>\n",
       "  </thead>\n",
       "  <tbody>\n",
       "    <tr>\n",
       "      <th>0</th>\n",
       "      <td>619</td>\n",
       "      <td>42</td>\n",
       "      <td>2</td>\n",
       "      <td>0.00</td>\n",
       "      <td>1</td>\n",
       "      <td>1</td>\n",
       "      <td>1</td>\n",
       "      <td>101348.88</td>\n",
       "      <td>1</td>\n",
       "      <td>0</td>\n",
       "      <td>0</td>\n",
       "      <td>0</td>\n",
       "    </tr>\n",
       "    <tr>\n",
       "      <th>1</th>\n",
       "      <td>608</td>\n",
       "      <td>41</td>\n",
       "      <td>1</td>\n",
       "      <td>83807.86</td>\n",
       "      <td>1</td>\n",
       "      <td>0</td>\n",
       "      <td>1</td>\n",
       "      <td>112542.58</td>\n",
       "      <td>0</td>\n",
       "      <td>0</td>\n",
       "      <td>1</td>\n",
       "      <td>0</td>\n",
       "    </tr>\n",
       "    <tr>\n",
       "      <th>2</th>\n",
       "      <td>502</td>\n",
       "      <td>42</td>\n",
       "      <td>8</td>\n",
       "      <td>159660.80</td>\n",
       "      <td>3</td>\n",
       "      <td>1</td>\n",
       "      <td>0</td>\n",
       "      <td>113931.57</td>\n",
       "      <td>1</td>\n",
       "      <td>0</td>\n",
       "      <td>0</td>\n",
       "      <td>0</td>\n",
       "    </tr>\n",
       "    <tr>\n",
       "      <th>3</th>\n",
       "      <td>699</td>\n",
       "      <td>39</td>\n",
       "      <td>1</td>\n",
       "      <td>0.00</td>\n",
       "      <td>2</td>\n",
       "      <td>0</td>\n",
       "      <td>0</td>\n",
       "      <td>93826.63</td>\n",
       "      <td>0</td>\n",
       "      <td>0</td>\n",
       "      <td>0</td>\n",
       "      <td>0</td>\n",
       "    </tr>\n",
       "    <tr>\n",
       "      <th>4</th>\n",
       "      <td>850</td>\n",
       "      <td>43</td>\n",
       "      <td>2</td>\n",
       "      <td>125510.82</td>\n",
       "      <td>1</td>\n",
       "      <td>1</td>\n",
       "      <td>1</td>\n",
       "      <td>79084.10</td>\n",
       "      <td>0</td>\n",
       "      <td>0</td>\n",
       "      <td>1</td>\n",
       "      <td>0</td>\n",
       "    </tr>\n",
       "  </tbody>\n",
       "</table>\n",
       "</div>"
      ],
      "text/plain": [
       "   credit_score  age  tenure    balance  num_of_products  has_cr_card  \\\n",
       "0           619   42       2       0.00                1            1   \n",
       "1           608   41       1   83807.86                1            0   \n",
       "2           502   42       8  159660.80                3            1   \n",
       "3           699   39       1       0.00                2            0   \n",
       "4           850   43       2  125510.82                1            1   \n",
       "\n",
       "   is_active_member  estimated_salary  exited  geography_germany  \\\n",
       "0                 1         101348.88       1                  0   \n",
       "1                 1         112542.58       0                  0   \n",
       "2                 0         113931.57       1                  0   \n",
       "3                 0          93826.63       0                  0   \n",
       "4                 1          79084.10       0                  0   \n",
       "\n",
       "   geography_spain  gender_male  \n",
       "0                0            0  \n",
       "1                1            0  \n",
       "2                0            0  \n",
       "3                0            0  \n",
       "4                1            0  "
      ]
     },
     "execution_count": 19,
     "metadata": {},
     "output_type": "execute_result"
    }
   ],
   "source": [
    "df_ohe = pd.get_dummies(df, drop_first=True)\n",
    "df_ohe.head()"
   ]
  },
  {
   "cell_type": "markdown",
   "metadata": {},
   "source": [
    "Вывод:\n",
    "\n",
    "На этапе предобработки данных мы выполнили первичную подготовку данных для дальнейшего анализа и машинного обучения:\n",
    "\n",
    "- Переименовали столбцы датафрейма для удобства работы с ними.\n",
    "- Привели к нижнему регистру значения столбцов gender и geography\n",
    "- Исправили пропущенные значения в столбце tenure, заменив их на 0, исходя из той гипотезы, что пропущенные значения оказались у тех людей, которые не владеют недвижимостью.\n",
    "- Изменили тип данных столбца tenure на int, т.к. предполагается наличие целочисленных значений в данном столбце.\n",
    "- Создали новый датафрейм без лишних столбцов: surname, rowNumber и customerId, а так же создали новые столбцы для категориальных признаков, преобразовав их в численные, воспользовавшись методом преображения (прямого кодирования)."
   ]
  },
  {
   "cell_type": "markdown",
   "metadata": {},
   "source": [
    "### Диаграмма корреляции данных"
   ]
  },
  {
   "cell_type": "markdown",
   "metadata": {},
   "source": [
    "Исследуем корреляцию факторов"
   ]
  },
  {
   "cell_type": "code",
   "execution_count": 20,
   "metadata": {},
   "outputs": [
    {
     "data": {
      "image/png": "[encoded data removed]",
      "text/plain": [
       "<Figure size 800x640 with 2 Axes>"
      ]
     },
     "metadata": {
      "needs_background": "light"
     },
     "output_type": "display_data"
    }
   ],
   "source": [
    "plt.figure(figsize=(10,8), dpi= 80)\n",
    "sns.heatmap(df_ohe.corr(), xticklabels=df_ohe.corr().columns, yticklabels=df_ohe.corr().columns, center=0, annot=True)\n",
    "\n",
    "plt.xticks(fontsize=10)\n",
    "plt.yticks(fontsize=10)\n",
    "plt.show()"
   ]
  },
  {
   "cell_type": "markdown",
   "metadata": {},
   "source": [
    "Мы изучили корреляцию между данными в датасете и выяснили, что между признаками нет сильной корреляции, а это значит, что нам не требуется дополнительная обработка данных, связанная с устранением мультиколлиниарности."
   ]
  },
  {
   "cell_type": "markdown",
   "metadata": {},
   "source": [
    "### Создадим выборки и приведём объекты выборок к единому масштабу "
   ]
  },
  {
   "cell_type": "markdown",
   "metadata": {},
   "source": [
    "Разобьем исходный датафрейм на 2 части: в features запишем признаки, на основе которых будет делаться предсказание, а в target запишем целевой признак - то значение, которое мы хотим предсказать, т.е. столбец exited."
   ]
  },
  {
   "cell_type": "code",
   "execution_count": 21,
   "metadata": {},
   "outputs": [],
   "source": [
    "features = df_ohe.drop('exited', axis=1)\n",
    "target = df_ohe['exited']"
   ]
  },
  {
   "cell_type": "markdown",
   "metadata": {},
   "source": [
    "разобьем исходный датасет на 2 выборки: обучающую и тестовую, при этом 75% данных запишем в обучающую выборку, а 25% для окончательной оценки моделей."
   ]
  },
  {
   "cell_type": "code",
   "execution_count": 22,
   "metadata": {},
   "outputs": [],
   "source": [
    "features_train, features_test, target_train, target_test = train_test_split(features, target, test_size=.25, random_state=12345)\n"
   ]
  },
  {
   "cell_type": "markdown",
   "metadata": {},
   "source": [
    "Проверим отношения классов в наших выборках и сравним их с отношением в исходном датафрейме."
   ]
  },
  {
   "cell_type": "code",
   "execution_count": 23,
   "metadata": {},
   "outputs": [
    {
     "name": "stdout",
     "output_type": "stream",
     "text": [
      "Отношение классов в исходном датасете:\n",
      "0    0.7963\n",
      "1    0.2037\n",
      "Name: exited, dtype: float64\n",
      "\n",
      "Отношение классов в обучающей выборке:\n",
      "0    0.799733\n",
      "1    0.200267\n",
      "Name: exited, dtype: float64\n",
      "\n",
      "Отношение классов в тестовой выборке:\n",
      "0    0.786\n",
      "1    0.214\n",
      "Name: exited, dtype: float64\n",
      "\n"
     ]
    }
   ],
   "source": [
    "print('Отношение классов в исходном датасете:')\n",
    "print(df_ohe['exited'].value_counts(normalize=True))\n",
    "print('')\n",
    "\n",
    "print('Отношение классов в обучающей выборке:')\n",
    "print(target_train.value_counts(normalize=True))\n",
    "print('')\n",
    "\n",
    "print('Отношение классов в тестовой выборке:')\n",
    "print(target_test.value_counts(normalize=True))\n",
    "print('')"
   ]
  },
  {
   "cell_type": "markdown",
   "metadata": {},
   "source": [
    "В выборках классы 0 и 1 соотносятся в тех же пропоруиях, что и в исходном датасете."
   ]
  },
  {
   "cell_type": "markdown",
   "metadata": {},
   "source": [
    "Проверка размера выборок:"
   ]
  },
  {
   "cell_type": "code",
   "execution_count": 24,
   "metadata": {},
   "outputs": [
    {
     "name": "stdout",
     "output_type": "stream",
     "text": [
      "Проверка размера выборок:\n",
      "df (10000, 11)\n",
      "features_train (7500, 11)\n",
      "features_test (2500, 11)\n",
      "target_train (7500,)\n",
      "target_test (2500,)\n"
     ]
    }
   ],
   "source": [
    "print('Проверка размера выборок:')\n",
    "print('df', df.shape)\n",
    "print('features_train', features_train.shape)\n",
    "print('features_test', features_test.shape)\n",
    "print('target_train', target_train.shape)\n",
    "print('target_test', target_test.shape)"
   ]
  },
  {
   "cell_type": "markdown",
   "metadata": {},
   "source": [
    "Функция проверящая правильность разбивки"
   ]
  },
  {
   "cell_type": "code",
   "execution_count": 25,
   "metadata": {},
   "outputs": [
    {
     "name": "stdout",
     "output_type": "stream",
     "text": [
      "Разбиение прошло правильно, выборки относятся как: 0.75 : 0.25\n"
     ]
    }
   ],
   "source": [
    "if len(df) == len(features_train) + len(features_test):\n",
    "    if len(df) == len(target_train) + len(target_test):\n",
    "        print(\n",
    "            'Разбиение прошло правильно, выборки относятся как:', \n",
    "              str(round(len(features_train + target_train) / len(df), 2)) + ' : ' +\n",
    "              str(round(len(features_test + target_test) / len(df), 2))\n",
    "        ) \n",
    "else:\n",
    "    print('Была допущена ошибка при разбиении')"
   ]
  },
  {
   "cell_type": "markdown",
   "metadata": {},
   "source": [
    "Случайным образом разбили наш исходный датафрейм на 2 выборки: обучающую и тестовую, при этом выборки относятся как 0.75 : 0.25. Обучающую выборку мы будем использовать для тренировки нашей модели, а тестовую для окончательной оценки модели"
   ]
  },
  {
   "cell_type": "markdown",
   "metadata": {},
   "source": [
    "Запишем столбцы с количественными признаками в переменную numeric."
   ]
  },
  {
   "cell_type": "code",
   "execution_count": 26,
   "metadata": {},
   "outputs": [],
   "source": [
    "numeric = ['credit_score', 'age', 'tenure', 'balance', 'num_of_products', 'estimated_salary']"
   ]
  },
  {
   "cell_type": "markdown",
   "metadata": {},
   "source": [
    "Нормируем числовые данные, используя StandardScaler"
   ]
  },
  {
   "cell_type": "code",
   "execution_count": 27,
   "metadata": {},
   "outputs": [
    {
     "data": {
      "text/plain": [
       "StandardScaler()"
      ]
     },
     "execution_count": 27,
     "metadata": {},
     "output_type": "execute_result"
    }
   ],
   "source": [
    "scaler = StandardScaler()\n",
    "scaler.fit(features_train[numeric])"
   ]
  },
  {
   "cell_type": "markdown",
   "metadata": {},
   "source": [
    "Отмасштабируем признаки, используя метод .transform()."
   ]
  },
  {
   "cell_type": "code",
   "execution_count": 28,
   "metadata": {},
   "outputs": [],
   "source": [
    "features_train[numeric] = scaler.transform(features_train[numeric])\n",
    "features_test[numeric] = scaler.transform(features_test[numeric])"
   ]
  },
  {
   "cell_type": "code",
   "execution_count": 29,
   "metadata": {},
   "outputs": [
    {
     "data": {
      "text/html": [
       "<div>\n",
       "<style scoped>\n",
       "    .dataframe tbody tr th:only-of-type {\n",
       "        vertical-align: middle;\n",
       "    }\n",
       "\n",
       "    .dataframe tbody tr th {\n",
       "        vertical-align: top;\n",
       "    }\n",
       "\n",
       "    .dataframe thead th {\n",
       "        text-align: right;\n",
       "    }\n",
       "</style>\n",
       "<table border=\"1\" class=\"dataframe\">\n",
       "  <thead>\n",
       "    <tr style=\"text-align: right;\">\n",
       "      <th></th>\n",
       "      <th>credit_score</th>\n",
       "      <th>age</th>\n",
       "      <th>tenure</th>\n",
       "      <th>balance</th>\n",
       "      <th>num_of_products</th>\n",
       "      <th>has_cr_card</th>\n",
       "      <th>is_active_member</th>\n",
       "      <th>estimated_salary</th>\n",
       "      <th>geography_germany</th>\n",
       "      <th>geography_spain</th>\n",
       "      <th>gender_male</th>\n",
       "    </tr>\n",
       "  </thead>\n",
       "  <tbody>\n",
       "    <tr>\n",
       "      <th>226</th>\n",
       "      <td>0.442805</td>\n",
       "      <td>-0.841274</td>\n",
       "      <td>1.426885</td>\n",
       "      <td>-1.224577</td>\n",
       "      <td>0.817772</td>\n",
       "      <td>1</td>\n",
       "      <td>1</td>\n",
       "      <td>-1.269750</td>\n",
       "      <td>0</td>\n",
       "      <td>0</td>\n",
       "      <td>0</td>\n",
       "    </tr>\n",
       "    <tr>\n",
       "      <th>7756</th>\n",
       "      <td>-0.310897</td>\n",
       "      <td>-0.270730</td>\n",
       "      <td>0.784858</td>\n",
       "      <td>0.641783</td>\n",
       "      <td>-0.896874</td>\n",
       "      <td>1</td>\n",
       "      <td>1</td>\n",
       "      <td>0.960396</td>\n",
       "      <td>0</td>\n",
       "      <td>1</td>\n",
       "      <td>0</td>\n",
       "    </tr>\n",
       "    <tr>\n",
       "      <th>2065</th>\n",
       "      <td>-0.259274</td>\n",
       "      <td>-0.556002</td>\n",
       "      <td>1.105871</td>\n",
       "      <td>-1.224577</td>\n",
       "      <td>0.817772</td>\n",
       "      <td>1</td>\n",
       "      <td>0</td>\n",
       "      <td>0.661864</td>\n",
       "      <td>0</td>\n",
       "      <td>0</td>\n",
       "      <td>1</td>\n",
       "    </tr>\n",
       "    <tr>\n",
       "      <th>2800</th>\n",
       "      <td>1.217157</td>\n",
       "      <td>1.155631</td>\n",
       "      <td>1.426885</td>\n",
       "      <td>1.290462</td>\n",
       "      <td>0.817772</td>\n",
       "      <td>1</td>\n",
       "      <td>0</td>\n",
       "      <td>-1.039476</td>\n",
       "      <td>0</td>\n",
       "      <td>0</td>\n",
       "      <td>1</td>\n",
       "    </tr>\n",
       "    <tr>\n",
       "      <th>7028</th>\n",
       "      <td>0.690598</td>\n",
       "      <td>-1.221637</td>\n",
       "      <td>-1.462240</td>\n",
       "      <td>1.142121</td>\n",
       "      <td>-0.896874</td>\n",
       "      <td>0</td>\n",
       "      <td>0</td>\n",
       "      <td>-0.851729</td>\n",
       "      <td>1</td>\n",
       "      <td>0</td>\n",
       "      <td>1</td>\n",
       "    </tr>\n",
       "  </tbody>\n",
       "</table>\n",
       "</div>"
      ],
      "text/plain": [
       "      credit_score       age    tenure   balance  num_of_products  \\\n",
       "226       0.442805 -0.841274  1.426885 -1.224577         0.817772   \n",
       "7756     -0.310897 -0.270730  0.784858  0.641783        -0.896874   \n",
       "2065     -0.259274 -0.556002  1.105871 -1.224577         0.817772   \n",
       "2800      1.217157  1.155631  1.426885  1.290462         0.817772   \n",
       "7028      0.690598 -1.221637 -1.462240  1.142121        -0.896874   \n",
       "\n",
       "      has_cr_card  is_active_member  estimated_salary  geography_germany  \\\n",
       "226             1                 1         -1.269750                  0   \n",
       "7756            1                 1          0.960396                  0   \n",
       "2065            1                 0          0.661864                  0   \n",
       "2800            1                 0         -1.039476                  0   \n",
       "7028            0                 0         -0.851729                  1   \n",
       "\n",
       "      geography_spain  gender_male  \n",
       "226                 0            0  \n",
       "7756                1            0  \n",
       "2065                0            1  \n",
       "2800                0            1  \n",
       "7028                0            1  "
      ]
     },
     "execution_count": 29,
     "metadata": {},
     "output_type": "execute_result"
    }
   ],
   "source": [
    "features_train.head()"
   ]
  },
  {
   "cell_type": "markdown",
   "metadata": {},
   "source": [
    "Мы отмасштабировали данные, используя StandardScaler() из библиотеки sklearn, с помощью которой привели данные к единому масштабу: математическое ожидание признаков стало равно 0, а стандартное отклонение = 1.\n",
    "\n",
    "Таким образом мы подготовили данные к построению моделей и предсказанию результатов."
   ]
  },
  {
   "cell_type": "markdown",
   "metadata": {},
   "source": [
    "## Исследование задачи"
   ]
  },
  {
   "cell_type": "markdown",
   "metadata": {},
   "source": [
    "Возьмем 3 модели для исследования:\n",
    "\n",
    "- Модель древа решений DecisionTreeClassifier\n",
    "- Модель случайного леса RandomForestClassifier\n",
    "- Модель логистической регрессии LogisticRegression\n",
    "\n",
    "Обучим модели при стандартным параметрах и вычислим их метрики f1 и roc-auc"
   ]
  },
  {
   "cell_type": "code",
   "execution_count": 30,
   "metadata": {},
   "outputs": [],
   "source": [
    "dt = DecisionTreeClassifier(random_state=12345)                          # Дерево решений\n",
    "rf = RandomForestClassifier(random_state=12345)                          # Случайный лес\n",
    "lr = LogisticRegression(random_state=12345, solver='liblinear')          # Логистическая регрессия\n",
    "models_list = [dt, rf, lr]\n",
    "models_dict = {dt:'Дерево решений',\n",
    "               rf:'Случайный лес',\n",
    "               lr:'Логистическая регрессия'}"
   ]
  },
  {
   "cell_type": "markdown",
   "metadata": {},
   "source": [
    "Создадим функцию f1_cv_score. На вход функция будет получать список моделей, признаков, таргета и количества разбиений при кросс-валидации. Возвращать функция будет список с результатами оценок."
   ]
  },
  {
   "cell_type": "code",
   "execution_count": 31,
   "metadata": {},
   "outputs": [],
   "source": [
    "def f1_cv_score(models, features, target, cv):\n",
    "    cv_scores = []\n",
    "    for model in models:\n",
    "        score = cross_val_score(model, features, target, cv=cv, scoring='f1').mean()\n",
    "        cv_scores.append(score)    \n",
    "            \n",
    "    return cv_scores"
   ]
  },
  {
   "cell_type": "markdown",
   "metadata": {},
   "source": [
    "Аналогично создаем функцию roc_auc_cv_score"
   ]
  },
  {
   "cell_type": "code",
   "execution_count": 32,
   "metadata": {},
   "outputs": [],
   "source": [
    "def roc_auc_cv_score(models, features, target, cv):\n",
    "    cv_scores = []\n",
    "    for model in models:\n",
    "        score = cross_val_score(model, features, target, cv=cv, scoring='roc_auc').mean()\n",
    "        cv_scores.append(score)    \n",
    "\n",
    "    return cv_scores"
   ]
  },
  {
   "cell_type": "code",
   "execution_count": 33,
   "metadata": {},
   "outputs": [
    {
     "data": {
      "text/html": [
       "<div>\n",
       "<style scoped>\n",
       "    .dataframe tbody tr th:only-of-type {\n",
       "        vertical-align: middle;\n",
       "    }\n",
       "\n",
       "    .dataframe tbody tr th {\n",
       "        vertical-align: top;\n",
       "    }\n",
       "\n",
       "    .dataframe thead th {\n",
       "        text-align: right;\n",
       "    }\n",
       "</style>\n",
       "<table border=\"1\" class=\"dataframe\">\n",
       "  <thead>\n",
       "    <tr style=\"text-align: right;\">\n",
       "      <th></th>\n",
       "      <th>DecisionTree</th>\n",
       "      <th>RandomForest</th>\n",
       "      <th>LogisticRegression</th>\n",
       "    </tr>\n",
       "  </thead>\n",
       "  <tbody>\n",
       "    <tr>\n",
       "      <th>f1_cv</th>\n",
       "      <td>0.490640</td>\n",
       "      <td>0.558635</td>\n",
       "      <td>0.320863</td>\n",
       "    </tr>\n",
       "    <tr>\n",
       "      <th>roc_auc_cv</th>\n",
       "      <td>0.683303</td>\n",
       "      <td>0.847566</td>\n",
       "      <td>0.765467</td>\n",
       "    </tr>\n",
       "  </tbody>\n",
       "</table>\n",
       "</div>"
      ],
      "text/plain": [
       "            DecisionTree  RandomForest  LogisticRegression\n",
       "f1_cv           0.490640      0.558635            0.320863\n",
       "roc_auc_cv      0.683303      0.847566            0.765467"
      ]
     },
     "execution_count": 33,
     "metadata": {},
     "output_type": "execute_result"
    }
   ],
   "source": [
    "columns = ['DecisionTree', 'RandomForest', 'LogisticRegression']\n",
    "index = ['f1_cv', 'roc_auc_cv']\n",
    "\n",
    "scores_f1 = f1_cv_score(models_list, features_train, target_train, 5)\n",
    "scores_roc_auc = roc_auc_cv_score(models_list, features_train, target_train, 5)\n",
    "\n",
    "models_pivot_basic = pd.DataFrame(data = [scores_f1, scores_roc_auc], index = index, columns = columns)\n",
    "models_pivot_basic"
   ]
  },
  {
   "cell_type": "markdown",
   "metadata": {},
   "source": [
    "Создаем функцию roc_plotter, которая отрисовывает ROC-кривые при кросс валидации. На вход функция принимает название модели, фичи, таргет и количество разбиений, а возвращает график кривых при кроссвалидации, при этом также вычисляя среднюю кривую."
   ]
  },
  {
   "cell_type": "code",
   "execution_count": 34,
   "metadata": {},
   "outputs": [],
   "source": [
    "def roc_plotter(model, features, target, n_splits):\n",
    "\n",
    "    \n",
    "    features_train_auc = features.values\n",
    "    target_train_auc = target.values\n",
    "    \n",
    "    cv = StratifiedKFold(n_splits=n_splits)\n",
    "    tprs = []\n",
    "    aucs = []\n",
    "    mean_fpr = np.linspace(0, 1, 100)\n",
    "    \n",
    "    fig, ax = plt.subplots(figsize=(10,6))\n",
    "    for i, (train, valid) in enumerate(cv.split(features_train_auc, target_train_auc)):\n",
    "        model.fit(features_train_auc[train], target_train_auc[train])\n",
    "        viz = plot_roc_curve(model, features_train_auc[valid], target_train_auc[valid],\n",
    "                             name='ROC fold {}'.format(i),\n",
    "                             alpha=0.3, lw=1, ax=ax)\n",
    "        interp_tpr = np.interp(mean_fpr, viz.fpr, viz.tpr)\n",
    "        interp_tpr[0] = 0.0\n",
    "        tprs.append(interp_tpr)\n",
    "        aucs.append(viz.roc_auc)\n",
    "    \n",
    "    ax.plot([0, 1], [0, 1], linestyle='--', lw=2, color='r',\n",
    "            label='Случайная кривая', alpha=.8)\n",
    "    \n",
    "    mean_tpr = np.mean(tprs, axis=0)\n",
    "    mean_tpr[-1] = 1.0\n",
    "    mean_auc = auc(mean_fpr, mean_tpr)\n",
    "    std_auc = np.std(aucs)\n",
    "    ax.plot(mean_fpr, mean_tpr, color='green',\n",
    "            label=r'Средняя ROC кривая (AUC = %0.2f $\\pm$ %0.2f)' % (mean_auc, std_auc),\n",
    "            lw=2, alpha=.8)\n",
    "    \n",
    "    std_tpr = np.std(tprs, axis=0)\n",
    "    tprs_upper = np.minimum(mean_tpr + std_tpr, 1)\n",
    "    tprs_lower = np.maximum(mean_tpr - std_tpr, 0)\n",
    "    ax.fill_between(mean_fpr, tprs_lower, tprs_upper, color='grey', alpha=.2,\n",
    "                    label=r'$\\pm$ 1 std. dev.')\n",
    "    \n",
    "    ax.set(xlim=[0.0, 1.0], ylim=[0.0, 1.0],\n",
    "           title=\"ROC-кривая {}\".format(models_dict[model]))\n",
    "    ax.legend(loc=\"lower right\")\n",
    "    plt.show()"
   ]
  },
  {
   "cell_type": "markdown",
   "metadata": {},
   "source": [
    "Построим кривые для каждой модели"
   ]
  },
  {
   "cell_type": "code",
   "execution_count": 35,
   "metadata": {},
   "outputs": [
    {
     "data": {
      "image/png": "[encoded data removed]",
      "text/plain": [
       "<Figure size 720x432 with 1 Axes>"
      ]
     },
     "metadata": {
      "needs_background": "light"
     },
     "output_type": "display_data"
    },
    {
     "data": {
      "image/png": "[encoded data removed]",
      "text/plain": [
       "<Figure size 720x432 with 1 Axes>"
      ]
     },
     "metadata": {
      "needs_background": "light"
     },
     "output_type": "display_data"
    },
    {
     "data": {
      "image/png": "[encoded data removed]",
      "text/plain": [
       "<Figure size 720x432 with 1 Axes>"
      ]
     },
     "metadata": {
      "needs_background": "light"
     },
     "output_type": "display_data"
    }
   ],
   "source": [
    "for model in models_list:\n",
    "    roc_plotter(model, features_train, target_train, 5)"
   ]
  },
  {
   "cell_type": "markdown",
   "metadata": {},
   "source": [
    "Вывод:\n",
    "\n",
    "При обучении моделей на тренировочной выборке f1_score довольно низкий, а roc_auc высокий. Это говорит о том, что модели работают плохо, и можно их улучшить.\n",
    "\n",
    "Ранее мы разбивали выборки, сохраняя то же отношение между классами, что и в исходном датасете, а именно 0.8 : 0.2.\n",
    "\n",
    "Попробуем устранить дизбаланс классов и проверим, как это скажется на качестве наших моделей"
   ]
  },
  {
   "cell_type": "markdown",
   "metadata": {},
   "source": [
    "## Борьба с дисбалансом"
   ]
  },
  {
   "cell_type": "markdown",
   "metadata": {},
   "source": [
    "### downsampling"
   ]
  },
  {
   "cell_type": "markdown",
   "metadata": {},
   "source": [
    "downsampling - метод заключается в том, чтобы уменьшить частоту самого встречающегося класса. В нашем случае попробуем сбалансировать классы 0.5 к 0.5"
   ]
  },
  {
   "cell_type": "markdown",
   "metadata": {},
   "source": [
    "Для начала, напишем функцию, которая произведет downsampling попавшей в нее выборки. На вход будет передавать фичи, таргет, отношение в котором уменьшаем класс и сам класс, который необходимо уменьшить."
   ]
  },
  {
   "cell_type": "code",
   "execution_count": 36,
   "metadata": {},
   "outputs": [],
   "source": [
    "def downsample(features, target, fraction, downsampling_class):\n",
    "    features_zeros = features[target == 0]\n",
    "    features_ones = features[target == 1]\n",
    "    target_zeros = target[target == 0]\n",
    "    target_ones = target[target == 1]\n",
    "\n",
    "    if downsampling_class == 0:\n",
    "        features_downsampled = pd.concat([features_zeros.sample(frac=fraction, random_state=12345)] + [features_ones])\n",
    "        target_downsampled = pd.concat([target_zeros.sample(frac=fraction, random_state=12345)] + [target_ones])\n",
    "        features_downsampled, target_downsampled = shuffle(features_downsampled, target_downsampled, random_state=12345)\n",
    "        \n",
    "    if downsampling_class == 1:\n",
    "        features_downsampled = pd.concat([features_zeros] + [features_ones.sample(frac=fraction, random_state=12345)])\n",
    "        target_downsampled = pd.concat([target_zeros] + [target_ones.sample(frac=fraction, random_state=12345)])\n",
    "        features_downsampled, target_downsampled = shuffle(features_downsampled, target_downsampled, random_state=12345)\n",
    "       \n",
    "    return features_downsampled, target_downsampled"
   ]
  },
  {
   "cell_type": "markdown",
   "metadata": {},
   "source": [
    "Класса 0 в четыре раза больше, чем класса 1. Уменьшим этот класс в 4 раза, используя функцию."
   ]
  },
  {
   "cell_type": "code",
   "execution_count": 37,
   "metadata": {},
   "outputs": [
    {
     "name": "stdout",
     "output_type": "stream",
     "text": [
      "1    0.500333\n",
      "0    0.499667\n",
      "Name: exited, dtype: float64\n",
      "(3002,)\n"
     ]
    }
   ],
   "source": [
    "features_downsampled, target_downsampled = downsample(features_train, target_train, 0.25, 0)\n",
    "print(target_downsampled.value_counts(normalize = 1))\n",
    "print(target_downsampled.shape)"
   ]
  },
  {
   "cell_type": "markdown",
   "metadata": {},
   "source": [
    "Построим ROC кривые:"
   ]
  },
  {
   "cell_type": "code",
   "execution_count": 38,
   "metadata": {},
   "outputs": [
    {
     "data": {
      "image/png": "[encoded data removed]",
      "text/plain": [
       "<Figure size 720x432 with 1 Axes>"
      ]
     },
     "metadata": {
      "needs_background": "light"
     },
     "output_type": "display_data"
    },
    {
     "data": {
      "image/png": "[encoded data removed]",
      "text/plain": [
       "<Figure size 720x432 with 1 Axes>"
      ]
     },
     "metadata": {
      "needs_background": "light"
     },
     "output_type": "display_data"
    },
    {
     "data": {
      "image/png": "[encoded data removed]",
      "text/plain": [
       "<Figure size 720x432 with 1 Axes>"
      ]
     },
     "metadata": {
      "needs_background": "light"
     },
     "output_type": "display_data"
    }
   ],
   "source": [
    "for model in models_list:\n",
    "    roc_plotter(model, features_downsampled, target_downsampled, 5)"
   ]
  },
  {
   "cell_type": "markdown",
   "metadata": {},
   "source": [
    "Вычислим метрики при кросс-валидации и сравним результаты с метриками, полученными при обучении непараметризированных моделей."
   ]
  },
  {
   "cell_type": "code",
   "execution_count": 39,
   "metadata": {},
   "outputs": [],
   "source": [
    "scores_f1_downsampled = f1_cv_score(models_list, features_downsampled, target_downsampled, 5)\n",
    "scores_roc_auc_downsampled = roc_auc_cv_score(models_list, features_downsampled, target_downsampled, 5)\n",
    "\n",
    "models_pivot_basic.loc['f1_cv_downsampled', columns] = scores_f1_downsampled\n",
    "models_pivot_basic.loc['roc_auc_cv_downsampled', columns] = scores_roc_auc_downsampled"
   ]
  },
  {
   "cell_type": "code",
   "execution_count": 40,
   "metadata": {},
   "outputs": [
    {
     "data": {
      "text/html": [
       "<div>\n",
       "<style scoped>\n",
       "    .dataframe tbody tr th:only-of-type {\n",
       "        vertical-align: middle;\n",
       "    }\n",
       "\n",
       "    .dataframe tbody tr th {\n",
       "        vertical-align: top;\n",
       "    }\n",
       "\n",
       "    .dataframe thead th {\n",
       "        text-align: right;\n",
       "    }\n",
       "</style>\n",
       "<table border=\"1\" class=\"dataframe\">\n",
       "  <thead>\n",
       "    <tr style=\"text-align: right;\">\n",
       "      <th></th>\n",
       "      <th>DecisionTree</th>\n",
       "      <th>RandomForest</th>\n",
       "      <th>LogisticRegression</th>\n",
       "    </tr>\n",
       "  </thead>\n",
       "  <tbody>\n",
       "    <tr>\n",
       "      <th>f1_cv</th>\n",
       "      <td>0.490640</td>\n",
       "      <td>0.558635</td>\n",
       "      <td>0.320863</td>\n",
       "    </tr>\n",
       "    <tr>\n",
       "      <th>f1_cv_downsampled</th>\n",
       "      <td>0.699239</td>\n",
       "      <td>0.765115</td>\n",
       "      <td>0.703086</td>\n",
       "    </tr>\n",
       "  </tbody>\n",
       "</table>\n",
       "</div>"
      ],
      "text/plain": [
       "                   DecisionTree  RandomForest  LogisticRegression\n",
       "f1_cv                  0.490640      0.558635            0.320863\n",
       "f1_cv_downsampled      0.699239      0.765115            0.703086"
      ]
     },
     "execution_count": 40,
     "metadata": {},
     "output_type": "execute_result"
    }
   ],
   "source": [
    "models_pivot_basic.loc[['f1_cv', 'f1_cv_downsampled']]"
   ]
  },
  {
   "cell_type": "code",
   "execution_count": 41,
   "metadata": {},
   "outputs": [
    {
     "data": {
      "text/html": [
       "<div>\n",
       "<style scoped>\n",
       "    .dataframe tbody tr th:only-of-type {\n",
       "        vertical-align: middle;\n",
       "    }\n",
       "\n",
       "    .dataframe tbody tr th {\n",
       "        vertical-align: top;\n",
       "    }\n",
       "\n",
       "    .dataframe thead th {\n",
       "        text-align: right;\n",
       "    }\n",
       "</style>\n",
       "<table border=\"1\" class=\"dataframe\">\n",
       "  <thead>\n",
       "    <tr style=\"text-align: right;\">\n",
       "      <th></th>\n",
       "      <th>DecisionTree</th>\n",
       "      <th>RandomForest</th>\n",
       "      <th>LogisticRegression</th>\n",
       "    </tr>\n",
       "  </thead>\n",
       "  <tbody>\n",
       "    <tr>\n",
       "      <th>roc_auc_cv</th>\n",
       "      <td>0.683303</td>\n",
       "      <td>0.847566</td>\n",
       "      <td>0.765467</td>\n",
       "    </tr>\n",
       "    <tr>\n",
       "      <th>roc_auc_cv_downsampled</th>\n",
       "      <td>0.699522</td>\n",
       "      <td>0.849098</td>\n",
       "      <td>0.771793</td>\n",
       "    </tr>\n",
       "  </tbody>\n",
       "</table>\n",
       "</div>"
      ],
      "text/plain": [
       "                        DecisionTree  RandomForest  LogisticRegression\n",
       "roc_auc_cv                  0.683303      0.847566            0.765467\n",
       "roc_auc_cv_downsampled      0.699522      0.849098            0.771793"
      ]
     },
     "execution_count": 41,
     "metadata": {},
     "output_type": "execute_result"
    }
   ],
   "source": [
    "models_pivot_basic.loc[['roc_auc_cv', 'roc_auc_cv_downsampled']]"
   ]
  },
  {
   "cell_type": "markdown",
   "metadata": {},
   "source": [
    "Удалось значительно увеличить f1_score для всех моделей, причем значительно, а вот значения AUC-ROC почти не изменились."
   ]
  },
  {
   "cell_type": "markdown",
   "metadata": {},
   "source": [
    "### взвешивание классов class_weight"
   ]
  },
  {
   "cell_type": "markdown",
   "metadata": {},
   "source": [
    "Посмотрим, улучшатся ли показатели модели при добавлении в нее аргумента class_weight = 'balanced'\n",
    "\n",
    "Для перебора гиперпараметров воспользуемся поиском по сетке GridSearchCV."
   ]
  },
  {
   "cell_type": "code",
   "execution_count": 42,
   "metadata": {},
   "outputs": [
    {
     "name": "stdout",
     "output_type": "stream",
     "text": [
      "0.7690871858458428\n",
      "DecisionTreeClassifier(class_weight='balanced', max_depth=7.0,\n",
      "                       min_samples_leaf=5, random_state=12345)\n",
      "CPU times: user 35.7 s, sys: 110 ms, total: 35.8 s\n",
      "Wall time: 35.9 s\n"
     ]
    }
   ],
   "source": [
    "%%time\n",
    "\n",
    "depth_array = np.linspace(1,24,24)              \n",
    "min_samples_leaf_array = [1,3,5,7,9,11] \n",
    "criterion_array = ['gini', 'entropy']\n",
    "class_weight_array = ['balanced', None]\n",
    "\n",
    "parameters = {'max_depth': depth_array,\n",
    "              'criterion': criterion_array,\n",
    "              'min_samples_leaf': min_samples_leaf_array,\n",
    "              'class_weight': class_weight_array}\n",
    "\n",
    "\n",
    "grid_dt = GridSearchCV(dt, param_grid=parameters, scoring = 'f1', cv=5)\n",
    "grid_dt.fit(features_downsampled, target_downsampled)\n",
    "print(grid_dt.best_score_)\n",
    "print(grid_dt.best_estimator_)\n",
    "\n",
    "dt_bestmodel = grid_dt.best_estimator_"
   ]
  },
  {
   "cell_type": "code",
   "execution_count": 43,
   "metadata": {},
   "outputs": [
    {
     "name": "stdout",
     "output_type": "stream",
     "text": [
      "0.7677383405529195\n",
      "RandomForestClassifier(max_depth=10.0, n_estimators=90, random_state=12345)\n",
      "CPU times: user 2min 31s, sys: 1.33 s, total: 2min 32s\n",
      "Wall time: 2min 33s\n"
     ]
    }
   ],
   "source": [
    "%%time\n",
    "depth_array = np.linspace(1,10,10)\n",
    "min_samples_leaf_array = [1,5,9]\n",
    "criterion_array = ['gini', 'entropy']\n",
    "class_weight_array = ['balanced', None]\n",
    "est_array = [10,90]\n",
    "\n",
    "parameters = {'max_depth': depth_array,\n",
    "              'criterion': criterion_array,\n",
    "              'min_samples_leaf': min_samples_leaf_array,\n",
    "              'class_weight': class_weight_array,\n",
    "              'n_estimators': est_array}\n",
    "\n",
    "\n",
    "grid_rf = GridSearchCV(rf, param_grid=parameters, scoring = 'f1', cv=5)\n",
    "grid_rf.fit(features_downsampled, target_downsampled)\n",
    "print(grid_rf.best_score_)\n",
    "print(grid_rf.best_estimator_)\n",
    "\n",
    "rf_bestmodel = grid_rf.best_estimator_"
   ]
  },
  {
   "cell_type": "code",
   "execution_count": 44,
   "metadata": {},
   "outputs": [
    {
     "name": "stdout",
     "output_type": "stream",
     "text": [
      "0.7094448422882434\n",
      "LogisticRegression(C=0.03359818286283781, intercept_scaling=6.0, penalty='l1',\n",
      "                   random_state=12345, solver='liblinear')\n",
      "CPU times: user 22.4 s, sys: 136 ms, total: 22.5 s\n",
      "Wall time: 22.6 s\n"
     ]
    }
   ],
   "source": [
    "%%time\n",
    "\n",
    "C_array = np.logspace(-2, 3, 20)                  \n",
    "intercept_array = np.linspace(1,6,6)             \n",
    "penalty_array = ['l1', 'l2'] \n",
    "class_weight_array = ['balanced', None]\n",
    "\n",
    "parameters = {'C': C_array, \n",
    "              'intercept_scaling': intercept_array, \n",
    "              'penalty':penalty_array,\n",
    "              'class_weight':class_weight_array}\n",
    "\n",
    "\n",
    "grid_lr = GridSearchCV(lr, scoring = 'f1', param_grid=parameters, cv=5) \n",
    "                       \n",
    "grid_lr.fit(features_downsampled, target_downsampled)\n",
    "print(grid_lr.best_score_)\n",
    "print(grid_lr.best_estimator_)\n",
    "\n",
    "lr_bestmodel = grid_lr.best_estimator_"
   ]
  },
  {
   "cell_type": "markdown",
   "metadata": {},
   "source": [
    "Для всех моделей лучшими оказались параметры, содержащие class_weight='balanced'"
   ]
  },
  {
   "cell_type": "code",
   "execution_count": 45,
   "metadata": {},
   "outputs": [],
   "source": [
    "best_models = [dt_bestmodel, rf_bestmodel, lr_bestmodel]\n",
    "models_dict = {dt_bestmodel:'Дерево решений',\n",
    "               rf_bestmodel:'Случайный лес',\n",
    "               lr_bestmodel:'Логистическая регрессия'}"
   ]
  },
  {
   "cell_type": "code",
   "execution_count": 46,
   "metadata": {},
   "outputs": [],
   "source": [
    "scores_f1_gridsearch = f1_cv_score(best_models, features_downsampled, target_downsampled, 5)\n",
    "scores_roc_auc_gridsearch = roc_auc_cv_score(best_models, features_downsampled, target_downsampled, 5)\n",
    "\n",
    "models_pivot_basic.loc['f1_gridsearch', columns] = scores_f1_gridsearch\n",
    "models_pivot_basic.loc['roc_auc_gridsearch', columns] = scores_roc_auc_gridsearch"
   ]
  },
  {
   "cell_type": "markdown",
   "metadata": {},
   "source": [
    "Построим ROC-кривые моделей:"
   ]
  },
  {
   "cell_type": "code",
   "execution_count": 47,
   "metadata": {},
   "outputs": [
    {
     "data": {
      "image/png": "[encoded data removed]",
      "text/plain": [
       "<Figure size 720x432 with 1 Axes>"
      ]
     },
     "metadata": {
      "needs_background": "light"
     },
     "output_type": "display_data"
    },
    {
     "data": {
      "image/png": "[encoded data removed]",
      "text/plain": [
       "<Figure size 720x432 with 1 Axes>"
      ]
     },
     "metadata": {
      "needs_background": "light"
     },
     "output_type": "display_data"
    },
    {
     "data": {
      "image/png": "[encoded data removed]",
      "text/plain": [
       "<Figure size 720x432 with 1 Axes>"
      ]
     },
     "metadata": {
      "needs_background": "light"
     },
     "output_type": "display_data"
    }
   ],
   "source": [
    "for model in best_models:\n",
    "    roc_plotter(model, features_downsampled, target_downsampled, 5)"
   ]
  },
  {
   "cell_type": "markdown",
   "metadata": {},
   "source": [
    "Cравним окончательные оценки моделей после подбора гиперпараметров"
   ]
  },
  {
   "cell_type": "code",
   "execution_count": 48,
   "metadata": {},
   "outputs": [
    {
     "data": {
      "text/html": [
       "<div>\n",
       "<style scoped>\n",
       "    .dataframe tbody tr th:only-of-type {\n",
       "        vertical-align: middle;\n",
       "    }\n",
       "\n",
       "    .dataframe tbody tr th {\n",
       "        vertical-align: top;\n",
       "    }\n",
       "\n",
       "    .dataframe thead th {\n",
       "        text-align: right;\n",
       "    }\n",
       "</style>\n",
       "<table border=\"1\" class=\"dataframe\">\n",
       "  <thead>\n",
       "    <tr style=\"text-align: right;\">\n",
       "      <th></th>\n",
       "      <th>DecisionTree</th>\n",
       "      <th>RandomForest</th>\n",
       "      <th>LogisticRegression</th>\n",
       "    </tr>\n",
       "  </thead>\n",
       "  <tbody>\n",
       "    <tr>\n",
       "      <th>f1_cv</th>\n",
       "      <td>0.490640</td>\n",
       "      <td>0.558635</td>\n",
       "      <td>0.320863</td>\n",
       "    </tr>\n",
       "    <tr>\n",
       "      <th>f1_cv_downsampled</th>\n",
       "      <td>0.699239</td>\n",
       "      <td>0.765115</td>\n",
       "      <td>0.703086</td>\n",
       "    </tr>\n",
       "    <tr>\n",
       "      <th>f1_gridsearch</th>\n",
       "      <td>0.769087</td>\n",
       "      <td>0.767738</td>\n",
       "      <td>0.709445</td>\n",
       "    </tr>\n",
       "    <tr>\n",
       "      <th>roc_auc_cv</th>\n",
       "      <td>0.683303</td>\n",
       "      <td>0.847566</td>\n",
       "      <td>0.765467</td>\n",
       "    </tr>\n",
       "    <tr>\n",
       "      <th>roc_auc_cv_downsampled</th>\n",
       "      <td>0.699522</td>\n",
       "      <td>0.849098</td>\n",
       "      <td>0.771793</td>\n",
       "    </tr>\n",
       "    <tr>\n",
       "      <th>roc_auc_gridsearch</th>\n",
       "      <td>0.825894</td>\n",
       "      <td>0.852464</td>\n",
       "      <td>0.774242</td>\n",
       "    </tr>\n",
       "  </tbody>\n",
       "</table>\n",
       "</div>"
      ],
      "text/plain": [
       "                        DecisionTree  RandomForest  LogisticRegression\n",
       "f1_cv                       0.490640      0.558635            0.320863\n",
       "f1_cv_downsampled           0.699239      0.765115            0.703086\n",
       "f1_gridsearch               0.769087      0.767738            0.709445\n",
       "roc_auc_cv                  0.683303      0.847566            0.765467\n",
       "roc_auc_cv_downsampled      0.699522      0.849098            0.771793\n",
       "roc_auc_gridsearch          0.825894      0.852464            0.774242"
      ]
     },
     "execution_count": 48,
     "metadata": {},
     "output_type": "execute_result"
    }
   ],
   "source": [
    "models_pivot_basic.loc[['f1_cv', 'f1_cv_downsampled', 'f1_gridsearch', 'roc_auc_cv', 'roc_auc_cv_downsampled', 'roc_auc_gridsearch']]"
   ]
  },
  {
   "cell_type": "markdown",
   "metadata": {},
   "source": [
    "Вывод:\n",
    "\n",
    "В результате удалось значительно улучшить модели, увиличив метрики, за счет downsampling и взвешивание классов.\n",
    "\n",
    "Окончательные результаты:\n",
    "\n",
    "Лучшая модель - дерево решений:\n",
    "- f1 мера увеличилась с 0.49 до 0.769 \n",
    "- roc_auc увеличилась с 0.683 до 0.825 \n",
    "\n",
    "Следующая модель по f1 мере - случайный лес:\n",
    "- f1 мера увеличилась с 0.55 до 0.76 \n",
    "- roc_auc осталась практически неизменной\n",
    "\n",
    "Худшая метрика у логистической регрессии:\n",
    "- f1 мера увеличилась с 0.32 до 0.709 \n",
    "- roc_auc осталась практически неизменной  "
   ]
  },
  {
   "cell_type": "markdown",
   "metadata": {},
   "source": [
    "## Тестирование модели"
   ]
  },
  {
   "cell_type": "markdown",
   "metadata": {},
   "source": [
    "Последним шагом в нашем проекте является тестирование модели в боевых условиях.\n",
    "\n",
    "Ранее мы отобрали из общего датасета выборку, в которой классы относятся как 0.8:0.2, а так же сами данные не отмасштабированы. Выясним, как поведет себя модель в таких условиях:"
   ]
  },
  {
   "cell_type": "code",
   "execution_count": 49,
   "metadata": {},
   "outputs": [],
   "source": [
    "test_scores_f1 = []\n",
    "test_scores_auc = []\n",
    "for model in best_models:\n",
    "    test_scores_f1.append(f1_score(target_test, model.predict(features_test)))\n",
    "    test_scores_auc.append(roc_auc_score(target_test, model.predict(features_test)))\n",
    "    \n",
    "models_pivot_basic.loc['f1_test', columns] = test_scores_f1\n",
    "models_pivot_basic.loc['roc_auc_test', columns] = test_scores_auc"
   ]
  },
  {
   "cell_type": "code",
   "execution_count": 50,
   "metadata": {},
   "outputs": [
    {
     "data": {
      "text/html": [
       "<div>\n",
       "<style scoped>\n",
       "    .dataframe tbody tr th:only-of-type {\n",
       "        vertical-align: middle;\n",
       "    }\n",
       "\n",
       "    .dataframe tbody tr th {\n",
       "        vertical-align: top;\n",
       "    }\n",
       "\n",
       "    .dataframe thead th {\n",
       "        text-align: right;\n",
       "    }\n",
       "</style>\n",
       "<table border=\"1\" class=\"dataframe\">\n",
       "  <thead>\n",
       "    <tr style=\"text-align: right;\">\n",
       "      <th></th>\n",
       "      <th>DecisionTree</th>\n",
       "      <th>RandomForest</th>\n",
       "      <th>LogisticRegression</th>\n",
       "    </tr>\n",
       "  </thead>\n",
       "  <tbody>\n",
       "    <tr>\n",
       "      <th>f1_test</th>\n",
       "      <td>0.585470</td>\n",
       "      <td>0.608696</td>\n",
       "      <td>0.523582</td>\n",
       "    </tr>\n",
       "    <tr>\n",
       "      <th>roc_auc_test</th>\n",
       "      <td>0.767573</td>\n",
       "      <td>0.781910</td>\n",
       "      <td>0.719267</td>\n",
       "    </tr>\n",
       "  </tbody>\n",
       "</table>\n",
       "</div>"
      ],
      "text/plain": [
       "              DecisionTree  RandomForest  LogisticRegression\n",
       "f1_test           0.585470      0.608696            0.523582\n",
       "roc_auc_test      0.767573      0.781910            0.719267"
      ]
     },
     "execution_count": 50,
     "metadata": {},
     "output_type": "execute_result"
    }
   ],
   "source": [
    "models_pivot_basic.loc[['f1_test','roc_auc_test']]"
   ]
  },
  {
   "cell_type": "markdown",
   "metadata": {},
   "source": [
    "По требованиям, было необходимо получить значение F1 меры больше, чем 0.59. С этим условием справилась только модель случайного леса, ее метрики:\n",
    "\n",
    "- F1 мера = 0.608\n",
    "- AUC-ROC = 0.781"
   ]
  },
  {
   "cell_type": "markdown",
   "metadata": {},
   "source": [
    "Модель случайного леса единственная из выбранных моделей превысила порог F1 меры 0.59. Ее метрики на тестовой выборке:\n",
    "\n",
    "- F1 мера = 0.608\n",
    "- AUC-ROC = 0.781\n",
    "\n",
    "Для преодоления порога потребовалось провести подготовку данных, которая состояла из:\n",
    "\n",
    "- Изучения общей информации о данных\n",
    "- Предобработке пропущенных значений, названий столбцов и изменении типов данных\n",
    "- Изучении взаимосвязей в данных\n",
    "- Разбиении данных на обучающую и тестовую выборки\n",
    "- Масштабировании обучающих данных\n",
    "\n",
    "После этого были выбраны 3 модели: DecisionTree, RandomForest, LogisticRegression и вычислены их метрики используя кросс-валидацию. Оказалось, что модели имеют низкую F1 меру, но при этом высокую AUC-ROC.\n",
    "\n",
    "Для того, чтобы улучшить модели был устранен диcбаланс классов и проведен подбор гиперпараметров моделей. Это позволило улучшить метрики и значительно увеличить F1 меру.\n",
    "\n",
    "Улучшенные модели протестировали и выяснили, что модели DecisionTree и LogisticRegression не проходят требуемый порог > 0.59."
   ]
  }
 ],
 "metadata": {
  "ExecuteTimeLog": [
   {
    "duration": 1602,
    "start_time": "2022-06-24T14:20:47.703Z"
   },
   {
    "duration": 333,
    "start_time": "2022-06-24T14:21:47.269Z"
   },
   {
    "duration": 12,
    "start_time": "2022-06-24T14:21:56.854Z"
   },
   {
    "duration": 102,
    "start_time": "2022-06-24T14:22:30.727Z"
   },
   {
    "duration": 54,
    "start_time": "2022-07-02T09:59:27.669Z"
   },
   {
    "duration": 1601,
    "start_time": "2022-07-02T09:59:34.436Z"
   },
   {
    "duration": 63,
    "start_time": "2022-07-02T09:59:36.039Z"
   },
   {
    "duration": 12,
    "start_time": "2022-07-02T09:59:36.104Z"
   },
   {
    "duration": 9,
    "start_time": "2022-07-02T09:59:36.118Z"
   },
   {
    "duration": 45,
    "start_time": "2022-07-02T17:15:55.102Z"
   },
   {
    "duration": 1610,
    "start_time": "2022-07-02T17:15:59.830Z"
   },
   {
    "duration": 60,
    "start_time": "2022-07-02T17:16:01.442Z"
   },
   {
    "duration": 15,
    "start_time": "2022-07-02T17:16:01.504Z"
   },
   {
    "duration": 13,
    "start_time": "2022-07-02T17:16:01.521Z"
   },
   {
    "duration": 22,
    "start_time": "2022-07-02T17:16:01.536Z"
   },
   {
    "duration": 14,
    "start_time": "2022-07-02T17:16:01.559Z"
   },
   {
    "duration": 3,
    "start_time": "2022-07-02T17:16:04.944Z"
   },
   {
    "duration": 46,
    "start_time": "2022-07-02T17:17:29.891Z"
   },
   {
    "duration": 5,
    "start_time": "2022-07-02T17:17:29.956Z"
   },
   {
    "duration": 5,
    "start_time": "2022-07-02T17:18:12.503Z"
   },
   {
    "duration": 4,
    "start_time": "2022-07-02T17:18:16.164Z"
   },
   {
    "duration": 108,
    "start_time": "2022-07-02T17:19:01.456Z"
   },
   {
    "duration": 13,
    "start_time": "2022-07-02T17:19:07.183Z"
   },
   {
    "duration": 10,
    "start_time": "2022-07-02T17:19:35.579Z"
   },
   {
    "duration": 48,
    "start_time": "2022-07-02T17:20:24.463Z"
   },
   {
    "duration": 8,
    "start_time": "2022-07-02T17:22:19.392Z"
   },
   {
    "duration": 15,
    "start_time": "2022-07-02T17:47:20.247Z"
   },
   {
    "duration": 1256,
    "start_time": "2022-07-02T17:49:12.142Z"
   },
   {
    "duration": 29,
    "start_time": "2022-07-02T17:49:13.400Z"
   },
   {
    "duration": 20,
    "start_time": "2022-07-02T17:49:13.433Z"
   },
   {
    "duration": 15,
    "start_time": "2022-07-02T17:49:13.455Z"
   },
   {
    "duration": 5,
    "start_time": "2022-07-02T17:49:13.472Z"
   },
   {
    "duration": 5,
    "start_time": "2022-07-02T17:49:13.478Z"
   },
   {
    "duration": 12,
    "start_time": "2022-07-02T17:49:13.484Z"
   },
   {
    "duration": 6,
    "start_time": "2022-07-02T17:49:13.498Z"
   },
   {
    "duration": 84,
    "start_time": "2022-07-02T17:49:13.506Z"
   },
   {
    "duration": 0,
    "start_time": "2022-07-02T17:49:13.591Z"
   },
   {
    "duration": 5,
    "start_time": "2022-07-02T17:52:05.073Z"
   },
   {
    "duration": 11,
    "start_time": "2022-07-02T17:52:12.256Z"
   },
   {
    "duration": 51,
    "start_time": "2022-07-03T11:58:50.778Z"
   },
   {
    "duration": 1529,
    "start_time": "2022-07-03T11:58:56.520Z"
   },
   {
    "duration": 176,
    "start_time": "2022-07-03T11:58:58.051Z"
   },
   {
    "duration": 15,
    "start_time": "2022-07-03T11:58:58.228Z"
   },
   {
    "duration": 23,
    "start_time": "2022-07-03T11:58:58.245Z"
   },
   {
    "duration": 4,
    "start_time": "2022-07-03T11:58:58.269Z"
   },
   {
    "duration": 7,
    "start_time": "2022-07-03T11:58:58.275Z"
   },
   {
    "duration": 12,
    "start_time": "2022-07-03T11:58:58.283Z"
   },
   {
    "duration": 4,
    "start_time": "2022-07-03T11:58:58.296Z"
   },
   {
    "duration": 36,
    "start_time": "2022-07-03T11:58:58.301Z"
   },
   {
    "duration": 15,
    "start_time": "2022-07-03T11:58:58.343Z"
   },
   {
    "duration": 10,
    "start_time": "2022-07-03T11:58:58.360Z"
   },
   {
    "duration": 4,
    "start_time": "2022-07-03T11:58:58.371Z"
   },
   {
    "duration": 22,
    "start_time": "2022-07-03T11:59:10.529Z"
   },
   {
    "duration": 449,
    "start_time": "2022-07-03T12:02:17.242Z"
   },
   {
    "duration": 1365,
    "start_time": "2022-07-03T12:02:26.767Z"
   },
   {
    "duration": 43,
    "start_time": "2022-07-03T12:02:28.135Z"
   },
   {
    "duration": 12,
    "start_time": "2022-07-03T12:02:28.181Z"
   },
   {
    "duration": 20,
    "start_time": "2022-07-03T12:02:28.195Z"
   },
   {
    "duration": 8,
    "start_time": "2022-07-03T12:02:28.217Z"
   },
   {
    "duration": 1566,
    "start_time": "2022-07-03T12:02:28.227Z"
   },
   {
    "duration": 0,
    "start_time": "2022-07-03T12:02:29.794Z"
   },
   {
    "duration": 0,
    "start_time": "2022-07-03T12:02:29.795Z"
   },
   {
    "duration": 0,
    "start_time": "2022-07-03T12:02:29.797Z"
   },
   {
    "duration": 0,
    "start_time": "2022-07-03T12:02:29.798Z"
   },
   {
    "duration": 0,
    "start_time": "2022-07-03T12:02:29.799Z"
   },
   {
    "duration": 0,
    "start_time": "2022-07-03T12:02:29.800Z"
   },
   {
    "duration": 0,
    "start_time": "2022-07-03T12:02:29.801Z"
   },
   {
    "duration": 5,
    "start_time": "2022-07-03T12:02:46.083Z"
   },
   {
    "duration": 5,
    "start_time": "2022-07-03T12:02:48.111Z"
   },
   {
    "duration": 4,
    "start_time": "2022-07-03T12:02:49.739Z"
   },
   {
    "duration": 1340,
    "start_time": "2022-07-03T12:02:55.655Z"
   },
   {
    "duration": 42,
    "start_time": "2022-07-03T12:02:56.997Z"
   },
   {
    "duration": 13,
    "start_time": "2022-07-03T12:02:57.041Z"
   },
   {
    "duration": 15,
    "start_time": "2022-07-03T12:02:57.055Z"
   },
   {
    "duration": 3,
    "start_time": "2022-07-03T12:02:57.072Z"
   },
   {
    "duration": 6,
    "start_time": "2022-07-03T12:02:57.076Z"
   },
   {
    "duration": 5,
    "start_time": "2022-07-03T12:02:57.083Z"
   },
   {
    "duration": 13,
    "start_time": "2022-07-03T12:02:57.090Z"
   },
   {
    "duration": 115,
    "start_time": "2022-07-03T12:02:57.129Z"
   },
   {
    "duration": 0,
    "start_time": "2022-07-03T12:02:57.246Z"
   },
   {
    "duration": 0,
    "start_time": "2022-07-03T12:02:57.247Z"
   },
   {
    "duration": 0,
    "start_time": "2022-07-03T12:02:57.247Z"
   },
   {
    "duration": 0,
    "start_time": "2022-07-03T12:02:57.248Z"
   },
   {
    "duration": 6,
    "start_time": "2022-07-03T12:03:22.043Z"
   },
   {
    "duration": 12,
    "start_time": "2022-07-03T12:03:37.815Z"
   },
   {
    "duration": 1237,
    "start_time": "2022-07-03T12:03:43.971Z"
   },
   {
    "duration": 47,
    "start_time": "2022-07-03T12:03:45.210Z"
   },
   {
    "duration": 12,
    "start_time": "2022-07-03T12:03:45.259Z"
   },
   {
    "duration": 13,
    "start_time": "2022-07-03T12:03:45.273Z"
   },
   {
    "duration": 2,
    "start_time": "2022-07-03T12:03:45.288Z"
   },
   {
    "duration": 6,
    "start_time": "2022-07-03T12:03:45.292Z"
   },
   {
    "duration": 6,
    "start_time": "2022-07-03T12:03:45.299Z"
   },
   {
    "duration": 15,
    "start_time": "2022-07-03T12:03:45.306Z"
   },
   {
    "duration": 12,
    "start_time": "2022-07-03T12:03:45.328Z"
   },
   {
    "duration": 13,
    "start_time": "2022-07-03T12:03:45.342Z"
   },
   {
    "duration": 113,
    "start_time": "2022-07-03T12:03:45.357Z"
   },
   {
    "duration": 0,
    "start_time": "2022-07-03T12:03:45.471Z"
   },
   {
    "duration": 0,
    "start_time": "2022-07-03T12:03:45.472Z"
   },
   {
    "duration": 1333,
    "start_time": "2022-07-03T12:03:58.763Z"
   },
   {
    "duration": 47,
    "start_time": "2022-07-03T12:04:00.097Z"
   },
   {
    "duration": 15,
    "start_time": "2022-07-03T12:04:00.146Z"
   },
   {
    "duration": 16,
    "start_time": "2022-07-03T12:04:00.162Z"
   },
   {
    "duration": 3,
    "start_time": "2022-07-03T12:04:00.180Z"
   },
   {
    "duration": 17,
    "start_time": "2022-07-03T12:04:00.184Z"
   },
   {
    "duration": 15,
    "start_time": "2022-07-03T12:04:00.202Z"
   },
   {
    "duration": 28,
    "start_time": "2022-07-03T12:04:00.218Z"
   },
   {
    "duration": 5,
    "start_time": "2022-07-03T12:04:00.248Z"
   },
   {
    "duration": 16,
    "start_time": "2022-07-03T12:04:00.255Z"
   },
   {
    "duration": 20,
    "start_time": "2022-07-03T12:04:00.273Z"
   },
   {
    "duration": 23,
    "start_time": "2022-07-03T12:04:00.294Z"
   },
   {
    "duration": 4,
    "start_time": "2022-07-03T12:04:00.319Z"
   },
   {
    "duration": 8,
    "start_time": "2022-07-03T12:09:18.888Z"
   },
   {
    "duration": 1309,
    "start_time": "2022-07-03T12:14:18.642Z"
   },
   {
    "duration": 41,
    "start_time": "2022-07-03T12:14:19.954Z"
   },
   {
    "duration": 13,
    "start_time": "2022-07-03T12:14:19.997Z"
   },
   {
    "duration": 16,
    "start_time": "2022-07-03T12:14:20.012Z"
   },
   {
    "duration": 3,
    "start_time": "2022-07-03T12:14:20.040Z"
   },
   {
    "duration": 14,
    "start_time": "2022-07-03T12:14:20.044Z"
   },
   {
    "duration": 5,
    "start_time": "2022-07-03T12:14:20.060Z"
   },
   {
    "duration": 5,
    "start_time": "2022-07-03T12:14:20.067Z"
   },
   {
    "duration": 13,
    "start_time": "2022-07-03T12:14:20.074Z"
   },
   {
    "duration": 4,
    "start_time": "2022-07-03T12:14:20.089Z"
   },
   {
    "duration": 15,
    "start_time": "2022-07-03T12:14:20.095Z"
   },
   {
    "duration": 21,
    "start_time": "2022-07-03T12:14:20.131Z"
   },
   {
    "duration": 7,
    "start_time": "2022-07-03T12:14:20.154Z"
   },
   {
    "duration": 8,
    "start_time": "2022-07-03T12:14:20.163Z"
   },
   {
    "duration": 19,
    "start_time": "2022-07-03T12:23:43.906Z"
   },
   {
    "duration": 20,
    "start_time": "2022-07-03T12:24:53.679Z"
   },
   {
    "duration": 5,
    "start_time": "2022-07-03T12:25:03.479Z"
   },
   {
    "duration": 5,
    "start_time": "2022-07-03T12:25:13.415Z"
   },
   {
    "duration": 5,
    "start_time": "2022-07-03T12:25:20.183Z"
   },
   {
    "duration": 6,
    "start_time": "2022-07-03T12:25:26.940Z"
   },
   {
    "duration": 2,
    "start_time": "2022-07-03T12:30:16.079Z"
   },
   {
    "duration": 2,
    "start_time": "2022-07-03T12:31:28.999Z"
   },
   {
    "duration": 6,
    "start_time": "2022-07-03T12:34:32.923Z"
   },
   {
    "duration": 10,
    "start_time": "2022-07-03T12:40:40.808Z"
   },
   {
    "duration": 7,
    "start_time": "2022-07-03T12:41:31.197Z"
   },
   {
    "duration": 4,
    "start_time": "2022-07-03T12:41:45.729Z"
   },
   {
    "duration": 4,
    "start_time": "2022-07-03T12:42:07.353Z"
   },
   {
    "duration": 10,
    "start_time": "2022-07-03T12:42:50.484Z"
   },
   {
    "duration": 5,
    "start_time": "2022-07-03T12:43:37.245Z"
   },
   {
    "duration": 2,
    "start_time": "2022-07-03T12:46:20.210Z"
   },
   {
    "duration": 117,
    "start_time": "2022-07-03T12:47:47.920Z"
   },
   {
    "duration": 13,
    "start_time": "2022-07-03T12:48:12.799Z"
   },
   {
    "duration": 55,
    "start_time": "2022-07-03T12:48:55.267Z"
   },
   {
    "duration": 1308,
    "start_time": "2022-07-03T12:49:00.554Z"
   },
   {
    "duration": 41,
    "start_time": "2022-07-03T12:49:01.864Z"
   },
   {
    "duration": 11,
    "start_time": "2022-07-03T12:49:01.907Z"
   },
   {
    "duration": 20,
    "start_time": "2022-07-03T12:49:01.920Z"
   },
   {
    "duration": 3,
    "start_time": "2022-07-03T12:49:01.941Z"
   },
   {
    "duration": 16,
    "start_time": "2022-07-03T12:49:01.945Z"
   },
   {
    "duration": 13,
    "start_time": "2022-07-03T12:49:01.963Z"
   },
   {
    "duration": 8,
    "start_time": "2022-07-03T12:49:01.977Z"
   },
   {
    "duration": 15,
    "start_time": "2022-07-03T12:49:01.986Z"
   },
   {
    "duration": 4,
    "start_time": "2022-07-03T12:49:02.003Z"
   },
   {
    "duration": 11,
    "start_time": "2022-07-03T12:49:02.009Z"
   },
   {
    "duration": 23,
    "start_time": "2022-07-03T12:49:02.021Z"
   },
   {
    "duration": 982,
    "start_time": "2022-07-03T12:49:02.045Z"
   },
   {
    "duration": 5,
    "start_time": "2022-07-03T12:49:03.029Z"
   },
   {
    "duration": 8,
    "start_time": "2022-07-03T12:49:03.036Z"
   },
   {
    "duration": 14,
    "start_time": "2022-07-03T12:49:03.045Z"
   },
   {
    "duration": 5,
    "start_time": "2022-07-03T12:49:03.060Z"
   },
   {
    "duration": 7,
    "start_time": "2022-07-03T12:49:03.066Z"
   },
   {
    "duration": 6,
    "start_time": "2022-07-03T12:49:03.074Z"
   },
   {
    "duration": 1131,
    "start_time": "2022-07-03T12:49:43.641Z"
   },
   {
    "duration": 410,
    "start_time": "2022-07-03T12:54:19.495Z"
   },
   {
    "duration": 385,
    "start_time": "2022-07-03T12:54:25.320Z"
   },
   {
    "duration": 381,
    "start_time": "2022-07-03T12:54:30.646Z"
   },
   {
    "duration": 3,
    "start_time": "2022-07-03T12:58:06.674Z"
   },
   {
    "duration": 8,
    "start_time": "2022-07-03T12:59:24.033Z"
   },
   {
    "duration": 20,
    "start_time": "2022-07-03T13:00:12.204Z"
   },
   {
    "duration": 49,
    "start_time": "2022-07-03T15:38:31.519Z"
   },
   {
    "duration": 1636,
    "start_time": "2022-07-03T15:38:49.011Z"
   },
   {
    "duration": 1498,
    "start_time": "2022-07-03T15:41:00.996Z"
   },
   {
    "duration": 3,
    "start_time": "2022-07-03T15:41:02.496Z"
   },
   {
    "duration": 182,
    "start_time": "2022-07-03T15:41:02.501Z"
   },
   {
    "duration": 14,
    "start_time": "2022-07-03T15:41:02.685Z"
   },
   {
    "duration": 13,
    "start_time": "2022-07-03T15:41:02.701Z"
   },
   {
    "duration": 3,
    "start_time": "2022-07-03T15:41:02.716Z"
   },
   {
    "duration": 14,
    "start_time": "2022-07-03T15:41:02.721Z"
   },
   {
    "duration": 10,
    "start_time": "2022-07-03T15:41:02.737Z"
   },
   {
    "duration": 11,
    "start_time": "2022-07-03T15:41:02.749Z"
   },
   {
    "duration": 24,
    "start_time": "2022-07-03T15:41:02.762Z"
   },
   {
    "duration": 20,
    "start_time": "2022-07-03T15:41:02.788Z"
   },
   {
    "duration": 18,
    "start_time": "2022-07-03T15:41:02.810Z"
   },
   {
    "duration": 19,
    "start_time": "2022-07-03T15:41:02.830Z"
   },
   {
    "duration": 1128,
    "start_time": "2022-07-03T15:41:02.851Z"
   },
   {
    "duration": 6,
    "start_time": "2022-07-03T15:41:03.981Z"
   },
   {
    "duration": 7,
    "start_time": "2022-07-03T15:41:03.989Z"
   },
   {
    "duration": 13,
    "start_time": "2022-07-03T15:41:03.998Z"
   },
   {
    "duration": 5,
    "start_time": "2022-07-03T15:41:04.013Z"
   },
   {
    "duration": 415,
    "start_time": "2022-07-03T15:41:04.026Z"
   },
   {
    "duration": 3,
    "start_time": "2022-07-03T15:41:04.442Z"
   },
   {
    "duration": 14,
    "start_time": "2022-07-03T15:41:04.446Z"
   },
   {
    "duration": 20,
    "start_time": "2022-07-03T15:41:04.462Z"
   },
   {
    "duration": 5,
    "start_time": "2022-07-03T15:41:04.483Z"
   },
   {
    "duration": 11,
    "start_time": "2022-07-03T15:41:04.490Z"
   },
   {
    "duration": 5,
    "start_time": "2022-07-03T15:44:49.352Z"
   },
   {
    "duration": 6,
    "start_time": "2022-07-03T15:45:00.302Z"
   },
   {
    "duration": 10,
    "start_time": "2022-07-03T15:45:25.996Z"
   },
   {
    "duration": 4,
    "start_time": "2022-07-03T15:54:38.463Z"
   },
   {
    "duration": 6,
    "start_time": "2022-07-03T15:55:01.409Z"
   },
   {
    "duration": 4,
    "start_time": "2022-07-03T15:58:10.888Z"
   },
   {
    "duration": 3,
    "start_time": "2022-07-03T15:59:53.410Z"
   },
   {
    "duration": 21,
    "start_time": "2022-07-03T16:00:01.634Z"
   },
   {
    "duration": 1744,
    "start_time": "2022-07-03T16:00:08.376Z"
   },
   {
    "duration": 3,
    "start_time": "2022-07-03T16:00:10.125Z"
   },
   {
    "duration": 82,
    "start_time": "2022-07-03T16:00:10.132Z"
   },
   {
    "duration": 19,
    "start_time": "2022-07-03T16:00:10.216Z"
   },
   {
    "duration": 42,
    "start_time": "2022-07-03T16:00:10.238Z"
   },
   {
    "duration": 3,
    "start_time": "2022-07-03T16:00:10.282Z"
   },
   {
    "duration": 12,
    "start_time": "2022-07-03T16:00:10.287Z"
   },
   {
    "duration": 8,
    "start_time": "2022-07-03T16:00:10.301Z"
   },
   {
    "duration": 5,
    "start_time": "2022-07-03T16:00:10.311Z"
   },
   {
    "duration": 20,
    "start_time": "2022-07-03T16:00:10.318Z"
   },
   {
    "duration": 29,
    "start_time": "2022-07-03T16:00:10.341Z"
   },
   {
    "duration": 14,
    "start_time": "2022-07-03T16:00:10.372Z"
   },
   {
    "duration": 27,
    "start_time": "2022-07-03T16:00:10.388Z"
   },
   {
    "duration": 1400,
    "start_time": "2022-07-03T16:00:10.419Z"
   },
   {
    "duration": 7,
    "start_time": "2022-07-03T16:00:11.821Z"
   },
   {
    "duration": 44,
    "start_time": "2022-07-03T16:00:11.831Z"
   },
   {
    "duration": 15,
    "start_time": "2022-07-03T16:00:11.877Z"
   },
   {
    "duration": 6,
    "start_time": "2022-07-03T16:00:11.893Z"
   },
   {
    "duration": 413,
    "start_time": "2022-07-03T16:00:11.901Z"
   },
   {
    "duration": 12,
    "start_time": "2022-07-03T16:00:12.316Z"
   },
   {
    "duration": 43,
    "start_time": "2022-07-03T16:00:12.330Z"
   },
   {
    "duration": 31,
    "start_time": "2022-07-03T16:00:12.375Z"
   },
   {
    "duration": 14,
    "start_time": "2022-07-03T16:00:12.409Z"
   },
   {
    "duration": 49,
    "start_time": "2022-07-03T16:00:12.426Z"
   },
   {
    "duration": 3,
    "start_time": "2022-07-03T16:03:16.091Z"
   },
   {
    "duration": 3,
    "start_time": "2022-07-03T16:04:54.372Z"
   },
   {
    "duration": 9,
    "start_time": "2022-07-03T16:05:20.614Z"
   },
   {
    "duration": 9,
    "start_time": "2022-07-03T16:06:09.914Z"
   },
   {
    "duration": 137,
    "start_time": "2022-07-03T16:07:51.790Z"
   },
   {
    "duration": 4,
    "start_time": "2022-07-03T16:08:44.856Z"
   },
   {
    "duration": 8712,
    "start_time": "2022-07-03T16:09:04.531Z"
   },
   {
    "duration": 1421,
    "start_time": "2022-07-03T16:11:33.360Z"
   },
   {
    "duration": 3,
    "start_time": "2022-07-03T16:11:34.783Z"
   },
   {
    "duration": 51,
    "start_time": "2022-07-03T16:11:34.788Z"
   },
   {
    "duration": 13,
    "start_time": "2022-07-03T16:11:34.841Z"
   },
   {
    "duration": 16,
    "start_time": "2022-07-03T16:11:34.856Z"
   },
   {
    "duration": 3,
    "start_time": "2022-07-03T16:11:34.874Z"
   },
   {
    "duration": 11,
    "start_time": "2022-07-03T16:11:34.878Z"
   },
   {
    "duration": 40,
    "start_time": "2022-07-03T16:11:34.891Z"
   },
   {
    "duration": 15,
    "start_time": "2022-07-03T16:11:34.932Z"
   },
   {
    "duration": 13,
    "start_time": "2022-07-03T16:11:34.949Z"
   },
   {
    "duration": 4,
    "start_time": "2022-07-03T16:11:34.963Z"
   },
   {
    "duration": 12,
    "start_time": "2022-07-03T16:11:34.968Z"
   },
   {
    "duration": 21,
    "start_time": "2022-07-03T16:11:34.981Z"
   },
   {
    "duration": 1117,
    "start_time": "2022-07-03T16:11:35.027Z"
   },
   {
    "duration": 6,
    "start_time": "2022-07-03T16:11:36.146Z"
   },
   {
    "duration": 11,
    "start_time": "2022-07-03T16:11:36.154Z"
   },
   {
    "duration": 19,
    "start_time": "2022-07-03T16:11:36.166Z"
   },
   {
    "duration": 10,
    "start_time": "2022-07-03T16:11:36.187Z"
   },
   {
    "duration": 427,
    "start_time": "2022-07-03T16:11:36.198Z"
   },
   {
    "duration": 12,
    "start_time": "2022-07-03T16:11:36.629Z"
   },
   {
    "duration": 23,
    "start_time": "2022-07-03T16:11:36.644Z"
   },
   {
    "duration": 29,
    "start_time": "2022-07-03T16:11:36.670Z"
   },
   {
    "duration": 14,
    "start_time": "2022-07-03T16:11:36.701Z"
   },
   {
    "duration": 6,
    "start_time": "2022-07-03T16:11:36.717Z"
   },
   {
    "duration": 48,
    "start_time": "2022-07-03T16:11:36.725Z"
   },
   {
    "duration": 44,
    "start_time": "2022-07-03T16:11:36.776Z"
   },
   {
    "duration": 8826,
    "start_time": "2022-07-03T16:11:36.822Z"
   },
   {
    "duration": 74,
    "start_time": "2022-07-03T16:11:45.655Z"
   },
   {
    "duration": 116,
    "start_time": "2022-07-03T16:14:07.835Z"
   },
   {
    "duration": 5,
    "start_time": "2022-07-03T16:14:27.976Z"
   },
   {
    "duration": 246,
    "start_time": "2022-07-03T16:14:34.458Z"
   },
   {
    "duration": 7,
    "start_time": "2022-07-03T16:14:53.965Z"
   },
   {
    "duration": 4979,
    "start_time": "2022-07-03T16:15:02.261Z"
   },
   {
    "duration": 12,
    "start_time": "2022-07-03T16:21:43.390Z"
   },
   {
    "duration": 11,
    "start_time": "2022-07-03T16:24:09.442Z"
   },
   {
    "duration": 27,
    "start_time": "2022-07-03T16:24:56.338Z"
   },
   {
    "duration": 13,
    "start_time": "2022-07-03T16:24:58.767Z"
   },
   {
    "duration": 11,
    "start_time": "2022-07-03T16:25:01.948Z"
   },
   {
    "duration": 6,
    "start_time": "2022-07-03T16:25:10.666Z"
   },
   {
    "duration": 6,
    "start_time": "2022-07-03T16:25:29.109Z"
   },
   {
    "duration": 7,
    "start_time": "2022-07-03T16:25:30.135Z"
   },
   {
    "duration": 5,
    "start_time": "2022-07-03T16:25:31.477Z"
   },
   {
    "duration": 9,
    "start_time": "2022-07-03T16:25:33.222Z"
   },
   {
    "duration": 6,
    "start_time": "2022-07-03T16:31:12.321Z"
   },
   {
    "duration": 6,
    "start_time": "2022-07-03T16:32:46.548Z"
   },
   {
    "duration": 22,
    "start_time": "2022-07-03T16:33:35.764Z"
   },
   {
    "duration": 5,
    "start_time": "2022-07-03T16:34:21.962Z"
   },
   {
    "duration": 12,
    "start_time": "2022-07-03T16:34:23.435Z"
   },
   {
    "duration": 2548,
    "start_time": "2022-07-03T16:34:53.067Z"
   },
   {
    "duration": 9,
    "start_time": "2022-07-03T16:37:19.043Z"
   },
   {
    "duration": 1341,
    "start_time": "2022-07-03T16:37:25.548Z"
   },
   {
    "duration": 3,
    "start_time": "2022-07-03T16:37:26.891Z"
   },
   {
    "duration": 44,
    "start_time": "2022-07-03T16:37:26.896Z"
   },
   {
    "duration": 12,
    "start_time": "2022-07-03T16:37:26.943Z"
   },
   {
    "duration": 15,
    "start_time": "2022-07-03T16:37:26.956Z"
   },
   {
    "duration": 3,
    "start_time": "2022-07-03T16:37:26.972Z"
   },
   {
    "duration": 10,
    "start_time": "2022-07-03T16:37:26.977Z"
   },
   {
    "duration": 4,
    "start_time": "2022-07-03T16:37:26.989Z"
   },
   {
    "duration": 9,
    "start_time": "2022-07-03T16:37:26.994Z"
   },
   {
    "duration": 11,
    "start_time": "2022-07-03T16:37:27.026Z"
   },
   {
    "duration": 5,
    "start_time": "2022-07-03T16:37:27.038Z"
   },
   {
    "duration": 12,
    "start_time": "2022-07-03T16:37:27.044Z"
   },
   {
    "duration": 9,
    "start_time": "2022-07-03T16:37:27.057Z"
   },
   {
    "duration": 6,
    "start_time": "2022-07-03T16:37:27.067Z"
   },
   {
    "duration": 7,
    "start_time": "2022-07-03T16:37:27.074Z"
   },
   {
    "duration": 7,
    "start_time": "2022-07-03T16:37:27.082Z"
   },
   {
    "duration": 36,
    "start_time": "2022-07-03T16:37:27.090Z"
   },
   {
    "duration": 30,
    "start_time": "2022-07-03T16:37:27.128Z"
   },
   {
    "duration": 18,
    "start_time": "2022-07-03T16:37:27.160Z"
   },
   {
    "duration": 1075,
    "start_time": "2022-07-03T16:37:27.180Z"
   },
   {
    "duration": 6,
    "start_time": "2022-07-03T16:37:28.257Z"
   },
   {
    "duration": 8,
    "start_time": "2022-07-03T16:37:28.265Z"
   },
   {
    "duration": 8,
    "start_time": "2022-07-03T16:37:28.274Z"
   },
   {
    "duration": 5,
    "start_time": "2022-07-03T16:37:28.284Z"
   },
   {
    "duration": 386,
    "start_time": "2022-07-03T16:37:28.290Z"
   },
   {
    "duration": 3,
    "start_time": "2022-07-03T16:37:28.678Z"
   },
   {
    "duration": 11,
    "start_time": "2022-07-03T16:37:28.683Z"
   },
   {
    "duration": 36,
    "start_time": "2022-07-03T16:37:28.698Z"
   },
   {
    "duration": 14,
    "start_time": "2022-07-03T16:37:28.735Z"
   },
   {
    "duration": 13,
    "start_time": "2022-07-03T16:37:28.751Z"
   },
   {
    "duration": 28,
    "start_time": "2022-07-03T16:37:28.768Z"
   },
   {
    "duration": 5,
    "start_time": "2022-07-03T16:37:28.798Z"
   },
   {
    "duration": 7931,
    "start_time": "2022-07-03T16:37:28.805Z"
   },
   {
    "duration": 90,
    "start_time": "2022-07-03T16:37:36.738Z"
   },
   {
    "duration": 4897,
    "start_time": "2022-07-03T16:37:36.830Z"
   },
   {
    "duration": 5,
    "start_time": "2022-07-03T16:37:41.729Z"
   },
   {
    "duration": 19,
    "start_time": "2022-07-03T16:37:41.735Z"
   },
   {
    "duration": 2433,
    "start_time": "2022-07-03T16:37:41.756Z"
   },
   {
    "duration": 3530,
    "start_time": "2022-07-03T16:37:44.191Z"
   },
   {
    "duration": 8,
    "start_time": "2022-07-03T16:37:47.722Z"
   },
   {
    "duration": 10,
    "start_time": "2022-07-03T16:37:47.731Z"
   },
   {
    "duration": 211,
    "start_time": "2022-07-03T16:44:12.250Z"
   },
   {
    "duration": 38275,
    "start_time": "2022-07-03T16:46:27.120Z"
   },
   {
    "duration": 155992,
    "start_time": "2022-07-03T16:47:05.397Z"
   },
   {
    "duration": 200,
    "start_time": "2022-07-03T16:49:41.390Z"
   },
   {
    "duration": 117,
    "start_time": "2022-07-03T17:00:46.270Z"
   },
   {
    "duration": 23450,
    "start_time": "2022-07-03T17:00:53.620Z"
   },
   {
    "duration": 3,
    "start_time": "2022-07-03T17:02:04.855Z"
   },
   {
    "duration": 3107,
    "start_time": "2022-07-03T17:02:29.141Z"
   },
   {
    "duration": 2158,
    "start_time": "2022-07-03T17:02:54.438Z"
   },
   {
    "duration": 8,
    "start_time": "2022-07-03T17:03:55.390Z"
   },
   {
    "duration": 91,
    "start_time": "2022-07-03T17:05:18.900Z"
   },
   {
    "duration": 131,
    "start_time": "2022-07-03T17:34:43.298Z"
   },
   {
    "duration": 12,
    "start_time": "2022-07-03T17:34:50.507Z"
   },
   {
    "duration": 172,
    "start_time": "2022-07-03T17:35:24.938Z"
   },
   {
    "duration": 164,
    "start_time": "2022-07-03T17:41:02.287Z"
   },
   {
    "duration": 1470,
    "start_time": "2022-07-03T17:44:01.543Z"
   },
   {
    "duration": 3,
    "start_time": "2022-07-03T17:44:03.015Z"
   },
   {
    "duration": 63,
    "start_time": "2022-07-03T17:44:03.020Z"
   },
   {
    "duration": 14,
    "start_time": "2022-07-03T17:44:03.085Z"
   },
   {
    "duration": 17,
    "start_time": "2022-07-03T17:44:03.102Z"
   },
   {
    "duration": 7,
    "start_time": "2022-07-03T17:44:03.121Z"
   },
   {
    "duration": 22,
    "start_time": "2022-07-03T17:44:03.132Z"
   },
   {
    "duration": 8,
    "start_time": "2022-07-03T17:44:03.156Z"
   },
   {
    "duration": 11,
    "start_time": "2022-07-03T17:44:03.167Z"
   },
   {
    "duration": 13,
    "start_time": "2022-07-03T17:44:03.180Z"
   },
   {
    "duration": 8,
    "start_time": "2022-07-03T17:44:03.195Z"
   },
   {
    "duration": 16,
    "start_time": "2022-07-03T17:44:03.205Z"
   },
   {
    "duration": 17,
    "start_time": "2022-07-03T17:44:03.223Z"
   },
   {
    "duration": 8,
    "start_time": "2022-07-03T17:44:03.244Z"
   },
   {
    "duration": 10,
    "start_time": "2022-07-03T17:44:03.254Z"
   },
   {
    "duration": 7,
    "start_time": "2022-07-03T17:44:03.266Z"
   },
   {
    "duration": 12,
    "start_time": "2022-07-03T17:44:03.275Z"
   },
   {
    "duration": 48,
    "start_time": "2022-07-03T17:44:03.289Z"
   },
   {
    "duration": 18,
    "start_time": "2022-07-03T17:44:03.339Z"
   },
   {
    "duration": 1117,
    "start_time": "2022-07-03T17:44:03.358Z"
   },
   {
    "duration": 5,
    "start_time": "2022-07-03T17:44:04.477Z"
   },
   {
    "duration": 14,
    "start_time": "2022-07-03T17:44:04.483Z"
   },
   {
    "duration": 9,
    "start_time": "2022-07-03T17:44:04.498Z"
   },
   {
    "duration": 4,
    "start_time": "2022-07-03T17:44:04.509Z"
   },
   {
    "duration": 404,
    "start_time": "2022-07-03T17:44:04.515Z"
   },
   {
    "duration": 4,
    "start_time": "2022-07-03T17:44:04.921Z"
   },
   {
    "duration": 25,
    "start_time": "2022-07-03T17:44:04.928Z"
   },
   {
    "duration": 19,
    "start_time": "2022-07-03T17:44:04.954Z"
   },
   {
    "duration": 10,
    "start_time": "2022-07-03T17:44:04.975Z"
   },
   {
    "duration": 5,
    "start_time": "2022-07-03T17:44:04.987Z"
   },
   {
    "duration": 6,
    "start_time": "2022-07-03T17:44:04.994Z"
   },
   {
    "duration": 14,
    "start_time": "2022-07-03T17:44:05.001Z"
   },
   {
    "duration": 9623,
    "start_time": "2022-07-03T17:44:05.017Z"
   },
   {
    "duration": 12,
    "start_time": "2022-07-03T17:44:14.729Z"
   },
   {
    "duration": 5304,
    "start_time": "2022-07-03T17:44:14.742Z"
   },
   {
    "duration": 5,
    "start_time": "2022-07-03T17:44:20.048Z"
   },
   {
    "duration": 19,
    "start_time": "2022-07-03T17:44:20.055Z"
   },
   {
    "duration": 2622,
    "start_time": "2022-07-03T17:44:20.076Z"
   },
   {
    "duration": 3776,
    "start_time": "2022-07-03T17:44:22.700Z"
   },
   {
    "duration": 15,
    "start_time": "2022-07-03T17:44:26.477Z"
   },
   {
    "duration": 24,
    "start_time": "2022-07-03T17:44:26.497Z"
   },
   {
    "duration": 37490,
    "start_time": "2022-07-03T17:44:26.523Z"
   },
   {
    "duration": 151703,
    "start_time": "2022-07-03T17:45:04.015Z"
   },
   {
    "duration": 22852,
    "start_time": "2022-07-03T17:47:35.719Z"
   },
   {
    "duration": 3,
    "start_time": "2022-07-03T17:47:58.572Z"
   },
   {
    "duration": 2995,
    "start_time": "2022-07-03T17:47:58.576Z"
   },
   {
    "duration": 2148,
    "start_time": "2022-07-03T17:48:01.573Z"
   },
   {
    "duration": 12,
    "start_time": "2022-07-03T17:48:03.728Z"
   },
   {
    "duration": 107,
    "start_time": "2022-07-03T17:48:03.742Z"
   },
   {
    "duration": 16,
    "start_time": "2022-07-03T17:48:03.928Z"
   },
   {
    "duration": 17,
    "start_time": "2022-07-03T17:57:07.821Z"
   },
   {
    "duration": 459,
    "start_time": "2022-07-03T17:57:12.423Z"
   },
   {
    "duration": 350,
    "start_time": "2022-07-03T17:57:24.983Z"
   },
   {
    "duration": 4,
    "start_time": "2022-07-03T17:57:35.186Z"
   },
   {
    "duration": 12,
    "start_time": "2022-07-03T17:57:35.192Z"
   },
   {
    "duration": 45,
    "start_time": "2022-07-03T17:57:35.205Z"
   },
   {
    "duration": 11,
    "start_time": "2022-07-03T17:57:35.252Z"
   },
   {
    "duration": 12,
    "start_time": "2022-07-03T17:57:35.264Z"
   },
   {
    "duration": 7,
    "start_time": "2022-07-03T17:57:35.277Z"
   },
   {
    "duration": 13,
    "start_time": "2022-07-03T17:57:35.285Z"
   },
   {
    "duration": 36,
    "start_time": "2022-07-03T17:57:35.299Z"
   },
   {
    "duration": 5,
    "start_time": "2022-07-03T17:57:35.339Z"
   },
   {
    "duration": 98,
    "start_time": "2022-07-03T17:57:35.345Z"
   },
   {
    "duration": 5,
    "start_time": "2022-07-03T17:57:35.444Z"
   },
   {
    "duration": 15,
    "start_time": "2022-07-03T17:57:35.450Z"
   },
   {
    "duration": 10,
    "start_time": "2022-07-03T17:57:35.467Z"
   },
   {
    "duration": 6,
    "start_time": "2022-07-03T17:57:35.479Z"
   },
   {
    "duration": 10,
    "start_time": "2022-07-03T17:57:35.486Z"
   },
   {
    "duration": 38,
    "start_time": "2022-07-03T17:57:35.498Z"
   },
   {
    "duration": 10,
    "start_time": "2022-07-03T17:57:35.537Z"
   },
   {
    "duration": 29,
    "start_time": "2022-07-03T17:57:35.549Z"
   },
   {
    "duration": 16,
    "start_time": "2022-07-03T17:57:35.580Z"
   },
   {
    "duration": 1041,
    "start_time": "2022-07-03T17:57:35.597Z"
   },
   {
    "duration": 6,
    "start_time": "2022-07-03T17:57:36.640Z"
   },
   {
    "duration": 8,
    "start_time": "2022-07-03T17:57:36.648Z"
   },
   {
    "duration": 17,
    "start_time": "2022-07-03T17:57:36.658Z"
   },
   {
    "duration": 10,
    "start_time": "2022-07-03T17:57:36.687Z"
   },
   {
    "duration": 419,
    "start_time": "2022-07-03T17:57:36.700Z"
   },
   {
    "duration": 18,
    "start_time": "2022-07-03T17:57:37.121Z"
   },
   {
    "duration": 10,
    "start_time": "2022-07-03T17:57:37.141Z"
   },
   {
    "duration": 20,
    "start_time": "2022-07-03T17:57:37.153Z"
   },
   {
    "duration": 12,
    "start_time": "2022-07-03T17:57:37.175Z"
   },
   {
    "duration": 8,
    "start_time": "2022-07-03T17:57:37.189Z"
   },
   {
    "duration": 10,
    "start_time": "2022-07-03T17:57:37.199Z"
   },
   {
    "duration": 5,
    "start_time": "2022-07-03T17:57:37.234Z"
   },
   {
    "duration": 7990,
    "start_time": "2022-07-03T17:57:37.241Z"
   },
   {
    "duration": 14,
    "start_time": "2022-07-03T17:57:45.233Z"
   },
   {
    "duration": 4798,
    "start_time": "2022-07-03T17:57:45.325Z"
   },
   {
    "duration": 1407,
    "start_time": "2022-07-03T17:58:56.835Z"
   },
   {
    "duration": 3,
    "start_time": "2022-07-03T17:58:58.244Z"
   },
   {
    "duration": 46,
    "start_time": "2022-07-03T17:58:58.248Z"
   },
   {
    "duration": 11,
    "start_time": "2022-07-03T17:58:58.296Z"
   },
   {
    "duration": 15,
    "start_time": "2022-07-03T17:58:58.308Z"
   },
   {
    "duration": 9,
    "start_time": "2022-07-03T17:58:58.324Z"
   },
   {
    "duration": 19,
    "start_time": "2022-07-03T17:58:58.335Z"
   },
   {
    "duration": 5,
    "start_time": "2022-07-03T17:58:58.355Z"
   },
   {
    "duration": 7,
    "start_time": "2022-07-03T17:58:58.361Z"
   },
   {
    "duration": 11,
    "start_time": "2022-07-03T17:58:58.370Z"
   },
   {
    "duration": 5,
    "start_time": "2022-07-03T17:58:58.382Z"
   },
   {
    "duration": 14,
    "start_time": "2022-07-03T17:58:58.388Z"
   },
   {
    "duration": 30,
    "start_time": "2022-07-03T17:58:58.403Z"
   },
   {
    "duration": 9,
    "start_time": "2022-07-03T17:58:58.434Z"
   },
   {
    "duration": 8,
    "start_time": "2022-07-03T17:58:58.444Z"
   },
   {
    "duration": 7,
    "start_time": "2022-07-03T17:58:58.453Z"
   },
   {
    "duration": 9,
    "start_time": "2022-07-03T17:58:58.461Z"
   },
   {
    "duration": 29,
    "start_time": "2022-07-03T17:58:58.471Z"
   },
   {
    "duration": 28,
    "start_time": "2022-07-03T17:58:58.525Z"
   },
   {
    "duration": 1117,
    "start_time": "2022-07-03T17:58:58.554Z"
   },
   {
    "duration": 5,
    "start_time": "2022-07-03T17:58:59.672Z"
   },
   {
    "duration": 11,
    "start_time": "2022-07-03T17:58:59.678Z"
   },
   {
    "duration": 8,
    "start_time": "2022-07-03T17:58:59.690Z"
   },
   {
    "duration": 5,
    "start_time": "2022-07-03T17:58:59.700Z"
   },
   {
    "duration": 383,
    "start_time": "2022-07-03T17:58:59.707Z"
   },
   {
    "duration": 3,
    "start_time": "2022-07-03T17:59:00.092Z"
   },
   {
    "duration": 31,
    "start_time": "2022-07-03T17:59:00.098Z"
   },
   {
    "duration": 25,
    "start_time": "2022-07-03T17:59:00.134Z"
   },
   {
    "duration": 12,
    "start_time": "2022-07-03T17:59:00.161Z"
   },
   {
    "duration": 12,
    "start_time": "2022-07-03T17:59:00.175Z"
   },
   {
    "duration": 22,
    "start_time": "2022-07-03T17:59:00.189Z"
   },
   {
    "duration": 10,
    "start_time": "2022-07-03T17:59:00.212Z"
   },
   {
    "duration": 9306,
    "start_time": "2022-07-03T17:59:00.225Z"
   },
   {
    "duration": 10,
    "start_time": "2022-07-03T17:59:09.534Z"
   },
   {
    "duration": 4818,
    "start_time": "2022-07-03T17:59:09.546Z"
   },
   {
    "duration": 5,
    "start_time": "2022-07-03T17:59:14.366Z"
   },
   {
    "duration": 16,
    "start_time": "2022-07-03T17:59:14.373Z"
   },
   {
    "duration": 2512,
    "start_time": "2022-07-03T17:59:14.390Z"
   },
   {
    "duration": 3559,
    "start_time": "2022-07-03T17:59:16.904Z"
   },
   {
    "duration": 7,
    "start_time": "2022-07-03T17:59:20.465Z"
   },
   {
    "duration": 17,
    "start_time": "2022-07-03T17:59:20.473Z"
   },
   {
    "duration": 35873,
    "start_time": "2022-07-03T17:59:20.492Z"
   },
   {
    "duration": 153449,
    "start_time": "2022-07-03T17:59:56.366Z"
   },
   {
    "duration": 22630,
    "start_time": "2022-07-03T18:02:29.817Z"
   },
   {
    "duration": 3,
    "start_time": "2022-07-03T18:02:52.449Z"
   },
   {
    "duration": 2988,
    "start_time": "2022-07-03T18:02:52.453Z"
   },
   {
    "duration": 2147,
    "start_time": "2022-07-03T18:02:55.442Z"
   },
   {
    "duration": 9,
    "start_time": "2022-07-03T18:02:57.590Z"
   },
   {
    "duration": 142,
    "start_time": "2022-07-03T18:02:57.600Z"
   },
   {
    "duration": 91,
    "start_time": "2022-07-03T18:02:57.746Z"
   }
  ],
  "kernelspec": {
   "display_name": "Python 3 (ipykernel)",
   "language": "python",
   "name": "python3"
  },
  "language_info": {
   "codemirror_mode": {
    "name": "ipython",
    "version": 3
   },
   "file_extension": ".py",
   "mimetype": "text/x-python",
   "name": "python",
   "nbconvert_exporter": "python",
   "pygments_lexer": "ipython3",
   "version": "3.9.7"
  },
  "toc": {
   "base_numbering": 1,
   "nav_menu": {},
   "number_sections": true,
   "sideBar": true,
   "skip_h1_title": true,
   "title_cell": "Содержание",
   "title_sidebar": "Contents",
   "toc_cell": true,
   "toc_position": {},
   "toc_section_display": true,
   "toc_window_display": false
  }
 },
 "nbformat": 4,
 "nbformat_minor": 2
}
