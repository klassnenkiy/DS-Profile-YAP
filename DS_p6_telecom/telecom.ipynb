{
 "cells": [
  {
   "cell_type": "markdown",
   "metadata": {},
   "source": [
    "# Рекомендация тарифов"
   ]
  },
  {
   "cell_type": "markdown",
   "metadata": {},
   "source": [
    "В вашем распоряжении данные о поведении клиентов, которые уже перешли на эти тарифы (из проекта курса «Статистический анализ данных»). Нужно построить модель для задачи классификации, которая выберет подходящий тариф. Предобработка данных не понадобится — вы её уже сделали.\n",
    "\n",
    "Постройте модель с максимально большим значением *accuracy*. Чтобы сдать проект успешно, нужно довести долю правильных ответов по крайней мере до 0.75. Проверьте *accuracy* на тестовой выборке самостоятельно."
   ]
  },
  {
   "cell_type": "markdown",
   "metadata": {},
   "source": [
    "## Откройте и изучите файл"
   ]
  },
  {
   "cell_type": "code",
   "execution_count": 1,
   "metadata": {},
   "outputs": [],
   "source": [
    "import pandas as pd\n",
    "import numpy as np\n",
    "from sklearn.model_selection import train_test_split\n",
    "from sklearn.tree import DecisionTreeClassifier\n",
    "from sklearn.ensemble import RandomForestClassifier\n",
    "from sklearn.linear_model import LogisticRegression\n",
    "from sklearn.metrics import accuracy_score"
   ]
  },
  {
   "cell_type": "code",
   "execution_count": 2,
   "metadata": {},
   "outputs": [],
   "source": [
    "df = pd.read_csv('/datasets/users_behavior.csv')"
   ]
  },
  {
   "cell_type": "code",
   "execution_count": 3,
   "metadata": {},
   "outputs": [
    {
     "data": {
      "text/html": [
       "<div>\n",
       "<style scoped>\n",
       "    .dataframe tbody tr th:only-of-type {\n",
       "        vertical-align: middle;\n",
       "    }\n",
       "\n",
       "    .dataframe tbody tr th {\n",
       "        vertical-align: top;\n",
       "    }\n",
       "\n",
       "    .dataframe thead th {\n",
       "        text-align: right;\n",
       "    }\n",
       "</style>\n",
       "<table border=\"1\" class=\"dataframe\">\n",
       "  <thead>\n",
       "    <tr style=\"text-align: right;\">\n",
       "      <th></th>\n",
       "      <th>calls</th>\n",
       "      <th>minutes</th>\n",
       "      <th>messages</th>\n",
       "      <th>mb_used</th>\n",
       "      <th>is_ultra</th>\n",
       "    </tr>\n",
       "  </thead>\n",
       "  <tbody>\n",
       "    <tr>\n",
       "      <th>0</th>\n",
       "      <td>40.0</td>\n",
       "      <td>311.90</td>\n",
       "      <td>83.0</td>\n",
       "      <td>19915.42</td>\n",
       "      <td>0</td>\n",
       "    </tr>\n",
       "    <tr>\n",
       "      <th>1</th>\n",
       "      <td>85.0</td>\n",
       "      <td>516.75</td>\n",
       "      <td>56.0</td>\n",
       "      <td>22696.96</td>\n",
       "      <td>0</td>\n",
       "    </tr>\n",
       "    <tr>\n",
       "      <th>2</th>\n",
       "      <td>77.0</td>\n",
       "      <td>467.66</td>\n",
       "      <td>86.0</td>\n",
       "      <td>21060.45</td>\n",
       "      <td>0</td>\n",
       "    </tr>\n",
       "    <tr>\n",
       "      <th>3</th>\n",
       "      <td>106.0</td>\n",
       "      <td>745.53</td>\n",
       "      <td>81.0</td>\n",
       "      <td>8437.39</td>\n",
       "      <td>1</td>\n",
       "    </tr>\n",
       "    <tr>\n",
       "      <th>4</th>\n",
       "      <td>66.0</td>\n",
       "      <td>418.74</td>\n",
       "      <td>1.0</td>\n",
       "      <td>14502.75</td>\n",
       "      <td>0</td>\n",
       "    </tr>\n",
       "  </tbody>\n",
       "</table>\n",
       "</div>"
      ],
      "text/plain": [
       "   calls  minutes  messages   mb_used  is_ultra\n",
       "0   40.0   311.90      83.0  19915.42         0\n",
       "1   85.0   516.75      56.0  22696.96         0\n",
       "2   77.0   467.66      86.0  21060.45         0\n",
       "3  106.0   745.53      81.0   8437.39         1\n",
       "4   66.0   418.74       1.0  14502.75         0"
      ]
     },
     "execution_count": 3,
     "metadata": {},
     "output_type": "execute_result"
    }
   ],
   "source": [
    "df.head()"
   ]
  },
  {
   "cell_type": "code",
   "execution_count": 4,
   "metadata": {
    "scrolled": true
   },
   "outputs": [
    {
     "name": "stdout",
     "output_type": "stream",
     "text": [
      "<class 'pandas.core.frame.DataFrame'>\n",
      "RangeIndex: 3214 entries, 0 to 3213\n",
      "Data columns (total 5 columns):\n",
      " #   Column    Non-Null Count  Dtype  \n",
      "---  ------    --------------  -----  \n",
      " 0   calls     3214 non-null   float64\n",
      " 1   minutes   3214 non-null   float64\n",
      " 2   messages  3214 non-null   float64\n",
      " 3   mb_used   3214 non-null   float64\n",
      " 4   is_ultra  3214 non-null   int64  \n",
      "dtypes: float64(4), int64(1)\n",
      "memory usage: 125.7 KB\n"
     ]
    }
   ],
   "source": [
    "df.info()"
   ]
  },
  {
   "cell_type": "markdown",
   "metadata": {},
   "source": [
    "Изменим тип поля calls и messages на int, потому что дробных звонков и сообщений быть не может"
   ]
  },
  {
   "cell_type": "code",
   "execution_count": 5,
   "metadata": {
    "scrolled": true
   },
   "outputs": [
    {
     "name": "stdout",
     "output_type": "stream",
     "text": [
      "<class 'pandas.core.frame.DataFrame'>\n",
      "RangeIndex: 3214 entries, 0 to 3213\n",
      "Data columns (total 5 columns):\n",
      " #   Column    Non-Null Count  Dtype  \n",
      "---  ------    --------------  -----  \n",
      " 0   calls     3214 non-null   int64  \n",
      " 1   minutes   3214 non-null   float64\n",
      " 2   messages  3214 non-null   int64  \n",
      " 3   mb_used   3214 non-null   float64\n",
      " 4   is_ultra  3214 non-null   int64  \n",
      "dtypes: float64(2), int64(3)\n",
      "memory usage: 125.7 KB\n"
     ]
    }
   ],
   "source": [
    "df.calls = df.calls.astype('int64')\n",
    "df.messages = df.messages.astype('int64')\n",
    "df.info()"
   ]
  },
  {
   "cell_type": "code",
   "execution_count": 6,
   "metadata": {
    "scrolled": true
   },
   "outputs": [
    {
     "data": {
      "text/html": [
       "<div>\n",
       "<style scoped>\n",
       "    .dataframe tbody tr th:only-of-type {\n",
       "        vertical-align: middle;\n",
       "    }\n",
       "\n",
       "    .dataframe tbody tr th {\n",
       "        vertical-align: top;\n",
       "    }\n",
       "\n",
       "    .dataframe thead th {\n",
       "        text-align: right;\n",
       "    }\n",
       "</style>\n",
       "<table border=\"1\" class=\"dataframe\">\n",
       "  <thead>\n",
       "    <tr style=\"text-align: right;\">\n",
       "      <th></th>\n",
       "      <th>calls</th>\n",
       "      <th>minutes</th>\n",
       "      <th>messages</th>\n",
       "      <th>mb_used</th>\n",
       "      <th>is_ultra</th>\n",
       "    </tr>\n",
       "  </thead>\n",
       "  <tbody>\n",
       "    <tr>\n",
       "      <th>count</th>\n",
       "      <td>3214.000000</td>\n",
       "      <td>3214.000000</td>\n",
       "      <td>3214.000000</td>\n",
       "      <td>3214.000000</td>\n",
       "      <td>3214.000000</td>\n",
       "    </tr>\n",
       "    <tr>\n",
       "      <th>mean</th>\n",
       "      <td>63.038892</td>\n",
       "      <td>438.208787</td>\n",
       "      <td>38.281269</td>\n",
       "      <td>17207.673836</td>\n",
       "      <td>0.306472</td>\n",
       "    </tr>\n",
       "    <tr>\n",
       "      <th>std</th>\n",
       "      <td>33.236368</td>\n",
       "      <td>234.569872</td>\n",
       "      <td>36.148326</td>\n",
       "      <td>7570.968246</td>\n",
       "      <td>0.461100</td>\n",
       "    </tr>\n",
       "    <tr>\n",
       "      <th>min</th>\n",
       "      <td>0.000000</td>\n",
       "      <td>0.000000</td>\n",
       "      <td>0.000000</td>\n",
       "      <td>0.000000</td>\n",
       "      <td>0.000000</td>\n",
       "    </tr>\n",
       "    <tr>\n",
       "      <th>25%</th>\n",
       "      <td>40.000000</td>\n",
       "      <td>274.575000</td>\n",
       "      <td>9.000000</td>\n",
       "      <td>12491.902500</td>\n",
       "      <td>0.000000</td>\n",
       "    </tr>\n",
       "    <tr>\n",
       "      <th>50%</th>\n",
       "      <td>62.000000</td>\n",
       "      <td>430.600000</td>\n",
       "      <td>30.000000</td>\n",
       "      <td>16943.235000</td>\n",
       "      <td>0.000000</td>\n",
       "    </tr>\n",
       "    <tr>\n",
       "      <th>75%</th>\n",
       "      <td>82.000000</td>\n",
       "      <td>571.927500</td>\n",
       "      <td>57.000000</td>\n",
       "      <td>21424.700000</td>\n",
       "      <td>1.000000</td>\n",
       "    </tr>\n",
       "    <tr>\n",
       "      <th>max</th>\n",
       "      <td>244.000000</td>\n",
       "      <td>1632.060000</td>\n",
       "      <td>224.000000</td>\n",
       "      <td>49745.730000</td>\n",
       "      <td>1.000000</td>\n",
       "    </tr>\n",
       "  </tbody>\n",
       "</table>\n",
       "</div>"
      ],
      "text/plain": [
       "             calls      minutes     messages       mb_used     is_ultra\n",
       "count  3214.000000  3214.000000  3214.000000   3214.000000  3214.000000\n",
       "mean     63.038892   438.208787    38.281269  17207.673836     0.306472\n",
       "std      33.236368   234.569872    36.148326   7570.968246     0.461100\n",
       "min       0.000000     0.000000     0.000000      0.000000     0.000000\n",
       "25%      40.000000   274.575000     9.000000  12491.902500     0.000000\n",
       "50%      62.000000   430.600000    30.000000  16943.235000     0.000000\n",
       "75%      82.000000   571.927500    57.000000  21424.700000     1.000000\n",
       "max     244.000000  1632.060000   224.000000  49745.730000     1.000000"
      ]
     },
     "execution_count": 6,
     "metadata": {},
     "output_type": "execute_result"
    }
   ],
   "source": [
    "df.describe()"
   ]
  },
  {
   "cell_type": "code",
   "execution_count": 7,
   "metadata": {
    "scrolled": true
   },
   "outputs": [
    {
     "data": {
      "text/plain": [
       "0"
      ]
     },
     "execution_count": 7,
     "metadata": {},
     "output_type": "execute_result"
    }
   ],
   "source": [
    "df.duplicated().sum()"
   ]
  },
  {
   "cell_type": "code",
   "execution_count": 8,
   "metadata": {
    "scrolled": true
   },
   "outputs": [
    {
     "data": {
      "text/plain": [
       "Index(['calls', 'minutes', 'messages', 'mb_used', 'is_ultra'], dtype='object')"
      ]
     },
     "execution_count": 8,
     "metadata": {},
     "output_type": "execute_result"
    }
   ],
   "source": [
    "df.columns"
   ]
  },
  {
   "cell_type": "markdown",
   "metadata": {},
   "source": [
    "Датасет имеет 5 столбцов и 3214 строк. Пропусков нет! Столбцы:\n",
    "\n",
    "- сalls — количество звонков,\n",
    "- minutes — суммарная длительность звонков в минутах,\n",
    "- messages — количество sms-сообщений,\n",
    "- mb_used — израсходованный интернет-трафик в Мб,\n",
    "- is_ultra — каким тарифом пользовался в течение месяца («Ультра» — 1, «Смарт» — 0).\n",
    "\n",
    "Типы данных соответствуют."
   ]
  },
  {
   "cell_type": "markdown",
   "metadata": {},
   "source": [
    "## Разбейте данные на выборки"
   ]
  },
  {
   "cell_type": "code",
   "execution_count": 9,
   "metadata": {},
   "outputs": [
    {
     "data": {
      "text/plain": [
       "0    0.693528\n",
       "1    0.306472\n",
       "Name: is_ultra, dtype: float64"
      ]
     },
     "execution_count": 9,
     "metadata": {},
     "output_type": "execute_result"
    }
   ],
   "source": [
    "df.is_ultra.value_counts(normalize=True)"
   ]
  },
  {
   "cell_type": "markdown",
   "metadata": {},
   "source": [
    "Разобьём данные на обучающую, тестовую, валидационную выборки в соотношении 3:1:1."
   ]
  },
  {
   "cell_type": "code",
   "execution_count": 10,
   "metadata": {},
   "outputs": [
    {
     "name": "stdout",
     "output_type": "stream",
     "text": [
      "Размер обучающей выборки (2410, 5)\n",
      "Размер тестовой выборки (402, 5)\n",
      "Размер валидационной выборки (402, 5)\n"
     ]
    }
   ],
   "source": [
    "df_train, df_other = train_test_split(df, test_size=.25, random_state=12345)\n",
    "df_test, df_valid = train_test_split(df_other, test_size=.5, random_state=12345)\n",
    "print('Размер обучающей выборки', df_train.shape) # 75% \n",
    "print('Размер тестовой выборки', df_test.shape) # 12.5% \n",
    "print('Размер валидационной выборки', df_valid.shape) #12.5 "
   ]
  },
  {
   "cell_type": "code",
   "execution_count": 11,
   "metadata": {},
   "outputs": [
    {
     "data": {
      "text/html": [
       "<div>\n",
       "<style scoped>\n",
       "    .dataframe tbody tr th:only-of-type {\n",
       "        vertical-align: middle;\n",
       "    }\n",
       "\n",
       "    .dataframe tbody tr th {\n",
       "        vertical-align: top;\n",
       "    }\n",
       "\n",
       "    .dataframe thead th {\n",
       "        text-align: right;\n",
       "    }\n",
       "</style>\n",
       "<table border=\"1\" class=\"dataframe\">\n",
       "  <thead>\n",
       "    <tr style=\"text-align: right;\">\n",
       "      <th></th>\n",
       "      <th>calls</th>\n",
       "      <th>minutes</th>\n",
       "      <th>messages</th>\n",
       "      <th>mb_used</th>\n",
       "    </tr>\n",
       "  </thead>\n",
       "  <tbody>\n",
       "    <tr>\n",
       "      <th>101</th>\n",
       "      <td>107</td>\n",
       "      <td>804.97</td>\n",
       "      <td>66</td>\n",
       "      <td>17935.91</td>\n",
       "    </tr>\n",
       "    <tr>\n",
       "      <th>1915</th>\n",
       "      <td>69</td>\n",
       "      <td>429.68</td>\n",
       "      <td>28</td>\n",
       "      <td>17314.66</td>\n",
       "    </tr>\n",
       "    <tr>\n",
       "      <th>88</th>\n",
       "      <td>48</td>\n",
       "      <td>331.33</td>\n",
       "      <td>0</td>\n",
       "      <td>8000.36</td>\n",
       "    </tr>\n",
       "    <tr>\n",
       "      <th>1348</th>\n",
       "      <td>69</td>\n",
       "      <td>528.67</td>\n",
       "      <td>47</td>\n",
       "      <td>22323.98</td>\n",
       "    </tr>\n",
       "    <tr>\n",
       "      <th>2264</th>\n",
       "      <td>51</td>\n",
       "      <td>310.77</td>\n",
       "      <td>22</td>\n",
       "      <td>24936.54</td>\n",
       "    </tr>\n",
       "  </tbody>\n",
       "</table>\n",
       "</div>"
      ],
      "text/plain": [
       "      calls  minutes  messages   mb_used\n",
       "101     107   804.97        66  17935.91\n",
       "1915     69   429.68        28  17314.66\n",
       "88       48   331.33         0   8000.36\n",
       "1348     69   528.67        47  22323.98\n",
       "2264     51   310.77        22  24936.54"
      ]
     },
     "execution_count": 11,
     "metadata": {},
     "output_type": "execute_result"
    }
   ],
   "source": [
    "#для обучающей выборки\n",
    "features_train = df_train.drop('is_ultra', axis=1)\n",
    "target_train = df_train['is_ultra']\n",
    "#для тестовой выборки\n",
    "features_test = df_test.drop('is_ultra', axis=1)\n",
    "target_test = df_test['is_ultra']\n",
    "#для валидационной выборки\n",
    "features_valid = df_valid.drop('is_ultra', axis=1)\n",
    "target_valid = df_valid['is_ultra']\n",
    "\n",
    "#предпросмотр\n",
    "features_train.head()"
   ]
  },
  {
   "cell_type": "markdown",
   "metadata": {},
   "source": [
    "После того как мы разбили наши данные на соотношение 3:1:1(3 - обучающая выборка, 1 - тестовая выборка, 1 - валидационная выборка), а так же разбили на признаки и целевые признаки, то перейдём к выбору модели и исследования качества выбранной модели."
   ]
  },
  {
   "cell_type": "markdown",
   "metadata": {},
   "source": [
    "## Исследуйте модели"
   ]
  },
  {
   "cell_type": "markdown",
   "metadata": {},
   "source": [
    "Используем три основные модели: дерево решений, случайный лес и логистическую регрессию."
   ]
  },
  {
   "cell_type": "markdown",
   "metadata": {},
   "source": [
    "### Дерево решений"
   ]
  },
  {
   "cell_type": "code",
   "execution_count": 12,
   "metadata": {
    "scrolled": true
   },
   "outputs": [
    {
     "name": "stdout",
     "output_type": "stream",
     "text": [
      "max_depth: 1 accuracy: 0.736318407960199\n",
      "max_depth: 3 accuracy: 0.7786069651741293\n",
      "max_depth: 5 accuracy: 0.763681592039801\n",
      "max_depth: 7 accuracy: 0.7835820895522388\n",
      "max_depth: 9 accuracy: 0.7960199004975125\n",
      "max_depth: 11 accuracy: 0.8009950248756219\n",
      "max_depth: 13 accuracy: 0.7711442786069652\n",
      "max_depth: 15 accuracy: 0.7562189054726368\n",
      "max_depth: 17 accuracy: 0.753731343283582\n",
      "max_depth: 19 accuracy: 0.7213930348258707\n",
      "max_depth: 21 accuracy: 0.7338308457711443\n",
      "max_depth: 23 accuracy: 0.7189054726368159\n",
      "max_depth: 25 accuracy: 0.7164179104477612\n",
      "max_depth: 27 accuracy: 0.6965174129353234\n",
      "max_depth: 29 accuracy: 0.6965174129353234\n"
     ]
    }
   ],
   "source": [
    "for depth in range(1,30,2):\n",
    "    model_tree = DecisionTreeClassifier(random_state=1234, max_depth=depth)  \n",
    "    model_tree.fit(features_train,target_train)  \n",
    "    prediction_tree = model_tree.predict(features_valid) \n",
    "    print('max_depth:',depth, end='')\n",
    "    print(' accuracy:', accuracy_score(prediction_tree,target_valid))"
   ]
  },
  {
   "cell_type": "markdown",
   "metadata": {},
   "source": [
    "При max_depth = 11 (лучшие значения гиперпараметров), качество модели \"дерево предсказания\" = 0.8009"
   ]
  },
  {
   "cell_type": "markdown",
   "metadata": {},
   "source": [
    "### Случайный лес"
   ]
  },
  {
   "cell_type": "code",
   "execution_count": 13,
   "metadata": {},
   "outputs": [
    {
     "name": "stdout",
     "output_type": "stream",
     "text": [
      "n_estimators: 1 accuracy: 0.7810945273631841\n",
      "n_estimators: 3 accuracy: 0.7935323383084577\n",
      "n_estimators: 5 accuracy: 0.7860696517412935\n",
      "n_estimators: 7 accuracy: 0.7935323383084577\n",
      "n_estimators: 9 accuracy: 0.7960199004975125\n",
      "n_estimators: 11 accuracy: 0.7960199004975125\n",
      "n_estimators: 13 accuracy: 0.8034825870646766\n",
      "n_estimators: 15 accuracy: 0.8009950248756219\n",
      "n_estimators: 17 accuracy: 0.8009950248756219\n",
      "n_estimators: 19 accuracy: 0.8034825870646766\n",
      "n_estimators: 21 accuracy: 0.8059701492537313\n",
      "n_estimators: 23 accuracy: 0.8059701492537313\n",
      "n_estimators: 25 accuracy: 0.8059701492537313\n",
      "n_estimators: 27 accuracy: 0.8109452736318408\n",
      "n_estimators: 29 accuracy: 0.8059701492537313\n",
      "n_estimators: 31 accuracy: 0.8059701492537313\n",
      "n_estimators: 33 accuracy: 0.8059701492537313\n",
      "n_estimators: 35 accuracy: 0.8084577114427861\n",
      "n_estimators: 37 accuracy: 0.8109452736318408\n",
      "n_estimators: 39 accuracy: 0.8109452736318408\n",
      "n_estimators: 41 accuracy: 0.8109452736318408\n",
      "n_estimators: 43 accuracy: 0.8134328358208955\n",
      "n_estimators: 45 accuracy: 0.8059701492537313\n",
      "n_estimators: 47 accuracy: 0.8059701492537313\n",
      "n_estimators: 49 accuracy: 0.8059701492537313\n"
     ]
    }
   ],
   "source": [
    "for estim in range(1,50,2):    \n",
    "    model_forest = RandomForestClassifier(max_depth=10, n_estimators=estim, random_state=1234, min_samples_leaf=5)\n",
    "    model_forest.fit(features_train,target_train) \n",
    "    prediction_forest = model_forest.predict(features_valid)\n",
    "    print('n_estimators:', estim, end=\"\")\n",
    "    print(' accuracy:', accuracy_score(prediction_forest, target_valid))"
   ]
  },
  {
   "cell_type": "markdown",
   "metadata": {},
   "source": [
    "При max_depth= 10, max_samples_leaf=5 и n_estimators= 43 (лучшее значение), качество модели \"случайный лес\" = 0.8134"
   ]
  },
  {
   "cell_type": "markdown",
   "metadata": {},
   "source": [
    "### Логистическая регрессия"
   ]
  },
  {
   "cell_type": "code",
   "execution_count": 14,
   "metadata": {},
   "outputs": [
    {
     "name": "stdout",
     "output_type": "stream",
     "text": [
      "accuracy: 0.7039800995024875\n"
     ]
    }
   ],
   "source": [
    "model_lp = LogisticRegression()  \n",
    "model_lp.fit(features_train, target_train)  \n",
    "predict_lp = model_lp.predict(features_valid)  \n",
    "print('accuracy:', accuracy_score(predict_lp, target_valid))"
   ]
  },
  {
   "cell_type": "markdown",
   "metadata": {},
   "source": [
    "качество модели Логистическая регрессия хуже всего = 0.7039"
   ]
  },
  {
   "cell_type": "markdown",
   "metadata": {},
   "source": [
    "Лучшей моделью по метрике accuracy оказалась модель Случайный лес"
   ]
  },
  {
   "cell_type": "markdown",
   "metadata": {},
   "source": [
    "## Проверьте модель на тестовой выборке"
   ]
  },
  {
   "cell_type": "markdown",
   "metadata": {},
   "source": [
    "### Тест модели \"Дерево предсказаний\""
   ]
  },
  {
   "cell_type": "code",
   "execution_count": 15,
   "metadata": {},
   "outputs": [
    {
     "name": "stdout",
     "output_type": "stream",
     "text": [
      "Дерево - 0.7064676616915423\n",
      "Случайный лес - 0.8034825870646766\n",
      "ЛогРегр - 0.7039800995024875\n"
     ]
    },
    {
     "data": {
      "image/png": "[encoded data removed]",
      "text/plain": [
       "<Figure size 432x288 with 1 Axes>"
      ]
     },
     "metadata": {
      "needs_background": "light"
     },
     "output_type": "display_data"
    }
   ],
   "source": [
    "model_forest = RandomForestClassifier(random_state=12345,\\\n",
    "                                      criterion='gini',\\\n",
    "                                      n_estimators=15,\\\n",
    "                                      max_depth=10,\\\n",
    "                                      max_features = 'auto'\\\n",
    "                                     )\n",
    "\n",
    "model_forest.fit(features_train, target_train)\n",
    "predictions = model_forest.predict(features_test)\n",
    "model_tree.score(features_test, target_test)\n",
    "model_forest.score(features_test, target_test)\n",
    "model_lp.score(features_test, target_test)\n",
    "pd.DataFrame({'Дерево': [model_tree.score(features_test, target_test)],\\\n",
    "              'Случайный Лес': [model_forest.score(features_test, target_test)],\\\n",
    "              'ЛогРегр': [model_lp.score(features_test, target_test)],\\\n",
    "              'Порог 0.75' :[0.75]\n",
    "             }, index=['accuracy']).plot.bar(ylim=(.65,.82));\n",
    "print(f'Дерево - {model_tree.score(features_test, target_test)}')\n",
    "print(f'Случайный лес - {model_forest.score(features_test, target_test)}')\n",
    "print(f'ЛогРегр - {model_lp.score(features_test, target_test)}')"
   ]
  },
  {
   "cell_type": "markdown",
   "metadata": {},
   "source": [
    "Как и предполагалось, модель на основе Случайного леса дает лучший результат - 0.8034, что выше порогового значения на  5%.  "
   ]
  },
  {
   "cell_type": "markdown",
   "metadata": {},
   "source": [
    "## (бонус) Проверьте модели на адекватность"
   ]
  },
  {
   "cell_type": "markdown",
   "metadata": {},
   "source": [
    "Проверим, даст ли случайное заполнение результат выше чем при модели Случайного леса."
   ]
  },
  {
   "cell_type": "code",
   "execution_count": 16,
   "metadata": {},
   "outputs": [
    {
     "data": {
      "text/plain": [
       "-0.4999825870646766"
      ]
     },
     "execution_count": 16,
     "metadata": {},
     "output_type": "execute_result"
    }
   ],
   "source": [
    "predictions = pd.Series(1, index=target_test.index)\n",
    "accuracy = round(accuracy_score(target_test, predictions), 4)\n",
    "accuracy - model_forest.score(features_test, target_test)"
   ]
  },
  {
   "cell_type": "code",
   "execution_count": 17,
   "metadata": {},
   "outputs": [
    {
     "data": {
      "text/plain": [
       "-0.10698258706467656"
      ]
     },
     "execution_count": 17,
     "metadata": {},
     "output_type": "execute_result"
    }
   ],
   "source": [
    "predictions = pd.Series(0, index=target_test.index)\n",
    "accuracy = round(accuracy_score(target_test, predictions), 4)\n",
    "accuracy - model_forest.score(features_test, target_test)"
   ]
  },
  {
   "cell_type": "code",
   "execution_count": 18,
   "metadata": {},
   "outputs": [
    {
     "data": {
      "text/plain": [
       "-0.2959825870646766"
      ]
     },
     "execution_count": 18,
     "metadata": {},
     "output_type": "execute_result"
    }
   ],
   "source": [
    "predictions = pd.Series(1, index=target_test.index)\n",
    "predictions[202:]=0\n",
    "accuracy = round(accuracy_score(target_test, predictions), 4)\n",
    "accuracy - model_forest.score(features_test, target_test)"
   ]
  },
  {
   "cell_type": "markdown",
   "metadata": {},
   "source": [
    "Тест на адекватность пройден, т.к. сравнение было было с случайным заполнением все перешли ну тариф ultra, затем на smart, затем на 50/50 и модельное заполнение лучше заполняет по сравнению со случайным."
   ]
  },
  {
   "cell_type": "markdown",
   "metadata": {},
   "source": [
    "## Чек-лист готовности проекта"
   ]
  },
  {
   "cell_type": "markdown",
   "metadata": {},
   "source": [
    "Поставьте 'x' в выполненных пунктах. Далее нажмите Shift+Enter."
   ]
  },
  {
   "cell_type": "markdown",
   "metadata": {},
   "source": [
    "- [x] Jupyter Notebook открыт\n",
    "- [x] Весь код исполняется без ошибок\n",
    "- [x] Ячейки с кодом расположены в порядке исполнения\n",
    "- [x] Выполнено задание 1: данные загружены и изучены\n",
    "- [x] Выполнено задание 2: данные разбиты на три выборки\n",
    "- [x] Выполнено задание 3: проведено исследование моделей\n",
    "    - [x] Рассмотрено больше одной модели\n",
    "    - [x] Рассмотрено хотя бы 3 значения гипепараметров для какой-нибудь модели\n",
    "    - [x] Написаны выводы по результатам исследования\n",
    "- [x] Выполнено задание 3: Проведено тестирование\n",
    "- [x] Удалось достичь accuracy не меньше 0.75\n"
   ]
  },
  {
   "cell_type": "markdown",
   "metadata": {},
   "source": [
    "Для классификации пользователей по тарифам и предложения им перехода на тот или иной тариф - лучше всего применять модель Случайный лес. Также относительно неплохо показывает себя модель Дерево принятия решений. Логистическая регрессия показала себя недостаточно хорошо, применять для данной задлачи их не стоит. "
   ]
  }
 ],
 "metadata": {
  "ExecuteTimeLog": [
   {
    "duration": 912,
    "start_time": "2022-06-20T09:24:46.146Z"
   },
   {
    "duration": 62,
    "start_time": "2022-06-20T09:25:06.385Z"
   },
   {
    "duration": 16,
    "start_time": "2022-06-20T09:25:33.873Z"
   },
   {
    "duration": 8,
    "start_time": "2022-06-20T09:26:04.131Z"
   },
   {
    "duration": 9,
    "start_time": "2022-06-20T09:26:07.148Z"
   },
   {
    "duration": 20,
    "start_time": "2022-06-20T09:26:33.337Z"
   },
   {
    "duration": 12,
    "start_time": "2022-06-20T09:34:04.815Z"
   },
   {
    "duration": 10,
    "start_time": "2022-06-20T09:35:11.431Z"
   },
   {
    "duration": 29,
    "start_time": "2022-06-20T09:35:23.766Z"
   },
   {
    "duration": 6,
    "start_time": "2022-06-20T09:36:44.026Z"
   },
   {
    "duration": 4,
    "start_time": "2022-06-20T09:37:00.576Z"
   },
   {
    "duration": 6,
    "start_time": "2022-06-20T09:41:16.535Z"
   },
   {
    "duration": 7,
    "start_time": "2022-06-20T09:43:27.726Z"
   },
   {
    "duration": 8,
    "start_time": "2022-06-20T09:44:39.233Z"
   },
   {
    "duration": 11,
    "start_time": "2022-06-20T09:45:22.604Z"
   },
   {
    "duration": 11,
    "start_time": "2022-06-20T09:46:07.772Z"
   },
   {
    "duration": 10,
    "start_time": "2022-06-20T09:46:22.541Z"
   },
   {
    "duration": 2,
    "start_time": "2022-06-20T10:51:05.689Z"
   },
   {
    "duration": 658,
    "start_time": "2022-06-20T11:00:05.552Z"
   },
   {
    "duration": 150,
    "start_time": "2022-06-20T11:02:41.025Z"
   },
   {
    "duration": 1998,
    "start_time": "2022-06-20T11:05:19.705Z"
   },
   {
    "duration": 2,
    "start_time": "2022-06-20T11:07:32.122Z"
   },
   {
    "duration": 9,
    "start_time": "2022-06-20T11:39:00.962Z"
   },
   {
    "duration": 3,
    "start_time": "2022-06-20T11:39:20.556Z"
   },
   {
    "duration": 4,
    "start_time": "2022-06-20T11:39:23.292Z"
   },
   {
    "duration": 41,
    "start_time": "2022-06-20T11:39:39.427Z"
   },
   {
    "duration": 1531,
    "start_time": "2022-06-20T11:40:19.210Z"
   },
   {
    "duration": 27,
    "start_time": "2022-06-20T11:40:22.344Z"
   },
   {
    "duration": 1062,
    "start_time": "2022-06-20T11:40:37.406Z"
   },
   {
    "duration": 27,
    "start_time": "2022-06-20T11:40:38.470Z"
   },
   {
    "duration": 15,
    "start_time": "2022-06-20T11:40:38.498Z"
   },
   {
    "duration": 11,
    "start_time": "2022-06-20T11:40:38.514Z"
   },
   {
    "duration": 10,
    "start_time": "2022-06-20T11:40:38.527Z"
   },
   {
    "duration": 19,
    "start_time": "2022-06-20T11:40:38.538Z"
   },
   {
    "duration": 5,
    "start_time": "2022-06-20T11:40:38.558Z"
   },
   {
    "duration": 32,
    "start_time": "2022-06-20T11:40:38.564Z"
   },
   {
    "duration": 8,
    "start_time": "2022-06-20T11:40:38.597Z"
   },
   {
    "duration": 6,
    "start_time": "2022-06-20T11:40:38.606Z"
   },
   {
    "duration": 13,
    "start_time": "2022-06-20T11:40:38.614Z"
   },
   {
    "duration": 174,
    "start_time": "2022-06-20T11:40:38.628Z"
   },
   {
    "duration": 2022,
    "start_time": "2022-06-20T11:40:38.803Z"
   },
   {
    "duration": 169,
    "start_time": "2022-06-20T11:40:40.828Z"
   },
   {
    "duration": 114,
    "start_time": "2022-06-20T11:43:10.599Z"
   },
   {
    "duration": 72,
    "start_time": "2022-06-20T11:43:42.600Z"
   },
   {
    "duration": 13,
    "start_time": "2022-06-20T11:46:05.098Z"
   },
   {
    "duration": 31,
    "start_time": "2022-06-20T11:47:31.677Z"
   },
   {
    "duration": 27,
    "start_time": "2022-06-20T11:47:33.368Z"
   },
   {
    "duration": 117,
    "start_time": "2022-06-20T11:48:02.554Z"
   },
   {
    "duration": 568,
    "start_time": "2022-06-20T11:49:05.096Z"
   },
   {
    "duration": 184,
    "start_time": "2022-06-20T11:49:24.438Z"
   },
   {
    "duration": 184,
    "start_time": "2022-06-20T11:49:34.142Z"
   },
   {
    "duration": 181,
    "start_time": "2022-06-20T11:50:20.736Z"
   },
   {
    "duration": 191,
    "start_time": "2022-06-20T11:52:54.821Z"
   },
   {
    "duration": 257,
    "start_time": "2022-06-20T11:53:08.520Z"
   },
   {
    "duration": 204,
    "start_time": "2022-06-20T11:53:52.344Z"
   },
   {
    "duration": 208,
    "start_time": "2022-06-20T11:54:25.807Z"
   },
   {
    "duration": 199,
    "start_time": "2022-06-20T11:54:31.707Z"
   },
   {
    "duration": 82,
    "start_time": "2022-06-20T11:54:54.224Z"
   },
   {
    "duration": 266,
    "start_time": "2022-06-20T11:55:01.433Z"
   },
   {
    "duration": 192,
    "start_time": "2022-06-20T12:10:32.542Z"
   },
   {
    "duration": 197,
    "start_time": "2022-06-20T12:25:23.277Z"
   },
   {
    "duration": 216,
    "start_time": "2022-06-20T12:25:31.832Z"
   },
   {
    "duration": 16,
    "start_time": "2022-06-20T12:27:49.684Z"
   },
   {
    "duration": 11,
    "start_time": "2022-06-20T12:27:58.203Z"
   },
   {
    "duration": 10,
    "start_time": "2022-06-20T12:28:44.402Z"
   },
   {
    "duration": 10,
    "start_time": "2022-06-20T12:29:10.721Z"
   },
   {
    "duration": 11,
    "start_time": "2022-06-20T12:29:11.850Z"
   },
   {
    "duration": 938,
    "start_time": "2022-06-20T12:43:20.229Z"
   },
   {
    "duration": 27,
    "start_time": "2022-06-20T12:43:21.168Z"
   },
   {
    "duration": 15,
    "start_time": "2022-06-20T12:43:21.197Z"
   },
   {
    "duration": 10,
    "start_time": "2022-06-20T12:43:21.213Z"
   },
   {
    "duration": 17,
    "start_time": "2022-06-20T12:43:21.225Z"
   },
   {
    "duration": 19,
    "start_time": "2022-06-20T12:43:21.244Z"
   },
   {
    "duration": 5,
    "start_time": "2022-06-20T12:43:21.264Z"
   },
   {
    "duration": 24,
    "start_time": "2022-06-20T12:43:21.270Z"
   },
   {
    "duration": 6,
    "start_time": "2022-06-20T12:43:21.296Z"
   },
   {
    "duration": 7,
    "start_time": "2022-06-20T12:43:21.303Z"
   },
   {
    "duration": 12,
    "start_time": "2022-06-20T12:43:21.311Z"
   },
   {
    "duration": 177,
    "start_time": "2022-06-20T12:43:21.324Z"
   },
   {
    "duration": 2019,
    "start_time": "2022-06-20T12:43:21.502Z"
   },
   {
    "duration": 177,
    "start_time": "2022-06-20T12:43:23.523Z"
   },
   {
    "duration": 644,
    "start_time": "2022-06-20T12:43:23.701Z"
   },
   {
    "duration": 10,
    "start_time": "2022-06-20T12:43:24.346Z"
   },
   {
    "duration": 11,
    "start_time": "2022-06-20T12:43:24.357Z"
   },
   {
    "duration": 112,
    "start_time": "2022-06-20T12:43:24.370Z"
   },
   {
    "duration": 1029,
    "start_time": "2022-06-20T12:46:23.894Z"
   },
   {
    "duration": 27,
    "start_time": "2022-06-20T12:46:24.925Z"
   },
   {
    "duration": 15,
    "start_time": "2022-06-20T12:46:24.954Z"
   },
   {
    "duration": 16,
    "start_time": "2022-06-20T12:46:24.971Z"
   },
   {
    "duration": 19,
    "start_time": "2022-06-20T12:46:24.989Z"
   },
   {
    "duration": 22,
    "start_time": "2022-06-20T12:46:25.010Z"
   },
   {
    "duration": 7,
    "start_time": "2022-06-20T12:46:25.033Z"
   },
   {
    "duration": 4,
    "start_time": "2022-06-20T12:46:25.042Z"
   },
   {
    "duration": 7,
    "start_time": "2022-06-20T12:46:25.048Z"
   },
   {
    "duration": 7,
    "start_time": "2022-06-20T12:46:25.058Z"
   },
   {
    "duration": 38,
    "start_time": "2022-06-20T12:46:25.066Z"
   },
   {
    "duration": 168,
    "start_time": "2022-06-20T12:46:25.105Z"
   },
   {
    "duration": 2063,
    "start_time": "2022-06-20T12:46:25.275Z"
   },
   {
    "duration": 164,
    "start_time": "2022-06-20T12:46:27.340Z"
   },
   {
    "duration": 601,
    "start_time": "2022-06-20T12:46:27.505Z"
   },
   {
    "duration": 10,
    "start_time": "2022-06-20T12:46:28.107Z"
   },
   {
    "duration": 9,
    "start_time": "2022-06-20T12:46:28.118Z"
   },
   {
    "duration": 110,
    "start_time": "2022-06-20T12:46:28.128Z"
   },
   {
    "duration": 14,
    "start_time": "2022-06-20T12:46:37.590Z"
   },
   {
    "duration": 957,
    "start_time": "2022-06-20T12:46:43.240Z"
   },
   {
    "duration": 27,
    "start_time": "2022-06-20T12:46:44.198Z"
   },
   {
    "duration": 16,
    "start_time": "2022-06-20T12:46:44.226Z"
   },
   {
    "duration": 10,
    "start_time": "2022-06-20T12:46:44.244Z"
   },
   {
    "duration": 10,
    "start_time": "2022-06-20T12:46:44.256Z"
   },
   {
    "duration": 19,
    "start_time": "2022-06-20T12:46:44.268Z"
   },
   {
    "duration": 6,
    "start_time": "2022-06-20T12:46:44.294Z"
   },
   {
    "duration": 4,
    "start_time": "2022-06-20T12:46:44.302Z"
   },
   {
    "duration": 13,
    "start_time": "2022-06-20T12:46:44.307Z"
   },
   {
    "duration": 7,
    "start_time": "2022-06-20T12:46:44.322Z"
   },
   {
    "duration": 12,
    "start_time": "2022-06-20T12:46:44.331Z"
   },
   {
    "duration": 179,
    "start_time": "2022-06-20T12:46:44.344Z"
   },
   {
    "duration": 2007,
    "start_time": "2022-06-20T12:46:44.525Z"
   },
   {
    "duration": 162,
    "start_time": "2022-06-20T12:46:46.533Z"
   },
   {
    "duration": 505,
    "start_time": "2022-06-20T12:46:46.697Z"
   },
   {
    "duration": 9,
    "start_time": "2022-06-20T12:46:47.204Z"
   },
   {
    "duration": 9,
    "start_time": "2022-06-20T12:46:47.214Z"
   },
   {
    "duration": 10,
    "start_time": "2022-06-20T12:46:47.224Z"
   }
  ],
  "kernelspec": {
   "display_name": "Python 3 (ipykernel)",
   "language": "python",
   "name": "python3"
  },
  "language_info": {
   "codemirror_mode": {
    "name": "ipython",
    "version": 3
   },
   "file_extension": ".py",
   "mimetype": "text/x-python",
   "name": "python",
   "nbconvert_exporter": "python",
   "pygments_lexer": "ipython3",
   "version": "3.9.7"
  },
  "toc": {
   "base_numbering": 1,
   "nav_menu": {},
   "number_sections": true,
   "sideBar": true,
   "skip_h1_title": true,
   "title_cell": "Table of Contents",
   "title_sidebar": "Contents",
   "toc_cell": false,
   "toc_position": {},
   "toc_section_display": true,
   "toc_window_display": false
  }
 },
 "nbformat": 4,
 "nbformat_minor": 2
}
