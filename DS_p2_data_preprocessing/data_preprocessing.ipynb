{
 "cells": [
  {
   "cell_type": "markdown",
   "id": "2467ce57",
   "metadata": {},
   "source": [
    "# Исследование надежности заемщиков."
   ]
  },
  {
   "cell_type": "markdown",
   "id": "e81049fa",
   "metadata": {},
   "source": [
    "Заказчик — кредитный отдел банка. Нужно разобраться, **влияет ли семейное положение и количество детей клиента на факт погашения кредита в срок**. Входные данные от банка — статистика о платёжеспособности клиентов.\n",
    "\n",
    "Результаты исследования будут учтены при построении модели кредитного скоринга — специальной системы, которая оценивает способность потенциального заёмщика вернуть кредит банку.\n",
    "\n",
    "**Цель исследования**\n",
    "\n",
    "Проверить гипотезу - влияет ли семейное положение и количество детей клиента на факт погашения кредита в срок\n",
    "\n",
    "Ответить на вопросы (проверить гипотезы):\n",
    "\n",
    "* Есть ли зависимость между количеством детей и возвратом кредита в срок?\n",
    "* Есть ли зависимость между семейным положением и возвратом кредита в срок?\n",
    "* Есть ли зависимость между уровнем дохода и возвратом кредита в срок?\n",
    "* Как разные цели кредита влияют на его возврат в срок?"
   ]
  },
  {
   "cell_type": "markdown",
   "id": "0472395d",
   "metadata": {},
   "source": [
    "### Шаг 1. Обзор данных"
   ]
  },
  {
   "cell_type": "markdown",
   "id": "0c4f547c",
   "metadata": {},
   "source": [
    "Импортирую библиотеку pandas, читаю датасет и вывожу первые 5 строк таблицы df"
   ]
  },
  {
   "cell_type": "code",
   "execution_count": 1,
   "id": "563ef926",
   "metadata": {},
   "outputs": [],
   "source": [
    "import pandas as pd"
   ]
  },
  {
   "cell_type": "code",
   "execution_count": 2,
   "id": "413fbdbd",
   "metadata": {},
   "outputs": [
    {
     "data": {
      "text/html": [
       "<div>\n",
       "<style scoped>\n",
       "    .dataframe tbody tr th:only-of-type {\n",
       "        vertical-align: middle;\n",
       "    }\n",
       "\n",
       "    .dataframe tbody tr th {\n",
       "        vertical-align: top;\n",
       "    }\n",
       "\n",
       "    .dataframe thead th {\n",
       "        text-align: right;\n",
       "    }\n",
       "</style>\n",
       "<table border=\"1\" class=\"dataframe\">\n",
       "  <thead>\n",
       "    <tr style=\"text-align: right;\">\n",
       "      <th></th>\n",
       "      <th>children</th>\n",
       "      <th>days_employed</th>\n",
       "      <th>dob_years</th>\n",
       "      <th>education</th>\n",
       "      <th>education_id</th>\n",
       "      <th>family_status</th>\n",
       "      <th>family_status_id</th>\n",
       "      <th>gender</th>\n",
       "      <th>income_type</th>\n",
       "      <th>debt</th>\n",
       "      <th>total_income</th>\n",
       "      <th>purpose</th>\n",
       "    </tr>\n",
       "  </thead>\n",
       "  <tbody>\n",
       "    <tr>\n",
       "      <th>0</th>\n",
       "      <td>1</td>\n",
       "      <td>-8437.673028</td>\n",
       "      <td>42</td>\n",
       "      <td>высшее</td>\n",
       "      <td>0</td>\n",
       "      <td>женат / замужем</td>\n",
       "      <td>0</td>\n",
       "      <td>F</td>\n",
       "      <td>сотрудник</td>\n",
       "      <td>0</td>\n",
       "      <td>253875.639453</td>\n",
       "      <td>покупка жилья</td>\n",
       "    </tr>\n",
       "    <tr>\n",
       "      <th>1</th>\n",
       "      <td>1</td>\n",
       "      <td>-4024.803754</td>\n",
       "      <td>36</td>\n",
       "      <td>среднее</td>\n",
       "      <td>1</td>\n",
       "      <td>женат / замужем</td>\n",
       "      <td>0</td>\n",
       "      <td>F</td>\n",
       "      <td>сотрудник</td>\n",
       "      <td>0</td>\n",
       "      <td>112080.014102</td>\n",
       "      <td>приобретение автомобиля</td>\n",
       "    </tr>\n",
       "    <tr>\n",
       "      <th>2</th>\n",
       "      <td>0</td>\n",
       "      <td>-5623.422610</td>\n",
       "      <td>33</td>\n",
       "      <td>Среднее</td>\n",
       "      <td>1</td>\n",
       "      <td>женат / замужем</td>\n",
       "      <td>0</td>\n",
       "      <td>M</td>\n",
       "      <td>сотрудник</td>\n",
       "      <td>0</td>\n",
       "      <td>145885.952297</td>\n",
       "      <td>покупка жилья</td>\n",
       "    </tr>\n",
       "    <tr>\n",
       "      <th>3</th>\n",
       "      <td>3</td>\n",
       "      <td>-4124.747207</td>\n",
       "      <td>32</td>\n",
       "      <td>среднее</td>\n",
       "      <td>1</td>\n",
       "      <td>женат / замужем</td>\n",
       "      <td>0</td>\n",
       "      <td>M</td>\n",
       "      <td>сотрудник</td>\n",
       "      <td>0</td>\n",
       "      <td>267628.550329</td>\n",
       "      <td>дополнительное образование</td>\n",
       "    </tr>\n",
       "    <tr>\n",
       "      <th>4</th>\n",
       "      <td>0</td>\n",
       "      <td>340266.072047</td>\n",
       "      <td>53</td>\n",
       "      <td>среднее</td>\n",
       "      <td>1</td>\n",
       "      <td>гражданский брак</td>\n",
       "      <td>1</td>\n",
       "      <td>F</td>\n",
       "      <td>пенсионер</td>\n",
       "      <td>0</td>\n",
       "      <td>158616.077870</td>\n",
       "      <td>сыграть свадьбу</td>\n",
       "    </tr>\n",
       "  </tbody>\n",
       "</table>\n",
       "</div>"
      ],
      "text/plain": [
       "   children  days_employed  dob_years education  education_id  \\\n",
       "0         1   -8437.673028         42    высшее             0   \n",
       "1         1   -4024.803754         36   среднее             1   \n",
       "2         0   -5623.422610         33   Среднее             1   \n",
       "3         3   -4124.747207         32   среднее             1   \n",
       "4         0  340266.072047         53   среднее             1   \n",
       "\n",
       "      family_status  family_status_id gender income_type  debt   total_income  \\\n",
       "0   женат / замужем                 0      F   сотрудник     0  253875.639453   \n",
       "1   женат / замужем                 0      F   сотрудник     0  112080.014102   \n",
       "2   женат / замужем                 0      M   сотрудник     0  145885.952297   \n",
       "3   женат / замужем                 0      M   сотрудник     0  267628.550329   \n",
       "4  гражданский брак                 1      F   пенсионер     0  158616.077870   \n",
       "\n",
       "                      purpose  \n",
       "0               покупка жилья  \n",
       "1     приобретение автомобиля  \n",
       "2               покупка жилья  \n",
       "3  дополнительное образование  \n",
       "4             сыграть свадьбу  "
      ]
     },
     "execution_count": 2,
     "metadata": {},
     "output_type": "execute_result"
    }
   ],
   "source": [
    "df = pd.read_csv('/datasets/data.csv')\n",
    "df.head()\n",
    "\n"
   ]
  },
  {
   "cell_type": "markdown",
   "id": "bd810702",
   "metadata": {},
   "source": [
    "Получаю общую информацию о таблице"
   ]
  },
  {
   "cell_type": "code",
   "execution_count": 3,
   "id": "46bee984",
   "metadata": {
    "scrolled": false
   },
   "outputs": [
    {
     "name": "stdout",
     "output_type": "stream",
     "text": [
      "<class 'pandas.core.frame.DataFrame'>\n",
      "RangeIndex: 21525 entries, 0 to 21524\n",
      "Data columns (total 12 columns):\n",
      " #   Column            Non-Null Count  Dtype  \n",
      "---  ------            --------------  -----  \n",
      " 0   children          21525 non-null  int64  \n",
      " 1   days_employed     19351 non-null  float64\n",
      " 2   dob_years         21525 non-null  int64  \n",
      " 3   education         21525 non-null  object \n",
      " 4   education_id      21525 non-null  int64  \n",
      " 5   family_status     21525 non-null  object \n",
      " 6   family_status_id  21525 non-null  int64  \n",
      " 7   gender            21525 non-null  object \n",
      " 8   income_type       21525 non-null  object \n",
      " 9   debt              21525 non-null  int64  \n",
      " 10  total_income      19351 non-null  float64\n",
      " 11  purpose           21525 non-null  object \n",
      "dtypes: float64(2), int64(5), object(5)\n",
      "memory usage: 2.0+ MB\n"
     ]
    }
   ],
   "source": [
    "df.info()\n"
   ]
  },
  {
   "cell_type": "markdown",
   "id": "68b77d41",
   "metadata": {},
   "source": [
    "В таблице 12 столбцов с разными типами данных.\n",
    "\n",
    "Согласно документации к данным:\n",
    "\n",
    "* `children` — количество детей в семье\n",
    "* `days_employed` — общий трудовой стаж в днях\n",
    "* `dob_years` — возраст клиента в годах\n",
    "* `education` — уровень образования клиента\n",
    "* `education_id` — идентификатор уровня образования\n",
    "* `family_status` — семейное положение\n",
    "* `family_status_id` — идентификатор семейного положения\n",
    "* `gender` — пол клиента\n",
    "* `income_type` — тип занятости\n",
    "* `debt` — имел ли задолженность по возврату кредитов\n",
    "* `total_income` — ежемесячный доход\n",
    "* `purpose` — цель получения кредита\n",
    "\n",
    "В названиях колонок нет нарушений стиля.\n",
    "\n",
    "Количество значений в столбцах различается. Значит, в данных есть пропущенные значения."
   ]
  },
  {
   "cell_type": "markdown",
   "id": "1f3531da",
   "metadata": {},
   "source": [
    "**Выводы**\n",
    "\n",
    "В каждой строке таблицы — данные о клиентах банка. Данные рассказывают о клиенте: его семейное положение, количество детей, общий трудовой стаж, возраст, образование, пол, ежемесячный жоход и т.д.\n",
    "\n",
    "Предварительно можно утверждать, что, данных достаточно для проверки гипотезы. Но встречаются пропуски в `total_income` и `days_employed`. В столбце `education` разный регистр в данных. А также аномальные отрицательные значения в `days_employed`.\n",
    "\n",
    "Чтобы двигаться дальше, нужно устранить проблемы в данных."
   ]
  },
  {
   "cell_type": "markdown",
   "id": "69daa086",
   "metadata": {},
   "source": [
    "### Шаг 2.1 Заполнение пропусков"
   ]
  },
  {
   "cell_type": "markdown",
   "id": "d77d1128",
   "metadata": {},
   "source": [
    "В двух столбцах есть пропущенные значения. Один из них — `days_employed`. Пропуски в этом столбце обработаем на следующем этапе. Сейчас же возьмем  столбец ежемесячного дохода `total_income` и заполним пропущенные значения в нём медианным значением по столбцу:\n",
    "* опишем, какие пропущенные значения обнаружили;\n",
    "* проверим, какую долю составляют пропущенные значения в каждом из столбцов с пропусками;\n",
    "* приведем возможные причины появления пропусков в данных;\n",
    "* объясним, почему заполнить пропуски медианным значением — лучшее решение для количественных переменных."
   ]
  },
  {
   "cell_type": "code",
   "execution_count": 4,
   "id": "ceff1672",
   "metadata": {},
   "outputs": [
    {
     "data": {
      "text/html": [
       "<div>\n",
       "<style scoped>\n",
       "    .dataframe tbody tr th:only-of-type {\n",
       "        vertical-align: middle;\n",
       "    }\n",
       "\n",
       "    .dataframe tbody tr th {\n",
       "        vertical-align: top;\n",
       "    }\n",
       "\n",
       "    .dataframe thead th {\n",
       "        text-align: right;\n",
       "    }\n",
       "</style>\n",
       "<table border=\"1\" class=\"dataframe\">\n",
       "  <thead>\n",
       "    <tr style=\"text-align: right;\">\n",
       "      <th></th>\n",
       "      <th>children</th>\n",
       "      <th>days_employed</th>\n",
       "      <th>dob_years</th>\n",
       "      <th>education</th>\n",
       "      <th>education_id</th>\n",
       "      <th>family_status</th>\n",
       "      <th>family_status_id</th>\n",
       "      <th>gender</th>\n",
       "      <th>income_type</th>\n",
       "      <th>debt</th>\n",
       "      <th>total_income</th>\n",
       "      <th>purpose</th>\n",
       "    </tr>\n",
       "  </thead>\n",
       "  <tbody>\n",
       "    <tr>\n",
       "      <th>12</th>\n",
       "      <td>0</td>\n",
       "      <td>NaN</td>\n",
       "      <td>65</td>\n",
       "      <td>среднее</td>\n",
       "      <td>1</td>\n",
       "      <td>гражданский брак</td>\n",
       "      <td>1</td>\n",
       "      <td>M</td>\n",
       "      <td>пенсионер</td>\n",
       "      <td>0</td>\n",
       "      <td>NaN</td>\n",
       "      <td>сыграть свадьбу</td>\n",
       "    </tr>\n",
       "    <tr>\n",
       "      <th>26</th>\n",
       "      <td>0</td>\n",
       "      <td>NaN</td>\n",
       "      <td>41</td>\n",
       "      <td>среднее</td>\n",
       "      <td>1</td>\n",
       "      <td>женат / замужем</td>\n",
       "      <td>0</td>\n",
       "      <td>M</td>\n",
       "      <td>госслужащий</td>\n",
       "      <td>0</td>\n",
       "      <td>NaN</td>\n",
       "      <td>образование</td>\n",
       "    </tr>\n",
       "    <tr>\n",
       "      <th>29</th>\n",
       "      <td>0</td>\n",
       "      <td>NaN</td>\n",
       "      <td>63</td>\n",
       "      <td>среднее</td>\n",
       "      <td>1</td>\n",
       "      <td>Не женат / не замужем</td>\n",
       "      <td>4</td>\n",
       "      <td>F</td>\n",
       "      <td>пенсионер</td>\n",
       "      <td>0</td>\n",
       "      <td>NaN</td>\n",
       "      <td>строительство жилой недвижимости</td>\n",
       "    </tr>\n",
       "    <tr>\n",
       "      <th>41</th>\n",
       "      <td>0</td>\n",
       "      <td>NaN</td>\n",
       "      <td>50</td>\n",
       "      <td>среднее</td>\n",
       "      <td>1</td>\n",
       "      <td>женат / замужем</td>\n",
       "      <td>0</td>\n",
       "      <td>F</td>\n",
       "      <td>госслужащий</td>\n",
       "      <td>0</td>\n",
       "      <td>NaN</td>\n",
       "      <td>сделка с подержанным автомобилем</td>\n",
       "    </tr>\n",
       "    <tr>\n",
       "      <th>55</th>\n",
       "      <td>0</td>\n",
       "      <td>NaN</td>\n",
       "      <td>54</td>\n",
       "      <td>среднее</td>\n",
       "      <td>1</td>\n",
       "      <td>гражданский брак</td>\n",
       "      <td>1</td>\n",
       "      <td>F</td>\n",
       "      <td>пенсионер</td>\n",
       "      <td>1</td>\n",
       "      <td>NaN</td>\n",
       "      <td>сыграть свадьбу</td>\n",
       "    </tr>\n",
       "  </tbody>\n",
       "</table>\n",
       "</div>"
      ],
      "text/plain": [
       "    children  days_employed  dob_years education  education_id  \\\n",
       "12         0            NaN         65   среднее             1   \n",
       "26         0            NaN         41   среднее             1   \n",
       "29         0            NaN         63   среднее             1   \n",
       "41         0            NaN         50   среднее             1   \n",
       "55         0            NaN         54   среднее             1   \n",
       "\n",
       "            family_status  family_status_id gender  income_type  debt  \\\n",
       "12       гражданский брак                 1      M    пенсионер     0   \n",
       "26        женат / замужем                 0      M  госслужащий     0   \n",
       "29  Не женат / не замужем                 4      F    пенсионер     0   \n",
       "41        женат / замужем                 0      F  госслужащий     0   \n",
       "55       гражданский брак                 1      F    пенсионер     1   \n",
       "\n",
       "    total_income                           purpose  \n",
       "12           NaN                   сыграть свадьбу  \n",
       "26           NaN                       образование  \n",
       "29           NaN  строительство жилой недвижимости  \n",
       "41           NaN  сделка с подержанным автомобилем  \n",
       "55           NaN                   сыграть свадьбу  "
      ]
     },
     "execution_count": 4,
     "metadata": {},
     "output_type": "execute_result"
    }
   ],
   "source": [
    "df[df['total_income'].isna()].head()"
   ]
  },
  {
   "cell_type": "markdown",
   "id": "cf702e31",
   "metadata": {},
   "source": [
    "В столбце `total_income` вместо показателей ежемесячного дохода (количественных данных) встречаются значения NaN. Поcчитаем, сколько в таблице пропущенных значений"
   ]
  },
  {
   "cell_type": "code",
   "execution_count": 5,
   "id": "7e71c25d",
   "metadata": {
    "scrolled": true
   },
   "outputs": [
    {
     "data": {
      "text/plain": [
       "children               0\n",
       "days_employed       2174\n",
       "dob_years              0\n",
       "education              0\n",
       "education_id           0\n",
       "family_status          0\n",
       "family_status_id       0\n",
       "gender                 0\n",
       "income_type            0\n",
       "debt                   0\n",
       "total_income        2174\n",
       "purpose                0\n",
       "dtype: int64"
      ]
     },
     "execution_count": 5,
     "metadata": {},
     "output_type": "execute_result"
    }
   ],
   "source": [
    "df.isna().sum()"
   ]
  },
  {
   "cell_type": "markdown",
   "id": "93635cc5",
   "metadata": {},
   "source": [
    "проверим, какую долю составляют пропущенные значения в каждом из столбцов с пропусками"
   ]
  },
  {
   "cell_type": "code",
   "execution_count": 6,
   "id": "ad8c4db3",
   "metadata": {},
   "outputs": [
    {
     "data": {
      "text/plain": [
       "children            0.000000\n",
       "days_employed       0.100999\n",
       "dob_years           0.000000\n",
       "education           0.000000\n",
       "education_id        0.000000\n",
       "family_status       0.000000\n",
       "family_status_id    0.000000\n",
       "gender              0.000000\n",
       "income_type         0.000000\n",
       "debt                0.000000\n",
       "total_income        0.100999\n",
       "purpose             0.000000\n",
       "dtype: float64"
      ]
     },
     "execution_count": 6,
     "metadata": {},
     "output_type": "execute_result"
    }
   ],
   "source": [
    "df.isna().sum() / df.shape[0]"
   ]
  },
  {
   "cell_type": "markdown",
   "id": "588f21ac",
   "metadata": {},
   "source": [
    "доля пропущенных значений составляет **~10%** от общего количества записей."
   ]
  },
  {
   "cell_type": "markdown",
   "id": "010f7f60",
   "metadata": {},
   "source": [
    "**возможные причины появления пропусков в данных:**\n",
    "\n",
    "* ошибка при выгрузке базы данных\n",
    "* доход не указан клиентом"
   ]
  },
  {
   "cell_type": "code",
   "execution_count": 7,
   "id": "948b8cc0",
   "metadata": {},
   "outputs": [
    {
     "data": {
      "text/plain": [
       "20667.26379327158"
      ]
     },
     "metadata": {},
     "output_type": "display_data"
    },
    {
     "data": {
      "text/plain": [
       "2265604.028722744"
      ]
     },
     "metadata": {},
     "output_type": "display_data"
    },
    {
     "data": {
      "text/plain": [
       "12412   2,265,604.0\n",
       "19606   2,200,852.2\n",
       "9169    1,726,276.0\n",
       "20809   1,715,018.4\n",
       "17178   1,711,309.3\n",
       "17503   1,597,613.5\n",
       "18368   1,551,152.9\n",
       "18353   1,427,934.5\n",
       "15268   1,350,245.6\n",
       "11071   1,286,281.0\n",
       "2224    1,278,622.6\n",
       "7447    1,240,165.0\n",
       "19813   1,223,042.5\n",
       "15211   1,172,459.8\n",
       "13090   1,128,836.3\n",
       "9871    1,103,455.4\n",
       "10004   1,097,954.7\n",
       "18766   1,092,608.2\n",
       "19338   1,091,627.6\n",
       "1590    1,089,120.3\n",
       "15047   1,058,193.5\n",
       "4415    1,030,899.2\n",
       "18347   1,027,742.3\n",
       "9156    1,006,468.1\n",
       "4129    1,004,476.4\n",
       "10613     997,014.3\n",
       "8299      967,425.4\n",
       "13926     958,434.6\n",
       "5289      920,897.7\n",
       "3097      910,451.5\n",
       "Name: total_income, dtype: float64"
      ]
     },
     "metadata": {},
     "output_type": "display_data"
    },
    {
     "data": {
      "text/plain": [
       "167422.30220817294"
      ]
     },
     "metadata": {},
     "output_type": "display_data"
    },
    {
     "data": {
      "text/plain": [
       "145017.93753253992"
      ]
     },
     "metadata": {},
     "output_type": "display_data"
    }
   ],
   "source": [
    "pd.options.display.float_format = '{:,.1f}'.format\n",
    "\n",
    "display(df['total_income'].min()) # минимальный ежемес доход\n",
    "display(df['total_income'].max()) # максимальный ежемес доход\n",
    "display(df['total_income'].sort_values(ascending=False).head(30)) # сортировка по убыванию дохода\n",
    "display(df['total_income'].mean()) # среднее значение\n",
    "display(df['total_income'].median()) # медианное значение\n"
   ]
  },
  {
   "cell_type": "markdown",
   "id": "e1a631ac",
   "metadata": {},
   "source": [
    "**Заполнить пропуски медианным значением** — лучшее решение для количественных переменных в данном случае, так как cреднее значение некорректно характеризует данные, когда некоторые значения сильно выделяются среди большинства. Конкретно в данном случае разница между средним арифметическим и медианным значением не столь существенна. Однако расчет ежемесячного дохода медианным значением принято считать наиболее объективным и справедливым. Наилучшим решением будет расчет медианного значения в привязке к типу занятости."
   ]
  },
  {
   "cell_type": "markdown",
   "id": "26565851",
   "metadata": {},
   "source": [
    "заполним пропущенные значения в нём медианным значением по столбцу `total_income`:"
   ]
  },
  {
   "cell_type": "code",
   "execution_count": 8,
   "id": "d6a43ce2",
   "metadata": {},
   "outputs": [
    {
     "data": {
      "text/html": [
       "<div>\n",
       "<style scoped>\n",
       "    .dataframe tbody tr th:only-of-type {\n",
       "        vertical-align: middle;\n",
       "    }\n",
       "\n",
       "    .dataframe tbody tr th {\n",
       "        vertical-align: top;\n",
       "    }\n",
       "\n",
       "    .dataframe thead th {\n",
       "        text-align: right;\n",
       "    }\n",
       "</style>\n",
       "<table border=\"1\" class=\"dataframe\">\n",
       "  <thead>\n",
       "    <tr style=\"text-align: right;\">\n",
       "      <th></th>\n",
       "      <th>children</th>\n",
       "      <th>days_employed</th>\n",
       "      <th>dob_years</th>\n",
       "      <th>education</th>\n",
       "      <th>education_id</th>\n",
       "      <th>family_status</th>\n",
       "      <th>family_status_id</th>\n",
       "      <th>gender</th>\n",
       "      <th>income_type</th>\n",
       "      <th>debt</th>\n",
       "      <th>total_income</th>\n",
       "      <th>purpose</th>\n",
       "    </tr>\n",
       "  </thead>\n",
       "  <tbody>\n",
       "    <tr>\n",
       "      <th>12</th>\n",
       "      <td>0</td>\n",
       "      <td>NaN</td>\n",
       "      <td>65</td>\n",
       "      <td>среднее</td>\n",
       "      <td>1</td>\n",
       "      <td>гражданский брак</td>\n",
       "      <td>1</td>\n",
       "      <td>M</td>\n",
       "      <td>пенсионер</td>\n",
       "      <td>0</td>\n",
       "      <td>NaN</td>\n",
       "      <td>сыграть свадьбу</td>\n",
       "    </tr>\n",
       "    <tr>\n",
       "      <th>26</th>\n",
       "      <td>0</td>\n",
       "      <td>NaN</td>\n",
       "      <td>41</td>\n",
       "      <td>среднее</td>\n",
       "      <td>1</td>\n",
       "      <td>женат / замужем</td>\n",
       "      <td>0</td>\n",
       "      <td>M</td>\n",
       "      <td>госслужащий</td>\n",
       "      <td>0</td>\n",
       "      <td>NaN</td>\n",
       "      <td>образование</td>\n",
       "    </tr>\n",
       "    <tr>\n",
       "      <th>29</th>\n",
       "      <td>0</td>\n",
       "      <td>NaN</td>\n",
       "      <td>63</td>\n",
       "      <td>среднее</td>\n",
       "      <td>1</td>\n",
       "      <td>Не женат / не замужем</td>\n",
       "      <td>4</td>\n",
       "      <td>F</td>\n",
       "      <td>пенсионер</td>\n",
       "      <td>0</td>\n",
       "      <td>NaN</td>\n",
       "      <td>строительство жилой недвижимости</td>\n",
       "    </tr>\n",
       "    <tr>\n",
       "      <th>41</th>\n",
       "      <td>0</td>\n",
       "      <td>NaN</td>\n",
       "      <td>50</td>\n",
       "      <td>среднее</td>\n",
       "      <td>1</td>\n",
       "      <td>женат / замужем</td>\n",
       "      <td>0</td>\n",
       "      <td>F</td>\n",
       "      <td>госслужащий</td>\n",
       "      <td>0</td>\n",
       "      <td>NaN</td>\n",
       "      <td>сделка с подержанным автомобилем</td>\n",
       "    </tr>\n",
       "    <tr>\n",
       "      <th>55</th>\n",
       "      <td>0</td>\n",
       "      <td>NaN</td>\n",
       "      <td>54</td>\n",
       "      <td>среднее</td>\n",
       "      <td>1</td>\n",
       "      <td>гражданский брак</td>\n",
       "      <td>1</td>\n",
       "      <td>F</td>\n",
       "      <td>пенсионер</td>\n",
       "      <td>1</td>\n",
       "      <td>NaN</td>\n",
       "      <td>сыграть свадьбу</td>\n",
       "    </tr>\n",
       "  </tbody>\n",
       "</table>\n",
       "</div>"
      ],
      "text/plain": [
       "    children  days_employed  dob_years education  education_id  \\\n",
       "12         0            NaN         65   среднее             1   \n",
       "26         0            NaN         41   среднее             1   \n",
       "29         0            NaN         63   среднее             1   \n",
       "41         0            NaN         50   среднее             1   \n",
       "55         0            NaN         54   среднее             1   \n",
       "\n",
       "            family_status  family_status_id gender  income_type  debt  \\\n",
       "12       гражданский брак                 1      M    пенсионер     0   \n",
       "26        женат / замужем                 0      M  госслужащий     0   \n",
       "29  Не женат / не замужем                 4      F    пенсионер     0   \n",
       "41        женат / замужем                 0      F  госслужащий     0   \n",
       "55       гражданский брак                 1      F    пенсионер     1   \n",
       "\n",
       "    total_income                           purpose  \n",
       "12           NaN                   сыграть свадьбу  \n",
       "26           NaN                       образование  \n",
       "29           NaN  строительство жилой недвижимости  \n",
       "41           NaN  сделка с подержанным автомобилем  \n",
       "55           NaN                   сыграть свадьбу  "
      ]
     },
     "execution_count": 8,
     "metadata": {},
     "output_type": "execute_result"
    }
   ],
   "source": [
    "df[df['total_income'].isna()].head()"
   ]
  },
  {
   "cell_type": "code",
   "execution_count": 9,
   "id": "5ea37672",
   "metadata": {},
   "outputs": [],
   "source": [
    "#df['total_income'] = df['total_income'].fillna(df['total_income'].median())"
   ]
  },
  {
   "cell_type": "markdown",
   "id": "36c60818",
   "metadata": {},
   "source": [
    "Заполняем пропуски с группировкой по переменной тип занятости: "
   ]
  },
  {
   "cell_type": "code",
   "execution_count": 10,
   "id": "d5842b74",
   "metadata": {},
   "outputs": [
    {
     "name": "stdout",
     "output_type": "stream",
     "text": [
      "сотрудник 142594.39684740017\n",
      "пенсионер 118514.48641164352\n",
      "компаньон 172357.95096577113\n",
      "госслужащий 150447.9352830068\n",
      "безработный 131339.7516762103\n",
      "предприниматель 499163.1449470857\n",
      "студент 98201.62531401133\n",
      "в декрете 53829.13072905995\n"
     ]
    }
   ],
   "source": [
    "for income_type in df['income_type'].unique():\n",
    "    median = df.loc[df['income_type'] == income_type, 'total_income'].median()\n",
    "    print(income_type, median)\n",
    "    df.loc[(df['total_income'].isna()) & (df['income_type'] == income_type), 'total_income'] = median"
   ]
  },
  {
   "cell_type": "markdown",
   "id": "874b509a",
   "metadata": {},
   "source": [
    "Убедимся, что в стобце `total_income` не осталось пропусков. Для этого ещё раз посчитаем пропущенные значения."
   ]
  },
  {
   "cell_type": "code",
   "execution_count": 11,
   "id": "7feaa8fa",
   "metadata": {},
   "outputs": [
    {
     "data": {
      "text/plain": [
       "children               0\n",
       "days_employed       2174\n",
       "dob_years              0\n",
       "education              0\n",
       "education_id           0\n",
       "family_status          0\n",
       "family_status_id       0\n",
       "gender                 0\n",
       "income_type            0\n",
       "debt                   0\n",
       "total_income           0\n",
       "purpose                0\n",
       "dtype: int64"
      ]
     },
     "execution_count": 11,
     "metadata": {},
     "output_type": "execute_result"
    }
   ],
   "source": [
    "df.isna().sum()"
   ]
  },
  {
   "cell_type": "markdown",
   "id": "0ea64835",
   "metadata": {},
   "source": [
    "В данных могут встречаться артефакты (аномалии) — значения, которые не отражают действительность и появились по какой-то ошибке. Например, отрицательное количество дней трудового стажа в столбце `days_employed`. Для реальных данных это нормально. Обработайте значения в столбцах с аномалиями и опишите возможные причины появления таких данных. После обработки аномалий заполните пропуски в days_employed медианными значениями по этому столбцу."
   ]
  },
  {
   "cell_type": "markdown",
   "id": "7faef1c2",
   "metadata": {},
   "source": [
    "### Шаг 2.2 Проверка данных на аномалии и исправления."
   ]
  },
  {
   "cell_type": "code",
   "execution_count": 12,
   "id": "cdd3fa5c",
   "metadata": {},
   "outputs": [
    {
     "data": {
      "text/plain": [
       "10958   352,724.2\n",
       "11670    -3,489.5\n",
       "12160   395,491.4\n",
       "12382    -5,424.5\n",
       "2726     -1,871.0\n",
       "20078    -2,968.5\n",
       "10273      -965.8\n",
       "3377     -5,060.8\n",
       "710      -3,040.4\n",
       "7348     -3,180.7\n",
       "13322    -1,056.3\n",
       "18517      -537.3\n",
       "16162    -5,178.4\n",
       "19437      -216.8\n",
       "3197     -1,598.6\n",
       "Name: days_employed, dtype: float64"
      ]
     },
     "execution_count": 12,
     "metadata": {},
     "output_type": "execute_result"
    }
   ],
   "source": [
    "df['days_employed'].sample(15)"
   ]
  },
  {
   "cell_type": "markdown",
   "id": "70e59098",
   "metadata": {},
   "source": [
    "Исправляем отрицательные значения в положительные:"
   ]
  },
  {
   "cell_type": "code",
   "execution_count": 13,
   "id": "b667c754",
   "metadata": {},
   "outputs": [],
   "source": [
    "df['days_employed'] = df['days_employed'].abs()"
   ]
  },
  {
   "cell_type": "markdown",
   "id": "b296cfda",
   "metadata": {},
   "source": [
    "Проверим аномалии в других столбцах:"
   ]
  },
  {
   "cell_type": "code",
   "execution_count": 14,
   "id": "92c38605",
   "metadata": {},
   "outputs": [
    {
     "data": {
      "text/plain": [
       " 0     14149\n",
       " 1      4818\n",
       " 2      2055\n",
       " 3       330\n",
       " 20       76\n",
       "-1        47\n",
       " 4        41\n",
       " 5         9\n",
       "Name: children, dtype: int64"
      ]
     },
     "metadata": {},
     "output_type": "display_data"
    },
    {
     "data": {
      "text/plain": [
       "142.3        1\n",
       "1,849.6      1\n",
       "886.3        1\n",
       "2,539.5      1\n",
       "390,575.0    1\n",
       "            ..\n",
       "1,394.3      1\n",
       "2,325.7      1\n",
       "4,086.4      1\n",
       "1,259.5      1\n",
       "1,636.4      1\n",
       "Name: days_employed, Length: 19351, dtype: int64"
      ]
     },
     "metadata": {},
     "output_type": "display_data"
    },
    {
     "data": {
      "text/plain": [
       "35    617\n",
       "40    609\n",
       "41    607\n",
       "34    603\n",
       "38    598\n",
       "42    597\n",
       "33    581\n",
       "39    573\n",
       "31    560\n",
       "36    555\n",
       "44    547\n",
       "29    545\n",
       "30    540\n",
       "48    538\n",
       "37    537\n",
       "50    514\n",
       "43    513\n",
       "32    510\n",
       "49    508\n",
       "28    503\n",
       "45    497\n",
       "27    493\n",
       "56    487\n",
       "52    484\n",
       "47    480\n",
       "54    479\n",
       "46    475\n",
       "58    461\n",
       "57    460\n",
       "53    459\n",
       "51    448\n",
       "59    444\n",
       "55    443\n",
       "26    408\n",
       "60    377\n",
       "25    357\n",
       "61    355\n",
       "62    352\n",
       "63    269\n",
       "64    265\n",
       "24    264\n",
       "23    254\n",
       "65    194\n",
       "66    183\n",
       "22    183\n",
       "67    167\n",
       "21    111\n",
       "0     101\n",
       "68     99\n",
       "69     85\n",
       "70     65\n",
       "71     58\n",
       "20     51\n",
       "72     33\n",
       "19     14\n",
       "73      8\n",
       "74      6\n",
       "75      1\n",
       "Name: dob_years, dtype: int64"
      ]
     },
     "metadata": {},
     "output_type": "display_data"
    },
    {
     "data": {
      "text/plain": [
       "среднее                13750\n",
       "высшее                  4718\n",
       "СРЕДНЕЕ                  772\n",
       "Среднее                  711\n",
       "неоконченное высшее      668\n",
       "ВЫСШЕЕ                   274\n",
       "Высшее                   268\n",
       "начальное                250\n",
       "Неоконченное высшее       47\n",
       "НЕОКОНЧЕННОЕ ВЫСШЕЕ       29\n",
       "НАЧАЛЬНОЕ                 17\n",
       "Начальное                 15\n",
       "ученая степень             4\n",
       "УЧЕНАЯ СТЕПЕНЬ             1\n",
       "Ученая степень             1\n",
       "Name: education, dtype: int64"
      ]
     },
     "metadata": {},
     "output_type": "display_data"
    },
    {
     "data": {
      "text/plain": [
       "1    15233\n",
       "0     5260\n",
       "2      744\n",
       "3      282\n",
       "4        6\n",
       "Name: education_id, dtype: int64"
      ]
     },
     "metadata": {},
     "output_type": "display_data"
    },
    {
     "data": {
      "text/plain": [
       "женат / замужем          12380\n",
       "гражданский брак          4177\n",
       "Не женат / не замужем     2813\n",
       "в разводе                 1195\n",
       "вдовец / вдова             960\n",
       "Name: family_status, dtype: int64"
      ]
     },
     "metadata": {},
     "output_type": "display_data"
    },
    {
     "data": {
      "text/plain": [
       "0    12380\n",
       "1     4177\n",
       "4     2813\n",
       "3     1195\n",
       "2      960\n",
       "Name: family_status_id, dtype: int64"
      ]
     },
     "metadata": {},
     "output_type": "display_data"
    },
    {
     "data": {
      "text/plain": [
       "F      14236\n",
       "M       7288\n",
       "XNA        1\n",
       "Name: gender, dtype: int64"
      ]
     },
     "metadata": {},
     "output_type": "display_data"
    },
    {
     "data": {
      "text/plain": [
       "сотрудник          11119\n",
       "компаньон           5085\n",
       "пенсионер           3856\n",
       "госслужащий         1459\n",
       "предприниматель        2\n",
       "безработный            2\n",
       "в декрете              1\n",
       "студент                1\n",
       "Name: income_type, dtype: int64"
      ]
     },
     "metadata": {},
     "output_type": "display_data"
    },
    {
     "data": {
      "text/plain": [
       "0    19784\n",
       "1     1741\n",
       "Name: debt, dtype: int64"
      ]
     },
     "metadata": {},
     "output_type": "display_data"
    },
    {
     "data": {
      "text/plain": [
       "142,594.4    1105\n",
       "172,358.0     509\n",
       "118,514.5     414\n",
       "150,447.9     147\n",
       "499,163.1       2\n",
       "             ... \n",
       "101,516.6       1\n",
       "239,154.2       1\n",
       "165,009.7       1\n",
       "94,270.0        1\n",
       "189,255.3       1\n",
       "Name: total_income, Length: 19353, dtype: int64"
      ]
     },
     "metadata": {},
     "output_type": "display_data"
    },
    {
     "data": {
      "text/plain": [
       "свадьба                                   797\n",
       "на проведение свадьбы                     777\n",
       "сыграть свадьбу                           774\n",
       "операции с недвижимостью                  676\n",
       "покупка коммерческой недвижимости         664\n",
       "операции с жильем                         653\n",
       "покупка жилья для сдачи                   653\n",
       "операции с коммерческой недвижимостью     651\n",
       "жилье                                     647\n",
       "покупка жилья                             647\n",
       "покупка жилья для семьи                   641\n",
       "строительство собственной недвижимости    635\n",
       "недвижимость                              634\n",
       "операции со своей недвижимостью           630\n",
       "строительство жилой недвижимости          626\n",
       "покупка недвижимости                      624\n",
       "покупка своего жилья                      620\n",
       "строительство недвижимости                620\n",
       "ремонт жилью                              612\n",
       "покупка жилой недвижимости                607\n",
       "на покупку своего автомобиля              505\n",
       "заняться высшим образованием              496\n",
       "автомобиль                                495\n",
       "сделка с подержанным автомобилем          489\n",
       "свой автомобиль                           480\n",
       "на покупку подержанного автомобиля        479\n",
       "автомобили                                478\n",
       "на покупку автомобиля                     472\n",
       "приобретение автомобиля                   462\n",
       "дополнительное образование                462\n",
       "сделка с автомобилем                      455\n",
       "высшее образование                        453\n",
       "образование                               447\n",
       "получение дополнительного образования     447\n",
       "получение образования                     443\n",
       "профильное образование                    436\n",
       "получение высшего образования             426\n",
       "заняться образованием                     412\n",
       "Name: purpose, dtype: int64"
      ]
     },
     "metadata": {},
     "output_type": "display_data"
    }
   ],
   "source": [
    "for row in df: \n",
    "  display(df[row].value_counts())"
   ]
  },
  {
   "cell_type": "raw",
   "id": "98cfdb37",
   "metadata": {},
   "source": [
    "Аномальные значения: \n",
    "* в столбце `children`: -1 и 20\n",
    "* в столбце `dob_years`: 0 возраст клиента\n",
    "* в столбце `education`: дубликаты и разный регистр\n",
    "* в столбце `purpose`: дубликаты\n",
    "* в столбце `gender`: (?) значение xna\n",
    "\n",
    "в большинстве случаев причина аномальных данных это их возможное отсутсвие / опечатка и дублирование."
   ]
  },
  {
   "cell_type": "markdown",
   "id": "ca5dec46",
   "metadata": {},
   "source": [
    "Исправляем значения -1 на 1 и 20 на 2 в столбце `children`"
   ]
  },
  {
   "cell_type": "code",
   "execution_count": 15,
   "id": "600d6c79",
   "metadata": {},
   "outputs": [],
   "source": [
    "df['children'] = df['children'].replace(-1,1)\n",
    "df['children'] = df['children'].replace(20,2)"
   ]
  },
  {
   "cell_type": "markdown",
   "id": "201ee04c",
   "metadata": {},
   "source": [
    "заменим значения 0 в столбце `gender` на медианые"
   ]
  },
  {
   "cell_type": "code",
   "execution_count": 16,
   "id": "65e767f9",
   "metadata": {},
   "outputs": [],
   "source": [
    "df['dob_years'] = df['dob_years'].replace(0 , df['dob_years'].median())"
   ]
  },
  {
   "cell_type": "markdown",
   "id": "8315d080",
   "metadata": {},
   "source": [
    "(?не совсем понимаю что значит XNA это аномалия или норма?!) Заменим значение XNA  в стобце `gender` на пустое:"
   ]
  },
  {
   "cell_type": "code",
   "execution_count": 17,
   "id": "9bafd992",
   "metadata": {},
   "outputs": [],
   "source": [
    "df.loc[df['gender'] == 'XNA', 'gender'] = ''"
   ]
  },
  {
   "cell_type": "markdown",
   "id": "f833a6f7",
   "metadata": {},
   "source": [
    "заполняем пропуски в `days_employed` медианными значениями по этому столбцу."
   ]
  },
  {
   "cell_type": "code",
   "execution_count": 18,
   "id": "53ea5b55",
   "metadata": {},
   "outputs": [],
   "source": [
    "df['days_employed'] = df['days_employed'].fillna(df['days_employed'].median())"
   ]
  },
  {
   "cell_type": "markdown",
   "id": "134f2d9e",
   "metadata": {},
   "source": [
    "Убеждаемся, что больше нет пропусков и аномалий:"
   ]
  },
  {
   "cell_type": "code",
   "execution_count": 19,
   "id": "dd887c83",
   "metadata": {},
   "outputs": [
    {
     "data": {
      "text/plain": [
       "children            0\n",
       "days_employed       0\n",
       "dob_years           0\n",
       "education           0\n",
       "education_id        0\n",
       "family_status       0\n",
       "family_status_id    0\n",
       "gender              0\n",
       "income_type         0\n",
       "debt                0\n",
       "total_income        0\n",
       "purpose             0\n",
       "dtype: int64"
      ]
     },
     "metadata": {},
     "output_type": "display_data"
    },
    {
     "data": {
      "text/plain": [
       "0    14149\n",
       "1     4865\n",
       "2     2131\n",
       "3      330\n",
       "4       41\n",
       "5        9\n",
       "Name: children, dtype: int64"
      ]
     },
     "metadata": {},
     "output_type": "display_data"
    },
    {
     "data": {
      "text/plain": [
       "2,194.2      2175\n",
       "329,951.6       1\n",
       "886.3           1\n",
       "2,539.5         1\n",
       "390,575.0       1\n",
       "             ... \n",
       "1,320.8         1\n",
       "1,394.3         1\n",
       "2,325.7         1\n",
       "4,086.4         1\n",
       "1,636.4         1\n",
       "Name: days_employed, Length: 19351, dtype: int64"
      ]
     },
     "metadata": {},
     "output_type": "display_data"
    },
    {
     "data": {
      "text/plain": [
       "42.0    698\n",
       "35.0    617\n",
       "40.0    609\n",
       "41.0    607\n",
       "34.0    603\n",
       "38.0    598\n",
       "33.0    581\n",
       "39.0    573\n",
       "31.0    560\n",
       "36.0    555\n",
       "44.0    547\n",
       "29.0    545\n",
       "30.0    540\n",
       "48.0    538\n",
       "37.0    537\n",
       "50.0    514\n",
       "43.0    513\n",
       "32.0    510\n",
       "49.0    508\n",
       "28.0    503\n",
       "45.0    497\n",
       "27.0    493\n",
       "56.0    487\n",
       "52.0    484\n",
       "47.0    480\n",
       "54.0    479\n",
       "46.0    475\n",
       "58.0    461\n",
       "57.0    460\n",
       "53.0    459\n",
       "51.0    448\n",
       "59.0    444\n",
       "55.0    443\n",
       "26.0    408\n",
       "60.0    377\n",
       "25.0    357\n",
       "61.0    355\n",
       "62.0    352\n",
       "63.0    269\n",
       "64.0    265\n",
       "24.0    264\n",
       "23.0    254\n",
       "65.0    194\n",
       "66.0    183\n",
       "22.0    183\n",
       "67.0    167\n",
       "21.0    111\n",
       "68.0     99\n",
       "69.0     85\n",
       "70.0     65\n",
       "71.0     58\n",
       "20.0     51\n",
       "72.0     33\n",
       "19.0     14\n",
       "73.0      8\n",
       "74.0      6\n",
       "75.0      1\n",
       "Name: dob_years, dtype: int64"
      ]
     },
     "metadata": {},
     "output_type": "display_data"
    },
    {
     "data": {
      "text/plain": [
       "среднее                13750\n",
       "высшее                  4718\n",
       "СРЕДНЕЕ                  772\n",
       "Среднее                  711\n",
       "неоконченное высшее      668\n",
       "ВЫСШЕЕ                   274\n",
       "Высшее                   268\n",
       "начальное                250\n",
       "Неоконченное высшее       47\n",
       "НЕОКОНЧЕННОЕ ВЫСШЕЕ       29\n",
       "НАЧАЛЬНОЕ                 17\n",
       "Начальное                 15\n",
       "ученая степень             4\n",
       "УЧЕНАЯ СТЕПЕНЬ             1\n",
       "Ученая степень             1\n",
       "Name: education, dtype: int64"
      ]
     },
     "metadata": {},
     "output_type": "display_data"
    },
    {
     "data": {
      "text/plain": [
       "1    15233\n",
       "0     5260\n",
       "2      744\n",
       "3      282\n",
       "4        6\n",
       "Name: education_id, dtype: int64"
      ]
     },
     "metadata": {},
     "output_type": "display_data"
    },
    {
     "data": {
      "text/plain": [
       "женат / замужем          12380\n",
       "гражданский брак          4177\n",
       "Не женат / не замужем     2813\n",
       "в разводе                 1195\n",
       "вдовец / вдова             960\n",
       "Name: family_status, dtype: int64"
      ]
     },
     "metadata": {},
     "output_type": "display_data"
    },
    {
     "data": {
      "text/plain": [
       "0    12380\n",
       "1     4177\n",
       "4     2813\n",
       "3     1195\n",
       "2      960\n",
       "Name: family_status_id, dtype: int64"
      ]
     },
     "metadata": {},
     "output_type": "display_data"
    },
    {
     "data": {
      "text/plain": [
       "F    14236\n",
       "M     7288\n",
       "         1\n",
       "Name: gender, dtype: int64"
      ]
     },
     "metadata": {},
     "output_type": "display_data"
    },
    {
     "data": {
      "text/plain": [
       "сотрудник          11119\n",
       "компаньон           5085\n",
       "пенсионер           3856\n",
       "госслужащий         1459\n",
       "предприниматель        2\n",
       "безработный            2\n",
       "в декрете              1\n",
       "студент                1\n",
       "Name: income_type, dtype: int64"
      ]
     },
     "metadata": {},
     "output_type": "display_data"
    },
    {
     "data": {
      "text/plain": [
       "0    19784\n",
       "1     1741\n",
       "Name: debt, dtype: int64"
      ]
     },
     "metadata": {},
     "output_type": "display_data"
    },
    {
     "data": {
      "text/plain": [
       "142,594.4    1105\n",
       "172,358.0     509\n",
       "118,514.5     414\n",
       "150,447.9     147\n",
       "499,163.1       2\n",
       "             ... \n",
       "101,516.6       1\n",
       "239,154.2       1\n",
       "165,009.7       1\n",
       "94,270.0        1\n",
       "189,255.3       1\n",
       "Name: total_income, Length: 19353, dtype: int64"
      ]
     },
     "metadata": {},
     "output_type": "display_data"
    },
    {
     "data": {
      "text/plain": [
       "свадьба                                   797\n",
       "на проведение свадьбы                     777\n",
       "сыграть свадьбу                           774\n",
       "операции с недвижимостью                  676\n",
       "покупка коммерческой недвижимости         664\n",
       "операции с жильем                         653\n",
       "покупка жилья для сдачи                   653\n",
       "операции с коммерческой недвижимостью     651\n",
       "жилье                                     647\n",
       "покупка жилья                             647\n",
       "покупка жилья для семьи                   641\n",
       "строительство собственной недвижимости    635\n",
       "недвижимость                              634\n",
       "операции со своей недвижимостью           630\n",
       "строительство жилой недвижимости          626\n",
       "покупка недвижимости                      624\n",
       "покупка своего жилья                      620\n",
       "строительство недвижимости                620\n",
       "ремонт жилью                              612\n",
       "покупка жилой недвижимости                607\n",
       "на покупку своего автомобиля              505\n",
       "заняться высшим образованием              496\n",
       "автомобиль                                495\n",
       "сделка с подержанным автомобилем          489\n",
       "свой автомобиль                           480\n",
       "на покупку подержанного автомобиля        479\n",
       "автомобили                                478\n",
       "на покупку автомобиля                     472\n",
       "приобретение автомобиля                   462\n",
       "дополнительное образование                462\n",
       "сделка с автомобилем                      455\n",
       "высшее образование                        453\n",
       "образование                               447\n",
       "получение дополнительного образования     447\n",
       "получение образования                     443\n",
       "профильное образование                    436\n",
       "получение высшего образования             426\n",
       "заняться образованием                     412\n",
       "Name: purpose, dtype: int64"
      ]
     },
     "metadata": {},
     "output_type": "display_data"
    }
   ],
   "source": [
    "display(df.isna().sum()) # проверка пропусков\n",
    "\n",
    "for row in df: \n",
    "  display(df[row].value_counts()) # проверка значений по столбцам"
   ]
  },
  {
   "cell_type": "markdown",
   "id": "990e5fbc",
   "metadata": {},
   "source": [
    "Аномалии связанные с дубликатами, регистром и категоризацией исправим далее в следущих шагах"
   ]
  },
  {
   "cell_type": "code",
   "execution_count": 20,
   "id": "36ce1525",
   "metadata": {},
   "outputs": [
    {
     "data": {
      "text/html": [
       "<div>\n",
       "<style scoped>\n",
       "    .dataframe tbody tr th:only-of-type {\n",
       "        vertical-align: middle;\n",
       "    }\n",
       "\n",
       "    .dataframe tbody tr th {\n",
       "        vertical-align: top;\n",
       "    }\n",
       "\n",
       "    .dataframe thead th {\n",
       "        text-align: right;\n",
       "    }\n",
       "</style>\n",
       "<table border=\"1\" class=\"dataframe\">\n",
       "  <thead>\n",
       "    <tr style=\"text-align: right;\">\n",
       "      <th></th>\n",
       "      <th>children</th>\n",
       "      <th>days_employed</th>\n",
       "      <th>dob_years</th>\n",
       "      <th>education_id</th>\n",
       "      <th>family_status_id</th>\n",
       "      <th>debt</th>\n",
       "      <th>total_income</th>\n",
       "    </tr>\n",
       "  </thead>\n",
       "  <tbody>\n",
       "    <tr>\n",
       "      <th>count</th>\n",
       "      <td>21,525.0</td>\n",
       "      <td>21,525.0</td>\n",
       "      <td>21,525.0</td>\n",
       "      <td>21,525.0</td>\n",
       "      <td>21,525.0</td>\n",
       "      <td>21,525.0</td>\n",
       "      <td>21,525.0</td>\n",
       "    </tr>\n",
       "    <tr>\n",
       "      <th>mean</th>\n",
       "      <td>0.5</td>\n",
       "      <td>60,378.0</td>\n",
       "      <td>43.5</td>\n",
       "      <td>0.8</td>\n",
       "      <td>1.0</td>\n",
       "      <td>0.1</td>\n",
       "      <td>165,225.3</td>\n",
       "    </tr>\n",
       "    <tr>\n",
       "      <th>std</th>\n",
       "      <td>0.8</td>\n",
       "      <td>133,257.6</td>\n",
       "      <td>12.2</td>\n",
       "      <td>0.5</td>\n",
       "      <td>1.4</td>\n",
       "      <td>0.3</td>\n",
       "      <td>98,043.7</td>\n",
       "    </tr>\n",
       "    <tr>\n",
       "      <th>min</th>\n",
       "      <td>0.0</td>\n",
       "      <td>24.1</td>\n",
       "      <td>19.0</td>\n",
       "      <td>0.0</td>\n",
       "      <td>0.0</td>\n",
       "      <td>0.0</td>\n",
       "      <td>20,667.3</td>\n",
       "    </tr>\n",
       "    <tr>\n",
       "      <th>25%</th>\n",
       "      <td>0.0</td>\n",
       "      <td>1,025.6</td>\n",
       "      <td>34.0</td>\n",
       "      <td>1.0</td>\n",
       "      <td>0.0</td>\n",
       "      <td>0.0</td>\n",
       "      <td>107,798.2</td>\n",
       "    </tr>\n",
       "    <tr>\n",
       "      <th>50%</th>\n",
       "      <td>0.0</td>\n",
       "      <td>2,194.2</td>\n",
       "      <td>42.0</td>\n",
       "      <td>1.0</td>\n",
       "      <td>0.0</td>\n",
       "      <td>0.0</td>\n",
       "      <td>142,594.4</td>\n",
       "    </tr>\n",
       "    <tr>\n",
       "      <th>75%</th>\n",
       "      <td>1.0</td>\n",
       "      <td>4,779.6</td>\n",
       "      <td>53.0</td>\n",
       "      <td>1.0</td>\n",
       "      <td>1.0</td>\n",
       "      <td>0.0</td>\n",
       "      <td>195,549.9</td>\n",
       "    </tr>\n",
       "    <tr>\n",
       "      <th>max</th>\n",
       "      <td>5.0</td>\n",
       "      <td>401,755.4</td>\n",
       "      <td>75.0</td>\n",
       "      <td>4.0</td>\n",
       "      <td>4.0</td>\n",
       "      <td>1.0</td>\n",
       "      <td>2,265,604.0</td>\n",
       "    </tr>\n",
       "  </tbody>\n",
       "</table>\n",
       "</div>"
      ],
      "text/plain": [
       "       children  days_employed  dob_years  education_id  family_status_id  \\\n",
       "count  21,525.0       21,525.0   21,525.0      21,525.0          21,525.0   \n",
       "mean        0.5       60,378.0       43.5           0.8               1.0   \n",
       "std         0.8      133,257.6       12.2           0.5               1.4   \n",
       "min         0.0           24.1       19.0           0.0               0.0   \n",
       "25%         0.0        1,025.6       34.0           1.0               0.0   \n",
       "50%         0.0        2,194.2       42.0           1.0               0.0   \n",
       "75%         1.0        4,779.6       53.0           1.0               1.0   \n",
       "max         5.0      401,755.4       75.0           4.0               4.0   \n",
       "\n",
       "          debt  total_income  \n",
       "count 21,525.0      21,525.0  \n",
       "mean       0.1     165,225.3  \n",
       "std        0.3      98,043.7  \n",
       "min        0.0      20,667.3  \n",
       "25%        0.0     107,798.2  \n",
       "50%        0.0     142,594.4  \n",
       "75%        0.0     195,549.9  \n",
       "max        1.0   2,265,604.0  "
      ]
     },
     "execution_count": 20,
     "metadata": {},
     "output_type": "execute_result"
    }
   ],
   "source": [
    "df.describe()"
   ]
  },
  {
   "cell_type": "markdown",
   "id": "c5f855e2",
   "metadata": {},
   "source": [
    "### Шаг 2.3. Изменение типов данных."
   ]
  },
  {
   "cell_type": "markdown",
   "id": "faf66e4f",
   "metadata": {},
   "source": [
    "Замените вещественный тип данных в столбце total_income на целочисленный, например, с помощью метода astype()."
   ]
  },
  {
   "cell_type": "code",
   "execution_count": 21,
   "id": "90057922",
   "metadata": {},
   "outputs": [
    {
     "data": {
      "text/plain": [
       "dtype('float64')"
      ]
     },
     "execution_count": 21,
     "metadata": {},
     "output_type": "execute_result"
    }
   ],
   "source": [
    "df['total_income'].dtypes"
   ]
  },
  {
   "cell_type": "markdown",
   "id": "3451f268",
   "metadata": {},
   "source": [
    "Заменим вещественный тип данных в столбце `total_income` на целочисленный, с помощью метода `astype()`."
   ]
  },
  {
   "cell_type": "code",
   "execution_count": 22,
   "id": "a0bba44d",
   "metadata": {},
   "outputs": [],
   "source": [
    "df['total_income'] = df['total_income'].astype('int')"
   ]
  },
  {
   "cell_type": "markdown",
   "id": "3b8eaacb",
   "metadata": {},
   "source": [
    "проверяем тип:"
   ]
  },
  {
   "cell_type": "code",
   "execution_count": 23,
   "id": "684d3c27",
   "metadata": {},
   "outputs": [
    {
     "data": {
      "text/plain": [
       "dtype('int64')"
      ]
     },
     "execution_count": 23,
     "metadata": {},
     "output_type": "execute_result"
    }
   ],
   "source": [
    "df['total_income'].dtypes"
   ]
  },
  {
   "cell_type": "code",
   "execution_count": 24,
   "id": "917b17b2",
   "metadata": {},
   "outputs": [
    {
     "name": "stdout",
     "output_type": "stream",
     "text": [
      "<class 'pandas.core.frame.DataFrame'>\n",
      "RangeIndex: 21525 entries, 0 to 21524\n",
      "Data columns (total 12 columns):\n",
      " #   Column            Non-Null Count  Dtype  \n",
      "---  ------            --------------  -----  \n",
      " 0   children          21525 non-null  int64  \n",
      " 1   days_employed     21525 non-null  float64\n",
      " 2   dob_years         21525 non-null  float64\n",
      " 3   education         21525 non-null  object \n",
      " 4   education_id      21525 non-null  int64  \n",
      " 5   family_status     21525 non-null  object \n",
      " 6   family_status_id  21525 non-null  int64  \n",
      " 7   gender            21525 non-null  object \n",
      " 8   income_type       21525 non-null  object \n",
      " 9   debt              21525 non-null  int64  \n",
      " 10  total_income      21525 non-null  int64  \n",
      " 11  purpose           21525 non-null  object \n",
      "dtypes: float64(2), int64(5), object(5)\n",
      "memory usage: 2.0+ MB\n"
     ]
    }
   ],
   "source": [
    "df.info()"
   ]
  },
  {
   "cell_type": "code",
   "execution_count": 25,
   "id": "fdbe5545",
   "metadata": {},
   "outputs": [],
   "source": [
    "df['days_employed'] = df['days_employed'].astype('int')"
   ]
  },
  {
   "cell_type": "code",
   "execution_count": 26,
   "id": "fa471693",
   "metadata": {},
   "outputs": [
    {
     "data": {
      "text/plain": [
       "dtype('int64')"
      ]
     },
     "execution_count": 26,
     "metadata": {},
     "output_type": "execute_result"
    }
   ],
   "source": [
    "df['days_employed'].dtypes"
   ]
  },
  {
   "cell_type": "markdown",
   "id": "e5012981",
   "metadata": {},
   "source": [
    "### Шаг 2.4. Удаление дубликатов."
   ]
  },
  {
   "cell_type": "markdown",
   "id": "ca812cdf",
   "metadata": {},
   "source": [
    "Если в данных присутствуют строки-дубликаты, удалите их. Также обработайте неявные дубликаты. Например, в столбце education есть одни и те же значения, но записанные по-разному: с использованием заглавных и строчных букв. Приведите их к одному регистру. Проверьте остальные столбцы.\n",
    "После удаления дубликатов сделайте следующее:\n",
    "* поясните, как выбирали метод для поиска и удаления дубликатов в данных;\n",
    "* приведите возможные причины появления дубликатов."
   ]
  },
  {
   "cell_type": "markdown",
   "id": "64ce8ec3",
   "metadata": {},
   "source": [
    "Проверяем полные дубликаты:"
   ]
  },
  {
   "cell_type": "code",
   "execution_count": 27,
   "id": "1f98a834",
   "metadata": {},
   "outputs": [
    {
     "data": {
      "text/plain": [
       "55"
      ]
     },
     "execution_count": 27,
     "metadata": {},
     "output_type": "execute_result"
    }
   ],
   "source": [
    "df.duplicated().sum()"
   ]
  },
  {
   "cell_type": "markdown",
   "id": "9e3f800a",
   "metadata": {},
   "source": [
    "Удаляем полные дубликаты:"
   ]
  },
  {
   "cell_type": "code",
   "execution_count": 28,
   "id": "0cf9401f",
   "metadata": {},
   "outputs": [],
   "source": [
    "df = df.drop_duplicates().reset_index(drop=True)"
   ]
  },
  {
   "cell_type": "markdown",
   "id": "e6bcd83c",
   "metadata": {},
   "source": [
    "Проверяем дубликаты по столбцам:"
   ]
  },
  {
   "cell_type": "code",
   "execution_count": 29,
   "id": "3c6dcfc8",
   "metadata": {},
   "outputs": [
    {
     "data": {
      "text/plain": [
       "0    14106\n",
       "1     4856\n",
       "2     2128\n",
       "3      330\n",
       "4       41\n",
       "5        9\n",
       "Name: children, dtype: int64"
      ]
     },
     "metadata": {},
     "output_type": "display_data"
    },
    {
     "data": {
      "text/plain": [
       "2194      2125\n",
       "133         16\n",
       "327         16\n",
       "438         15\n",
       "223         14\n",
       "          ... \n",
       "4507         1\n",
       "376084       1\n",
       "349465       1\n",
       "10636        1\n",
       "2049         1\n",
       "Name: days_employed, Length: 9086, dtype: int64"
      ]
     },
     "metadata": {},
     "output_type": "display_data"
    },
    {
     "data": {
      "text/plain": [
       "42.0    696\n",
       "35.0    616\n",
       "40.0    607\n",
       "41.0    606\n",
       "34.0    601\n",
       "38.0    597\n",
       "33.0    581\n",
       "39.0    572\n",
       "31.0    559\n",
       "36.0    554\n",
       "44.0    545\n",
       "29.0    544\n",
       "30.0    538\n",
       "48.0    537\n",
       "37.0    536\n",
       "50.0    513\n",
       "43.0    512\n",
       "32.0    509\n",
       "49.0    508\n",
       "28.0    503\n",
       "45.0    497\n",
       "27.0    493\n",
       "56.0    484\n",
       "52.0    484\n",
       "47.0    477\n",
       "54.0    476\n",
       "46.0    473\n",
       "53.0    459\n",
       "57.0    456\n",
       "58.0    456\n",
       "51.0    448\n",
       "55.0    443\n",
       "59.0    443\n",
       "26.0    408\n",
       "60.0    374\n",
       "25.0    357\n",
       "61.0    354\n",
       "62.0    349\n",
       "63.0    269\n",
       "24.0    264\n",
       "64.0    262\n",
       "23.0    253\n",
       "65.0    194\n",
       "22.0    183\n",
       "66.0    182\n",
       "67.0    167\n",
       "21.0    111\n",
       "68.0     99\n",
       "69.0     85\n",
       "70.0     65\n",
       "71.0     58\n",
       "20.0     51\n",
       "72.0     33\n",
       "19.0     14\n",
       "73.0      8\n",
       "74.0      6\n",
       "75.0      1\n",
       "Name: dob_years, dtype: int64"
      ]
     },
     "metadata": {},
     "output_type": "display_data"
    },
    {
     "data": {
      "text/plain": [
       "среднее                13704\n",
       "высшее                  4710\n",
       "СРЕДНЕЕ                  772\n",
       "Среднее                  711\n",
       "неоконченное высшее      668\n",
       "ВЫСШЕЕ                   273\n",
       "Высшее                   268\n",
       "начальное                250\n",
       "Неоконченное высшее       47\n",
       "НЕОКОНЧЕННОЕ ВЫСШЕЕ       29\n",
       "НАЧАЛЬНОЕ                 17\n",
       "Начальное                 15\n",
       "ученая степень             4\n",
       "УЧЕНАЯ СТЕПЕНЬ             1\n",
       "Ученая степень             1\n",
       "Name: education, dtype: int64"
      ]
     },
     "metadata": {},
     "output_type": "display_data"
    },
    {
     "data": {
      "text/plain": [
       "1    15187\n",
       "0     5251\n",
       "2      744\n",
       "3      282\n",
       "4        6\n",
       "Name: education_id, dtype: int64"
      ]
     },
     "metadata": {},
     "output_type": "display_data"
    },
    {
     "data": {
      "text/plain": [
       "женат / замужем          12344\n",
       "гражданский брак          4162\n",
       "Не женат / не замужем     2810\n",
       "в разводе                 1195\n",
       "вдовец / вдова             959\n",
       "Name: family_status, dtype: int64"
      ]
     },
     "metadata": {},
     "output_type": "display_data"
    },
    {
     "data": {
      "text/plain": [
       "0    12344\n",
       "1     4162\n",
       "4     2810\n",
       "3     1195\n",
       "2      959\n",
       "Name: family_status_id, dtype: int64"
      ]
     },
     "metadata": {},
     "output_type": "display_data"
    },
    {
     "data": {
      "text/plain": [
       "F    14188\n",
       "M     7281\n",
       "         1\n",
       "Name: gender, dtype: int64"
      ]
     },
     "metadata": {},
     "output_type": "display_data"
    },
    {
     "data": {
      "text/plain": [
       "сотрудник          11090\n",
       "компаньон           5080\n",
       "пенсионер           3837\n",
       "госслужащий         1457\n",
       "предприниматель        2\n",
       "безработный            2\n",
       "в декрете              1\n",
       "студент                1\n",
       "Name: income_type, dtype: int64"
      ]
     },
     "metadata": {},
     "output_type": "display_data"
    },
    {
     "data": {
      "text/plain": [
       "0    19729\n",
       "1     1741\n",
       "Name: debt, dtype: int64"
      ]
     },
     "metadata": {},
     "output_type": "display_data"
    },
    {
     "data": {
      "text/plain": [
       "142594    1076\n",
       "172357     504\n",
       "118514     395\n",
       "150447     145\n",
       "144533       3\n",
       "          ... \n",
       "179138       1\n",
       "61724        1\n",
       "99269        1\n",
       "151371       1\n",
       "126820       1\n",
       "Name: total_income, Length: 18608, dtype: int64"
      ]
     },
     "metadata": {},
     "output_type": "display_data"
    },
    {
     "data": {
      "text/plain": [
       "свадьба                                   793\n",
       "на проведение свадьбы                     772\n",
       "сыграть свадьбу                           769\n",
       "операции с недвижимостью                  675\n",
       "покупка коммерческой недвижимости         662\n",
       "операции с жильем                         652\n",
       "покупка жилья для сдачи                   652\n",
       "операции с коммерческой недвижимостью     650\n",
       "жилье                                     646\n",
       "покупка жилья                             646\n",
       "покупка жилья для семьи                   638\n",
       "строительство собственной недвижимости    635\n",
       "недвижимость                              633\n",
       "операции со своей недвижимостью           627\n",
       "строительство жилой недвижимости          625\n",
       "покупка недвижимости                      621\n",
       "покупка своего жилья                      620\n",
       "строительство недвижимости                619\n",
       "ремонт жилью                              607\n",
       "покупка жилой недвижимости                606\n",
       "на покупку своего автомобиля              505\n",
       "заняться высшим образованием              496\n",
       "автомобиль                                494\n",
       "сделка с подержанным автомобилем          486\n",
       "свой автомобиль                           479\n",
       "на покупку подержанного автомобиля        478\n",
       "автомобили                                478\n",
       "на покупку автомобиля                     472\n",
       "приобретение автомобиля                   461\n",
       "дополнительное образование                460\n",
       "сделка с автомобилем                      455\n",
       "высшее образование                        452\n",
       "образование                               447\n",
       "получение дополнительного образования     447\n",
       "получение образования                     442\n",
       "профильное образование                    436\n",
       "получение высшего образования             426\n",
       "заняться образованием                     408\n",
       "Name: purpose, dtype: int64"
      ]
     },
     "metadata": {},
     "output_type": "display_data"
    }
   ],
   "source": [
    "for row in df: \n",
    "  display(df[row].value_counts()) "
   ]
  },
  {
   "cell_type": "markdown",
   "id": "fae58ed6",
   "metadata": {},
   "source": [
    "переводим education в нижний регистр:"
   ]
  },
  {
   "cell_type": "code",
   "execution_count": 30,
   "id": "d9aed603",
   "metadata": {},
   "outputs": [],
   "source": [
    "df['education'] = df['education'].str.lower()"
   ]
  },
  {
   "cell_type": "code",
   "execution_count": 31,
   "id": "2c845df8",
   "metadata": {},
   "outputs": [
    {
     "data": {
      "text/plain": [
       "17"
      ]
     },
     "execution_count": 31,
     "metadata": {},
     "output_type": "execute_result"
    }
   ],
   "source": [
    "df.duplicated().sum()"
   ]
  },
  {
   "cell_type": "markdown",
   "id": "72fc4452",
   "metadata": {},
   "source": [
    "проверяем значения столбца:"
   ]
  },
  {
   "cell_type": "code",
   "execution_count": 32,
   "id": "8521e341",
   "metadata": {},
   "outputs": [
    {
     "data": {
      "text/plain": [
       "array(['высшее', 'среднее', 'неоконченное высшее', 'начальное',\n",
       "       'ученая степень'], dtype=object)"
      ]
     },
     "execution_count": 32,
     "metadata": {},
     "output_type": "execute_result"
    }
   ],
   "source": [
    "df['education'].unique()"
   ]
  },
  {
   "cell_type": "markdown",
   "id": "68ab79ce",
   "metadata": {},
   "source": [
    "Также значения дублируются в столбце `purpose`. Но его мы разбираем далее"
   ]
  },
  {
   "cell_type": "markdown",
   "id": "6c9f5b67",
   "metadata": {},
   "source": [
    "### Шаг 2.5. Формирование дополнительных датафреймов словарей, декомпозиция исходного датафрейма."
   ]
  },
  {
   "cell_type": "markdown",
   "id": "b8fe98ec",
   "metadata": {},
   "source": [
    "Создайте два новых датафрейма, в которых:\n",
    "* каждому уникальному значению из `education` соответствует уникальное значение `education_id` — в первом;\n",
    "* каждому уникальному значению из `family_status` соответствует уникальное значение `family_status_id` — во втором.\n",
    "\n",
    "Удалите из исходного датафрейма столбцы `education` и `family_status`, оставив только их идентификаторы: `education_id` и `family_status_id`. Новые датафреймы — это те самые «словари» (не путайте с одноимённой структурой данных в Python), к которым вы сможете обращаться по идентификатору."
   ]
  },
  {
   "cell_type": "code",
   "execution_count": 33,
   "id": "ae1636df",
   "metadata": {},
   "outputs": [],
   "source": [
    "df_education = df.loc[:,['education','education_id']].drop_duplicates().reset_index(drop=True) # создаем новый датфрейм"
   ]
  },
  {
   "cell_type": "code",
   "execution_count": 34,
   "id": "b5b7876b",
   "metadata": {},
   "outputs": [
    {
     "data": {
      "text/html": [
       "<div>\n",
       "<style scoped>\n",
       "    .dataframe tbody tr th:only-of-type {\n",
       "        vertical-align: middle;\n",
       "    }\n",
       "\n",
       "    .dataframe tbody tr th {\n",
       "        vertical-align: top;\n",
       "    }\n",
       "\n",
       "    .dataframe thead th {\n",
       "        text-align: right;\n",
       "    }\n",
       "</style>\n",
       "<table border=\"1\" class=\"dataframe\">\n",
       "  <thead>\n",
       "    <tr style=\"text-align: right;\">\n",
       "      <th></th>\n",
       "      <th>education</th>\n",
       "      <th>education_id</th>\n",
       "    </tr>\n",
       "  </thead>\n",
       "  <tbody>\n",
       "    <tr>\n",
       "      <th>0</th>\n",
       "      <td>высшее</td>\n",
       "      <td>0</td>\n",
       "    </tr>\n",
       "    <tr>\n",
       "      <th>1</th>\n",
       "      <td>среднее</td>\n",
       "      <td>1</td>\n",
       "    </tr>\n",
       "    <tr>\n",
       "      <th>2</th>\n",
       "      <td>неоконченное высшее</td>\n",
       "      <td>2</td>\n",
       "    </tr>\n",
       "    <tr>\n",
       "      <th>3</th>\n",
       "      <td>начальное</td>\n",
       "      <td>3</td>\n",
       "    </tr>\n",
       "    <tr>\n",
       "      <th>4</th>\n",
       "      <td>ученая степень</td>\n",
       "      <td>4</td>\n",
       "    </tr>\n",
       "  </tbody>\n",
       "</table>\n",
       "</div>"
      ],
      "text/plain": [
       "             education  education_id\n",
       "0               высшее             0\n",
       "1              среднее             1\n",
       "2  неоконченное высшее             2\n",
       "3            начальное             3\n",
       "4       ученая степень             4"
      ]
     },
     "execution_count": 34,
     "metadata": {},
     "output_type": "execute_result"
    }
   ],
   "source": [
    "df_education.head()"
   ]
  },
  {
   "cell_type": "code",
   "execution_count": 35,
   "id": "3ccb7f0d",
   "metadata": {},
   "outputs": [],
   "source": [
    "df_family_status = df.loc[:,['family_status','family_status_id']].drop_duplicates().reset_index(drop=True)  # создаем новый датфрейм"
   ]
  },
  {
   "cell_type": "code",
   "execution_count": 36,
   "id": "75f2f271",
   "metadata": {
    "scrolled": true
   },
   "outputs": [
    {
     "data": {
      "text/html": [
       "<div>\n",
       "<style scoped>\n",
       "    .dataframe tbody tr th:only-of-type {\n",
       "        vertical-align: middle;\n",
       "    }\n",
       "\n",
       "    .dataframe tbody tr th {\n",
       "        vertical-align: top;\n",
       "    }\n",
       "\n",
       "    .dataframe thead th {\n",
       "        text-align: right;\n",
       "    }\n",
       "</style>\n",
       "<table border=\"1\" class=\"dataframe\">\n",
       "  <thead>\n",
       "    <tr style=\"text-align: right;\">\n",
       "      <th></th>\n",
       "      <th>family_status</th>\n",
       "      <th>family_status_id</th>\n",
       "    </tr>\n",
       "  </thead>\n",
       "  <tbody>\n",
       "    <tr>\n",
       "      <th>0</th>\n",
       "      <td>женат / замужем</td>\n",
       "      <td>0</td>\n",
       "    </tr>\n",
       "    <tr>\n",
       "      <th>1</th>\n",
       "      <td>гражданский брак</td>\n",
       "      <td>1</td>\n",
       "    </tr>\n",
       "    <tr>\n",
       "      <th>2</th>\n",
       "      <td>вдовец / вдова</td>\n",
       "      <td>2</td>\n",
       "    </tr>\n",
       "    <tr>\n",
       "      <th>3</th>\n",
       "      <td>в разводе</td>\n",
       "      <td>3</td>\n",
       "    </tr>\n",
       "    <tr>\n",
       "      <th>4</th>\n",
       "      <td>Не женат / не замужем</td>\n",
       "      <td>4</td>\n",
       "    </tr>\n",
       "  </tbody>\n",
       "</table>\n",
       "</div>"
      ],
      "text/plain": [
       "           family_status  family_status_id\n",
       "0        женат / замужем                 0\n",
       "1       гражданский брак                 1\n",
       "2         вдовец / вдова                 2\n",
       "3              в разводе                 3\n",
       "4  Не женат / не замужем                 4"
      ]
     },
     "execution_count": 36,
     "metadata": {},
     "output_type": "execute_result"
    }
   ],
   "source": [
    "df_family_status.head()"
   ]
  },
  {
   "cell_type": "code",
   "execution_count": 37,
   "id": "892a07e0",
   "metadata": {},
   "outputs": [],
   "source": [
    "df = df.drop(['education', 'family_status'], axis = 1) # удаляем столбцы education и family_status"
   ]
  },
  {
   "cell_type": "code",
   "execution_count": 38,
   "id": "fd2b01a0",
   "metadata": {},
   "outputs": [
    {
     "data": {
      "text/html": [
       "<div>\n",
       "<style scoped>\n",
       "    .dataframe tbody tr th:only-of-type {\n",
       "        vertical-align: middle;\n",
       "    }\n",
       "\n",
       "    .dataframe tbody tr th {\n",
       "        vertical-align: top;\n",
       "    }\n",
       "\n",
       "    .dataframe thead th {\n",
       "        text-align: right;\n",
       "    }\n",
       "</style>\n",
       "<table border=\"1\" class=\"dataframe\">\n",
       "  <thead>\n",
       "    <tr style=\"text-align: right;\">\n",
       "      <th></th>\n",
       "      <th>children</th>\n",
       "      <th>days_employed</th>\n",
       "      <th>dob_years</th>\n",
       "      <th>education_id</th>\n",
       "      <th>family_status_id</th>\n",
       "      <th>gender</th>\n",
       "      <th>income_type</th>\n",
       "      <th>debt</th>\n",
       "      <th>total_income</th>\n",
       "      <th>purpose</th>\n",
       "    </tr>\n",
       "  </thead>\n",
       "  <tbody>\n",
       "    <tr>\n",
       "      <th>0</th>\n",
       "      <td>1</td>\n",
       "      <td>8437</td>\n",
       "      <td>42.0</td>\n",
       "      <td>0</td>\n",
       "      <td>0</td>\n",
       "      <td>F</td>\n",
       "      <td>сотрудник</td>\n",
       "      <td>0</td>\n",
       "      <td>253875</td>\n",
       "      <td>покупка жилья</td>\n",
       "    </tr>\n",
       "    <tr>\n",
       "      <th>1</th>\n",
       "      <td>1</td>\n",
       "      <td>4024</td>\n",
       "      <td>36.0</td>\n",
       "      <td>1</td>\n",
       "      <td>0</td>\n",
       "      <td>F</td>\n",
       "      <td>сотрудник</td>\n",
       "      <td>0</td>\n",
       "      <td>112080</td>\n",
       "      <td>приобретение автомобиля</td>\n",
       "    </tr>\n",
       "    <tr>\n",
       "      <th>2</th>\n",
       "      <td>0</td>\n",
       "      <td>5623</td>\n",
       "      <td>33.0</td>\n",
       "      <td>1</td>\n",
       "      <td>0</td>\n",
       "      <td>M</td>\n",
       "      <td>сотрудник</td>\n",
       "      <td>0</td>\n",
       "      <td>145885</td>\n",
       "      <td>покупка жилья</td>\n",
       "    </tr>\n",
       "    <tr>\n",
       "      <th>3</th>\n",
       "      <td>3</td>\n",
       "      <td>4124</td>\n",
       "      <td>32.0</td>\n",
       "      <td>1</td>\n",
       "      <td>0</td>\n",
       "      <td>M</td>\n",
       "      <td>сотрудник</td>\n",
       "      <td>0</td>\n",
       "      <td>267628</td>\n",
       "      <td>дополнительное образование</td>\n",
       "    </tr>\n",
       "    <tr>\n",
       "      <th>4</th>\n",
       "      <td>0</td>\n",
       "      <td>340266</td>\n",
       "      <td>53.0</td>\n",
       "      <td>1</td>\n",
       "      <td>1</td>\n",
       "      <td>F</td>\n",
       "      <td>пенсионер</td>\n",
       "      <td>0</td>\n",
       "      <td>158616</td>\n",
       "      <td>сыграть свадьбу</td>\n",
       "    </tr>\n",
       "  </tbody>\n",
       "</table>\n",
       "</div>"
      ],
      "text/plain": [
       "   children  days_employed  dob_years  education_id  family_status_id gender  \\\n",
       "0         1           8437       42.0             0                 0      F   \n",
       "1         1           4024       36.0             1                 0      F   \n",
       "2         0           5623       33.0             1                 0      M   \n",
       "3         3           4124       32.0             1                 0      M   \n",
       "4         0         340266       53.0             1                 1      F   \n",
       "\n",
       "  income_type  debt  total_income                     purpose  \n",
       "0   сотрудник     0        253875               покупка жилья  \n",
       "1   сотрудник     0        112080     приобретение автомобиля  \n",
       "2   сотрудник     0        145885               покупка жилья  \n",
       "3   сотрудник     0        267628  дополнительное образование  \n",
       "4   пенсионер     0        158616             сыграть свадьбу  "
      ]
     },
     "execution_count": 38,
     "metadata": {},
     "output_type": "execute_result"
    }
   ],
   "source": [
    "df.head() # проверяем новый вид исходного датафрейма"
   ]
  },
  {
   "cell_type": "markdown",
   "id": "27e8fa6d",
   "metadata": {},
   "source": [
    "### Шаг 2.6. Категоризация дохода."
   ]
  },
  {
   "cell_type": "markdown",
   "id": "2508bad8",
   "metadata": {},
   "source": [
    "На основании диапазонов, указанных ниже, создайте столбец `total_income_category` с категориями:\n",
    "* 0–30000 — 'E';\n",
    "* 30001–50000 — 'D';\n",
    "* 50001–200000 — 'C';\n",
    "* 200001–1000000 — 'B';\n",
    "* 1000001 и выше — 'A'.\n",
    "\n",
    "Например, кредитополучателю с доходом 25000 нужно назначить категорию 'E', а клиенту, получающему 235000, — 'B'."
   ]
  },
  {
   "cell_type": "markdown",
   "id": "3005827b",
   "metadata": {},
   "source": [
    "Создаем функцию, которая будет определять категории в зависимости от ежемесячного дохода:"
   ]
  },
  {
   "cell_type": "code",
   "execution_count": 39,
   "id": "89443f55",
   "metadata": {},
   "outputs": [],
   "source": [
    "def total_income_category(total_income):\n",
    "    if 0 <= total_income <= 30000:\n",
    "        return 'E'\n",
    "    if 30001 <= total_income <= 50000:\n",
    "        return 'D'\n",
    "    if 50001 <= total_income <= 200000:\n",
    "        return 'C'\n",
    "    if 200001 <= total_income <= 1000000:\n",
    "        return 'B'\n",
    "    if total_income >= 1000001:\n",
    "        return 'A'"
   ]
  },
  {
   "cell_type": "markdown",
   "id": "80f55155",
   "metadata": {},
   "source": [
    "Проверяем работу функции:"
   ]
  },
  {
   "cell_type": "code",
   "execution_count": 40,
   "id": "703dbd4c",
   "metadata": {},
   "outputs": [
    {
     "data": {
      "text/plain": [
       "'E'"
      ]
     },
     "execution_count": 40,
     "metadata": {},
     "output_type": "execute_result"
    }
   ],
   "source": [
    "total_income_category(25000)"
   ]
  },
  {
   "cell_type": "markdown",
   "id": "cd8023d4",
   "metadata": {},
   "source": [
    "Создаем `total_income_category` столбец с категориями"
   ]
  },
  {
   "cell_type": "code",
   "execution_count": 41,
   "id": "d5b34f77",
   "metadata": {},
   "outputs": [],
   "source": [
    "df['total_income_category'] = df['total_income'].apply(total_income_category)"
   ]
  },
  {
   "cell_type": "markdown",
   "id": "020f7327",
   "metadata": {},
   "source": [
    "Проверяем наличие столбца:"
   ]
  },
  {
   "cell_type": "code",
   "execution_count": 42,
   "id": "f3aa6826",
   "metadata": {},
   "outputs": [
    {
     "data": {
      "text/html": [
       "<div>\n",
       "<style scoped>\n",
       "    .dataframe tbody tr th:only-of-type {\n",
       "        vertical-align: middle;\n",
       "    }\n",
       "\n",
       "    .dataframe tbody tr th {\n",
       "        vertical-align: top;\n",
       "    }\n",
       "\n",
       "    .dataframe thead th {\n",
       "        text-align: right;\n",
       "    }\n",
       "</style>\n",
       "<table border=\"1\" class=\"dataframe\">\n",
       "  <thead>\n",
       "    <tr style=\"text-align: right;\">\n",
       "      <th></th>\n",
       "      <th>children</th>\n",
       "      <th>days_employed</th>\n",
       "      <th>dob_years</th>\n",
       "      <th>education_id</th>\n",
       "      <th>family_status_id</th>\n",
       "      <th>gender</th>\n",
       "      <th>income_type</th>\n",
       "      <th>debt</th>\n",
       "      <th>total_income</th>\n",
       "      <th>purpose</th>\n",
       "      <th>total_income_category</th>\n",
       "    </tr>\n",
       "  </thead>\n",
       "  <tbody>\n",
       "    <tr>\n",
       "      <th>0</th>\n",
       "      <td>1</td>\n",
       "      <td>8437</td>\n",
       "      <td>42.0</td>\n",
       "      <td>0</td>\n",
       "      <td>0</td>\n",
       "      <td>F</td>\n",
       "      <td>сотрудник</td>\n",
       "      <td>0</td>\n",
       "      <td>253875</td>\n",
       "      <td>покупка жилья</td>\n",
       "      <td>B</td>\n",
       "    </tr>\n",
       "    <tr>\n",
       "      <th>1</th>\n",
       "      <td>1</td>\n",
       "      <td>4024</td>\n",
       "      <td>36.0</td>\n",
       "      <td>1</td>\n",
       "      <td>0</td>\n",
       "      <td>F</td>\n",
       "      <td>сотрудник</td>\n",
       "      <td>0</td>\n",
       "      <td>112080</td>\n",
       "      <td>приобретение автомобиля</td>\n",
       "      <td>C</td>\n",
       "    </tr>\n",
       "    <tr>\n",
       "      <th>2</th>\n",
       "      <td>0</td>\n",
       "      <td>5623</td>\n",
       "      <td>33.0</td>\n",
       "      <td>1</td>\n",
       "      <td>0</td>\n",
       "      <td>M</td>\n",
       "      <td>сотрудник</td>\n",
       "      <td>0</td>\n",
       "      <td>145885</td>\n",
       "      <td>покупка жилья</td>\n",
       "      <td>C</td>\n",
       "    </tr>\n",
       "    <tr>\n",
       "      <th>3</th>\n",
       "      <td>3</td>\n",
       "      <td>4124</td>\n",
       "      <td>32.0</td>\n",
       "      <td>1</td>\n",
       "      <td>0</td>\n",
       "      <td>M</td>\n",
       "      <td>сотрудник</td>\n",
       "      <td>0</td>\n",
       "      <td>267628</td>\n",
       "      <td>дополнительное образование</td>\n",
       "      <td>B</td>\n",
       "    </tr>\n",
       "    <tr>\n",
       "      <th>4</th>\n",
       "      <td>0</td>\n",
       "      <td>340266</td>\n",
       "      <td>53.0</td>\n",
       "      <td>1</td>\n",
       "      <td>1</td>\n",
       "      <td>F</td>\n",
       "      <td>пенсионер</td>\n",
       "      <td>0</td>\n",
       "      <td>158616</td>\n",
       "      <td>сыграть свадьбу</td>\n",
       "      <td>C</td>\n",
       "    </tr>\n",
       "  </tbody>\n",
       "</table>\n",
       "</div>"
      ],
      "text/plain": [
       "   children  days_employed  dob_years  education_id  family_status_id gender  \\\n",
       "0         1           8437       42.0             0                 0      F   \n",
       "1         1           4024       36.0             1                 0      F   \n",
       "2         0           5623       33.0             1                 0      M   \n",
       "3         3           4124       32.0             1                 0      M   \n",
       "4         0         340266       53.0             1                 1      F   \n",
       "\n",
       "  income_type  debt  total_income                     purpose  \\\n",
       "0   сотрудник     0        253875               покупка жилья   \n",
       "1   сотрудник     0        112080     приобретение автомобиля   \n",
       "2   сотрудник     0        145885               покупка жилья   \n",
       "3   сотрудник     0        267628  дополнительное образование   \n",
       "4   пенсионер     0        158616             сыграть свадьбу   \n",
       "\n",
       "  total_income_category  \n",
       "0                     B  \n",
       "1                     C  \n",
       "2                     C  \n",
       "3                     B  \n",
       "4                     C  "
      ]
     },
     "execution_count": 42,
     "metadata": {},
     "output_type": "execute_result"
    }
   ],
   "source": [
    "df.head()"
   ]
  },
  {
   "cell_type": "markdown",
   "id": "2bacad6a",
   "metadata": {},
   "source": [
    "Статистика по категориям дохода:"
   ]
  },
  {
   "cell_type": "code",
   "execution_count": 43,
   "id": "f1bb755a",
   "metadata": {},
   "outputs": [
    {
     "data": {
      "text/plain": [
       "C    16031\n",
       "B     5042\n",
       "D      350\n",
       "A       25\n",
       "E       22\n",
       "Name: total_income_category, dtype: int64"
      ]
     },
     "execution_count": 43,
     "metadata": {},
     "output_type": "execute_result"
    }
   ],
   "source": [
    "df['total_income_category'].value_counts()"
   ]
  },
  {
   "cell_type": "markdown",
   "id": "76118748",
   "metadata": {},
   "source": [
    "### Шаг 2.7. Категоризация целей кредита."
   ]
  },
  {
   "cell_type": "markdown",
   "id": "79982d4c",
   "metadata": {},
   "source": [
    "Создайте функцию, которая на основании данных из столбца `purpose` сформирует новый столбец `purpose_category`, в который войдут следующие категории:\n",
    "\n",
    "* 'операции с автомобилем',\n",
    "* 'операции с недвижимостью',\n",
    "* 'проведение свадьбы',\n",
    "* 'получение образования'.\n",
    "\n",
    "Например, если в столбце `purpose` находится подстрока `'на покупку автомобиля'`, то в столбце `purpose_category` должна появиться строка `'операции с автомобилем'`.\n",
    "Вы можете использовать собственную функцию и метод `apply()`. Изучите данные в столбце `purpose` и определите, какие подстроки помогут вам правильно определить категорию."
   ]
  },
  {
   "cell_type": "markdown",
   "id": "0f0d9cb8",
   "metadata": {},
   "source": [
    "Изучаем данные в столбце `purpose`:"
   ]
  },
  {
   "cell_type": "code",
   "execution_count": 44,
   "id": "8fe321b8",
   "metadata": {},
   "outputs": [
    {
     "data": {
      "text/plain": [
       "свадьба                                   793\n",
       "на проведение свадьбы                     772\n",
       "сыграть свадьбу                           769\n",
       "операции с недвижимостью                  675\n",
       "покупка коммерческой недвижимости         662\n",
       "операции с жильем                         652\n",
       "покупка жилья для сдачи                   652\n",
       "операции с коммерческой недвижимостью     650\n",
       "жилье                                     646\n",
       "покупка жилья                             646\n",
       "покупка жилья для семьи                   638\n",
       "строительство собственной недвижимости    635\n",
       "недвижимость                              633\n",
       "операции со своей недвижимостью           627\n",
       "строительство жилой недвижимости          625\n",
       "покупка недвижимости                      621\n",
       "покупка своего жилья                      620\n",
       "строительство недвижимости                619\n",
       "ремонт жилью                              607\n",
       "покупка жилой недвижимости                606\n",
       "на покупку своего автомобиля              505\n",
       "заняться высшим образованием              496\n",
       "автомобиль                                494\n",
       "сделка с подержанным автомобилем          486\n",
       "свой автомобиль                           479\n",
       "на покупку подержанного автомобиля        478\n",
       "автомобили                                478\n",
       "на покупку автомобиля                     472\n",
       "приобретение автомобиля                   461\n",
       "дополнительное образование                460\n",
       "сделка с автомобилем                      455\n",
       "высшее образование                        452\n",
       "образование                               447\n",
       "получение дополнительного образования     447\n",
       "получение образования                     442\n",
       "профильное образование                    436\n",
       "получение высшего образования             426\n",
       "заняться образованием                     408\n",
       "Name: purpose, dtype: int64"
      ]
     },
     "execution_count": 44,
     "metadata": {},
     "output_type": "execute_result"
    }
   ],
   "source": [
    "df['purpose'].value_counts()"
   ]
  },
  {
   "cell_type": "markdown",
   "id": "d45560d2",
   "metadata": {},
   "source": [
    "Создаем функцию, которая будет определять категории взависимости от цели кредита:"
   ]
  },
  {
   "cell_type": "code",
   "execution_count": 45,
   "id": "3ffc794f",
   "metadata": {},
   "outputs": [],
   "source": [
    "def purpose_category(purpose):\n",
    "    try:\n",
    "        if 'жиль' in purpose or 'недвижим' in purpose:\n",
    "            return 'операции с недвижимостью'\n",
    "        if 'свадьб' in purpose:\n",
    "            return 'проведение свадьбы'\n",
    "        if 'автомобил' in purpose:\n",
    "            return 'операции с автомобилем'\n",
    "        if 'образовани' in purpose:\n",
    "            return 'получение образования'\n",
    "    except:\n",
    "        return 'без категории'"
   ]
  },
  {
   "cell_type": "markdown",
   "id": "1ba92fd6",
   "metadata": {},
   "source": [
    "Проверяем работу функции:"
   ]
  },
  {
   "cell_type": "code",
   "execution_count": 46,
   "id": "d95f060f",
   "metadata": {},
   "outputs": [
    {
     "data": {
      "text/plain": [
       "'проведение свадьбы'"
      ]
     },
     "execution_count": 46,
     "metadata": {},
     "output_type": "execute_result"
    }
   ],
   "source": [
    "purpose_category('свадьба')"
   ]
  },
  {
   "cell_type": "markdown",
   "id": "dbf6578b",
   "metadata": {},
   "source": [
    "Создаем столбец категорий:"
   ]
  },
  {
   "cell_type": "code",
   "execution_count": 47,
   "id": "aee29320",
   "metadata": {},
   "outputs": [],
   "source": [
    "df['purpose_category'] = df['purpose'].apply(purpose_category)"
   ]
  },
  {
   "cell_type": "markdown",
   "id": "f7fa6749",
   "metadata": {},
   "source": [
    "Проверяем значеня категорий в столбце:"
   ]
  },
  {
   "cell_type": "code",
   "execution_count": 48,
   "id": "f838128a",
   "metadata": {},
   "outputs": [
    {
     "data": {
      "text/plain": [
       "операции с недвижимостью    10814\n",
       "операции с автомобилем       4308\n",
       "получение образования        4014\n",
       "проведение свадьбы           2334\n",
       "Name: purpose_category, dtype: int64"
      ]
     },
     "execution_count": 48,
     "metadata": {},
     "output_type": "execute_result"
    }
   ],
   "source": [
    "df['purpose_category'].value_counts()"
   ]
  },
  {
   "cell_type": "code",
   "execution_count": 49,
   "id": "b91800c2",
   "metadata": {},
   "outputs": [
    {
     "data": {
      "text/html": [
       "<div>\n",
       "<style scoped>\n",
       "    .dataframe tbody tr th:only-of-type {\n",
       "        vertical-align: middle;\n",
       "    }\n",
       "\n",
       "    .dataframe tbody tr th {\n",
       "        vertical-align: top;\n",
       "    }\n",
       "\n",
       "    .dataframe thead th {\n",
       "        text-align: right;\n",
       "    }\n",
       "</style>\n",
       "<table border=\"1\" class=\"dataframe\">\n",
       "  <thead>\n",
       "    <tr style=\"text-align: right;\">\n",
       "      <th></th>\n",
       "      <th>children</th>\n",
       "      <th>days_employed</th>\n",
       "      <th>dob_years</th>\n",
       "      <th>education_id</th>\n",
       "      <th>family_status_id</th>\n",
       "      <th>gender</th>\n",
       "      <th>income_type</th>\n",
       "      <th>debt</th>\n",
       "      <th>total_income</th>\n",
       "      <th>purpose</th>\n",
       "      <th>total_income_category</th>\n",
       "      <th>purpose_category</th>\n",
       "    </tr>\n",
       "  </thead>\n",
       "  <tbody>\n",
       "    <tr>\n",
       "      <th>0</th>\n",
       "      <td>1</td>\n",
       "      <td>8437</td>\n",
       "      <td>42.0</td>\n",
       "      <td>0</td>\n",
       "      <td>0</td>\n",
       "      <td>F</td>\n",
       "      <td>сотрудник</td>\n",
       "      <td>0</td>\n",
       "      <td>253875</td>\n",
       "      <td>покупка жилья</td>\n",
       "      <td>B</td>\n",
       "      <td>операции с недвижимостью</td>\n",
       "    </tr>\n",
       "    <tr>\n",
       "      <th>1</th>\n",
       "      <td>1</td>\n",
       "      <td>4024</td>\n",
       "      <td>36.0</td>\n",
       "      <td>1</td>\n",
       "      <td>0</td>\n",
       "      <td>F</td>\n",
       "      <td>сотрудник</td>\n",
       "      <td>0</td>\n",
       "      <td>112080</td>\n",
       "      <td>приобретение автомобиля</td>\n",
       "      <td>C</td>\n",
       "      <td>операции с автомобилем</td>\n",
       "    </tr>\n",
       "    <tr>\n",
       "      <th>2</th>\n",
       "      <td>0</td>\n",
       "      <td>5623</td>\n",
       "      <td>33.0</td>\n",
       "      <td>1</td>\n",
       "      <td>0</td>\n",
       "      <td>M</td>\n",
       "      <td>сотрудник</td>\n",
       "      <td>0</td>\n",
       "      <td>145885</td>\n",
       "      <td>покупка жилья</td>\n",
       "      <td>C</td>\n",
       "      <td>операции с недвижимостью</td>\n",
       "    </tr>\n",
       "    <tr>\n",
       "      <th>3</th>\n",
       "      <td>3</td>\n",
       "      <td>4124</td>\n",
       "      <td>32.0</td>\n",
       "      <td>1</td>\n",
       "      <td>0</td>\n",
       "      <td>M</td>\n",
       "      <td>сотрудник</td>\n",
       "      <td>0</td>\n",
       "      <td>267628</td>\n",
       "      <td>дополнительное образование</td>\n",
       "      <td>B</td>\n",
       "      <td>получение образования</td>\n",
       "    </tr>\n",
       "    <tr>\n",
       "      <th>4</th>\n",
       "      <td>0</td>\n",
       "      <td>340266</td>\n",
       "      <td>53.0</td>\n",
       "      <td>1</td>\n",
       "      <td>1</td>\n",
       "      <td>F</td>\n",
       "      <td>пенсионер</td>\n",
       "      <td>0</td>\n",
       "      <td>158616</td>\n",
       "      <td>сыграть свадьбу</td>\n",
       "      <td>C</td>\n",
       "      <td>проведение свадьбы</td>\n",
       "    </tr>\n",
       "  </tbody>\n",
       "</table>\n",
       "</div>"
      ],
      "text/plain": [
       "   children  days_employed  dob_years  education_id  family_status_id gender  \\\n",
       "0         1           8437       42.0             0                 0      F   \n",
       "1         1           4024       36.0             1                 0      F   \n",
       "2         0           5623       33.0             1                 0      M   \n",
       "3         3           4124       32.0             1                 0      M   \n",
       "4         0         340266       53.0             1                 1      F   \n",
       "\n",
       "  income_type  debt  total_income                     purpose  \\\n",
       "0   сотрудник     0        253875               покупка жилья   \n",
       "1   сотрудник     0        112080     приобретение автомобиля   \n",
       "2   сотрудник     0        145885               покупка жилья   \n",
       "3   сотрудник     0        267628  дополнительное образование   \n",
       "4   пенсионер     0        158616             сыграть свадьбу   \n",
       "\n",
       "  total_income_category          purpose_category  \n",
       "0                     B  операции с недвижимостью  \n",
       "1                     C    операции с автомобилем  \n",
       "2                     C  операции с недвижимостью  \n",
       "3                     B     получение образования  \n",
       "4                     C        проведение свадьбы  "
      ]
     },
     "execution_count": 49,
     "metadata": {},
     "output_type": "execute_result"
    }
   ],
   "source": [
    "df.head()"
   ]
  },
  {
   "cell_type": "markdown",
   "id": "75c85e77",
   "metadata": {},
   "source": [
    "<b>Резюме</b>\n",
    "\n",
    "В ходе предобработки данных были выполнены следующие шаги:\n",
    "\n",
    "- Были заполнены пропуски общим медианным значением по столбцу total_income\n",
    "- Проверены и исправлены аномалии в данных. \n",
    "- Изменены типы данных столбца total_income и days_employed. \n",
    "- Удалены дубликаты в столбце education, присвоен нижний регистр. \n",
    "- Создана два новых словаря education и family_status\n",
    "- Проведена категоризация дохода и целе кредита. \n",
    "\n",
    "Большинство имеет доход от 50001 до 200000. Наиболее востребованная цель кредита - операции с недвижимостью.\n"
   ]
  },
  {
   "cell_type": "markdown",
   "id": "1b0300dc",
   "metadata": {},
   "source": [
    "### Ответы на вопросы."
   ]
  },
  {
   "cell_type": "markdown",
   "id": "3338f709",
   "metadata": {},
   "source": [
    "##### Вопрос 1:"
   ]
  },
  {
   "cell_type": "markdown",
   "id": "54962153",
   "metadata": {},
   "source": [
    "Есть ли зависимость между количеством детей и возвратом кредита в срок?"
   ]
  },
  {
   "cell_type": "markdown",
   "id": "5a85b065",
   "metadata": {},
   "source": [
    "##### Вывод 1:"
   ]
  },
  {
   "cell_type": "markdown",
   "id": "7387f139",
   "metadata": {},
   "source": [
    "Построим сводную таблицу для ответа на вопрос:"
   ]
  },
  {
   "cell_type": "code",
   "execution_count": 50,
   "id": "b94595d6",
   "metadata": {},
   "outputs": [
    {
     "data": {
      "text/html": [
       "<div>\n",
       "<style scoped>\n",
       "    .dataframe tbody tr th:only-of-type {\n",
       "        vertical-align: middle;\n",
       "    }\n",
       "\n",
       "    .dataframe tbody tr th {\n",
       "        vertical-align: top;\n",
       "    }\n",
       "\n",
       "    .dataframe thead th {\n",
       "        text-align: right;\n",
       "    }\n",
       "</style>\n",
       "<table border=\"1\" class=\"dataframe\">\n",
       "  <thead>\n",
       "    <tr style=\"text-align: right;\">\n",
       "      <th></th>\n",
       "      <th>debt</th>\n",
       "    </tr>\n",
       "    <tr>\n",
       "      <th>children</th>\n",
       "      <th></th>\n",
       "    </tr>\n",
       "  </thead>\n",
       "  <tbody>\n",
       "    <tr>\n",
       "      <th>4</th>\n",
       "      <td>0.0976</td>\n",
       "    </tr>\n",
       "    <tr>\n",
       "      <th>2</th>\n",
       "      <td>0.0949</td>\n",
       "    </tr>\n",
       "    <tr>\n",
       "      <th>1</th>\n",
       "      <td>0.0916</td>\n",
       "    </tr>\n",
       "    <tr>\n",
       "      <th>3</th>\n",
       "      <td>0.0818</td>\n",
       "    </tr>\n",
       "    <tr>\n",
       "      <th>0</th>\n",
       "      <td>0.0754</td>\n",
       "    </tr>\n",
       "    <tr>\n",
       "      <th>5</th>\n",
       "      <td>0.0000</td>\n",
       "    </tr>\n",
       "  </tbody>\n",
       "</table>\n",
       "</div>"
      ],
      "text/plain": [
       "           debt\n",
       "children       \n",
       "4        0.0976\n",
       "2        0.0949\n",
       "1        0.0916\n",
       "3        0.0818\n",
       "0        0.0754\n",
       "5        0.0000"
      ]
     },
     "execution_count": 50,
     "metadata": {},
     "output_type": "execute_result"
    }
   ],
   "source": [
    "children_debt = df.pivot_table(index=['children'], values = 'debt', aggfunc='mean').sort_values(by = 'debt', ascending = False)\n",
    "pd.options.display.float_format = '{:,.4f}'.format\n",
    "children_debt"
   ]
  },
  {
   "cell_type": "markdown",
   "id": "9607cb05",
   "metadata": {},
   "source": [
    "**ВЫВОД:**\n",
    "Наиболее рискованной категорией для выдачи кредитов по наличию и количеству детей являются семьи, в которых 4 ребенка. Доля нарушений графика платежей для них будет равна 9,76%. Лучшие заемщики для банка - те, у которых нет детей, доля проблемных кредитов 7,5%."
   ]
  },
  {
   "cell_type": "markdown",
   "id": "31d25aeb",
   "metadata": {},
   "source": [
    "##### Вопрос 2:"
   ]
  },
  {
   "cell_type": "markdown",
   "id": "f6fdeaeb",
   "metadata": {},
   "source": [
    "Есть ли зависимость между семейным положением и возвратом кредита в срок?"
   ]
  },
  {
   "cell_type": "markdown",
   "id": "d06e782b",
   "metadata": {},
   "source": [
    "##### Вывод 2:"
   ]
  },
  {
   "cell_type": "markdown",
   "id": "fab1bbc7",
   "metadata": {},
   "source": [
    "Строим сводную таблицу для ответа на вопрос со столбцом доли невозврата кредита:"
   ]
  },
  {
   "cell_type": "code",
   "execution_count": 51,
   "id": "e1f8a25e",
   "metadata": {},
   "outputs": [
    {
     "data": {
      "text/html": [
       "<div>\n",
       "<style scoped>\n",
       "    .dataframe tbody tr th:only-of-type {\n",
       "        vertical-align: middle;\n",
       "    }\n",
       "\n",
       "    .dataframe tbody tr th {\n",
       "        vertical-align: top;\n",
       "    }\n",
       "\n",
       "    .dataframe thead th {\n",
       "        text-align: right;\n",
       "    }\n",
       "</style>\n",
       "<table border=\"1\" class=\"dataframe\">\n",
       "  <thead>\n",
       "    <tr style=\"text-align: right;\">\n",
       "      <th></th>\n",
       "      <th>debt</th>\n",
       "    </tr>\n",
       "    <tr>\n",
       "      <th>family_status_id</th>\n",
       "      <th></th>\n",
       "    </tr>\n",
       "  </thead>\n",
       "  <tbody>\n",
       "    <tr>\n",
       "      <th>4</th>\n",
       "      <td>0.0975</td>\n",
       "    </tr>\n",
       "    <tr>\n",
       "      <th>1</th>\n",
       "      <td>0.0932</td>\n",
       "    </tr>\n",
       "    <tr>\n",
       "      <th>0</th>\n",
       "      <td>0.0754</td>\n",
       "    </tr>\n",
       "    <tr>\n",
       "      <th>3</th>\n",
       "      <td>0.0711</td>\n",
       "    </tr>\n",
       "    <tr>\n",
       "      <th>2</th>\n",
       "      <td>0.0657</td>\n",
       "    </tr>\n",
       "  </tbody>\n",
       "</table>\n",
       "</div>"
      ],
      "text/plain": [
       "                   debt\n",
       "family_status_id       \n",
       "4                0.0975\n",
       "1                0.0932\n",
       "0                0.0754\n",
       "3                0.0711\n",
       "2                0.0657"
      ]
     },
     "metadata": {},
     "output_type": "display_data"
    },
    {
     "data": {
      "text/html": [
       "<div>\n",
       "<style scoped>\n",
       "    .dataframe tbody tr th:only-of-type {\n",
       "        vertical-align: middle;\n",
       "    }\n",
       "\n",
       "    .dataframe tbody tr th {\n",
       "        vertical-align: top;\n",
       "    }\n",
       "\n",
       "    .dataframe thead th {\n",
       "        text-align: right;\n",
       "    }\n",
       "</style>\n",
       "<table border=\"1\" class=\"dataframe\">\n",
       "  <thead>\n",
       "    <tr style=\"text-align: right;\">\n",
       "      <th></th>\n",
       "      <th>family_status</th>\n",
       "      <th>family_status_id</th>\n",
       "    </tr>\n",
       "  </thead>\n",
       "  <tbody>\n",
       "    <tr>\n",
       "      <th>0</th>\n",
       "      <td>женат / замужем</td>\n",
       "      <td>0</td>\n",
       "    </tr>\n",
       "    <tr>\n",
       "      <th>1</th>\n",
       "      <td>гражданский брак</td>\n",
       "      <td>1</td>\n",
       "    </tr>\n",
       "    <tr>\n",
       "      <th>2</th>\n",
       "      <td>вдовец / вдова</td>\n",
       "      <td>2</td>\n",
       "    </tr>\n",
       "    <tr>\n",
       "      <th>3</th>\n",
       "      <td>в разводе</td>\n",
       "      <td>3</td>\n",
       "    </tr>\n",
       "    <tr>\n",
       "      <th>4</th>\n",
       "      <td>Не женат / не замужем</td>\n",
       "      <td>4</td>\n",
       "    </tr>\n",
       "  </tbody>\n",
       "</table>\n",
       "</div>"
      ],
      "text/plain": [
       "           family_status  family_status_id\n",
       "0        женат / замужем                 0\n",
       "1       гражданский брак                 1\n",
       "2         вдовец / вдова                 2\n",
       "3              в разводе                 3\n",
       "4  Не женат / не замужем                 4"
      ]
     },
     "metadata": {},
     "output_type": "display_data"
    }
   ],
   "source": [
    "family_debt = df.pivot_table(index=['family_status_id'], values = 'debt', aggfunc='mean').sort_values(by = 'debt', ascending = False)\n",
    "\n",
    "display(family_debt)\n",
    "\n",
    "display(df_family_status)"
   ]
  },
  {
   "cell_type": "markdown",
   "id": "dc5667ed",
   "metadata": {},
   "source": [
    "**ВЫВОД**\n",
    "\n",
    "Неженатые и незамужние чаще других совершают просрочки по кредиту - 9.75%. Реже всех группа с семейным статусом вдовец / вдова - 6.5%\n"
   ]
  },
  {
   "cell_type": "markdown",
   "id": "655daae5",
   "metadata": {},
   "source": [
    "##### Вопрос 3:"
   ]
  },
  {
   "cell_type": "markdown",
   "id": "a01d6868",
   "metadata": {},
   "source": [
    "Есть ли зависимость между уровнем дохода и возвратом кредита в срок?"
   ]
  },
  {
   "cell_type": "markdown",
   "id": "bd964d6b",
   "metadata": {},
   "source": [
    "##### Вывод 3:"
   ]
  },
  {
   "cell_type": "markdown",
   "id": "332b4ec0",
   "metadata": {},
   "source": [
    "Построим сводную таблицу для ответа на вопрос:"
   ]
  },
  {
   "cell_type": "code",
   "execution_count": 52,
   "id": "4ef91dd5",
   "metadata": {},
   "outputs": [
    {
     "data": {
      "text/html": [
       "<div>\n",
       "<style scoped>\n",
       "    .dataframe tbody tr th:only-of-type {\n",
       "        vertical-align: middle;\n",
       "    }\n",
       "\n",
       "    .dataframe tbody tr th {\n",
       "        vertical-align: top;\n",
       "    }\n",
       "\n",
       "    .dataframe thead th {\n",
       "        text-align: right;\n",
       "    }\n",
       "</style>\n",
       "<table border=\"1\" class=\"dataframe\">\n",
       "  <thead>\n",
       "    <tr style=\"text-align: right;\">\n",
       "      <th></th>\n",
       "      <th>debt</th>\n",
       "    </tr>\n",
       "    <tr>\n",
       "      <th>total_income_category</th>\n",
       "      <th></th>\n",
       "    </tr>\n",
       "  </thead>\n",
       "  <tbody>\n",
       "    <tr>\n",
       "      <th>E</th>\n",
       "      <td>0.0909</td>\n",
       "    </tr>\n",
       "    <tr>\n",
       "      <th>C</th>\n",
       "      <td>0.0848</td>\n",
       "    </tr>\n",
       "    <tr>\n",
       "      <th>A</th>\n",
       "      <td>0.0800</td>\n",
       "    </tr>\n",
       "    <tr>\n",
       "      <th>B</th>\n",
       "      <td>0.0706</td>\n",
       "    </tr>\n",
       "    <tr>\n",
       "      <th>D</th>\n",
       "      <td>0.0600</td>\n",
       "    </tr>\n",
       "  </tbody>\n",
       "</table>\n",
       "</div>"
      ],
      "text/plain": [
       "                        debt\n",
       "total_income_category       \n",
       "E                     0.0909\n",
       "C                     0.0848\n",
       "A                     0.0800\n",
       "B                     0.0706\n",
       "D                     0.0600"
      ]
     },
     "execution_count": 52,
     "metadata": {},
     "output_type": "execute_result"
    }
   ],
   "source": [
    "income_debt = df.pivot_table(index=['total_income_category'], values = 'debt', aggfunc='mean').sort_values(by = 'debt', ascending = False)\n",
    "\n",
    "income_debt"
   ]
  },
  {
   "cell_type": "markdown",
   "id": "91e9d0bb",
   "metadata": {},
   "source": [
    "**ВЫВОД**\n",
    "\n",
    "Наименьший риск невозврата кредита в срок у категории D с доходом от 30001 до 50000. (6%)\n",
    "Наиболее высокий риск невозврата кредита в срок у группы E с доходом до 30000 тысяч - 9.09%"
   ]
  },
  {
   "cell_type": "markdown",
   "id": "a03bcff2",
   "metadata": {},
   "source": [
    "##### Вопрос 4:"
   ]
  },
  {
   "cell_type": "markdown",
   "id": "89158783",
   "metadata": {},
   "source": [
    "Как разные цели кредита влияют на его возврат в срок?"
   ]
  },
  {
   "cell_type": "markdown",
   "id": "7cf0d76b",
   "metadata": {},
   "source": [
    "##### Вывод 4:"
   ]
  },
  {
   "cell_type": "code",
   "execution_count": 53,
   "id": "6efa3fa9",
   "metadata": {
    "scrolled": true
   },
   "outputs": [
    {
     "data": {
      "text/html": [
       "<div>\n",
       "<style scoped>\n",
       "    .dataframe tbody tr th:only-of-type {\n",
       "        vertical-align: middle;\n",
       "    }\n",
       "\n",
       "    .dataframe tbody tr th {\n",
       "        vertical-align: top;\n",
       "    }\n",
       "\n",
       "    .dataframe thead th {\n",
       "        text-align: right;\n",
       "    }\n",
       "</style>\n",
       "<table border=\"1\" class=\"dataframe\">\n",
       "  <thead>\n",
       "    <tr style=\"text-align: right;\">\n",
       "      <th></th>\n",
       "      <th>debt</th>\n",
       "    </tr>\n",
       "    <tr>\n",
       "      <th>purpose_category</th>\n",
       "      <th></th>\n",
       "    </tr>\n",
       "  </thead>\n",
       "  <tbody>\n",
       "    <tr>\n",
       "      <th>операции с автомобилем</th>\n",
       "      <td>0.0935</td>\n",
       "    </tr>\n",
       "    <tr>\n",
       "      <th>получение образования</th>\n",
       "      <td>0.0922</td>\n",
       "    </tr>\n",
       "    <tr>\n",
       "      <th>проведение свадьбы</th>\n",
       "      <td>0.0797</td>\n",
       "    </tr>\n",
       "    <tr>\n",
       "      <th>операции с недвижимостью</th>\n",
       "      <td>0.0723</td>\n",
       "    </tr>\n",
       "  </tbody>\n",
       "</table>\n",
       "</div>"
      ],
      "text/plain": [
       "                           debt\n",
       "purpose_category               \n",
       "операции с автомобилем   0.0935\n",
       "получение образования    0.0922\n",
       "проведение свадьбы       0.0797\n",
       "операции с недвижимостью 0.0723"
      ]
     },
     "execution_count": 53,
     "metadata": {},
     "output_type": "execute_result"
    }
   ],
   "source": [
    "purpose_debt = df.pivot_table(index=['purpose_category'], values = 'debt', aggfunc='mean').sort_values(by = 'debt', ascending = False)\n",
    "\n",
    "purpose_debt"
   ]
  },
  {
   "cell_type": "markdown",
   "id": "9bb7d7df",
   "metadata": {},
   "source": [
    "##### **ВЫВОД**\n",
    "\n",
    "Доля просрочек кредитов с целью \"операции с недвижимостью самая низкая и составляет 7.23%. Самый высокий риск невозврата у кредитов с целью \"операции с автомобилем\" - 9.35%"
   ]
  },
  {
   "cell_type": "code",
   "execution_count": 55,
   "id": "c4941887",
   "metadata": {},
   "outputs": [
    {
     "data": {
      "text/html": [
       "<div>\n",
       "<style scoped>\n",
       "    .dataframe tbody tr th:only-of-type {\n",
       "        vertical-align: middle;\n",
       "    }\n",
       "\n",
       "    .dataframe tbody tr th {\n",
       "        vertical-align: top;\n",
       "    }\n",
       "\n",
       "    .dataframe thead th {\n",
       "        text-align: right;\n",
       "    }\n",
       "</style>\n",
       "<table border=\"1\" class=\"dataframe\">\n",
       "  <thead>\n",
       "    <tr style=\"text-align: right;\">\n",
       "      <th></th>\n",
       "      <th>purpose_category</th>\n",
       "      <th>count</th>\n",
       "      <th>mean</th>\n",
       "      <th>sum</th>\n",
       "    </tr>\n",
       "  </thead>\n",
       "  <tbody>\n",
       "    <tr>\n",
       "      <th>0</th>\n",
       "      <td>операции с автомобилем</td>\n",
       "      <td>4,308.0000</td>\n",
       "      <td>0.0935</td>\n",
       "      <td>403.0000</td>\n",
       "    </tr>\n",
       "    <tr>\n",
       "      <th>1</th>\n",
       "      <td>операции с недвижимостью</td>\n",
       "      <td>10,814.0000</td>\n",
       "      <td>0.0723</td>\n",
       "      <td>782.0000</td>\n",
       "    </tr>\n",
       "    <tr>\n",
       "      <th>2</th>\n",
       "      <td>получение образования</td>\n",
       "      <td>4,014.0000</td>\n",
       "      <td>0.0922</td>\n",
       "      <td>370.0000</td>\n",
       "    </tr>\n",
       "    <tr>\n",
       "      <th>3</th>\n",
       "      <td>проведение свадьбы</td>\n",
       "      <td>2,334.0000</td>\n",
       "      <td>0.0797</td>\n",
       "      <td>186.0000</td>\n",
       "    </tr>\n",
       "  </tbody>\n",
       "</table>\n",
       "</div>"
      ],
      "text/plain": [
       "           purpose_category       count   mean      sum\n",
       "0    операции с автомобилем  4,308.0000 0.0935 403.0000\n",
       "1  операции с недвижимостью 10,814.0000 0.0723 782.0000\n",
       "2     получение образования  4,014.0000 0.0922 370.0000\n",
       "3        проведение свадьбы  2,334.0000 0.0797 186.0000"
      ]
     },
     "execution_count": 55,
     "metadata": {},
     "output_type": "execute_result"
    }
   ],
   "source": [
    "# код ревьюера\n",
    "df.pivot_table(index=['purpose_category'], values = 'debt', aggfunc=('count', 'sum', 'mean')).reset_index()"
   ]
  },
  {
   "cell_type": "markdown",
   "id": "1edf3329",
   "metadata": {},
   "source": [
    "## Общий вывод:"
   ]
  },
  {
   "cell_type": "markdown",
   "id": "9125f8f2",
   "metadata": {},
   "source": [
    "**В ходе работы были выполнены следующие шаги:**\n",
    "\n",
    "- Были заполнены пропуски общим медианным значением по столбцу total_income\n",
    "- Проверены и исправлены аномалии в данных. \n",
    "- Изменены типы данных столбца total_income и days_employed. \n",
    "- Удалены дубликаты в столбце education, присвоен нижний регистр. \n",
    "- Создана два новых словаря education и family_status\n",
    "- Проведена категоризация дохода и целе кредита. \n",
    "\n",
    "Большинство имеет доход от 50001 до 200000. Наиболее востребованная цель кредита - операции с недвижимостью.\n",
    "\n",
    "**Проверены гипотезы:**\n",
    "\n",
    "* Есть ли зависимость между наличием детей и возвратом кредита в срок?\n",
    "\n",
    "Наиболее рискованной категорией для выдачи кредитов по наличию и количеству детей являются семьи, в которых 4 ребенка. Доля нарушений графика платежей для них будет равна 9,76%. Лучшие заемщики для банка - те, у которых нет детей, доля проблемных кредитов 7,5%.\n",
    "\n",
    "* Есть ли зависимость между семейным положением и возвратом кредита в срок?\n",
    "\n",
    "\n",
    "Неженатые и незамужние чаще других совершают просрочки по кредиту - 9.75%. Реже всех группа с семейным статусом вдовец / вдова - 6.5%\n",
    "\n",
    "* Есть ли зависимость между уровнем дохода и возвратом кредита в срок?\n",
    "\n",
    "Наименьший риск невозврата кредита в срок у категории D с доходом от 30001 до 50000. (6%)\n",
    "Наиболее высокий риск невозврата кредита в срок у группы E с доходом до 30000 тысяч - 9.09%\n",
    "\n",
    "* Как разные цели кредита влияют на его возврат в срок?\n",
    "\n",
    "Доля просрочек кредитов с целью \"операции с недвижимостью самая низкая и составляет 7.2%. Самый высокий риск невозврата у кредитов с целью \"операции с автомобилем\" - 9.3%\n",
    "\n",
    "<b>Рекомендации: </b>\n",
    "\n",
    "При построении модели кредитного скоринга рекомендуется учитывать все данные факторы, рассмотренные выше: наличие детей, семейное положение, уровень дохода, цель кредита."
   ]
  }
 ],
 "metadata": {
  "ExecuteTimeLog": [
   {
    "duration": 429,
    "start_time": "2022-04-08T07:02:45.794Z"
   },
   {
    "duration": 52,
    "start_time": "2022-04-08T07:02:50.038Z"
   },
   {
    "duration": 75,
    "start_time": "2022-04-08T07:03:01.685Z"
   },
   {
    "duration": 67,
    "start_time": "2022-04-08T07:03:37.699Z"
   },
   {
    "duration": 61,
    "start_time": "2022-04-08T07:05:23.841Z"
   },
   {
    "duration": 62,
    "start_time": "2022-04-08T07:05:43.879Z"
   },
   {
    "duration": 64,
    "start_time": "2022-04-08T07:06:28.117Z"
   },
   {
    "duration": 61,
    "start_time": "2022-04-08T07:07:06.953Z"
   },
   {
    "duration": 61,
    "start_time": "2022-04-08T07:07:14.477Z"
   },
   {
    "duration": 60,
    "start_time": "2022-04-08T07:07:21.129Z"
   },
   {
    "duration": 63,
    "start_time": "2022-04-08T07:07:27.449Z"
   },
   {
    "duration": 46,
    "start_time": "2022-04-10T06:22:18.510Z"
   },
   {
    "duration": 489,
    "start_time": "2022-04-10T06:22:21.055Z"
   },
   {
    "duration": 16,
    "start_time": "2022-04-10T06:22:24.758Z"
   },
   {
    "duration": 17,
    "start_time": "2022-04-10T06:43:58.444Z"
   },
   {
    "duration": 6,
    "start_time": "2022-04-10T06:56:55.994Z"
   },
   {
    "duration": 6,
    "start_time": "2022-04-10T06:57:07.586Z"
   },
   {
    "duration": 21,
    "start_time": "2022-04-10T06:57:33.408Z"
   },
   {
    "duration": 12,
    "start_time": "2022-04-10T06:57:55.248Z"
   },
   {
    "duration": 11,
    "start_time": "2022-04-10T07:53:13.391Z"
   },
   {
    "duration": 30,
    "start_time": "2022-04-10T07:55:56.772Z"
   },
   {
    "duration": 48,
    "start_time": "2022-04-10T07:56:03.336Z"
   },
   {
    "duration": 47,
    "start_time": "2022-04-10T07:56:05.017Z"
   },
   {
    "duration": 11,
    "start_time": "2022-04-10T07:56:05.791Z"
   },
   {
    "duration": 28,
    "start_time": "2022-04-10T07:56:20.771Z"
   },
   {
    "duration": 27,
    "start_time": "2022-04-10T07:57:09.235Z"
   },
   {
    "duration": 17,
    "start_time": "2022-04-10T07:57:32.195Z"
   },
   {
    "duration": 16,
    "start_time": "2022-04-10T07:57:52.835Z"
   },
   {
    "duration": 16,
    "start_time": "2022-04-10T07:57:58.862Z"
   },
   {
    "duration": 14,
    "start_time": "2022-04-10T08:00:11.582Z"
   },
   {
    "duration": 18,
    "start_time": "2022-04-10T08:00:22.572Z"
   },
   {
    "duration": 12,
    "start_time": "2022-04-10T08:01:01.190Z"
   },
   {
    "duration": 15,
    "start_time": "2022-04-10T08:05:54.746Z"
   },
   {
    "duration": 11,
    "start_time": "2022-04-10T08:11:07.914Z"
   },
   {
    "duration": 6,
    "start_time": "2022-04-10T08:21:42.957Z"
   },
   {
    "duration": 10,
    "start_time": "2022-04-10T08:22:10.121Z"
   },
   {
    "duration": 5,
    "start_time": "2022-04-10T08:30:37.116Z"
   },
   {
    "duration": 4,
    "start_time": "2022-04-10T08:30:38.833Z"
   },
   {
    "duration": 10,
    "start_time": "2022-04-10T08:30:40.180Z"
   },
   {
    "duration": 5,
    "start_time": "2022-04-10T08:31:05.883Z"
   },
   {
    "duration": 15,
    "start_time": "2022-04-10T08:46:28.875Z"
   },
   {
    "duration": 5,
    "start_time": "2022-04-10T08:58:53.883Z"
   },
   {
    "duration": 10,
    "start_time": "2022-04-10T08:58:56.712Z"
   },
   {
    "duration": 5,
    "start_time": "2022-04-10T09:00:47.388Z"
   },
   {
    "duration": 5,
    "start_time": "2022-04-10T09:01:05.234Z"
   },
   {
    "duration": 4,
    "start_time": "2022-04-10T09:01:11.757Z"
   },
   {
    "duration": 8,
    "start_time": "2022-04-10T09:01:30.992Z"
   },
   {
    "duration": 7,
    "start_time": "2022-04-10T09:02:27.378Z"
   },
   {
    "duration": 11,
    "start_time": "2022-04-10T09:03:03.818Z"
   },
   {
    "duration": 15,
    "start_time": "2022-04-10T09:06:51.420Z"
   },
   {
    "duration": 10,
    "start_time": "2022-04-10T09:06:57.667Z"
   },
   {
    "duration": 5,
    "start_time": "2022-04-10T09:09:46.168Z"
   },
   {
    "duration": 4,
    "start_time": "2022-04-10T09:10:56.941Z"
   },
   {
    "duration": 17,
    "start_time": "2022-04-10T09:11:00.117Z"
   },
   {
    "duration": 16,
    "start_time": "2022-04-10T09:11:35.173Z"
   },
   {
    "duration": 14,
    "start_time": "2022-04-10T09:11:48.606Z"
   },
   {
    "duration": 16,
    "start_time": "2022-04-10T09:13:49.607Z"
   },
   {
    "duration": 5,
    "start_time": "2022-04-10T10:24:00.658Z"
   },
   {
    "duration": 11,
    "start_time": "2022-04-10T10:24:14.271Z"
   },
   {
    "duration": 6,
    "start_time": "2022-04-10T10:24:47.063Z"
   },
   {
    "duration": 5,
    "start_time": "2022-04-10T10:24:48.956Z"
   },
   {
    "duration": 16,
    "start_time": "2022-04-10T10:24:50.627Z"
   },
   {
    "duration": 10,
    "start_time": "2022-04-10T10:28:57.212Z"
   },
   {
    "duration": 9,
    "start_time": "2022-04-10T10:43:25.141Z"
   },
   {
    "duration": 9,
    "start_time": "2022-04-10T10:43:38.453Z"
   },
   {
    "duration": 5,
    "start_time": "2022-04-10T10:43:52.327Z"
   },
   {
    "duration": 9,
    "start_time": "2022-04-10T10:44:12.759Z"
   },
   {
    "duration": 68,
    "start_time": "2022-04-10T10:44:21.068Z"
   },
   {
    "duration": 59,
    "start_time": "2022-04-10T10:44:22.233Z"
   },
   {
    "duration": 16,
    "start_time": "2022-04-10T10:44:28.262Z"
   },
   {
    "duration": 15,
    "start_time": "2022-04-10T10:44:30.677Z"
   },
   {
    "duration": 15,
    "start_time": "2022-04-10T10:44:36.521Z"
   },
   {
    "duration": 10,
    "start_time": "2022-04-10T10:44:42.214Z"
   },
   {
    "duration": 13,
    "start_time": "2022-04-10T10:44:45.261Z"
   },
   {
    "duration": 12,
    "start_time": "2022-04-10T10:44:56.763Z"
   },
   {
    "duration": 7,
    "start_time": "2022-04-10T10:47:05.145Z"
   },
   {
    "duration": 24,
    "start_time": "2022-04-10T10:57:10.858Z"
   },
   {
    "duration": 9,
    "start_time": "2022-04-10T11:12:36.133Z"
   },
   {
    "duration": 5,
    "start_time": "2022-04-10T11:12:41.873Z"
   },
   {
    "duration": 102,
    "start_time": "2022-04-10T11:18:46.251Z"
   },
   {
    "duration": 7,
    "start_time": "2022-04-10T11:18:54.889Z"
   },
   {
    "duration": 4,
    "start_time": "2022-04-10T11:23:37.171Z"
   },
   {
    "duration": 6,
    "start_time": "2022-04-10T11:23:51.576Z"
   },
   {
    "duration": 26,
    "start_time": "2022-04-10T11:37:12.135Z"
   },
   {
    "duration": 41,
    "start_time": "2022-04-10T11:41:15.909Z"
   },
   {
    "duration": 1112,
    "start_time": "2022-04-10T11:56:43.209Z"
   },
   {
    "duration": 5,
    "start_time": "2022-04-10T11:59:05.200Z"
   },
   {
    "duration": 42,
    "start_time": "2022-04-10T11:59:17.854Z"
   },
   {
    "duration": 116,
    "start_time": "2022-04-10T12:01:00.118Z"
   },
   {
    "duration": 12,
    "start_time": "2022-04-10T12:01:54.051Z"
   },
   {
    "duration": 45,
    "start_time": "2022-04-10T12:02:02.381Z"
   },
   {
    "duration": 52,
    "start_time": "2022-04-10T12:05:03.600Z"
   },
   {
    "duration": 43,
    "start_time": "2022-04-10T12:05:26.127Z"
   },
   {
    "duration": 69,
    "start_time": "2022-04-10T12:05:37.411Z"
   },
   {
    "duration": 16,
    "start_time": "2022-04-10T12:05:37.482Z"
   },
   {
    "duration": 11,
    "start_time": "2022-04-10T12:05:37.500Z"
   },
   {
    "duration": 35,
    "start_time": "2022-04-10T12:05:37.513Z"
   },
   {
    "duration": 10,
    "start_time": "2022-04-10T12:05:37.551Z"
   },
   {
    "duration": 16,
    "start_time": "2022-04-10T12:05:37.563Z"
   },
   {
    "duration": 4,
    "start_time": "2022-04-10T12:05:37.581Z"
   },
   {
    "duration": 12,
    "start_time": "2022-04-10T12:05:37.586Z"
   },
   {
    "duration": 7,
    "start_time": "2022-04-10T12:05:37.600Z"
   },
   {
    "duration": 4,
    "start_time": "2022-04-10T12:05:37.648Z"
   },
   {
    "duration": 48,
    "start_time": "2022-04-10T12:05:37.653Z"
   },
   {
    "duration": 45,
    "start_time": "2022-04-10T12:05:37.703Z"
   },
   {
    "duration": 12,
    "start_time": "2022-04-10T12:05:37.749Z"
   },
   {
    "duration": 4,
    "start_time": "2022-04-10T12:05:37.764Z"
   },
   {
    "duration": 56,
    "start_time": "2022-04-10T12:05:40.075Z"
   },
   {
    "duration": 7,
    "start_time": "2022-04-10T12:06:41.195Z"
   },
   {
    "duration": 5,
    "start_time": "2022-04-10T12:07:03.499Z"
   },
   {
    "duration": 5,
    "start_time": "2022-04-10T12:07:13.436Z"
   },
   {
    "duration": 5,
    "start_time": "2022-04-10T12:07:27.275Z"
   },
   {
    "duration": 6,
    "start_time": "2022-04-10T12:08:05.666Z"
   },
   {
    "duration": 5,
    "start_time": "2022-04-10T12:09:57.614Z"
   },
   {
    "duration": 840,
    "start_time": "2022-04-10T12:11:51.996Z"
   },
   {
    "duration": 5,
    "start_time": "2022-04-10T12:18:00.817Z"
   },
   {
    "duration": 40,
    "start_time": "2022-04-10T12:18:20.998Z"
   },
   {
    "duration": 9,
    "start_time": "2022-04-10T12:19:50.704Z"
   },
   {
    "duration": 5,
    "start_time": "2022-04-10T12:19:52.908Z"
   },
   {
    "duration": 44,
    "start_time": "2022-04-10T12:20:04.460Z"
   },
   {
    "duration": 5,
    "start_time": "2022-04-10T12:27:25.977Z"
   },
   {
    "duration": 47,
    "start_time": "2022-04-10T12:27:30.246Z"
   },
   {
    "duration": 5,
    "start_time": "2022-04-10T12:36:44.408Z"
   },
   {
    "duration": 40,
    "start_time": "2022-04-10T12:36:54.679Z"
   },
   {
    "duration": 11,
    "start_time": "2022-04-10T12:41:19.787Z"
   },
   {
    "duration": 8,
    "start_time": "2022-04-10T12:41:24.975Z"
   },
   {
    "duration": 4,
    "start_time": "2022-04-10T12:41:42.169Z"
   },
   {
    "duration": 4,
    "start_time": "2022-04-10T12:42:53.058Z"
   },
   {
    "duration": 4,
    "start_time": "2022-04-10T12:42:56.353Z"
   },
   {
    "duration": 4,
    "start_time": "2022-04-10T12:43:35.754Z"
   },
   {
    "duration": 4,
    "start_time": "2022-04-10T12:43:38.009Z"
   },
   {
    "duration": 63,
    "start_time": "2022-04-10T12:43:42.965Z"
   },
   {
    "duration": 13,
    "start_time": "2022-04-10T12:43:43.030Z"
   },
   {
    "duration": 12,
    "start_time": "2022-04-10T12:43:43.046Z"
   },
   {
    "duration": 10,
    "start_time": "2022-04-10T12:43:43.060Z"
   },
   {
    "duration": 10,
    "start_time": "2022-04-10T12:43:43.072Z"
   },
   {
    "duration": 15,
    "start_time": "2022-04-10T12:43:43.083Z"
   },
   {
    "duration": 4,
    "start_time": "2022-04-10T12:43:43.100Z"
   },
   {
    "duration": 10,
    "start_time": "2022-04-10T12:43:43.148Z"
   },
   {
    "duration": 7,
    "start_time": "2022-04-10T12:43:43.159Z"
   },
   {
    "duration": 4,
    "start_time": "2022-04-10T12:43:43.168Z"
   },
   {
    "duration": 83,
    "start_time": "2022-04-10T12:43:43.174Z"
   },
   {
    "duration": 4,
    "start_time": "2022-04-10T12:43:43.259Z"
   },
   {
    "duration": 14,
    "start_time": "2022-04-10T12:43:43.265Z"
   },
   {
    "duration": 20,
    "start_time": "2022-04-10T12:43:43.281Z"
   },
   {
    "duration": 5,
    "start_time": "2022-04-10T12:43:43.303Z"
   },
   {
    "duration": 7,
    "start_time": "2022-04-10T12:43:43.309Z"
   },
   {
    "duration": 74,
    "start_time": "2022-04-10T12:43:43.317Z"
   },
   {
    "duration": 4,
    "start_time": "2022-04-10T12:43:43.393Z"
   },
   {
    "duration": 14,
    "start_time": "2022-04-10T12:43:43.399Z"
   },
   {
    "duration": 12,
    "start_time": "2022-04-10T12:46:34.797Z"
   },
   {
    "duration": 12,
    "start_time": "2022-04-10T12:47:38.481Z"
   },
   {
    "duration": 8,
    "start_time": "2022-04-10T12:48:14.261Z"
   },
   {
    "duration": 100,
    "start_time": "2022-04-10T12:48:40.773Z"
   },
   {
    "duration": 21,
    "start_time": "2022-04-10T12:50:30.432Z"
   },
   {
    "duration": 19,
    "start_time": "2022-04-10T12:51:55.716Z"
   },
   {
    "duration": 19,
    "start_time": "2022-04-10T12:52:08.277Z"
   },
   {
    "duration": 19,
    "start_time": "2022-04-10T12:52:17.224Z"
   },
   {
    "duration": 73,
    "start_time": "2022-04-10T12:52:20.550Z"
   },
   {
    "duration": 31,
    "start_time": "2022-04-10T12:52:20.625Z"
   },
   {
    "duration": 14,
    "start_time": "2022-04-10T12:52:20.658Z"
   },
   {
    "duration": 18,
    "start_time": "2022-04-10T12:52:20.674Z"
   },
   {
    "duration": 12,
    "start_time": "2022-04-10T12:52:20.695Z"
   },
   {
    "duration": 50,
    "start_time": "2022-04-10T12:52:20.709Z"
   },
   {
    "duration": 4,
    "start_time": "2022-04-10T12:52:20.761Z"
   },
   {
    "duration": 11,
    "start_time": "2022-04-10T12:52:20.767Z"
   },
   {
    "duration": 9,
    "start_time": "2022-04-10T12:52:20.779Z"
   },
   {
    "duration": 7,
    "start_time": "2022-04-10T12:52:20.789Z"
   },
   {
    "duration": 79,
    "start_time": "2022-04-10T12:52:20.798Z"
   },
   {
    "duration": 4,
    "start_time": "2022-04-10T12:52:20.879Z"
   },
   {
    "duration": 18,
    "start_time": "2022-04-10T12:52:20.885Z"
   },
   {
    "duration": 15,
    "start_time": "2022-04-10T12:52:20.905Z"
   },
   {
    "duration": 6,
    "start_time": "2022-04-10T12:52:20.948Z"
   },
   {
    "duration": 16,
    "start_time": "2022-04-10T12:52:20.956Z"
   },
   {
    "duration": 80,
    "start_time": "2022-04-10T12:52:20.974Z"
   },
   {
    "duration": 4,
    "start_time": "2022-04-10T12:52:21.055Z"
   },
   {
    "duration": 16,
    "start_time": "2022-04-10T12:52:21.061Z"
   },
   {
    "duration": 6,
    "start_time": "2022-04-10T12:52:21.079Z"
   },
   {
    "duration": 20,
    "start_time": "2022-04-10T12:52:24.314Z"
   },
   {
    "duration": 20,
    "start_time": "2022-04-10T12:52:29.076Z"
   },
   {
    "duration": 18,
    "start_time": "2022-04-10T12:52:32.465Z"
   },
   {
    "duration": 106,
    "start_time": "2022-04-10T12:52:57.005Z"
   },
   {
    "duration": 116,
    "start_time": "2022-04-10T12:58:09.959Z"
   },
   {
    "duration": 42,
    "start_time": "2022-04-10T13:03:51.688Z"
   },
   {
    "duration": 16,
    "start_time": "2022-04-10T13:27:12.260Z"
   },
   {
    "duration": 17,
    "start_time": "2022-04-10T13:28:37.251Z"
   },
   {
    "duration": 5,
    "start_time": "2022-04-10T13:29:54.264Z"
   },
   {
    "duration": 17,
    "start_time": "2022-04-10T13:31:25.037Z"
   },
   {
    "duration": 21,
    "start_time": "2022-04-10T13:31:29.218Z"
   },
   {
    "duration": 37,
    "start_time": "2022-04-10T13:31:36.283Z"
   },
   {
    "duration": 8,
    "start_time": "2022-04-10T13:44:30.336Z"
   },
   {
    "duration": 5,
    "start_time": "2022-04-10T13:44:44.290Z"
   },
   {
    "duration": 8,
    "start_time": "2022-04-10T13:45:16.660Z"
   },
   {
    "duration": 4,
    "start_time": "2022-04-10T13:45:21.897Z"
   },
   {
    "duration": 8,
    "start_time": "2022-04-10T13:45:44.415Z"
   },
   {
    "duration": 7,
    "start_time": "2022-04-10T13:45:45.399Z"
   },
   {
    "duration": 7,
    "start_time": "2022-04-10T13:45:56.785Z"
   },
   {
    "duration": 8,
    "start_time": "2022-04-10T13:46:03.487Z"
   },
   {
    "duration": 7,
    "start_time": "2022-04-10T13:46:47.510Z"
   },
   {
    "duration": 6,
    "start_time": "2022-04-10T13:46:57.261Z"
   },
   {
    "duration": 110,
    "start_time": "2022-04-10T13:48:55.067Z"
   },
   {
    "duration": 103,
    "start_time": "2022-04-10T13:49:01.533Z"
   },
   {
    "duration": 4,
    "start_time": "2022-04-10T13:49:11.169Z"
   },
   {
    "duration": 12,
    "start_time": "2022-04-10T13:49:19.876Z"
   },
   {
    "duration": 110,
    "start_time": "2022-04-10T13:49:56.152Z"
   },
   {
    "duration": 132,
    "start_time": "2022-04-10T13:50:02.375Z"
   },
   {
    "duration": 7,
    "start_time": "2022-04-10T13:50:19.178Z"
   },
   {
    "duration": 7,
    "start_time": "2022-04-10T13:50:20.803Z"
   },
   {
    "duration": 7,
    "start_time": "2022-04-10T13:51:48.033Z"
   },
   {
    "duration": 6,
    "start_time": "2022-04-10T14:04:51.914Z"
   },
   {
    "duration": 12,
    "start_time": "2022-04-10T14:05:11.202Z"
   },
   {
    "duration": 11,
    "start_time": "2022-04-10T14:05:15.762Z"
   },
   {
    "duration": 68,
    "start_time": "2022-04-10T14:05:48.181Z"
   },
   {
    "duration": 16,
    "start_time": "2022-04-10T14:05:48.252Z"
   },
   {
    "duration": 15,
    "start_time": "2022-04-10T14:05:48.270Z"
   },
   {
    "duration": 11,
    "start_time": "2022-04-10T14:05:48.288Z"
   },
   {
    "duration": 52,
    "start_time": "2022-04-10T14:05:48.301Z"
   },
   {
    "duration": 14,
    "start_time": "2022-04-10T14:05:48.354Z"
   },
   {
    "duration": 5,
    "start_time": "2022-04-10T14:05:48.370Z"
   },
   {
    "duration": 16,
    "start_time": "2022-04-10T14:05:48.376Z"
   },
   {
    "duration": 5,
    "start_time": "2022-04-10T14:05:48.394Z"
   },
   {
    "duration": 11,
    "start_time": "2022-04-10T14:05:48.402Z"
   },
   {
    "duration": 71,
    "start_time": "2022-04-10T14:05:48.414Z"
   },
   {
    "duration": 4,
    "start_time": "2022-04-10T14:05:48.486Z"
   },
   {
    "duration": 19,
    "start_time": "2022-04-10T14:05:48.491Z"
   },
   {
    "duration": 38,
    "start_time": "2022-04-10T14:05:48.511Z"
   },
   {
    "duration": 11,
    "start_time": "2022-04-10T14:05:48.551Z"
   },
   {
    "duration": 53,
    "start_time": "2022-04-10T14:05:48.563Z"
   },
   {
    "duration": 3,
    "start_time": "2022-04-10T14:05:48.618Z"
   },
   {
    "duration": 4,
    "start_time": "2022-04-10T14:05:48.647Z"
   },
   {
    "duration": 12,
    "start_time": "2022-04-10T14:05:48.652Z"
   },
   {
    "duration": 21,
    "start_time": "2022-04-10T14:05:48.665Z"
   },
   {
    "duration": 17,
    "start_time": "2022-04-10T14:05:48.687Z"
   },
   {
    "duration": 17,
    "start_time": "2022-04-10T14:05:48.705Z"
   },
   {
    "duration": 43,
    "start_time": "2022-04-10T14:05:48.748Z"
   },
   {
    "duration": 11,
    "start_time": "2022-04-10T14:05:48.793Z"
   },
   {
    "duration": 7,
    "start_time": "2022-04-10T14:05:48.847Z"
   },
   {
    "duration": 16,
    "start_time": "2022-04-10T14:05:48.856Z"
   },
   {
    "duration": 22,
    "start_time": "2022-04-10T14:05:48.874Z"
   },
   {
    "duration": 9,
    "start_time": "2022-04-10T14:05:48.898Z"
   },
   {
    "duration": 19,
    "start_time": "2022-04-10T14:05:48.908Z"
   },
   {
    "duration": 5,
    "start_time": "2022-04-10T14:05:53.147Z"
   },
   {
    "duration": 11,
    "start_time": "2022-04-10T14:05:56.731Z"
   },
   {
    "duration": 64,
    "start_time": "2022-04-10T14:06:02.121Z"
   },
   {
    "duration": 15,
    "start_time": "2022-04-10T14:06:02.187Z"
   },
   {
    "duration": 13,
    "start_time": "2022-04-10T14:06:02.204Z"
   },
   {
    "duration": 34,
    "start_time": "2022-04-10T14:06:02.219Z"
   },
   {
    "duration": 19,
    "start_time": "2022-04-10T14:06:02.255Z"
   },
   {
    "duration": 20,
    "start_time": "2022-04-10T14:06:02.276Z"
   },
   {
    "duration": 5,
    "start_time": "2022-04-10T14:06:02.298Z"
   },
   {
    "duration": 44,
    "start_time": "2022-04-10T14:06:02.304Z"
   },
   {
    "duration": 6,
    "start_time": "2022-04-10T14:06:02.350Z"
   },
   {
    "duration": 5,
    "start_time": "2022-04-10T14:06:02.360Z"
   },
   {
    "duration": 42,
    "start_time": "2022-04-10T14:06:02.366Z"
   },
   {
    "duration": 39,
    "start_time": "2022-04-10T14:06:02.410Z"
   },
   {
    "duration": 15,
    "start_time": "2022-04-10T14:06:02.451Z"
   },
   {
    "duration": 5,
    "start_time": "2022-04-10T14:06:02.467Z"
   },
   {
    "duration": 10,
    "start_time": "2022-04-10T14:06:02.473Z"
   },
   {
    "duration": 83,
    "start_time": "2022-04-10T14:06:02.485Z"
   },
   {
    "duration": 4,
    "start_time": "2022-04-10T14:06:02.570Z"
   },
   {
    "duration": 6,
    "start_time": "2022-04-10T14:06:02.575Z"
   },
   {
    "duration": 9,
    "start_time": "2022-04-10T14:06:02.582Z"
   },
   {
    "duration": 18,
    "start_time": "2022-04-10T14:06:02.592Z"
   },
   {
    "duration": 50,
    "start_time": "2022-04-10T14:06:02.612Z"
   },
   {
    "duration": 19,
    "start_time": "2022-04-10T14:06:02.664Z"
   },
   {
    "duration": 77,
    "start_time": "2022-04-10T14:06:02.685Z"
   },
   {
    "duration": 11,
    "start_time": "2022-04-10T14:06:02.763Z"
   },
   {
    "duration": 9,
    "start_time": "2022-04-10T14:06:02.775Z"
   },
   {
    "duration": 9,
    "start_time": "2022-04-10T14:06:02.786Z"
   },
   {
    "duration": 8,
    "start_time": "2022-04-10T14:06:02.796Z"
   },
   {
    "duration": 43,
    "start_time": "2022-04-10T14:06:02.807Z"
   },
   {
    "duration": 10,
    "start_time": "2022-04-10T14:06:02.852Z"
   },
   {
    "duration": 27,
    "start_time": "2022-04-10T14:06:02.864Z"
   },
   {
    "duration": 11,
    "start_time": "2022-04-10T14:06:07.163Z"
   },
   {
    "duration": 60,
    "start_time": "2022-04-10T14:06:12.728Z"
   },
   {
    "duration": 14,
    "start_time": "2022-04-10T14:06:12.789Z"
   },
   {
    "duration": 12,
    "start_time": "2022-04-10T14:06:12.805Z"
   },
   {
    "duration": 10,
    "start_time": "2022-04-10T14:06:12.847Z"
   },
   {
    "duration": 12,
    "start_time": "2022-04-10T14:06:12.859Z"
   },
   {
    "duration": 18,
    "start_time": "2022-04-10T14:06:12.872Z"
   },
   {
    "duration": 4,
    "start_time": "2022-04-10T14:06:12.891Z"
   },
   {
    "duration": 11,
    "start_time": "2022-04-10T14:06:12.897Z"
   },
   {
    "duration": 43,
    "start_time": "2022-04-10T14:06:12.909Z"
   },
   {
    "duration": 7,
    "start_time": "2022-04-10T14:06:12.955Z"
   },
   {
    "duration": 41,
    "start_time": "2022-04-10T14:06:12.963Z"
   },
   {
    "duration": 4,
    "start_time": "2022-04-10T14:06:13.005Z"
   },
   {
    "duration": 49,
    "start_time": "2022-04-10T14:06:13.011Z"
   },
   {
    "duration": 5,
    "start_time": "2022-04-10T14:06:13.062Z"
   },
   {
    "duration": 9,
    "start_time": "2022-04-10T14:06:13.069Z"
   },
   {
    "duration": 82,
    "start_time": "2022-04-10T14:06:13.080Z"
   },
   {
    "duration": 4,
    "start_time": "2022-04-10T14:06:13.163Z"
   },
   {
    "duration": 9,
    "start_time": "2022-04-10T14:06:13.168Z"
   },
   {
    "duration": 11,
    "start_time": "2022-04-10T14:06:13.179Z"
   },
   {
    "duration": 19,
    "start_time": "2022-04-10T14:06:13.191Z"
   },
   {
    "duration": 41,
    "start_time": "2022-04-10T14:06:13.212Z"
   },
   {
    "duration": 19,
    "start_time": "2022-04-10T14:06:13.255Z"
   },
   {
    "duration": 77,
    "start_time": "2022-04-10T14:06:13.276Z"
   },
   {
    "duration": 11,
    "start_time": "2022-04-10T14:06:13.354Z"
   },
   {
    "duration": 13,
    "start_time": "2022-04-10T14:06:13.366Z"
   },
   {
    "duration": 12,
    "start_time": "2022-04-10T14:06:13.381Z"
   },
   {
    "duration": 12,
    "start_time": "2022-04-10T14:06:13.395Z"
   },
   {
    "duration": 13,
    "start_time": "2022-04-10T14:06:13.410Z"
   },
   {
    "duration": 27,
    "start_time": "2022-04-10T14:06:13.425Z"
   },
   {
    "duration": 16,
    "start_time": "2022-04-10T14:06:13.454Z"
   },
   {
    "duration": 16,
    "start_time": "2022-04-10T14:06:24.745Z"
   },
   {
    "duration": 131,
    "start_time": "2022-04-11T08:20:15.204Z"
   },
   {
    "duration": 4,
    "start_time": "2022-04-11T08:20:36.389Z"
   },
   {
    "duration": 43,
    "start_time": "2022-04-11T08:23:49.865Z"
   },
   {
    "duration": 511,
    "start_time": "2022-04-11T08:24:26.430Z"
   },
   {
    "duration": 16,
    "start_time": "2022-04-11T08:24:26.944Z"
   },
   {
    "duration": 14,
    "start_time": "2022-04-11T08:24:26.962Z"
   },
   {
    "duration": 12,
    "start_time": "2022-04-11T08:24:26.979Z"
   },
   {
    "duration": 13,
    "start_time": "2022-04-11T08:24:26.994Z"
   },
   {
    "duration": 52,
    "start_time": "2022-04-11T08:24:27.009Z"
   },
   {
    "duration": 5,
    "start_time": "2022-04-11T08:24:27.063Z"
   },
   {
    "duration": 11,
    "start_time": "2022-04-11T08:24:27.069Z"
   },
   {
    "duration": 10,
    "start_time": "2022-04-11T08:24:27.082Z"
   },
   {
    "duration": 12,
    "start_time": "2022-04-11T08:24:27.095Z"
   },
   {
    "duration": 86,
    "start_time": "2022-04-11T08:24:27.109Z"
   },
   {
    "duration": 5,
    "start_time": "2022-04-11T08:24:27.197Z"
   },
   {
    "duration": 46,
    "start_time": "2022-04-11T08:24:27.204Z"
   },
   {
    "duration": 9,
    "start_time": "2022-04-11T08:24:27.252Z"
   },
   {
    "duration": 7,
    "start_time": "2022-04-11T08:24:27.263Z"
   },
   {
    "duration": 86,
    "start_time": "2022-04-11T08:24:27.272Z"
   },
   {
    "duration": 4,
    "start_time": "2022-04-11T08:24:27.361Z"
   },
   {
    "duration": 9,
    "start_time": "2022-04-11T08:24:27.367Z"
   },
   {
    "duration": 8,
    "start_time": "2022-04-11T08:24:27.377Z"
   },
   {
    "duration": 17,
    "start_time": "2022-04-11T08:24:27.386Z"
   },
   {
    "duration": 50,
    "start_time": "2022-04-11T08:24:27.405Z"
   },
   {
    "duration": 27,
    "start_time": "2022-04-11T08:24:27.457Z"
   },
   {
    "duration": 74,
    "start_time": "2022-04-11T08:24:27.485Z"
   },
   {
    "duration": 12,
    "start_time": "2022-04-11T08:24:27.561Z"
   },
   {
    "duration": 8,
    "start_time": "2022-04-11T08:24:27.575Z"
   },
   {
    "duration": 8,
    "start_time": "2022-04-11T08:24:27.585Z"
   },
   {
    "duration": 11,
    "start_time": "2022-04-11T08:24:27.595Z"
   },
   {
    "duration": 8,
    "start_time": "2022-04-11T08:24:27.649Z"
   },
   {
    "duration": 15,
    "start_time": "2022-04-11T08:24:27.659Z"
   },
   {
    "duration": 8,
    "start_time": "2022-04-11T08:24:27.676Z"
   },
   {
    "duration": 15,
    "start_time": "2022-04-11T08:24:27.685Z"
   },
   {
    "duration": 8,
    "start_time": "2022-04-11T08:24:27.701Z"
   },
   {
    "duration": 14,
    "start_time": "2022-04-11T08:24:27.710Z"
   },
   {
    "duration": 11,
    "start_time": "2022-04-11T08:24:32.380Z"
   },
   {
    "duration": 13,
    "start_time": "2022-04-11T08:25:09.293Z"
   },
   {
    "duration": 11,
    "start_time": "2022-04-11T08:26:08.680Z"
   },
   {
    "duration": 119,
    "start_time": "2022-04-11T08:27:47.821Z"
   },
   {
    "duration": 4,
    "start_time": "2022-04-11T12:19:35.735Z"
   },
   {
    "duration": 7,
    "start_time": "2022-04-11T12:32:59.324Z"
   },
   {
    "duration": 8,
    "start_time": "2022-04-11T12:37:23.163Z"
   },
   {
    "duration": 69,
    "start_time": "2022-04-11T12:38:20.142Z"
   },
   {
    "duration": 16,
    "start_time": "2022-04-11T12:38:20.213Z"
   },
   {
    "duration": 29,
    "start_time": "2022-04-11T12:38:20.230Z"
   },
   {
    "duration": 15,
    "start_time": "2022-04-11T12:38:20.261Z"
   },
   {
    "duration": 11,
    "start_time": "2022-04-11T12:38:20.277Z"
   },
   {
    "duration": 18,
    "start_time": "2022-04-11T12:38:20.290Z"
   },
   {
    "duration": 42,
    "start_time": "2022-04-11T12:38:20.309Z"
   },
   {
    "duration": 18,
    "start_time": "2022-04-11T12:38:20.353Z"
   },
   {
    "duration": 6,
    "start_time": "2022-04-11T12:38:20.372Z"
   },
   {
    "duration": 6,
    "start_time": "2022-04-11T12:38:20.381Z"
   },
   {
    "duration": 69,
    "start_time": "2022-04-11T12:38:20.389Z"
   },
   {
    "duration": 5,
    "start_time": "2022-04-11T12:38:20.459Z"
   },
   {
    "duration": 13,
    "start_time": "2022-04-11T12:38:20.465Z"
   },
   {
    "duration": 5,
    "start_time": "2022-04-11T12:38:20.480Z"
   },
   {
    "duration": 17,
    "start_time": "2022-04-11T12:38:20.486Z"
   },
   {
    "duration": 81,
    "start_time": "2022-04-11T12:38:20.504Z"
   },
   {
    "duration": 4,
    "start_time": "2022-04-11T12:38:20.587Z"
   },
   {
    "duration": 8,
    "start_time": "2022-04-11T12:38:20.592Z"
   },
   {
    "duration": 13,
    "start_time": "2022-04-11T12:38:20.602Z"
   },
   {
    "duration": 39,
    "start_time": "2022-04-11T12:38:20.617Z"
   },
   {
    "duration": 27,
    "start_time": "2022-04-11T12:38:20.658Z"
   },
   {
    "duration": 19,
    "start_time": "2022-04-11T12:38:20.687Z"
   },
   {
    "duration": 68,
    "start_time": "2022-04-11T12:38:20.708Z"
   },
   {
    "duration": 11,
    "start_time": "2022-04-11T12:38:20.778Z"
   },
   {
    "duration": 13,
    "start_time": "2022-04-11T12:38:20.791Z"
   },
   {
    "duration": 9,
    "start_time": "2022-04-11T12:38:20.805Z"
   },
   {
    "duration": 34,
    "start_time": "2022-04-11T12:38:20.816Z"
   },
   {
    "duration": 12,
    "start_time": "2022-04-11T12:38:20.854Z"
   },
   {
    "duration": 7,
    "start_time": "2022-04-11T12:38:20.867Z"
   },
   {
    "duration": 9,
    "start_time": "2022-04-11T12:38:20.875Z"
   },
   {
    "duration": 13,
    "start_time": "2022-04-11T12:38:20.886Z"
   },
   {
    "duration": 19,
    "start_time": "2022-04-11T12:38:20.901Z"
   },
   {
    "duration": 17,
    "start_time": "2022-04-11T12:38:20.922Z"
   },
   {
    "duration": 16,
    "start_time": "2022-04-11T12:38:20.941Z"
   },
   {
    "duration": 16,
    "start_time": "2022-04-11T12:38:20.959Z"
   },
   {
    "duration": 11,
    "start_time": "2022-04-11T12:38:20.976Z"
   },
   {
    "duration": 14,
    "start_time": "2022-04-11T12:38:20.989Z"
   },
   {
    "duration": 118,
    "start_time": "2022-04-11T12:38:21.005Z"
   },
   {
    "duration": 4,
    "start_time": "2022-04-11T13:12:49.627Z"
   },
   {
    "duration": 119,
    "start_time": "2022-04-11T13:13:17.060Z"
   },
   {
    "duration": 4,
    "start_time": "2022-04-11T13:13:32.457Z"
   },
   {
    "duration": 4,
    "start_time": "2022-04-11T13:13:40.588Z"
   },
   {
    "duration": 4,
    "start_time": "2022-04-11T13:13:41.819Z"
   },
   {
    "duration": 4,
    "start_time": "2022-04-11T13:13:44.391Z"
   },
   {
    "duration": 4,
    "start_time": "2022-04-11T13:14:10.072Z"
   },
   {
    "duration": 4,
    "start_time": "2022-04-11T13:14:11.419Z"
   },
   {
    "duration": 4,
    "start_time": "2022-04-11T13:20:29.306Z"
   },
   {
    "duration": 4,
    "start_time": "2022-04-11T13:20:30.544Z"
   },
   {
    "duration": 3,
    "start_time": "2022-04-11T13:20:46.849Z"
   },
   {
    "duration": 4,
    "start_time": "2022-04-11T13:20:47.878Z"
   },
   {
    "duration": 4,
    "start_time": "2022-04-11T13:20:49.487Z"
   },
   {
    "duration": 4,
    "start_time": "2022-04-11T13:21:07.068Z"
   },
   {
    "duration": 3,
    "start_time": "2022-04-11T13:21:08.834Z"
   },
   {
    "duration": 4,
    "start_time": "2022-04-11T13:21:10.443Z"
   },
   {
    "duration": 4,
    "start_time": "2022-04-11T13:21:15.424Z"
   },
   {
    "duration": 4,
    "start_time": "2022-04-11T13:21:16.825Z"
   },
   {
    "duration": 4,
    "start_time": "2022-04-11T13:21:32.732Z"
   },
   {
    "duration": 30,
    "start_time": "2022-04-11T13:21:32.814Z"
   },
   {
    "duration": 3,
    "start_time": "2022-04-11T13:21:35.018Z"
   },
   {
    "duration": 10,
    "start_time": "2022-04-11T13:21:36.385Z"
   },
   {
    "duration": 3,
    "start_time": "2022-04-11T13:21:54.512Z"
   },
   {
    "duration": 4,
    "start_time": "2022-04-11T13:21:57.053Z"
   },
   {
    "duration": 3,
    "start_time": "2022-04-11T13:22:18.728Z"
   },
   {
    "duration": 4,
    "start_time": "2022-04-11T13:22:19.753Z"
   },
   {
    "duration": 4,
    "start_time": "2022-04-11T13:28:09.544Z"
   },
   {
    "duration": 4,
    "start_time": "2022-04-11T13:28:14.085Z"
   },
   {
    "duration": 4,
    "start_time": "2022-04-11T13:28:15.543Z"
   },
   {
    "duration": 3,
    "start_time": "2022-04-11T13:28:51.834Z"
   },
   {
    "duration": 4,
    "start_time": "2022-04-11T13:28:53.073Z"
   },
   {
    "duration": 4,
    "start_time": "2022-04-11T13:28:59.345Z"
   },
   {
    "duration": 4,
    "start_time": "2022-04-11T13:29:08.967Z"
   },
   {
    "duration": 4,
    "start_time": "2022-04-11T13:29:42.626Z"
   },
   {
    "duration": 4,
    "start_time": "2022-04-11T13:30:11.452Z"
   },
   {
    "duration": 3,
    "start_time": "2022-04-11T13:30:26.738Z"
   },
   {
    "duration": 3,
    "start_time": "2022-04-11T13:30:30.598Z"
   },
   {
    "duration": 3,
    "start_time": "2022-04-11T13:31:27.267Z"
   },
   {
    "duration": 4,
    "start_time": "2022-04-11T13:31:29.007Z"
   },
   {
    "duration": 1873,
    "start_time": "2022-04-11T13:33:15.932Z"
   },
   {
    "duration": 6,
    "start_time": "2022-04-11T13:34:03.757Z"
   },
   {
    "duration": 7,
    "start_time": "2022-04-11T13:34:07.775Z"
   },
   {
    "duration": 6,
    "start_time": "2022-04-11T13:34:33.995Z"
   },
   {
    "duration": 6,
    "start_time": "2022-04-11T13:34:35.322Z"
   },
   {
    "duration": 4,
    "start_time": "2022-04-11T13:34:37.529Z"
   },
   {
    "duration": 8,
    "start_time": "2022-04-11T13:34:39.025Z"
   },
   {
    "duration": 4,
    "start_time": "2022-04-11T13:35:14.600Z"
   },
   {
    "duration": 3,
    "start_time": "2022-04-11T13:35:24.494Z"
   },
   {
    "duration": 4,
    "start_time": "2022-04-11T13:35:26.006Z"
   },
   {
    "duration": 3,
    "start_time": "2022-04-11T13:36:03.187Z"
   },
   {
    "duration": 4,
    "start_time": "2022-04-11T13:36:04.394Z"
   },
   {
    "duration": 4,
    "start_time": "2022-04-11T13:36:06.937Z"
   },
   {
    "duration": 9,
    "start_time": "2022-04-11T13:36:17.992Z"
   },
   {
    "duration": 7,
    "start_time": "2022-04-11T13:36:19.231Z"
   },
   {
    "duration": 4,
    "start_time": "2022-04-11T13:37:24.645Z"
   },
   {
    "duration": 4,
    "start_time": "2022-04-11T13:37:26.100Z"
   },
   {
    "duration": 8,
    "start_time": "2022-04-11T13:37:27.962Z"
   },
   {
    "duration": 6,
    "start_time": "2022-04-11T13:37:29.778Z"
   },
   {
    "duration": 3,
    "start_time": "2022-04-11T13:43:25.387Z"
   },
   {
    "duration": 4,
    "start_time": "2022-04-11T13:44:54.609Z"
   },
   {
    "duration": 17,
    "start_time": "2022-04-11T13:50:52.321Z"
   },
   {
    "duration": 9,
    "start_time": "2022-04-11T13:53:26.755Z"
   },
   {
    "duration": 10,
    "start_time": "2022-04-11T13:53:32.251Z"
   },
   {
    "duration": 17,
    "start_time": "2022-04-11T13:54:05.369Z"
   },
   {
    "duration": 21,
    "start_time": "2022-04-11T14:00:52.761Z"
   },
   {
    "duration": 25,
    "start_time": "2022-04-11T14:01:41.943Z"
   },
   {
    "duration": 69,
    "start_time": "2022-04-11T14:02:58.008Z"
   },
   {
    "duration": 13,
    "start_time": "2022-04-11T14:02:58.079Z"
   },
   {
    "duration": 13,
    "start_time": "2022-04-11T14:02:58.094Z"
   },
   {
    "duration": 11,
    "start_time": "2022-04-11T14:02:58.109Z"
   },
   {
    "duration": 34,
    "start_time": "2022-04-11T14:02:58.122Z"
   },
   {
    "duration": 16,
    "start_time": "2022-04-11T14:02:58.157Z"
   },
   {
    "duration": 4,
    "start_time": "2022-04-11T14:02:58.175Z"
   },
   {
    "duration": 11,
    "start_time": "2022-04-11T14:02:58.181Z"
   },
   {
    "duration": 5,
    "start_time": "2022-04-11T14:02:58.194Z"
   },
   {
    "duration": 3,
    "start_time": "2022-04-11T14:02:58.202Z"
   },
   {
    "duration": 42,
    "start_time": "2022-04-11T14:02:58.248Z"
   },
   {
    "duration": 5,
    "start_time": "2022-04-11T14:02:58.292Z"
   },
   {
    "duration": 49,
    "start_time": "2022-04-11T14:02:58.299Z"
   },
   {
    "duration": 5,
    "start_time": "2022-04-11T14:02:58.350Z"
   },
   {
    "duration": 8,
    "start_time": "2022-04-11T14:02:58.357Z"
   },
   {
    "duration": 50,
    "start_time": "2022-04-11T14:02:58.367Z"
   },
   {
    "duration": 5,
    "start_time": "2022-04-11T14:02:58.447Z"
   },
   {
    "duration": 9,
    "start_time": "2022-04-11T14:02:58.453Z"
   },
   {
    "duration": 11,
    "start_time": "2022-04-11T14:02:58.464Z"
   },
   {
    "duration": 14,
    "start_time": "2022-04-11T14:02:58.477Z"
   },
   {
    "duration": 19,
    "start_time": "2022-04-11T14:02:58.493Z"
   },
   {
    "duration": 45,
    "start_time": "2022-04-11T14:02:58.514Z"
   },
   {
    "duration": 44,
    "start_time": "2022-04-11T14:02:58.561Z"
   },
   {
    "duration": 41,
    "start_time": "2022-04-11T14:02:58.607Z"
   },
   {
    "duration": 9,
    "start_time": "2022-04-11T14:02:58.651Z"
   },
   {
    "duration": 10,
    "start_time": "2022-04-11T14:02:58.661Z"
   },
   {
    "duration": 7,
    "start_time": "2022-04-11T14:02:58.673Z"
   },
   {
    "duration": 8,
    "start_time": "2022-04-11T14:02:58.683Z"
   },
   {
    "duration": 9,
    "start_time": "2022-04-11T14:02:58.693Z"
   },
   {
    "duration": 7,
    "start_time": "2022-04-11T14:02:58.704Z"
   },
   {
    "duration": 46,
    "start_time": "2022-04-11T14:02:58.713Z"
   },
   {
    "duration": 7,
    "start_time": "2022-04-11T14:02:58.761Z"
   },
   {
    "duration": 7,
    "start_time": "2022-04-11T14:02:58.769Z"
   },
   {
    "duration": 12,
    "start_time": "2022-04-11T14:02:58.777Z"
   },
   {
    "duration": 11,
    "start_time": "2022-04-11T14:02:58.791Z"
   },
   {
    "duration": 9,
    "start_time": "2022-04-11T14:02:58.804Z"
   },
   {
    "duration": 32,
    "start_time": "2022-04-11T14:02:58.815Z"
   },
   {
    "duration": 5,
    "start_time": "2022-04-11T14:02:58.849Z"
   },
   {
    "duration": 10,
    "start_time": "2022-04-11T14:02:58.856Z"
   },
   {
    "duration": 15,
    "start_time": "2022-04-11T14:02:58.868Z"
   },
   {
    "duration": 12,
    "start_time": "2022-04-11T14:02:58.886Z"
   },
   {
    "duration": 21,
    "start_time": "2022-04-11T14:02:58.900Z"
   },
   {
    "duration": 31,
    "start_time": "2022-04-11T14:02:58.947Z"
   },
   {
    "duration": 36,
    "start_time": "2022-04-11T14:03:04.162Z"
   },
   {
    "duration": 6,
    "start_time": "2022-04-11T14:03:30.305Z"
   },
   {
    "duration": 1484,
    "start_time": "2022-04-11T14:11:49.009Z"
   },
   {
    "duration": 1491,
    "start_time": "2022-04-11T14:19:41.468Z"
   },
   {
    "duration": 1438,
    "start_time": "2022-04-11T14:19:43.228Z"
   },
   {
    "duration": 1500,
    "start_time": "2022-04-11T14:19:55.910Z"
   },
   {
    "duration": 2222,
    "start_time": "2022-04-11T14:20:10.836Z"
   },
   {
    "duration": 1714,
    "start_time": "2022-04-11T14:20:23.119Z"
   },
   {
    "duration": 1909,
    "start_time": "2022-04-11T14:20:43.802Z"
   },
   {
    "duration": 18,
    "start_time": "2022-04-11T14:21:02.728Z"
   },
   {
    "duration": 12,
    "start_time": "2022-04-11T14:21:42.646Z"
   },
   {
    "duration": 4,
    "start_time": "2022-04-11T14:22:30.767Z"
   },
   {
    "duration": 8,
    "start_time": "2022-04-11T14:22:36.907Z"
   },
   {
    "duration": 25,
    "start_time": "2022-04-11T14:23:52.384Z"
   },
   {
    "duration": 14,
    "start_time": "2022-04-11T14:29:29.620Z"
   },
   {
    "duration": 64,
    "start_time": "2022-04-11T14:31:54.142Z"
   },
   {
    "duration": 14,
    "start_time": "2022-04-11T14:38:26.489Z"
   },
   {
    "duration": 17,
    "start_time": "2022-04-11T14:39:06.275Z"
   },
   {
    "duration": 10,
    "start_time": "2022-04-11T14:39:12.081Z"
   },
   {
    "duration": 29,
    "start_time": "2022-04-11T14:39:16.881Z"
   },
   {
    "duration": 21,
    "start_time": "2022-04-11T14:47:00.930Z"
   },
   {
    "duration": 23,
    "start_time": "2022-04-11T14:55:31.023Z"
   },
   {
    "duration": 10,
    "start_time": "2022-04-11T14:55:40.045Z"
   },
   {
    "duration": 10,
    "start_time": "2022-04-11T14:55:49.267Z"
   },
   {
    "duration": 63,
    "start_time": "2022-04-11T14:56:04.651Z"
   },
   {
    "duration": 14,
    "start_time": "2022-04-11T14:56:04.716Z"
   },
   {
    "duration": 28,
    "start_time": "2022-04-11T14:56:04.731Z"
   },
   {
    "duration": 17,
    "start_time": "2022-04-11T14:56:04.761Z"
   },
   {
    "duration": 11,
    "start_time": "2022-04-11T14:56:04.780Z"
   },
   {
    "duration": 18,
    "start_time": "2022-04-11T14:56:04.792Z"
   },
   {
    "duration": 39,
    "start_time": "2022-04-11T14:56:04.812Z"
   },
   {
    "duration": 14,
    "start_time": "2022-04-11T14:56:04.853Z"
   },
   {
    "duration": 7,
    "start_time": "2022-04-11T14:56:04.869Z"
   },
   {
    "duration": 7,
    "start_time": "2022-04-11T14:56:04.879Z"
   },
   {
    "duration": 76,
    "start_time": "2022-04-11T14:56:04.888Z"
   },
   {
    "duration": 4,
    "start_time": "2022-04-11T14:56:04.966Z"
   },
   {
    "duration": 17,
    "start_time": "2022-04-11T14:56:04.972Z"
   },
   {
    "duration": 5,
    "start_time": "2022-04-11T14:56:04.991Z"
   },
   {
    "duration": 13,
    "start_time": "2022-04-11T14:56:04.997Z"
   },
   {
    "duration": 71,
    "start_time": "2022-04-11T14:56:05.012Z"
   },
   {
    "duration": 4,
    "start_time": "2022-04-11T14:56:05.085Z"
   },
   {
    "duration": 10,
    "start_time": "2022-04-11T14:56:05.091Z"
   },
   {
    "duration": 11,
    "start_time": "2022-04-11T14:56:05.103Z"
   },
   {
    "duration": 40,
    "start_time": "2022-04-11T14:56:05.116Z"
   },
   {
    "duration": 25,
    "start_time": "2022-04-11T14:56:05.159Z"
   },
   {
    "duration": 29,
    "start_time": "2022-04-11T14:56:05.187Z"
   },
   {
    "duration": 77,
    "start_time": "2022-04-11T14:56:05.219Z"
   },
   {
    "duration": 11,
    "start_time": "2022-04-11T14:56:05.298Z"
   },
   {
    "duration": 38,
    "start_time": "2022-04-11T14:56:05.311Z"
   },
   {
    "duration": 8,
    "start_time": "2022-04-11T14:56:05.351Z"
   },
   {
    "duration": 7,
    "start_time": "2022-04-11T14:56:05.361Z"
   },
   {
    "duration": 10,
    "start_time": "2022-04-11T14:56:05.371Z"
   },
   {
    "duration": 14,
    "start_time": "2022-04-11T14:56:05.383Z"
   },
   {
    "duration": 8,
    "start_time": "2022-04-11T14:56:05.399Z"
   },
   {
    "duration": 17,
    "start_time": "2022-04-11T14:56:05.409Z"
   },
   {
    "duration": 5,
    "start_time": "2022-04-11T14:56:05.447Z"
   },
   {
    "duration": 6,
    "start_time": "2022-04-11T14:56:05.453Z"
   },
   {
    "duration": 12,
    "start_time": "2022-04-11T14:56:05.461Z"
   },
   {
    "duration": 12,
    "start_time": "2022-04-11T14:56:05.475Z"
   },
   {
    "duration": 9,
    "start_time": "2022-04-11T14:56:05.489Z"
   },
   {
    "duration": 16,
    "start_time": "2022-04-11T14:56:05.500Z"
   },
   {
    "duration": 31,
    "start_time": "2022-04-11T14:56:05.518Z"
   },
   {
    "duration": 11,
    "start_time": "2022-04-11T14:56:05.550Z"
   },
   {
    "duration": 19,
    "start_time": "2022-04-11T14:56:05.563Z"
   },
   {
    "duration": 55,
    "start_time": "2022-04-11T14:56:05.584Z"
   },
   {
    "duration": 28,
    "start_time": "2022-04-11T14:56:05.640Z"
   },
   {
    "duration": 28,
    "start_time": "2022-04-11T14:56:05.669Z"
   },
   {
    "duration": 9,
    "start_time": "2022-04-11T14:56:05.698Z"
   },
   {
    "duration": 26,
    "start_time": "2022-04-11T14:56:05.709Z"
   },
   {
    "duration": 18,
    "start_time": "2022-04-11T15:37:49.529Z"
   },
   {
    "duration": 21,
    "start_time": "2022-04-11T15:43:23.897Z"
   },
   {
    "duration": 18,
    "start_time": "2022-04-11T15:49:33.951Z"
   },
   {
    "duration": 19,
    "start_time": "2022-04-11T15:50:12.435Z"
   },
   {
    "duration": 18,
    "start_time": "2022-04-11T15:50:49.699Z"
   },
   {
    "duration": 63,
    "start_time": "2022-04-11T15:55:45.636Z"
   },
   {
    "duration": 14,
    "start_time": "2022-04-11T15:55:45.701Z"
   },
   {
    "duration": 31,
    "start_time": "2022-04-11T15:55:45.717Z"
   },
   {
    "duration": 11,
    "start_time": "2022-04-11T15:55:45.751Z"
   },
   {
    "duration": 10,
    "start_time": "2022-04-11T15:55:45.763Z"
   },
   {
    "duration": 16,
    "start_time": "2022-04-11T15:55:45.775Z"
   },
   {
    "duration": 4,
    "start_time": "2022-04-11T15:55:45.792Z"
   },
   {
    "duration": 50,
    "start_time": "2022-04-11T15:55:45.798Z"
   },
   {
    "duration": 6,
    "start_time": "2022-04-11T15:55:45.850Z"
   },
   {
    "duration": 4,
    "start_time": "2022-04-11T15:55:45.859Z"
   },
   {
    "duration": 41,
    "start_time": "2022-04-11T15:55:45.865Z"
   },
   {
    "duration": 42,
    "start_time": "2022-04-11T15:55:45.907Z"
   },
   {
    "duration": 10,
    "start_time": "2022-04-11T15:55:45.951Z"
   },
   {
    "duration": 5,
    "start_time": "2022-04-11T15:55:45.963Z"
   },
   {
    "duration": 7,
    "start_time": "2022-04-11T15:55:45.969Z"
   },
   {
    "duration": 86,
    "start_time": "2022-04-11T15:55:45.977Z"
   },
   {
    "duration": 4,
    "start_time": "2022-04-11T15:55:46.065Z"
   },
   {
    "duration": 5,
    "start_time": "2022-04-11T15:55:46.071Z"
   },
   {
    "duration": 6,
    "start_time": "2022-04-11T15:55:46.078Z"
   },
   {
    "duration": 17,
    "start_time": "2022-04-11T15:55:46.086Z"
   },
   {
    "duration": 55,
    "start_time": "2022-04-11T15:55:46.104Z"
   },
   {
    "duration": 19,
    "start_time": "2022-04-11T15:55:46.161Z"
   },
   {
    "duration": 67,
    "start_time": "2022-04-11T15:55:46.182Z"
   },
   {
    "duration": 11,
    "start_time": "2022-04-11T15:55:46.250Z"
   },
   {
    "duration": 10,
    "start_time": "2022-04-11T15:55:46.263Z"
   },
   {
    "duration": 29,
    "start_time": "2022-04-11T15:55:46.275Z"
   },
   {
    "duration": 11,
    "start_time": "2022-04-11T15:55:46.306Z"
   },
   {
    "duration": 9,
    "start_time": "2022-04-11T15:55:46.321Z"
   },
   {
    "duration": 17,
    "start_time": "2022-04-11T15:55:46.332Z"
   },
   {
    "duration": 5,
    "start_time": "2022-04-11T15:55:46.351Z"
   },
   {
    "duration": 16,
    "start_time": "2022-04-11T15:55:46.357Z"
   },
   {
    "duration": 5,
    "start_time": "2022-04-11T15:55:46.375Z"
   },
   {
    "duration": 10,
    "start_time": "2022-04-11T15:55:46.381Z"
   },
   {
    "duration": 12,
    "start_time": "2022-04-11T15:55:46.392Z"
   },
   {
    "duration": 15,
    "start_time": "2022-04-11T15:55:46.406Z"
   },
   {
    "duration": 30,
    "start_time": "2022-04-11T15:55:46.423Z"
   },
   {
    "duration": 14,
    "start_time": "2022-04-11T15:55:46.455Z"
   },
   {
    "duration": 11,
    "start_time": "2022-04-11T15:55:46.471Z"
   },
   {
    "duration": 14,
    "start_time": "2022-04-11T15:55:46.483Z"
   },
   {
    "duration": 12,
    "start_time": "2022-04-11T15:55:46.499Z"
   },
   {
    "duration": 9,
    "start_time": "2022-04-11T15:55:46.512Z"
   },
   {
    "duration": 24,
    "start_time": "2022-04-11T15:55:46.523Z"
   },
   {
    "duration": 21,
    "start_time": "2022-04-11T15:55:46.549Z"
   },
   {
    "duration": 9,
    "start_time": "2022-04-11T15:55:46.571Z"
   },
   {
    "duration": 25,
    "start_time": "2022-04-11T15:55:46.582Z"
   },
   {
    "duration": 48,
    "start_time": "2022-04-11T15:55:46.608Z"
   },
   {
    "duration": 27,
    "start_time": "2022-04-11T15:55:46.658Z"
   },
   {
    "duration": 614,
    "start_time": "2022-04-25T20:43:35.974Z"
   },
   {
    "duration": 21,
    "start_time": "2022-04-25T20:43:36.590Z"
   },
   {
    "duration": 20,
    "start_time": "2022-04-25T20:43:36.614Z"
   },
   {
    "duration": 13,
    "start_time": "2022-04-25T20:43:36.637Z"
   },
   {
    "duration": 43,
    "start_time": "2022-04-25T20:43:36.652Z"
   },
   {
    "duration": 20,
    "start_time": "2022-04-25T20:43:36.697Z"
   },
   {
    "duration": 6,
    "start_time": "2022-04-25T20:43:36.719Z"
   },
   {
    "duration": 15,
    "start_time": "2022-04-25T20:43:36.727Z"
   },
   {
    "duration": 54,
    "start_time": "2022-04-25T20:43:36.744Z"
   },
   {
    "duration": 5,
    "start_time": "2022-04-25T20:43:36.805Z"
   },
   {
    "duration": 103,
    "start_time": "2022-04-25T20:43:36.813Z"
   },
   {
    "duration": 5,
    "start_time": "2022-04-25T20:43:36.918Z"
   },
   {
    "duration": 15,
    "start_time": "2022-04-25T20:43:36.925Z"
   },
   {
    "duration": 6,
    "start_time": "2022-04-25T20:43:36.942Z"
   },
   {
    "duration": 43,
    "start_time": "2022-04-25T20:43:36.950Z"
   },
   {
    "duration": 99,
    "start_time": "2022-04-25T20:43:36.995Z"
   },
   {
    "duration": 5,
    "start_time": "2022-04-25T20:43:37.096Z"
   },
   {
    "duration": 7,
    "start_time": "2022-04-25T20:43:37.104Z"
   },
   {
    "duration": 9,
    "start_time": "2022-04-25T20:43:37.113Z"
   },
   {
    "duration": 21,
    "start_time": "2022-04-25T20:43:37.124Z"
   },
   {
    "duration": 64,
    "start_time": "2022-04-25T20:43:37.148Z"
   },
   {
    "duration": 32,
    "start_time": "2022-04-25T20:43:37.214Z"
   },
   {
    "duration": 98,
    "start_time": "2022-04-25T20:43:37.249Z"
   },
   {
    "duration": 54,
    "start_time": "2022-04-25T20:43:37.350Z"
   },
   {
    "duration": 15,
    "start_time": "2022-04-25T20:43:37.406Z"
   },
   {
    "duration": 14,
    "start_time": "2022-04-25T20:43:37.423Z"
   },
   {
    "duration": 9,
    "start_time": "2022-04-25T20:43:37.438Z"
   },
   {
    "duration": 10,
    "start_time": "2022-04-25T20:43:37.452Z"
   },
   {
    "duration": 37,
    "start_time": "2022-04-25T20:43:37.464Z"
   },
   {
    "duration": 12,
    "start_time": "2022-04-25T20:43:37.503Z"
   },
   {
    "duration": 18,
    "start_time": "2022-04-25T20:43:37.517Z"
   },
   {
    "duration": 7,
    "start_time": "2022-04-25T20:43:37.537Z"
   },
   {
    "duration": 9,
    "start_time": "2022-04-25T20:43:37.546Z"
   },
   {
    "duration": 44,
    "start_time": "2022-04-25T20:43:37.557Z"
   },
   {
    "duration": 18,
    "start_time": "2022-04-25T20:43:37.603Z"
   },
   {
    "duration": 10,
    "start_time": "2022-04-25T20:43:37.623Z"
   },
   {
    "duration": 11,
    "start_time": "2022-04-25T20:43:37.635Z"
   },
   {
    "duration": 45,
    "start_time": "2022-04-25T20:43:37.648Z"
   },
   {
    "duration": 5,
    "start_time": "2022-04-25T20:43:37.695Z"
   },
   {
    "duration": 13,
    "start_time": "2022-04-25T20:43:37.702Z"
   },
   {
    "duration": 9,
    "start_time": "2022-04-25T20:43:37.718Z"
   },
   {
    "duration": 19,
    "start_time": "2022-04-25T20:43:37.729Z"
   },
   {
    "duration": 64,
    "start_time": "2022-04-25T20:43:37.750Z"
   },
   {
    "duration": 13,
    "start_time": "2022-04-25T20:43:37.816Z"
   },
   {
    "duration": 30,
    "start_time": "2022-04-25T20:43:37.831Z"
   },
   {
    "duration": 55,
    "start_time": "2022-04-25T20:43:37.863Z"
   },
   {
    "duration": 26,
    "start_time": "2022-04-25T20:43:37.920Z"
   },
   {
    "duration": 49,
    "start_time": "2022-04-26T13:30:20.446Z"
   },
   {
    "duration": 6,
    "start_time": "2022-04-26T13:30:28.050Z"
   },
   {
    "duration": 469,
    "start_time": "2022-04-26T13:30:31.616Z"
   },
   {
    "duration": 84,
    "start_time": "2022-04-26T13:30:32.087Z"
   },
   {
    "duration": 15,
    "start_time": "2022-04-26T13:30:32.174Z"
   },
   {
    "duration": 16,
    "start_time": "2022-04-26T13:30:32.191Z"
   },
   {
    "duration": 26,
    "start_time": "2022-04-26T13:30:32.209Z"
   },
   {
    "duration": 16,
    "start_time": "2022-04-26T13:30:32.236Z"
   },
   {
    "duration": 18,
    "start_time": "2022-04-26T13:30:32.253Z"
   },
   {
    "duration": 5,
    "start_time": "2022-04-26T13:30:32.272Z"
   },
   {
    "duration": 20,
    "start_time": "2022-04-26T13:30:32.278Z"
   },
   {
    "duration": 34,
    "start_time": "2022-04-26T13:30:32.301Z"
   },
   {
    "duration": 11,
    "start_time": "2022-04-26T13:30:32.336Z"
   },
   {
    "duration": 47,
    "start_time": "2022-04-26T13:30:32.349Z"
   },
   {
    "duration": 37,
    "start_time": "2022-04-26T13:30:32.398Z"
   },
   {
    "duration": 18,
    "start_time": "2022-04-26T13:30:32.437Z"
   },
   {
    "duration": 6,
    "start_time": "2022-04-26T13:30:32.457Z"
   },
   {
    "duration": 9,
    "start_time": "2022-04-26T13:30:32.465Z"
   },
   {
    "duration": 73,
    "start_time": "2022-04-26T13:30:32.476Z"
   },
   {
    "duration": 4,
    "start_time": "2022-04-26T13:30:32.551Z"
   },
   {
    "duration": 9,
    "start_time": "2022-04-26T13:30:32.556Z"
   },
   {
    "duration": 7,
    "start_time": "2022-04-26T13:30:32.567Z"
   },
   {
    "duration": 21,
    "start_time": "2022-04-26T13:30:32.576Z"
   },
   {
    "duration": 44,
    "start_time": "2022-04-26T13:30:32.598Z"
   },
   {
    "duration": 22,
    "start_time": "2022-04-26T13:30:32.644Z"
   },
   {
    "duration": 76,
    "start_time": "2022-04-26T13:30:32.668Z"
   },
   {
    "duration": 12,
    "start_time": "2022-04-26T13:30:32.746Z"
   },
   {
    "duration": 10,
    "start_time": "2022-04-26T13:30:32.760Z"
   },
   {
    "duration": 13,
    "start_time": "2022-04-26T13:30:32.771Z"
   },
   {
    "duration": 13,
    "start_time": "2022-04-26T13:30:32.788Z"
   },
   {
    "duration": 12,
    "start_time": "2022-04-26T13:30:32.802Z"
   },
   {
    "duration": 7,
    "start_time": "2022-04-26T13:30:32.833Z"
   },
   {
    "duration": 11,
    "start_time": "2022-04-26T13:30:32.842Z"
   },
   {
    "duration": 15,
    "start_time": "2022-04-26T13:30:32.855Z"
   },
   {
    "duration": 6,
    "start_time": "2022-04-26T13:30:32.871Z"
   },
   {
    "duration": 7,
    "start_time": "2022-04-26T13:30:32.879Z"
   },
   {
    "duration": 13,
    "start_time": "2022-04-26T13:30:32.888Z"
   },
   {
    "duration": 38,
    "start_time": "2022-04-26T13:30:32.903Z"
   },
   {
    "duration": 11,
    "start_time": "2022-04-26T13:30:32.942Z"
   },
   {
    "duration": 14,
    "start_time": "2022-04-26T13:30:32.954Z"
   },
   {
    "duration": 8,
    "start_time": "2022-04-26T13:30:32.970Z"
   },
   {
    "duration": 7,
    "start_time": "2022-04-26T13:30:32.980Z"
   },
   {
    "duration": 15,
    "start_time": "2022-04-26T13:30:32.989Z"
   },
   {
    "duration": 12,
    "start_time": "2022-04-26T13:30:33.006Z"
   },
   {
    "duration": 13,
    "start_time": "2022-04-26T13:30:33.034Z"
   },
   {
    "duration": 26,
    "start_time": "2022-04-26T13:30:33.049Z"
   },
   {
    "duration": 10,
    "start_time": "2022-04-26T13:30:33.077Z"
   },
   {
    "duration": 50,
    "start_time": "2022-04-26T13:30:33.089Z"
   },
   {
    "duration": 19,
    "start_time": "2022-04-26T13:30:33.140Z"
   },
   {
    "duration": 19,
    "start_time": "2022-04-26T13:30:33.161Z"
   },
   {
    "duration": 18,
    "start_time": "2022-04-26T13:34:03.001Z"
   },
   {
    "duration": 196,
    "start_time": "2022-04-26T13:37:06.228Z"
   },
   {
    "duration": 30,
    "start_time": "2022-04-26T13:48:53.437Z"
   },
   {
    "duration": 3,
    "start_time": "2022-04-26T13:53:32.503Z"
   },
   {
    "duration": 4,
    "start_time": "2022-04-26T13:53:53.016Z"
   },
   {
    "duration": 19,
    "start_time": "2022-04-26T13:56:14.930Z"
   },
   {
    "duration": 22,
    "start_time": "2022-04-26T14:53:33.935Z"
   },
   {
    "duration": 22,
    "start_time": "2022-04-26T14:56:29.140Z"
   },
   {
    "duration": 14,
    "start_time": "2022-04-26T14:56:42.359Z"
   },
   {
    "duration": 17,
    "start_time": "2022-04-26T14:58:56.884Z"
   },
   {
    "duration": 18,
    "start_time": "2022-04-26T14:59:08.821Z"
   },
   {
    "duration": 19,
    "start_time": "2022-04-26T14:59:47.408Z"
   },
   {
    "duration": 16,
    "start_time": "2022-04-26T14:59:55.805Z"
   },
   {
    "duration": 16,
    "start_time": "2022-04-26T14:59:59.547Z"
   },
   {
    "duration": 24,
    "start_time": "2022-04-26T15:00:05.431Z"
   },
   {
    "duration": 3,
    "start_time": "2022-04-26T15:00:15.857Z"
   },
   {
    "duration": 101,
    "start_time": "2022-04-26T15:00:15.863Z"
   },
   {
    "duration": 21,
    "start_time": "2022-04-26T15:00:15.966Z"
   },
   {
    "duration": 15,
    "start_time": "2022-04-26T15:00:15.989Z"
   },
   {
    "duration": 40,
    "start_time": "2022-04-26T15:00:16.007Z"
   },
   {
    "duration": 15,
    "start_time": "2022-04-26T15:00:16.050Z"
   },
   {
    "duration": 16,
    "start_time": "2022-04-26T15:00:16.067Z"
   },
   {
    "duration": 5,
    "start_time": "2022-04-26T15:00:16.085Z"
   },
   {
    "duration": 60,
    "start_time": "2022-04-26T15:00:16.092Z"
   },
   {
    "duration": 8,
    "start_time": "2022-04-26T15:00:16.155Z"
   },
   {
    "duration": 5,
    "start_time": "2022-04-26T15:00:16.166Z"
   },
   {
    "duration": 95,
    "start_time": "2022-04-26T15:00:16.173Z"
   },
   {
    "duration": 5,
    "start_time": "2022-04-26T15:00:16.269Z"
   },
   {
    "duration": 12,
    "start_time": "2022-04-26T15:00:16.276Z"
   },
   {
    "duration": 5,
    "start_time": "2022-04-26T15:00:16.290Z"
   },
   {
    "duration": 21,
    "start_time": "2022-04-26T15:00:16.333Z"
   },
   {
    "duration": 52,
    "start_time": "2022-04-26T15:00:16.356Z"
   },
   {
    "duration": 64,
    "start_time": "2022-04-26T15:00:16.409Z"
   },
   {
    "duration": 4,
    "start_time": "2022-04-26T15:00:16.475Z"
   },
   {
    "duration": 14,
    "start_time": "2022-04-26T15:00:16.481Z"
   },
   {
    "duration": 13,
    "start_time": "2022-04-26T15:00:16.497Z"
   },
   {
    "duration": 43,
    "start_time": "2022-04-26T15:00:16.512Z"
   },
   {
    "duration": 5,
    "start_time": "2022-04-26T15:00:16.557Z"
   },
   {
    "duration": 9,
    "start_time": "2022-04-26T15:00:16.563Z"
   },
   {
    "duration": 31,
    "start_time": "2022-04-26T15:00:16.573Z"
   },
   {
    "duration": 42,
    "start_time": "2022-04-26T15:00:16.606Z"
   },
   {
    "duration": 46,
    "start_time": "2022-04-26T15:00:16.653Z"
   },
   {
    "duration": 20,
    "start_time": "2022-04-26T15:00:16.734Z"
   },
   {
    "duration": 22,
    "start_time": "2022-04-26T15:00:16.758Z"
   },
   {
    "duration": 5,
    "start_time": "2022-04-26T15:00:16.782Z"
   },
   {
    "duration": 10,
    "start_time": "2022-04-26T15:00:16.789Z"
   },
   {
    "duration": 7,
    "start_time": "2022-04-26T15:00:16.801Z"
   },
   {
    "duration": 21,
    "start_time": "2022-04-26T15:00:16.835Z"
   },
   {
    "duration": 10,
    "start_time": "2022-04-26T15:00:16.857Z"
   },
   {
    "duration": 15,
    "start_time": "2022-04-26T15:00:16.868Z"
   },
   {
    "duration": 15,
    "start_time": "2022-04-26T15:00:16.884Z"
   },
   {
    "duration": 6,
    "start_time": "2022-04-26T15:00:16.900Z"
   },
   {
    "duration": 29,
    "start_time": "2022-04-26T15:00:16.908Z"
   },
   {
    "duration": 14,
    "start_time": "2022-04-26T15:00:16.945Z"
   },
   {
    "duration": 11,
    "start_time": "2022-04-26T15:00:16.961Z"
   },
   {
    "duration": 11,
    "start_time": "2022-04-26T15:00:16.974Z"
   },
   {
    "duration": 12,
    "start_time": "2022-04-26T15:00:16.987Z"
   },
   {
    "duration": 9,
    "start_time": "2022-04-26T15:00:17.001Z"
   },
   {
    "duration": 29,
    "start_time": "2022-04-26T15:00:17.011Z"
   },
   {
    "duration": 28,
    "start_time": "2022-04-26T15:00:17.043Z"
   },
   {
    "duration": 12,
    "start_time": "2022-04-26T15:00:17.073Z"
   },
   {
    "duration": 15,
    "start_time": "2022-04-26T15:00:17.087Z"
   },
   {
    "duration": 40,
    "start_time": "2022-04-26T15:00:17.103Z"
   },
   {
    "duration": 17,
    "start_time": "2022-04-26T15:00:17.146Z"
   },
   {
    "duration": 3043,
    "start_time": "2022-04-26T15:00:17.165Z"
   },
   {
    "duration": 0,
    "start_time": "2022-04-26T15:00:20.210Z"
   },
   {
    "duration": 0,
    "start_time": "2022-04-26T15:00:20.211Z"
   },
   {
    "duration": 0,
    "start_time": "2022-04-26T15:00:20.212Z"
   },
   {
    "duration": 16,
    "start_time": "2022-04-26T15:00:31.664Z"
   },
   {
    "duration": 29,
    "start_time": "2022-04-26T15:05:02.843Z"
   },
   {
    "duration": 16,
    "start_time": "2022-04-26T15:09:05.851Z"
   },
   {
    "duration": 15,
    "start_time": "2022-04-26T15:09:21.207Z"
   },
   {
    "duration": 158,
    "start_time": "2022-04-26T15:12:49.847Z"
   },
   {
    "duration": 19,
    "start_time": "2022-04-26T15:13:01.627Z"
   },
   {
    "duration": 56,
    "start_time": "2022-04-26T15:13:09.493Z"
   },
   {
    "duration": 64,
    "start_time": "2022-04-26T15:13:57.994Z"
   },
   {
    "duration": 55,
    "start_time": "2022-04-26T15:16:19.324Z"
   },
   {
    "duration": 106,
    "start_time": "2022-04-26T15:16:51.855Z"
   },
   {
    "duration": 95,
    "start_time": "2022-04-26T15:17:36.861Z"
   },
   {
    "duration": 39,
    "start_time": "2022-04-26T15:17:51.019Z"
   },
   {
    "duration": 55,
    "start_time": "2022-04-26T15:23:49.561Z"
   },
   {
    "duration": 16,
    "start_time": "2022-04-26T15:24:51.478Z"
   },
   {
    "duration": 22,
    "start_time": "2022-04-26T15:24:54.528Z"
   },
   {
    "duration": 21,
    "start_time": "2022-04-26T15:25:00.416Z"
   },
   {
    "duration": 21,
    "start_time": "2022-04-26T15:25:05.714Z"
   },
   {
    "duration": 41,
    "start_time": "2022-04-26T15:26:15.604Z"
   },
   {
    "duration": 21,
    "start_time": "2022-04-26T15:27:13.979Z"
   },
   {
    "duration": 17,
    "start_time": "2022-04-26T15:27:31.608Z"
   },
   {
    "duration": 21,
    "start_time": "2022-04-26T15:28:43.854Z"
   },
   {
    "duration": 15,
    "start_time": "2022-04-26T15:28:49.972Z"
   },
   {
    "duration": 17,
    "start_time": "2022-04-26T15:29:50.210Z"
   },
   {
    "duration": 19,
    "start_time": "2022-04-26T15:30:30.937Z"
   },
   {
    "duration": 17,
    "start_time": "2022-04-26T15:31:51.078Z"
   },
   {
    "duration": 15,
    "start_time": "2022-04-26T15:31:58.408Z"
   },
   {
    "duration": 21,
    "start_time": "2022-04-26T15:32:05.555Z"
   },
   {
    "duration": 14,
    "start_time": "2022-04-26T15:32:08.115Z"
   },
   {
    "duration": 18,
    "start_time": "2022-04-26T15:32:11.147Z"
   },
   {
    "duration": 20,
    "start_time": "2022-04-26T15:32:37.163Z"
   },
   {
    "duration": 14,
    "start_time": "2022-04-26T15:32:42.474Z"
   },
   {
    "duration": 14,
    "start_time": "2022-04-26T15:32:44.259Z"
   },
   {
    "duration": 19,
    "start_time": "2022-04-26T15:32:47.515Z"
   },
   {
    "duration": 20,
    "start_time": "2022-04-26T15:46:14.217Z"
   },
   {
    "duration": 21,
    "start_time": "2022-04-26T15:46:16.136Z"
   },
   {
    "duration": 22,
    "start_time": "2022-04-26T15:46:17.680Z"
   },
   {
    "duration": 22,
    "start_time": "2022-04-26T15:46:22.491Z"
   },
   {
    "duration": 21,
    "start_time": "2022-04-26T15:46:25.724Z"
   },
   {
    "duration": 27,
    "start_time": "2022-04-26T15:46:32.421Z"
   },
   {
    "duration": 69,
    "start_time": "2022-04-26T15:47:16.966Z"
   },
   {
    "duration": 28,
    "start_time": "2022-04-26T15:47:30.319Z"
   },
   {
    "duration": 16,
    "start_time": "2022-04-26T15:47:57.541Z"
   },
   {
    "duration": 17,
    "start_time": "2022-04-26T15:51:41.797Z"
   },
   {
    "duration": 14,
    "start_time": "2022-04-26T15:51:46.249Z"
   },
   {
    "duration": 14,
    "start_time": "2022-04-26T15:53:21.107Z"
   },
   {
    "duration": 14,
    "start_time": "2022-04-26T15:53:26.043Z"
   },
   {
    "duration": 15,
    "start_time": "2022-04-26T15:53:35.189Z"
   },
   {
    "duration": 3,
    "start_time": "2022-04-26T15:53:47.479Z"
   },
   {
    "duration": 78,
    "start_time": "2022-04-26T15:53:47.484Z"
   },
   {
    "duration": 16,
    "start_time": "2022-04-26T15:53:47.565Z"
   },
   {
    "duration": 16,
    "start_time": "2022-04-26T15:53:47.584Z"
   },
   {
    "duration": 12,
    "start_time": "2022-04-26T15:53:47.633Z"
   },
   {
    "duration": 14,
    "start_time": "2022-04-26T15:53:47.647Z"
   },
   {
    "duration": 93,
    "start_time": "2022-04-26T15:53:47.663Z"
   },
   {
    "duration": 9,
    "start_time": "2022-04-26T15:53:47.758Z"
   },
   {
    "duration": 16,
    "start_time": "2022-04-26T15:53:47.768Z"
   },
   {
    "duration": 11,
    "start_time": "2022-04-26T15:53:47.786Z"
   },
   {
    "duration": 33,
    "start_time": "2022-04-26T15:53:47.800Z"
   },
   {
    "duration": 45,
    "start_time": "2022-04-26T15:53:47.835Z"
   },
   {
    "duration": 52,
    "start_time": "2022-04-26T15:53:47.881Z"
   },
   {
    "duration": 10,
    "start_time": "2022-04-26T15:53:47.935Z"
   },
   {
    "duration": 6,
    "start_time": "2022-04-26T15:53:47.947Z"
   },
   {
    "duration": 13,
    "start_time": "2022-04-26T15:53:47.955Z"
   },
   {
    "duration": 81,
    "start_time": "2022-04-26T15:53:47.970Z"
   },
   {
    "duration": 32,
    "start_time": "2022-04-26T15:53:48.053Z"
   },
   {
    "duration": 5,
    "start_time": "2022-04-26T15:53:48.087Z"
   },
   {
    "duration": 6,
    "start_time": "2022-04-26T15:53:48.093Z"
   },
   {
    "duration": 36,
    "start_time": "2022-04-26T15:53:48.101Z"
   },
   {
    "duration": 19,
    "start_time": "2022-04-26T15:53:48.138Z"
   },
   {
    "duration": 4,
    "start_time": "2022-04-26T15:53:48.159Z"
   },
   {
    "duration": 7,
    "start_time": "2022-04-26T15:53:48.164Z"
   },
   {
    "duration": 22,
    "start_time": "2022-04-26T15:53:48.172Z"
   },
   {
    "duration": 54,
    "start_time": "2022-04-26T15:53:48.195Z"
   },
   {
    "duration": 44,
    "start_time": "2022-04-26T15:53:48.251Z"
   },
   {
    "duration": 41,
    "start_time": "2022-04-26T15:53:48.296Z"
   },
   {
    "duration": 25,
    "start_time": "2022-04-26T15:53:48.341Z"
   },
   {
    "duration": 5,
    "start_time": "2022-04-26T15:53:48.368Z"
   },
   {
    "duration": 12,
    "start_time": "2022-04-26T15:53:48.375Z"
   },
   {
    "duration": 11,
    "start_time": "2022-04-26T15:53:48.389Z"
   },
   {
    "duration": 38,
    "start_time": "2022-04-26T15:53:48.402Z"
   },
   {
    "duration": 13,
    "start_time": "2022-04-26T15:53:48.442Z"
   },
   {
    "duration": 11,
    "start_time": "2022-04-26T15:53:48.457Z"
   },
   {
    "duration": 15,
    "start_time": "2022-04-26T15:53:48.469Z"
   },
   {
    "duration": 12,
    "start_time": "2022-04-26T15:53:48.486Z"
   },
   {
    "duration": 10,
    "start_time": "2022-04-26T15:53:48.500Z"
   },
   {
    "duration": 21,
    "start_time": "2022-04-26T15:53:48.512Z"
   },
   {
    "duration": 12,
    "start_time": "2022-04-26T15:53:48.535Z"
   },
   {
    "duration": 12,
    "start_time": "2022-04-26T15:53:48.548Z"
   },
   {
    "duration": 11,
    "start_time": "2022-04-26T15:53:48.562Z"
   },
   {
    "duration": 34,
    "start_time": "2022-04-26T15:53:48.575Z"
   },
   {
    "duration": 49,
    "start_time": "2022-04-26T15:53:48.611Z"
   },
   {
    "duration": 23,
    "start_time": "2022-04-26T15:53:48.662Z"
   },
   {
    "duration": 38,
    "start_time": "2022-04-26T15:53:48.686Z"
   },
   {
    "duration": 21,
    "start_time": "2022-04-26T15:53:48.725Z"
   },
   {
    "duration": 31,
    "start_time": "2022-04-26T15:53:48.748Z"
   },
   {
    "duration": 17,
    "start_time": "2022-04-26T15:53:48.782Z"
   },
   {
    "duration": 0,
    "start_time": "2022-04-26T15:53:48.802Z"
   },
   {
    "duration": 0,
    "start_time": "2022-04-26T15:53:48.803Z"
   },
   {
    "duration": 19,
    "start_time": "2022-04-26T15:54:24.798Z"
   },
   {
    "duration": 16,
    "start_time": "2022-04-26T15:54:27.515Z"
   },
   {
    "duration": 19,
    "start_time": "2022-04-26T15:54:42.388Z"
   },
   {
    "duration": 15,
    "start_time": "2022-04-26T15:54:53.445Z"
   },
   {
    "duration": 16,
    "start_time": "2022-04-26T15:54:57.149Z"
   },
   {
    "duration": 20,
    "start_time": "2022-04-26T15:55:10.545Z"
   },
   {
    "duration": 18,
    "start_time": "2022-04-26T15:58:41.261Z"
   },
   {
    "duration": 18,
    "start_time": "2022-04-26T16:02:41.889Z"
   },
   {
    "duration": 3,
    "start_time": "2022-04-26T16:12:22.443Z"
   },
   {
    "duration": 101,
    "start_time": "2022-04-26T16:12:22.448Z"
   },
   {
    "duration": 16,
    "start_time": "2022-04-26T16:12:22.551Z"
   },
   {
    "duration": 22,
    "start_time": "2022-04-26T16:12:22.569Z"
   },
   {
    "duration": 25,
    "start_time": "2022-04-26T16:12:22.593Z"
   },
   {
    "duration": 12,
    "start_time": "2022-04-26T16:12:22.633Z"
   },
   {
    "duration": 28,
    "start_time": "2022-04-26T16:12:22.647Z"
   },
   {
    "duration": 19,
    "start_time": "2022-04-26T16:12:22.677Z"
   },
   {
    "duration": 24,
    "start_time": "2022-04-26T16:12:22.698Z"
   },
   {
    "duration": 27,
    "start_time": "2022-04-26T16:12:22.724Z"
   },
   {
    "duration": 28,
    "start_time": "2022-04-26T16:12:22.754Z"
   },
   {
    "duration": 68,
    "start_time": "2022-04-26T16:12:22.784Z"
   },
   {
    "duration": 4,
    "start_time": "2022-04-26T16:12:22.854Z"
   },
   {
    "duration": 22,
    "start_time": "2022-04-26T16:12:22.860Z"
   },
   {
    "duration": 10,
    "start_time": "2022-04-26T16:12:22.883Z"
   },
   {
    "duration": 15,
    "start_time": "2022-04-26T16:12:22.894Z"
   },
   {
    "duration": 67,
    "start_time": "2022-04-26T16:12:22.911Z"
   },
   {
    "duration": 64,
    "start_time": "2022-04-26T16:12:22.980Z"
   },
   {
    "duration": 4,
    "start_time": "2022-04-26T16:12:23.045Z"
   },
   {
    "duration": 22,
    "start_time": "2022-04-26T16:12:23.051Z"
   },
   {
    "duration": 14,
    "start_time": "2022-04-26T16:12:23.075Z"
   },
   {
    "duration": 39,
    "start_time": "2022-04-26T16:12:23.090Z"
   },
   {
    "duration": 19,
    "start_time": "2022-04-26T16:12:23.131Z"
   },
   {
    "duration": 89,
    "start_time": "2022-04-26T16:12:23.151Z"
   },
   {
    "duration": 43,
    "start_time": "2022-04-26T16:12:23.241Z"
   },
   {
    "duration": 41,
    "start_time": "2022-04-26T16:12:23.285Z"
   },
   {
    "duration": 44,
    "start_time": "2022-04-26T16:12:23.328Z"
   },
   {
    "duration": 13,
    "start_time": "2022-04-26T16:12:23.374Z"
   },
   {
    "duration": 50,
    "start_time": "2022-04-26T16:12:23.391Z"
   },
   {
    "duration": 6,
    "start_time": "2022-04-26T16:12:23.443Z"
   },
   {
    "duration": 26,
    "start_time": "2022-04-26T16:12:23.451Z"
   },
   {
    "duration": 13,
    "start_time": "2022-04-26T16:12:23.479Z"
   },
   {
    "duration": 32,
    "start_time": "2022-04-26T16:12:23.494Z"
   },
   {
    "duration": 57,
    "start_time": "2022-04-26T16:12:23.528Z"
   },
   {
    "duration": 21,
    "start_time": "2022-04-26T16:12:23.586Z"
   },
   {
    "duration": 29,
    "start_time": "2022-04-26T16:12:23.610Z"
   },
   {
    "duration": 14,
    "start_time": "2022-04-26T16:12:23.641Z"
   },
   {
    "duration": 15,
    "start_time": "2022-04-26T16:12:23.657Z"
   },
   {
    "duration": 38,
    "start_time": "2022-04-26T16:12:23.674Z"
   },
   {
    "duration": 25,
    "start_time": "2022-04-26T16:12:23.714Z"
   },
   {
    "duration": 34,
    "start_time": "2022-04-26T16:12:23.741Z"
   },
   {
    "duration": 21,
    "start_time": "2022-04-26T16:12:23.777Z"
   },
   {
    "duration": 14,
    "start_time": "2022-04-26T16:12:23.800Z"
   },
   {
    "duration": 19,
    "start_time": "2022-04-26T16:12:23.816Z"
   },
   {
    "duration": 33,
    "start_time": "2022-04-26T16:12:23.837Z"
   },
   {
    "duration": 14,
    "start_time": "2022-04-26T16:12:23.872Z"
   },
   {
    "duration": 34,
    "start_time": "2022-04-26T16:12:23.888Z"
   },
   {
    "duration": 24,
    "start_time": "2022-04-26T16:12:23.924Z"
   },
   {
    "duration": 18,
    "start_time": "2022-04-26T16:12:23.950Z"
   },
   {
    "duration": 23,
    "start_time": "2022-04-26T16:12:23.970Z"
   },
   {
    "duration": 33,
    "start_time": "2022-04-26T16:12:23.995Z"
   },
   {
    "duration": 9,
    "start_time": "2022-04-26T16:25:02.766Z"
   },
   {
    "duration": 12,
    "start_time": "2022-04-26T16:26:08.126Z"
   },
   {
    "duration": 16,
    "start_time": "2022-04-26T16:26:20.199Z"
   },
   {
    "duration": 9,
    "start_time": "2022-04-26T16:26:27.666Z"
   },
   {
    "duration": 372,
    "start_time": "2022-04-26T16:31:29.929Z"
   },
   {
    "duration": 16,
    "start_time": "2022-04-26T16:31:49.142Z"
   },
   {
    "duration": 14,
    "start_time": "2022-04-26T16:32:02.453Z"
   },
   {
    "duration": 14,
    "start_time": "2022-04-26T16:32:04.754Z"
   },
   {
    "duration": 9,
    "start_time": "2022-04-26T16:32:14.801Z"
   },
   {
    "duration": 3,
    "start_time": "2022-04-26T16:32:18.274Z"
   },
   {
    "duration": 1554,
    "start_time": "2022-04-26T16:32:18.279Z"
   },
   {
    "duration": 15,
    "start_time": "2022-04-26T16:32:19.835Z"
   },
   {
    "duration": 14,
    "start_time": "2022-04-26T16:32:19.852Z"
   },
   {
    "duration": 10,
    "start_time": "2022-04-26T16:32:19.868Z"
   },
   {
    "duration": 11,
    "start_time": "2022-04-26T16:32:19.880Z"
   },
   {
    "duration": 53,
    "start_time": "2022-04-26T16:32:19.892Z"
   },
   {
    "duration": 7,
    "start_time": "2022-04-26T16:32:19.947Z"
   },
   {
    "duration": 14,
    "start_time": "2022-04-26T16:32:19.957Z"
   },
   {
    "duration": 9,
    "start_time": "2022-04-26T16:32:19.973Z"
   },
   {
    "duration": 8,
    "start_time": "2022-04-26T16:32:19.984Z"
   },
   {
    "duration": 45,
    "start_time": "2022-04-26T16:32:19.994Z"
   },
   {
    "duration": 9,
    "start_time": "2022-04-26T16:32:20.041Z"
   },
   {
    "duration": 50,
    "start_time": "2022-04-26T16:32:20.051Z"
   },
   {
    "duration": 5,
    "start_time": "2022-04-26T16:32:20.134Z"
   },
   {
    "duration": 10,
    "start_time": "2022-04-26T16:32:20.141Z"
   },
   {
    "duration": 5,
    "start_time": "2022-04-26T16:32:20.153Z"
   },
   {
    "duration": 10,
    "start_time": "2022-04-26T16:32:20.160Z"
   },
   {
    "duration": 85,
    "start_time": "2022-04-26T16:32:20.172Z"
   },
   {
    "duration": 32,
    "start_time": "2022-04-26T16:32:20.259Z"
   },
   {
    "duration": 4,
    "start_time": "2022-04-26T16:32:20.293Z"
   },
   {
    "duration": 38,
    "start_time": "2022-04-26T16:32:20.299Z"
   },
   {
    "duration": 8,
    "start_time": "2022-04-26T16:32:20.339Z"
   },
   {
    "duration": 17,
    "start_time": "2022-04-26T16:32:20.353Z"
   },
   {
    "duration": 4,
    "start_time": "2022-04-26T16:32:20.372Z"
   },
   {
    "duration": 7,
    "start_time": "2022-04-26T16:32:20.378Z"
   },
   {
    "duration": 52,
    "start_time": "2022-04-26T16:32:20.387Z"
   },
   {
    "duration": 20,
    "start_time": "2022-04-26T16:32:20.441Z"
   },
   {
    "duration": 76,
    "start_time": "2022-04-26T16:32:20.463Z"
   },
   {
    "duration": 11,
    "start_time": "2022-04-26T16:32:20.541Z"
   },
   {
    "duration": 23,
    "start_time": "2022-04-26T16:32:20.554Z"
   },
   {
    "duration": 7,
    "start_time": "2022-04-26T16:32:20.579Z"
   },
   {
    "duration": 13,
    "start_time": "2022-04-26T16:32:20.587Z"
   },
   {
    "duration": 43,
    "start_time": "2022-04-26T16:32:20.602Z"
   },
   {
    "duration": 12,
    "start_time": "2022-04-26T16:32:20.646Z"
   },
   {
    "duration": 8,
    "start_time": "2022-04-26T16:32:20.661Z"
   },
   {
    "duration": 11,
    "start_time": "2022-04-26T16:32:20.671Z"
   },
   {
    "duration": 19,
    "start_time": "2022-04-26T16:32:20.683Z"
   },
   {
    "duration": 6,
    "start_time": "2022-04-26T16:32:20.703Z"
   },
   {
    "duration": 7,
    "start_time": "2022-04-26T16:32:20.711Z"
   },
   {
    "duration": 10,
    "start_time": "2022-04-26T16:32:20.734Z"
   },
   {
    "duration": 11,
    "start_time": "2022-04-26T16:32:20.746Z"
   },
   {
    "duration": 17,
    "start_time": "2022-04-26T16:32:20.759Z"
   },
   {
    "duration": 18,
    "start_time": "2022-04-26T16:32:20.778Z"
   },
   {
    "duration": 5,
    "start_time": "2022-04-26T16:32:20.798Z"
   },
   {
    "duration": 7,
    "start_time": "2022-04-26T16:32:20.805Z"
   },
   {
    "duration": 28,
    "start_time": "2022-04-26T16:32:20.814Z"
   },
   {
    "duration": 8,
    "start_time": "2022-04-26T16:32:20.844Z"
   },
   {
    "duration": 21,
    "start_time": "2022-04-26T16:32:20.854Z"
   },
   {
    "duration": 21,
    "start_time": "2022-04-26T16:32:20.877Z"
   },
   {
    "duration": 40,
    "start_time": "2022-04-26T16:32:20.900Z"
   },
   {
    "duration": 16,
    "start_time": "2022-04-26T16:32:20.941Z"
   },
   {
    "duration": 16,
    "start_time": "2022-04-26T16:32:20.959Z"
   },
   {
    "duration": 9,
    "start_time": "2022-04-26T16:32:56.114Z"
   },
   {
    "duration": 10,
    "start_time": "2022-04-26T16:33:08.044Z"
   },
   {
    "duration": 5,
    "start_time": "2022-04-26T16:33:37.985Z"
   },
   {
    "duration": 9,
    "start_time": "2022-04-26T16:33:45.039Z"
   },
   {
    "duration": 6,
    "start_time": "2022-04-26T16:33:50.571Z"
   },
   {
    "duration": 7,
    "start_time": "2022-04-26T16:33:59.041Z"
   },
   {
    "duration": 7,
    "start_time": "2022-04-26T16:34:02.879Z"
   },
   {
    "duration": 7,
    "start_time": "2022-04-26T16:34:06.419Z"
   },
   {
    "duration": 7,
    "start_time": "2022-04-26T16:34:46.534Z"
   },
   {
    "duration": 6,
    "start_time": "2022-04-26T16:35:05.210Z"
   },
   {
    "duration": 9,
    "start_time": "2022-04-26T16:36:16.931Z"
   },
   {
    "duration": 11,
    "start_time": "2022-04-26T16:37:03.851Z"
   },
   {
    "duration": 8,
    "start_time": "2022-04-26T16:37:10.591Z"
   },
   {
    "duration": 3,
    "start_time": "2022-04-26T16:37:21.874Z"
   },
   {
    "duration": 112,
    "start_time": "2022-04-26T16:37:21.880Z"
   },
   {
    "duration": 38,
    "start_time": "2022-04-26T16:37:21.995Z"
   },
   {
    "duration": 15,
    "start_time": "2022-04-26T16:37:22.035Z"
   },
   {
    "duration": 13,
    "start_time": "2022-04-26T16:37:22.053Z"
   },
   {
    "duration": 12,
    "start_time": "2022-04-26T16:37:22.069Z"
   },
   {
    "duration": 64,
    "start_time": "2022-04-26T16:37:22.083Z"
   },
   {
    "duration": 14,
    "start_time": "2022-04-26T16:37:22.148Z"
   },
   {
    "duration": 14,
    "start_time": "2022-04-26T16:37:22.164Z"
   },
   {
    "duration": 12,
    "start_time": "2022-04-26T16:37:22.180Z"
   },
   {
    "duration": 9,
    "start_time": "2022-04-26T16:37:22.235Z"
   },
   {
    "duration": 17,
    "start_time": "2022-04-26T16:37:22.246Z"
   },
   {
    "duration": 13,
    "start_time": "2022-04-26T16:37:22.265Z"
   },
   {
    "duration": 13,
    "start_time": "2022-04-26T16:37:22.280Z"
   },
   {
    "duration": 63,
    "start_time": "2022-04-26T16:37:22.295Z"
   },
   {
    "duration": 5,
    "start_time": "2022-04-26T16:37:22.360Z"
   },
   {
    "duration": 15,
    "start_time": "2022-04-26T16:37:22.367Z"
   },
   {
    "duration": 6,
    "start_time": "2022-04-26T16:37:22.384Z"
   },
   {
    "duration": 9,
    "start_time": "2022-04-26T16:37:22.392Z"
   },
   {
    "duration": 52,
    "start_time": "2022-04-26T16:37:22.434Z"
   },
   {
    "duration": 69,
    "start_time": "2022-04-26T16:37:22.488Z"
   },
   {
    "duration": 4,
    "start_time": "2022-04-26T16:37:22.559Z"
   },
   {
    "duration": 21,
    "start_time": "2022-04-26T16:37:22.564Z"
   },
   {
    "duration": 15,
    "start_time": "2022-04-26T16:37:22.586Z"
   },
   {
    "duration": 36,
    "start_time": "2022-04-26T16:37:22.603Z"
   },
   {
    "duration": 5,
    "start_time": "2022-04-26T16:37:22.641Z"
   },
   {
    "duration": 12,
    "start_time": "2022-04-26T16:37:22.648Z"
   },
   {
    "duration": 35,
    "start_time": "2022-04-26T16:37:22.662Z"
   },
   {
    "duration": 37,
    "start_time": "2022-04-26T16:37:22.702Z"
   },
   {
    "duration": 43,
    "start_time": "2022-04-26T16:37:22.741Z"
   },
   {
    "duration": 48,
    "start_time": "2022-04-26T16:37:22.786Z"
   },
   {
    "duration": 34,
    "start_time": "2022-04-26T16:37:22.837Z"
   },
   {
    "duration": 7,
    "start_time": "2022-04-26T16:37:22.874Z"
   },
   {
    "duration": 13,
    "start_time": "2022-04-26T16:37:22.883Z"
   },
   {
    "duration": 10,
    "start_time": "2022-04-26T16:37:22.898Z"
   },
   {
    "duration": 9,
    "start_time": "2022-04-26T16:37:22.934Z"
   },
   {
    "duration": 14,
    "start_time": "2022-04-26T16:37:22.944Z"
   },
   {
    "duration": 16,
    "start_time": "2022-04-26T16:37:22.959Z"
   },
   {
    "duration": 16,
    "start_time": "2022-04-26T16:37:22.977Z"
   },
   {
    "duration": 16,
    "start_time": "2022-04-26T16:37:22.995Z"
   },
   {
    "duration": 8,
    "start_time": "2022-04-26T16:37:23.013Z"
   },
   {
    "duration": 22,
    "start_time": "2022-04-26T16:37:23.022Z"
   },
   {
    "duration": 17,
    "start_time": "2022-04-26T16:37:23.046Z"
   },
   {
    "duration": 12,
    "start_time": "2022-04-26T16:37:23.064Z"
   },
   {
    "duration": 13,
    "start_time": "2022-04-26T16:37:23.078Z"
   },
   {
    "duration": 11,
    "start_time": "2022-04-26T16:37:23.093Z"
   },
   {
    "duration": 28,
    "start_time": "2022-04-26T16:37:23.106Z"
   },
   {
    "duration": 11,
    "start_time": "2022-04-26T16:37:23.136Z"
   },
   {
    "duration": 14,
    "start_time": "2022-04-26T16:37:23.148Z"
   },
   {
    "duration": 30,
    "start_time": "2022-04-26T16:37:23.164Z"
   },
   {
    "duration": 25,
    "start_time": "2022-04-26T16:37:23.195Z"
   },
   {
    "duration": 20,
    "start_time": "2022-04-26T16:37:23.232Z"
   },
   {
    "duration": 18,
    "start_time": "2022-04-26T16:37:23.254Z"
   },
   {
    "duration": 24,
    "start_time": "2022-04-26T16:37:23.274Z"
   },
   {
    "duration": 9,
    "start_time": "2022-04-26T16:37:52.661Z"
   },
   {
    "duration": 12,
    "start_time": "2022-04-26T16:38:03.018Z"
   },
   {
    "duration": 11,
    "start_time": "2022-04-26T16:38:11.097Z"
   },
   {
    "duration": 3,
    "start_time": "2022-04-26T16:38:25.147Z"
   },
   {
    "duration": 75,
    "start_time": "2022-04-26T16:38:25.152Z"
   },
   {
    "duration": 16,
    "start_time": "2022-04-26T16:38:25.229Z"
   },
   {
    "duration": 14,
    "start_time": "2022-04-26T16:38:25.247Z"
   },
   {
    "duration": 12,
    "start_time": "2022-04-26T16:38:25.264Z"
   },
   {
    "duration": 13,
    "start_time": "2022-04-26T16:38:25.278Z"
   },
   {
    "duration": 58,
    "start_time": "2022-04-26T16:38:25.293Z"
   },
   {
    "duration": 19,
    "start_time": "2022-04-26T16:38:34.347Z"
   },
   {
    "duration": 10,
    "start_time": "2022-04-26T16:38:34.490Z"
   },
   {
    "duration": 13,
    "start_time": "2022-04-26T16:39:11.784Z"
   },
   {
    "duration": 13,
    "start_time": "2022-04-26T16:39:13.319Z"
   },
   {
    "duration": 6,
    "start_time": "2022-04-26T16:39:27.006Z"
   },
   {
    "duration": 11,
    "start_time": "2022-04-26T16:39:41.990Z"
   },
   {
    "duration": 9,
    "start_time": "2022-04-26T16:40:11.898Z"
   },
   {
    "duration": 6,
    "start_time": "2022-04-26T16:40:21.743Z"
   },
   {
    "duration": 5,
    "start_time": "2022-04-26T16:59:01.987Z"
   },
   {
    "duration": 11,
    "start_time": "2022-04-26T16:59:05.383Z"
   },
   {
    "duration": 3,
    "start_time": "2022-04-26T16:59:28.581Z"
   },
   {
    "duration": 11,
    "start_time": "2022-04-26T16:59:30.453Z"
   },
   {
    "duration": 11,
    "start_time": "2022-04-26T16:59:32.705Z"
   },
   {
    "duration": 3,
    "start_time": "2022-04-26T16:59:44.509Z"
   },
   {
    "duration": 86,
    "start_time": "2022-04-26T16:59:44.515Z"
   },
   {
    "duration": 16,
    "start_time": "2022-04-26T16:59:44.603Z"
   },
   {
    "duration": 22,
    "start_time": "2022-04-26T16:59:44.621Z"
   },
   {
    "duration": 13,
    "start_time": "2022-04-26T16:59:44.645Z"
   },
   {
    "duration": 18,
    "start_time": "2022-04-26T16:59:44.660Z"
   },
   {
    "duration": 19,
    "start_time": "2022-04-26T16:59:44.681Z"
   },
   {
    "duration": 44,
    "start_time": "2022-04-26T16:59:44.702Z"
   },
   {
    "duration": 2,
    "start_time": "2022-04-26T16:59:44.749Z"
   },
   {
    "duration": 17,
    "start_time": "2022-04-26T16:59:48.054Z"
   },
   {
    "duration": 9,
    "start_time": "2022-04-26T16:59:55.321Z"
   },
   {
    "duration": 5,
    "start_time": "2022-04-26T16:59:58.203Z"
   },
   {
    "duration": 9,
    "start_time": "2022-04-26T17:01:39.216Z"
   },
   {
    "duration": 40,
    "start_time": "2022-04-26T17:06:59.965Z"
   },
   {
    "duration": 5,
    "start_time": "2022-04-26T17:07:47.824Z"
   },
   {
    "duration": 5,
    "start_time": "2022-04-26T17:09:28.114Z"
   },
   {
    "duration": 6,
    "start_time": "2022-04-26T17:09:29.723Z"
   },
   {
    "duration": 5,
    "start_time": "2022-04-26T17:09:37.424Z"
   },
   {
    "duration": 11,
    "start_time": "2022-04-26T17:10:47.046Z"
   },
   {
    "duration": 4,
    "start_time": "2022-04-26T17:11:16.416Z"
   },
   {
    "duration": 94,
    "start_time": "2022-04-26T17:11:16.422Z"
   },
   {
    "duration": 18,
    "start_time": "2022-04-26T17:11:16.518Z"
   },
   {
    "duration": 17,
    "start_time": "2022-04-26T17:11:16.539Z"
   },
   {
    "duration": 13,
    "start_time": "2022-04-26T17:11:16.558Z"
   },
   {
    "duration": 13,
    "start_time": "2022-04-26T17:11:16.573Z"
   },
   {
    "duration": 50,
    "start_time": "2022-04-26T17:11:16.587Z"
   },
   {
    "duration": 18,
    "start_time": "2022-04-26T17:11:16.639Z"
   },
   {
    "duration": 3,
    "start_time": "2022-04-26T17:11:16.659Z"
   },
   {
    "duration": 46,
    "start_time": "2022-04-26T17:11:16.663Z"
   },
   {
    "duration": 38,
    "start_time": "2022-04-26T17:11:16.711Z"
   },
   {
    "duration": 6,
    "start_time": "2022-04-26T17:11:16.751Z"
   },
   {
    "duration": 7,
    "start_time": "2022-04-26T17:11:16.759Z"
   },
   {
    "duration": 88,
    "start_time": "2022-04-26T17:11:16.767Z"
   },
   {
    "duration": 5,
    "start_time": "2022-04-26T17:11:16.857Z"
   },
   {
    "duration": 11,
    "start_time": "2022-04-26T17:11:16.864Z"
   },
   {
    "duration": 5,
    "start_time": "2022-04-26T17:11:16.877Z"
   },
   {
    "duration": 6,
    "start_time": "2022-04-26T17:11:16.884Z"
   },
   {
    "duration": 85,
    "start_time": "2022-04-26T17:11:16.892Z"
   },
   {
    "duration": 30,
    "start_time": "2022-04-26T17:11:16.979Z"
   },
   {
    "duration": 4,
    "start_time": "2022-04-26T17:11:17.011Z"
   },
   {
    "duration": 38,
    "start_time": "2022-04-26T17:11:17.016Z"
   },
   {
    "duration": 21,
    "start_time": "2022-04-26T17:11:17.056Z"
   },
   {
    "duration": 23,
    "start_time": "2022-04-26T17:11:17.081Z"
   },
   {
    "duration": 4,
    "start_time": "2022-04-26T17:11:17.106Z"
   },
   {
    "duration": 6,
    "start_time": "2022-04-26T17:11:17.112Z"
   },
   {
    "duration": 31,
    "start_time": "2022-04-26T17:11:17.119Z"
   },
   {
    "duration": 20,
    "start_time": "2022-04-26T17:11:17.152Z"
   },
   {
    "duration": 63,
    "start_time": "2022-04-26T17:11:17.174Z"
   },
   {
    "duration": 16,
    "start_time": "2022-04-26T17:11:17.238Z"
   },
   {
    "duration": 18,
    "start_time": "2022-04-26T17:11:17.256Z"
   },
   {
    "duration": 6,
    "start_time": "2022-04-26T17:11:17.275Z"
   },
   {
    "duration": 11,
    "start_time": "2022-04-26T17:11:17.283Z"
   },
   {
    "duration": 8,
    "start_time": "2022-04-26T17:11:17.296Z"
   },
   {
    "duration": 13,
    "start_time": "2022-04-26T17:11:17.337Z"
   },
   {
    "duration": 9,
    "start_time": "2022-04-26T17:11:17.352Z"
   },
   {
    "duration": 9,
    "start_time": "2022-04-26T17:11:17.362Z"
   },
   {
    "duration": 13,
    "start_time": "2022-04-26T17:11:17.373Z"
   },
   {
    "duration": 10,
    "start_time": "2022-04-26T17:11:17.387Z"
   },
   {
    "duration": 10,
    "start_time": "2022-04-26T17:11:17.399Z"
   },
   {
    "duration": 34,
    "start_time": "2022-04-26T17:11:17.411Z"
   },
   {
    "duration": 13,
    "start_time": "2022-04-26T17:11:17.447Z"
   },
   {
    "duration": 15,
    "start_time": "2022-04-26T17:11:17.462Z"
   },
   {
    "duration": 18,
    "start_time": "2022-04-26T17:11:17.478Z"
   },
   {
    "duration": 10,
    "start_time": "2022-04-26T17:11:17.498Z"
   },
   {
    "duration": 7,
    "start_time": "2022-04-26T17:11:17.510Z"
   },
   {
    "duration": 21,
    "start_time": "2022-04-26T17:11:17.519Z"
   },
   {
    "duration": 10,
    "start_time": "2022-04-26T17:11:17.543Z"
   },
   {
    "duration": 16,
    "start_time": "2022-04-26T17:11:17.555Z"
   },
   {
    "duration": 20,
    "start_time": "2022-04-26T17:11:17.573Z"
   },
   {
    "duration": 17,
    "start_time": "2022-04-26T17:11:17.595Z"
   },
   {
    "duration": 17,
    "start_time": "2022-04-26T17:11:17.641Z"
   },
   {
    "duration": 15,
    "start_time": "2022-04-26T17:11:17.659Z"
   },
   {
    "duration": 40,
    "start_time": "2022-04-26T17:12:00.849Z"
   },
   {
    "duration": 40,
    "start_time": "2022-04-26T17:12:13.452Z"
   },
   {
    "duration": 11,
    "start_time": "2022-04-26T17:12:40.074Z"
   },
   {
    "duration": 3,
    "start_time": "2022-04-26T17:12:49.249Z"
   },
   {
    "duration": 76,
    "start_time": "2022-04-26T17:12:49.254Z"
   },
   {
    "duration": 21,
    "start_time": "2022-04-26T17:12:49.332Z"
   },
   {
    "duration": 14,
    "start_time": "2022-04-26T17:12:49.355Z"
   },
   {
    "duration": 10,
    "start_time": "2022-04-26T17:12:49.372Z"
   },
   {
    "duration": 13,
    "start_time": "2022-04-26T17:12:49.383Z"
   },
   {
    "duration": 56,
    "start_time": "2022-04-26T17:12:49.398Z"
   },
   {
    "duration": 14,
    "start_time": "2022-04-26T17:12:49.455Z"
   },
   {
    "duration": 2,
    "start_time": "2022-04-26T17:12:49.471Z"
   },
   {
    "duration": 80,
    "start_time": "2022-04-26T17:12:49.475Z"
   },
   {
    "duration": 11,
    "start_time": "2022-04-26T17:12:49.558Z"
   },
   {
    "duration": 6,
    "start_time": "2022-04-26T17:12:49.570Z"
   },
   {
    "duration": 6,
    "start_time": "2022-04-26T17:12:49.577Z"
   },
   {
    "duration": 84,
    "start_time": "2022-04-26T17:12:49.584Z"
   },
   {
    "duration": 4,
    "start_time": "2022-04-26T17:12:49.669Z"
   },
   {
    "duration": 29,
    "start_time": "2022-04-26T17:12:49.675Z"
   },
   {
    "duration": 13,
    "start_time": "2022-04-26T17:12:49.706Z"
   },
   {
    "duration": 12,
    "start_time": "2022-04-26T17:12:49.721Z"
   },
   {
    "duration": 77,
    "start_time": "2022-04-26T17:12:49.734Z"
   },
   {
    "duration": 52,
    "start_time": "2022-04-26T17:12:49.813Z"
   },
   {
    "duration": 5,
    "start_time": "2022-04-26T17:12:49.866Z"
   },
   {
    "duration": 5,
    "start_time": "2022-04-26T17:12:49.874Z"
   },
   {
    "duration": 13,
    "start_time": "2022-04-26T17:12:49.881Z"
   },
   {
    "duration": 40,
    "start_time": "2022-04-26T17:12:49.896Z"
   },
   {
    "duration": 5,
    "start_time": "2022-04-26T17:12:49.938Z"
   },
   {
    "duration": 16,
    "start_time": "2022-04-26T17:12:49.944Z"
   },
   {
    "duration": 22,
    "start_time": "2022-04-26T17:12:49.961Z"
   },
   {
    "duration": 54,
    "start_time": "2022-04-26T17:12:49.984Z"
   },
   {
    "duration": 46,
    "start_time": "2022-04-26T17:12:50.043Z"
   },
   {
    "duration": 11,
    "start_time": "2022-04-26T17:12:50.090Z"
   },
   {
    "duration": 55,
    "start_time": "2022-04-26T17:12:50.102Z"
   },
   {
    "duration": 6,
    "start_time": "2022-04-26T17:12:50.159Z"
   },
   {
    "duration": 14,
    "start_time": "2022-04-26T17:12:50.167Z"
   },
   {
    "duration": 15,
    "start_time": "2022-04-26T17:12:50.182Z"
   },
   {
    "duration": 37,
    "start_time": "2022-04-26T17:12:50.199Z"
   },
   {
    "duration": 12,
    "start_time": "2022-04-26T17:12:50.237Z"
   },
   {
    "duration": 14,
    "start_time": "2022-04-26T17:12:50.251Z"
   },
   {
    "duration": 14,
    "start_time": "2022-04-26T17:12:50.267Z"
   },
   {
    "duration": 7,
    "start_time": "2022-04-26T17:12:50.282Z"
   },
   {
    "duration": 8,
    "start_time": "2022-04-26T17:12:50.291Z"
   },
   {
    "duration": 18,
    "start_time": "2022-04-26T17:12:50.301Z"
   },
   {
    "duration": 24,
    "start_time": "2022-04-26T17:12:50.321Z"
   },
   {
    "duration": 21,
    "start_time": "2022-04-26T17:12:50.347Z"
   },
   {
    "duration": 18,
    "start_time": "2022-04-26T17:12:50.369Z"
   },
   {
    "duration": 6,
    "start_time": "2022-04-26T17:12:50.389Z"
   },
   {
    "duration": 8,
    "start_time": "2022-04-26T17:12:50.397Z"
   },
   {
    "duration": 18,
    "start_time": "2022-04-26T17:12:50.407Z"
   },
   {
    "duration": 15,
    "start_time": "2022-04-26T17:12:50.426Z"
   },
   {
    "duration": 27,
    "start_time": "2022-04-26T17:12:50.443Z"
   },
   {
    "duration": 22,
    "start_time": "2022-04-26T17:12:50.471Z"
   },
   {
    "duration": 18,
    "start_time": "2022-04-26T17:12:50.494Z"
   },
   {
    "duration": 30,
    "start_time": "2022-04-26T17:12:50.513Z"
   },
   {
    "duration": 19,
    "start_time": "2022-04-26T17:12:50.545Z"
   },
   {
    "duration": 17,
    "start_time": "2022-04-26T17:12:57.787Z"
   },
   {
    "duration": 424,
    "start_time": "2022-04-27T10:17:45.188Z"
   },
   {
    "duration": 78,
    "start_time": "2022-04-27T10:17:45.614Z"
   },
   {
    "duration": 19,
    "start_time": "2022-04-27T10:17:45.694Z"
   },
   {
    "duration": 20,
    "start_time": "2022-04-27T10:17:45.715Z"
   },
   {
    "duration": 12,
    "start_time": "2022-04-27T10:17:45.737Z"
   },
   {
    "duration": 27,
    "start_time": "2022-04-27T10:17:45.750Z"
   },
   {
    "duration": 34,
    "start_time": "2022-04-27T10:17:45.779Z"
   },
   {
    "duration": 35,
    "start_time": "2022-04-27T10:17:45.814Z"
   },
   {
    "duration": 12,
    "start_time": "2022-04-27T10:17:45.851Z"
   },
   {
    "duration": 57,
    "start_time": "2022-04-27T10:17:45.867Z"
   },
   {
    "duration": 10,
    "start_time": "2022-04-27T10:17:45.926Z"
   },
   {
    "duration": 13,
    "start_time": "2022-04-27T10:17:45.938Z"
   },
   {
    "duration": 39,
    "start_time": "2022-04-27T10:17:45.953Z"
   },
   {
    "duration": 62,
    "start_time": "2022-04-27T10:17:45.994Z"
   },
   {
    "duration": 4,
    "start_time": "2022-04-27T10:17:46.058Z"
   },
   {
    "duration": 14,
    "start_time": "2022-04-27T10:17:46.064Z"
   },
   {
    "duration": 23,
    "start_time": "2022-04-27T10:17:46.079Z"
   },
   {
    "duration": 26,
    "start_time": "2022-04-27T10:17:46.103Z"
   },
   {
    "duration": 64,
    "start_time": "2022-04-27T10:17:46.130Z"
   },
   {
    "duration": 26,
    "start_time": "2022-04-27T10:17:46.195Z"
   },
   {
    "duration": 5,
    "start_time": "2022-04-27T10:17:46.222Z"
   },
   {
    "duration": 7,
    "start_time": "2022-04-27T10:17:46.228Z"
   },
   {
    "duration": 12,
    "start_time": "2022-04-27T10:17:46.237Z"
   },
   {
    "duration": 33,
    "start_time": "2022-04-27T10:17:46.250Z"
   },
   {
    "duration": 7,
    "start_time": "2022-04-27T10:17:46.285Z"
   },
   {
    "duration": 4,
    "start_time": "2022-04-27T10:17:46.294Z"
   },
   {
    "duration": 33,
    "start_time": "2022-04-27T10:17:46.299Z"
   },
   {
    "duration": 22,
    "start_time": "2022-04-27T10:17:46.336Z"
   },
   {
    "duration": 60,
    "start_time": "2022-04-27T10:17:46.360Z"
   },
   {
    "duration": 11,
    "start_time": "2022-04-27T10:17:46.422Z"
   },
   {
    "duration": 20,
    "start_time": "2022-04-27T10:17:46.435Z"
   },
   {
    "duration": 36,
    "start_time": "2022-04-27T10:17:46.457Z"
   },
   {
    "duration": 15,
    "start_time": "2022-04-27T10:17:46.495Z"
   },
   {
    "duration": 20,
    "start_time": "2022-04-27T10:17:46.511Z"
   },
   {
    "duration": 35,
    "start_time": "2022-04-27T10:17:46.532Z"
   },
   {
    "duration": 12,
    "start_time": "2022-04-27T10:17:46.568Z"
   },
   {
    "duration": 15,
    "start_time": "2022-04-27T10:17:46.582Z"
   },
   {
    "duration": 16,
    "start_time": "2022-04-27T10:17:46.598Z"
   },
   {
    "duration": 9,
    "start_time": "2022-04-27T10:17:46.616Z"
   },
   {
    "duration": 14,
    "start_time": "2022-04-27T10:17:46.626Z"
   },
   {
    "duration": 24,
    "start_time": "2022-04-27T10:17:46.641Z"
   },
   {
    "duration": 22,
    "start_time": "2022-04-27T10:17:46.666Z"
   },
   {
    "duration": 23,
    "start_time": "2022-04-27T10:17:46.690Z"
   },
   {
    "duration": 28,
    "start_time": "2022-04-27T10:17:46.715Z"
   },
   {
    "duration": 21,
    "start_time": "2022-04-27T10:17:46.745Z"
   },
   {
    "duration": 20,
    "start_time": "2022-04-27T10:17:46.768Z"
   },
   {
    "duration": 24,
    "start_time": "2022-04-27T10:17:46.790Z"
   },
   {
    "duration": 9,
    "start_time": "2022-04-27T10:17:46.816Z"
   },
   {
    "duration": 30,
    "start_time": "2022-04-27T10:17:46.827Z"
   },
   {
    "duration": 21,
    "start_time": "2022-04-27T10:17:46.859Z"
   },
   {
    "duration": 24,
    "start_time": "2022-04-27T10:17:46.882Z"
   },
   {
    "duration": 20,
    "start_time": "2022-04-27T10:17:46.908Z"
   },
   {
    "duration": 19,
    "start_time": "2022-04-27T10:17:46.930Z"
   },
   {
    "duration": 20,
    "start_time": "2022-04-27T10:18:54.487Z"
   },
   {
    "duration": 25,
    "start_time": "2022-04-27T10:19:03.626Z"
   }
  ],
  "kernelspec": {
   "display_name": "Python 3 (ipykernel)",
   "language": "python",
   "name": "python3"
  },
  "language_info": {
   "codemirror_mode": {
    "name": "ipython",
    "version": 3
   },
   "file_extension": ".py",
   "mimetype": "text/x-python",
   "name": "python",
   "nbconvert_exporter": "python",
   "pygments_lexer": "ipython3",
   "version": "3.9.7"
  },
  "toc": {
   "base_numbering": 1,
   "nav_menu": {},
   "number_sections": false,
   "sideBar": true,
   "skip_h1_title": false,
   "title_cell": "Table of Contents",
   "title_sidebar": "Contents",
   "toc_cell": false,
   "toc_position": {
    "height": "calc(100% - 180px)",
    "left": "10px",
    "top": "150px",
    "width": "323.984px"
   },
   "toc_section_display": true,
   "toc_window_display": false
  }
 },
 "nbformat": 4,
 "nbformat_minor": 5
}
