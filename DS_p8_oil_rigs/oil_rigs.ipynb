{
 "cells": [
  {
   "cell_type": "markdown",
   "metadata": {},
   "source": [
    "# Выбор локации для скважины"
   ]
  },
  {
   "cell_type": "markdown",
   "metadata": {},
   "source": [
    "Допустим, вы работаете в добывающей компании «ГлавРосГосНефть». Нужно решить, где бурить новую скважину.\n",
    "\n",
    "Вам предоставлены пробы нефти в трёх регионах: в каждом 10 000 месторождений, где измерили качество нефти и объём её запасов. Постройте модель машинного обучения, которая поможет определить регион, где добыча принесёт наибольшую прибыль. Проанализируйте возможную прибыль и риски техникой *Bootstrap.*\n",
    "\n",
    "Шаги для выбора локации:\n",
    "\n",
    "- В избранном регионе ищут месторождения, для каждого определяют значения признаков;\n",
    "- Строят модель и оценивают объём запасов;\n",
    "- Выбирают месторождения с самым высокими оценками значений. Количество месторождений зависит от бюджета компании и стоимости разработки одной скважины;\n",
    "- Прибыль равна суммарной прибыли отобранных месторождений."
   ]
  },
  {
   "cell_type": "markdown",
   "metadata": {},
   "source": [
    "## Загрузка и подготовка данных"
   ]
  },
  {
   "cell_type": "code",
   "execution_count": 1,
   "metadata": {},
   "outputs": [],
   "source": [
    "import pandas as pd\n",
    "import numpy as np\n",
    "import matplotlib.pyplot as plt \n",
    "import itertools\n",
    "from sklearn.model_selection import train_test_split\n",
    "from sklearn.linear_model import LinearRegression\n",
    "from sklearn.pipeline import make_pipeline\n",
    "from sklearn.preprocessing import StandardScaler\n",
    "from sklearn.metrics import mean_squared_error\n",
    "from numpy.random import RandomState  "
   ]
  },
  {
   "cell_type": "markdown",
   "metadata": {},
   "source": [
    "Загрузим каждый регион в отдельный датафрейм."
   ]
  },
  {
   "cell_type": "code",
   "execution_count": 2,
   "metadata": {},
   "outputs": [],
   "source": [
    "df1 = pd.read_csv('/datasets/geo_data_0.csv')\n",
    "df2 = pd.read_csv('/datasets/geo_data_1.csv')\n",
    "df3 = pd.read_csv('/datasets/geo_data_2.csv')"
   ]
  },
  {
   "cell_type": "code",
   "execution_count": 3,
   "metadata": {},
   "outputs": [
    {
     "data": {
      "text/html": [
       "<div>\n",
       "<style scoped>\n",
       "    .dataframe tbody tr th:only-of-type {\n",
       "        vertical-align: middle;\n",
       "    }\n",
       "\n",
       "    .dataframe tbody tr th {\n",
       "        vertical-align: top;\n",
       "    }\n",
       "\n",
       "    .dataframe thead th {\n",
       "        text-align: right;\n",
       "    }\n",
       "</style>\n",
       "<table border=\"1\" class=\"dataframe\">\n",
       "  <thead>\n",
       "    <tr style=\"text-align: right;\">\n",
       "      <th></th>\n",
       "      <th>id</th>\n",
       "      <th>f0</th>\n",
       "      <th>f1</th>\n",
       "      <th>f2</th>\n",
       "      <th>product</th>\n",
       "    </tr>\n",
       "  </thead>\n",
       "  <tbody>\n",
       "    <tr>\n",
       "      <th>0</th>\n",
       "      <td>txEyH</td>\n",
       "      <td>0.705745</td>\n",
       "      <td>-0.497823</td>\n",
       "      <td>1.221170</td>\n",
       "      <td>105.280062</td>\n",
       "    </tr>\n",
       "    <tr>\n",
       "      <th>1</th>\n",
       "      <td>2acmU</td>\n",
       "      <td>1.334711</td>\n",
       "      <td>-0.340164</td>\n",
       "      <td>4.365080</td>\n",
       "      <td>73.037750</td>\n",
       "    </tr>\n",
       "    <tr>\n",
       "      <th>2</th>\n",
       "      <td>409Wp</td>\n",
       "      <td>1.022732</td>\n",
       "      <td>0.151990</td>\n",
       "      <td>1.419926</td>\n",
       "      <td>85.265647</td>\n",
       "    </tr>\n",
       "    <tr>\n",
       "      <th>3</th>\n",
       "      <td>iJLyR</td>\n",
       "      <td>-0.032172</td>\n",
       "      <td>0.139033</td>\n",
       "      <td>2.978566</td>\n",
       "      <td>168.620776</td>\n",
       "    </tr>\n",
       "    <tr>\n",
       "      <th>4</th>\n",
       "      <td>Xdl7t</td>\n",
       "      <td>1.988431</td>\n",
       "      <td>0.155413</td>\n",
       "      <td>4.751769</td>\n",
       "      <td>154.036647</td>\n",
       "    </tr>\n",
       "  </tbody>\n",
       "</table>\n",
       "</div>"
      ],
      "text/plain": [
       "      id        f0        f1        f2     product\n",
       "0  txEyH  0.705745 -0.497823  1.221170  105.280062\n",
       "1  2acmU  1.334711 -0.340164  4.365080   73.037750\n",
       "2  409Wp  1.022732  0.151990  1.419926   85.265647\n",
       "3  iJLyR -0.032172  0.139033  2.978566  168.620776\n",
       "4  Xdl7t  1.988431  0.155413  4.751769  154.036647"
      ]
     },
     "execution_count": 3,
     "metadata": {},
     "output_type": "execute_result"
    }
   ],
   "source": [
    "df1.head()"
   ]
  },
  {
   "cell_type": "code",
   "execution_count": 4,
   "metadata": {},
   "outputs": [
    {
     "data": {
      "text/html": [
       "<div>\n",
       "<style scoped>\n",
       "    .dataframe tbody tr th:only-of-type {\n",
       "        vertical-align: middle;\n",
       "    }\n",
       "\n",
       "    .dataframe tbody tr th {\n",
       "        vertical-align: top;\n",
       "    }\n",
       "\n",
       "    .dataframe thead th {\n",
       "        text-align: right;\n",
       "    }\n",
       "</style>\n",
       "<table border=\"1\" class=\"dataframe\">\n",
       "  <thead>\n",
       "    <tr style=\"text-align: right;\">\n",
       "      <th></th>\n",
       "      <th>id</th>\n",
       "      <th>f0</th>\n",
       "      <th>f1</th>\n",
       "      <th>f2</th>\n",
       "      <th>product</th>\n",
       "    </tr>\n",
       "  </thead>\n",
       "  <tbody>\n",
       "    <tr>\n",
       "      <th>0</th>\n",
       "      <td>kBEdx</td>\n",
       "      <td>-15.001348</td>\n",
       "      <td>-8.276000</td>\n",
       "      <td>-0.005876</td>\n",
       "      <td>3.179103</td>\n",
       "    </tr>\n",
       "    <tr>\n",
       "      <th>1</th>\n",
       "      <td>62mP7</td>\n",
       "      <td>14.272088</td>\n",
       "      <td>-3.475083</td>\n",
       "      <td>0.999183</td>\n",
       "      <td>26.953261</td>\n",
       "    </tr>\n",
       "    <tr>\n",
       "      <th>2</th>\n",
       "      <td>vyE1P</td>\n",
       "      <td>6.263187</td>\n",
       "      <td>-5.948386</td>\n",
       "      <td>5.001160</td>\n",
       "      <td>134.766305</td>\n",
       "    </tr>\n",
       "    <tr>\n",
       "      <th>3</th>\n",
       "      <td>KcrkZ</td>\n",
       "      <td>-13.081196</td>\n",
       "      <td>-11.506057</td>\n",
       "      <td>4.999415</td>\n",
       "      <td>137.945408</td>\n",
       "    </tr>\n",
       "    <tr>\n",
       "      <th>4</th>\n",
       "      <td>AHL4O</td>\n",
       "      <td>12.702195</td>\n",
       "      <td>-8.147433</td>\n",
       "      <td>5.004363</td>\n",
       "      <td>134.766305</td>\n",
       "    </tr>\n",
       "  </tbody>\n",
       "</table>\n",
       "</div>"
      ],
      "text/plain": [
       "      id         f0         f1        f2     product\n",
       "0  kBEdx -15.001348  -8.276000 -0.005876    3.179103\n",
       "1  62mP7  14.272088  -3.475083  0.999183   26.953261\n",
       "2  vyE1P   6.263187  -5.948386  5.001160  134.766305\n",
       "3  KcrkZ -13.081196 -11.506057  4.999415  137.945408\n",
       "4  AHL4O  12.702195  -8.147433  5.004363  134.766305"
      ]
     },
     "execution_count": 4,
     "metadata": {},
     "output_type": "execute_result"
    }
   ],
   "source": [
    "df2.head()"
   ]
  },
  {
   "cell_type": "code",
   "execution_count": 5,
   "metadata": {},
   "outputs": [
    {
     "data": {
      "text/html": [
       "<div>\n",
       "<style scoped>\n",
       "    .dataframe tbody tr th:only-of-type {\n",
       "        vertical-align: middle;\n",
       "    }\n",
       "\n",
       "    .dataframe tbody tr th {\n",
       "        vertical-align: top;\n",
       "    }\n",
       "\n",
       "    .dataframe thead th {\n",
       "        text-align: right;\n",
       "    }\n",
       "</style>\n",
       "<table border=\"1\" class=\"dataframe\">\n",
       "  <thead>\n",
       "    <tr style=\"text-align: right;\">\n",
       "      <th></th>\n",
       "      <th>id</th>\n",
       "      <th>f0</th>\n",
       "      <th>f1</th>\n",
       "      <th>f2</th>\n",
       "      <th>product</th>\n",
       "    </tr>\n",
       "  </thead>\n",
       "  <tbody>\n",
       "    <tr>\n",
       "      <th>0</th>\n",
       "      <td>fwXo0</td>\n",
       "      <td>-1.146987</td>\n",
       "      <td>0.963328</td>\n",
       "      <td>-0.828965</td>\n",
       "      <td>27.758673</td>\n",
       "    </tr>\n",
       "    <tr>\n",
       "      <th>1</th>\n",
       "      <td>WJtFt</td>\n",
       "      <td>0.262778</td>\n",
       "      <td>0.269839</td>\n",
       "      <td>-2.530187</td>\n",
       "      <td>56.069697</td>\n",
       "    </tr>\n",
       "    <tr>\n",
       "      <th>2</th>\n",
       "      <td>ovLUW</td>\n",
       "      <td>0.194587</td>\n",
       "      <td>0.289035</td>\n",
       "      <td>-5.586433</td>\n",
       "      <td>62.871910</td>\n",
       "    </tr>\n",
       "    <tr>\n",
       "      <th>3</th>\n",
       "      <td>q6cA6</td>\n",
       "      <td>2.236060</td>\n",
       "      <td>-0.553760</td>\n",
       "      <td>0.930038</td>\n",
       "      <td>114.572842</td>\n",
       "    </tr>\n",
       "    <tr>\n",
       "      <th>4</th>\n",
       "      <td>WPMUX</td>\n",
       "      <td>-0.515993</td>\n",
       "      <td>1.716266</td>\n",
       "      <td>5.899011</td>\n",
       "      <td>149.600746</td>\n",
       "    </tr>\n",
       "  </tbody>\n",
       "</table>\n",
       "</div>"
      ],
      "text/plain": [
       "      id        f0        f1        f2     product\n",
       "0  fwXo0 -1.146987  0.963328 -0.828965   27.758673\n",
       "1  WJtFt  0.262778  0.269839 -2.530187   56.069697\n",
       "2  ovLUW  0.194587  0.289035 -5.586433   62.871910\n",
       "3  q6cA6  2.236060 -0.553760  0.930038  114.572842\n",
       "4  WPMUX -0.515993  1.716266  5.899011  149.600746"
      ]
     },
     "execution_count": 5,
     "metadata": {},
     "output_type": "execute_result"
    }
   ],
   "source": [
    "df3.head()"
   ]
  },
  {
   "cell_type": "code",
   "execution_count": 6,
   "metadata": {},
   "outputs": [
    {
     "name": "stdout",
     "output_type": "stream",
     "text": [
      "<class 'pandas.core.frame.DataFrame'>\n",
      "RangeIndex: 100000 entries, 0 to 99999\n",
      "Data columns (total 5 columns):\n",
      " #   Column   Non-Null Count   Dtype  \n",
      "---  ------   --------------   -----  \n",
      " 0   id       100000 non-null  object \n",
      " 1   f0       100000 non-null  float64\n",
      " 2   f1       100000 non-null  float64\n",
      " 3   f2       100000 non-null  float64\n",
      " 4   product  100000 non-null  float64\n",
      "dtypes: float64(4), object(1)\n",
      "memory usage: 3.8+ MB\n"
     ]
    }
   ],
   "source": [
    "df1.info()"
   ]
  },
  {
   "cell_type": "code",
   "execution_count": 7,
   "metadata": {},
   "outputs": [
    {
     "name": "stdout",
     "output_type": "stream",
     "text": [
      "<class 'pandas.core.frame.DataFrame'>\n",
      "RangeIndex: 100000 entries, 0 to 99999\n",
      "Data columns (total 5 columns):\n",
      " #   Column   Non-Null Count   Dtype  \n",
      "---  ------   --------------   -----  \n",
      " 0   id       100000 non-null  object \n",
      " 1   f0       100000 non-null  float64\n",
      " 2   f1       100000 non-null  float64\n",
      " 3   f2       100000 non-null  float64\n",
      " 4   product  100000 non-null  float64\n",
      "dtypes: float64(4), object(1)\n",
      "memory usage: 3.8+ MB\n"
     ]
    }
   ],
   "source": [
    "df2.info()"
   ]
  },
  {
   "cell_type": "code",
   "execution_count": 8,
   "metadata": {},
   "outputs": [
    {
     "name": "stdout",
     "output_type": "stream",
     "text": [
      "<class 'pandas.core.frame.DataFrame'>\n",
      "RangeIndex: 100000 entries, 0 to 99999\n",
      "Data columns (total 5 columns):\n",
      " #   Column   Non-Null Count   Dtype  \n",
      "---  ------   --------------   -----  \n",
      " 0   id       100000 non-null  object \n",
      " 1   f0       100000 non-null  float64\n",
      " 2   f1       100000 non-null  float64\n",
      " 3   f2       100000 non-null  float64\n",
      " 4   product  100000 non-null  float64\n",
      "dtypes: float64(4), object(1)\n",
      "memory usage: 3.8+ MB\n"
     ]
    }
   ],
   "source": [
    "df3.info()"
   ]
  },
  {
   "cell_type": "markdown",
   "metadata": {},
   "source": [
    "Пропусков в данных нет. Типы данных и названия колонок верны."
   ]
  },
  {
   "cell_type": "markdown",
   "metadata": {},
   "source": [
    "- id — уникальный идентификатор скважины;\n",
    "- f0, f1, f2 — три признака точек;\n",
    "- product — объём запасов в скважине (тыс. баррелей)."
   ]
  },
  {
   "cell_type": "markdown",
   "metadata": {},
   "source": [
    "Признаки для модели:\n",
    "\n",
    "- f0;\n",
    "- f1;\n",
    "- f2.\n",
    "\n",
    "Целевой признак:\n",
    "\n",
    "- product."
   ]
  },
  {
   "cell_type": "markdown",
   "metadata": {},
   "source": [
    "Удаляем столбец id, он не нужен для моделей"
   ]
  },
  {
   "cell_type": "code",
   "execution_count": 9,
   "metadata": {},
   "outputs": [],
   "source": [
    "df1 = df1.drop('id', axis=1)\n",
    "df2 = df2.drop('id', axis=1)\n",
    "df3 = df3.drop('id', axis=1)"
   ]
  },
  {
   "cell_type": "markdown",
   "metadata": {},
   "source": [
    "Проверка дубликатов"
   ]
  },
  {
   "cell_type": "code",
   "execution_count": 10,
   "metadata": {},
   "outputs": [
    {
     "name": "stdout",
     "output_type": "stream",
     "text": [
      "Количество полных дубликатов объектов по региону 1: 0\n",
      "Количество полных дубликатов объектов по региону 2: 0\n",
      "Количество полных дубликатов объектов по региону 3: 0\n"
     ]
    }
   ],
   "source": [
    "print('Количество полных дубликатов объектов по региону 1:', df1.duplicated().sum())\n",
    "print('Количество полных дубликатов объектов по региону 2:', df2.duplicated().sum())\n",
    "print('Количество полных дубликатов объектов по региону 3:', df3.duplicated().sum())"
   ]
  },
  {
   "cell_type": "markdown",
   "metadata": {},
   "source": [
    "Дубликатов нет"
   ]
  },
  {
   "cell_type": "markdown",
   "metadata": {},
   "source": [
    "ПРоверка пропусков"
   ]
  },
  {
   "cell_type": "code",
   "execution_count": 11,
   "metadata": {},
   "outputs": [
    {
     "name": "stdout",
     "output_type": "stream",
     "text": [
      "Nan - не обнаружено в сетах\n"
     ]
    }
   ],
   "source": [
    "if (df1.isnull().sum().sum() + df2.isnull().sum().sum() + df3.isnull().sum().sum()) == 0:\n",
    "    print('Nan - не обнаружено в сетах')"
   ]
  },
  {
   "cell_type": "markdown",
   "metadata": {},
   "source": [
    "пропусков нет"
   ]
  },
  {
   "cell_type": "markdown",
   "metadata": {},
   "source": [
    "Распределение признаков:"
   ]
  },
  {
   "cell_type": "code",
   "execution_count": 12,
   "metadata": {
    "scrolled": false
   },
   "outputs": [
    {
     "data": {
      "image/png": "[encoded data removed]",
      "text/plain": [
       "<Figure size 1440x1080 with 4 Axes>"
      ]
     },
     "metadata": {
      "needs_background": "light"
     },
     "output_type": "display_data"
    }
   ],
   "source": [
    "df1.hist(bins=50, figsize=(20,15), edgecolor='grey', linewidth=1)\n",
    "plt.show()"
   ]
  },
  {
   "cell_type": "markdown",
   "metadata": {},
   "source": [
    "На первый взгляд здесь все ок"
   ]
  },
  {
   "cell_type": "code",
   "execution_count": 13,
   "metadata": {
    "scrolled": true
   },
   "outputs": [
    {
     "data": {
      "image/png": "[encoded data removed]",
      "text/plain": [
       "<Figure size 1440x1080 with 4 Axes>"
      ]
     },
     "metadata": {
      "needs_background": "light"
     },
     "output_type": "display_data"
    }
   ],
   "source": [
    "df2.hist(bins=50, figsize=(20,15), edgecolor='grey', linewidth=1)\n",
    "plt.show()"
   ]
  },
  {
   "cell_type": "markdown",
   "metadata": {},
   "source": [
    "Значения признаков f2 и product у второго региона довольна подозрительно имеют повторяющиеся значения - возможно эта ошибка сбора данных. Следует уточнить у коллег."
   ]
  },
  {
   "cell_type": "code",
   "execution_count": 14,
   "metadata": {
    "scrolled": true
   },
   "outputs": [
    {
     "data": {
      "image/png": "[encoded data removed]",
      "text/plain": [
       "<Figure size 1440x1080 with 4 Axes>"
      ]
     },
     "metadata": {
      "needs_background": "light"
     },
     "output_type": "display_data"
    }
   ],
   "source": [
    "df3.hist(bins=50, figsize=(20,15), edgecolor='grey', linewidth=1)\n",
    "plt.show()"
   ]
  },
  {
   "cell_type": "markdown",
   "metadata": {},
   "source": [
    "Здесь также как и в df1 все окей."
   ]
  },
  {
   "cell_type": "markdown",
   "metadata": {},
   "source": [
    "Исследуем корреляцию  между признаками "
   ]
  },
  {
   "cell_type": "code",
   "execution_count": 15,
   "metadata": {},
   "outputs": [
    {
     "data": {
      "text/html": [
       "<div>\n",
       "<style scoped>\n",
       "    .dataframe tbody tr th:only-of-type {\n",
       "        vertical-align: middle;\n",
       "    }\n",
       "\n",
       "    .dataframe tbody tr th {\n",
       "        vertical-align: top;\n",
       "    }\n",
       "\n",
       "    .dataframe thead th {\n",
       "        text-align: right;\n",
       "    }\n",
       "</style>\n",
       "<table border=\"1\" class=\"dataframe\">\n",
       "  <thead>\n",
       "    <tr style=\"text-align: right;\">\n",
       "      <th></th>\n",
       "      <th>f0</th>\n",
       "      <th>f1</th>\n",
       "      <th>f2</th>\n",
       "      <th>product</th>\n",
       "    </tr>\n",
       "  </thead>\n",
       "  <tbody>\n",
       "    <tr>\n",
       "      <th>f0</th>\n",
       "      <td>1.000000</td>\n",
       "      <td>-0.440723</td>\n",
       "      <td>-0.003153</td>\n",
       "      <td>0.143536</td>\n",
       "    </tr>\n",
       "    <tr>\n",
       "      <th>f1</th>\n",
       "      <td>-0.440723</td>\n",
       "      <td>1.000000</td>\n",
       "      <td>0.001724</td>\n",
       "      <td>-0.192356</td>\n",
       "    </tr>\n",
       "    <tr>\n",
       "      <th>f2</th>\n",
       "      <td>-0.003153</td>\n",
       "      <td>0.001724</td>\n",
       "      <td>1.000000</td>\n",
       "      <td>0.483663</td>\n",
       "    </tr>\n",
       "    <tr>\n",
       "      <th>product</th>\n",
       "      <td>0.143536</td>\n",
       "      <td>-0.192356</td>\n",
       "      <td>0.483663</td>\n",
       "      <td>1.000000</td>\n",
       "    </tr>\n",
       "  </tbody>\n",
       "</table>\n",
       "</div>"
      ],
      "text/plain": [
       "               f0        f1        f2   product\n",
       "f0       1.000000 -0.440723 -0.003153  0.143536\n",
       "f1      -0.440723  1.000000  0.001724 -0.192356\n",
       "f2      -0.003153  0.001724  1.000000  0.483663\n",
       "product  0.143536 -0.192356  0.483663  1.000000"
      ]
     },
     "execution_count": 15,
     "metadata": {},
     "output_type": "execute_result"
    }
   ],
   "source": [
    "df1.corr()"
   ]
  },
  {
   "cell_type": "code",
   "execution_count": 16,
   "metadata": {},
   "outputs": [
    {
     "data": {
      "text/html": [
       "<div>\n",
       "<style scoped>\n",
       "    .dataframe tbody tr th:only-of-type {\n",
       "        vertical-align: middle;\n",
       "    }\n",
       "\n",
       "    .dataframe tbody tr th {\n",
       "        vertical-align: top;\n",
       "    }\n",
       "\n",
       "    .dataframe thead th {\n",
       "        text-align: right;\n",
       "    }\n",
       "</style>\n",
       "<table border=\"1\" class=\"dataframe\">\n",
       "  <thead>\n",
       "    <tr style=\"text-align: right;\">\n",
       "      <th></th>\n",
       "      <th>f0</th>\n",
       "      <th>f1</th>\n",
       "      <th>f2</th>\n",
       "      <th>product</th>\n",
       "    </tr>\n",
       "  </thead>\n",
       "  <tbody>\n",
       "    <tr>\n",
       "      <th>f0</th>\n",
       "      <td>1.000000</td>\n",
       "      <td>0.182287</td>\n",
       "      <td>-0.001777</td>\n",
       "      <td>-0.030491</td>\n",
       "    </tr>\n",
       "    <tr>\n",
       "      <th>f1</th>\n",
       "      <td>0.182287</td>\n",
       "      <td>1.000000</td>\n",
       "      <td>-0.002595</td>\n",
       "      <td>-0.010155</td>\n",
       "    </tr>\n",
       "    <tr>\n",
       "      <th>f2</th>\n",
       "      <td>-0.001777</td>\n",
       "      <td>-0.002595</td>\n",
       "      <td>1.000000</td>\n",
       "      <td>0.999397</td>\n",
       "    </tr>\n",
       "    <tr>\n",
       "      <th>product</th>\n",
       "      <td>-0.030491</td>\n",
       "      <td>-0.010155</td>\n",
       "      <td>0.999397</td>\n",
       "      <td>1.000000</td>\n",
       "    </tr>\n",
       "  </tbody>\n",
       "</table>\n",
       "</div>"
      ],
      "text/plain": [
       "               f0        f1        f2   product\n",
       "f0       1.000000  0.182287 -0.001777 -0.030491\n",
       "f1       0.182287  1.000000 -0.002595 -0.010155\n",
       "f2      -0.001777 -0.002595  1.000000  0.999397\n",
       "product -0.030491 -0.010155  0.999397  1.000000"
      ]
     },
     "execution_count": 16,
     "metadata": {},
     "output_type": "execute_result"
    }
   ],
   "source": [
    "df2.corr()"
   ]
  },
  {
   "cell_type": "code",
   "execution_count": 17,
   "metadata": {},
   "outputs": [
    {
     "data": {
      "text/html": [
       "<div>\n",
       "<style scoped>\n",
       "    .dataframe tbody tr th:only-of-type {\n",
       "        vertical-align: middle;\n",
       "    }\n",
       "\n",
       "    .dataframe tbody tr th {\n",
       "        vertical-align: top;\n",
       "    }\n",
       "\n",
       "    .dataframe thead th {\n",
       "        text-align: right;\n",
       "    }\n",
       "</style>\n",
       "<table border=\"1\" class=\"dataframe\">\n",
       "  <thead>\n",
       "    <tr style=\"text-align: right;\">\n",
       "      <th></th>\n",
       "      <th>f0</th>\n",
       "      <th>f1</th>\n",
       "      <th>f2</th>\n",
       "      <th>product</th>\n",
       "    </tr>\n",
       "  </thead>\n",
       "  <tbody>\n",
       "    <tr>\n",
       "      <th>f0</th>\n",
       "      <td>1.000000</td>\n",
       "      <td>0.000528</td>\n",
       "      <td>-0.000448</td>\n",
       "      <td>-0.001987</td>\n",
       "    </tr>\n",
       "    <tr>\n",
       "      <th>f1</th>\n",
       "      <td>0.000528</td>\n",
       "      <td>1.000000</td>\n",
       "      <td>0.000779</td>\n",
       "      <td>-0.001012</td>\n",
       "    </tr>\n",
       "    <tr>\n",
       "      <th>f2</th>\n",
       "      <td>-0.000448</td>\n",
       "      <td>0.000779</td>\n",
       "      <td>1.000000</td>\n",
       "      <td>0.445871</td>\n",
       "    </tr>\n",
       "    <tr>\n",
       "      <th>product</th>\n",
       "      <td>-0.001987</td>\n",
       "      <td>-0.001012</td>\n",
       "      <td>0.445871</td>\n",
       "      <td>1.000000</td>\n",
       "    </tr>\n",
       "  </tbody>\n",
       "</table>\n",
       "</div>"
      ],
      "text/plain": [
       "               f0        f1        f2   product\n",
       "f0       1.000000  0.000528 -0.000448 -0.001987\n",
       "f1       0.000528  1.000000  0.000779 -0.001012\n",
       "f2      -0.000448  0.000779  1.000000  0.445871\n",
       "product -0.001987 -0.001012  0.445871  1.000000"
      ]
     },
     "execution_count": 17,
     "metadata": {},
     "output_type": "execute_result"
    }
   ],
   "source": [
    "df3.corr()"
   ]
  },
  {
   "cell_type": "markdown",
   "metadata": {},
   "source": [
    "Наблюдается корреляция между признаками f2 и product - самая значительная у второго сета, где были обнаружены идентичные значения по продукции.  "
   ]
  },
  {
   "cell_type": "markdown",
   "metadata": {},
   "source": [
    "**Вывод**\n",
    "\n",
    "Результаты первичного анализа:\n",
    "\n",
    "- Пропусков нет\n",
    "- Типы столбцов верны\n",
    "- Названия столбцов верны\n",
    "- Дубликатов нет\n",
    "- Исследована корреляциямежду признаками\n",
    "- Данные готовы к обучению"
   ]
  },
  {
   "cell_type": "markdown",
   "metadata": {},
   "source": [
    "## Обучение и проверка модели"
   ]
  },
  {
   "cell_type": "markdown",
   "metadata": {},
   "source": [
    "**Условия задачи:**\n",
    "\n",
    "- Для обучения модели подходит только линейная регрессия (остальные — недостаточно предсказуемые).\n",
    "- При разведке региона исследуют 500 точек, из которых с помощью машинного обучения выбирают 200 лучших для разработки.\n",
    "- Бюджет на разработку скважин в регионе — 10 млрд рублей.\n",
    "- При нынешних ценах один баррель сырья приносит 450 рублей дохода. Доход с каждой единицы продукта составляет 450 тыс. рублей, поскольку объём указан в тысячах баррелей.\n",
    "- После оценки рисков нужно оставить лишь те регионы, в которых вероятность убытков меньше 2.5%. Среди них выбирают регион с наибольшей средней прибылью.\n",
    "- Данные синтетические: детали контрактов и характеристики месторождений не разглашаются."
   ]
  },
  {
   "cell_type": "markdown",
   "metadata": {},
   "source": [
    "Готовим выборки для обучения. Разбиваем на целевой признак и признаки"
   ]
  },
  {
   "cell_type": "code",
   "execution_count": 18,
   "metadata": {},
   "outputs": [],
   "source": [
    "features_1 = df1.drop(['product'], axis=1)\n",
    "target_1 = df1['product']\n",
    "\n",
    "features_2 = df2.drop(['product'], axis=1)\n",
    "target_2 = df2['product']\n",
    "\n",
    "features_3 = df3.drop(['product'], axis=1)\n",
    "target_3 = df3['product']"
   ]
  },
  {
   "cell_type": "markdown",
   "metadata": {},
   "source": [
    "Разбиваем на обучающую и валидационную выборку"
   ]
  },
  {
   "cell_type": "code",
   "execution_count": 19,
   "metadata": {},
   "outputs": [],
   "source": [
    "train_features_1, valid_features_1, train_target_1, valid_target_1 = train_test_split(features_1,\n",
    "                                                                                      target_1,\n",
    "                                                                                      test_size=.25,\n",
    "                                                                                      random_state=42)\n",
    "train_features_2, valid_features_2, train_target_2, valid_target_2 = train_test_split(features_2,\n",
    "                                                                                      target_2,\n",
    "                                                                                      test_size=.25,\n",
    "                                                                                      random_state=42)\n",
    "train_features_3, valid_features_3, train_target_3, valid_target_3 = train_test_split(features_3,\n",
    "                                                                                      target_3,\n",
    "                                                                                      test_size=.25,\n",
    "                                                                                      random_state=42)"
   ]
  },
  {
   "cell_type": "markdown",
   "metadata": {},
   "source": [
    "### Первый регион"
   ]
  },
  {
   "cell_type": "markdown",
   "metadata": {},
   "source": [
    "Обучаем моделью линейной регрессии"
   ]
  },
  {
   "cell_type": "code",
   "execution_count": 20,
   "metadata": {},
   "outputs": [],
   "source": [
    "model_reg_1 = LinearRegression().fit(train_features_1, train_target_1)"
   ]
  },
  {
   "cell_type": "markdown",
   "metadata": {},
   "source": [
    "Предсказания модели на валидационной выборке"
   ]
  },
  {
   "cell_type": "code",
   "execution_count": 21,
   "metadata": {},
   "outputs": [],
   "source": [
    "prediction_1 = model_reg_1.predict(valid_features_1)"
   ]
  },
  {
   "cell_type": "code",
   "execution_count": 22,
   "metadata": {
    "scrolled": true
   },
   "outputs": [
    {
     "name": "stdout",
     "output_type": "stream",
     "text": [
      "Средний запас сырья: 92.39879990657768 RMSE: 37.75660035026169\n"
     ]
    }
   ],
   "source": [
    "print('Средний запас сырья:', prediction_1.mean(),\n",
    "      'RMSE:', np.sqrt(mean_squared_error(prediction_1, valid_target_1)))"
   ]
  },
  {
   "cell_type": "markdown",
   "metadata": {},
   "source": [
    "### Второй регион"
   ]
  },
  {
   "cell_type": "code",
   "execution_count": 23,
   "metadata": {},
   "outputs": [
    {
     "name": "stdout",
     "output_type": "stream",
     "text": [
      "Средний запас сырья: 68.71287803913762 RMSE: 0.890280100102884\n"
     ]
    }
   ],
   "source": [
    "model_reg_2 = LinearRegression().fit(train_features_2, train_target_2)\n",
    "prediction_2 = model_reg_2.predict(valid_features_2)\n",
    "print('Средний запас сырья:', prediction_2.mean(),\n",
    "      'RMSE:', np.sqrt(mean_squared_error(prediction_2, valid_target_2)))"
   ]
  },
  {
   "cell_type": "markdown",
   "metadata": {},
   "source": [
    "У данных второго региона подозрительное распределение, что было заметно выше. К предсказаниям стоит относиться с долей сомнения и уточнить у коллег причину, почему данные распределены таким образом по целевому показателю и признаку f2"
   ]
  },
  {
   "cell_type": "markdown",
   "metadata": {},
   "source": [
    "### Третий регион"
   ]
  },
  {
   "cell_type": "code",
   "execution_count": 24,
   "metadata": {},
   "outputs": [
    {
     "name": "stdout",
     "output_type": "stream",
     "text": [
      "Средний запас сырья: 94.77102387765939 RMSE: 40.145872311342174\n"
     ]
    }
   ],
   "source": [
    "model_reg_3 = LinearRegression().fit(train_features_3, train_target_3)\n",
    "prediction_3 = model_reg_3.predict(valid_features_3)\n",
    "print('Средний запас сырья:', prediction_3.mean(),\n",
    "      'RMSE:', np.sqrt(mean_squared_error(prediction_3, valid_target_3)))"
   ]
  },
  {
   "cell_type": "code",
   "execution_count": 25,
   "metadata": {},
   "outputs": [
    {
     "data": {
      "text/html": [
       "<div>\n",
       "<style scoped>\n",
       "    .dataframe tbody tr th:only-of-type {\n",
       "        vertical-align: middle;\n",
       "    }\n",
       "\n",
       "    .dataframe tbody tr th {\n",
       "        vertical-align: top;\n",
       "    }\n",
       "\n",
       "    .dataframe thead th {\n",
       "        text-align: right;\n",
       "    }\n",
       "</style>\n",
       "<table border=\"1\" class=\"dataframe\">\n",
       "  <thead>\n",
       "    <tr style=\"text-align: right;\">\n",
       "      <th></th>\n",
       "      <th>Первый регион</th>\n",
       "      <th>Второй регион</th>\n",
       "      <th>Третий регион</th>\n",
       "    </tr>\n",
       "  </thead>\n",
       "  <tbody>\n",
       "    <tr>\n",
       "      <th>Средний запас сырья</th>\n",
       "      <td>92.390</td>\n",
       "      <td>68.71</td>\n",
       "      <td>94.770</td>\n",
       "    </tr>\n",
       "    <tr>\n",
       "      <th>RMSE</th>\n",
       "      <td>37.757</td>\n",
       "      <td>0.89</td>\n",
       "      <td>40.145</td>\n",
       "    </tr>\n",
       "  </tbody>\n",
       "</table>\n",
       "</div>"
      ],
      "text/plain": [
       "                     Первый регион  Второй регион  Третий регион\n",
       "Средний запас сырья         92.390          68.71         94.770\n",
       "RMSE                        37.757           0.89         40.145"
      ]
     },
     "execution_count": 25,
     "metadata": {},
     "output_type": "execute_result"
    }
   ],
   "source": [
    "data_rmse = {'Первый регион':np.array([92.39, 37.757]),'Второй регион':np.array([68.71,0.890]),'Третий регион':np.array([94.77,40.145])}\n",
    "data = pd.DataFrame(data_rmse,index=['Средний запас сырья','RMSE'])\n",
    "data"
   ]
  },
  {
   "cell_type": "markdown",
   "metadata": {},
   "source": [
    "**Вывод**\n",
    "\n",
    "- в среднем модель предсказывает 92.4 тыс. баррелей нефти по первому региону. квадратный корень из среднеквадратичной ошибки - 37.757. Лучший результат именно в первом регионе.\n",
    "- в среднем модель предсказывает 68.71 тыс. баррелей нефти по второму региону. квадратный корень из среднеквадратичной ошибки - 0.890\n",
    "- в среднем модель предсказывает 94.77 тыс. баррелей нефти по третьему региону. средняя абсолютная ошибка для первого региона - 32.897. Результаты немногим хуже, чем у первого региона"
   ]
  },
  {
   "cell_type": "markdown",
   "metadata": {},
   "source": [
    "## Подготовка к расчёту прибыли"
   ]
  },
  {
   "cell_type": "markdown",
   "metadata": {},
   "source": [
    "Назначение переменных для ключевых параметров"
   ]
  },
  {
   "cell_type": "code",
   "execution_count": 26,
   "metadata": {},
   "outputs": [],
   "source": [
    "PRE_MAX_POINTS = 500 # При разведке региона проводится исследование 500 точек.\n",
    "FINAL_MAX_POINTS = 200 # лучшие точки\n",
    "BUDGET = 10*10**9 # Бюджет на разработку месторождений — 10 млрд рублей\n",
    "BARREL = 4500 # Один баррель сырья приносит 4500 рублей прибыли.\n",
    "PRICE_PER_1000B = 450*10**3"
   ]
  },
  {
   "cell_type": "markdown",
   "metadata": {},
   "source": [
    "Расчитаем минимальный запас нефти на скважину (точку безубыточности)"
   ]
  },
  {
   "cell_type": "code",
   "execution_count": 27,
   "metadata": {
    "scrolled": true
   },
   "outputs": [
    {
     "name": "stdout",
     "output_type": "stream",
     "text": [
      "Стоимость бурения одной скважины  : 50000000\n",
      "Минимальный средний запас нефти на скважину, тыс. бар.: 111.11\n"
     ]
    }
   ],
   "source": [
    "well_price = int(BUDGET / FINAL_MAX_POINTS)\n",
    "print('Стоимость бурения одной скважины  : {}'.format(well_price))\n",
    "oil_stock = well_price / PRICE_PER_1000B\n",
    "print('Минимальный средний запас нефти на скважину, тыс. бар.: {:.2f}'.format(oil_stock))"
   ]
  },
  {
   "cell_type": "markdown",
   "metadata": {},
   "source": [
    "Сравним полученный объём сырья со средним запасом в каждом регионе."
   ]
  },
  {
   "cell_type": "code",
   "execution_count": 28,
   "metadata": {},
   "outputs": [
    {
     "data": {
      "text/html": [
       "<div>\n",
       "<style scoped>\n",
       "    .dataframe tbody tr th:only-of-type {\n",
       "        vertical-align: middle;\n",
       "    }\n",
       "\n",
       "    .dataframe tbody tr th {\n",
       "        vertical-align: top;\n",
       "    }\n",
       "\n",
       "    .dataframe thead th {\n",
       "        text-align: right;\n",
       "    }\n",
       "</style>\n",
       "<table border=\"1\" class=\"dataframe\">\n",
       "  <thead>\n",
       "    <tr style=\"text-align: right;\">\n",
       "      <th></th>\n",
       "      <th>Первый регион</th>\n",
       "      <th>Второй регион</th>\n",
       "      <th>Третий регион</th>\n",
       "    </tr>\n",
       "  </thead>\n",
       "  <tbody>\n",
       "    <tr>\n",
       "      <th>Средний запас сырья</th>\n",
       "      <td>92.390</td>\n",
       "      <td>68.71</td>\n",
       "      <td>94.770</td>\n",
       "    </tr>\n",
       "    <tr>\n",
       "      <th>RMSE</th>\n",
       "      <td>37.757</td>\n",
       "      <td>0.89</td>\n",
       "      <td>40.145</td>\n",
       "    </tr>\n",
       "  </tbody>\n",
       "</table>\n",
       "</div>"
      ],
      "text/plain": [
       "                     Первый регион  Второй регион  Третий регион\n",
       "Средний запас сырья         92.390          68.71         94.770\n",
       "RMSE                        37.757           0.89         40.145"
      ]
     },
     "execution_count": 28,
     "metadata": {},
     "output_type": "execute_result"
    }
   ],
   "source": [
    "data"
   ]
  },
  {
   "cell_type": "markdown",
   "metadata": {},
   "source": [
    "**Вывод**\n",
    "\n",
    "Минимальное количество баррелей нефти для безубыточной разработки составило 111.(1). В тоже время максимальный средний объем в регионах равен 94.7.  Средний запас сырья в скважинах регионов меньше, чем точка безубыточности. Наибоьшая доля скважин выше точки безубыточности будет находится в первом и третьем регионе."
   ]
  },
  {
   "cell_type": "markdown",
   "metadata": {},
   "source": [
    "## Расчёт прибыли и рисков "
   ]
  },
  {
   "cell_type": "markdown",
   "metadata": {},
   "source": [
    "Функция расчета прибыли"
   ]
  },
  {
   "cell_type": "code",
   "execution_count": 29,
   "metadata": {},
   "outputs": [],
   "source": [
    "def revenue(target, predict):\n",
    "    predict_sorted = predict.sort_values(ascending=False)\n",
    "    selected = target.loc[predict_sorted.index.to_list()][:200]\n",
    "    return (selected.sum() * PRICE_PER_1000B) - BUDGET"
   ]
  },
  {
   "cell_type": "markdown",
   "metadata": {},
   "source": [
    "Функция Bootstrap"
   ]
  },
  {
   "cell_type": "code",
   "execution_count": 30,
   "metadata": {},
   "outputs": [],
   "source": [
    "def bootstrap(target_test, predict, region):\n",
    "    state = np.random.RandomState(12345)\n",
    "    values = []\n",
    "    target = target_test.reset_index(drop=True)\n",
    "    predictions = pd.Series(predict)\n",
    "    count = 0 \n",
    "    for i in range(1000):\n",
    " \n",
    "        target_subsample = target.sample(500, replace=True, random_state=state)\n",
    "        predictions_subsample = predictions.loc[target_subsample.index.to_list()]\n",
    "        value = revenue(target_subsample, predictions_subsample)\n",
    "        values.append(value)\n",
    "        \n",
    "        if value < 0: \n",
    "            count += 1 \n",
    "        \n",
    "    risk = count / 1000\n",
    " \n",
    "    values = pd.Series(values)\n",
    "    \n",
    "    lower = values.quantile(0.025)\n",
    "    upper = values.quantile(0.975) \n",
    "    \n",
    "    print('Средняя прибыль по', region, 'региону составляет:', round(values.mean(), 2), 'рублей, с риском', \n",
    "          round(risk * 100, 2), '%')\n",
    "    print('Доверительный интервал в регионе составляет от', round(lower, 2),'до', round(upper, 2))"
   ]
  },
  {
   "cell_type": "markdown",
   "metadata": {},
   "source": [
    "Найдем среднюю прибыль, 95%-й доверительный интервал и риск убытков для каждого региона"
   ]
  },
  {
   "cell_type": "code",
   "execution_count": 31,
   "metadata": {},
   "outputs": [
    {
     "name": "stdout",
     "output_type": "stream",
     "text": [
      "Средняя прибыль по 1 региону составляет: 435933772.14 рублей, с риском 6.1 %\n",
      "Доверительный интервал в регионе составляет от -116231612.78 до 966504180.71\n"
     ]
    }
   ],
   "source": [
    "bootstrap(valid_target_1, prediction_1, 1)"
   ]
  },
  {
   "cell_type": "code",
   "execution_count": 32,
   "metadata": {},
   "outputs": [
    {
     "name": "stdout",
     "output_type": "stream",
     "text": [
      "Средняя прибыль по 2 региону составляет: 489661254.41 рублей, с риском 1.1 %\n",
      "Доверительный интервал в регионе составляет от 55116177.27 до 905762650.42\n"
     ]
    }
   ],
   "source": [
    "bootstrap(valid_target_2, prediction_2, 2)"
   ]
  },
  {
   "cell_type": "code",
   "execution_count": 33,
   "metadata": {
    "scrolled": true
   },
   "outputs": [
    {
     "name": "stdout",
     "output_type": "stream",
     "text": [
      "Средняя прибыль по 3 региону составляет: 403687927.86 рублей, с риском 7.1 %\n",
      "Доверительный интервал в регионе составляет от -153116984.76 до 952887416.71\n"
     ]
    }
   ],
   "source": [
    "bootstrap(valid_target_3, prediction_3, 3)"
   ]
  },
  {
   "cell_type": "markdown",
   "metadata": {},
   "source": [
    "**Вывод**\n",
    "\n",
    "После расчёта рисков и выручки можно заметить, что второй регион показывает наиболее выгодный вероятный результат. Самая высокая средняя выручка, а так же самые минимальные риски. Однако по второму региону следует уточнить данные. Если выбирать из первого и третьего региона, то лучшим будет первый."
   ]
  },
  {
   "cell_type": "markdown",
   "metadata": {},
   "source": [
    "**Общий вывод**\n",
    "\n",
    "При выполнении проекта было выполнено:\n",
    "\n",
    "- Изучины данные. Проведена подготовка данных к моделированию.\n",
    "- Обучена модель для каждого региона df1, df2 и df3.\n",
    "- Составлена функция расчета прибыли в регионе.\n",
    "- Посчитана прибыль и риски за каждый регион и обоснован выбор региона.\n",
    "- Второй регион определен одним из лучших по показателям предсказывания и представленным данным, хотя данные по второму региону не выглядят нормально распределенными."
   ]
  },
  {
   "cell_type": "markdown",
   "metadata": {},
   "source": [
    "## Чек-лист готовности проекта"
   ]
  },
  {
   "cell_type": "markdown",
   "metadata": {},
   "source": [
    "Поставьте 'x' в выполненных пунктах. Далее нажмите Shift+Enter."
   ]
  },
  {
   "cell_type": "markdown",
   "metadata": {},
   "source": [
    "- [x]  Jupyter Notebook открыт\n",
    "- [x]  Весь код выполняется без ошибок\n",
    "- [x]  Ячейки с кодом расположены в порядке исполнения\n",
    "- [x]  Выполнен шаг 1: данные подготовлены\n",
    "- [x]  Выполнен шаг 2: модели обучены и проверены\n",
    "    - [x]  Данные корректно разбиты на обучающую и валидационную выборки\n",
    "    - [x]  Модели обучены, предсказания сделаны\n",
    "    - [x]  Предсказания и правильные ответы на валидационной выборке сохранены\n",
    "    - [x]  На экране напечатаны результаты\n",
    "    - [x]  Сделаны выводы\n",
    "- [x]  Выполнен шаг 3: проведена подготовка к расчёту прибыли\n",
    "    - [x]  Для всех ключевых значений созданы константы Python\n",
    "    - [x]  Посчитано минимальное среднее количество продукта в месторождениях региона, достаточное для разработки\n",
    "    - [x]  По предыдущему пункту сделаны выводы\n",
    "    - [x]  Написана функция расчёта прибыли\n",
    "- [x]  Выполнен шаг 4: посчитаны риски и прибыль\n",
    "    - [x]  Проведена процедура *Bootstrap*\n",
    "    - [x]  Все параметры бутстрепа соответствуют условию\n",
    "    - [x]  Найдены все нужные величины\n",
    "    - [x]  Предложен регион для разработки месторождения\n",
    "    - [x]  Выбор региона обоснован"
   ]
  }
 ],
 "metadata": {
  "ExecuteTimeLog": [
   {
    "duration": 1662,
    "start_time": "2022-07-07T18:42:21.363Z"
   },
   {
    "duration": 50,
    "start_time": "2022-07-12T13:30:26.901Z"
   },
   {
    "duration": 1641,
    "start_time": "2022-07-12T13:30:29.222Z"
   },
   {
    "duration": 1720,
    "start_time": "2022-07-12T13:30:35.917Z"
   },
   {
    "duration": 14,
    "start_time": "2022-07-12T13:31:39.665Z"
   },
   {
    "duration": 10,
    "start_time": "2022-07-12T13:31:47.455Z"
   },
   {
    "duration": 9,
    "start_time": "2022-07-12T13:31:53.427Z"
   },
   {
    "duration": 15,
    "start_time": "2022-07-12T13:32:01.961Z"
   },
   {
    "duration": 14,
    "start_time": "2022-07-12T13:32:07.408Z"
   },
   {
    "duration": 16,
    "start_time": "2022-07-12T13:32:14.920Z"
   },
   {
    "duration": 43,
    "start_time": "2022-07-12T13:39:17.119Z"
   },
   {
    "duration": 39,
    "start_time": "2022-07-12T13:39:21.024Z"
   },
   {
    "duration": 42,
    "start_time": "2022-07-12T13:39:27.219Z"
   },
   {
    "duration": 35,
    "start_time": "2022-07-12T13:39:40.446Z"
   },
   {
    "duration": 147,
    "start_time": "2022-07-12T13:41:13.259Z"
   },
   {
    "duration": 843,
    "start_time": "2022-07-12T13:42:54.169Z"
   },
   {
    "duration": 889,
    "start_time": "2022-07-12T13:43:03.759Z"
   },
   {
    "duration": 792,
    "start_time": "2022-07-12T13:44:06.908Z"
   },
   {
    "duration": 802,
    "start_time": "2022-07-12T13:44:10.993Z"
   },
   {
    "duration": 18,
    "start_time": "2022-07-12T13:51:07.600Z"
   },
   {
    "duration": 108,
    "start_time": "2022-07-12T13:51:26.944Z"
   },
   {
    "duration": 1321,
    "start_time": "2022-07-12T13:51:46.503Z"
   },
   {
    "duration": 388,
    "start_time": "2022-07-12T13:51:47.827Z"
   },
   {
    "duration": 14,
    "start_time": "2022-07-12T13:51:48.217Z"
   },
   {
    "duration": 10,
    "start_time": "2022-07-12T13:51:48.239Z"
   },
   {
    "duration": 18,
    "start_time": "2022-07-12T13:51:48.250Z"
   },
   {
    "duration": 26,
    "start_time": "2022-07-12T13:51:48.270Z"
   },
   {
    "duration": 14,
    "start_time": "2022-07-12T13:51:48.297Z"
   },
   {
    "duration": 28,
    "start_time": "2022-07-12T13:51:48.312Z"
   },
   {
    "duration": 149,
    "start_time": "2022-07-12T13:51:48.342Z"
   },
   {
    "duration": 18,
    "start_time": "2022-07-12T13:51:48.494Z"
   },
   {
    "duration": 831,
    "start_time": "2022-07-12T13:51:48.514Z"
   },
   {
    "duration": 893,
    "start_time": "2022-07-12T13:51:49.347Z"
   },
   {
    "duration": 808,
    "start_time": "2022-07-12T13:51:50.242Z"
   },
   {
    "duration": 113,
    "start_time": "2022-07-12T13:51:51.052Z"
   },
   {
    "duration": 7,
    "start_time": "2022-07-12T13:52:27.966Z"
   },
   {
    "duration": 18,
    "start_time": "2022-07-12T13:52:33.997Z"
   },
   {
    "duration": 1386,
    "start_time": "2022-07-12T13:53:56.691Z"
   },
   {
    "duration": 384,
    "start_time": "2022-07-12T13:53:58.080Z"
   },
   {
    "duration": 15,
    "start_time": "2022-07-12T13:53:58.466Z"
   },
   {
    "duration": 10,
    "start_time": "2022-07-12T13:53:58.482Z"
   },
   {
    "duration": 18,
    "start_time": "2022-07-12T13:53:58.494Z"
   },
   {
    "duration": 27,
    "start_time": "2022-07-12T13:53:58.514Z"
   },
   {
    "duration": 14,
    "start_time": "2022-07-12T13:53:58.543Z"
   },
   {
    "duration": 14,
    "start_time": "2022-07-12T13:53:58.558Z"
   },
   {
    "duration": 172,
    "start_time": "2022-07-12T13:53:58.573Z"
   },
   {
    "duration": 18,
    "start_time": "2022-07-12T13:53:58.747Z"
   },
   {
    "duration": 876,
    "start_time": "2022-07-12T13:53:58.767Z"
   },
   {
    "duration": 927,
    "start_time": "2022-07-12T13:53:59.645Z"
   },
   {
    "duration": 881,
    "start_time": "2022-07-12T13:54:00.573Z"
   },
   {
    "duration": 7,
    "start_time": "2022-07-12T13:54:01.457Z"
   },
   {
    "duration": 17,
    "start_time": "2022-07-12T13:56:30.966Z"
   },
   {
    "duration": 16,
    "start_time": "2022-07-12T13:56:40.527Z"
   },
   {
    "duration": 16,
    "start_time": "2022-07-12T13:56:41.752Z"
   },
   {
    "duration": 1408,
    "start_time": "2022-07-12T14:02:59.058Z"
   },
   {
    "duration": 386,
    "start_time": "2022-07-12T14:03:00.469Z"
   },
   {
    "duration": 14,
    "start_time": "2022-07-12T14:03:00.859Z"
   },
   {
    "duration": 19,
    "start_time": "2022-07-12T14:03:00.875Z"
   },
   {
    "duration": 27,
    "start_time": "2022-07-12T14:03:00.895Z"
   },
   {
    "duration": 24,
    "start_time": "2022-07-12T14:03:00.924Z"
   },
   {
    "duration": 14,
    "start_time": "2022-07-12T14:03:00.950Z"
   },
   {
    "duration": 16,
    "start_time": "2022-07-12T14:03:00.965Z"
   },
   {
    "duration": 12,
    "start_time": "2022-07-12T14:03:00.983Z"
   },
   {
    "duration": 109,
    "start_time": "2022-07-12T14:03:00.997Z"
   },
   {
    "duration": 9,
    "start_time": "2022-07-12T14:03:01.107Z"
   },
   {
    "duration": 887,
    "start_time": "2022-07-12T14:03:01.117Z"
   },
   {
    "duration": 916,
    "start_time": "2022-07-12T14:03:02.007Z"
   },
   {
    "duration": 814,
    "start_time": "2022-07-12T14:03:02.925Z"
   },
   {
    "duration": 16,
    "start_time": "2022-07-12T14:03:03.740Z"
   },
   {
    "duration": 16,
    "start_time": "2022-07-12T14:03:03.758Z"
   },
   {
    "duration": 16,
    "start_time": "2022-07-12T14:03:03.775Z"
   },
   {
    "duration": 79,
    "start_time": "2022-07-12T14:08:12.198Z"
   },
   {
    "duration": 809,
    "start_time": "2022-07-12T14:12:47.031Z"
   },
   {
    "duration": 1414,
    "start_time": "2022-07-12T14:13:05.810Z"
   },
   {
    "duration": 371,
    "start_time": "2022-07-12T14:13:07.226Z"
   },
   {
    "duration": 14,
    "start_time": "2022-07-12T14:13:07.599Z"
   },
   {
    "duration": 10,
    "start_time": "2022-07-12T14:13:07.614Z"
   },
   {
    "duration": 21,
    "start_time": "2022-07-12T14:13:07.625Z"
   },
   {
    "duration": 21,
    "start_time": "2022-07-12T14:13:07.647Z"
   },
   {
    "duration": 13,
    "start_time": "2022-07-12T14:13:07.670Z"
   },
   {
    "duration": 14,
    "start_time": "2022-07-12T14:13:07.685Z"
   },
   {
    "duration": 12,
    "start_time": "2022-07-12T14:13:07.700Z"
   },
   {
    "duration": 108,
    "start_time": "2022-07-12T14:13:07.740Z"
   },
   {
    "duration": 13,
    "start_time": "2022-07-12T14:13:07.850Z"
   },
   {
    "duration": 869,
    "start_time": "2022-07-12T14:13:07.865Z"
   },
   {
    "duration": 932,
    "start_time": "2022-07-12T14:13:08.736Z"
   },
   {
    "duration": 836,
    "start_time": "2022-07-12T14:13:09.671Z"
   },
   {
    "duration": 16,
    "start_time": "2022-07-12T14:13:10.509Z"
   },
   {
    "duration": 27,
    "start_time": "2022-07-12T14:13:10.527Z"
   },
   {
    "duration": 15,
    "start_time": "2022-07-12T14:13:10.556Z"
   },
   {
    "duration": 3,
    "start_time": "2022-07-12T14:14:23.890Z"
   },
   {
    "duration": 30,
    "start_time": "2022-07-12T14:20:29.619Z"
   },
   {
    "duration": 3,
    "start_time": "2022-07-12T14:23:29.148Z"
   },
   {
    "duration": 49,
    "start_time": "2022-07-13T08:32:39.769Z"
   },
   {
    "duration": 1604,
    "start_time": "2022-07-13T08:32:45.397Z"
   },
   {
    "duration": 1909,
    "start_time": "2022-07-13T08:32:47.003Z"
   },
   {
    "duration": 13,
    "start_time": "2022-07-13T08:32:48.914Z"
   },
   {
    "duration": 9,
    "start_time": "2022-07-13T08:32:48.929Z"
   },
   {
    "duration": 18,
    "start_time": "2022-07-13T08:32:48.941Z"
   },
   {
    "duration": 19,
    "start_time": "2022-07-13T08:32:48.961Z"
   },
   {
    "duration": 14,
    "start_time": "2022-07-13T08:32:48.983Z"
   },
   {
    "duration": 15,
    "start_time": "2022-07-13T08:32:48.998Z"
   },
   {
    "duration": 12,
    "start_time": "2022-07-13T08:32:49.015Z"
   },
   {
    "duration": 104,
    "start_time": "2022-07-13T08:32:49.054Z"
   },
   {
    "duration": 10,
    "start_time": "2022-07-13T08:32:49.160Z"
   },
   {
    "duration": 768,
    "start_time": "2022-07-13T08:32:49.172Z"
   },
   {
    "duration": 802,
    "start_time": "2022-07-13T08:32:49.943Z"
   },
   {
    "duration": 696,
    "start_time": "2022-07-13T08:32:50.747Z"
   },
   {
    "duration": 20,
    "start_time": "2022-07-13T08:32:51.445Z"
   },
   {
    "duration": 14,
    "start_time": "2022-07-13T08:32:51.467Z"
   },
   {
    "duration": 14,
    "start_time": "2022-07-13T08:32:51.483Z"
   },
   {
    "duration": 7,
    "start_time": "2022-07-13T08:32:51.498Z"
   },
   {
    "duration": 68,
    "start_time": "2022-07-13T08:32:51.506Z"
   },
   {
    "duration": 3,
    "start_time": "2022-07-13T08:32:51.576Z"
   },
   {
    "duration": 28,
    "start_time": "2022-07-13T08:35:10.167Z"
   },
   {
    "duration": 17,
    "start_time": "2022-07-13T08:35:56.444Z"
   },
   {
    "duration": 10,
    "start_time": "2022-07-13T08:36:02.089Z"
   },
   {
    "duration": 14,
    "start_time": "2022-07-13T08:36:31.115Z"
   },
   {
    "duration": 25,
    "start_time": "2022-07-13T08:37:06.667Z"
   },
   {
    "duration": 9,
    "start_time": "2022-07-13T08:37:09.066Z"
   },
   {
    "duration": 13,
    "start_time": "2022-07-13T08:37:10.167Z"
   },
   {
    "duration": 97,
    "start_time": "2022-07-13T08:37:13.376Z"
   },
   {
    "duration": 10,
    "start_time": "2022-07-13T08:37:24.260Z"
   },
   {
    "duration": 3,
    "start_time": "2022-07-13T08:38:11.563Z"
   },
   {
    "duration": 5,
    "start_time": "2022-07-13T08:38:34.972Z"
   },
   {
    "duration": 5,
    "start_time": "2022-07-13T08:38:44.363Z"
   },
   {
    "duration": 4,
    "start_time": "2022-07-13T08:39:20.265Z"
   },
   {
    "duration": 4,
    "start_time": "2022-07-13T08:41:52.575Z"
   },
   {
    "duration": 15,
    "start_time": "2022-07-13T08:45:53.905Z"
   },
   {
    "duration": 24,
    "start_time": "2022-07-13T08:46:11.366Z"
   },
   {
    "duration": 22,
    "start_time": "2022-07-13T08:46:16.620Z"
   },
   {
    "duration": 14,
    "start_time": "2022-07-13T08:47:26.418Z"
   },
   {
    "duration": 1250,
    "start_time": "2022-07-13T08:50:13.362Z"
   },
   {
    "duration": 362,
    "start_time": "2022-07-13T08:50:14.614Z"
   },
   {
    "duration": 12,
    "start_time": "2022-07-13T08:50:14.977Z"
   },
   {
    "duration": 7,
    "start_time": "2022-07-13T08:50:14.991Z"
   },
   {
    "duration": 12,
    "start_time": "2022-07-13T08:50:15.000Z"
   },
   {
    "duration": 36,
    "start_time": "2022-07-13T08:50:15.014Z"
   },
   {
    "duration": 27,
    "start_time": "2022-07-13T08:50:15.051Z"
   },
   {
    "duration": 14,
    "start_time": "2022-07-13T08:50:15.079Z"
   },
   {
    "duration": 12,
    "start_time": "2022-07-13T08:50:15.094Z"
   },
   {
    "duration": 73,
    "start_time": "2022-07-13T08:50:15.107Z"
   },
   {
    "duration": 8,
    "start_time": "2022-07-13T08:50:15.181Z"
   },
   {
    "duration": 725,
    "start_time": "2022-07-13T08:50:15.190Z"
   },
   {
    "duration": 849,
    "start_time": "2022-07-13T08:50:15.916Z"
   },
   {
    "duration": 700,
    "start_time": "2022-07-13T08:50:16.768Z"
   },
   {
    "duration": 13,
    "start_time": "2022-07-13T08:50:17.470Z"
   },
   {
    "duration": 20,
    "start_time": "2022-07-13T08:50:17.485Z"
   },
   {
    "duration": 35,
    "start_time": "2022-07-13T08:50:17.507Z"
   },
   {
    "duration": 29,
    "start_time": "2022-07-13T08:50:17.543Z"
   },
   {
    "duration": 62,
    "start_time": "2022-07-13T08:50:17.574Z"
   },
   {
    "duration": 10,
    "start_time": "2022-07-13T08:50:17.637Z"
   },
   {
    "duration": 19,
    "start_time": "2022-07-13T08:50:17.649Z"
   },
   {
    "duration": 182,
    "start_time": "2022-07-13T08:50:17.673Z"
   },
   {
    "duration": 36,
    "start_time": "2022-07-13T08:50:17.857Z"
   },
   {
    "duration": 185,
    "start_time": "2022-07-13T08:50:17.895Z"
   },
   {
    "duration": 1231,
    "start_time": "2022-07-13T08:50:35.195Z"
   },
   {
    "duration": 359,
    "start_time": "2022-07-13T08:50:36.427Z"
   },
   {
    "duration": 12,
    "start_time": "2022-07-13T08:50:36.788Z"
   },
   {
    "duration": 8,
    "start_time": "2022-07-13T08:50:36.801Z"
   },
   {
    "duration": 8,
    "start_time": "2022-07-13T08:50:36.811Z"
   },
   {
    "duration": 41,
    "start_time": "2022-07-13T08:50:36.820Z"
   },
   {
    "duration": 13,
    "start_time": "2022-07-13T08:50:36.863Z"
   },
   {
    "duration": 18,
    "start_time": "2022-07-13T08:50:36.878Z"
   },
   {
    "duration": 11,
    "start_time": "2022-07-13T08:50:36.898Z"
   },
   {
    "duration": 76,
    "start_time": "2022-07-13T08:50:36.910Z"
   },
   {
    "duration": 7,
    "start_time": "2022-07-13T08:50:36.987Z"
   },
   {
    "duration": 732,
    "start_time": "2022-07-13T08:50:36.996Z"
   },
   {
    "duration": 858,
    "start_time": "2022-07-13T08:50:37.730Z"
   },
   {
    "duration": 733,
    "start_time": "2022-07-13T08:50:38.590Z"
   },
   {
    "duration": 14,
    "start_time": "2022-07-13T08:50:39.324Z"
   },
   {
    "duration": 28,
    "start_time": "2022-07-13T08:50:39.339Z"
   },
   {
    "duration": 13,
    "start_time": "2022-07-13T08:50:39.369Z"
   },
   {
    "duration": 6,
    "start_time": "2022-07-13T08:50:39.384Z"
   },
   {
    "duration": 30,
    "start_time": "2022-07-13T08:50:39.391Z"
   },
   {
    "duration": 11,
    "start_time": "2022-07-13T08:50:39.423Z"
   },
   {
    "duration": 14,
    "start_time": "2022-07-13T08:50:39.454Z"
   },
   {
    "duration": 100,
    "start_time": "2022-07-13T08:50:39.470Z"
   },
   {
    "duration": 107,
    "start_time": "2022-07-13T08:50:39.572Z"
   },
   {
    "duration": 86,
    "start_time": "2022-07-13T08:50:39.681Z"
   },
   {
    "duration": 73,
    "start_time": "2022-07-13T09:01:10.106Z"
   },
   {
    "duration": 121,
    "start_time": "2022-07-13T09:05:16.099Z"
   },
   {
    "duration": 3,
    "start_time": "2022-07-13T09:06:35.151Z"
   },
   {
    "duration": 9,
    "start_time": "2022-07-13T09:06:36.497Z"
   },
   {
    "duration": 1390,
    "start_time": "2022-07-13T09:06:45.257Z"
   },
   {
    "duration": 357,
    "start_time": "2022-07-13T09:06:46.649Z"
   },
   {
    "duration": 12,
    "start_time": "2022-07-13T09:06:47.008Z"
   },
   {
    "duration": 9,
    "start_time": "2022-07-13T09:06:47.022Z"
   },
   {
    "duration": 20,
    "start_time": "2022-07-13T09:06:47.033Z"
   },
   {
    "duration": 18,
    "start_time": "2022-07-13T09:06:47.055Z"
   },
   {
    "duration": 12,
    "start_time": "2022-07-13T09:06:47.074Z"
   },
   {
    "duration": 14,
    "start_time": "2022-07-13T09:06:47.088Z"
   },
   {
    "duration": 12,
    "start_time": "2022-07-13T09:06:47.104Z"
   },
   {
    "duration": 97,
    "start_time": "2022-07-13T09:06:47.118Z"
   },
   {
    "duration": 8,
    "start_time": "2022-07-13T09:06:47.217Z"
   },
   {
    "duration": 792,
    "start_time": "2022-07-13T09:06:47.226Z"
   },
   {
    "duration": 826,
    "start_time": "2022-07-13T09:06:48.020Z"
   },
   {
    "duration": 764,
    "start_time": "2022-07-13T09:06:48.849Z"
   },
   {
    "duration": 14,
    "start_time": "2022-07-13T09:06:49.614Z"
   },
   {
    "duration": 24,
    "start_time": "2022-07-13T09:06:49.630Z"
   },
   {
    "duration": 19,
    "start_time": "2022-07-13T09:06:49.655Z"
   },
   {
    "duration": 11,
    "start_time": "2022-07-13T09:06:49.676Z"
   },
   {
    "duration": 51,
    "start_time": "2022-07-13T09:06:49.688Z"
   },
   {
    "duration": 19,
    "start_time": "2022-07-13T09:06:49.741Z"
   },
   {
    "duration": 36,
    "start_time": "2022-07-13T09:06:49.762Z"
   },
   {
    "duration": 155,
    "start_time": "2022-07-13T09:06:49.800Z"
   },
   {
    "duration": 28,
    "start_time": "2022-07-13T09:06:49.957Z"
   },
   {
    "duration": 178,
    "start_time": "2022-07-13T09:06:49.986Z"
   },
   {
    "duration": 93,
    "start_time": "2022-07-13T09:06:50.166Z"
   },
   {
    "duration": 97,
    "start_time": "2022-07-13T09:06:50.261Z"
   },
   {
    "duration": 118,
    "start_time": "2022-07-13T09:06:50.360Z"
   },
   {
    "duration": 3,
    "start_time": "2022-07-13T09:08:43.315Z"
   },
   {
    "duration": 61,
    "start_time": "2022-07-13T09:08:44.734Z"
   },
   {
    "duration": 4,
    "start_time": "2022-07-13T09:10:42.395Z"
   },
   {
    "duration": 9,
    "start_time": "2022-07-13T09:10:53.512Z"
   },
   {
    "duration": 9,
    "start_time": "2022-07-13T09:11:14.485Z"
   },
   {
    "duration": 8,
    "start_time": "2022-07-13T09:11:23.306Z"
   },
   {
    "duration": 8,
    "start_time": "2022-07-13T09:11:56.253Z"
   },
   {
    "duration": 9,
    "start_time": "2022-07-13T09:12:21.524Z"
   },
   {
    "duration": 3,
    "start_time": "2022-07-13T09:15:27.122Z"
   },
   {
    "duration": 3,
    "start_time": "2022-07-13T09:16:58.667Z"
   },
   {
    "duration": 11,
    "start_time": "2022-07-13T09:47:45.015Z"
   },
   {
    "duration": 3,
    "start_time": "2022-07-13T09:47:50.004Z"
   },
   {
    "duration": 3,
    "start_time": "2022-07-13T09:47:51.056Z"
   },
   {
    "duration": 8,
    "start_time": "2022-07-13T09:49:22.404Z"
   },
   {
    "duration": 3,
    "start_time": "2022-07-13T09:49:26.380Z"
   },
   {
    "duration": 4,
    "start_time": "2022-07-13T09:49:29.045Z"
   },
   {
    "duration": 3,
    "start_time": "2022-07-13T09:50:17.776Z"
   },
   {
    "duration": 3,
    "start_time": "2022-07-13T09:52:15.120Z"
   },
   {
    "duration": 4,
    "start_time": "2022-07-13T09:52:19.579Z"
   },
   {
    "duration": 4,
    "start_time": "2022-07-13T09:52:29.070Z"
   },
   {
    "duration": 3,
    "start_time": "2022-07-13T09:52:40.714Z"
   },
   {
    "duration": 3,
    "start_time": "2022-07-13T09:52:59.418Z"
   },
   {
    "duration": 4,
    "start_time": "2022-07-13T09:53:40.987Z"
   },
   {
    "duration": 3,
    "start_time": "2022-07-13T09:53:47.368Z"
   },
   {
    "duration": 4,
    "start_time": "2022-07-13T09:56:22.169Z"
   },
   {
    "duration": 7,
    "start_time": "2022-07-13T10:07:52.471Z"
   },
   {
    "duration": 9,
    "start_time": "2022-07-13T10:09:43.236Z"
   },
   {
    "duration": 3,
    "start_time": "2022-07-13T10:18:50.507Z"
   },
   {
    "duration": 6,
    "start_time": "2022-07-13T10:21:59.232Z"
   },
   {
    "duration": 8,
    "start_time": "2022-07-13T10:23:37.006Z"
   },
   {
    "duration": 10,
    "start_time": "2022-07-13T10:25:52.774Z"
   },
   {
    "duration": 21,
    "start_time": "2022-07-13T10:26:38.671Z"
   },
   {
    "duration": 7,
    "start_time": "2022-07-13T10:27:10.995Z"
   },
   {
    "duration": 1520,
    "start_time": "2022-07-13T10:27:12.769Z"
   },
   {
    "duration": 4,
    "start_time": "2022-07-13T10:33:35.974Z"
   },
   {
    "duration": 11,
    "start_time": "2022-07-13T10:34:24.120Z"
   },
   {
    "duration": 16,
    "start_time": "2022-07-13T10:37:39.927Z"
   },
   {
    "duration": 3,
    "start_time": "2022-07-13T10:37:57.920Z"
   },
   {
    "duration": 14,
    "start_time": "2022-07-13T10:37:59.379Z"
   },
   {
    "duration": 3,
    "start_time": "2022-07-13T11:00:59.872Z"
   },
   {
    "duration": 3,
    "start_time": "2022-07-13T11:01:02.000Z"
   },
   {
    "duration": 4,
    "start_time": "2022-07-13T11:01:04.706Z"
   },
   {
    "duration": 12,
    "start_time": "2022-07-13T11:01:06.615Z"
   },
   {
    "duration": 10,
    "start_time": "2022-07-13T11:01:55.471Z"
   },
   {
    "duration": 14,
    "start_time": "2022-07-13T11:03:11.433Z"
   },
   {
    "duration": 5,
    "start_time": "2022-07-13T11:06:09.680Z"
   },
   {
    "duration": 5,
    "start_time": "2022-07-13T11:06:16.572Z"
   },
   {
    "duration": 1167,
    "start_time": "2022-07-13T11:06:24.492Z"
   },
   {
    "duration": 335,
    "start_time": "2022-07-13T11:06:25.661Z"
   },
   {
    "duration": 14,
    "start_time": "2022-07-13T11:06:25.997Z"
   },
   {
    "duration": 10,
    "start_time": "2022-07-13T11:06:26.014Z"
   },
   {
    "duration": 16,
    "start_time": "2022-07-13T11:06:26.025Z"
   },
   {
    "duration": 15,
    "start_time": "2022-07-13T11:06:26.052Z"
   },
   {
    "duration": 14,
    "start_time": "2022-07-13T11:06:26.069Z"
   },
   {
    "duration": 14,
    "start_time": "2022-07-13T11:06:26.085Z"
   },
   {
    "duration": 27,
    "start_time": "2022-07-13T11:06:26.101Z"
   },
   {
    "duration": 97,
    "start_time": "2022-07-13T11:06:26.131Z"
   },
   {
    "duration": 9,
    "start_time": "2022-07-13T11:06:26.230Z"
   },
   {
    "duration": 770,
    "start_time": "2022-07-13T11:06:26.240Z"
   },
   {
    "duration": 809,
    "start_time": "2022-07-13T11:06:27.012Z"
   },
   {
    "duration": 759,
    "start_time": "2022-07-13T11:06:27.822Z"
   },
   {
    "duration": 18,
    "start_time": "2022-07-13T11:06:28.582Z"
   },
   {
    "duration": 17,
    "start_time": "2022-07-13T11:06:28.602Z"
   },
   {
    "duration": 37,
    "start_time": "2022-07-13T11:06:28.620Z"
   },
   {
    "duration": 6,
    "start_time": "2022-07-13T11:06:28.659Z"
   },
   {
    "duration": 31,
    "start_time": "2022-07-13T11:06:28.667Z"
   },
   {
    "duration": 12,
    "start_time": "2022-07-13T11:06:28.700Z"
   },
   {
    "duration": 39,
    "start_time": "2022-07-13T11:06:28.714Z"
   },
   {
    "duration": 100,
    "start_time": "2022-07-13T11:06:28.755Z"
   },
   {
    "duration": 19,
    "start_time": "2022-07-13T11:06:28.856Z"
   },
   {
    "duration": 177,
    "start_time": "2022-07-13T11:06:28.878Z"
   },
   {
    "duration": 101,
    "start_time": "2022-07-13T11:06:29.057Z"
   },
   {
    "duration": 14,
    "start_time": "2022-07-13T11:06:29.160Z"
   },
   {
    "duration": 6,
    "start_time": "2022-07-13T11:06:29.176Z"
   },
   {
    "duration": 9,
    "start_time": "2022-07-13T11:06:29.185Z"
   },
   {
    "duration": 10,
    "start_time": "2022-07-13T11:06:29.195Z"
   },
   {
    "duration": 96,
    "start_time": "2022-07-13T11:06:46.822Z"
   },
   {
    "duration": 8,
    "start_time": "2022-07-13T11:06:57.273Z"
   },
   {
    "duration": 8,
    "start_time": "2022-07-13T11:06:58.868Z"
   },
   {
    "duration": 5,
    "start_time": "2022-07-13T11:08:05.542Z"
   },
   {
    "duration": 8,
    "start_time": "2022-07-13T11:08:07.414Z"
   },
   {
    "duration": 9,
    "start_time": "2022-07-13T11:10:47.298Z"
   },
   {
    "duration": 1430,
    "start_time": "2022-07-13T11:12:03.889Z"
   },
   {
    "duration": 1522,
    "start_time": "2022-07-13T11:12:06.420Z"
   },
   {
    "duration": 1559,
    "start_time": "2022-07-13T11:12:07.944Z"
   },
   {
    "duration": 3,
    "start_time": "2022-07-13T11:18:30.116Z"
   },
   {
    "duration": 110,
    "start_time": "2022-07-13T11:27:18.313Z"
   },
   {
    "duration": 5,
    "start_time": "2022-07-13T11:27:55.671Z"
   },
   {
    "duration": 1325,
    "start_time": "2022-07-13T11:28:05.967Z"
   },
   {
    "duration": 352,
    "start_time": "2022-07-13T11:28:07.294Z"
   },
   {
    "duration": 13,
    "start_time": "2022-07-13T11:28:07.647Z"
   },
   {
    "duration": 8,
    "start_time": "2022-07-13T11:28:07.661Z"
   },
   {
    "duration": 10,
    "start_time": "2022-07-13T11:28:07.671Z"
   },
   {
    "duration": 18,
    "start_time": "2022-07-13T11:28:07.682Z"
   },
   {
    "duration": 11,
    "start_time": "2022-07-13T11:28:07.702Z"
   },
   {
    "duration": 11,
    "start_time": "2022-07-13T11:28:07.715Z"
   },
   {
    "duration": 11,
    "start_time": "2022-07-13T11:28:07.752Z"
   },
   {
    "duration": 76,
    "start_time": "2022-07-13T11:28:07.764Z"
   },
   {
    "duration": 15,
    "start_time": "2022-07-13T11:28:07.842Z"
   },
   {
    "duration": 773,
    "start_time": "2022-07-13T11:28:07.858Z"
   },
   {
    "duration": 855,
    "start_time": "2022-07-13T11:28:08.633Z"
   },
   {
    "duration": 696,
    "start_time": "2022-07-13T11:28:09.491Z"
   },
   {
    "duration": 14,
    "start_time": "2022-07-13T11:28:10.189Z"
   },
   {
    "duration": 12,
    "start_time": "2022-07-13T11:28:10.205Z"
   },
   {
    "duration": 13,
    "start_time": "2022-07-13T11:28:10.218Z"
   },
   {
    "duration": 6,
    "start_time": "2022-07-13T11:28:10.253Z"
   },
   {
    "duration": 27,
    "start_time": "2022-07-13T11:28:10.261Z"
   },
   {
    "duration": 10,
    "start_time": "2022-07-13T11:28:10.290Z"
   },
   {
    "duration": 54,
    "start_time": "2022-07-13T11:28:10.301Z"
   },
   {
    "duration": 105,
    "start_time": "2022-07-13T11:28:10.356Z"
   },
   {
    "duration": 14,
    "start_time": "2022-07-13T11:28:10.463Z"
   },
   {
    "duration": 178,
    "start_time": "2022-07-13T11:28:10.478Z"
   },
   {
    "duration": 102,
    "start_time": "2022-07-13T11:28:10.658Z"
   },
   {
    "duration": 8,
    "start_time": "2022-07-13T11:28:10.762Z"
   },
   {
    "duration": 87,
    "start_time": "2022-07-13T11:28:10.771Z"
   },
   {
    "duration": 12,
    "start_time": "2022-07-13T11:28:10.859Z"
   },
   {
    "duration": 4,
    "start_time": "2022-07-13T11:28:10.873Z"
   },
   {
    "duration": 5,
    "start_time": "2022-07-13T11:28:10.878Z"
   },
   {
    "duration": 1450,
    "start_time": "2022-07-13T11:28:10.885Z"
   },
   {
    "duration": 1433,
    "start_time": "2022-07-13T11:28:12.337Z"
   },
   {
    "duration": 1490,
    "start_time": "2022-07-13T11:28:13.772Z"
   },
   {
    "duration": 6,
    "start_time": "2022-07-13T11:28:34.502Z"
   },
   {
    "duration": 1282,
    "start_time": "2022-07-13T11:28:40.615Z"
   },
   {
    "duration": 351,
    "start_time": "2022-07-13T11:28:41.899Z"
   },
   {
    "duration": 12,
    "start_time": "2022-07-13T11:28:42.252Z"
   },
   {
    "duration": 8,
    "start_time": "2022-07-13T11:28:42.267Z"
   },
   {
    "duration": 9,
    "start_time": "2022-07-13T11:28:42.276Z"
   },
   {
    "duration": 18,
    "start_time": "2022-07-13T11:28:42.286Z"
   },
   {
    "duration": 13,
    "start_time": "2022-07-13T11:28:42.306Z"
   },
   {
    "duration": 40,
    "start_time": "2022-07-13T11:28:42.320Z"
   },
   {
    "duration": 12,
    "start_time": "2022-07-13T11:28:42.362Z"
   },
   {
    "duration": 84,
    "start_time": "2022-07-13T11:28:42.376Z"
   },
   {
    "duration": 8,
    "start_time": "2022-07-13T11:28:42.462Z"
   },
   {
    "duration": 705,
    "start_time": "2022-07-13T11:28:42.471Z"
   },
   {
    "duration": 751,
    "start_time": "2022-07-13T11:28:43.178Z"
   },
   {
    "duration": 669,
    "start_time": "2022-07-13T11:28:43.932Z"
   },
   {
    "duration": 16,
    "start_time": "2022-07-13T11:28:44.603Z"
   },
   {
    "duration": 31,
    "start_time": "2022-07-13T11:28:44.621Z"
   },
   {
    "duration": 15,
    "start_time": "2022-07-13T11:28:44.653Z"
   },
   {
    "duration": 7,
    "start_time": "2022-07-13T11:28:44.669Z"
   },
   {
    "duration": 32,
    "start_time": "2022-07-13T11:28:44.677Z"
   },
   {
    "duration": 11,
    "start_time": "2022-07-13T11:28:44.711Z"
   },
   {
    "duration": 32,
    "start_time": "2022-07-13T11:28:44.723Z"
   },
   {
    "duration": 99,
    "start_time": "2022-07-13T11:28:44.756Z"
   },
   {
    "duration": 16,
    "start_time": "2022-07-13T11:28:44.857Z"
   },
   {
    "duration": 180,
    "start_time": "2022-07-13T11:28:44.875Z"
   },
   {
    "duration": 102,
    "start_time": "2022-07-13T11:28:45.056Z"
   },
   {
    "duration": 7,
    "start_time": "2022-07-13T11:28:45.160Z"
   },
   {
    "duration": 6,
    "start_time": "2022-07-13T11:28:45.168Z"
   },
   {
    "duration": 9,
    "start_time": "2022-07-13T11:28:45.176Z"
   },
   {
    "duration": 4,
    "start_time": "2022-07-13T11:28:45.187Z"
   },
   {
    "duration": 5,
    "start_time": "2022-07-13T11:28:45.192Z"
   },
   {
    "duration": 1505,
    "start_time": "2022-07-13T11:28:45.198Z"
   },
   {
    "duration": 1384,
    "start_time": "2022-07-13T11:28:46.704Z"
   },
   {
    "duration": 1368,
    "start_time": "2022-07-13T11:28:48.090Z"
   },
   {
    "duration": 1287,
    "start_time": "2022-07-13T11:30:51.220Z"
   },
   {
    "duration": 354,
    "start_time": "2022-07-13T11:30:52.509Z"
   },
   {
    "duration": 13,
    "start_time": "2022-07-13T11:30:52.864Z"
   },
   {
    "duration": 10,
    "start_time": "2022-07-13T11:30:52.878Z"
   },
   {
    "duration": 19,
    "start_time": "2022-07-13T11:30:52.889Z"
   },
   {
    "duration": 21,
    "start_time": "2022-07-13T11:30:52.909Z"
   },
   {
    "duration": 12,
    "start_time": "2022-07-13T11:30:52.932Z"
   },
   {
    "duration": 13,
    "start_time": "2022-07-13T11:30:52.951Z"
   },
   {
    "duration": 17,
    "start_time": "2022-07-13T11:30:52.966Z"
   },
   {
    "duration": 79,
    "start_time": "2022-07-13T11:30:52.986Z"
   },
   {
    "duration": 9,
    "start_time": "2022-07-13T11:30:53.067Z"
   },
   {
    "duration": 735,
    "start_time": "2022-07-13T11:30:53.078Z"
   },
   {
    "duration": 801,
    "start_time": "2022-07-13T11:30:53.815Z"
   },
   {
    "duration": 739,
    "start_time": "2022-07-13T11:30:54.618Z"
   },
   {
    "duration": 14,
    "start_time": "2022-07-13T11:30:55.359Z"
   },
   {
    "duration": 21,
    "start_time": "2022-07-13T11:30:55.374Z"
   },
   {
    "duration": 36,
    "start_time": "2022-07-13T11:30:55.397Z"
   },
   {
    "duration": 20,
    "start_time": "2022-07-13T11:30:55.435Z"
   },
   {
    "duration": 50,
    "start_time": "2022-07-13T11:30:55.457Z"
   },
   {
    "duration": 21,
    "start_time": "2022-07-13T11:30:55.508Z"
   },
   {
    "duration": 20,
    "start_time": "2022-07-13T11:30:55.530Z"
   },
   {
    "duration": 216,
    "start_time": "2022-07-13T11:30:55.551Z"
   },
   {
    "duration": 26,
    "start_time": "2022-07-13T11:30:55.769Z"
   },
   {
    "duration": 164,
    "start_time": "2022-07-13T11:30:55.797Z"
   },
   {
    "duration": 207,
    "start_time": "2022-07-13T11:30:55.962Z"
   },
   {
    "duration": 21,
    "start_time": "2022-07-13T11:30:56.171Z"
   },
   {
    "duration": 15,
    "start_time": "2022-07-13T11:30:56.194Z"
   },
   {
    "duration": 21,
    "start_time": "2022-07-13T11:30:56.212Z"
   },
   {
    "duration": 23,
    "start_time": "2022-07-13T11:30:56.235Z"
   },
   {
    "duration": 19,
    "start_time": "2022-07-13T11:30:56.260Z"
   },
   {
    "duration": 1482,
    "start_time": "2022-07-13T11:30:56.281Z"
   },
   {
    "duration": 1492,
    "start_time": "2022-07-13T11:30:57.764Z"
   },
   {
    "duration": 1457,
    "start_time": "2022-07-13T11:30:59.258Z"
   },
   {
    "duration": 116,
    "start_time": "2022-07-14T12:00:46.598Z"
   },
   {
    "duration": 72,
    "start_time": "2022-07-14T12:02:01.583Z"
   }
  ],
  "kernelspec": {
   "display_name": "Python 3 (ipykernel)",
   "language": "python",
   "name": "python3"
  },
  "language_info": {
   "codemirror_mode": {
    "name": "ipython",
    "version": 3
   },
   "file_extension": ".py",
   "mimetype": "text/x-python",
   "name": "python",
   "nbconvert_exporter": "python",
   "pygments_lexer": "ipython3",
   "version": "3.9.7"
  },
  "toc": {
   "base_numbering": 1,
   "nav_menu": {},
   "number_sections": true,
   "sideBar": true,
   "skip_h1_title": true,
   "title_cell": "Table of Contents",
   "title_sidebar": "Contents",
   "toc_cell": false,
   "toc_position": {},
   "toc_section_display": true,
   "toc_window_display": false
  }
 },
 "nbformat": 4,
 "nbformat_minor": 2
}
