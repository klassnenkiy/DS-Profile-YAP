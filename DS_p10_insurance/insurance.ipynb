{
 "cells": [
  {
   "cell_type": "markdown",
   "metadata": {
    "toc": true
   },
   "source": [
    "<h1>Содержание<span class=\"tocSkip\"></span></h1>\n",
    "<div class=\"toc\"><ul class=\"toc-item\"><li><span><a href=\"#Загрузка-данных\" data-toc-modified-id=\"Загрузка-данных-1\"><span class=\"toc-item-num\">1&nbsp;&nbsp;</span>Загрузка данных</a></span></li><li><span><a href=\"#Умножение-матриц\" data-toc-modified-id=\"Умножение-матриц-2\"><span class=\"toc-item-num\">2&nbsp;&nbsp;</span>Умножение матриц</a></span></li><li><span><a href=\"#Алгоритм-преобразования\" data-toc-modified-id=\"Алгоритм-преобразования-3\"><span class=\"toc-item-num\">3&nbsp;&nbsp;</span>Алгоритм преобразования</a></span></li><li><span><a href=\"#Проверка-алгоритма\" data-toc-modified-id=\"Проверка-алгоритма-4\"><span class=\"toc-item-num\">4&nbsp;&nbsp;</span>Проверка алгоритма</a></span></li><li><span><a href=\"#Чек-лист-проверки\" data-toc-modified-id=\"Чек-лист-проверки-5\"><span class=\"toc-item-num\">5&nbsp;&nbsp;</span>Чек-лист проверки</a></span></li></ul></div>"
   ]
  },
  {
   "cell_type": "markdown",
   "metadata": {},
   "source": [
    "# Защита персональных данных клиентов"
   ]
  },
  {
   "cell_type": "markdown",
   "metadata": {},
   "source": [
    "Вам нужно защитить данные клиентов страховой компании «Хоть потоп». Разработайте такой метод преобразования данных, чтобы по ним было сложно восстановить персональную информацию. Обоснуйте корректность его работы.\n",
    "\n",
    "Нужно защитить данные, чтобы при преобразовании качество моделей машинного обучения не ухудшилось. Подбирать наилучшую модель не требуется."
   ]
  },
  {
   "cell_type": "markdown",
   "metadata": {},
   "source": [
    "## Загрузка данных"
   ]
  },
  {
   "cell_type": "code",
   "execution_count": 1,
   "metadata": {},
   "outputs": [],
   "source": [
    "import pandas as pd\n",
    "import numpy as np\n",
    "import matplotlib.pyplot as plt\n",
    "import seaborn as sns\n",
    "from sklearn.linear_model import LinearRegression\n",
    "from sklearn.metrics import r2_score\n",
    "\n",
    "import warnings\n",
    "warnings.filterwarnings('ignore')"
   ]
  },
  {
   "cell_type": "code",
   "execution_count": 2,
   "metadata": {},
   "outputs": [
    {
     "name": "stdout",
     "output_type": "stream",
     "text": [
      "<class 'pandas.core.frame.DataFrame'>\n",
      "RangeIndex: 5000 entries, 0 to 4999\n",
      "Data columns (total 5 columns):\n",
      " #   Column             Non-Null Count  Dtype  \n",
      "---  ------             --------------  -----  \n",
      " 0   Пол                5000 non-null   int64  \n",
      " 1   Возраст            5000 non-null   float64\n",
      " 2   Зарплата           5000 non-null   float64\n",
      " 3   Члены семьи        5000 non-null   int64  \n",
      " 4   Страховые выплаты  5000 non-null   int64  \n",
      "dtypes: float64(2), int64(3)\n",
      "memory usage: 195.4 KB\n"
     ]
    }
   ],
   "source": [
    "df = pd.read_csv(\"/datasets/insurance.csv\")\n",
    "df.info()"
   ]
  },
  {
   "cell_type": "code",
   "execution_count": 3,
   "metadata": {},
   "outputs": [
    {
     "data": {
      "text/html": [
       "<div>\n",
       "<style scoped>\n",
       "    .dataframe tbody tr th:only-of-type {\n",
       "        vertical-align: middle;\n",
       "    }\n",
       "\n",
       "    .dataframe tbody tr th {\n",
       "        vertical-align: top;\n",
       "    }\n",
       "\n",
       "    .dataframe thead th {\n",
       "        text-align: right;\n",
       "    }\n",
       "</style>\n",
       "<table border=\"1\" class=\"dataframe\">\n",
       "  <thead>\n",
       "    <tr style=\"text-align: right;\">\n",
       "      <th></th>\n",
       "      <th>Пол</th>\n",
       "      <th>Возраст</th>\n",
       "      <th>Зарплата</th>\n",
       "      <th>Члены семьи</th>\n",
       "      <th>Страховые выплаты</th>\n",
       "    </tr>\n",
       "  </thead>\n",
       "  <tbody>\n",
       "    <tr>\n",
       "      <th>0</th>\n",
       "      <td>1</td>\n",
       "      <td>41.0</td>\n",
       "      <td>49600.0</td>\n",
       "      <td>1</td>\n",
       "      <td>0</td>\n",
       "    </tr>\n",
       "    <tr>\n",
       "      <th>1</th>\n",
       "      <td>0</td>\n",
       "      <td>46.0</td>\n",
       "      <td>38000.0</td>\n",
       "      <td>1</td>\n",
       "      <td>1</td>\n",
       "    </tr>\n",
       "    <tr>\n",
       "      <th>2</th>\n",
       "      <td>0</td>\n",
       "      <td>29.0</td>\n",
       "      <td>21000.0</td>\n",
       "      <td>0</td>\n",
       "      <td>0</td>\n",
       "    </tr>\n",
       "    <tr>\n",
       "      <th>3</th>\n",
       "      <td>0</td>\n",
       "      <td>21.0</td>\n",
       "      <td>41700.0</td>\n",
       "      <td>2</td>\n",
       "      <td>0</td>\n",
       "    </tr>\n",
       "    <tr>\n",
       "      <th>4</th>\n",
       "      <td>1</td>\n",
       "      <td>28.0</td>\n",
       "      <td>26100.0</td>\n",
       "      <td>0</td>\n",
       "      <td>0</td>\n",
       "    </tr>\n",
       "  </tbody>\n",
       "</table>\n",
       "</div>"
      ],
      "text/plain": [
       "   Пол  Возраст  Зарплата  Члены семьи  Страховые выплаты\n",
       "0    1     41.0   49600.0            1                  0\n",
       "1    0     46.0   38000.0            1                  1\n",
       "2    0     29.0   21000.0            0                  0\n",
       "3    0     21.0   41700.0            2                  0\n",
       "4    1     28.0   26100.0            0                  0"
      ]
     },
     "execution_count": 3,
     "metadata": {},
     "output_type": "execute_result"
    }
   ],
   "source": [
    "df.head()"
   ]
  },
  {
   "cell_type": "markdown",
   "metadata": {},
   "source": [
    "Проверим Nan, None "
   ]
  },
  {
   "cell_type": "code",
   "execution_count": 4,
   "metadata": {
    "scrolled": true
   },
   "outputs": [
    {
     "data": {
      "text/plain": [
       "Пол                  0\n",
       "Возраст              0\n",
       "Зарплата             0\n",
       "Члены семьи          0\n",
       "Страховые выплаты    0\n",
       "dtype: int64"
      ]
     },
     "execution_count": 4,
     "metadata": {},
     "output_type": "execute_result"
    }
   ],
   "source": [
    "df.isna().sum()"
   ]
  },
  {
   "cell_type": "markdown",
   "metadata": {},
   "source": [
    "Проверим на дубликаты"
   ]
  },
  {
   "cell_type": "code",
   "execution_count": 5,
   "metadata": {},
   "outputs": [
    {
     "data": {
      "text/plain": [
       "153"
      ]
     },
     "execution_count": 5,
     "metadata": {},
     "output_type": "execute_result"
    }
   ],
   "source": [
    "df.duplicated().sum()"
   ]
  },
  {
   "cell_type": "code",
   "execution_count": 6,
   "metadata": {},
   "outputs": [],
   "source": [
    "df = df.drop_duplicates().reset_index(drop=True)"
   ]
  },
  {
   "cell_type": "code",
   "execution_count": 7,
   "metadata": {},
   "outputs": [
    {
     "name": "stdout",
     "output_type": "stream",
     "text": [
      "<class 'pandas.core.frame.DataFrame'>\n",
      "RangeIndex: 4847 entries, 0 to 4846\n",
      "Data columns (total 5 columns):\n",
      " #   Column             Non-Null Count  Dtype  \n",
      "---  ------             --------------  -----  \n",
      " 0   Пол                4847 non-null   int64  \n",
      " 1   Возраст            4847 non-null   float64\n",
      " 2   Зарплата           4847 non-null   float64\n",
      " 3   Члены семьи        4847 non-null   int64  \n",
      " 4   Страховые выплаты  4847 non-null   int64  \n",
      "dtypes: float64(2), int64(3)\n",
      "memory usage: 189.5 KB\n"
     ]
    }
   ],
   "source": [
    "df.info()"
   ]
  },
  {
   "cell_type": "code",
   "execution_count": 8,
   "metadata": {},
   "outputs": [],
   "source": [
    "df['Возраст'] = df['Возраст'].astype('int64')\n",
    "df['Зарплата'] = df['Зарплата'].astype('int64')"
   ]
  },
  {
   "cell_type": "code",
   "execution_count": 9,
   "metadata": {},
   "outputs": [
    {
     "data": {
      "text/html": [
       "<div>\n",
       "<style scoped>\n",
       "    .dataframe tbody tr th:only-of-type {\n",
       "        vertical-align: middle;\n",
       "    }\n",
       "\n",
       "    .dataframe tbody tr th {\n",
       "        vertical-align: top;\n",
       "    }\n",
       "\n",
       "    .dataframe thead th {\n",
       "        text-align: right;\n",
       "    }\n",
       "</style>\n",
       "<table border=\"1\" class=\"dataframe\">\n",
       "  <thead>\n",
       "    <tr style=\"text-align: right;\">\n",
       "      <th></th>\n",
       "      <th>Пол</th>\n",
       "      <th>Возраст</th>\n",
       "      <th>Зарплата</th>\n",
       "      <th>Члены семьи</th>\n",
       "      <th>Страховые выплаты</th>\n",
       "    </tr>\n",
       "  </thead>\n",
       "  <tbody>\n",
       "    <tr>\n",
       "      <th>count</th>\n",
       "      <td>4847.000000</td>\n",
       "      <td>4847.000000</td>\n",
       "      <td>4847.000000</td>\n",
       "      <td>4847.000000</td>\n",
       "      <td>4847.000000</td>\n",
       "    </tr>\n",
       "    <tr>\n",
       "      <th>mean</th>\n",
       "      <td>0.498453</td>\n",
       "      <td>31.023932</td>\n",
       "      <td>39895.811223</td>\n",
       "      <td>1.203425</td>\n",
       "      <td>0.152259</td>\n",
       "    </tr>\n",
       "    <tr>\n",
       "      <th>std</th>\n",
       "      <td>0.500049</td>\n",
       "      <td>8.487995</td>\n",
       "      <td>9972.952441</td>\n",
       "      <td>1.098664</td>\n",
       "      <td>0.468934</td>\n",
       "    </tr>\n",
       "    <tr>\n",
       "      <th>min</th>\n",
       "      <td>0.000000</td>\n",
       "      <td>18.000000</td>\n",
       "      <td>5300.000000</td>\n",
       "      <td>0.000000</td>\n",
       "      <td>0.000000</td>\n",
       "    </tr>\n",
       "    <tr>\n",
       "      <th>25%</th>\n",
       "      <td>0.000000</td>\n",
       "      <td>24.000000</td>\n",
       "      <td>33200.000000</td>\n",
       "      <td>0.000000</td>\n",
       "      <td>0.000000</td>\n",
       "    </tr>\n",
       "    <tr>\n",
       "      <th>50%</th>\n",
       "      <td>0.000000</td>\n",
       "      <td>30.000000</td>\n",
       "      <td>40200.000000</td>\n",
       "      <td>1.000000</td>\n",
       "      <td>0.000000</td>\n",
       "    </tr>\n",
       "    <tr>\n",
       "      <th>75%</th>\n",
       "      <td>1.000000</td>\n",
       "      <td>37.000000</td>\n",
       "      <td>46600.000000</td>\n",
       "      <td>2.000000</td>\n",
       "      <td>0.000000</td>\n",
       "    </tr>\n",
       "    <tr>\n",
       "      <th>max</th>\n",
       "      <td>1.000000</td>\n",
       "      <td>65.000000</td>\n",
       "      <td>79000.000000</td>\n",
       "      <td>6.000000</td>\n",
       "      <td>5.000000</td>\n",
       "    </tr>\n",
       "  </tbody>\n",
       "</table>\n",
       "</div>"
      ],
      "text/plain": [
       "               Пол      Возраст      Зарплата  Члены семьи  Страховые выплаты\n",
       "count  4847.000000  4847.000000   4847.000000  4847.000000        4847.000000\n",
       "mean      0.498453    31.023932  39895.811223     1.203425           0.152259\n",
       "std       0.500049     8.487995   9972.952441     1.098664           0.468934\n",
       "min       0.000000    18.000000   5300.000000     0.000000           0.000000\n",
       "25%       0.000000    24.000000  33200.000000     0.000000           0.000000\n",
       "50%       0.000000    30.000000  40200.000000     1.000000           0.000000\n",
       "75%       1.000000    37.000000  46600.000000     2.000000           0.000000\n",
       "max       1.000000    65.000000  79000.000000     6.000000           5.000000"
      ]
     },
     "execution_count": 9,
     "metadata": {},
     "output_type": "execute_result"
    }
   ],
   "source": [
    "df.describe()"
   ]
  },
  {
   "cell_type": "markdown",
   "metadata": {},
   "source": [
    "**ВЫВОД**\n",
    "\n",
    "Загруженные данные изучены. Данные состроят из 5000 строк и 5 признаков. Целевой признак - \"Страховые выплаты\". Дубликаты проверены и удалены. Пропусков не обнаружено. "
   ]
  },
  {
   "cell_type": "markdown",
   "metadata": {},
   "source": [
    "## Умножение матриц"
   ]
  },
  {
   "cell_type": "markdown",
   "metadata": {},
   "source": [
    "В этом задании вы можете записывать формулы в *Jupyter Notebook.*\n",
    "\n",
    "Чтобы записать формулу внутри текста, окружите её символами доллара \\\\$; если снаружи —  двойными символами \\\\$\\\\$. Эти формулы записываются на языке вёрстки *LaTeX.* \n",
    "\n",
    "Для примера мы записали формулы линейной регрессии. Можете их скопировать и отредактировать, чтобы решить задачу.\n",
    "\n",
    "Работать в *LaTeX* необязательно."
   ]
  },
  {
   "cell_type": "markdown",
   "metadata": {},
   "source": [
    "Обозначения:\n",
    "\n",
    "- $X$ — матрица признаков (нулевой столбец состоит из единиц)\n",
    "\n",
    "- $y$ — вектор целевого признака\n",
    "\n",
    "- $P$ — матрица, на которую умножаются признаки\n",
    "\n",
    "- $w$ — вектор весов линейной регрессии (нулевой элемент равен сдвигу)"
   ]
  },
  {
   "cell_type": "markdown",
   "metadata": {},
   "source": [
    "Предсказания:\n",
    "\n",
    "$$\n",
    "a = Xw\n",
    "$$\n",
    "\n",
    "Задача обучения:\n",
    "\n",
    "$$\n",
    "w = \\arg\\min_w MSE(Xw, y)\n",
    "$$\n",
    "\n",
    "Формула обучения:\n",
    "\n",
    "$$\n",
    "w = (X^T X)^{-1} X^T y\n",
    "$$"
   ]
  },
  {
   "cell_type": "markdown",
   "metadata": {},
   "source": [
    "**Ответ:**   При умножении на обратимую матрицу, качество линейной регрессии не изменится\n",
    "\n",
    "**Обоснование:** \n",
    "\n",
    "Представим новую матрицу признаков $ Z $ как произведение старой $X$ на матрицу $P $ (обратимую):\n",
    "$$ \n",
    "Z = X*P\n",
    "$$\n",
    "\n",
    "Подставим новое значение $Z$ в формулу $w1$ :\n",
    "\n",
    "$$\n",
    "w1= ((XP)^T XP)^{-1} XP^T y\n",
    "$$\n",
    "\n",
    "Раскроем первое произведение $(XP)^T$:\n",
    "\n",
    "$$\n",
    "w1= (P^TX^TXP)^{-1} P^TX^T y\n",
    "$$\n",
    "\n",
    "$$\n",
    "w1= (P^T(X^TX)P)^{-1} P^TX^T y\n",
    "$$\n",
    "\n",
    "$$\n",
    "w1= P^{-1}(X^TX){-1}(P^T)^{-1} P^TX^T y\n",
    "$$\n",
    "\n",
    "т.к. $P$ обратимая, то произведение $(P^T)^{-1} P^T$ = $E$ :\n",
    "\n",
    "$$\n",
    "w1= P^{-1}(X^TX){-1}EX^T y =  P^{-1}(X^TX){-1}X^T y\n",
    "$$\n",
    "\n",
    "В правой части получилась формула $w$\n",
    "\n",
    "$$\n",
    "w1= P^{-1}(X^TX){-1}X^T y = P^{-1}w\n",
    "$$\n",
    "\n",
    "Подставим новое значение весов $𝑤1$ в формулу для предсказаний линейной регрессии:\n",
    "$$\n",
    "a = Xw\n",
    "$$\n",
    "Подставим в эту формулу значения $X1$ и $𝑤1$ для того, чтобы на их основе вычислить предсказания модели :\n",
    "$$\n",
    "a1 = X1w1 = XPP^{-1}w\n",
    "$$\n",
    "\n",
    "Так как $P$ по условию обратимая, то произведение $PP^{-1}$ снова равно $E$:\n",
    "$$\n",
    "a1 = XPP^{-1}w = XEw = Xw = a\n",
    "$$\n",
    "\n",
    "Таким образом, мы доказали, что предсказания  для матрицы $a1$ признаков, умноженных на обратимую матрицу $P$ равны предсказаниям $a$. Следовательно, при умножении признаков на обратимую матрицу - качество линейной регрессии не изменится. В данном случае, параметры линейной регрессии в исходной задаче $w$ и в преобразованной $w1$ связаны следующим образом:\n",
    "$$\n",
    "w1 = P^{-1}w\n",
    "$$\n"
   ]
  },
  {
   "cell_type": "markdown",
   "metadata": {},
   "source": [
    "## Алгоритм преобразования"
   ]
  },
  {
   "cell_type": "markdown",
   "metadata": {},
   "source": [
    "**Алгоритм**\n",
    "\n",
    "1. Создать случайную матрицу, например $Y$\n",
    "2. Проверка матрицы Y на обратимость\n",
    "3. Получение матрицы преобразованных признаков $Z$ , путем умножения матрицы на матрицу признаков $X$. $Z=XY$\n",
    "4. Найдем метрики обученной модели на исходных признаках и на признаках умноженных на нашу матрицу\n",
    "5. Сравним метрики между собой. Если они равны, то задача выполнена"
   ]
  },
  {
   "cell_type": "markdown",
   "metadata": {},
   "source": [
    "**Обоснование**\n",
    "\n",
    "Матрица Y должна иметь необходимую размерность (nxn), где n - количество признаков для регрессии. Таким образом матрица Z будет иметь туже размерность, что и матрица X. Обратная матрица  Y существует только для квадратных невырожденных матриц (определитель которых не равен нулю)."
   ]
  },
  {
   "cell_type": "markdown",
   "metadata": {},
   "source": [
    "## Проверка алгоритма"
   ]
  },
  {
   "cell_type": "code",
   "execution_count": 10,
   "metadata": {},
   "outputs": [
    {
     "data": {
      "text/plain": [
       "((4847, 4), (4847,))"
      ]
     },
     "execution_count": 10,
     "metadata": {},
     "output_type": "execute_result"
    }
   ],
   "source": [
    "features = df.drop('Страховые выплаты', axis=1)\n",
    "target = df['Страховые выплаты']\n",
    "features.shape, target.shape"
   ]
  },
  {
   "cell_type": "markdown",
   "metadata": {},
   "source": [
    "Создаем рандомную матрицу"
   ]
  },
  {
   "cell_type": "code",
   "execution_count": 11,
   "metadata": {},
   "outputs": [],
   "source": [
    "matrix_y = np.random.normal(size = (4,4))"
   ]
  },
  {
   "cell_type": "markdown",
   "metadata": {},
   "source": [
    "Проверим, обратима ли матрица"
   ]
  },
  {
   "cell_type": "code",
   "execution_count": 12,
   "metadata": {},
   "outputs": [],
   "source": [
    "matrix_y = np.linalg.inv(matrix_y)"
   ]
  },
  {
   "cell_type": "markdown",
   "metadata": {},
   "source": [
    "Модель линейной регрессии для features без преобразования"
   ]
  },
  {
   "cell_type": "code",
   "execution_count": 13,
   "metadata": {},
   "outputs": [
    {
     "name": "stdout",
     "output_type": "stream",
     "text": [
      "R2 на исходных признаках: 0.4302010046633359\n"
     ]
    }
   ],
   "source": [
    "model = LinearRegression()\n",
    "model.fit(features, target)\n",
    "normal_predictions = model.predict(features)\n",
    "normal_r2_score = r2_score(target, normal_predictions)\n",
    "print('R2 на исходных признаках:', normal_r2_score)"
   ]
  },
  {
   "cell_type": "markdown",
   "metadata": {},
   "source": [
    "Получение матрицы преобразованных признаков, путем умножения на матрицу признаков"
   ]
  },
  {
   "cell_type": "code",
   "execution_count": 14,
   "metadata": {},
   "outputs": [],
   "source": [
    "transform_features = features @ matrix_y"
   ]
  },
  {
   "cell_type": "code",
   "execution_count": 15,
   "metadata": {},
   "outputs": [
    {
     "name": "stdout",
     "output_type": "stream",
     "text": [
      "R2 на преобразованных признаках: 0.4302010046633311\n"
     ]
    }
   ],
   "source": [
    "model.fit(transform_features, target)\n",
    "transform_predictions = model.predict(transform_features)\n",
    "transform_r2_score = r2_score(target, transform_predictions)\n",
    "print('R2 на преобразованных признаках:', transform_r2_score)"
   ]
  },
  {
   "cell_type": "markdown",
   "metadata": {},
   "source": [
    " сравнение качества моделей до и после преобразования на основе метрики r2\n",
    " "
   ]
  },
  {
   "cell_type": "code",
   "execution_count": 16,
   "metadata": {},
   "outputs": [
    {
     "data": {
      "text/plain": [
       "4.773959005888173e-15"
      ]
     },
     "execution_count": 16,
     "metadata": {},
     "output_type": "execute_result"
    }
   ],
   "source": [
    "normal_r2_score - transform_r2_score"
   ]
  },
  {
   "cell_type": "markdown",
   "metadata": {},
   "source": [
    "Качество линейной регрессии практически не изменилось, можно сделать вывод, что алгоритм преобразования данных работает правильно."
   ]
  },
  {
   "cell_type": "markdown",
   "metadata": {},
   "source": [
    "**Итоги** \n",
    "\n",
    "- Загружены и изучены данные\n",
    "- Качество линейной регресии не изменилось при использовании исодной матрици и исходной матрицы, умноженной на обратимую.\n",
    "- Создан алгоритм преобразования данных\n",
    "- Реализован алгоритм преобразования данных и проверена метрика R2 для данных без преобразования и с ними.\n"
   ]
  },
  {
   "cell_type": "markdown",
   "metadata": {},
   "source": [
    "## Чек-лист проверки"
   ]
  },
  {
   "cell_type": "markdown",
   "metadata": {},
   "source": [
    "Поставьте 'x' в выполненных пунктах. Далее нажмите Shift+Enter."
   ]
  },
  {
   "cell_type": "markdown",
   "metadata": {},
   "source": [
    "- [x]  Jupyter Notebook открыт\n",
    "- [x]  Весь код выполняется без ошибок\n",
    "- [x]  Ячейки с кодом расположены в порядке исполнения\n",
    "- [x]  Выполнен шаг 1: данные загружены\n",
    "- [x]  Выполнен шаг 2: получен ответ на вопрос об умножении матриц\n",
    "    - [x]  Указан правильный вариант ответа\n",
    "    - [x]  Вариант обоснован\n",
    "- [x]  Выполнен шаг 3: предложен алгоритм преобразования\n",
    "    - [x]  Алгоритм описан\n",
    "    - [x]  Алгоритм обоснован\n",
    "- [x]  Выполнен шаг 4: алгоритм проверен\n",
    "    - [x]  Алгоритм реализован\n",
    "    - [x]  Проведено сравнение качества моделей до и после преобразования"
   ]
  }
 ],
 "metadata": {
  "ExecuteTimeLog": [
   {
    "duration": 987,
    "start_time": "2022-08-16T08:20:00.436Z"
   },
   {
    "duration": 102,
    "start_time": "2022-08-16T08:20:39.096Z"
   },
   {
    "duration": 5,
    "start_time": "2022-08-16T08:20:57.222Z"
   },
   {
    "duration": 6,
    "start_time": "2022-08-16T08:21:07.889Z"
   },
   {
    "duration": 3,
    "start_time": "2022-08-16T08:21:32.740Z"
   },
   {
    "duration": 16,
    "start_time": "2022-08-16T08:21:39.103Z"
   },
   {
    "duration": 9,
    "start_time": "2022-08-16T08:21:46.771Z"
   },
   {
    "duration": 37,
    "start_time": "2022-08-16T09:54:27.256Z"
   },
   {
    "duration": 8,
    "start_time": "2022-08-16T09:54:32.675Z"
   },
   {
    "duration": 84,
    "start_time": "2022-08-16T09:56:05.077Z"
   },
   {
    "duration": 7,
    "start_time": "2022-08-16T09:56:30.955Z"
   },
   {
    "duration": 22,
    "start_time": "2022-08-16T09:57:02.427Z"
   },
   {
    "duration": 5,
    "start_time": "2022-08-16T09:59:03.861Z"
   },
   {
    "duration": 6,
    "start_time": "2022-08-16T09:59:22.152Z"
   },
   {
    "duration": 1270,
    "start_time": "2022-08-16T09:59:34.506Z"
   },
   {
    "duration": 5,
    "start_time": "2022-08-16T10:03:07.996Z"
   },
   {
    "duration": 4,
    "start_time": "2022-08-16T10:06:27.574Z"
   },
   {
    "duration": 1043,
    "start_time": "2022-08-16T10:06:45.465Z"
   },
   {
    "duration": 48,
    "start_time": "2022-08-16T10:06:46.511Z"
   },
   {
    "duration": 21,
    "start_time": "2022-08-16T10:06:46.562Z"
   },
   {
    "duration": 7,
    "start_time": "2022-08-16T10:06:46.585Z"
   },
   {
    "duration": 12,
    "start_time": "2022-08-16T10:06:46.594Z"
   },
   {
    "duration": 8,
    "start_time": "2022-08-16T10:06:46.608Z"
   },
   {
    "duration": 29,
    "start_time": "2022-08-16T10:06:46.617Z"
   },
   {
    "duration": 5,
    "start_time": "2022-08-16T10:06:46.647Z"
   },
   {
    "duration": 8,
    "start_time": "2022-08-16T10:06:46.654Z"
   },
   {
    "duration": 47,
    "start_time": "2022-08-16T10:06:46.664Z"
   },
   {
    "duration": 195,
    "start_time": "2022-08-16T10:06:46.713Z"
   },
   {
    "duration": 142,
    "start_time": "2022-08-16T10:06:46.910Z"
   },
   {
    "duration": 1085,
    "start_time": "2022-08-25T12:36:14.615Z"
   },
   {
    "duration": 103,
    "start_time": "2022-08-25T12:36:15.702Z"
   },
   {
    "duration": 14,
    "start_time": "2022-08-25T12:36:15.807Z"
   },
   {
    "duration": 10,
    "start_time": "2022-08-25T12:36:15.823Z"
   },
   {
    "duration": 7,
    "start_time": "2022-08-25T12:36:15.834Z"
   },
   {
    "duration": 4,
    "start_time": "2022-08-25T12:36:15.843Z"
   },
   {
    "duration": 26,
    "start_time": "2022-08-25T12:36:15.848Z"
   },
   {
    "duration": 12,
    "start_time": "2022-08-25T12:36:15.876Z"
   },
   {
    "duration": 7,
    "start_time": "2022-08-25T12:36:15.890Z"
   },
   {
    "duration": 6,
    "start_time": "2022-08-25T12:36:15.900Z"
   },
   {
    "duration": 84,
    "start_time": "2022-08-25T12:36:15.908Z"
   },
   {
    "duration": 278,
    "start_time": "2022-08-25T12:36:15.994Z"
   },
   {
    "duration": 10,
    "start_time": "2022-08-25T12:42:14.335Z"
   },
   {
    "duration": 72,
    "start_time": "2022-08-25T12:47:08.044Z"
   },
   {
    "duration": 7,
    "start_time": "2022-08-25T12:50:57.338Z"
   },
   {
    "duration": 1492,
    "start_time": "2022-08-25T12:51:02.815Z"
   },
   {
    "duration": 39,
    "start_time": "2022-08-25T12:51:04.309Z"
   },
   {
    "duration": 13,
    "start_time": "2022-08-25T12:51:04.350Z"
   },
   {
    "duration": 5,
    "start_time": "2022-08-25T12:51:04.365Z"
   },
   {
    "duration": 18,
    "start_time": "2022-08-25T12:51:04.373Z"
   },
   {
    "duration": 18,
    "start_time": "2022-08-25T12:51:04.392Z"
   },
   {
    "duration": 17,
    "start_time": "2022-08-25T12:51:04.411Z"
   },
   {
    "duration": 4,
    "start_time": "2022-08-25T12:51:04.430Z"
   },
   {
    "duration": 24,
    "start_time": "2022-08-25T12:51:04.436Z"
   },
   {
    "duration": 5,
    "start_time": "2022-08-25T12:51:04.461Z"
   },
   {
    "duration": 4,
    "start_time": "2022-08-25T13:56:42.062Z"
   },
   {
    "duration": 3,
    "start_time": "2022-08-25T14:00:00.210Z"
   },
   {
    "duration": 8,
    "start_time": "2022-08-25T14:00:07.047Z"
   },
   {
    "duration": 10,
    "start_time": "2022-08-25T14:00:27.283Z"
   },
   {
    "duration": 104,
    "start_time": "2022-08-25T14:00:30.171Z"
   },
   {
    "duration": 3,
    "start_time": "2022-08-25T14:00:41.503Z"
   },
   {
    "duration": 10,
    "start_time": "2022-08-25T14:00:44.414Z"
   },
   {
    "duration": 4,
    "start_time": "2022-08-25T14:01:41.050Z"
   },
   {
    "duration": 51,
    "start_time": "2022-08-25T14:01:52.564Z"
   },
   {
    "duration": 105,
    "start_time": "2022-08-25T14:05:50.606Z"
   },
   {
    "duration": 5,
    "start_time": "2022-08-25T14:06:25.266Z"
   },
   {
    "duration": 53,
    "start_time": "2022-08-25T14:09:50.392Z"
   },
   {
    "duration": 1337,
    "start_time": "2022-08-25T14:13:17.474Z"
   },
   {
    "duration": 37,
    "start_time": "2022-08-25T14:13:18.813Z"
   },
   {
    "duration": 15,
    "start_time": "2022-08-25T14:13:18.851Z"
   },
   {
    "duration": 6,
    "start_time": "2022-08-25T14:13:18.867Z"
   },
   {
    "duration": 6,
    "start_time": "2022-08-25T14:13:18.875Z"
   },
   {
    "duration": 6,
    "start_time": "2022-08-25T14:13:18.883Z"
   },
   {
    "duration": 13,
    "start_time": "2022-08-25T14:13:18.891Z"
   },
   {
    "duration": 5,
    "start_time": "2022-08-25T14:13:18.905Z"
   },
   {
    "duration": 24,
    "start_time": "2022-08-25T14:13:18.911Z"
   },
   {
    "duration": 6,
    "start_time": "2022-08-25T14:13:18.937Z"
   },
   {
    "duration": 6,
    "start_time": "2022-08-25T14:13:18.944Z"
   },
   {
    "duration": 131,
    "start_time": "2022-08-25T14:13:18.952Z"
   },
   {
    "duration": 0,
    "start_time": "2022-08-25T14:13:19.086Z"
   },
   {
    "duration": 0,
    "start_time": "2022-08-25T14:13:19.087Z"
   },
   {
    "duration": 0,
    "start_time": "2022-08-25T14:13:19.088Z"
   },
   {
    "duration": 0,
    "start_time": "2022-08-25T14:13:19.090Z"
   },
   {
    "duration": 1403,
    "start_time": "2022-08-25T14:13:41.386Z"
   },
   {
    "duration": 37,
    "start_time": "2022-08-25T14:13:42.791Z"
   },
   {
    "duration": 12,
    "start_time": "2022-08-25T14:13:42.829Z"
   },
   {
    "duration": 13,
    "start_time": "2022-08-25T14:13:42.844Z"
   },
   {
    "duration": 8,
    "start_time": "2022-08-25T14:13:42.859Z"
   },
   {
    "duration": 9,
    "start_time": "2022-08-25T14:13:42.869Z"
   },
   {
    "duration": 11,
    "start_time": "2022-08-25T14:13:42.879Z"
   },
   {
    "duration": 5,
    "start_time": "2022-08-25T14:13:42.892Z"
   },
   {
    "duration": 24,
    "start_time": "2022-08-25T14:13:42.899Z"
   },
   {
    "duration": 6,
    "start_time": "2022-08-25T14:13:42.926Z"
   },
   {
    "duration": 9,
    "start_time": "2022-08-25T14:13:42.934Z"
   },
   {
    "duration": 6,
    "start_time": "2022-08-25T14:13:42.945Z"
   },
   {
    "duration": 43,
    "start_time": "2022-08-25T14:13:42.953Z"
   },
   {
    "duration": 292,
    "start_time": "2022-08-25T14:13:42.997Z"
   },
   {
    "duration": 0,
    "start_time": "2022-08-25T14:13:43.291Z"
   },
   {
    "duration": 0,
    "start_time": "2022-08-25T14:13:43.292Z"
   },
   {
    "duration": 1355,
    "start_time": "2022-08-25T14:14:03.980Z"
   },
   {
    "duration": 37,
    "start_time": "2022-08-25T14:14:05.337Z"
   },
   {
    "duration": 12,
    "start_time": "2022-08-25T14:14:05.375Z"
   },
   {
    "duration": 16,
    "start_time": "2022-08-25T14:14:05.389Z"
   },
   {
    "duration": 17,
    "start_time": "2022-08-25T14:14:05.406Z"
   },
   {
    "duration": 19,
    "start_time": "2022-08-25T14:14:05.424Z"
   },
   {
    "duration": 33,
    "start_time": "2022-08-25T14:14:05.444Z"
   },
   {
    "duration": 17,
    "start_time": "2022-08-25T14:14:05.479Z"
   },
   {
    "duration": 64,
    "start_time": "2022-08-25T14:14:05.498Z"
   },
   {
    "duration": 5,
    "start_time": "2022-08-25T14:14:05.565Z"
   },
   {
    "duration": 12,
    "start_time": "2022-08-25T14:14:05.571Z"
   },
   {
    "duration": 21,
    "start_time": "2022-08-25T14:14:05.585Z"
   },
   {
    "duration": 84,
    "start_time": "2022-08-25T14:14:05.608Z"
   },
   {
    "duration": 108,
    "start_time": "2022-08-25T14:14:05.694Z"
   },
   {
    "duration": 29,
    "start_time": "2022-08-25T14:14:05.804Z"
   },
   {
    "duration": 157,
    "start_time": "2022-08-25T14:14:05.834Z"
   },
   {
    "duration": 1326,
    "start_time": "2022-08-25T14:14:18.598Z"
   },
   {
    "duration": 36,
    "start_time": "2022-08-25T14:14:19.926Z"
   },
   {
    "duration": 12,
    "start_time": "2022-08-25T14:14:19.963Z"
   },
   {
    "duration": 14,
    "start_time": "2022-08-25T14:14:19.977Z"
   },
   {
    "duration": 8,
    "start_time": "2022-08-25T14:14:19.993Z"
   },
   {
    "duration": 9,
    "start_time": "2022-08-25T14:14:20.002Z"
   },
   {
    "duration": 19,
    "start_time": "2022-08-25T14:14:20.013Z"
   },
   {
    "duration": 17,
    "start_time": "2022-08-25T14:14:20.034Z"
   },
   {
    "duration": 40,
    "start_time": "2022-08-25T14:14:20.053Z"
   },
   {
    "duration": 5,
    "start_time": "2022-08-25T14:14:20.095Z"
   },
   {
    "duration": 6,
    "start_time": "2022-08-25T14:14:20.102Z"
   },
   {
    "duration": 7,
    "start_time": "2022-08-25T14:14:20.110Z"
   },
   {
    "duration": 72,
    "start_time": "2022-08-25T14:14:20.119Z"
   },
   {
    "duration": 97,
    "start_time": "2022-08-25T14:14:20.193Z"
   },
   {
    "duration": 20,
    "start_time": "2022-08-25T14:14:20.292Z"
   },
   {
    "duration": 173,
    "start_time": "2022-08-25T14:14:20.314Z"
   },
   {
    "duration": 49,
    "start_time": "2022-08-26T19:38:05.454Z"
   }
  ],
  "kernelspec": {
   "display_name": "Python 3 (ipykernel)",
   "language": "python",
   "name": "python3"
  },
  "language_info": {
   "codemirror_mode": {
    "name": "ipython",
    "version": 3
   },
   "file_extension": ".py",
   "mimetype": "text/x-python",
   "name": "python",
   "nbconvert_exporter": "python",
   "pygments_lexer": "ipython3",
   "version": "3.9.7"
  },
  "toc": {
   "base_numbering": 1,
   "nav_menu": {},
   "number_sections": true,
   "sideBar": true,
   "skip_h1_title": true,
   "title_cell": "Содержание",
   "title_sidebar": "Contents",
   "toc_cell": true,
   "toc_position": {},
   "toc_section_display": true,
   "toc_window_display": false
  }
 },
 "nbformat": 4,
 "nbformat_minor": 2
}
