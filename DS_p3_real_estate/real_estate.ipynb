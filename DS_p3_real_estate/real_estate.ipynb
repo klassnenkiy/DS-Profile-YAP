{
 "cells": [
  {
   "cell_type": "markdown",
   "metadata": {
    "toc": true
   },
   "source": [
    "<h1>Содержание<span class=\"tocSkip\"></span></h1>\n",
    "<div class=\"toc\"><ul class=\"toc-item\"><li><span><a href=\"#Изучение-данных-из-файла\" data-toc-modified-id=\"Изучение-данных-из-файла-1\"><span class=\"toc-item-num\">1&nbsp;&nbsp;</span>Изучение данных из файла</a></span><ul class=\"toc-item\"><li><span><a href=\"#Вывод\" data-toc-modified-id=\"Вывод-1.1\"><span class=\"toc-item-num\">1.1&nbsp;&nbsp;</span>Вывод</a></span></li></ul></li><li><span><a href=\"#Предобработка-данных\" data-toc-modified-id=\"Предобработка-данных-2\"><span class=\"toc-item-num\">2&nbsp;&nbsp;</span>Предобработка данных</a></span><ul class=\"toc-item\"><li><span><a href=\"#Пропуски\" data-toc-modified-id=\"Пропуски-2.1\"><span class=\"toc-item-num\">2.1&nbsp;&nbsp;</span>Пропуски</a></span><ul class=\"toc-item\"><li><span><a href=\"#Балконы---balcony\" data-toc-modified-id=\"Балконы---balcony-2.1.1\"><span class=\"toc-item-num\">2.1.1&nbsp;&nbsp;</span>Балконы - balcony</a></span></li><li><span><a href=\"#Название-населенного-пункта---locality_name\" data-toc-modified-id=\"Название-населенного-пункта---locality_name-2.1.2\"><span class=\"toc-item-num\">2.1.2&nbsp;&nbsp;</span>Название населенного пункта - locality_name</a></span></li><li><span><a href=\"#Дней-размещения-объявления---days_exposition\" data-toc-modified-id=\"Дней-размещения-объявления---days_exposition-2.1.3\"><span class=\"toc-item-num\">2.1.3&nbsp;&nbsp;</span>Дней размещения объявления - days_exposition</a></span></li><li><span><a href=\"#Аппартаменты----is_apartment\" data-toc-modified-id=\"Аппартаменты----is_apartment-2.1.4\"><span class=\"toc-item-num\">2.1.4&nbsp;&nbsp;</span>Аппартаменты -  is_apartment</a></span></li><li><span><a href=\"#Пруды-и-парки-(ponds_around3000-и-parks_around3000)\" data-toc-modified-id=\"Пруды-и-парки-(ponds_around3000-и-parks_around3000)-2.1.5\"><span class=\"toc-item-num\">2.1.5&nbsp;&nbsp;</span>Пруды и парки (ponds_around3000 и parks_around3000)</a></span></li><li><span><a href=\"#Всего-этажей-(floors_total)\" data-toc-modified-id=\"Всего-этажей-(floors_total)-2.1.6\"><span class=\"toc-item-num\">2.1.6&nbsp;&nbsp;</span>Всего этажей (floors_total)</a></span></li><li><span><a href=\"#Жилая-площадь,-площадь-кухни---(kitchen_area-и-living_area)\" data-toc-modified-id=\"Жилая-площадь,-площадь-кухни---(kitchen_area-и-living_area)-2.1.7\"><span class=\"toc-item-num\">2.1.7&nbsp;&nbsp;</span>Жилая площадь, площадь кухни - (kitchen_area и living_area)</a></span></li><li><span><a href=\"#Высота-потолков---(ceiling_height)\" data-toc-modified-id=\"Высота-потолков---(ceiling_height)-2.1.8\"><span class=\"toc-item-num\">2.1.8&nbsp;&nbsp;</span>Высота потолков - (ceiling_height)</a></span></li><li><span><a href=\"#Расстояние-до-аэропорта-и-центра-города---(airports_nearest-и-cityCenters_nearest-)\" data-toc-modified-id=\"Расстояние-до-аэропорта-и-центра-города---(airports_nearest-и-cityCenters_nearest-)-2.1.9\"><span class=\"toc-item-num\">2.1.9&nbsp;&nbsp;</span>Расстояние до аэропорта и центра города - (airports_nearest и cityCenters_nearest )</a></span></li></ul></li><li><span><a href=\"#Замена-типа-данных\" data-toc-modified-id=\"Замена-типа-данных-2.2\"><span class=\"toc-item-num\">2.2&nbsp;&nbsp;</span>Замена типа данных</a></span></li><li><span><a href=\"#Проверка-дубликатов\" data-toc-modified-id=\"Проверка-дубликатов-2.3\"><span class=\"toc-item-num\">2.3&nbsp;&nbsp;</span>Проверка дубликатов</a></span></li></ul></li><li><span><a href=\"#Расчёты-и-добавление-результатов-в-таблицу\" data-toc-modified-id=\"Расчёты-и-добавление-результатов-в-таблицу-3\"><span class=\"toc-item-num\">3&nbsp;&nbsp;</span>Расчёты и добавление результатов в таблицу</a></span></li><li><span><a href=\"#Исследовательский-анализ-данных\" data-toc-modified-id=\"Исследовательский-анализ-данных-4\"><span class=\"toc-item-num\">4&nbsp;&nbsp;</span>Исследовательский анализ данных</a></span><ul class=\"toc-item\"><li><span><a href=\"#Изучите-следующие-параметры:-площадь,-цена,-число-комнат,-высота-потолков.-Постройте-гистограммы-для-каждого-параметра.\" data-toc-modified-id=\"Изучите-следующие-параметры:-площадь,-цена,-число-комнат,-высота-потолков.-Постройте-гистограммы-для-каждого-параметра.-4.1\"><span class=\"toc-item-num\">4.1&nbsp;&nbsp;</span>Изучите следующие параметры: площадь, цена, число комнат, высота потолков. Постройте гистограммы для каждого параметра.</a></span></li><li><span><a href=\"#Время-продажи-квартиры\" data-toc-modified-id=\"Время-продажи-квартиры-4.2\"><span class=\"toc-item-num\">4.2&nbsp;&nbsp;</span>Время продажи квартиры</a></span></li><li><span><a href=\"#Уберите-редкие-и-выбивающиеся-значения.-Опишите,-какие-особенности-обнаружили\" data-toc-modified-id=\"Уберите-редкие-и-выбивающиеся-значения.-Опишите,-какие-особенности-обнаружили-4.3\"><span class=\"toc-item-num\">4.3&nbsp;&nbsp;</span>Уберите редкие и выбивающиеся значения. Опишите, какие особенности обнаружили</a></span></li><li><span><a href=\"#Оценка-факторов-влияния-на-стоимость-квартиры\" data-toc-modified-id=\"Оценка-факторов-влияния-на-стоимость-квартиры-4.4\"><span class=\"toc-item-num\">4.4&nbsp;&nbsp;</span>Оценка факторов влияния на стоимость квартиры</a></span><ul class=\"toc-item\"><li><span><a href=\"#зависимость-цены-от-общей-площади-квартиры.\" data-toc-modified-id=\"зависимость-цены-от-общей-площади-квартиры.-4.4.1\"><span class=\"toc-item-num\">4.4.1&nbsp;&nbsp;</span>зависимость цены от общей площади квартиры.</a></span></li><li><span><a href=\"#зависимость-цены-от-числа-комнат\" data-toc-modified-id=\"зависимость-цены-от-числа-комнат-4.4.2\"><span class=\"toc-item-num\">4.4.2&nbsp;&nbsp;</span>зависимость цены от числа комнат</a></span></li><li><span><a href=\"#зависимость-цены-от-удаленности-от-центра\" data-toc-modified-id=\"зависимость-цены-от-удаленности-от-центра-4.4.3\"><span class=\"toc-item-num\">4.4.3&nbsp;&nbsp;</span>зависимость цены от удаленности от центра</a></span></li><li><span><a href=\"#зависимость-цены-от-этажа-и-даты-размещения:\" data-toc-modified-id=\"зависимость-цены-от-этажа-и-даты-размещения:-4.4.4\"><span class=\"toc-item-num\">4.4.4&nbsp;&nbsp;</span>зависимость цены от этажа и даты размещения:</a></span></li></ul></li><li><span><a href=\"#10-населённых-пунктов-с-наибольшим-числом-объявлений\" data-toc-modified-id=\"10-населённых-пунктов-с-наибольшим-числом-объявлений-4.5\"><span class=\"toc-item-num\">4.5&nbsp;&nbsp;</span>10 населённых пунктов с наибольшим числом объявлений</a></span></li><li><span><a href=\"#Удаленность-квартир-от-центра-Спб\" data-toc-modified-id=\"Удаленность-квартир-от-центра-Спб-4.6\"><span class=\"toc-item-num\">4.6&nbsp;&nbsp;</span>Удаленность квартир от центра Спб</a></span></li><li><span><a href=\"#Анализ-квартир-в-центре-Спб\" data-toc-modified-id=\"Анализ-квартир-в-центре-Спб-4.7\"><span class=\"toc-item-num\">4.7&nbsp;&nbsp;</span>Анализ квартир в центре Спб</a></span><ul class=\"toc-item\"><li><span><a href=\"#Изучаем-следующие-параметры:-площадь,-цена,-число-комнат,-высота-потолков.\" data-toc-modified-id=\"Изучаем-следующие-параметры:-площадь,-цена,-число-комнат,-высота-потолков.-4.7.1\"><span class=\"toc-item-num\">4.7.1&nbsp;&nbsp;</span>Изучаем следующие параметры: площадь, цена, число комнат, высота потолков.</a></span></li><li><span><a href=\"#Оценка-факторов-влияния-на-стоимость-квартиры-в-центре-Спб\" data-toc-modified-id=\"Оценка-факторов-влияния-на-стоимость-квартиры-в-центре-Спб-4.7.2\"><span class=\"toc-item-num\">4.7.2&nbsp;&nbsp;</span>Оценка факторов влияния на стоимость квартиры в центре Спб</a></span></li></ul></li></ul></li><li><span><a href=\"#Общий-вывод\" data-toc-modified-id=\"Общий-вывод-5\"><span class=\"toc-item-num\">5&nbsp;&nbsp;</span>Общий вывод</a></span></li><li><span><a href=\"#Чек-лист-готовности-проекта\" data-toc-modified-id=\"Чек-лист-готовности-проекта-6\"><span class=\"toc-item-num\">6&nbsp;&nbsp;</span>Чек-лист готовности проекта</a></span></li></ul></div>"
   ]
  },
  {
   "cell_type": "markdown",
   "metadata": {},
   "source": [
    "# Исследование объявлений о продаже квартир\n",
    "\n",
    "В вашем распоряжении данные сервиса Яндекc Недвижимость — архив объявлений о продаже квартир в Санкт-Петербурге и соседних населённых пунктах за несколько лет. Нужно научиться определять рыночную стоимость объектов недвижимости. Ваша задача — установить параметры. Это позволит построить автоматизированную систему: она отследит аномалии и мошенническую деятельность. \n",
    "\n",
    "По каждой квартире на продажу доступны два вида данных. Первые вписаны пользователем, вторые получены автоматически на основе картографических данных. Например, расстояние до центра, аэропорта, ближайшего парка и водоёма. "
   ]
  },
  {
   "cell_type": "markdown",
   "metadata": {},
   "source": [
    "## Изучение данных из файла"
   ]
  },
  {
   "cell_type": "markdown",
   "metadata": {},
   "source": [
    "Импортирую все используемые библиотеки в проекте, читаю датасет и вывожу первые 5 строк таблицы df"
   ]
  },
  {
   "cell_type": "code",
   "execution_count": 1645,
   "metadata": {},
   "outputs": [],
   "source": [
    "import pandas as pd\n",
    "import seaborn as sns\n",
    "import numpy as np\n",
    "import matplotlib.pyplot as plt"
   ]
  },
  {
   "cell_type": "code",
   "execution_count": 1646,
   "metadata": {},
   "outputs": [],
   "source": [
    "df = pd.read_csv('/datasets/real_estate_data.csv', sep='\\t')\n"
   ]
  },
  {
   "cell_type": "code",
   "execution_count": 1647,
   "metadata": {
    "scrolled": true
   },
   "outputs": [
    {
     "data": {
      "text/html": [
       "<div>\n",
       "<style scoped>\n",
       "    .dataframe tbody tr th:only-of-type {\n",
       "        vertical-align: middle;\n",
       "    }\n",
       "\n",
       "    .dataframe tbody tr th {\n",
       "        vertical-align: top;\n",
       "    }\n",
       "\n",
       "    .dataframe thead th {\n",
       "        text-align: right;\n",
       "    }\n",
       "</style>\n",
       "<table border=\"1\" class=\"dataframe\">\n",
       "  <thead>\n",
       "    <tr style=\"text-align: right;\">\n",
       "      <th></th>\n",
       "      <th>total_images</th>\n",
       "      <th>last_price</th>\n",
       "      <th>total_area</th>\n",
       "      <th>first_day_exposition</th>\n",
       "      <th>rooms</th>\n",
       "      <th>ceiling_height</th>\n",
       "      <th>floors_total</th>\n",
       "      <th>living_area</th>\n",
       "      <th>floor</th>\n",
       "      <th>is_apartment</th>\n",
       "      <th>studio</th>\n",
       "      <th>open_plan</th>\n",
       "      <th>kitchen_area</th>\n",
       "      <th>balcony</th>\n",
       "      <th>locality_name</th>\n",
       "      <th>airports_nearest</th>\n",
       "      <th>cityCenters_nearest</th>\n",
       "      <th>parks_around3000</th>\n",
       "      <th>parks_nearest</th>\n",
       "      <th>ponds_around3000</th>\n",
       "      <th>ponds_nearest</th>\n",
       "      <th>days_exposition</th>\n",
       "    </tr>\n",
       "  </thead>\n",
       "  <tbody>\n",
       "    <tr>\n",
       "      <th>0</th>\n",
       "      <td>20</td>\n",
       "      <td>13,000,000.00</td>\n",
       "      <td>108.00</td>\n",
       "      <td>2019-03-07T00:00:00</td>\n",
       "      <td>3</td>\n",
       "      <td>2.70</td>\n",
       "      <td>16.00</td>\n",
       "      <td>51.00</td>\n",
       "      <td>8</td>\n",
       "      <td>NaN</td>\n",
       "      <td>False</td>\n",
       "      <td>False</td>\n",
       "      <td>25.00</td>\n",
       "      <td>NaN</td>\n",
       "      <td>Санкт-Петербург</td>\n",
       "      <td>18,863.00</td>\n",
       "      <td>16,028.00</td>\n",
       "      <td>1.00</td>\n",
       "      <td>482.00</td>\n",
       "      <td>2.00</td>\n",
       "      <td>755.00</td>\n",
       "      <td>NaN</td>\n",
       "    </tr>\n",
       "    <tr>\n",
       "      <th>1</th>\n",
       "      <td>7</td>\n",
       "      <td>3,350,000.00</td>\n",
       "      <td>40.40</td>\n",
       "      <td>2018-12-04T00:00:00</td>\n",
       "      <td>1</td>\n",
       "      <td>NaN</td>\n",
       "      <td>11.00</td>\n",
       "      <td>18.60</td>\n",
       "      <td>1</td>\n",
       "      <td>NaN</td>\n",
       "      <td>False</td>\n",
       "      <td>False</td>\n",
       "      <td>11.00</td>\n",
       "      <td>2.00</td>\n",
       "      <td>посёлок Шушары</td>\n",
       "      <td>12,817.00</td>\n",
       "      <td>18,603.00</td>\n",
       "      <td>0.00</td>\n",
       "      <td>NaN</td>\n",
       "      <td>0.00</td>\n",
       "      <td>NaN</td>\n",
       "      <td>81.00</td>\n",
       "    </tr>\n",
       "    <tr>\n",
       "      <th>2</th>\n",
       "      <td>10</td>\n",
       "      <td>5,196,000.00</td>\n",
       "      <td>56.00</td>\n",
       "      <td>2015-08-20T00:00:00</td>\n",
       "      <td>2</td>\n",
       "      <td>NaN</td>\n",
       "      <td>5.00</td>\n",
       "      <td>34.30</td>\n",
       "      <td>4</td>\n",
       "      <td>NaN</td>\n",
       "      <td>False</td>\n",
       "      <td>False</td>\n",
       "      <td>8.30</td>\n",
       "      <td>0.00</td>\n",
       "      <td>Санкт-Петербург</td>\n",
       "      <td>21,741.00</td>\n",
       "      <td>13,933.00</td>\n",
       "      <td>1.00</td>\n",
       "      <td>90.00</td>\n",
       "      <td>2.00</td>\n",
       "      <td>574.00</td>\n",
       "      <td>558.00</td>\n",
       "    </tr>\n",
       "    <tr>\n",
       "      <th>3</th>\n",
       "      <td>0</td>\n",
       "      <td>64,900,000.00</td>\n",
       "      <td>159.00</td>\n",
       "      <td>2015-07-24T00:00:00</td>\n",
       "      <td>3</td>\n",
       "      <td>NaN</td>\n",
       "      <td>14.00</td>\n",
       "      <td>NaN</td>\n",
       "      <td>9</td>\n",
       "      <td>NaN</td>\n",
       "      <td>False</td>\n",
       "      <td>False</td>\n",
       "      <td>NaN</td>\n",
       "      <td>0.00</td>\n",
       "      <td>Санкт-Петербург</td>\n",
       "      <td>28,098.00</td>\n",
       "      <td>6,800.00</td>\n",
       "      <td>2.00</td>\n",
       "      <td>84.00</td>\n",
       "      <td>3.00</td>\n",
       "      <td>234.00</td>\n",
       "      <td>424.00</td>\n",
       "    </tr>\n",
       "    <tr>\n",
       "      <th>4</th>\n",
       "      <td>2</td>\n",
       "      <td>10,000,000.00</td>\n",
       "      <td>100.00</td>\n",
       "      <td>2018-06-19T00:00:00</td>\n",
       "      <td>2</td>\n",
       "      <td>3.03</td>\n",
       "      <td>14.00</td>\n",
       "      <td>32.00</td>\n",
       "      <td>13</td>\n",
       "      <td>NaN</td>\n",
       "      <td>False</td>\n",
       "      <td>False</td>\n",
       "      <td>41.00</td>\n",
       "      <td>NaN</td>\n",
       "      <td>Санкт-Петербург</td>\n",
       "      <td>31,856.00</td>\n",
       "      <td>8,098.00</td>\n",
       "      <td>2.00</td>\n",
       "      <td>112.00</td>\n",
       "      <td>1.00</td>\n",
       "      <td>48.00</td>\n",
       "      <td>121.00</td>\n",
       "    </tr>\n",
       "  </tbody>\n",
       "</table>\n",
       "</div>"
      ],
      "text/plain": [
       "   total_images    last_price  total_area first_day_exposition  rooms  \\\n",
       "0            20 13,000,000.00      108.00  2019-03-07T00:00:00      3   \n",
       "1             7  3,350,000.00       40.40  2018-12-04T00:00:00      1   \n",
       "2            10  5,196,000.00       56.00  2015-08-20T00:00:00      2   \n",
       "3             0 64,900,000.00      159.00  2015-07-24T00:00:00      3   \n",
       "4             2 10,000,000.00      100.00  2018-06-19T00:00:00      2   \n",
       "\n",
       "   ceiling_height  floors_total  living_area  floor is_apartment  studio  \\\n",
       "0            2.70         16.00        51.00      8          NaN   False   \n",
       "1             NaN         11.00        18.60      1          NaN   False   \n",
       "2             NaN          5.00        34.30      4          NaN   False   \n",
       "3             NaN         14.00          NaN      9          NaN   False   \n",
       "4            3.03         14.00        32.00     13          NaN   False   \n",
       "\n",
       "   open_plan  kitchen_area  balcony    locality_name  airports_nearest  \\\n",
       "0      False         25.00      NaN  Санкт-Петербург         18,863.00   \n",
       "1      False         11.00     2.00   посёлок Шушары         12,817.00   \n",
       "2      False          8.30     0.00  Санкт-Петербург         21,741.00   \n",
       "3      False           NaN     0.00  Санкт-Петербург         28,098.00   \n",
       "4      False         41.00      NaN  Санкт-Петербург         31,856.00   \n",
       "\n",
       "   cityCenters_nearest  parks_around3000  parks_nearest  ponds_around3000  \\\n",
       "0            16,028.00              1.00         482.00              2.00   \n",
       "1            18,603.00              0.00            NaN              0.00   \n",
       "2            13,933.00              1.00          90.00              2.00   \n",
       "3             6,800.00              2.00          84.00              3.00   \n",
       "4             8,098.00              2.00         112.00              1.00   \n",
       "\n",
       "   ponds_nearest  days_exposition  \n",
       "0         755.00              NaN  \n",
       "1            NaN            81.00  \n",
       "2         574.00           558.00  \n",
       "3         234.00           424.00  \n",
       "4          48.00           121.00  "
      ]
     },
     "execution_count": 1647,
     "metadata": {},
     "output_type": "execute_result"
    }
   ],
   "source": [
    "df.head()"
   ]
  },
  {
   "cell_type": "code",
   "execution_count": 1648,
   "metadata": {},
   "outputs": [],
   "source": [
    "pd.set_option('display.float_format', '{:,.2f}'.format)"
   ]
  },
  {
   "cell_type": "code",
   "execution_count": 1649,
   "metadata": {},
   "outputs": [],
   "source": [
    "pd.set_option('display.max_columns', None)"
   ]
  },
  {
   "cell_type": "markdown",
   "metadata": {},
   "source": [
    "Получаю общую информацию о таблице"
   ]
  },
  {
   "cell_type": "code",
   "execution_count": 1650,
   "metadata": {},
   "outputs": [
    {
     "name": "stdout",
     "output_type": "stream",
     "text": [
      "<class 'pandas.core.frame.DataFrame'>\n",
      "RangeIndex: 23699 entries, 0 to 23698\n",
      "Data columns (total 22 columns):\n",
      " #   Column                Non-Null Count  Dtype  \n",
      "---  ------                --------------  -----  \n",
      " 0   total_images          23699 non-null  int64  \n",
      " 1   last_price            23699 non-null  float64\n",
      " 2   total_area            23699 non-null  float64\n",
      " 3   first_day_exposition  23699 non-null  object \n",
      " 4   rooms                 23699 non-null  int64  \n",
      " 5   ceiling_height        14504 non-null  float64\n",
      " 6   floors_total          23613 non-null  float64\n",
      " 7   living_area           21796 non-null  float64\n",
      " 8   floor                 23699 non-null  int64  \n",
      " 9   is_apartment          2775 non-null   object \n",
      " 10  studio                23699 non-null  bool   \n",
      " 11  open_plan             23699 non-null  bool   \n",
      " 12  kitchen_area          21421 non-null  float64\n",
      " 13  balcony               12180 non-null  float64\n",
      " 14  locality_name         23650 non-null  object \n",
      " 15  airports_nearest      18157 non-null  float64\n",
      " 16  cityCenters_nearest   18180 non-null  float64\n",
      " 17  parks_around3000      18181 non-null  float64\n",
      " 18  parks_nearest         8079 non-null   float64\n",
      " 19  ponds_around3000      18181 non-null  float64\n",
      " 20  ponds_nearest         9110 non-null   float64\n",
      " 21  days_exposition       20518 non-null  float64\n",
      "dtypes: bool(2), float64(14), int64(3), object(3)\n",
      "memory usage: 3.7+ MB\n"
     ]
    }
   ],
   "source": [
    "df.info()"
   ]
  },
  {
   "cell_type": "markdown",
   "metadata": {},
   "source": [
    "Названия столбцов:"
   ]
  },
  {
   "cell_type": "code",
   "execution_count": 1651,
   "metadata": {},
   "outputs": [
    {
     "data": {
      "text/plain": [
       "Index(['total_images', 'last_price', 'total_area', 'first_day_exposition',\n",
       "       'rooms', 'ceiling_height', 'floors_total', 'living_area', 'floor',\n",
       "       'is_apartment', 'studio', 'open_plan', 'kitchen_area', 'balcony',\n",
       "       'locality_name', 'airports_nearest', 'cityCenters_nearest',\n",
       "       'parks_around3000', 'parks_nearest', 'ponds_around3000',\n",
       "       'ponds_nearest', 'days_exposition'],\n",
       "      dtype='object')"
      ]
     },
     "execution_count": 1651,
     "metadata": {},
     "output_type": "execute_result"
    }
   ],
   "source": [
    "df.columns"
   ]
  },
  {
   "cell_type": "markdown",
   "metadata": {},
   "source": [
    "В таблице 22 столбца с разными типами данных.\n",
    "\n",
    "Согласно документации к данным:\n",
    "\n",
    "\n",
    "- airports_nearest — расстояние до ближайшего аэропорта в метрах (м)\n",
    "- balcony — число балконов\n",
    "- ceiling_height — высота потолков (м)\n",
    "- cityCenters_nearest — расстояние до центра города (м)\n",
    "- days_exposition — сколько дней было размещено объявление (от публикации до снятия)\n",
    "- first_day_exposition — дата публикации\n",
    "- floor — этаж\n",
    "- floors_total — всего этажей в доме\n",
    "- is_apartment — апартаменты (булев тип)\n",
    "- kitchen_area — площадь кухни в квадратных метрах (м²)\n",
    "- last_price — цена на момент снятия с публикации\n",
    "- living_area — жилая площадь в квадратных метрах (м²)\n",
    "- locality_name — название населённого пункта\n",
    "- open_plan — свободная планировка (булев тип)\n",
    "- parks_around3000 — число парков в радиусе 3 км\n",
    "- parks_nearest — расстояние до ближайшего парка (м)\n",
    "- ponds_around3000 — число водоёмов в радиусе 3 км\n",
    "- ponds_nearest — расстояние до ближайшего водоёма (м)\n",
    "- rooms — число комнат\n",
    "- studio — квартира-студия (булев тип)\n",
    "- total_area — площадь квартиры в квадратных метрах (м²)\n",
    "- total_images — число фотографий квартиры в объявлении\n",
    "\n",
    "Пояснение: апартаменты — это нежилые помещения, которые не относятся к жилому фонду, но имеют необходимые условия для проживания."
   ]
  },
  {
   "cell_type": "markdown",
   "metadata": {},
   "source": [
    "Анализ значений:"
   ]
  },
  {
   "cell_type": "code",
   "execution_count": 1652,
   "metadata": {},
   "outputs": [
    {
     "data": {
      "text/html": [
       "<div>\n",
       "<style scoped>\n",
       "    .dataframe tbody tr th:only-of-type {\n",
       "        vertical-align: middle;\n",
       "    }\n",
       "\n",
       "    .dataframe tbody tr th {\n",
       "        vertical-align: top;\n",
       "    }\n",
       "\n",
       "    .dataframe thead th {\n",
       "        text-align: right;\n",
       "    }\n",
       "</style>\n",
       "<table border=\"1\" class=\"dataframe\">\n",
       "  <thead>\n",
       "    <tr style=\"text-align: right;\">\n",
       "      <th></th>\n",
       "      <th>total_images</th>\n",
       "      <th>last_price</th>\n",
       "      <th>total_area</th>\n",
       "      <th>rooms</th>\n",
       "      <th>ceiling_height</th>\n",
       "      <th>floors_total</th>\n",
       "      <th>living_area</th>\n",
       "      <th>floor</th>\n",
       "      <th>kitchen_area</th>\n",
       "      <th>balcony</th>\n",
       "      <th>airports_nearest</th>\n",
       "      <th>cityCenters_nearest</th>\n",
       "      <th>parks_around3000</th>\n",
       "      <th>parks_nearest</th>\n",
       "      <th>ponds_around3000</th>\n",
       "      <th>ponds_nearest</th>\n",
       "      <th>days_exposition</th>\n",
       "    </tr>\n",
       "  </thead>\n",
       "  <tbody>\n",
       "    <tr>\n",
       "      <th>count</th>\n",
       "      <td>23,699.00</td>\n",
       "      <td>23,699.00</td>\n",
       "      <td>23,699.00</td>\n",
       "      <td>23,699.00</td>\n",
       "      <td>14,504.00</td>\n",
       "      <td>23,613.00</td>\n",
       "      <td>21,796.00</td>\n",
       "      <td>23,699.00</td>\n",
       "      <td>21,421.00</td>\n",
       "      <td>12,180.00</td>\n",
       "      <td>18,157.00</td>\n",
       "      <td>18,180.00</td>\n",
       "      <td>18,181.00</td>\n",
       "      <td>8,079.00</td>\n",
       "      <td>18,181.00</td>\n",
       "      <td>9,110.00</td>\n",
       "      <td>20,518.00</td>\n",
       "    </tr>\n",
       "    <tr>\n",
       "      <th>mean</th>\n",
       "      <td>9.86</td>\n",
       "      <td>6,541,548.77</td>\n",
       "      <td>60.35</td>\n",
       "      <td>2.07</td>\n",
       "      <td>2.77</td>\n",
       "      <td>10.67</td>\n",
       "      <td>34.46</td>\n",
       "      <td>5.89</td>\n",
       "      <td>10.57</td>\n",
       "      <td>1.15</td>\n",
       "      <td>28,793.67</td>\n",
       "      <td>14,191.28</td>\n",
       "      <td>0.61</td>\n",
       "      <td>490.80</td>\n",
       "      <td>0.77</td>\n",
       "      <td>517.98</td>\n",
       "      <td>180.89</td>\n",
       "    </tr>\n",
       "    <tr>\n",
       "      <th>std</th>\n",
       "      <td>5.68</td>\n",
       "      <td>10,887,013.27</td>\n",
       "      <td>35.65</td>\n",
       "      <td>1.08</td>\n",
       "      <td>1.26</td>\n",
       "      <td>6.60</td>\n",
       "      <td>22.03</td>\n",
       "      <td>4.89</td>\n",
       "      <td>5.91</td>\n",
       "      <td>1.07</td>\n",
       "      <td>12,630.88</td>\n",
       "      <td>8,608.39</td>\n",
       "      <td>0.80</td>\n",
       "      <td>342.32</td>\n",
       "      <td>0.94</td>\n",
       "      <td>277.72</td>\n",
       "      <td>219.73</td>\n",
       "    </tr>\n",
       "    <tr>\n",
       "      <th>min</th>\n",
       "      <td>0.00</td>\n",
       "      <td>12,190.00</td>\n",
       "      <td>12.00</td>\n",
       "      <td>0.00</td>\n",
       "      <td>1.00</td>\n",
       "      <td>1.00</td>\n",
       "      <td>2.00</td>\n",
       "      <td>1.00</td>\n",
       "      <td>1.30</td>\n",
       "      <td>0.00</td>\n",
       "      <td>0.00</td>\n",
       "      <td>181.00</td>\n",
       "      <td>0.00</td>\n",
       "      <td>1.00</td>\n",
       "      <td>0.00</td>\n",
       "      <td>13.00</td>\n",
       "      <td>1.00</td>\n",
       "    </tr>\n",
       "    <tr>\n",
       "      <th>25%</th>\n",
       "      <td>6.00</td>\n",
       "      <td>3,400,000.00</td>\n",
       "      <td>40.00</td>\n",
       "      <td>1.00</td>\n",
       "      <td>2.52</td>\n",
       "      <td>5.00</td>\n",
       "      <td>18.60</td>\n",
       "      <td>2.00</td>\n",
       "      <td>7.00</td>\n",
       "      <td>0.00</td>\n",
       "      <td>18,585.00</td>\n",
       "      <td>9,238.00</td>\n",
       "      <td>0.00</td>\n",
       "      <td>288.00</td>\n",
       "      <td>0.00</td>\n",
       "      <td>294.00</td>\n",
       "      <td>45.00</td>\n",
       "    </tr>\n",
       "    <tr>\n",
       "      <th>50%</th>\n",
       "      <td>9.00</td>\n",
       "      <td>4,650,000.00</td>\n",
       "      <td>52.00</td>\n",
       "      <td>2.00</td>\n",
       "      <td>2.65</td>\n",
       "      <td>9.00</td>\n",
       "      <td>30.00</td>\n",
       "      <td>4.00</td>\n",
       "      <td>9.10</td>\n",
       "      <td>1.00</td>\n",
       "      <td>26,726.00</td>\n",
       "      <td>13,098.50</td>\n",
       "      <td>0.00</td>\n",
       "      <td>455.00</td>\n",
       "      <td>1.00</td>\n",
       "      <td>502.00</td>\n",
       "      <td>95.00</td>\n",
       "    </tr>\n",
       "    <tr>\n",
       "      <th>75%</th>\n",
       "      <td>14.00</td>\n",
       "      <td>6,800,000.00</td>\n",
       "      <td>69.90</td>\n",
       "      <td>3.00</td>\n",
       "      <td>2.80</td>\n",
       "      <td>16.00</td>\n",
       "      <td>42.30</td>\n",
       "      <td>8.00</td>\n",
       "      <td>12.00</td>\n",
       "      <td>2.00</td>\n",
       "      <td>37,273.00</td>\n",
       "      <td>16,293.00</td>\n",
       "      <td>1.00</td>\n",
       "      <td>612.00</td>\n",
       "      <td>1.00</td>\n",
       "      <td>729.00</td>\n",
       "      <td>232.00</td>\n",
       "    </tr>\n",
       "    <tr>\n",
       "      <th>max</th>\n",
       "      <td>50.00</td>\n",
       "      <td>763,000,000.00</td>\n",
       "      <td>900.00</td>\n",
       "      <td>19.00</td>\n",
       "      <td>100.00</td>\n",
       "      <td>60.00</td>\n",
       "      <td>409.70</td>\n",
       "      <td>33.00</td>\n",
       "      <td>112.00</td>\n",
       "      <td>5.00</td>\n",
       "      <td>84,869.00</td>\n",
       "      <td>65,968.00</td>\n",
       "      <td>3.00</td>\n",
       "      <td>3,190.00</td>\n",
       "      <td>3.00</td>\n",
       "      <td>1,344.00</td>\n",
       "      <td>1,580.00</td>\n",
       "    </tr>\n",
       "  </tbody>\n",
       "</table>\n",
       "</div>"
      ],
      "text/plain": [
       "       total_images     last_price  total_area     rooms  ceiling_height  \\\n",
       "count     23,699.00      23,699.00   23,699.00 23,699.00       14,504.00   \n",
       "mean           9.86   6,541,548.77       60.35      2.07            2.77   \n",
       "std            5.68  10,887,013.27       35.65      1.08            1.26   \n",
       "min            0.00      12,190.00       12.00      0.00            1.00   \n",
       "25%            6.00   3,400,000.00       40.00      1.00            2.52   \n",
       "50%            9.00   4,650,000.00       52.00      2.00            2.65   \n",
       "75%           14.00   6,800,000.00       69.90      3.00            2.80   \n",
       "max           50.00 763,000,000.00      900.00     19.00          100.00   \n",
       "\n",
       "       floors_total  living_area     floor  kitchen_area   balcony  \\\n",
       "count     23,613.00    21,796.00 23,699.00     21,421.00 12,180.00   \n",
       "mean          10.67        34.46      5.89         10.57      1.15   \n",
       "std            6.60        22.03      4.89          5.91      1.07   \n",
       "min            1.00         2.00      1.00          1.30      0.00   \n",
       "25%            5.00        18.60      2.00          7.00      0.00   \n",
       "50%            9.00        30.00      4.00          9.10      1.00   \n",
       "75%           16.00        42.30      8.00         12.00      2.00   \n",
       "max           60.00       409.70     33.00        112.00      5.00   \n",
       "\n",
       "       airports_nearest  cityCenters_nearest  parks_around3000  parks_nearest  \\\n",
       "count         18,157.00            18,180.00         18,181.00       8,079.00   \n",
       "mean          28,793.67            14,191.28              0.61         490.80   \n",
       "std           12,630.88             8,608.39              0.80         342.32   \n",
       "min                0.00               181.00              0.00           1.00   \n",
       "25%           18,585.00             9,238.00              0.00         288.00   \n",
       "50%           26,726.00            13,098.50              0.00         455.00   \n",
       "75%           37,273.00            16,293.00              1.00         612.00   \n",
       "max           84,869.00            65,968.00              3.00       3,190.00   \n",
       "\n",
       "       ponds_around3000  ponds_nearest  days_exposition  \n",
       "count         18,181.00       9,110.00        20,518.00  \n",
       "mean               0.77         517.98           180.89  \n",
       "std                0.94         277.72           219.73  \n",
       "min                0.00          13.00             1.00  \n",
       "25%                0.00         294.00            45.00  \n",
       "50%                1.00         502.00            95.00  \n",
       "75%                1.00         729.00           232.00  \n",
       "max                3.00       1,344.00         1,580.00  "
      ]
     },
     "execution_count": 1652,
     "metadata": {},
     "output_type": "execute_result"
    }
   ],
   "source": [
    "df.describe()"
   ]
  },
  {
   "cell_type": "markdown",
   "metadata": {},
   "source": [
    "### Вывод"
   ]
  },
  {
   "cell_type": "markdown",
   "metadata": {},
   "source": [
    "Файл содержит данные по 23699 объектам недвижимости, каждый из которых описывается 22 параметрами (17 количественных, 4 категориальных и 1 временной). Навзания столбцов и их стиль не нарушены. Количество данных в столбцах отличаются, значит у есть пропущенные значения, которые необходимо обработать. Типы данных следует проверить и заменить в случае необходимости. Также замечены ряд аномальных значения которые следует обаботать.\n",
    "\n",
    "\n",
    "Чтобы двигаться дальше, нужно выполнить предобработку данных."
   ]
  },
  {
   "cell_type": "markdown",
   "metadata": {},
   "source": [
    "## Предобработка данных"
   ]
  },
  {
   "cell_type": "markdown",
   "metadata": {},
   "source": [
    "### Пропуски"
   ]
  },
  {
   "cell_type": "markdown",
   "metadata": {},
   "source": [
    "Определяем и изучаем пропущенные значения. Найдем столбцы с попусками, посчитаем количество пропусков и их долю."
   ]
  },
  {
   "cell_type": "markdown",
   "metadata": {},
   "source": [
    "Количество пропусков по столбцам:"
   ]
  },
  {
   "cell_type": "code",
   "execution_count": 1653,
   "metadata": {},
   "outputs": [
    {
     "data": {
      "text/plain": [
       "total_images                0\n",
       "last_price                  0\n",
       "total_area                  0\n",
       "first_day_exposition        0\n",
       "rooms                       0\n",
       "ceiling_height           9195\n",
       "floors_total               86\n",
       "living_area              1903\n",
       "floor                       0\n",
       "is_apartment            20924\n",
       "studio                      0\n",
       "open_plan                   0\n",
       "kitchen_area             2278\n",
       "balcony                 11519\n",
       "locality_name              49\n",
       "airports_nearest         5542\n",
       "cityCenters_nearest      5519\n",
       "parks_around3000         5518\n",
       "parks_nearest           15620\n",
       "ponds_around3000         5518\n",
       "ponds_nearest           14589\n",
       "days_exposition          3181\n",
       "dtype: int64"
      ]
     },
     "execution_count": 1653,
     "metadata": {},
     "output_type": "execute_result"
    }
   ],
   "source": [
    "df.isna().sum()"
   ]
  },
  {
   "cell_type": "markdown",
   "metadata": {},
   "source": [
    "Доля пропусков по столбцам:"
   ]
  },
  {
   "cell_type": "code",
   "execution_count": 1654,
   "metadata": {},
   "outputs": [
    {
     "data": {
      "text/plain": [
       "total_images           0.00\n",
       "last_price             0.00\n",
       "total_area             0.00\n",
       "first_day_exposition   0.00\n",
       "rooms                  0.00\n",
       "ceiling_height         0.39\n",
       "floors_total           0.00\n",
       "living_area            0.08\n",
       "floor                  0.00\n",
       "is_apartment           0.88\n",
       "studio                 0.00\n",
       "open_plan              0.00\n",
       "kitchen_area           0.10\n",
       "balcony                0.49\n",
       "locality_name          0.00\n",
       "airports_nearest       0.23\n",
       "cityCenters_nearest    0.23\n",
       "parks_around3000       0.23\n",
       "parks_nearest          0.66\n",
       "ponds_around3000       0.23\n",
       "ponds_nearest          0.62\n",
       "days_exposition        0.13\n",
       "dtype: float64"
      ]
     },
     "execution_count": 1654,
     "metadata": {},
     "output_type": "execute_result"
    }
   ],
   "source": [
    "df.isna().mean()"
   ]
  },
  {
   "cell_type": "markdown",
   "metadata": {},
   "source": [
    "#### Балконы - balcony\n",
    "\n",
    "Заполняем пропуски по балконам. Если балкон не указан значит его скорей всего нет, меняем на 0."
   ]
  },
  {
   "cell_type": "code",
   "execution_count": 1655,
   "metadata": {},
   "outputs": [
    {
     "data": {
      "text/plain": [
       "0    NaN\n",
       "1   2.00\n",
       "2   0.00\n",
       "3   0.00\n",
       "4    NaN\n",
       "Name: balcony, dtype: float64"
      ]
     },
     "execution_count": 1655,
     "metadata": {},
     "output_type": "execute_result"
    }
   ],
   "source": [
    "df['balcony'].head()"
   ]
  },
  {
   "cell_type": "code",
   "execution_count": 1656,
   "metadata": {},
   "outputs": [],
   "source": [
    "df['balcony'] = df['balcony'].fillna(0)"
   ]
  },
  {
   "cell_type": "code",
   "execution_count": 1657,
   "metadata": {},
   "outputs": [
    {
     "data": {
      "text/plain": [
       "0   0.00\n",
       "1   2.00\n",
       "2   0.00\n",
       "3   0.00\n",
       "4   0.00\n",
       "Name: balcony, dtype: float64"
      ]
     },
     "execution_count": 1657,
     "metadata": {},
     "output_type": "execute_result"
    }
   ],
   "source": [
    "df['balcony'].head()"
   ]
  },
  {
   "cell_type": "code",
   "execution_count": 1658,
   "metadata": {},
   "outputs": [
    {
     "data": {
      "text/plain": [
       "0"
      ]
     },
     "execution_count": 1658,
     "metadata": {},
     "output_type": "execute_result"
    }
   ],
   "source": [
    "df['balcony'].isna().sum()"
   ]
  },
  {
   "cell_type": "markdown",
   "metadata": {},
   "source": [
    "#### Название населенного пункта - locality_name\n",
    "\n",
    "Всего 49 пропусков.  "
   ]
  },
  {
   "cell_type": "code",
   "execution_count": 1659,
   "metadata": {},
   "outputs": [
    {
     "data": {
      "text/plain": [
       "Санкт-Петербург            15721\n",
       "посёлок Мурино               522\n",
       "посёлок Шушары               440\n",
       "Всеволожск                   398\n",
       "Пушкин                       369\n",
       "Колпино                      338\n",
       "посёлок Парголово            327\n",
       "Гатчина                      307\n",
       "деревня Кудрово              299\n",
       "Выборг                       237\n",
       "Петергоф                     201\n",
       "Сестрорецк                   183\n",
       "Красное Село                 178\n",
       "Кудрово                      173\n",
       "деревня Новое Девяткино      144\n",
       "Сертолово                    142\n",
       "Ломоносов                    133\n",
       "Кириши                       125\n",
       "Сланцы                       112\n",
       "Волхов                       111\n",
       "Name: locality_name, dtype: int64"
      ]
     },
     "execution_count": 1659,
     "metadata": {},
     "output_type": "execute_result"
    }
   ],
   "source": [
    "df['locality_name'].value_counts().head(20)"
   ]
  },
  {
   "cell_type": "markdown",
   "metadata": {},
   "source": [
    "Доля незначительна можно заменить на uknown"
   ]
  },
  {
   "cell_type": "code",
   "execution_count": 1660,
   "metadata": {},
   "outputs": [],
   "source": [
    "df['locality_name'].fillna('unknown', inplace=True)"
   ]
  },
  {
   "cell_type": "code",
   "execution_count": 1661,
   "metadata": {},
   "outputs": [
    {
     "data": {
      "text/plain": [
       "0"
      ]
     },
     "execution_count": 1661,
     "metadata": {},
     "output_type": "execute_result"
    }
   ],
   "source": [
    "df['locality_name'].isna().sum()"
   ]
  },
  {
   "cell_type": "markdown",
   "metadata": {},
   "source": [
    "#### Дней размещения объявления - days_exposition         "
   ]
  },
  {
   "cell_type": "code",
   "execution_count": 1662,
   "metadata": {},
   "outputs": [
    {
     "data": {
      "text/plain": [
       "3181"
      ]
     },
     "execution_count": 1662,
     "metadata": {},
     "output_type": "execute_result"
    }
   ],
   "source": [
    "df['days_exposition'].isna().sum()"
   ]
  },
  {
   "cell_type": "markdown",
   "metadata": {},
   "source": [
    "Можно заменить пропуски на медиану. Но в ходе дальнейшего иследдования это может исказить данные так как доля пропусков составляет 13%. Поэтом оставим пропуски без изменений."
   ]
  },
  {
   "cell_type": "code",
   "execution_count": 1663,
   "metadata": {},
   "outputs": [],
   "source": [
    "# df.loc[df['days_exposition'].isna(), 'days_exposition'] = df['days_exposition'].describe()[5]"
   ]
  },
  {
   "cell_type": "code",
   "execution_count": 1664,
   "metadata": {},
   "outputs": [],
   "source": [
    "# df['days_exposition'].isna().sum()"
   ]
  },
  {
   "cell_type": "markdown",
   "metadata": {},
   "source": [
    "#### Аппартаменты -  is_apartment"
   ]
  },
  {
   "cell_type": "code",
   "execution_count": 1665,
   "metadata": {},
   "outputs": [
    {
     "data": {
      "text/plain": [
       "False    2725\n",
       "True       50\n",
       "Name: is_apartment, dtype: int64"
      ]
     },
     "execution_count": 1665,
     "metadata": {},
     "output_type": "execute_result"
    }
   ],
   "source": [
    "df['is_apartment'].value_counts()"
   ]
  },
  {
   "cell_type": "markdown",
   "metadata": {},
   "source": [
    "Если значение отсутсвует то вероятнее всего это не аппартаменты, заменяем на False."
   ]
  },
  {
   "cell_type": "code",
   "execution_count": 1666,
   "metadata": {},
   "outputs": [],
   "source": [
    "df['is_apartment'].fillna(False, inplace=True)"
   ]
  },
  {
   "cell_type": "code",
   "execution_count": 1667,
   "metadata": {},
   "outputs": [
    {
     "data": {
      "text/plain": [
       "0"
      ]
     },
     "execution_count": 1667,
     "metadata": {},
     "output_type": "execute_result"
    }
   ],
   "source": [
    "df['is_apartment'].isna().sum()"
   ]
  },
  {
   "cell_type": "markdown",
   "metadata": {},
   "source": [
    "#### Пруды и парки (ponds_around3000 и parks_around3000)"
   ]
  },
  {
   "cell_type": "markdown",
   "metadata": {},
   "source": [
    "Eсли не указано число парков и водоемов в радиусе 3 км , то скорее всего, их нет. Пропуски меняем на ноль"
   ]
  },
  {
   "cell_type": "code",
   "execution_count": 1668,
   "metadata": {},
   "outputs": [],
   "source": [
    "df['parks_around3000'].fillna(0, inplace=True)\n",
    "df['ponds_around3000'].fillna(0, inplace=True)"
   ]
  },
  {
   "cell_type": "markdown",
   "metadata": {},
   "source": [
    "Пропуски в столбцах parks_nearest и ponds_nearest оставим без изменений. Хотя возможно можно было бы их заменить средними/медиаными занчениями в зависимости от населенного пункта. Но, вероятнее всего, это сильно исказило бы реальные данные."
   ]
  },
  {
   "cell_type": "markdown",
   "metadata": {},
   "source": [
    "#### Всего этажей (floors_total)"
   ]
  },
  {
   "cell_type": "markdown",
   "metadata": {},
   "source": [
    "Пропущенно всего 86 значений или ~0.004%. Пропуски можно удалить"
   ]
  },
  {
   "cell_type": "code",
   "execution_count": 1669,
   "metadata": {},
   "outputs": [],
   "source": [
    "df.dropna(subset=['floors_total'], inplace=True)"
   ]
  },
  {
   "cell_type": "markdown",
   "metadata": {},
   "source": [
    "#### Жилая площадь, площадь кухни - (kitchen_area и living_area)                      "
   ]
  },
  {
   "cell_type": "code",
   "execution_count": 1670,
   "metadata": {},
   "outputs": [
    {
     "data": {
      "text/plain": [
       "count   21,382.00\n",
       "mean        10.56\n",
       "std          5.90\n",
       "min          1.30\n",
       "25%          7.00\n",
       "50%          9.10\n",
       "75%         12.00\n",
       "max        112.00\n",
       "Name: kitchen_area, dtype: float64"
      ]
     },
     "execution_count": 1670,
     "metadata": {},
     "output_type": "execute_result"
    }
   ],
   "source": [
    "df['kitchen_area'].describe()"
   ]
  },
  {
   "cell_type": "code",
   "execution_count": 1671,
   "metadata": {},
   "outputs": [
    {
     "data": {
      "text/plain": [
       "count   21,743.00\n",
       "mean        34.46\n",
       "std         22.04\n",
       "min          2.00\n",
       "25%         18.60\n",
       "50%         30.00\n",
       "75%         42.30\n",
       "max        409.70\n",
       "Name: living_area, dtype: float64"
      ]
     },
     "execution_count": 1671,
     "metadata": {},
     "output_type": "execute_result"
    }
   ],
   "source": [
    "df['living_area'].describe()"
   ]
  },
  {
   "cell_type": "markdown",
   "metadata": {},
   "source": [
    "Площадь кухни и жилую площадь можно заполнить медианной. "
   ]
  },
  {
   "cell_type": "code",
   "execution_count": 1672,
   "metadata": {},
   "outputs": [],
   "source": [
    "df['kitchen_area'].fillna(int(df['kitchen_area'].median()), inplace=True)"
   ]
  },
  {
   "cell_type": "code",
   "execution_count": 1673,
   "metadata": {},
   "outputs": [],
   "source": [
    "df['living_area'].fillna(int(df['living_area'].median()), inplace=True)"
   ]
  },
  {
   "cell_type": "markdown",
   "metadata": {},
   "source": [
    "#### Высота потолков - (ceiling_height)  "
   ]
  },
  {
   "cell_type": "code",
   "execution_count": 1674,
   "metadata": {},
   "outputs": [
    {
     "data": {
      "text/plain": [
       "count   14,495.00\n",
       "mean         2.77\n",
       "std          1.26\n",
       "min          1.00\n",
       "25%          2.52\n",
       "50%          2.65\n",
       "75%          2.80\n",
       "max        100.00\n",
       "Name: ceiling_height, dtype: float64"
      ]
     },
     "execution_count": 1674,
     "metadata": {},
     "output_type": "execute_result"
    }
   ],
   "source": [
    "df['ceiling_height'].describe()"
   ]
  },
  {
   "cell_type": "markdown",
   "metadata": {},
   "source": [
    "В глаза бросается аномально высокое значение высоты потолка - 100 метров. Хотя возможно там нет потолка или у меня слабое воображение и это какой-нибудь пентхаус в Лахта центр. Правда вряд ли бы он стоил 15 млн."
   ]
  },
  {
   "cell_type": "code",
   "execution_count": 1675,
   "metadata": {},
   "outputs": [
    {
     "data": {
      "text/html": [
       "<div>\n",
       "<style scoped>\n",
       "    .dataframe tbody tr th:only-of-type {\n",
       "        vertical-align: middle;\n",
       "    }\n",
       "\n",
       "    .dataframe tbody tr th {\n",
       "        vertical-align: top;\n",
       "    }\n",
       "\n",
       "    .dataframe thead th {\n",
       "        text-align: right;\n",
       "    }\n",
       "</style>\n",
       "<table border=\"1\" class=\"dataframe\">\n",
       "  <thead>\n",
       "    <tr style=\"text-align: right;\">\n",
       "      <th></th>\n",
       "      <th>total_images</th>\n",
       "      <th>last_price</th>\n",
       "      <th>total_area</th>\n",
       "      <th>first_day_exposition</th>\n",
       "      <th>rooms</th>\n",
       "      <th>ceiling_height</th>\n",
       "      <th>floors_total</th>\n",
       "      <th>living_area</th>\n",
       "      <th>floor</th>\n",
       "      <th>is_apartment</th>\n",
       "      <th>studio</th>\n",
       "      <th>open_plan</th>\n",
       "      <th>kitchen_area</th>\n",
       "      <th>balcony</th>\n",
       "      <th>locality_name</th>\n",
       "      <th>airports_nearest</th>\n",
       "      <th>cityCenters_nearest</th>\n",
       "      <th>parks_around3000</th>\n",
       "      <th>parks_nearest</th>\n",
       "      <th>ponds_around3000</th>\n",
       "      <th>ponds_nearest</th>\n",
       "      <th>days_exposition</th>\n",
       "    </tr>\n",
       "  </thead>\n",
       "  <tbody>\n",
       "    <tr>\n",
       "      <th>5246</th>\n",
       "      <td>0</td>\n",
       "      <td>2,500,000.00</td>\n",
       "      <td>54.00</td>\n",
       "      <td>2017-10-13T00:00:00</td>\n",
       "      <td>2</td>\n",
       "      <td>27.00</td>\n",
       "      <td>5.00</td>\n",
       "      <td>30.00</td>\n",
       "      <td>3</td>\n",
       "      <td>False</td>\n",
       "      <td>False</td>\n",
       "      <td>False</td>\n",
       "      <td>9.00</td>\n",
       "      <td>2.00</td>\n",
       "      <td>деревня Мины</td>\n",
       "      <td>NaN</td>\n",
       "      <td>NaN</td>\n",
       "      <td>0.00</td>\n",
       "      <td>NaN</td>\n",
       "      <td>0.00</td>\n",
       "      <td>NaN</td>\n",
       "      <td>540.00</td>\n",
       "    </tr>\n",
       "    <tr>\n",
       "      <th>17857</th>\n",
       "      <td>1</td>\n",
       "      <td>3,900,000.00</td>\n",
       "      <td>56.00</td>\n",
       "      <td>2017-12-22T00:00:00</td>\n",
       "      <td>3</td>\n",
       "      <td>27.00</td>\n",
       "      <td>5.00</td>\n",
       "      <td>33.00</td>\n",
       "      <td>4</td>\n",
       "      <td>False</td>\n",
       "      <td>False</td>\n",
       "      <td>False</td>\n",
       "      <td>9.00</td>\n",
       "      <td>0.00</td>\n",
       "      <td>Санкт-Петербург</td>\n",
       "      <td>41,030.00</td>\n",
       "      <td>15,543.00</td>\n",
       "      <td>0.00</td>\n",
       "      <td>NaN</td>\n",
       "      <td>0.00</td>\n",
       "      <td>NaN</td>\n",
       "      <td>73.00</td>\n",
       "    </tr>\n",
       "    <tr>\n",
       "      <th>4876</th>\n",
       "      <td>7</td>\n",
       "      <td>3,000,000.00</td>\n",
       "      <td>25.00</td>\n",
       "      <td>2017-09-27T00:00:00</td>\n",
       "      <td>0</td>\n",
       "      <td>27.00</td>\n",
       "      <td>25.00</td>\n",
       "      <td>17.00</td>\n",
       "      <td>17</td>\n",
       "      <td>False</td>\n",
       "      <td>False</td>\n",
       "      <td>True</td>\n",
       "      <td>9.00</td>\n",
       "      <td>2.00</td>\n",
       "      <td>посёлок Мурино</td>\n",
       "      <td>NaN</td>\n",
       "      <td>NaN</td>\n",
       "      <td>0.00</td>\n",
       "      <td>NaN</td>\n",
       "      <td>0.00</td>\n",
       "      <td>NaN</td>\n",
       "      <td>28.00</td>\n",
       "    </tr>\n",
       "    <tr>\n",
       "      <th>20478</th>\n",
       "      <td>11</td>\n",
       "      <td>8,000,000.00</td>\n",
       "      <td>45.00</td>\n",
       "      <td>2017-07-18T00:00:00</td>\n",
       "      <td>1</td>\n",
       "      <td>27.00</td>\n",
       "      <td>4.00</td>\n",
       "      <td>22.00</td>\n",
       "      <td>2</td>\n",
       "      <td>False</td>\n",
       "      <td>False</td>\n",
       "      <td>False</td>\n",
       "      <td>10.00</td>\n",
       "      <td>1.00</td>\n",
       "      <td>Санкт-Петербург</td>\n",
       "      <td>18,975.00</td>\n",
       "      <td>3,246.00</td>\n",
       "      <td>0.00</td>\n",
       "      <td>NaN</td>\n",
       "      <td>3.00</td>\n",
       "      <td>449.00</td>\n",
       "      <td>429.00</td>\n",
       "    </tr>\n",
       "    <tr>\n",
       "      <th>21824</th>\n",
       "      <td>20</td>\n",
       "      <td>2,450,000.00</td>\n",
       "      <td>44.00</td>\n",
       "      <td>2019-02-12T00:00:00</td>\n",
       "      <td>2</td>\n",
       "      <td>27.00</td>\n",
       "      <td>2.00</td>\n",
       "      <td>38.00</td>\n",
       "      <td>2</td>\n",
       "      <td>False</td>\n",
       "      <td>False</td>\n",
       "      <td>False</td>\n",
       "      <td>8.60</td>\n",
       "      <td>2.00</td>\n",
       "      <td>городской поселок Большая Ижора</td>\n",
       "      <td>NaN</td>\n",
       "      <td>NaN</td>\n",
       "      <td>0.00</td>\n",
       "      <td>NaN</td>\n",
       "      <td>0.00</td>\n",
       "      <td>NaN</td>\n",
       "      <td>NaN</td>\n",
       "    </tr>\n",
       "    <tr>\n",
       "      <th>22938</th>\n",
       "      <td>14</td>\n",
       "      <td>4,000,000.00</td>\n",
       "      <td>98.00</td>\n",
       "      <td>2018-03-15T00:00:00</td>\n",
       "      <td>4</td>\n",
       "      <td>27.00</td>\n",
       "      <td>2.00</td>\n",
       "      <td>73.00</td>\n",
       "      <td>2</td>\n",
       "      <td>True</td>\n",
       "      <td>False</td>\n",
       "      <td>False</td>\n",
       "      <td>9.00</td>\n",
       "      <td>1.00</td>\n",
       "      <td>деревня Нижняя</td>\n",
       "      <td>NaN</td>\n",
       "      <td>NaN</td>\n",
       "      <td>0.00</td>\n",
       "      <td>NaN</td>\n",
       "      <td>0.00</td>\n",
       "      <td>NaN</td>\n",
       "      <td>27.00</td>\n",
       "    </tr>\n",
       "    <tr>\n",
       "      <th>21377</th>\n",
       "      <td>19</td>\n",
       "      <td>4,900,000.00</td>\n",
       "      <td>42.00</td>\n",
       "      <td>2017-04-18T00:00:00</td>\n",
       "      <td>1</td>\n",
       "      <td>27.50</td>\n",
       "      <td>24.00</td>\n",
       "      <td>37.70</td>\n",
       "      <td>19</td>\n",
       "      <td>False</td>\n",
       "      <td>False</td>\n",
       "      <td>False</td>\n",
       "      <td>11.00</td>\n",
       "      <td>2.00</td>\n",
       "      <td>Санкт-Петербург</td>\n",
       "      <td>42,742.00</td>\n",
       "      <td>9,760.00</td>\n",
       "      <td>0.00</td>\n",
       "      <td>NaN</td>\n",
       "      <td>0.00</td>\n",
       "      <td>NaN</td>\n",
       "      <td>61.00</td>\n",
       "    </tr>\n",
       "    <tr>\n",
       "      <th>3148</th>\n",
       "      <td>14</td>\n",
       "      <td>2,900,000.00</td>\n",
       "      <td>75.00</td>\n",
       "      <td>2018-11-12T00:00:00</td>\n",
       "      <td>3</td>\n",
       "      <td>32.00</td>\n",
       "      <td>3.00</td>\n",
       "      <td>53.00</td>\n",
       "      <td>2</td>\n",
       "      <td>False</td>\n",
       "      <td>False</td>\n",
       "      <td>False</td>\n",
       "      <td>8.00</td>\n",
       "      <td>0.00</td>\n",
       "      <td>Волхов</td>\n",
       "      <td>NaN</td>\n",
       "      <td>NaN</td>\n",
       "      <td>0.00</td>\n",
       "      <td>NaN</td>\n",
       "      <td>0.00</td>\n",
       "      <td>NaN</td>\n",
       "      <td>NaN</td>\n",
       "    </tr>\n",
       "    <tr>\n",
       "      <th>22336</th>\n",
       "      <td>19</td>\n",
       "      <td>9,999,000.00</td>\n",
       "      <td>92.40</td>\n",
       "      <td>2019-04-05T00:00:00</td>\n",
       "      <td>2</td>\n",
       "      <td>32.00</td>\n",
       "      <td>6.00</td>\n",
       "      <td>55.50</td>\n",
       "      <td>5</td>\n",
       "      <td>False</td>\n",
       "      <td>False</td>\n",
       "      <td>False</td>\n",
       "      <td>16.50</td>\n",
       "      <td>4.00</td>\n",
       "      <td>Санкт-Петербург</td>\n",
       "      <td>18,838.00</td>\n",
       "      <td>3,506.00</td>\n",
       "      <td>0.00</td>\n",
       "      <td>NaN</td>\n",
       "      <td>3.00</td>\n",
       "      <td>511.00</td>\n",
       "      <td>NaN</td>\n",
       "    </tr>\n",
       "    <tr>\n",
       "      <th>22869</th>\n",
       "      <td>0</td>\n",
       "      <td>15,000,000.00</td>\n",
       "      <td>25.00</td>\n",
       "      <td>2018-07-25T00:00:00</td>\n",
       "      <td>1</td>\n",
       "      <td>100.00</td>\n",
       "      <td>5.00</td>\n",
       "      <td>14.00</td>\n",
       "      <td>5</td>\n",
       "      <td>True</td>\n",
       "      <td>False</td>\n",
       "      <td>False</td>\n",
       "      <td>11.00</td>\n",
       "      <td>5.00</td>\n",
       "      <td>Санкт-Петербург</td>\n",
       "      <td>34,963.00</td>\n",
       "      <td>8,283.00</td>\n",
       "      <td>1.00</td>\n",
       "      <td>223.00</td>\n",
       "      <td>3.00</td>\n",
       "      <td>30.00</td>\n",
       "      <td>19.00</td>\n",
       "    </tr>\n",
       "  </tbody>\n",
       "</table>\n",
       "</div>"
      ],
      "text/plain": [
       "       total_images    last_price  total_area first_day_exposition  rooms  \\\n",
       "5246              0  2,500,000.00       54.00  2017-10-13T00:00:00      2   \n",
       "17857             1  3,900,000.00       56.00  2017-12-22T00:00:00      3   \n",
       "4876              7  3,000,000.00       25.00  2017-09-27T00:00:00      0   \n",
       "20478            11  8,000,000.00       45.00  2017-07-18T00:00:00      1   \n",
       "21824            20  2,450,000.00       44.00  2019-02-12T00:00:00      2   \n",
       "22938            14  4,000,000.00       98.00  2018-03-15T00:00:00      4   \n",
       "21377            19  4,900,000.00       42.00  2017-04-18T00:00:00      1   \n",
       "3148             14  2,900,000.00       75.00  2018-11-12T00:00:00      3   \n",
       "22336            19  9,999,000.00       92.40  2019-04-05T00:00:00      2   \n",
       "22869             0 15,000,000.00       25.00  2018-07-25T00:00:00      1   \n",
       "\n",
       "       ceiling_height  floors_total  living_area  floor  is_apartment  studio  \\\n",
       "5246            27.00          5.00        30.00      3         False   False   \n",
       "17857           27.00          5.00        33.00      4         False   False   \n",
       "4876            27.00         25.00        17.00     17         False   False   \n",
       "20478           27.00          4.00        22.00      2         False   False   \n",
       "21824           27.00          2.00        38.00      2         False   False   \n",
       "22938           27.00          2.00        73.00      2          True   False   \n",
       "21377           27.50         24.00        37.70     19         False   False   \n",
       "3148            32.00          3.00        53.00      2         False   False   \n",
       "22336           32.00          6.00        55.50      5         False   False   \n",
       "22869          100.00          5.00        14.00      5          True   False   \n",
       "\n",
       "       open_plan  kitchen_area  balcony                    locality_name  \\\n",
       "5246       False          9.00     2.00                     деревня Мины   \n",
       "17857      False          9.00     0.00                  Санкт-Петербург   \n",
       "4876        True          9.00     2.00                   посёлок Мурино   \n",
       "20478      False         10.00     1.00                  Санкт-Петербург   \n",
       "21824      False          8.60     2.00  городской поселок Большая Ижора   \n",
       "22938      False          9.00     1.00                   деревня Нижняя   \n",
       "21377      False         11.00     2.00                  Санкт-Петербург   \n",
       "3148       False          8.00     0.00                           Волхов   \n",
       "22336      False         16.50     4.00                  Санкт-Петербург   \n",
       "22869      False         11.00     5.00                  Санкт-Петербург   \n",
       "\n",
       "       airports_nearest  cityCenters_nearest  parks_around3000  parks_nearest  \\\n",
       "5246                NaN                  NaN              0.00            NaN   \n",
       "17857         41,030.00            15,543.00              0.00            NaN   \n",
       "4876                NaN                  NaN              0.00            NaN   \n",
       "20478         18,975.00             3,246.00              0.00            NaN   \n",
       "21824               NaN                  NaN              0.00            NaN   \n",
       "22938               NaN                  NaN              0.00            NaN   \n",
       "21377         42,742.00             9,760.00              0.00            NaN   \n",
       "3148                NaN                  NaN              0.00            NaN   \n",
       "22336         18,838.00             3,506.00              0.00            NaN   \n",
       "22869         34,963.00             8,283.00              1.00         223.00   \n",
       "\n",
       "       ponds_around3000  ponds_nearest  days_exposition  \n",
       "5246               0.00            NaN           540.00  \n",
       "17857              0.00            NaN            73.00  \n",
       "4876               0.00            NaN            28.00  \n",
       "20478              3.00         449.00           429.00  \n",
       "21824              0.00            NaN              NaN  \n",
       "22938              0.00            NaN            27.00  \n",
       "21377              0.00            NaN            61.00  \n",
       "3148               0.00            NaN              NaN  \n",
       "22336              3.00         511.00              NaN  \n",
       "22869              3.00          30.00            19.00  "
      ]
     },
     "execution_count": 1675,
     "metadata": {},
     "output_type": "execute_result"
    }
   ],
   "source": [
    "df[df['ceiling_height'] > 10].sort_values('ceiling_height').tail(10)"
   ]
  },
  {
   "cell_type": "markdown",
   "metadata": {},
   "source": [
    "Для замены пропусков будем исользовать медианное занчение"
   ]
  },
  {
   "cell_type": "code",
   "execution_count": 1676,
   "metadata": {},
   "outputs": [],
   "source": [
    "df.loc[df['ceiling_height'].isna(), 'ceiling_height'] = df['ceiling_height'].median()"
   ]
  },
  {
   "cell_type": "code",
   "execution_count": 1677,
   "metadata": {},
   "outputs": [
    {
     "data": {
      "text/plain": [
       "0"
      ]
     },
     "execution_count": 1677,
     "metadata": {},
     "output_type": "execute_result"
    }
   ],
   "source": [
    "df['ceiling_height'].isna().sum()"
   ]
  },
  {
   "cell_type": "markdown",
   "metadata": {},
   "source": [
    "#### Расстояние до аэропорта и центра города - (airports_nearest и cityCenters_nearest )  "
   ]
  },
  {
   "cell_type": "code",
   "execution_count": 1678,
   "metadata": {
    "scrolled": true
   },
   "outputs": [
    {
     "data": {
      "text/plain": [
       "count   18,081.00\n",
       "mean    28,788.01\n",
       "std     12,626.21\n",
       "min          0.00\n",
       "25%     18,575.00\n",
       "50%     26,726.00\n",
       "75%     37,242.00\n",
       "max     84,869.00\n",
       "Name: airports_nearest, dtype: float64"
      ]
     },
     "execution_count": 1678,
     "metadata": {},
     "output_type": "execute_result"
    }
   ],
   "source": [
    "df['airports_nearest'].describe()"
   ]
  },
  {
   "cell_type": "code",
   "execution_count": 1679,
   "metadata": {},
   "outputs": [
    {
     "data": {
      "text/plain": [
       "count   18,104.00\n",
       "mean    14,185.08\n",
       "std      8,614.13\n",
       "min        181.00\n",
       "25%      9,233.75\n",
       "50%     13,093.00\n",
       "75%     16,287.00\n",
       "max     65,968.00\n",
       "Name: cityCenters_nearest, dtype: float64"
      ]
     },
     "execution_count": 1679,
     "metadata": {},
     "output_type": "execute_result"
    }
   ],
   "source": [
    "df['cityCenters_nearest'].describe()"
   ]
  },
  {
   "cell_type": "markdown",
   "metadata": {},
   "source": [
    "Расчет расстояния проблематичен либо вовсе невозможен. Полученные гипотетические значения могут сильно варьироваться и исказить данные. Оставим пропуски без изменений."
   ]
  },
  {
   "cell_type": "markdown",
   "metadata": {},
   "source": [
    "**Итог**\n",
    "\n",
    "Нашли и изучили пропуски большу часть обработали."
   ]
  },
  {
   "cell_type": "code",
   "execution_count": 1680,
   "metadata": {},
   "outputs": [
    {
     "data": {
      "text/plain": [
       "total_images                0\n",
       "last_price                  0\n",
       "total_area                  0\n",
       "first_day_exposition        0\n",
       "rooms                       0\n",
       "ceiling_height              0\n",
       "floors_total                0\n",
       "living_area                 0\n",
       "floor                       0\n",
       "is_apartment                0\n",
       "studio                      0\n",
       "open_plan                   0\n",
       "kitchen_area                0\n",
       "balcony                     0\n",
       "locality_name               0\n",
       "airports_nearest         5532\n",
       "cityCenters_nearest      5509\n",
       "parks_around3000            0\n",
       "parks_nearest           15568\n",
       "ponds_around3000            0\n",
       "ponds_nearest           14552\n",
       "days_exposition          3172\n",
       "dtype: int64"
      ]
     },
     "execution_count": 1680,
     "metadata": {},
     "output_type": "execute_result"
    }
   ],
   "source": [
    "df.isna().sum()"
   ]
  },
  {
   "cell_type": "markdown",
   "metadata": {},
   "source": [
    "### Замена типа данных"
   ]
  },
  {
   "cell_type": "code",
   "execution_count": 1681,
   "metadata": {},
   "outputs": [
    {
     "name": "stdout",
     "output_type": "stream",
     "text": [
      "<class 'pandas.core.frame.DataFrame'>\n",
      "Int64Index: 23613 entries, 0 to 23698\n",
      "Data columns (total 22 columns):\n",
      " #   Column                Non-Null Count  Dtype  \n",
      "---  ------                --------------  -----  \n",
      " 0   total_images          23613 non-null  int64  \n",
      " 1   last_price            23613 non-null  float64\n",
      " 2   total_area            23613 non-null  float64\n",
      " 3   first_day_exposition  23613 non-null  object \n",
      " 4   rooms                 23613 non-null  int64  \n",
      " 5   ceiling_height        23613 non-null  float64\n",
      " 6   floors_total          23613 non-null  float64\n",
      " 7   living_area           23613 non-null  float64\n",
      " 8   floor                 23613 non-null  int64  \n",
      " 9   is_apartment          23613 non-null  bool   \n",
      " 10  studio                23613 non-null  bool   \n",
      " 11  open_plan             23613 non-null  bool   \n",
      " 12  kitchen_area          23613 non-null  float64\n",
      " 13  balcony               23613 non-null  float64\n",
      " 14  locality_name         23613 non-null  object \n",
      " 15  airports_nearest      18081 non-null  float64\n",
      " 16  cityCenters_nearest   18104 non-null  float64\n",
      " 17  parks_around3000      23613 non-null  float64\n",
      " 18  parks_nearest         8045 non-null   float64\n",
      " 19  ponds_around3000      23613 non-null  float64\n",
      " 20  ponds_nearest         9061 non-null   float64\n",
      " 21  days_exposition       20441 non-null  float64\n",
      "dtypes: bool(3), float64(14), int64(3), object(2)\n",
      "memory usage: 3.7+ MB\n"
     ]
    }
   ],
   "source": [
    "df.info()"
   ]
  },
  {
   "cell_type": "markdown",
   "metadata": {},
   "source": [
    "В first_day_exposition меняем тип данных object на datetime64\n"
   ]
  },
  {
   "cell_type": "code",
   "execution_count": 1682,
   "metadata": {},
   "outputs": [],
   "source": [
    "df['first_day_exposition'] = pd.to_datetime(df['first_day_exposition'],format='%Y-%m-%dT%H:%M:%S')"
   ]
  },
  {
   "cell_type": "markdown",
   "metadata": {},
   "source": [
    "- `floors_total` — всего этажей в доме (меняем float64 на int64)\n",
    "- `balcony` — число балконов (меняем float64 на int64)\n",
    "- `parks_around3000` и `ponds_around3000` — число парков в радиусе 3 км и число водоёмов в радиусе 3 км (меняем float64 на int64)"
   ]
  },
  {
   "cell_type": "code",
   "execution_count": 1683,
   "metadata": {},
   "outputs": [],
   "source": [
    "df['floors_total'] = df['floors_total'].astype('int')"
   ]
  },
  {
   "cell_type": "code",
   "execution_count": 1684,
   "metadata": {},
   "outputs": [],
   "source": [
    "df['balcony'] = df['balcony'].astype('int')"
   ]
  },
  {
   "cell_type": "code",
   "execution_count": 1685,
   "metadata": {},
   "outputs": [],
   "source": [
    "df['parks_around3000'] = df['parks_around3000'].astype('int')"
   ]
  },
  {
   "cell_type": "code",
   "execution_count": 1686,
   "metadata": {},
   "outputs": [],
   "source": [
    "df['ponds_around3000'] = df['ponds_around3000'].astype('int')"
   ]
  },
  {
   "cell_type": "markdown",
   "metadata": {},
   "source": [
    "Также приводим в целочисленный тип стоимость квартиры"
   ]
  },
  {
   "cell_type": "code",
   "execution_count": 1687,
   "metadata": {},
   "outputs": [],
   "source": [
    "df['last_price'] = df['last_price'].astype('int')"
   ]
  },
  {
   "cell_type": "markdown",
   "metadata": {},
   "source": [
    "Итог: заменили значения на int где это было необходимо. имеем следующие типы данных в столбцах."
   ]
  },
  {
   "cell_type": "code",
   "execution_count": 1688,
   "metadata": {},
   "outputs": [
    {
     "name": "stdout",
     "output_type": "stream",
     "text": [
      "<class 'pandas.core.frame.DataFrame'>\n",
      "Int64Index: 23613 entries, 0 to 23698\n",
      "Data columns (total 22 columns):\n",
      " #   Column                Non-Null Count  Dtype         \n",
      "---  ------                --------------  -----         \n",
      " 0   total_images          23613 non-null  int64         \n",
      " 1   last_price            23613 non-null  int64         \n",
      " 2   total_area            23613 non-null  float64       \n",
      " 3   first_day_exposition  23613 non-null  datetime64[ns]\n",
      " 4   rooms                 23613 non-null  int64         \n",
      " 5   ceiling_height        23613 non-null  float64       \n",
      " 6   floors_total          23613 non-null  int64         \n",
      " 7   living_area           23613 non-null  float64       \n",
      " 8   floor                 23613 non-null  int64         \n",
      " 9   is_apartment          23613 non-null  bool          \n",
      " 10  studio                23613 non-null  bool          \n",
      " 11  open_plan             23613 non-null  bool          \n",
      " 12  kitchen_area          23613 non-null  float64       \n",
      " 13  balcony               23613 non-null  int64         \n",
      " 14  locality_name         23613 non-null  object        \n",
      " 15  airports_nearest      18081 non-null  float64       \n",
      " 16  cityCenters_nearest   18104 non-null  float64       \n",
      " 17  parks_around3000      23613 non-null  int64         \n",
      " 18  parks_nearest         8045 non-null   float64       \n",
      " 19  ponds_around3000      23613 non-null  int64         \n",
      " 20  ponds_nearest         9061 non-null   float64       \n",
      " 21  days_exposition       20441 non-null  float64       \n",
      "dtypes: bool(3), datetime64[ns](1), float64(9), int64(8), object(1)\n",
      "memory usage: 3.7+ MB\n"
     ]
    }
   ],
   "source": [
    "df.info()"
   ]
  },
  {
   "cell_type": "markdown",
   "metadata": {},
   "source": [
    "### Проверка дубликатов"
   ]
  },
  {
   "cell_type": "code",
   "execution_count": 1689,
   "metadata": {},
   "outputs": [
    {
     "data": {
      "text/plain": [
       "0"
      ]
     },
     "execution_count": 1689,
     "metadata": {},
     "output_type": "execute_result"
    }
   ],
   "source": [
    "df.duplicated().sum()"
   ]
  },
  {
   "cell_type": "markdown",
   "metadata": {},
   "source": [
    "Итог - явных дубликатов нет"
   ]
  },
  {
   "cell_type": "markdown",
   "metadata": {},
   "source": [
    "## Расчёты и добавление результатов в таблицу"
   ]
  },
  {
   "cell_type": "markdown",
   "metadata": {},
   "source": [
    "**Шаг 3. Посчитайте и добавьте в таблицу**\n",
    "\n",
    "- цену квадратного метра;\n",
    "- день недели, месяц и год публикации объявления;\n",
    "- этаж квартиры; варианты — первый, последний, другой;\n",
    "- соотношение жилой и общей площади, а также отношение площади кухни к общей."
   ]
  },
  {
   "cell_type": "markdown",
   "metadata": {},
   "source": [
    "Вычисляем цену квадратного метра:"
   ]
  },
  {
   "cell_type": "code",
   "execution_count": 1690,
   "metadata": {},
   "outputs": [],
   "source": [
    "df['sq_m_price'] = df['last_price'] / df['total_area']"
   ]
  },
  {
   "cell_type": "markdown",
   "metadata": {},
   "source": [
    "Добавляем столбцы день недели, месяц и год публикации объявления"
   ]
  },
  {
   "cell_type": "code",
   "execution_count": 1691,
   "metadata": {},
   "outputs": [],
   "source": [
    "df['weekday'] = df['first_day_exposition'].dt.weekday\n",
    "df['month'] = df['first_day_exposition'].dt.month\n",
    "df['year'] = df['first_day_exposition'].dt.year"
   ]
  },
  {
   "cell_type": "markdown",
   "metadata": {},
   "source": [
    "Считаем этажи квартир и добавляем нвый столбец категорий в df:"
   ]
  },
  {
   "cell_type": "code",
   "execution_count": 1692,
   "metadata": {},
   "outputs": [],
   "source": [
    "df.loc[df['floor'] == 1, 'floor_category'] = 'первый'\n",
    "df.loc[df['floor'] == df['floors_total'], 'floor_category'] = 'последний'\n",
    "df.loc[df['floor_category'].isna(), 'floor_category'] = 'другой'"
   ]
  },
  {
   "cell_type": "markdown",
   "metadata": {},
   "source": [
    "Считаем соотношение жилой и общей площади "
   ]
  },
  {
   "cell_type": "code",
   "execution_count": 1693,
   "metadata": {},
   "outputs": [],
   "source": [
    "df['living_area_ratio'] = df['living_area'] / df['total_area']"
   ]
  },
  {
   "cell_type": "markdown",
   "metadata": {},
   "source": [
    "Считаем отношение площади кухни к общей"
   ]
  },
  {
   "cell_type": "code",
   "execution_count": 1694,
   "metadata": {},
   "outputs": [],
   "source": [
    "df['kitchen_area_ratio'] = df['kitchen_area'] / df['total_area']"
   ]
  },
  {
   "cell_type": "markdown",
   "metadata": {},
   "source": [
    "**ИТОГ**"
   ]
  },
  {
   "cell_type": "code",
   "execution_count": 1695,
   "metadata": {
    "scrolled": true
   },
   "outputs": [
    {
     "data": {
      "text/html": [
       "<div>\n",
       "<style scoped>\n",
       "    .dataframe tbody tr th:only-of-type {\n",
       "        vertical-align: middle;\n",
       "    }\n",
       "\n",
       "    .dataframe tbody tr th {\n",
       "        vertical-align: top;\n",
       "    }\n",
       "\n",
       "    .dataframe thead th {\n",
       "        text-align: right;\n",
       "    }\n",
       "</style>\n",
       "<table border=\"1\" class=\"dataframe\">\n",
       "  <thead>\n",
       "    <tr style=\"text-align: right;\">\n",
       "      <th></th>\n",
       "      <th>total_images</th>\n",
       "      <th>last_price</th>\n",
       "      <th>total_area</th>\n",
       "      <th>first_day_exposition</th>\n",
       "      <th>rooms</th>\n",
       "      <th>ceiling_height</th>\n",
       "      <th>floors_total</th>\n",
       "      <th>living_area</th>\n",
       "      <th>floor</th>\n",
       "      <th>is_apartment</th>\n",
       "      <th>studio</th>\n",
       "      <th>open_plan</th>\n",
       "      <th>kitchen_area</th>\n",
       "      <th>balcony</th>\n",
       "      <th>locality_name</th>\n",
       "      <th>airports_nearest</th>\n",
       "      <th>cityCenters_nearest</th>\n",
       "      <th>parks_around3000</th>\n",
       "      <th>parks_nearest</th>\n",
       "      <th>ponds_around3000</th>\n",
       "      <th>ponds_nearest</th>\n",
       "      <th>days_exposition</th>\n",
       "      <th>sq_m_price</th>\n",
       "      <th>weekday</th>\n",
       "      <th>month</th>\n",
       "      <th>year</th>\n",
       "      <th>floor_category</th>\n",
       "      <th>living_area_ratio</th>\n",
       "      <th>kitchen_area_ratio</th>\n",
       "    </tr>\n",
       "  </thead>\n",
       "  <tbody>\n",
       "    <tr>\n",
       "      <th>0</th>\n",
       "      <td>20</td>\n",
       "      <td>13000000</td>\n",
       "      <td>108.00</td>\n",
       "      <td>2019-03-07</td>\n",
       "      <td>3</td>\n",
       "      <td>2.70</td>\n",
       "      <td>16</td>\n",
       "      <td>51.00</td>\n",
       "      <td>8</td>\n",
       "      <td>False</td>\n",
       "      <td>False</td>\n",
       "      <td>False</td>\n",
       "      <td>25.00</td>\n",
       "      <td>0</td>\n",
       "      <td>Санкт-Петербург</td>\n",
       "      <td>18,863.00</td>\n",
       "      <td>16,028.00</td>\n",
       "      <td>1</td>\n",
       "      <td>482.00</td>\n",
       "      <td>2</td>\n",
       "      <td>755.00</td>\n",
       "      <td>NaN</td>\n",
       "      <td>120,370.37</td>\n",
       "      <td>3</td>\n",
       "      <td>3</td>\n",
       "      <td>2019</td>\n",
       "      <td>другой</td>\n",
       "      <td>0.47</td>\n",
       "      <td>0.23</td>\n",
       "    </tr>\n",
       "    <tr>\n",
       "      <th>1</th>\n",
       "      <td>7</td>\n",
       "      <td>3350000</td>\n",
       "      <td>40.40</td>\n",
       "      <td>2018-12-04</td>\n",
       "      <td>1</td>\n",
       "      <td>2.65</td>\n",
       "      <td>11</td>\n",
       "      <td>18.60</td>\n",
       "      <td>1</td>\n",
       "      <td>False</td>\n",
       "      <td>False</td>\n",
       "      <td>False</td>\n",
       "      <td>11.00</td>\n",
       "      <td>2</td>\n",
       "      <td>посёлок Шушары</td>\n",
       "      <td>12,817.00</td>\n",
       "      <td>18,603.00</td>\n",
       "      <td>0</td>\n",
       "      <td>NaN</td>\n",
       "      <td>0</td>\n",
       "      <td>NaN</td>\n",
       "      <td>81.00</td>\n",
       "      <td>82,920.79</td>\n",
       "      <td>1</td>\n",
       "      <td>12</td>\n",
       "      <td>2018</td>\n",
       "      <td>первый</td>\n",
       "      <td>0.46</td>\n",
       "      <td>0.27</td>\n",
       "    </tr>\n",
       "    <tr>\n",
       "      <th>2</th>\n",
       "      <td>10</td>\n",
       "      <td>5196000</td>\n",
       "      <td>56.00</td>\n",
       "      <td>2015-08-20</td>\n",
       "      <td>2</td>\n",
       "      <td>2.65</td>\n",
       "      <td>5</td>\n",
       "      <td>34.30</td>\n",
       "      <td>4</td>\n",
       "      <td>False</td>\n",
       "      <td>False</td>\n",
       "      <td>False</td>\n",
       "      <td>8.30</td>\n",
       "      <td>0</td>\n",
       "      <td>Санкт-Петербург</td>\n",
       "      <td>21,741.00</td>\n",
       "      <td>13,933.00</td>\n",
       "      <td>1</td>\n",
       "      <td>90.00</td>\n",
       "      <td>2</td>\n",
       "      <td>574.00</td>\n",
       "      <td>558.00</td>\n",
       "      <td>92,785.71</td>\n",
       "      <td>3</td>\n",
       "      <td>8</td>\n",
       "      <td>2015</td>\n",
       "      <td>другой</td>\n",
       "      <td>0.61</td>\n",
       "      <td>0.15</td>\n",
       "    </tr>\n",
       "    <tr>\n",
       "      <th>3</th>\n",
       "      <td>0</td>\n",
       "      <td>64900000</td>\n",
       "      <td>159.00</td>\n",
       "      <td>2015-07-24</td>\n",
       "      <td>3</td>\n",
       "      <td>2.65</td>\n",
       "      <td>14</td>\n",
       "      <td>30.00</td>\n",
       "      <td>9</td>\n",
       "      <td>False</td>\n",
       "      <td>False</td>\n",
       "      <td>False</td>\n",
       "      <td>9.00</td>\n",
       "      <td>0</td>\n",
       "      <td>Санкт-Петербург</td>\n",
       "      <td>28,098.00</td>\n",
       "      <td>6,800.00</td>\n",
       "      <td>2</td>\n",
       "      <td>84.00</td>\n",
       "      <td>3</td>\n",
       "      <td>234.00</td>\n",
       "      <td>424.00</td>\n",
       "      <td>408,176.10</td>\n",
       "      <td>4</td>\n",
       "      <td>7</td>\n",
       "      <td>2015</td>\n",
       "      <td>другой</td>\n",
       "      <td>0.19</td>\n",
       "      <td>0.06</td>\n",
       "    </tr>\n",
       "    <tr>\n",
       "      <th>4</th>\n",
       "      <td>2</td>\n",
       "      <td>10000000</td>\n",
       "      <td>100.00</td>\n",
       "      <td>2018-06-19</td>\n",
       "      <td>2</td>\n",
       "      <td>3.03</td>\n",
       "      <td>14</td>\n",
       "      <td>32.00</td>\n",
       "      <td>13</td>\n",
       "      <td>False</td>\n",
       "      <td>False</td>\n",
       "      <td>False</td>\n",
       "      <td>41.00</td>\n",
       "      <td>0</td>\n",
       "      <td>Санкт-Петербург</td>\n",
       "      <td>31,856.00</td>\n",
       "      <td>8,098.00</td>\n",
       "      <td>2</td>\n",
       "      <td>112.00</td>\n",
       "      <td>1</td>\n",
       "      <td>48.00</td>\n",
       "      <td>121.00</td>\n",
       "      <td>100,000.00</td>\n",
       "      <td>1</td>\n",
       "      <td>6</td>\n",
       "      <td>2018</td>\n",
       "      <td>другой</td>\n",
       "      <td>0.32</td>\n",
       "      <td>0.41</td>\n",
       "    </tr>\n",
       "  </tbody>\n",
       "</table>\n",
       "</div>"
      ],
      "text/plain": [
       "   total_images  last_price  total_area first_day_exposition  rooms  \\\n",
       "0            20    13000000      108.00           2019-03-07      3   \n",
       "1             7     3350000       40.40           2018-12-04      1   \n",
       "2            10     5196000       56.00           2015-08-20      2   \n",
       "3             0    64900000      159.00           2015-07-24      3   \n",
       "4             2    10000000      100.00           2018-06-19      2   \n",
       "\n",
       "   ceiling_height  floors_total  living_area  floor  is_apartment  studio  \\\n",
       "0            2.70            16        51.00      8         False   False   \n",
       "1            2.65            11        18.60      1         False   False   \n",
       "2            2.65             5        34.30      4         False   False   \n",
       "3            2.65            14        30.00      9         False   False   \n",
       "4            3.03            14        32.00     13         False   False   \n",
       "\n",
       "   open_plan  kitchen_area  balcony    locality_name  airports_nearest  \\\n",
       "0      False         25.00        0  Санкт-Петербург         18,863.00   \n",
       "1      False         11.00        2   посёлок Шушары         12,817.00   \n",
       "2      False          8.30        0  Санкт-Петербург         21,741.00   \n",
       "3      False          9.00        0  Санкт-Петербург         28,098.00   \n",
       "4      False         41.00        0  Санкт-Петербург         31,856.00   \n",
       "\n",
       "   cityCenters_nearest  parks_around3000  parks_nearest  ponds_around3000  \\\n",
       "0            16,028.00                 1         482.00                 2   \n",
       "1            18,603.00                 0            NaN                 0   \n",
       "2            13,933.00                 1          90.00                 2   \n",
       "3             6,800.00                 2          84.00                 3   \n",
       "4             8,098.00                 2         112.00                 1   \n",
       "\n",
       "   ponds_nearest  days_exposition  sq_m_price  weekday  month  year  \\\n",
       "0         755.00              NaN  120,370.37        3      3  2019   \n",
       "1            NaN            81.00   82,920.79        1     12  2018   \n",
       "2         574.00           558.00   92,785.71        3      8  2015   \n",
       "3         234.00           424.00  408,176.10        4      7  2015   \n",
       "4          48.00           121.00  100,000.00        1      6  2018   \n",
       "\n",
       "  floor_category  living_area_ratio  kitchen_area_ratio  \n",
       "0         другой               0.47                0.23  \n",
       "1         первый               0.46                0.27  \n",
       "2         другой               0.61                0.15  \n",
       "3         другой               0.19                0.06  \n",
       "4         другой               0.32                0.41  "
      ]
     },
     "execution_count": 1695,
     "metadata": {},
     "output_type": "execute_result"
    }
   ],
   "source": [
    "df.head()"
   ]
  },
  {
   "cell_type": "markdown",
   "metadata": {},
   "source": [
    "В исходную таблицу были добавлены столбцы:\n",
    "\n",
    "- цена квадратного метра;\n",
    "- день недели, месяц и год публикации объявления;\n",
    "- этаж квартиры; по категориям — первый, последний, другой;\n",
    "- соотношение жилой и общей площади, а также отношение площади кухни к общей."
   ]
  },
  {
   "cell_type": "markdown",
   "metadata": {},
   "source": [
    "## Исследовательский анализ данных"
   ]
  },
  {
   "cell_type": "markdown",
   "metadata": {},
   "source": [
    "**План:**\n",
    "\n",
    "- Изучите следующие параметры: площадь, цена, число комнат, высота потолков. Постройте гистограммы для каждого параметра.\n",
    "- Изучите время продажи квартиры. Постройте гистограмму. Посчитайте среднее и медиану. Опишите, сколько обычно занимает продажа. Когда можно считать, что продажи прошли очень быстро, а когда необычно долго?\n",
    "- Уберите редкие и выбивающиеся значения. Опишите, какие особенности обнаружили.\n",
    "- Какие факторы больше всего влияют на стоимость квартиры? Изучите, зависит ли цена от площади, числа комнат, удалённости от центра. \n",
    "- Изучите зависимость цены от того, на каком этаже расположена квартира: первом, последнем или другом. Также изучите зависимость от даты размещения: дня недели, месяца и года.\n",
    "- Выберите 10 населённых пунктов с наибольшим числом объявлений. Посчитайте среднюю цену квадратного метра в этих населённых пунктах. Выделите среди них населённые пункты с самой высокой и низкой стоимостью жилья. Эти данные можно найти по имени в столбце locality_name.\n",
    "- Изучите предложения квартир: для каждой квартиры есть информация о расстоянии до центра. Выделите квартиры в Санкт-Петербурге (locality_name). Ваша задача — выяснить, какая область входит в центр. Создайте столбец с расстоянием до центра в километрах: округлите до целых значений. После этого посчитайте среднюю цену для каждого километра. Постройте график: он должен показывать, как цена зависит от удалённости от центра. Определите границу, где график сильно меняется, — это и будет центральная зона.\n",
    "- Выделите сегмент квартир в центре. Проанализируйте эту территорию и изучите следующие параметры: площадь, цена, число комнат, высота потолков. Также выделите факторы, которые влияют на стоимость квартиры (число комнат, этаж, удалённость от центра, дата размещения объявления). Сделайте выводы. Отличаются ли они от общих выводов по всей базе?"
   ]
  },
  {
   "cell_type": "markdown",
   "metadata": {},
   "source": [
    "### Изучите следующие параметры: площадь, цена, число комнат, высота потолков. Постройте гистограммы для каждого параметра."
   ]
  },
  {
   "cell_type": "markdown",
   "metadata": {},
   "source": [
    "Изучаем параметр площади"
   ]
  },
  {
   "cell_type": "code",
   "execution_count": 1696,
   "metadata": {},
   "outputs": [
    {
     "data": {
      "text/plain": [
       "count   23,613.00\n",
       "mean        60.34\n",
       "std         35.65\n",
       "min         12.00\n",
       "25%         40.00\n",
       "50%         52.00\n",
       "75%         69.80\n",
       "max        900.00\n",
       "Name: total_area, dtype: float64"
      ]
     },
     "execution_count": 1696,
     "metadata": {},
     "output_type": "execute_result"
    }
   ],
   "source": [
    "df['total_area'].describe()"
   ]
  },
  {
   "cell_type": "markdown",
   "metadata": {},
   "source": [
    "Строим гистограмму площади"
   ]
  },
  {
   "cell_type": "code",
   "execution_count": 1697,
   "metadata": {},
   "outputs": [
    {
     "data": {
      "image/png": "[encoded data removed]",
      "text/plain": [
       "<Figure size 720x360 with 1 Axes>"
      ]
     },
     "metadata": {
      "needs_background": "light"
     },
     "output_type": "display_data"
    }
   ],
   "source": [
    "df['total_area'].hist(range=(12,250), figsize=(10,5), bins=45)\n",
    "plt.title('Гистограмма общей площади')\n",
    "plt.xlabel('Общая площадь, кв.м')\n",
    "plt.ylabel('Количество квартир')\n",
    "plt.show()"
   ]
  },
  {
   "cell_type": "markdown",
   "metadata": {},
   "source": [
    "Основная масса квартир площадью 30-60 кв.м., с ростом площади число квартир постепенно снижается. Квартиры площадью более 100 кв. метров встречаются реже, а более 250 кв метров единичные случаи."
   ]
  },
  {
   "cell_type": "markdown",
   "metadata": {},
   "source": [
    "Изучаем параметр цены"
   ]
  },
  {
   "cell_type": "code",
   "execution_count": 1698,
   "metadata": {},
   "outputs": [
    {
     "data": {
      "text/plain": [
       "count        23,613.00\n",
       "mean      6,540,555.46\n",
       "std      10,901,722.74\n",
       "min          12,190.00\n",
       "25%       3,400,000.00\n",
       "50%       4,650,000.00\n",
       "75%       6,799,000.00\n",
       "max     763,000,000.00\n",
       "Name: last_price, dtype: float64"
      ]
     },
     "execution_count": 1698,
     "metadata": {},
     "output_type": "execute_result"
    }
   ],
   "source": [
    "df['last_price'].describe()"
   ]
  },
  {
   "cell_type": "code",
   "execution_count": 1699,
   "metadata": {},
   "outputs": [
    {
     "data": {
      "image/png": "[encoded data removed]",
      "text/plain": [
       "<Figure size 720x360 with 1 Axes>"
      ]
     },
     "metadata": {
      "needs_background": "light"
     },
     "output_type": "display_data"
    }
   ],
   "source": [
    "df['last_price'].hist(range=(12190,25000000), figsize=(10,5), bins=50)\n",
    "plt.title('Гистограмма цены квартиры на момент снятия публикации')\n",
    "plt.xlabel('Цена, 10 млн руб')\n",
    "plt.ylabel('Количество квартир')\n",
    "plt.show()"
   ]
  },
  {
   "cell_type": "markdown",
   "metadata": {},
   "source": [
    "Чаще всего встречаются квариры стоимостью в районе 3-5 млн. руб"
   ]
  },
  {
   "cell_type": "markdown",
   "metadata": {},
   "source": [
    "Изучаем параметр число комнат"
   ]
  },
  {
   "cell_type": "code",
   "execution_count": 1700,
   "metadata": {},
   "outputs": [
    {
     "data": {
      "text/plain": [
       "count   23,613.00\n",
       "mean         2.07\n",
       "std          1.08\n",
       "min          0.00\n",
       "25%          1.00\n",
       "50%          2.00\n",
       "75%          3.00\n",
       "max         19.00\n",
       "Name: rooms, dtype: float64"
      ]
     },
     "execution_count": 1700,
     "metadata": {},
     "output_type": "execute_result"
    }
   ],
   "source": [
    "df['rooms'].describe()"
   ]
  },
  {
   "cell_type": "code",
   "execution_count": 1701,
   "metadata": {},
   "outputs": [
    {
     "data": {
      "image/png": "[encoded data removed]",
      "text/plain": [
       "<Figure size 720x360 with 1 Axes>"
      ]
     },
     "metadata": {
      "needs_background": "light"
     },
     "output_type": "display_data"
    }
   ],
   "source": [
    "df['rooms'].hist(range=(0,10), figsize=(10,5), bins=10)\n",
    "plt.title('Гистограмма количества комнат')\n",
    "plt.xlabel('Число комнат')\n",
    "plt.ylabel('Количество квартир')\n",
    "plt.show()"
   ]
  },
  {
   "cell_type": "markdown",
   "metadata": {},
   "source": [
    "Основная масса квартир до 4-х комнат. Самые популярные однушки и двушки."
   ]
  },
  {
   "cell_type": "markdown",
   "metadata": {},
   "source": [
    "Изучаем параметр высота потолков"
   ]
  },
  {
   "cell_type": "code",
   "execution_count": 1702,
   "metadata": {},
   "outputs": [
    {
     "data": {
      "text/plain": [
       "count   23,613.00\n",
       "mean         2.72\n",
       "std          0.99\n",
       "min          1.00\n",
       "25%          2.60\n",
       "50%          2.65\n",
       "75%          2.70\n",
       "max        100.00\n",
       "Name: ceiling_height, dtype: float64"
      ]
     },
     "execution_count": 1702,
     "metadata": {},
     "output_type": "execute_result"
    }
   ],
   "source": [
    "df['ceiling_height'].describe()"
   ]
  },
  {
   "cell_type": "code",
   "execution_count": 1703,
   "metadata": {},
   "outputs": [
    {
     "data": {
      "image/png": "[encoded data removed]",
      "text/plain": [
       "<Figure size 504x360 with 1 Axes>"
      ]
     },
     "metadata": {
      "needs_background": "light"
     },
     "output_type": "display_data"
    }
   ],
   "source": [
    "df['ceiling_height'].hist(range=(2,4), figsize=(7,5), bins=7)\n",
    "plt.title('Гистограмма высоты потолков')\n",
    "plt.xlabel('Высота потолков, м')\n",
    "plt.ylabel('Количество квартир')\n",
    "plt.show()"
   ]
  },
  {
   "cell_type": "markdown",
   "metadata": {},
   "source": [
    "Средняя высота потолков - 2.72 м. Количество квартир с потолками более 3 метра и более снижается"
   ]
  },
  {
   "cell_type": "markdown",
   "metadata": {},
   "source": [
    "**ВЫВОД**\n",
    "\n",
    "**Площадь**\n",
    "\n",
    "Большинство квартир - менее 100 квадратных метров, больше 200 кв.м. площадь практически не встречается.  \n",
    "\n",
    "**Стоимость**\n",
    "\n",
    "В основном стоимость квартир - до 5 миллионов. Более 20 миллионов вариантов мало и они выглядят очень странно и некоторые - на порядок дороже.\n",
    "\n",
    "**Комнаты**\n",
    "\n",
    "В основном квартиры имеют 1, 2 и 3 комнаты. Есть небольшая доля 4-комнатных квартир. \n",
    "\n",
    "**Высота потолков**\n",
    "\n",
    "Большинство вариантов имеют высоту потолков от 2,5 до 3 метров. Присутствуют аномальные значения\n",
    "\n",
    "Таким образом, средняя квартира имеет следующие характеристики: это 2-комнатная квартира площадью 60 кв. м с потолками 2,72 м, проданная по цене 6,5 млн рублей.\n",
    "\n",
    "Во всех данных есть аномальные значения, вроде 0 комнат, высоты потолков в 1 или 100 метров, а также цена квартиры в 12190 рублей. О подобных данных мы уточним у сотрудников, предоставивших нам выборку, для общего изучения данных, мы не станем убирать эти аномальные значения.\n",
    "\n",
    "Аномальные характеристики квартир из представленного набора данных:\n",
    "\n",
    "- 7-комнатная квартира или больше\n",
    "- площадью более 114,3 кв. м\n",
    "- с потолками менее 2,25 м или более 3,05 м\n",
    "- по цене более 11,9 млн рублей"
   ]
  },
  {
   "cell_type": "markdown",
   "metadata": {},
   "source": [
    "### Время продажи квартиры  "
   ]
  },
  {
   "cell_type": "markdown",
   "metadata": {},
   "source": [
    "Изучите время продажи квартиры. Постройте гистограмму. Посчитайте среднее и медиану. Опишите, сколько обычно занимает продажа. Когда можно считать, что продажи прошли очень быстро, а когда необычно долго?"
   ]
  },
  {
   "cell_type": "code",
   "execution_count": 1704,
   "metadata": {},
   "outputs": [
    {
     "data": {
      "image/png": "[encoded data removed]",
      "text/plain": [
       "<Figure size 504x360 with 1 Axes>"
      ]
     },
     "metadata": {
      "needs_background": "light"
     },
     "output_type": "display_data"
    }
   ],
   "source": [
    "df['days_exposition'].hist(range = (2, 1600), figsize = (7, 5), bins = 50)\n",
    "plt.title('Гистограмма времени продаж')\n",
    "plt.xlabel('days_exposition')\n",
    "plt.ylabel('Количество квартир')\n",
    "plt.show()"
   ]
  },
  {
   "cell_type": "code",
   "execution_count": 1705,
   "metadata": {},
   "outputs": [
    {
     "data": {
      "text/plain": [
       "count   20,441.00\n",
       "mean       180.88\n",
       "std        219.69\n",
       "min          1.00\n",
       "25%         45.00\n",
       "50%         95.00\n",
       "75%        232.00\n",
       "max      1,580.00\n",
       "Name: days_exposition, dtype: float64"
      ]
     },
     "execution_count": 1705,
     "metadata": {},
     "output_type": "execute_result"
    }
   ],
   "source": [
    "df['days_exposition'].describe()"
   ]
  },
  {
   "cell_type": "markdown",
   "metadata": {},
   "source": [
    "Как правило, продажа недвижимости занимала 95 дня (медиана) и в среднем 181 день. При этом четверть всех объектов недвижимости была продана в течение 45 дней с момента публикации. "
   ]
  },
  {
   "cell_type": "code",
   "execution_count": 1706,
   "metadata": {},
   "outputs": [
    {
     "data": {
      "image/png": "[encoded data removed]",
      "text/plain": [
       "<Figure size 432x288 with 1 Axes>"
      ]
     },
     "metadata": {
      "needs_background": "light"
     },
     "output_type": "display_data"
    }
   ],
   "source": [
    "plt.ylim(0,600)\n",
    "df.boxplot('days_exposition',figsize=(5,10))\n",
    "plt.show()"
   ]
  },
  {
   "cell_type": "markdown",
   "metadata": {},
   "source": [
    "Нижний «ус» упирается в 0, минимальное значение равно 1.\n",
    "Верхний заканчивается около 512.5 (~1.5 года) — это 1,5 межквартильного размаха, добавленного к 3-му квартилю. Это ориентировочная граница нормального размаха. Всё, что лежит за ней, считается выбросом. Более высокие значения рисуются отдельными точками, но сливаются в единую жирную линию: таких выбросов очень много.\n",
    "Значения, которые отсёк верхний «ус», — редкие, так как медиана не стремится к длинному хвосту высоких значений."
   ]
  },
  {
   "cell_type": "markdown",
   "metadata": {},
   "source": [
    "Все продажи которые прошли за менее 45 дней можно назвать быстрыми, продажи которые прошли за более 232 дней назвать долгими.\n",
    "Продажи более 512 дней - аномально долгими."
   ]
  },
  {
   "cell_type": "markdown",
   "metadata": {},
   "source": [
    "### Уберите редкие и выбивающиеся значения. Опишите, какие особенности обнаружили"
   ]
  },
  {
   "cell_type": "markdown",
   "metadata": {},
   "source": [
    "Создадим функцию для подсчёта границ с учетом 1.5 размаха"
   ]
  },
  {
   "cell_type": "code",
   "execution_count": 1707,
   "metadata": {},
   "outputs": [],
   "source": [
    "def quartile_range(data, column):\n",
    "    q1 = data[column].quantile(0.25)\n",
    "    q3 = data[column].quantile(0.75)\n",
    "    iqr = q3 - q1\n",
    "    data_q = data.loc[(data[column] < q3 + 1.5*iqr) & (data[column] > q1 - 1.5*iqr), column]\n",
    "    return data_q"
   ]
  },
  {
   "cell_type": "markdown",
   "metadata": {},
   "source": [
    "Столбцы с выбросами"
   ]
  },
  {
   "cell_type": "code",
   "execution_count": 1708,
   "metadata": {},
   "outputs": [],
   "source": [
    "list_features = ['last_price', 'total_area', 'kitchen_area', 'living_area', 'days_exposition', 'ceiling_height', 'rooms', 'sq_m_price']\n",
    "for col in list_features:\n",
    "    df[col] = quartile_range(df, col)"
   ]
  },
  {
   "cell_type": "markdown",
   "metadata": {},
   "source": [
    "Возвращаем в целочисленный тип число комнат"
   ]
  },
  {
   "cell_type": "code",
   "execution_count": 1709,
   "metadata": {},
   "outputs": [],
   "source": [
    "df['rooms'] = df['rooms'].fillna(0).astype(int)\n",
    "\n"
   ]
  },
  {
   "cell_type": "markdown",
   "metadata": {},
   "source": [
    "Смотрим, есть ли выбивающиеся значения"
   ]
  },
  {
   "cell_type": "code",
   "execution_count": 1710,
   "metadata": {},
   "outputs": [
    {
     "data": {
      "text/html": [
       "<div>\n",
       "<style scoped>\n",
       "    .dataframe tbody tr th:only-of-type {\n",
       "        vertical-align: middle;\n",
       "    }\n",
       "\n",
       "    .dataframe tbody tr th {\n",
       "        vertical-align: top;\n",
       "    }\n",
       "\n",
       "    .dataframe thead th {\n",
       "        text-align: right;\n",
       "    }\n",
       "</style>\n",
       "<table border=\"1\" class=\"dataframe\">\n",
       "  <thead>\n",
       "    <tr style=\"text-align: right;\">\n",
       "      <th></th>\n",
       "      <th>total_images</th>\n",
       "      <th>last_price</th>\n",
       "      <th>total_area</th>\n",
       "      <th>rooms</th>\n",
       "      <th>ceiling_height</th>\n",
       "      <th>floors_total</th>\n",
       "      <th>living_area</th>\n",
       "      <th>floor</th>\n",
       "      <th>kitchen_area</th>\n",
       "      <th>balcony</th>\n",
       "      <th>airports_nearest</th>\n",
       "      <th>cityCenters_nearest</th>\n",
       "      <th>parks_around3000</th>\n",
       "      <th>parks_nearest</th>\n",
       "      <th>ponds_around3000</th>\n",
       "      <th>ponds_nearest</th>\n",
       "      <th>days_exposition</th>\n",
       "      <th>sq_m_price</th>\n",
       "      <th>weekday</th>\n",
       "      <th>month</th>\n",
       "      <th>year</th>\n",
       "      <th>living_area_ratio</th>\n",
       "      <th>kitchen_area_ratio</th>\n",
       "    </tr>\n",
       "  </thead>\n",
       "  <tbody>\n",
       "    <tr>\n",
       "      <th>count</th>\n",
       "      <td>23,613.00</td>\n",
       "      <td>21,564.00</td>\n",
       "      <td>22,374.00</td>\n",
       "      <td>23,613.00</td>\n",
       "      <td>20,642.00</td>\n",
       "      <td>23,613.00</td>\n",
       "      <td>22,735.00</td>\n",
       "      <td>23,613.00</td>\n",
       "      <td>22,048.00</td>\n",
       "      <td>23,613.00</td>\n",
       "      <td>18,081.00</td>\n",
       "      <td>18,104.00</td>\n",
       "      <td>23,613.00</td>\n",
       "      <td>8,045.00</td>\n",
       "      <td>23,613.00</td>\n",
       "      <td>9,061.00</td>\n",
       "      <td>18,778.00</td>\n",
       "      <td>22,522.00</td>\n",
       "      <td>23,613.00</td>\n",
       "      <td>23,613.00</td>\n",
       "      <td>23,613.00</td>\n",
       "      <td>23,613.00</td>\n",
       "      <td>23,613.00</td>\n",
       "    </tr>\n",
       "    <tr>\n",
       "      <th>mean</th>\n",
       "      <td>9.87</td>\n",
       "      <td>4,839,129.23</td>\n",
       "      <td>54.35</td>\n",
       "      <td>2.01</td>\n",
       "      <td>2.63</td>\n",
       "      <td>10.67</td>\n",
       "      <td>31.22</td>\n",
       "      <td>5.88</td>\n",
       "      <td>9.30</td>\n",
       "      <td>0.59</td>\n",
       "      <td>28,788.01</td>\n",
       "      <td>14,185.08</td>\n",
       "      <td>0.47</td>\n",
       "      <td>490.55</td>\n",
       "      <td>0.59</td>\n",
       "      <td>518.21</td>\n",
       "      <td>128.76</td>\n",
       "      <td>93,728.03</td>\n",
       "      <td>2.57</td>\n",
       "      <td>6.40</td>\n",
       "      <td>2,017.37</td>\n",
       "      <td>0.57</td>\n",
       "      <td>0.19</td>\n",
       "    </tr>\n",
       "    <tr>\n",
       "      <th>std</th>\n",
       "      <td>5.68</td>\n",
       "      <td>2,217,291.79</td>\n",
       "      <td>19.35</td>\n",
       "      <td>0.99</td>\n",
       "      <td>0.08</td>\n",
       "      <td>6.60</td>\n",
       "      <td>13.04</td>\n",
       "      <td>4.87</td>\n",
       "      <td>2.75</td>\n",
       "      <td>0.96</td>\n",
       "      <td>12,626.21</td>\n",
       "      <td>8,614.13</td>\n",
       "      <td>0.75</td>\n",
       "      <td>341.34</td>\n",
       "      <td>0.88</td>\n",
       "      <td>277.89</td>\n",
       "      <td>121.59</td>\n",
       "      <td>28,612.56</td>\n",
       "      <td>1.79</td>\n",
       "      <td>3.49</td>\n",
       "      <td>1.04</td>\n",
       "      <td>0.12</td>\n",
       "      <td>0.08</td>\n",
       "    </tr>\n",
       "    <tr>\n",
       "      <th>min</th>\n",
       "      <td>0.00</td>\n",
       "      <td>12,190.00</td>\n",
       "      <td>12.00</td>\n",
       "      <td>0.00</td>\n",
       "      <td>2.46</td>\n",
       "      <td>1.00</td>\n",
       "      <td>2.00</td>\n",
       "      <td>1.00</td>\n",
       "      <td>1.30</td>\n",
       "      <td>0.00</td>\n",
       "      <td>0.00</td>\n",
       "      <td>181.00</td>\n",
       "      <td>0.00</td>\n",
       "      <td>1.00</td>\n",
       "      <td>0.00</td>\n",
       "      <td>13.00</td>\n",
       "      <td>1.00</td>\n",
       "      <td>20,140.11</td>\n",
       "      <td>0.00</td>\n",
       "      <td>1.00</td>\n",
       "      <td>2,014.00</td>\n",
       "      <td>0.02</td>\n",
       "      <td>0.02</td>\n",
       "    </tr>\n",
       "    <tr>\n",
       "      <th>25%</th>\n",
       "      <td>6.00</td>\n",
       "      <td>3,300,000.00</td>\n",
       "      <td>39.40</td>\n",
       "      <td>1.00</td>\n",
       "      <td>2.60</td>\n",
       "      <td>5.00</td>\n",
       "      <td>19.00</td>\n",
       "      <td>2.00</td>\n",
       "      <td>7.10</td>\n",
       "      <td>0.00</td>\n",
       "      <td>18,575.00</td>\n",
       "      <td>9,233.75</td>\n",
       "      <td>0.00</td>\n",
       "      <td>288.00</td>\n",
       "      <td>0.00</td>\n",
       "      <td>294.00</td>\n",
       "      <td>41.00</td>\n",
       "      <td>76,086.96</td>\n",
       "      <td>1.00</td>\n",
       "      <td>3.00</td>\n",
       "      <td>2,017.00</td>\n",
       "      <td>0.49</td>\n",
       "      <td>0.13</td>\n",
       "    </tr>\n",
       "    <tr>\n",
       "      <th>50%</th>\n",
       "      <td>9.00</td>\n",
       "      <td>4,400,000.00</td>\n",
       "      <td>50.10</td>\n",
       "      <td>2.00</td>\n",
       "      <td>2.65</td>\n",
       "      <td>9.00</td>\n",
       "      <td>30.00</td>\n",
       "      <td>4.00</td>\n",
       "      <td>9.00</td>\n",
       "      <td>0.00</td>\n",
       "      <td>26,726.00</td>\n",
       "      <td>13,093.00</td>\n",
       "      <td>0.00</td>\n",
       "      <td>455.00</td>\n",
       "      <td>0.00</td>\n",
       "      <td>503.00</td>\n",
       "      <td>85.00</td>\n",
       "      <td>93,891.40</td>\n",
       "      <td>3.00</td>\n",
       "      <td>6.00</td>\n",
       "      <td>2,017.00</td>\n",
       "      <td>0.57</td>\n",
       "      <td>0.17</td>\n",
       "    </tr>\n",
       "    <tr>\n",
       "      <th>75%</th>\n",
       "      <td>14.00</td>\n",
       "      <td>6,000,000.00</td>\n",
       "      <td>65.60</td>\n",
       "      <td>3.00</td>\n",
       "      <td>2.65</td>\n",
       "      <td>16.00</td>\n",
       "      <td>39.50</td>\n",
       "      <td>8.00</td>\n",
       "      <td>10.90</td>\n",
       "      <td>1.00</td>\n",
       "      <td>37,242.00</td>\n",
       "      <td>16,287.00</td>\n",
       "      <td>1.00</td>\n",
       "      <td>612.00</td>\n",
       "      <td>1.00</td>\n",
       "      <td>730.00</td>\n",
       "      <td>183.00</td>\n",
       "      <td>111,367.59</td>\n",
       "      <td>4.00</td>\n",
       "      <td>10.00</td>\n",
       "      <td>2,018.00</td>\n",
       "      <td>0.64</td>\n",
       "      <td>0.23</td>\n",
       "    </tr>\n",
       "    <tr>\n",
       "      <th>max</th>\n",
       "      <td>50.00</td>\n",
       "      <td>11,894,400.00</td>\n",
       "      <td>114.40</td>\n",
       "      <td>5.00</td>\n",
       "      <td>2.85</td>\n",
       "      <td>60.00</td>\n",
       "      <td>74.20</td>\n",
       "      <td>33.00</td>\n",
       "      <td>17.59</td>\n",
       "      <td>5.00</td>\n",
       "      <td>84,869.00</td>\n",
       "      <td>65,968.00</td>\n",
       "      <td>3.00</td>\n",
       "      <td>3,190.00</td>\n",
       "      <td>3.00</td>\n",
       "      <td>1,344.00</td>\n",
       "      <td>512.00</td>\n",
       "      <td>170,648.46</td>\n",
       "      <td>6.00</td>\n",
       "      <td>12.00</td>\n",
       "      <td>2,019.00</td>\n",
       "      <td>2.31</td>\n",
       "      <td>0.79</td>\n",
       "    </tr>\n",
       "  </tbody>\n",
       "</table>\n",
       "</div>"
      ],
      "text/plain": [
       "       total_images    last_price  total_area     rooms  ceiling_height  \\\n",
       "count     23,613.00     21,564.00   22,374.00 23,613.00       20,642.00   \n",
       "mean           9.87  4,839,129.23       54.35      2.01            2.63   \n",
       "std            5.68  2,217,291.79       19.35      0.99            0.08   \n",
       "min            0.00     12,190.00       12.00      0.00            2.46   \n",
       "25%            6.00  3,300,000.00       39.40      1.00            2.60   \n",
       "50%            9.00  4,400,000.00       50.10      2.00            2.65   \n",
       "75%           14.00  6,000,000.00       65.60      3.00            2.65   \n",
       "max           50.00 11,894,400.00      114.40      5.00            2.85   \n",
       "\n",
       "       floors_total  living_area     floor  kitchen_area   balcony  \\\n",
       "count     23,613.00    22,735.00 23,613.00     22,048.00 23,613.00   \n",
       "mean          10.67        31.22      5.88          9.30      0.59   \n",
       "std            6.60        13.04      4.87          2.75      0.96   \n",
       "min            1.00         2.00      1.00          1.30      0.00   \n",
       "25%            5.00        19.00      2.00          7.10      0.00   \n",
       "50%            9.00        30.00      4.00          9.00      0.00   \n",
       "75%           16.00        39.50      8.00         10.90      1.00   \n",
       "max           60.00        74.20     33.00         17.59      5.00   \n",
       "\n",
       "       airports_nearest  cityCenters_nearest  parks_around3000  parks_nearest  \\\n",
       "count         18,081.00            18,104.00         23,613.00       8,045.00   \n",
       "mean          28,788.01            14,185.08              0.47         490.55   \n",
       "std           12,626.21             8,614.13              0.75         341.34   \n",
       "min                0.00               181.00              0.00           1.00   \n",
       "25%           18,575.00             9,233.75              0.00         288.00   \n",
       "50%           26,726.00            13,093.00              0.00         455.00   \n",
       "75%           37,242.00            16,287.00              1.00         612.00   \n",
       "max           84,869.00            65,968.00              3.00       3,190.00   \n",
       "\n",
       "       ponds_around3000  ponds_nearest  days_exposition  sq_m_price   weekday  \\\n",
       "count         23,613.00       9,061.00        18,778.00   22,522.00 23,613.00   \n",
       "mean               0.59         518.21           128.76   93,728.03      2.57   \n",
       "std                0.88         277.89           121.59   28,612.56      1.79   \n",
       "min                0.00          13.00             1.00   20,140.11      0.00   \n",
       "25%                0.00         294.00            41.00   76,086.96      1.00   \n",
       "50%                0.00         503.00            85.00   93,891.40      3.00   \n",
       "75%                1.00         730.00           183.00  111,367.59      4.00   \n",
       "max                3.00       1,344.00           512.00  170,648.46      6.00   \n",
       "\n",
       "          month      year  living_area_ratio  kitchen_area_ratio  \n",
       "count 23,613.00 23,613.00          23,613.00           23,613.00  \n",
       "mean       6.40  2,017.37               0.57                0.19  \n",
       "std        3.49      1.04               0.12                0.08  \n",
       "min        1.00  2,014.00               0.02                0.02  \n",
       "25%        3.00  2,017.00               0.49                0.13  \n",
       "50%        6.00  2,017.00               0.57                0.17  \n",
       "75%       10.00  2,018.00               0.64                0.23  \n",
       "max       12.00  2,019.00               2.31                0.79  "
      ]
     },
     "execution_count": 1710,
     "metadata": {},
     "output_type": "execute_result"
    }
   ],
   "source": [
    "df.describe()"
   ]
  },
  {
   "cell_type": "markdown",
   "metadata": {},
   "source": [
    "В датафрейме отброшены значения на основе 1.5 размаха. Значения стали чище и адекватнее."
   ]
  },
  {
   "cell_type": "markdown",
   "metadata": {},
   "source": [
    "### Оценка факторов влияния на стоимость квартиры"
   ]
  },
  {
   "cell_type": "markdown",
   "metadata": {},
   "source": [
    "Какие факторы больше всего влияют на стоимость квартиры? Изучите, зависит ли цена от площади, числа комнат, удалённости от центра. Изучите зависимость цены от того, на каком этаже расположена квартира: первом, последнем или другом. Также изучите зависимость от даты размещения: дня недели, месяца и года."
   ]
  },
  {
   "cell_type": "markdown",
   "metadata": {},
   "source": [
    "#### зависимость цены от общей площади квартиры."
   ]
  },
  {
   "cell_type": "code",
   "execution_count": 1711,
   "metadata": {},
   "outputs": [
    {
     "data": {
      "text/plain": [
       "0.6943047373182958"
      ]
     },
     "execution_count": 1711,
     "metadata": {},
     "output_type": "execute_result"
    },
    {
     "data": {
      "image/png": "[encoded data removed]",
      "text/plain": [
       "<Figure size 720x360 with 1 Axes>"
      ]
     },
     "metadata": {
      "needs_background": "light"
     },
     "output_type": "display_data"
    }
   ],
   "source": [
    "pivot_table_total_area = df.pivot_table(index = 'total_area', values = 'last_price', aggfunc = ['mean', 'count', 'median'])\n",
    "pivot_table_total_area.columns = ['mean', 'count', 'median']\n",
    "pivot_table_total_area.plot(y = 'median', style = 'o', grid = True, figsize=(10, 5), alpha = 0.15)\n",
    "\n",
    "pivot_table_total_area.sort_values('median', ascending = False)\n",
    "\n",
    "df['total_area'].corr(df['last_price'])"
   ]
  },
  {
   "cell_type": "markdown",
   "metadata": {},
   "source": [
    "#### зависимость цены от числа комнат"
   ]
  },
  {
   "cell_type": "code",
   "execution_count": 1712,
   "metadata": {
    "scrolled": true
   },
   "outputs": [
    {
     "data": {
      "text/plain": [
       "0.44396880689054297"
      ]
     },
     "execution_count": 1712,
     "metadata": {},
     "output_type": "execute_result"
    },
    {
     "data": {
      "image/png": "[encoded data removed]",
      "text/plain": [
       "<Figure size 360x360 with 1 Axes>"
      ]
     },
     "metadata": {
      "needs_background": "light"
     },
     "output_type": "display_data"
    }
   ],
   "source": [
    "sns.catplot(x = \"rooms\", y = \"last_price\", kind = \"box\", data = df)\n",
    "df['rooms'].corr(df['last_price'])"
   ]
  },
  {
   "cell_type": "markdown",
   "metadata": {},
   "source": [
    "#### зависимость цены от удаленности от центра"
   ]
  },
  {
   "cell_type": "code",
   "execution_count": 1713,
   "metadata": {},
   "outputs": [
    {
     "data": {
      "text/plain": [
       "-0.34530553997305435"
      ]
     },
     "execution_count": 1713,
     "metadata": {},
     "output_type": "execute_result"
    },
    {
     "data": {
      "image/png": "[encoded data removed]",
      "text/plain": [
       "<Figure size 720x360 with 1 Axes>"
      ]
     },
     "metadata": {
      "needs_background": "light"
     },
     "output_type": "display_data"
    }
   ],
   "source": [
    "df.plot(kind = 'scatter', y = 'last_price', x = 'cityCenters_nearest', figsize=(10, 5), alpha = 0.15)\n",
    "\n",
    "df['cityCenters_nearest'].corr(df['last_price'])"
   ]
  },
  {
   "cell_type": "markdown",
   "metadata": {},
   "source": [
    "#### зависимость цены от этажа и даты размещения:"
   ]
  },
  {
   "cell_type": "code",
   "execution_count": 1714,
   "metadata": {},
   "outputs": [
    {
     "data": {
      "image/png": "[encoded data removed]",
      "text/plain": [
       "<Figure size 360x360 with 1 Axes>"
      ]
     },
     "metadata": {
      "needs_background": "light"
     },
     "output_type": "display_data"
    },
    {
     "data": {
      "image/png": "[encoded data removed]",
      "text/plain": [
       "<Figure size 360x360 with 1 Axes>"
      ]
     },
     "metadata": {
      "needs_background": "light"
     },
     "output_type": "display_data"
    },
    {
     "data": {
      "image/png": "[encoded data removed]",
      "text/plain": [
       "<Figure size 360x360 with 1 Axes>"
      ]
     },
     "metadata": {
      "needs_background": "light"
     },
     "output_type": "display_data"
    },
    {
     "data": {
      "image/png": "[encoded data removed]",
      "text/plain": [
       "<Figure size 360x360 with 1 Axes>"
      ]
     },
     "metadata": {
      "needs_background": "light"
     },
     "output_type": "display_data"
    }
   ],
   "source": [
    "for column in ['floor_category', 'weekday', 'month', 'year']:\n",
    "    sns.catplot(x=column, y=\"last_price\", kind=\"box\", data=df)"
   ]
  },
  {
   "cell_type": "markdown",
   "metadata": {},
   "source": [
    "**ВЫВОДЫ**\n",
    "\n",
    "- Наиболее сильная корреляция наблюдается между площадью квартиры и ее стоимостью (коэфф. корреляции 0,69).\n",
    "- Расстояние до центра города также, очевидно, влияет на стоимость квартиры, но обратно пропорционально и не так сильно (коэфф. корреляции -0,34).\n",
    "- Стоимость квартиры также напрямую зависит от числа комнат: чем их больше, тем квартира дороже.\n",
    "- Квартиры на первом или последнем этаже обычно продаются по более низкой цене, чем квартиры на других этажах.\n",
    "- День недели и месяц публикации объявления не играют значимой роли на стоимость, по которой объект недвижимости будет продан. Исследование однако показало, что в среднем квартиры продавались по более высоким ценам в 2014 году, вероятно это объясняется изменением курса валют и общей макроэкономической ситуацией, которые появляли на спрос на недвижимость в РФ в 2014 году."
   ]
  },
  {
   "cell_type": "markdown",
   "metadata": {},
   "source": [
    "### 10 населённых пунктов с наибольшим числом объявлений"
   ]
  },
  {
   "cell_type": "markdown",
   "metadata": {},
   "source": [
    "Выберите 10 населённых пунктов с наибольшим числом объявлений. Посчитайте среднюю цену квадратного метра в этих населённых пунктах. Выделите среди них населённые пункты с самой высокой и низкой стоимостью жилья. Эти данные можно найти по имени в столбце locality_name."
   ]
  },
  {
   "cell_type": "code",
   "execution_count": 1715,
   "metadata": {},
   "outputs": [
    {
     "data": {
      "text/html": [
       "<div>\n",
       "<style scoped>\n",
       "    .dataframe tbody tr th:only-of-type {\n",
       "        vertical-align: middle;\n",
       "    }\n",
       "\n",
       "    .dataframe tbody tr th {\n",
       "        vertical-align: top;\n",
       "    }\n",
       "\n",
       "    .dataframe thead th {\n",
       "        text-align: right;\n",
       "    }\n",
       "</style>\n",
       "<table border=\"1\" class=\"dataframe\">\n",
       "  <thead>\n",
       "    <tr style=\"text-align: right;\">\n",
       "      <th></th>\n",
       "      <th>count</th>\n",
       "      <th>median</th>\n",
       "    </tr>\n",
       "    <tr>\n",
       "      <th>locality_name</th>\n",
       "      <th></th>\n",
       "      <th></th>\n",
       "    </tr>\n",
       "  </thead>\n",
       "  <tbody>\n",
       "    <tr>\n",
       "      <th>Санкт-Петербург</th>\n",
       "      <td>14740</td>\n",
       "      <td>102,981.98</td>\n",
       "    </tr>\n",
       "    <tr>\n",
       "      <th>посёлок Мурино</th>\n",
       "      <td>520</td>\n",
       "      <td>85,878.46</td>\n",
       "    </tr>\n",
       "    <tr>\n",
       "      <th>посёлок Шушары</th>\n",
       "      <td>439</td>\n",
       "      <td>76,829.27</td>\n",
       "    </tr>\n",
       "    <tr>\n",
       "      <th>Всеволожск</th>\n",
       "      <td>397</td>\n",
       "      <td>65,789.47</td>\n",
       "    </tr>\n",
       "    <tr>\n",
       "      <th>Пушкин</th>\n",
       "      <td>366</td>\n",
       "      <td>99,865.71</td>\n",
       "    </tr>\n",
       "    <tr>\n",
       "      <th>Колпино</th>\n",
       "      <td>338</td>\n",
       "      <td>74,723.75</td>\n",
       "    </tr>\n",
       "    <tr>\n",
       "      <th>посёлок Парголово</th>\n",
       "      <td>327</td>\n",
       "      <td>91,642.86</td>\n",
       "    </tr>\n",
       "    <tr>\n",
       "      <th>Гатчина</th>\n",
       "      <td>304</td>\n",
       "      <td>67,925.85</td>\n",
       "    </tr>\n",
       "    <tr>\n",
       "      <th>деревня Кудрово</th>\n",
       "      <td>299</td>\n",
       "      <td>91,860.47</td>\n",
       "    </tr>\n",
       "    <tr>\n",
       "      <th>Выборг</th>\n",
       "      <td>236</td>\n",
       "      <td>58,233.01</td>\n",
       "    </tr>\n",
       "  </tbody>\n",
       "</table>\n",
       "</div>"
      ],
      "text/plain": [
       "                   count     median\n",
       "locality_name                      \n",
       "Санкт-Петербург    14740 102,981.98\n",
       "посёлок Мурино       520  85,878.46\n",
       "посёлок Шушары       439  76,829.27\n",
       "Всеволожск           397  65,789.47\n",
       "Пушкин               366  99,865.71\n",
       "Колпино              338  74,723.75\n",
       "посёлок Парголово    327  91,642.86\n",
       "Гатчина              304  67,925.85\n",
       "деревня Кудрово      299  91,860.47\n",
       "Выборг               236  58,233.01"
      ]
     },
     "execution_count": 1715,
     "metadata": {},
     "output_type": "execute_result"
    }
   ],
   "source": [
    "median_sq_m_price = df.pivot_table(index = 'locality_name', values = 'sq_m_price', aggfunc = ['count', 'median'])\n",
    "median_sq_m_price.columns = ['count', 'median']\n",
    "median_sq_m_price.sort_values('count', ascending = False).head(10)"
   ]
  },
  {
   "cell_type": "markdown",
   "metadata": {},
   "source": [
    "ВЫВОД:\n",
    "\n",
    "Самая высокая стоимость жилья в Спб, самая низкая в Выборге."
   ]
  },
  {
   "cell_type": "markdown",
   "metadata": {},
   "source": [
    "### Удаленность квартир от центра Спб"
   ]
  },
  {
   "cell_type": "markdown",
   "metadata": {},
   "source": [
    "Изучите предложения квартир: для каждой квартиры есть информация о расстоянии до центра. Выделите квартиры в Санкт-Петербурге (locality_name). Ваша задача — выяснить, какая область входит в центр. Создайте столбец с расстоянием до центра в километрах: округлите до целых значений. После этого посчитайте среднюю цену для каждого километра. Постройте график: он должен показывать, как цена зависит от удалённости от центра. Определите границу, где график сильно меняется, — это и будет центральная зона."
   ]
  },
  {
   "cell_type": "markdown",
   "metadata": {},
   "source": [
    "Добавляем столбец с расстоянием до центра в км, округляем до целого"
   ]
  },
  {
   "cell_type": "code",
   "execution_count": 1716,
   "metadata": {},
   "outputs": [],
   "source": [
    "df['citycenters_km'] = round(df['cityCenters_nearest'] / 1000, 0)"
   ]
  },
  {
   "cell_type": "markdown",
   "metadata": {},
   "source": [
    "Выбираем Санкт-Петербург, смотрим на график, где указана средняя стоимость для каждого км\n"
   ]
  },
  {
   "cell_type": "code",
   "execution_count": 1717,
   "metadata": {},
   "outputs": [
    {
     "data": {
      "text/html": [
       "<div>\n",
       "<style scoped>\n",
       "    .dataframe tbody tr th:only-of-type {\n",
       "        vertical-align: middle;\n",
       "    }\n",
       "\n",
       "    .dataframe tbody tr th {\n",
       "        vertical-align: top;\n",
       "    }\n",
       "\n",
       "    .dataframe thead th {\n",
       "        text-align: right;\n",
       "    }\n",
       "</style>\n",
       "<table border=\"1\" class=\"dataframe\">\n",
       "  <thead>\n",
       "    <tr style=\"text-align: right;\">\n",
       "      <th></th>\n",
       "      <th>last_price</th>\n",
       "      <th>sq_m_price</th>\n",
       "    </tr>\n",
       "    <tr>\n",
       "      <th>citycenters_km</th>\n",
       "      <th></th>\n",
       "      <th></th>\n",
       "    </tr>\n",
       "  </thead>\n",
       "  <tbody>\n",
       "    <tr>\n",
       "      <th>0.00</th>\n",
       "      <td>7,600,000.00</td>\n",
       "      <td>108,163.27</td>\n",
       "    </tr>\n",
       "    <tr>\n",
       "      <th>1.00</th>\n",
       "      <td>8,400,000.00</td>\n",
       "      <td>114,503.82</td>\n",
       "    </tr>\n",
       "    <tr>\n",
       "      <th>2.00</th>\n",
       "      <td>8,200,000.00</td>\n",
       "      <td>110,843.37</td>\n",
       "    </tr>\n",
       "    <tr>\n",
       "      <th>3.00</th>\n",
       "      <td>7,300,000.00</td>\n",
       "      <td>105,263.16</td>\n",
       "    </tr>\n",
       "    <tr>\n",
       "      <th>4.00</th>\n",
       "      <td>7,500,000.00</td>\n",
       "      <td>110,702.25</td>\n",
       "    </tr>\n",
       "    <tr>\n",
       "      <th>5.00</th>\n",
       "      <td>7,500,000.00</td>\n",
       "      <td>117,197.29</td>\n",
       "    </tr>\n",
       "    <tr>\n",
       "      <th>6.00</th>\n",
       "      <td>6,800,000.00</td>\n",
       "      <td>118,252.50</td>\n",
       "    </tr>\n",
       "    <tr>\n",
       "      <th>7.00</th>\n",
       "      <td>6,300,000.00</td>\n",
       "      <td>115,308.20</td>\n",
       "    </tr>\n",
       "    <tr>\n",
       "      <th>8.00</th>\n",
       "      <td>6,300,000.00</td>\n",
       "      <td>119,175.63</td>\n",
       "    </tr>\n",
       "    <tr>\n",
       "      <th>9.00</th>\n",
       "      <td>4,999,000.00</td>\n",
       "      <td>104,910.71</td>\n",
       "    </tr>\n",
       "  </tbody>\n",
       "</table>\n",
       "</div>"
      ],
      "text/plain": [
       "                 last_price  sq_m_price\n",
       "citycenters_km                         \n",
       "0.00           7,600,000.00  108,163.27\n",
       "1.00           8,400,000.00  114,503.82\n",
       "2.00           8,200,000.00  110,843.37\n",
       "3.00           7,300,000.00  105,263.16\n",
       "4.00           7,500,000.00  110,702.25\n",
       "5.00           7,500,000.00  117,197.29\n",
       "6.00           6,800,000.00  118,252.50\n",
       "7.00           6,300,000.00  115,308.20\n",
       "8.00           6,300,000.00  119,175.63\n",
       "9.00           4,999,000.00  104,910.71"
      ]
     },
     "execution_count": 1717,
     "metadata": {},
     "output_type": "execute_result"
    }
   ],
   "source": [
    "spb_center_km = df.query('locality_name == \"Санкт-Петербург\"').pivot_table(index = 'citycenters_km', values = ['sq_m_price', 'last_price'], aggfunc='median')\n",
    "\n",
    "spb_center_km.head(10)"
   ]
  },
  {
   "cell_type": "code",
   "execution_count": 1718,
   "metadata": {},
   "outputs": [
    {
     "data": {
      "image/png": "[encoded data removed]",
      "text/plain": [
       "<Figure size 1080x360 with 1 Axes>"
      ]
     },
     "metadata": {
      "needs_background": "light"
     },
     "output_type": "display_data"
    }
   ],
   "source": [
    "spb_center_km['sq_m_price'].plot(grid=True, style='o-', title='Зависимость средней цены от расстояния до центра Санкт-Петербурга', figsize=(15, 5))\n",
    "plt.show()"
   ]
  },
  {
   "cell_type": "markdown",
   "metadata": {},
   "source": [
    "Исходя из представленных выше данных делаем вывод, что центральная зона находится в радиусе **8 км.**"
   ]
  },
  {
   "cell_type": "markdown",
   "metadata": {},
   "source": [
    "### Анализ квартир в центре Спб\n"
   ]
  },
  {
   "cell_type": "markdown",
   "metadata": {},
   "source": [
    "Выделите сегмент квартир в центре. Проанализируйте эту территорию и изучите следующие параметры: площадь, цена, число комнат, высота потолков. Также выделите факторы, которые влияют на стоимость квартиры (число комнат, этаж, удалённость от центра, дата размещения объявления). Сделайте выводы. Отличаются ли они от общих выводов по всей базе?"
   ]
  },
  {
   "cell_type": "code",
   "execution_count": 1719,
   "metadata": {},
   "outputs": [],
   "source": [
    "spb_center = df[(df['citycenters_km'] <= 8) & (df['locality_name'] == 'Санкт-Петербург')]"
   ]
  },
  {
   "cell_type": "markdown",
   "metadata": {},
   "source": [
    "#### Изучаем следующие параметры: площадь, цена, число комнат, высота потолков."
   ]
  },
  {
   "cell_type": "markdown",
   "metadata": {},
   "source": [
    "**Площадь**"
   ]
  },
  {
   "cell_type": "code",
   "execution_count": 1720,
   "metadata": {
    "scrolled": true
   },
   "outputs": [
    {
     "data": {
      "text/plain": [
       "count   3,258.00\n",
       "mean       68.20\n",
       "std        22.56\n",
       "min        12.00\n",
       "25%        49.75\n",
       "50%        67.50\n",
       "75%        85.20\n",
       "max       114.40\n",
       "Name: total_area, dtype: float64"
      ]
     },
     "execution_count": 1720,
     "metadata": {},
     "output_type": "execute_result"
    }
   ],
   "source": [
    "spb_center['total_area'].describe()"
   ]
  },
  {
   "cell_type": "code",
   "execution_count": 1721,
   "metadata": {},
   "outputs": [
    {
     "data": {
      "image/png": "[encoded data removed]",
      "text/plain": [
       "<Figure size 720x360 with 1 Axes>"
      ]
     },
     "metadata": {
      "needs_background": "light"
     },
     "output_type": "display_data"
    }
   ],
   "source": [
    "spb_center['total_area'].hist(range=(12,115), figsize=(10,5), bins=45)\n",
    "plt.title('Гистограмма общей площади')\n",
    "plt.xlabel('Общая площадь, кв.м')\n",
    "plt.ylabel('Количество квартир')\n",
    "plt.show()"
   ]
  },
  {
   "cell_type": "markdown",
   "metadata": {},
   "source": [
    "**Цена**"
   ]
  },
  {
   "cell_type": "code",
   "execution_count": 1722,
   "metadata": {},
   "outputs": [
    {
     "data": {
      "text/plain": [
       "count        2,760.00\n",
       "mean     7,297,277.79\n",
       "std      2,213,814.20\n",
       "min      1,600,000.00\n",
       "25%      5,650,000.00\n",
       "50%      7,200,000.00\n",
       "75%      8,990,000.00\n",
       "max     11,894,400.00\n",
       "Name: last_price, dtype: float64"
      ]
     },
     "execution_count": 1722,
     "metadata": {},
     "output_type": "execute_result"
    }
   ],
   "source": [
    "spb_center['last_price'].describe() \n"
   ]
  },
  {
   "cell_type": "code",
   "execution_count": 1723,
   "metadata": {},
   "outputs": [
    {
     "data": {
      "image/png": "[encoded data removed]",
      "text/plain": [
       "<Figure size 720x360 with 1 Axes>"
      ]
     },
     "metadata": {
      "needs_background": "light"
     },
     "output_type": "display_data"
    }
   ],
   "source": [
    "spb_center['last_price'].hist(range=(1000000,12000000), figsize=(10,5), bins=50)\n",
    "plt.title('Гистограмма цены квартиры на момент снятия публикации')\n",
    "plt.xlabel('Цена, 10 млн руб')\n",
    "plt.ylabel('Количество квартир')\n",
    "plt.show()"
   ]
  },
  {
   "cell_type": "markdown",
   "metadata": {},
   "source": [
    "**Количество комнат**"
   ]
  },
  {
   "cell_type": "code",
   "execution_count": 1724,
   "metadata": {},
   "outputs": [
    {
     "data": {
      "text/plain": [
       "count   4,112.00\n",
       "mean        2.48\n",
       "std         1.19\n",
       "min         0.00\n",
       "25%         2.00\n",
       "50%         2.00\n",
       "75%         3.00\n",
       "max         5.00\n",
       "Name: rooms, dtype: float64"
      ]
     },
     "execution_count": 1724,
     "metadata": {},
     "output_type": "execute_result"
    }
   ],
   "source": [
    "spb_center['rooms'].describe() \n"
   ]
  },
  {
   "cell_type": "code",
   "execution_count": 1725,
   "metadata": {},
   "outputs": [
    {
     "data": {
      "image/png": "[encoded data removed]",
      "text/plain": [
       "<Figure size 720x360 with 1 Axes>"
      ]
     },
     "metadata": {
      "needs_background": "light"
     },
     "output_type": "display_data"
    }
   ],
   "source": [
    "spb_center['rooms'].hist(range=(0,5), figsize=(10,5), bins=6)\n",
    "plt.title('Гистограмма количества комнат')\n",
    "plt.xlabel('Число комнат')\n",
    "plt.ylabel('Количество квартир')\n",
    "plt.show()"
   ]
  },
  {
   "cell_type": "markdown",
   "metadata": {},
   "source": [
    "**высота потолков**"
   ]
  },
  {
   "cell_type": "code",
   "execution_count": 1726,
   "metadata": {},
   "outputs": [
    {
     "data": {
      "text/plain": [
       "count   2,261.00\n",
       "mean        2.66\n",
       "std         0.07\n",
       "min         2.46\n",
       "25%         2.65\n",
       "50%         2.65\n",
       "75%         2.65\n",
       "max         2.85\n",
       "Name: ceiling_height, dtype: float64"
      ]
     },
     "execution_count": 1726,
     "metadata": {},
     "output_type": "execute_result"
    }
   ],
   "source": [
    "spb_center['ceiling_height'].describe()"
   ]
  },
  {
   "cell_type": "code",
   "execution_count": 1727,
   "metadata": {},
   "outputs": [
    {
     "data": {
      "image/png": "[encoded data removed]",
      "text/plain": [
       "<Figure size 504x360 with 1 Axes>"
      ]
     },
     "metadata": {
      "needs_background": "light"
     },
     "output_type": "display_data"
    }
   ],
   "source": [
    "spb_center['ceiling_height'].hist(range=(2.4,2.85), figsize=(7,5), bins=7)\n",
    "plt.title('Гистограмма высоты потолков')\n",
    "plt.xlabel('Высота потолков, м')\n",
    "plt.ylabel('Количество квартир')\n",
    "plt.show()"
   ]
  },
  {
   "cell_type": "markdown",
   "metadata": {},
   "source": [
    "#### Оценка факторов влияния на стоимость квартиры в центре Спб"
   ]
  },
  {
   "cell_type": "markdown",
   "metadata": {},
   "source": [
    "**зависимость цены от общей площади квартиры.**"
   ]
  },
  {
   "cell_type": "code",
   "execution_count": 1728,
   "metadata": {},
   "outputs": [
    {
     "data": {
      "text/plain": [
       "0.713730446375551"
      ]
     },
     "execution_count": 1728,
     "metadata": {},
     "output_type": "execute_result"
    },
    {
     "data": {
      "image/png": "[encoded data removed]",
      "text/plain": [
       "<Figure size 720x360 with 1 Axes>"
      ]
     },
     "metadata": {
      "needs_background": "light"
     },
     "output_type": "display_data"
    }
   ],
   "source": [
    "pivot_table_total_area = spb_center.pivot_table(index = 'total_area', values = 'last_price', aggfunc = ['mean', 'count', 'median'])\n",
    "pivot_table_total_area.columns = ['mean', 'count', 'median']\n",
    "pivot_table_total_area.plot(y = 'median', style = 'o', grid = True, figsize=(10, 5), alpha = 0.30)\n",
    "\n",
    "pivot_table_total_area.sort_values('median', ascending = False)\n",
    "\n",
    "spb_center['total_area'].corr(df['last_price'])"
   ]
  },
  {
   "cell_type": "markdown",
   "metadata": {},
   "source": [
    "**зависимость цены от числа комнат**"
   ]
  },
  {
   "cell_type": "code",
   "execution_count": 1729,
   "metadata": {},
   "outputs": [
    {
     "data": {
      "text/plain": [
       "0.47472292546759587"
      ]
     },
     "execution_count": 1729,
     "metadata": {},
     "output_type": "execute_result"
    },
    {
     "data": {
      "image/png": "[encoded data removed]",
      "text/plain": [
       "<Figure size 360x360 with 1 Axes>"
      ]
     },
     "metadata": {
      "needs_background": "light"
     },
     "output_type": "display_data"
    }
   ],
   "source": [
    "sns.catplot(x = \"rooms\", y = \"last_price\", kind = \"box\", data = spb_center)\n",
    "spb_center['rooms'].corr(spb_center['last_price'])"
   ]
  },
  {
   "cell_type": "markdown",
   "metadata": {},
   "source": [
    "**зависимость цены от удаленности от центра**"
   ]
  },
  {
   "cell_type": "code",
   "execution_count": 1730,
   "metadata": {},
   "outputs": [
    {
     "data": {
      "text/plain": [
       "-0.19624977279065617"
      ]
     },
     "execution_count": 1730,
     "metadata": {},
     "output_type": "execute_result"
    },
    {
     "data": {
      "image/png": "[encoded data removed]",
      "text/plain": [
       "<Figure size 720x360 with 1 Axes>"
      ]
     },
     "metadata": {
      "needs_background": "light"
     },
     "output_type": "display_data"
    }
   ],
   "source": [
    "spb_center.plot(kind = 'scatter', y = 'last_price', x = 'cityCenters_nearest', figsize=(10, 5), alpha = 0.30)\n",
    "\n",
    "spb_center['cityCenters_nearest'].corr(spb_center['last_price'])"
   ]
  },
  {
   "cell_type": "markdown",
   "metadata": {},
   "source": [
    "**зависимость цены от этажа и даты размещения:**"
   ]
  },
  {
   "cell_type": "code",
   "execution_count": 1731,
   "metadata": {},
   "outputs": [
    {
     "data": {
      "image/png": "[encoded data removed]",
      "text/plain": [
       "<Figure size 360x360 with 1 Axes>"
      ]
     },
     "metadata": {
      "needs_background": "light"
     },
     "output_type": "display_data"
    },
    {
     "data": {
      "image/png": "[encoded data removed]",
      "text/plain": [
       "<Figure size 360x360 with 1 Axes>"
      ]
     },
     "metadata": {
      "needs_background": "light"
     },
     "output_type": "display_data"
    },
    {
     "data": {
      "image/png": "[encoded data removed]",
      "text/plain": [
       "<Figure size 360x360 with 1 Axes>"
      ]
     },
     "metadata": {
      "needs_background": "light"
     },
     "output_type": "display_data"
    },
    {
     "data": {
      "image/png": "[encoded data removed]",
      "text/plain": [
       "<Figure size 360x360 with 1 Axes>"
      ]
     },
     "metadata": {
      "needs_background": "light"
     },
     "output_type": "display_data"
    }
   ],
   "source": [
    "for column in ['floor_category', 'weekday', 'month', 'year']:\n",
    "    sns.catplot(x=column, y=\"last_price\", kind=\"box\", data = spb_center)"
   ]
  },
  {
   "cell_type": "markdown",
   "metadata": {},
   "source": [
    "**Вывод**\n",
    "\n",
    "- Зависимость стоимости квартиры от числа комнат в центре Санкт-Петербурга сильнее: например больше платежеспособного спроса на 5-комнатные квартиры, что приводит к прямо пропорциональной зависимости цены от числа комнат. Другими словами, 5-комнатные квартиры в центре Санкт-Петербурга, как правило, будут продаваться дороже, чем 4-комнатные.\n",
    "- Кроме того, в центре города наблюдается явно выраженная зависимость от этажа квартиры: квартира на последнем этаже в среднем будет стоить дороже, чем на первом. Это не наблюдается в явном виде в окрестностях центра.\n",
    "- Чем дальше от центра города, тем в среднем квартира будет стоить дешевле: в среднем разница в стоимости между первым и восьмым километром от центра может достигать 2 млн руб.\n",
    "- Квартиры, объявления о продаже которых публиковались по воскресеньям, продавались в среднем по более высокой цене. То же верно и для объявлений, опубликованных в сентябре в период 2015-2019 гг.: в среднем такие квартиры продавались дороже. Лучше всего продажи квартир наблюдались  2015 году."
   ]
  },
  {
   "cell_type": "markdown",
   "metadata": {},
   "source": [
    "## Общий вывод"
   ]
  },
  {
   "cell_type": "markdown",
   "metadata": {},
   "source": [
    "Был бработан полученный архив данных - обработали пропущенные значения там, где это необходимо, заменили типы данных на необходимые для удобной работы. Посчитали и добавили в таблицу цену квадратного метра жилья, вывели из даты дни недели, месяцы и года размещения объявлений, добавили категории по этажам квартир. Изучили следующие параметры на наличие выбивающихся значений - площадь, цена, число комнат, высота потолков. Были определены аномалии в данных параметрах.   \n",
    "\n",
    "Для определения рыночной стоимости объектов недвижимости важны следующие параметры:\n",
    "\n",
    "- общая площадь квартиры (аномальные значения: более 114,25 кв. м)\n",
    "- расстояние до центра города (центр Спб ограничен окружностью радиусом 8 км)\n",
    "- число комнат и этаж квартиры (чем ближе к центру, тем эти факторы весомее)\n",
    "- срок продажи квартиры (слишком быстрая продажа — до 45 дней, слишком долгая продажа — более 232 дней, аномально долгие - 512 дней.\n"
   ]
  },
  {
   "cell_type": "markdown",
   "metadata": {},
   "source": [
    "## Чек-лист готовности проекта\n",
    "\n",
    "Поставьте 'x' в выполненных пунктах. Далее нажмите Shift+Enter."
   ]
  },
  {
   "cell_type": "markdown",
   "metadata": {},
   "source": [
    "- [x]  открыт файл\n",
    "- [x]  файлы изучены (выведены первые строки, метод `info()`)\n",
    "- [x]  определены пропущенные значения\n",
    "- [x]  заполнены пропущенные значения\n",
    "- [x]  есть пояснение, какие пропущенные значения обнаружены\n",
    "- [x]  изменены типы данных\n",
    "- [x]  есть пояснение, в каких столбцах изменены типы и почему\n",
    "- [x]  посчитано и добавлено в таблицу: цена квадратного метра\n",
    "- [x]  посчитано и добавлено в таблицу: день недели, месяц и год публикации объявления\n",
    "- [x]  посчитано и добавлено в таблицу: этаж квартиры; варианты — первый, последний, другой\n",
    "- [x]  посчитано и добавлено в таблицу: соотношение жилой и общей площади, а также отношение площади кухни к общей\n",
    "- [x]  изучены следующие параметры: площадь, цена, число комнат, высота потолков\n",
    "- [x]  построены гистограммы для каждого параметра\n",
    "- [x]  выполнено задание: «Изучите время продажи квартиры. Постройте гистограмму. Посчитайте среднее и медиану. Опишите, сколько обычно занимает продажа. Когда можно считать, что продажи прошли очень быстро, а когда необычно долго?»\n",
    "- [x]  выполнено задание: «Уберите редкие и выбивающиеся значения. Опишите, какие особенности обнаружили».\n",
    "- [x]  выполнено задание: «Какие факторы больше всего влияют на стоимость квартиры? Изучите, зависит ли цена от квадратного метра, числа комнат, этажа (первого или последнего), удалённости от центра. Также изучите зависимость от даты размещения: дня недели, месяца и года». \n",
    "- [x]  выполнено задание: «Выберите 10 населённых пунктов с наибольшим числом объявлений. Посчитайте среднюю цену квадратного метра в этих населённых пунктах. Выделите населённые пункты с самой высокой и низкой стоимостью жилья. Эти данные можно найти по имени в столбце `locality_name`».\n",
    "- [x]  выполнено задание: «Изучите предложения квартир: для каждой квартиры есть информация о расстоянии до центра. Выделите квартиры в Санкт-Петербурге (`locality_name`). Ваша задача — выяснить, какая область входит в центр. Создайте столбец с расстоянием до центра в километрах: округлите до целых значений. После этого посчитайте среднюю цену для каждого километра. Постройте график: он должен показывать, как цена зависит от удалённости от центра. Определите границу, где график сильно меняется — это и будет центральная зона».\n",
    "- [x]  выполнено задание: «Выделите сегмент квартир в центре. Проанализируйте эту территорию и изучите следующие параметры: площадь, цена, число комнат, высота потолков. Также выделите факторы, которые влияют на стоимость квартиры (число комнат, этаж, удалённость от центра, дата размещения объявления). Сделайте выводы. Отличаются ли они от общих выводов по всей базе?»\n",
    "- [x]  в каждом этапе есть выводы\n",
    "- [x]  есть общий вывод"
   ]
  },
  {
   "cell_type": "code",
   "execution_count": null,
   "metadata": {},
   "outputs": [],
   "source": []
  }
 ],
 "metadata": {
  "ExecuteTimeLog": [
   {
    "duration": 575,
    "start_time": "2022-04-30T14:14:49.078Z"
   },
   {
    "duration": 3836,
    "start_time": "2022-04-30T14:15:00.852Z"
   },
   {
    "duration": 1631,
    "start_time": "2022-04-30T14:15:07.588Z"
   },
   {
    "duration": 21,
    "start_time": "2022-04-30T14:26:27.957Z"
   },
   {
    "duration": 25,
    "start_time": "2022-04-30T14:45:17.739Z"
   },
   {
    "duration": 103,
    "start_time": "2022-04-30T14:45:21.359Z"
   },
   {
    "duration": 9,
    "start_time": "2022-04-30T15:08:47.715Z"
   },
   {
    "duration": 117,
    "start_time": "2022-04-30T15:10:31.391Z"
   },
   {
    "duration": 25,
    "start_time": "2022-04-30T15:10:37.298Z"
   },
   {
    "duration": 76,
    "start_time": "2022-04-30T15:10:53.099Z"
   },
   {
    "duration": 19,
    "start_time": "2022-04-30T15:10:54.751Z"
   },
   {
    "duration": 10,
    "start_time": "2022-04-30T15:21:59.710Z"
   },
   {
    "duration": 10,
    "start_time": "2022-04-30T15:22:08.504Z"
   },
   {
    "duration": 16,
    "start_time": "2022-04-30T15:22:21.738Z"
   },
   {
    "duration": 113,
    "start_time": "2022-04-30T15:26:56.017Z"
   },
   {
    "duration": 7,
    "start_time": "2022-04-30T15:27:04.614Z"
   },
   {
    "duration": 10,
    "start_time": "2022-04-30T15:27:44.132Z"
   },
   {
    "duration": 62,
    "start_time": "2022-04-30T15:29:42.698Z"
   },
   {
    "duration": 7,
    "start_time": "2022-04-30T15:34:18.722Z"
   },
   {
    "duration": 4,
    "start_time": "2022-04-30T15:34:21.932Z"
   },
   {
    "duration": 4,
    "start_time": "2022-04-30T15:47:25.375Z"
   },
   {
    "duration": 4,
    "start_time": "2022-04-30T15:47:26.823Z"
   },
   {
    "duration": 10,
    "start_time": "2022-04-30T15:47:41.717Z"
   },
   {
    "duration": 5,
    "start_time": "2022-04-30T15:52:14.455Z"
   },
   {
    "duration": 9,
    "start_time": "2022-04-30T15:52:41.755Z"
   },
   {
    "duration": 4,
    "start_time": "2022-04-30T15:52:51.104Z"
   },
   {
    "duration": 5,
    "start_time": "2022-04-30T15:53:02.029Z"
   },
   {
    "duration": 3,
    "start_time": "2022-04-30T15:53:07.771Z"
   },
   {
    "duration": 80,
    "start_time": "2022-04-30T15:53:07.777Z"
   },
   {
    "duration": 20,
    "start_time": "2022-04-30T15:53:07.859Z"
   },
   {
    "duration": 14,
    "start_time": "2022-04-30T15:53:07.881Z"
   },
   {
    "duration": 4,
    "start_time": "2022-04-30T15:53:07.897Z"
   },
   {
    "duration": 63,
    "start_time": "2022-04-30T15:53:07.923Z"
   },
   {
    "duration": 10,
    "start_time": "2022-04-30T15:53:07.987Z"
   },
   {
    "duration": 30,
    "start_time": "2022-04-30T15:53:07.998Z"
   },
   {
    "duration": 6,
    "start_time": "2022-04-30T15:53:08.030Z"
   },
   {
    "duration": 11,
    "start_time": "2022-04-30T15:56:36.795Z"
   },
   {
    "duration": 11,
    "start_time": "2022-04-30T15:56:52.569Z"
   },
   {
    "duration": 197,
    "start_time": "2022-04-30T15:57:35.247Z"
   },
   {
    "duration": 7,
    "start_time": "2022-04-30T15:58:08.420Z"
   },
   {
    "duration": 5,
    "start_time": "2022-04-30T15:58:29.929Z"
   },
   {
    "duration": 6,
    "start_time": "2022-04-30T15:58:51.264Z"
   },
   {
    "duration": 6,
    "start_time": "2022-04-30T15:58:59.303Z"
   },
   {
    "duration": 8,
    "start_time": "2022-04-30T15:59:14.811Z"
   },
   {
    "duration": 6,
    "start_time": "2022-04-30T15:59:31.866Z"
   },
   {
    "duration": 6,
    "start_time": "2022-04-30T15:59:41.354Z"
   },
   {
    "duration": 4,
    "start_time": "2022-04-30T16:00:05.714Z"
   },
   {
    "duration": 6,
    "start_time": "2022-04-30T16:00:06.912Z"
   },
   {
    "duration": 14,
    "start_time": "2022-04-30T16:05:04.398Z"
   },
   {
    "duration": 6,
    "start_time": "2022-04-30T18:15:46.760Z"
   },
   {
    "duration": 13,
    "start_time": "2022-04-30T18:23:47.644Z"
   },
   {
    "duration": 4,
    "start_time": "2022-04-30T18:23:56.009Z"
   },
   {
    "duration": 7,
    "start_time": "2022-04-30T18:24:01.623Z"
   },
   {
    "duration": 10,
    "start_time": "2022-04-30T18:24:21.949Z"
   },
   {
    "duration": 14,
    "start_time": "2022-04-30T18:29:07.891Z"
   },
   {
    "duration": 14,
    "start_time": "2022-04-30T18:29:09.604Z"
   },
   {
    "duration": 11,
    "start_time": "2022-04-30T18:29:14.146Z"
   },
   {
    "duration": 7,
    "start_time": "2022-04-30T18:29:23.234Z"
   },
   {
    "duration": 4,
    "start_time": "2022-04-30T18:29:25.511Z"
   },
   {
    "duration": 6,
    "start_time": "2022-04-30T18:29:26.995Z"
   },
   {
    "duration": 10,
    "start_time": "2022-04-30T18:29:30.845Z"
   },
   {
    "duration": 10,
    "start_time": "2022-04-30T18:29:33.065Z"
   },
   {
    "duration": 8,
    "start_time": "2022-04-30T18:32:11.380Z"
   },
   {
    "duration": 7,
    "start_time": "2022-04-30T18:34:01.044Z"
   },
   {
    "duration": 5,
    "start_time": "2022-04-30T18:34:14.094Z"
   },
   {
    "duration": 15,
    "start_time": "2022-04-30T18:34:36.516Z"
   },
   {
    "duration": 11,
    "start_time": "2022-04-30T18:40:56.028Z"
   },
   {
    "duration": 54,
    "start_time": "2022-04-30T18:40:58.523Z"
   },
   {
    "duration": 13,
    "start_time": "2022-04-30T18:42:27.212Z"
   },
   {
    "duration": 17,
    "start_time": "2022-04-30T18:42:59.218Z"
   },
   {
    "duration": 13,
    "start_time": "2022-04-30T18:43:15.728Z"
   },
   {
    "duration": 72,
    "start_time": "2022-04-30T18:47:38.470Z"
   },
   {
    "duration": 11,
    "start_time": "2022-04-30T18:48:29.466Z"
   },
   {
    "duration": 13,
    "start_time": "2022-04-30T18:49:01.415Z"
   },
   {
    "duration": 4,
    "start_time": "2022-04-30T18:49:04.958Z"
   },
   {
    "duration": 4,
    "start_time": "2022-04-30T18:49:06.676Z"
   },
   {
    "duration": 18,
    "start_time": "2022-04-30T18:49:14.217Z"
   },
   {
    "duration": 12,
    "start_time": "2022-04-30T18:49:18.678Z"
   },
   {
    "duration": 6,
    "start_time": "2022-04-30T18:49:47.955Z"
   },
   {
    "duration": 5,
    "start_time": "2022-04-30T18:49:55.131Z"
   },
   {
    "duration": 14,
    "start_time": "2022-04-30T18:51:28.067Z"
   },
   {
    "duration": 7,
    "start_time": "2022-04-30T18:52:22.759Z"
   },
   {
    "duration": 4,
    "start_time": "2022-04-30T18:52:32.060Z"
   },
   {
    "duration": 13,
    "start_time": "2022-04-30T18:52:35.174Z"
   },
   {
    "duration": 13,
    "start_time": "2022-04-30T18:56:18.539Z"
   },
   {
    "duration": 4,
    "start_time": "2022-04-30T18:57:59.033Z"
   },
   {
    "duration": 4,
    "start_time": "2022-04-30T18:58:00.591Z"
   },
   {
    "duration": 11,
    "start_time": "2022-04-30T18:58:01.888Z"
   },
   {
    "duration": 12,
    "start_time": "2022-04-30T18:58:07.268Z"
   },
   {
    "duration": 109,
    "start_time": "2022-05-01T04:55:25.878Z"
   },
   {
    "duration": 68,
    "start_time": "2022-05-01T04:55:31.202Z"
   },
   {
    "duration": 9,
    "start_time": "2022-05-01T04:55:47.015Z"
   },
   {
    "duration": 460,
    "start_time": "2022-05-01T04:55:50.897Z"
   },
   {
    "duration": 105,
    "start_time": "2022-05-01T04:55:51.360Z"
   },
   {
    "duration": 49,
    "start_time": "2022-05-01T04:55:51.467Z"
   },
   {
    "duration": 37,
    "start_time": "2022-05-01T04:55:51.517Z"
   },
   {
    "duration": 6,
    "start_time": "2022-05-01T04:55:51.557Z"
   },
   {
    "duration": 114,
    "start_time": "2022-05-01T04:55:51.565Z"
   },
   {
    "duration": 12,
    "start_time": "2022-05-01T04:55:51.681Z"
   },
   {
    "duration": 13,
    "start_time": "2022-05-01T04:55:51.695Z"
   },
   {
    "duration": 6,
    "start_time": "2022-05-01T04:55:51.711Z"
   },
   {
    "duration": 33,
    "start_time": "2022-05-01T04:55:51.719Z"
   },
   {
    "duration": 14,
    "start_time": "2022-05-01T04:55:51.754Z"
   },
   {
    "duration": 8,
    "start_time": "2022-05-01T04:55:51.771Z"
   },
   {
    "duration": 10,
    "start_time": "2022-05-01T04:55:51.781Z"
   },
   {
    "duration": 6,
    "start_time": "2022-05-01T04:55:51.795Z"
   },
   {
    "duration": 51,
    "start_time": "2022-05-01T04:55:51.803Z"
   },
   {
    "duration": 9,
    "start_time": "2022-05-01T04:55:51.857Z"
   },
   {
    "duration": 5,
    "start_time": "2022-05-01T04:55:51.868Z"
   },
   {
    "duration": 8,
    "start_time": "2022-05-01T04:55:51.875Z"
   },
   {
    "duration": 12,
    "start_time": "2022-05-01T04:55:51.885Z"
   },
   {
    "duration": 8,
    "start_time": "2022-05-01T04:55:51.899Z"
   },
   {
    "duration": 45,
    "start_time": "2022-05-01T04:55:51.909Z"
   },
   {
    "duration": 7,
    "start_time": "2022-05-01T04:55:51.956Z"
   },
   {
    "duration": 16,
    "start_time": "2022-05-01T04:56:05.743Z"
   },
   {
    "duration": 35,
    "start_time": "2022-05-01T05:00:46.199Z"
   },
   {
    "duration": 33,
    "start_time": "2022-05-01T05:01:57.772Z"
   },
   {
    "duration": 11,
    "start_time": "2022-05-01T05:03:55.378Z"
   },
   {
    "duration": 41,
    "start_time": "2022-05-01T05:05:35.446Z"
   },
   {
    "duration": 11,
    "start_time": "2022-05-01T05:05:41.085Z"
   },
   {
    "duration": 9,
    "start_time": "2022-05-01T05:06:06.265Z"
   },
   {
    "duration": 9,
    "start_time": "2022-05-01T05:06:09.948Z"
   },
   {
    "duration": 11,
    "start_time": "2022-05-01T05:06:40.828Z"
   },
   {
    "duration": 12,
    "start_time": "2022-05-01T05:16:31.509Z"
   },
   {
    "duration": 17,
    "start_time": "2022-05-01T05:29:26.588Z"
   },
   {
    "duration": 6,
    "start_time": "2022-05-01T05:29:41.324Z"
   },
   {
    "duration": 11,
    "start_time": "2022-05-01T05:31:34.057Z"
   },
   {
    "duration": 3,
    "start_time": "2022-05-01T05:38:18.759Z"
   },
   {
    "duration": 6,
    "start_time": "2022-05-01T05:41:03.743Z"
   },
   {
    "duration": 12,
    "start_time": "2022-05-01T05:41:16.204Z"
   },
   {
    "duration": 6,
    "start_time": "2022-05-01T05:42:13.127Z"
   },
   {
    "duration": 11,
    "start_time": "2022-05-01T05:42:23.340Z"
   },
   {
    "duration": 11,
    "start_time": "2022-05-01T05:44:26.531Z"
   },
   {
    "duration": 12,
    "start_time": "2022-05-01T05:44:36.427Z"
   },
   {
    "duration": 12,
    "start_time": "2022-05-01T05:50:05.060Z"
   },
   {
    "duration": 12,
    "start_time": "2022-05-01T06:07:16.298Z"
   },
   {
    "duration": 11,
    "start_time": "2022-05-01T06:07:32.820Z"
   },
   {
    "duration": 58,
    "start_time": "2022-05-01T06:09:56.856Z"
   },
   {
    "duration": 46,
    "start_time": "2022-05-01T06:17:18.623Z"
   },
   {
    "duration": 3,
    "start_time": "2022-05-01T06:18:20.816Z"
   },
   {
    "duration": 3,
    "start_time": "2022-05-01T06:18:36.804Z"
   },
   {
    "duration": 4,
    "start_time": "2022-05-01T06:18:41.005Z"
   },
   {
    "duration": 98,
    "start_time": "2022-05-01T06:18:41.011Z"
   },
   {
    "duration": 47,
    "start_time": "2022-05-01T06:18:41.112Z"
   },
   {
    "duration": 4,
    "start_time": "2022-05-01T06:18:41.161Z"
   },
   {
    "duration": 8,
    "start_time": "2022-05-01T06:18:41.168Z"
   },
   {
    "duration": 23,
    "start_time": "2022-05-01T06:18:41.178Z"
   },
   {
    "duration": 5,
    "start_time": "2022-05-01T06:18:41.203Z"
   },
   {
    "duration": 124,
    "start_time": "2022-05-01T06:18:41.211Z"
   },
   {
    "duration": 25,
    "start_time": "2022-05-01T06:18:41.337Z"
   },
   {
    "duration": 12,
    "start_time": "2022-05-01T06:18:41.364Z"
   },
   {
    "duration": 6,
    "start_time": "2022-05-01T06:18:41.380Z"
   },
   {
    "duration": 4,
    "start_time": "2022-05-01T06:18:41.389Z"
   },
   {
    "duration": 6,
    "start_time": "2022-05-01T06:18:41.396Z"
   },
   {
    "duration": 52,
    "start_time": "2022-05-01T06:18:41.404Z"
   },
   {
    "duration": 11,
    "start_time": "2022-05-01T06:18:41.458Z"
   },
   {
    "duration": 6,
    "start_time": "2022-05-01T06:18:41.471Z"
   },
   {
    "duration": 17,
    "start_time": "2022-05-01T06:18:41.479Z"
   },
   {
    "duration": 8,
    "start_time": "2022-05-01T06:18:41.498Z"
   },
   {
    "duration": 5,
    "start_time": "2022-05-01T06:18:41.508Z"
   },
   {
    "duration": 6,
    "start_time": "2022-05-01T06:18:41.551Z"
   },
   {
    "duration": 8,
    "start_time": "2022-05-01T06:18:41.560Z"
   },
   {
    "duration": 8,
    "start_time": "2022-05-01T06:18:41.570Z"
   },
   {
    "duration": 7,
    "start_time": "2022-05-01T06:18:41.580Z"
   },
   {
    "duration": 5,
    "start_time": "2022-05-01T06:18:41.589Z"
   },
   {
    "duration": 11,
    "start_time": "2022-05-01T06:18:41.596Z"
   },
   {
    "duration": 12,
    "start_time": "2022-05-01T06:18:41.651Z"
   },
   {
    "duration": 11,
    "start_time": "2022-05-01T06:18:41.665Z"
   },
   {
    "duration": 5,
    "start_time": "2022-05-01T06:18:41.678Z"
   },
   {
    "duration": 5,
    "start_time": "2022-05-01T06:18:41.688Z"
   },
   {
    "duration": 12,
    "start_time": "2022-05-01T06:18:41.695Z"
   },
   {
    "duration": 70,
    "start_time": "2022-05-01T06:18:41.709Z"
   },
   {
    "duration": 11,
    "start_time": "2022-05-01T06:18:41.781Z"
   },
   {
    "duration": 12,
    "start_time": "2022-05-01T06:18:41.794Z"
   },
   {
    "duration": 47,
    "start_time": "2022-05-01T06:18:41.808Z"
   },
   {
    "duration": 19,
    "start_time": "2022-05-01T06:18:41.857Z"
   },
   {
    "duration": 11,
    "start_time": "2022-05-01T06:18:41.878Z"
   },
   {
    "duration": 24,
    "start_time": "2022-05-01T06:18:41.891Z"
   },
   {
    "duration": 11,
    "start_time": "2022-05-01T06:18:41.918Z"
   },
   {
    "duration": 21,
    "start_time": "2022-05-01T06:18:41.931Z"
   },
   {
    "duration": 36,
    "start_time": "2022-05-01T06:18:41.954Z"
   },
   {
    "duration": 29,
    "start_time": "2022-05-01T06:40:15.282Z"
   },
   {
    "duration": 7,
    "start_time": "2022-05-01T06:42:59.340Z"
   },
   {
    "duration": 11,
    "start_time": "2022-05-01T06:43:06.756Z"
   },
   {
    "duration": 5,
    "start_time": "2022-05-01T06:45:16.697Z"
   },
   {
    "duration": 4,
    "start_time": "2022-05-01T06:45:26.979Z"
   },
   {
    "duration": 94,
    "start_time": "2022-05-01T06:45:26.987Z"
   },
   {
    "duration": 24,
    "start_time": "2022-05-01T06:45:27.084Z"
   },
   {
    "duration": 6,
    "start_time": "2022-05-01T06:45:27.111Z"
   },
   {
    "duration": 31,
    "start_time": "2022-05-01T06:45:27.121Z"
   },
   {
    "duration": 23,
    "start_time": "2022-05-01T06:45:27.154Z"
   },
   {
    "duration": 6,
    "start_time": "2022-05-01T06:45:27.180Z"
   },
   {
    "duration": 129,
    "start_time": "2022-05-01T06:45:27.189Z"
   },
   {
    "duration": 41,
    "start_time": "2022-05-01T06:45:27.321Z"
   },
   {
    "duration": 15,
    "start_time": "2022-05-01T06:45:27.364Z"
   },
   {
    "duration": 7,
    "start_time": "2022-05-01T06:45:27.382Z"
   },
   {
    "duration": 7,
    "start_time": "2022-05-01T06:45:27.392Z"
   },
   {
    "duration": 10,
    "start_time": "2022-05-01T06:45:27.401Z"
   },
   {
    "duration": 7,
    "start_time": "2022-05-01T06:45:27.456Z"
   },
   {
    "duration": 13,
    "start_time": "2022-05-01T06:45:27.466Z"
   },
   {
    "duration": 8,
    "start_time": "2022-05-01T06:45:27.481Z"
   },
   {
    "duration": 12,
    "start_time": "2022-05-01T06:45:27.491Z"
   },
   {
    "duration": 51,
    "start_time": "2022-05-01T06:45:27.505Z"
   },
   {
    "duration": 8,
    "start_time": "2022-05-01T06:45:27.558Z"
   },
   {
    "duration": 9,
    "start_time": "2022-05-01T06:45:27.568Z"
   },
   {
    "duration": 12,
    "start_time": "2022-05-01T06:45:27.579Z"
   },
   {
    "duration": 15,
    "start_time": "2022-05-01T06:45:27.593Z"
   },
   {
    "duration": 17,
    "start_time": "2022-05-01T06:45:27.610Z"
   },
   {
    "duration": 27,
    "start_time": "2022-05-01T06:45:27.629Z"
   },
   {
    "duration": 11,
    "start_time": "2022-05-01T06:45:27.659Z"
   },
   {
    "duration": 13,
    "start_time": "2022-05-01T06:45:27.673Z"
   },
   {
    "duration": 20,
    "start_time": "2022-05-01T06:45:27.688Z"
   },
   {
    "duration": 41,
    "start_time": "2022-05-01T06:45:27.711Z"
   },
   {
    "duration": 7,
    "start_time": "2022-05-01T06:45:27.754Z"
   },
   {
    "duration": 13,
    "start_time": "2022-05-01T06:45:27.763Z"
   },
   {
    "duration": 30,
    "start_time": "2022-05-01T06:45:27.778Z"
   },
   {
    "duration": 45,
    "start_time": "2022-05-01T06:45:27.810Z"
   },
   {
    "duration": 12,
    "start_time": "2022-05-01T06:45:27.857Z"
   },
   {
    "duration": 11,
    "start_time": "2022-05-01T06:45:27.871Z"
   },
   {
    "duration": 10,
    "start_time": "2022-05-01T06:45:27.884Z"
   },
   {
    "duration": 59,
    "start_time": "2022-05-01T06:45:27.896Z"
   },
   {
    "duration": 10,
    "start_time": "2022-05-01T06:45:27.957Z"
   },
   {
    "duration": 6,
    "start_time": "2022-05-01T06:45:27.969Z"
   },
   {
    "duration": 5,
    "start_time": "2022-05-01T06:45:27.977Z"
   },
   {
    "duration": 5,
    "start_time": "2022-05-01T06:45:27.985Z"
   },
   {
    "duration": 7,
    "start_time": "2022-05-01T06:45:27.996Z"
   },
   {
    "duration": 72,
    "start_time": "2022-05-01T06:45:28.005Z"
   },
   {
    "duration": 18,
    "start_time": "2022-05-01T06:47:47.782Z"
   },
   {
    "duration": 6,
    "start_time": "2022-05-01T06:49:24.315Z"
   },
   {
    "duration": 5,
    "start_time": "2022-05-01T06:49:38.796Z"
   },
   {
    "duration": 20,
    "start_time": "2022-05-01T06:49:57.216Z"
   },
   {
    "duration": 5,
    "start_time": "2022-05-01T06:56:02.190Z"
   },
   {
    "duration": 92,
    "start_time": "2022-05-01T06:56:27.155Z"
   },
   {
    "duration": 20,
    "start_time": "2022-05-01T07:01:19.684Z"
   },
   {
    "duration": 16,
    "start_time": "2022-05-01T07:02:19.411Z"
   },
   {
    "duration": 1258,
    "start_time": "2022-05-01T07:03:30.161Z"
   },
   {
    "duration": 16,
    "start_time": "2022-05-01T07:07:48.254Z"
   },
   {
    "duration": 67,
    "start_time": "2022-05-01T07:10:14.420Z"
   },
   {
    "duration": 6,
    "start_time": "2022-05-01T07:10:22.066Z"
   },
   {
    "duration": 6,
    "start_time": "2022-05-01T07:10:54.253Z"
   },
   {
    "duration": 27,
    "start_time": "2022-05-01T07:11:51.381Z"
   },
   {
    "duration": 12,
    "start_time": "2022-05-01T07:31:23.445Z"
   },
   {
    "duration": 11,
    "start_time": "2022-05-01T07:31:32.401Z"
   },
   {
    "duration": 13,
    "start_time": "2022-05-01T07:31:36.023Z"
   },
   {
    "duration": 12,
    "start_time": "2022-05-01T08:15:09.042Z"
   },
   {
    "duration": 284,
    "start_time": "2022-05-01T08:16:11.931Z"
   },
   {
    "duration": 303,
    "start_time": "2022-05-01T08:16:29.668Z"
   },
   {
    "duration": 11,
    "start_time": "2022-05-01T08:23:50.537Z"
   },
   {
    "duration": 377,
    "start_time": "2022-05-01T08:23:58.659Z"
   },
   {
    "duration": 473,
    "start_time": "2022-05-01T08:24:08.964Z"
   },
   {
    "duration": 455,
    "start_time": "2022-05-01T08:24:51.636Z"
   },
   {
    "duration": 445,
    "start_time": "2022-05-01T08:24:58.218Z"
   },
   {
    "duration": 409,
    "start_time": "2022-05-01T08:25:05.222Z"
   },
   {
    "duration": 319,
    "start_time": "2022-05-01T08:25:48.642Z"
   },
   {
    "duration": 319,
    "start_time": "2022-05-01T08:25:57.597Z"
   },
   {
    "duration": 309,
    "start_time": "2022-05-01T08:26:05.224Z"
   },
   {
    "duration": 15,
    "start_time": "2022-05-01T08:28:11.565Z"
   },
   {
    "duration": 12,
    "start_time": "2022-05-01T08:28:15.534Z"
   },
   {
    "duration": 14,
    "start_time": "2022-05-01T08:28:19.890Z"
   },
   {
    "duration": 385,
    "start_time": "2022-05-01T08:28:25.134Z"
   },
   {
    "duration": 367,
    "start_time": "2022-05-01T08:34:50.165Z"
   },
   {
    "duration": 330,
    "start_time": "2022-05-01T08:34:58.406Z"
   },
   {
    "duration": 305,
    "start_time": "2022-05-01T08:35:36.429Z"
   },
   {
    "duration": 345,
    "start_time": "2022-05-01T08:35:49.156Z"
   },
   {
    "duration": 330,
    "start_time": "2022-05-01T08:36:01.734Z"
   },
   {
    "duration": 486,
    "start_time": "2022-05-01T08:36:18.465Z"
   },
   {
    "duration": 336,
    "start_time": "2022-05-01T08:36:26.329Z"
   },
   {
    "duration": 345,
    "start_time": "2022-05-01T08:36:35.959Z"
   },
   {
    "duration": 295,
    "start_time": "2022-05-01T08:36:47.774Z"
   },
   {
    "duration": 292,
    "start_time": "2022-05-01T08:48:10.627Z"
   },
   {
    "duration": 11,
    "start_time": "2022-05-01T08:48:34.037Z"
   },
   {
    "duration": 299,
    "start_time": "2022-05-01T08:49:21.773Z"
   },
   {
    "duration": 299,
    "start_time": "2022-05-01T08:50:02.216Z"
   },
   {
    "duration": 298,
    "start_time": "2022-05-01T08:50:09.491Z"
   },
   {
    "duration": 351,
    "start_time": "2022-05-01T08:50:16.130Z"
   },
   {
    "duration": 315,
    "start_time": "2022-05-01T08:50:50.280Z"
   },
   {
    "duration": 292,
    "start_time": "2022-05-01T08:51:00.103Z"
   },
   {
    "duration": 470,
    "start_time": "2022-05-01T08:52:22.064Z"
   },
   {
    "duration": 298,
    "start_time": "2022-05-01T08:52:31.578Z"
   },
   {
    "duration": 505,
    "start_time": "2022-05-01T08:52:38.801Z"
   },
   {
    "duration": 357,
    "start_time": "2022-05-01T08:52:46.274Z"
   },
   {
    "duration": 303,
    "start_time": "2022-05-01T08:52:56.296Z"
   },
   {
    "duration": 10,
    "start_time": "2022-05-01T08:53:37.173Z"
   },
   {
    "duration": 321,
    "start_time": "2022-05-01T08:54:28.347Z"
   },
   {
    "duration": 318,
    "start_time": "2022-05-01T08:54:37.211Z"
   },
   {
    "duration": 326,
    "start_time": "2022-05-01T08:54:52.033Z"
   },
   {
    "duration": 239,
    "start_time": "2022-05-01T08:54:57.461Z"
   },
   {
    "duration": 379,
    "start_time": "2022-05-01T08:55:01.936Z"
   },
   {
    "duration": 279,
    "start_time": "2022-05-01T08:55:07.390Z"
   },
   {
    "duration": 264,
    "start_time": "2022-05-01T08:55:41.873Z"
   },
   {
    "duration": 254,
    "start_time": "2022-05-01T08:55:55.511Z"
   },
   {
    "duration": 240,
    "start_time": "2022-05-01T08:55:59.671Z"
   },
   {
    "duration": 242,
    "start_time": "2022-05-01T08:56:04.468Z"
   },
   {
    "duration": 263,
    "start_time": "2022-05-01T08:56:10.838Z"
   },
   {
    "duration": 272,
    "start_time": "2022-05-01T08:56:15.618Z"
   },
   {
    "duration": 262,
    "start_time": "2022-05-01T08:56:25.975Z"
   },
   {
    "duration": 249,
    "start_time": "2022-05-01T08:56:30.483Z"
   },
   {
    "duration": 247,
    "start_time": "2022-05-01T08:56:36.177Z"
   },
   {
    "duration": 349,
    "start_time": "2022-05-01T08:57:16.388Z"
   },
   {
    "duration": 254,
    "start_time": "2022-05-01T08:57:54.117Z"
   },
   {
    "duration": 11,
    "start_time": "2022-05-01T08:59:09.121Z"
   },
   {
    "duration": 302,
    "start_time": "2022-05-01T08:59:31.196Z"
   },
   {
    "duration": 322,
    "start_time": "2022-05-01T08:59:40.125Z"
   },
   {
    "duration": 303,
    "start_time": "2022-05-01T08:59:44.774Z"
   },
   {
    "duration": 281,
    "start_time": "2022-05-01T08:59:53.730Z"
   },
   {
    "duration": 293,
    "start_time": "2022-05-01T09:00:00.272Z"
   },
   {
    "duration": 266,
    "start_time": "2022-05-01T09:00:07.829Z"
   },
   {
    "duration": 258,
    "start_time": "2022-05-01T09:00:31.781Z"
   },
   {
    "duration": 257,
    "start_time": "2022-05-01T09:00:35.722Z"
   },
   {
    "duration": 1738,
    "start_time": "2022-05-01T09:01:34.485Z"
   },
   {
    "duration": 255,
    "start_time": "2022-05-01T09:02:10.672Z"
   },
   {
    "duration": 248,
    "start_time": "2022-05-01T10:57:56.845Z"
   },
   {
    "duration": 10,
    "start_time": "2022-05-01T10:57:58.955Z"
   },
   {
    "duration": 251,
    "start_time": "2022-05-01T10:58:10.988Z"
   },
   {
    "duration": 456,
    "start_time": "2022-05-01T10:58:21.801Z"
   },
   {
    "duration": 290,
    "start_time": "2022-05-01T10:58:31.984Z"
   },
   {
    "duration": 315,
    "start_time": "2022-05-01T10:58:43.365Z"
   },
   {
    "duration": 329,
    "start_time": "2022-05-01T11:00:31.749Z"
   },
   {
    "duration": 390,
    "start_time": "2022-05-01T11:00:42.777Z"
   },
   {
    "duration": 334,
    "start_time": "2022-05-01T11:01:00.710Z"
   },
   {
    "duration": 341,
    "start_time": "2022-05-01T11:01:52.676Z"
   },
   {
    "duration": 283,
    "start_time": "2022-05-01T11:04:43.741Z"
   },
   {
    "duration": 197,
    "start_time": "2022-05-01T11:04:58.467Z"
   },
   {
    "duration": 197,
    "start_time": "2022-05-01T11:05:06.415Z"
   },
   {
    "duration": 4,
    "start_time": "2022-05-01T11:18:12.726Z"
   },
   {
    "duration": 98,
    "start_time": "2022-05-01T11:18:12.733Z"
   },
   {
    "duration": 37,
    "start_time": "2022-05-01T11:18:12.833Z"
   },
   {
    "duration": 5,
    "start_time": "2022-05-01T11:18:12.873Z"
   },
   {
    "duration": 6,
    "start_time": "2022-05-01T11:18:12.880Z"
   },
   {
    "duration": 22,
    "start_time": "2022-05-01T11:18:12.888Z"
   },
   {
    "duration": 42,
    "start_time": "2022-05-01T11:18:12.913Z"
   },
   {
    "duration": 108,
    "start_time": "2022-05-01T11:18:12.957Z"
   },
   {
    "duration": 12,
    "start_time": "2022-05-01T11:18:13.068Z"
   },
   {
    "duration": 11,
    "start_time": "2022-05-01T11:18:13.082Z"
   },
   {
    "duration": 6,
    "start_time": "2022-05-01T11:18:13.095Z"
   },
   {
    "duration": 6,
    "start_time": "2022-05-01T11:18:13.103Z"
   },
   {
    "duration": 43,
    "start_time": "2022-05-01T11:18:13.111Z"
   },
   {
    "duration": 11,
    "start_time": "2022-05-01T11:18:13.156Z"
   },
   {
    "duration": 11,
    "start_time": "2022-05-01T11:18:13.170Z"
   },
   {
    "duration": 7,
    "start_time": "2022-05-01T11:18:13.184Z"
   },
   {
    "duration": 10,
    "start_time": "2022-05-01T11:18:13.193Z"
   },
   {
    "duration": 47,
    "start_time": "2022-05-01T11:18:13.206Z"
   },
   {
    "duration": 7,
    "start_time": "2022-05-01T11:18:13.255Z"
   },
   {
    "duration": 9,
    "start_time": "2022-05-01T11:18:13.264Z"
   },
   {
    "duration": 14,
    "start_time": "2022-05-01T11:18:13.275Z"
   },
   {
    "duration": 9,
    "start_time": "2022-05-01T11:18:13.291Z"
   },
   {
    "duration": 8,
    "start_time": "2022-05-01T11:18:13.302Z"
   },
   {
    "duration": 39,
    "start_time": "2022-05-01T11:18:13.316Z"
   },
   {
    "duration": 16,
    "start_time": "2022-05-01T11:18:13.357Z"
   },
   {
    "duration": 11,
    "start_time": "2022-05-01T11:18:13.375Z"
   },
   {
    "duration": 10,
    "start_time": "2022-05-01T11:18:13.389Z"
   },
   {
    "duration": 6,
    "start_time": "2022-05-01T11:18:13.401Z"
   },
   {
    "duration": 47,
    "start_time": "2022-05-01T11:18:13.408Z"
   },
   {
    "duration": 16,
    "start_time": "2022-05-01T11:18:13.457Z"
   },
   {
    "duration": 31,
    "start_time": "2022-05-01T11:18:13.475Z"
   },
   {
    "duration": 10,
    "start_time": "2022-05-01T11:18:13.508Z"
   },
   {
    "duration": 33,
    "start_time": "2022-05-01T11:18:13.520Z"
   },
   {
    "duration": 11,
    "start_time": "2022-05-01T11:18:13.555Z"
   },
   {
    "duration": 10,
    "start_time": "2022-05-01T11:18:13.568Z"
   },
   {
    "duration": 18,
    "start_time": "2022-05-01T11:18:13.580Z"
   },
   {
    "duration": 10,
    "start_time": "2022-05-01T11:18:13.600Z"
   },
   {
    "duration": 7,
    "start_time": "2022-05-01T11:18:13.651Z"
   },
   {
    "duration": 5,
    "start_time": "2022-05-01T11:18:13.660Z"
   },
   {
    "duration": 6,
    "start_time": "2022-05-01T11:18:13.667Z"
   },
   {
    "duration": 5,
    "start_time": "2022-05-01T11:18:13.675Z"
   },
   {
    "duration": 10,
    "start_time": "2022-05-01T11:18:13.682Z"
   },
   {
    "duration": 8,
    "start_time": "2022-05-01T11:18:13.694Z"
   },
   {
    "duration": 52,
    "start_time": "2022-05-01T11:18:13.704Z"
   },
   {
    "duration": 27,
    "start_time": "2022-05-01T11:18:13.758Z"
   },
   {
    "duration": 5,
    "start_time": "2022-05-01T11:18:13.787Z"
   },
   {
    "duration": 19,
    "start_time": "2022-05-01T11:18:13.794Z"
   },
   {
    "duration": 45,
    "start_time": "2022-05-01T11:18:13.815Z"
   },
   {
    "duration": 5,
    "start_time": "2022-05-01T11:18:13.862Z"
   },
   {
    "duration": 6,
    "start_time": "2022-05-01T11:18:13.869Z"
   },
   {
    "duration": 27,
    "start_time": "2022-05-01T11:18:13.877Z"
   },
   {
    "duration": 12,
    "start_time": "2022-05-01T11:18:13.906Z"
   },
   {
    "duration": 364,
    "start_time": "2022-05-01T11:18:13.920Z"
   },
   {
    "duration": 12,
    "start_time": "2022-05-01T11:18:14.287Z"
   },
   {
    "duration": 342,
    "start_time": "2022-05-01T11:18:14.300Z"
   },
   {
    "duration": 14,
    "start_time": "2022-05-01T11:18:14.644Z"
   },
   {
    "duration": 280,
    "start_time": "2022-05-01T11:18:14.660Z"
   },
   {
    "duration": 15,
    "start_time": "2022-05-01T11:18:14.942Z"
   },
   {
    "duration": 270,
    "start_time": "2022-05-01T11:18:14.959Z"
   },
   {
    "duration": 345,
    "start_time": "2022-05-01T11:18:15.231Z"
   },
   {
    "duration": 10,
    "start_time": "2022-05-01T11:18:15.578Z"
   },
   {
    "duration": 222,
    "start_time": "2022-05-01T11:18:15.590Z"
   },
   {
    "duration": 7,
    "start_time": "2022-05-01T11:18:39.353Z"
   },
   {
    "duration": 7,
    "start_time": "2022-05-01T11:18:42.593Z"
   },
   {
    "duration": 7,
    "start_time": "2022-05-01T11:18:45.333Z"
   },
   {
    "duration": 11,
    "start_time": "2022-05-01T11:18:47.042Z"
   },
   {
    "duration": 7,
    "start_time": "2022-05-01T11:18:48.068Z"
   },
   {
    "duration": 11,
    "start_time": "2022-05-01T11:19:13.473Z"
   },
   {
    "duration": 11,
    "start_time": "2022-05-01T11:19:28.379Z"
   },
   {
    "duration": 7,
    "start_time": "2022-05-01T11:19:29.740Z"
   },
   {
    "duration": 446,
    "start_time": "2022-05-01T11:19:34.968Z"
   },
   {
    "duration": 322,
    "start_time": "2022-05-01T11:19:37.413Z"
   },
   {
    "duration": 10,
    "start_time": "2022-05-01T11:19:41.010Z"
   },
   {
    "duration": 6,
    "start_time": "2022-05-01T11:19:54.416Z"
   },
   {
    "duration": 4,
    "start_time": "2022-05-01T11:20:00.067Z"
   },
   {
    "duration": 104,
    "start_time": "2022-05-01T11:20:00.074Z"
   },
   {
    "duration": 23,
    "start_time": "2022-05-01T11:20:00.181Z"
   },
   {
    "duration": 6,
    "start_time": "2022-05-01T11:20:00.207Z"
   },
   {
    "duration": 37,
    "start_time": "2022-05-01T11:20:00.217Z"
   },
   {
    "duration": 29,
    "start_time": "2022-05-01T11:20:00.256Z"
   },
   {
    "duration": 6,
    "start_time": "2022-05-01T11:20:00.288Z"
   },
   {
    "duration": 137,
    "start_time": "2022-05-01T11:20:00.297Z"
   },
   {
    "duration": 26,
    "start_time": "2022-05-01T11:20:00.437Z"
   },
   {
    "duration": 21,
    "start_time": "2022-05-01T11:20:00.467Z"
   },
   {
    "duration": 107,
    "start_time": "2022-05-01T11:20:00.494Z"
   },
   {
    "duration": 20,
    "start_time": "2022-05-01T11:20:00.604Z"
   },
   {
    "duration": 30,
    "start_time": "2022-05-01T11:20:00.626Z"
   },
   {
    "duration": 27,
    "start_time": "2022-05-01T11:20:00.659Z"
   },
   {
    "duration": 31,
    "start_time": "2022-05-01T11:20:00.689Z"
   },
   {
    "duration": 29,
    "start_time": "2022-05-01T11:20:00.723Z"
   },
   {
    "duration": 33,
    "start_time": "2022-05-01T11:20:00.755Z"
   },
   {
    "duration": 23,
    "start_time": "2022-05-01T11:20:00.791Z"
   },
   {
    "duration": 16,
    "start_time": "2022-05-01T11:20:00.816Z"
   },
   {
    "duration": 17,
    "start_time": "2022-05-01T11:20:00.834Z"
   },
   {
    "duration": 21,
    "start_time": "2022-05-01T11:20:00.853Z"
   },
   {
    "duration": 34,
    "start_time": "2022-05-01T11:20:00.876Z"
   },
   {
    "duration": 26,
    "start_time": "2022-05-01T11:20:00.912Z"
   },
   {
    "duration": 12,
    "start_time": "2022-05-01T11:20:00.941Z"
   },
   {
    "duration": 26,
    "start_time": "2022-05-01T11:20:00.955Z"
   },
   {
    "duration": 14,
    "start_time": "2022-05-01T11:20:00.984Z"
   },
   {
    "duration": 16,
    "start_time": "2022-05-01T11:20:01.001Z"
   },
   {
    "duration": 28,
    "start_time": "2022-05-01T11:20:01.019Z"
   },
   {
    "duration": 15,
    "start_time": "2022-05-01T11:20:01.054Z"
   },
   {
    "duration": 36,
    "start_time": "2022-05-01T11:20:01.071Z"
   },
   {
    "duration": 49,
    "start_time": "2022-05-01T11:20:01.109Z"
   },
   {
    "duration": 26,
    "start_time": "2022-05-01T11:20:01.160Z"
   },
   {
    "duration": 22,
    "start_time": "2022-05-01T11:20:01.189Z"
   },
   {
    "duration": 13,
    "start_time": "2022-05-01T11:20:01.214Z"
   },
   {
    "duration": 21,
    "start_time": "2022-05-01T11:20:01.229Z"
   },
   {
    "duration": 26,
    "start_time": "2022-05-01T11:20:01.253Z"
   },
   {
    "duration": 12,
    "start_time": "2022-05-01T11:20:01.281Z"
   },
   {
    "duration": 18,
    "start_time": "2022-05-01T11:20:01.295Z"
   },
   {
    "duration": 15,
    "start_time": "2022-05-01T11:20:01.315Z"
   },
   {
    "duration": 12,
    "start_time": "2022-05-01T11:20:01.332Z"
   },
   {
    "duration": 11,
    "start_time": "2022-05-01T11:20:01.346Z"
   },
   {
    "duration": 18,
    "start_time": "2022-05-01T11:20:01.359Z"
   },
   {
    "duration": 7,
    "start_time": "2022-05-01T11:20:01.379Z"
   },
   {
    "duration": 30,
    "start_time": "2022-05-01T11:20:01.388Z"
   },
   {
    "duration": 41,
    "start_time": "2022-05-01T11:20:01.420Z"
   },
   {
    "duration": 5,
    "start_time": "2022-05-01T11:20:01.464Z"
   },
   {
    "duration": 21,
    "start_time": "2022-05-01T11:20:01.472Z"
   },
   {
    "duration": 13,
    "start_time": "2022-05-01T11:20:01.496Z"
   },
   {
    "duration": 5,
    "start_time": "2022-05-01T11:20:01.511Z"
   },
   {
    "duration": 43,
    "start_time": "2022-05-01T11:20:01.519Z"
   },
   {
    "duration": 42,
    "start_time": "2022-05-01T11:20:01.564Z"
   },
   {
    "duration": 19,
    "start_time": "2022-05-01T11:20:01.608Z"
   },
   {
    "duration": 316,
    "start_time": "2022-05-01T11:20:01.629Z"
   },
   {
    "duration": 14,
    "start_time": "2022-05-01T11:20:01.947Z"
   },
   {
    "duration": 338,
    "start_time": "2022-05-01T11:20:01.963Z"
   },
   {
    "duration": 11,
    "start_time": "2022-05-01T11:20:02.303Z"
   },
   {
    "duration": 279,
    "start_time": "2022-05-01T11:20:02.317Z"
   },
   {
    "duration": 13,
    "start_time": "2022-05-01T11:20:02.598Z"
   },
   {
    "duration": 286,
    "start_time": "2022-05-01T11:20:02.614Z"
   },
   {
    "duration": 338,
    "start_time": "2022-05-01T11:20:02.902Z"
   },
   {
    "duration": 15,
    "start_time": "2022-05-01T11:20:03.242Z"
   },
   {
    "duration": 219,
    "start_time": "2022-05-01T11:20:03.259Z"
   },
   {
    "duration": 4,
    "start_time": "2022-05-01T11:20:59.677Z"
   },
   {
    "duration": 9,
    "start_time": "2022-05-01T11:21:44.719Z"
   },
   {
    "duration": 6,
    "start_time": "2022-05-01T11:25:29.069Z"
   },
   {
    "duration": 7,
    "start_time": "2022-05-01T11:25:30.763Z"
   },
   {
    "duration": 9,
    "start_time": "2022-05-01T11:25:33.231Z"
   },
   {
    "duration": 9,
    "start_time": "2022-05-01T11:25:36.065Z"
   },
   {
    "duration": 6,
    "start_time": "2022-05-01T11:25:38.168Z"
   },
   {
    "duration": 9,
    "start_time": "2022-05-01T11:25:39.542Z"
   },
   {
    "duration": 20,
    "start_time": "2022-05-01T11:26:48.375Z"
   },
   {
    "duration": 9,
    "start_time": "2022-05-01T11:26:57.377Z"
   },
   {
    "duration": 8,
    "start_time": "2022-05-01T11:27:04.617Z"
   },
   {
    "duration": 9,
    "start_time": "2022-05-01T11:27:08.506Z"
   },
   {
    "duration": 5,
    "start_time": "2022-05-01T11:27:19.895Z"
   },
   {
    "duration": 98,
    "start_time": "2022-05-01T11:27:19.902Z"
   },
   {
    "duration": 23,
    "start_time": "2022-05-01T11:27:20.004Z"
   },
   {
    "duration": 10,
    "start_time": "2022-05-01T11:27:20.029Z"
   },
   {
    "duration": 9,
    "start_time": "2022-05-01T11:27:20.053Z"
   },
   {
    "duration": 24,
    "start_time": "2022-05-01T11:27:20.064Z"
   },
   {
    "duration": 5,
    "start_time": "2022-05-01T11:27:20.090Z"
   },
   {
    "duration": 110,
    "start_time": "2022-05-01T11:27:20.097Z"
   },
   {
    "duration": 12,
    "start_time": "2022-05-01T11:27:20.209Z"
   },
   {
    "duration": 37,
    "start_time": "2022-05-01T11:27:20.223Z"
   },
   {
    "duration": 8,
    "start_time": "2022-05-01T11:27:20.265Z"
   },
   {
    "duration": 8,
    "start_time": "2022-05-01T11:27:20.275Z"
   },
   {
    "duration": 10,
    "start_time": "2022-05-01T11:27:20.285Z"
   },
   {
    "duration": 61,
    "start_time": "2022-05-01T11:27:20.298Z"
   },
   {
    "duration": 17,
    "start_time": "2022-05-01T11:27:20.361Z"
   },
   {
    "duration": 8,
    "start_time": "2022-05-01T11:27:20.381Z"
   },
   {
    "duration": 19,
    "start_time": "2022-05-01T11:27:20.391Z"
   },
   {
    "duration": 44,
    "start_time": "2022-05-01T11:27:20.412Z"
   },
   {
    "duration": 26,
    "start_time": "2022-05-01T11:27:20.459Z"
   },
   {
    "duration": 8,
    "start_time": "2022-05-01T11:27:20.488Z"
   },
   {
    "duration": 16,
    "start_time": "2022-05-01T11:27:20.499Z"
   },
   {
    "duration": 37,
    "start_time": "2022-05-01T11:27:20.518Z"
   },
   {
    "duration": 14,
    "start_time": "2022-05-01T11:27:20.558Z"
   },
   {
    "duration": 9,
    "start_time": "2022-05-01T11:27:20.574Z"
   },
   {
    "duration": 6,
    "start_time": "2022-05-01T11:27:20.586Z"
   },
   {
    "duration": 13,
    "start_time": "2022-05-01T11:27:20.595Z"
   },
   {
    "duration": 48,
    "start_time": "2022-05-01T11:27:20.611Z"
   },
   {
    "duration": 15,
    "start_time": "2022-05-01T11:27:20.662Z"
   },
   {
    "duration": 6,
    "start_time": "2022-05-01T11:27:20.682Z"
   },
   {
    "duration": 7,
    "start_time": "2022-05-01T11:27:20.691Z"
   },
   {
    "duration": 53,
    "start_time": "2022-05-01T11:27:20.700Z"
   },
   {
    "duration": 30,
    "start_time": "2022-05-01T11:27:20.756Z"
   },
   {
    "duration": 7,
    "start_time": "2022-05-01T11:27:20.788Z"
   },
   {
    "duration": 16,
    "start_time": "2022-05-01T11:27:20.797Z"
   },
   {
    "duration": 46,
    "start_time": "2022-05-01T11:27:20.815Z"
   },
   {
    "duration": 12,
    "start_time": "2022-05-01T11:27:20.864Z"
   },
   {
    "duration": 17,
    "start_time": "2022-05-01T11:27:20.879Z"
   },
   {
    "duration": 54,
    "start_time": "2022-05-01T11:27:20.898Z"
   },
   {
    "duration": 10,
    "start_time": "2022-05-01T11:27:20.954Z"
   },
   {
    "duration": 10,
    "start_time": "2022-05-01T11:27:20.966Z"
   },
   {
    "duration": 8,
    "start_time": "2022-05-01T11:27:20.978Z"
   },
   {
    "duration": 6,
    "start_time": "2022-05-01T11:27:20.989Z"
   },
   {
    "duration": 5,
    "start_time": "2022-05-01T11:27:20.997Z"
   },
   {
    "duration": 7,
    "start_time": "2022-05-01T11:27:21.004Z"
   },
   {
    "duration": 55,
    "start_time": "2022-05-01T11:27:21.013Z"
   },
   {
    "duration": 29,
    "start_time": "2022-05-01T11:27:21.071Z"
   },
   {
    "duration": 5,
    "start_time": "2022-05-01T11:27:21.103Z"
   },
   {
    "duration": 51,
    "start_time": "2022-05-01T11:27:21.111Z"
   },
   {
    "duration": 16,
    "start_time": "2022-05-01T11:27:21.165Z"
   },
   {
    "duration": 6,
    "start_time": "2022-05-01T11:27:21.183Z"
   },
   {
    "duration": 10,
    "start_time": "2022-05-01T11:27:21.192Z"
   },
   {
    "duration": 56,
    "start_time": "2022-05-01T11:27:21.204Z"
   },
   {
    "duration": 14,
    "start_time": "2022-05-01T11:27:21.263Z"
   },
   {
    "duration": 452,
    "start_time": "2022-05-01T11:27:21.280Z"
   },
   {
    "duration": 21,
    "start_time": "2022-05-01T11:27:21.735Z"
   },
   {
    "duration": 350,
    "start_time": "2022-05-01T11:27:21.759Z"
   },
   {
    "duration": 11,
    "start_time": "2022-05-01T11:27:22.112Z"
   },
   {
    "duration": 290,
    "start_time": "2022-05-01T11:27:22.125Z"
   },
   {
    "duration": 13,
    "start_time": "2022-05-01T11:27:22.418Z"
   },
   {
    "duration": 268,
    "start_time": "2022-05-01T11:27:22.451Z"
   },
   {
    "duration": 319,
    "start_time": "2022-05-01T11:27:22.722Z"
   },
   {
    "duration": 17,
    "start_time": "2022-05-01T11:27:23.043Z"
   },
   {
    "duration": 221,
    "start_time": "2022-05-01T11:27:23.062Z"
   },
   {
    "duration": 3,
    "start_time": "2022-05-01T11:30:33.793Z"
   },
   {
    "duration": 4,
    "start_time": "2022-05-01T11:30:35.143Z"
   },
   {
    "duration": 318,
    "start_time": "2022-05-01T11:30:44.158Z"
   },
   {
    "duration": 12,
    "start_time": "2022-05-01T11:30:47.426Z"
   },
   {
    "duration": 4,
    "start_time": "2022-05-01T11:30:53.618Z"
   },
   {
    "duration": 135,
    "start_time": "2022-05-01T11:30:53.625Z"
   },
   {
    "duration": 26,
    "start_time": "2022-05-01T11:30:53.763Z"
   },
   {
    "duration": 8,
    "start_time": "2022-05-01T11:30:53.792Z"
   },
   {
    "duration": 8,
    "start_time": "2022-05-01T11:30:53.802Z"
   },
   {
    "duration": 56,
    "start_time": "2022-05-01T11:30:53.813Z"
   },
   {
    "duration": 8,
    "start_time": "2022-05-01T11:30:53.871Z"
   },
   {
    "duration": 122,
    "start_time": "2022-05-01T11:30:53.881Z"
   },
   {
    "duration": 20,
    "start_time": "2022-05-01T11:30:54.007Z"
   },
   {
    "duration": 33,
    "start_time": "2022-05-01T11:30:54.029Z"
   },
   {
    "duration": 14,
    "start_time": "2022-05-01T11:30:54.065Z"
   },
   {
    "duration": 8,
    "start_time": "2022-05-01T11:30:54.081Z"
   },
   {
    "duration": 8,
    "start_time": "2022-05-01T11:30:54.091Z"
   },
   {
    "duration": 8,
    "start_time": "2022-05-01T11:30:54.101Z"
   },
   {
    "duration": 55,
    "start_time": "2022-05-01T11:30:54.111Z"
   },
   {
    "duration": 11,
    "start_time": "2022-05-01T11:30:54.168Z"
   },
   {
    "duration": 10,
    "start_time": "2022-05-01T11:30:54.182Z"
   },
   {
    "duration": 8,
    "start_time": "2022-05-01T11:30:54.195Z"
   },
   {
    "duration": 4,
    "start_time": "2022-05-01T11:30:54.206Z"
   },
   {
    "duration": 40,
    "start_time": "2022-05-01T11:30:54.212Z"
   },
   {
    "duration": 37,
    "start_time": "2022-05-01T11:30:54.255Z"
   },
   {
    "duration": 9,
    "start_time": "2022-05-01T11:30:54.294Z"
   },
   {
    "duration": 8,
    "start_time": "2022-05-01T11:30:54.306Z"
   },
   {
    "duration": 5,
    "start_time": "2022-05-01T11:30:54.321Z"
   },
   {
    "duration": 28,
    "start_time": "2022-05-01T11:30:54.328Z"
   },
   {
    "duration": 16,
    "start_time": "2022-05-01T11:30:54.359Z"
   },
   {
    "duration": 17,
    "start_time": "2022-05-01T11:30:54.378Z"
   },
   {
    "duration": 6,
    "start_time": "2022-05-01T11:30:54.398Z"
   },
   {
    "duration": 6,
    "start_time": "2022-05-01T11:30:54.407Z"
   },
   {
    "duration": 50,
    "start_time": "2022-05-01T11:30:54.415Z"
   },
   {
    "duration": 44,
    "start_time": "2022-05-01T11:30:54.468Z"
   },
   {
    "duration": 7,
    "start_time": "2022-05-01T11:30:54.515Z"
   },
   {
    "duration": 18,
    "start_time": "2022-05-01T11:30:54.560Z"
   },
   {
    "duration": 11,
    "start_time": "2022-05-01T11:30:54.580Z"
   },
   {
    "duration": 12,
    "start_time": "2022-05-01T11:30:54.593Z"
   },
   {
    "duration": 57,
    "start_time": "2022-05-01T11:30:54.606Z"
   },
   {
    "duration": 19,
    "start_time": "2022-05-01T11:30:54.665Z"
   },
   {
    "duration": 10,
    "start_time": "2022-05-01T11:30:54.687Z"
   },
   {
    "duration": 6,
    "start_time": "2022-05-01T11:30:54.699Z"
   },
   {
    "duration": 55,
    "start_time": "2022-05-01T11:30:54.708Z"
   },
   {
    "duration": 0,
    "start_time": "2022-05-01T11:30:54.766Z"
   },
   {
    "duration": 0,
    "start_time": "2022-05-01T11:30:54.768Z"
   },
   {
    "duration": 0,
    "start_time": "2022-05-01T11:30:54.770Z"
   },
   {
    "duration": 0,
    "start_time": "2022-05-01T11:30:54.771Z"
   },
   {
    "duration": 0,
    "start_time": "2022-05-01T11:30:54.773Z"
   },
   {
    "duration": 0,
    "start_time": "2022-05-01T11:30:54.775Z"
   },
   {
    "duration": 0,
    "start_time": "2022-05-01T11:30:54.776Z"
   },
   {
    "duration": 0,
    "start_time": "2022-05-01T11:30:54.778Z"
   },
   {
    "duration": 0,
    "start_time": "2022-05-01T11:30:54.783Z"
   },
   {
    "duration": 0,
    "start_time": "2022-05-01T11:30:54.784Z"
   },
   {
    "duration": 0,
    "start_time": "2022-05-01T11:30:54.787Z"
   },
   {
    "duration": 0,
    "start_time": "2022-05-01T11:30:54.789Z"
   },
   {
    "duration": 0,
    "start_time": "2022-05-01T11:30:54.791Z"
   },
   {
    "duration": 0,
    "start_time": "2022-05-01T11:30:54.794Z"
   },
   {
    "duration": 0,
    "start_time": "2022-05-01T11:30:54.796Z"
   },
   {
    "duration": 0,
    "start_time": "2022-05-01T11:30:54.798Z"
   },
   {
    "duration": 0,
    "start_time": "2022-05-01T11:30:54.800Z"
   },
   {
    "duration": 0,
    "start_time": "2022-05-01T11:30:54.857Z"
   },
   {
    "duration": 0,
    "start_time": "2022-05-01T11:30:54.861Z"
   },
   {
    "duration": 0,
    "start_time": "2022-05-01T11:30:54.866Z"
   },
   {
    "duration": 0,
    "start_time": "2022-05-01T11:30:54.869Z"
   },
   {
    "duration": 0,
    "start_time": "2022-05-01T11:30:54.871Z"
   },
   {
    "duration": 364,
    "start_time": "2022-05-01T11:31:03.128Z"
   },
   {
    "duration": 12,
    "start_time": "2022-05-01T11:31:09.227Z"
   },
   {
    "duration": 200,
    "start_time": "2022-05-01T11:32:11.510Z"
   },
   {
    "duration": 419,
    "start_time": "2022-05-01T11:32:21.563Z"
   },
   {
    "duration": 4,
    "start_time": "2022-05-01T11:32:25.275Z"
   },
   {
    "duration": 106,
    "start_time": "2022-05-01T11:32:25.282Z"
   },
   {
    "duration": 25,
    "start_time": "2022-05-01T11:32:25.391Z"
   },
   {
    "duration": 50,
    "start_time": "2022-05-01T11:32:25.419Z"
   },
   {
    "duration": 8,
    "start_time": "2022-05-01T11:32:25.472Z"
   },
   {
    "duration": 26,
    "start_time": "2022-05-01T11:32:25.482Z"
   },
   {
    "duration": 6,
    "start_time": "2022-05-01T11:32:25.510Z"
   },
   {
    "duration": 134,
    "start_time": "2022-05-01T11:32:25.518Z"
   },
   {
    "duration": 17,
    "start_time": "2022-05-01T11:32:25.661Z"
   },
   {
    "duration": 15,
    "start_time": "2022-05-01T11:32:25.680Z"
   },
   {
    "duration": 6,
    "start_time": "2022-05-01T11:32:25.699Z"
   },
   {
    "duration": 6,
    "start_time": "2022-05-01T11:32:25.707Z"
   },
   {
    "duration": 42,
    "start_time": "2022-05-01T11:32:25.715Z"
   },
   {
    "duration": 14,
    "start_time": "2022-05-01T11:32:25.760Z"
   },
   {
    "duration": 13,
    "start_time": "2022-05-01T11:32:25.776Z"
   },
   {
    "duration": 8,
    "start_time": "2022-05-01T11:32:25.791Z"
   },
   {
    "duration": 11,
    "start_time": "2022-05-01T11:32:25.801Z"
   },
   {
    "duration": 10,
    "start_time": "2022-05-01T11:32:25.813Z"
   },
   {
    "duration": 30,
    "start_time": "2022-05-01T11:32:25.825Z"
   },
   {
    "duration": 16,
    "start_time": "2022-05-01T11:32:25.858Z"
   },
   {
    "duration": 15,
    "start_time": "2022-05-01T11:32:25.876Z"
   },
   {
    "duration": 16,
    "start_time": "2022-05-01T11:32:25.893Z"
   },
   {
    "duration": 10,
    "start_time": "2022-05-01T11:32:25.911Z"
   },
   {
    "duration": 6,
    "start_time": "2022-05-01T11:32:25.923Z"
   },
   {
    "duration": 12,
    "start_time": "2022-05-01T11:32:25.962Z"
   },
   {
    "duration": 13,
    "start_time": "2022-05-01T11:32:25.976Z"
   },
   {
    "duration": 11,
    "start_time": "2022-05-01T11:32:25.991Z"
   },
   {
    "duration": 5,
    "start_time": "2022-05-01T11:32:26.004Z"
   },
   {
    "duration": 45,
    "start_time": "2022-05-01T11:32:26.015Z"
   },
   {
    "duration": 20,
    "start_time": "2022-05-01T11:32:26.064Z"
   },
   {
    "duration": 27,
    "start_time": "2022-05-01T11:32:26.087Z"
   },
   {
    "duration": 8,
    "start_time": "2022-05-01T11:32:26.116Z"
   },
   {
    "duration": 44,
    "start_time": "2022-05-01T11:32:26.126Z"
   },
   {
    "duration": 15,
    "start_time": "2022-05-01T11:32:26.172Z"
   },
   {
    "duration": 12,
    "start_time": "2022-05-01T11:32:26.189Z"
   },
   {
    "duration": 57,
    "start_time": "2022-05-01T11:32:26.203Z"
   },
   {
    "duration": 12,
    "start_time": "2022-05-01T11:32:26.263Z"
   },
   {
    "duration": 8,
    "start_time": "2022-05-01T11:32:26.277Z"
   },
   {
    "duration": 5,
    "start_time": "2022-05-01T11:32:26.288Z"
   },
   {
    "duration": 19,
    "start_time": "2022-05-01T11:32:26.295Z"
   },
   {
    "duration": 0,
    "start_time": "2022-05-01T11:32:26.317Z"
   },
   {
    "duration": 0,
    "start_time": "2022-05-01T11:32:26.318Z"
   },
   {
    "duration": 0,
    "start_time": "2022-05-01T11:32:26.356Z"
   },
   {
    "duration": 0,
    "start_time": "2022-05-01T11:32:26.359Z"
   },
   {
    "duration": 0,
    "start_time": "2022-05-01T11:32:26.361Z"
   },
   {
    "duration": 0,
    "start_time": "2022-05-01T11:32:26.363Z"
   },
   {
    "duration": 0,
    "start_time": "2022-05-01T11:32:26.365Z"
   },
   {
    "duration": 0,
    "start_time": "2022-05-01T11:32:26.367Z"
   },
   {
    "duration": 0,
    "start_time": "2022-05-01T11:32:26.369Z"
   },
   {
    "duration": 0,
    "start_time": "2022-05-01T11:32:26.372Z"
   },
   {
    "duration": 0,
    "start_time": "2022-05-01T11:32:26.374Z"
   },
   {
    "duration": 0,
    "start_time": "2022-05-01T11:32:26.376Z"
   },
   {
    "duration": 0,
    "start_time": "2022-05-01T11:32:26.378Z"
   },
   {
    "duration": 0,
    "start_time": "2022-05-01T11:32:26.380Z"
   },
   {
    "duration": 0,
    "start_time": "2022-05-01T11:32:26.382Z"
   },
   {
    "duration": 0,
    "start_time": "2022-05-01T11:32:26.384Z"
   },
   {
    "duration": 0,
    "start_time": "2022-05-01T11:32:26.385Z"
   },
   {
    "duration": 0,
    "start_time": "2022-05-01T11:32:26.387Z"
   },
   {
    "duration": 0,
    "start_time": "2022-05-01T11:32:26.388Z"
   },
   {
    "duration": 0,
    "start_time": "2022-05-01T11:32:26.390Z"
   },
   {
    "duration": 0,
    "start_time": "2022-05-01T11:32:26.392Z"
   },
   {
    "duration": 0,
    "start_time": "2022-05-01T11:32:26.393Z"
   },
   {
    "duration": 311,
    "start_time": "2022-05-01T11:32:33.011Z"
   },
   {
    "duration": 13,
    "start_time": "2022-05-01T11:32:34.397Z"
   },
   {
    "duration": 4,
    "start_time": "2022-05-01T11:32:39.730Z"
   },
   {
    "duration": 135,
    "start_time": "2022-05-01T11:32:39.738Z"
   },
   {
    "duration": 25,
    "start_time": "2022-05-01T11:32:39.877Z"
   },
   {
    "duration": 17,
    "start_time": "2022-05-01T11:32:39.905Z"
   },
   {
    "duration": 34,
    "start_time": "2022-05-01T11:32:39.924Z"
   },
   {
    "duration": 49,
    "start_time": "2022-05-01T11:32:39.964Z"
   },
   {
    "duration": 5,
    "start_time": "2022-05-01T11:32:40.016Z"
   },
   {
    "duration": 126,
    "start_time": "2022-05-01T11:32:40.024Z"
   },
   {
    "duration": 18,
    "start_time": "2022-05-01T11:32:40.153Z"
   },
   {
    "duration": 36,
    "start_time": "2022-05-01T11:32:40.173Z"
   },
   {
    "duration": 31,
    "start_time": "2022-05-01T11:32:40.211Z"
   },
   {
    "duration": 56,
    "start_time": "2022-05-01T11:32:40.244Z"
   },
   {
    "duration": 26,
    "start_time": "2022-05-01T11:32:40.302Z"
   },
   {
    "duration": 42,
    "start_time": "2022-05-01T11:32:40.329Z"
   },
   {
    "duration": 30,
    "start_time": "2022-05-01T11:32:40.377Z"
   },
   {
    "duration": 24,
    "start_time": "2022-05-01T11:32:40.409Z"
   },
   {
    "duration": 50,
    "start_time": "2022-05-01T11:32:40.435Z"
   },
   {
    "duration": 33,
    "start_time": "2022-05-01T11:32:40.487Z"
   },
   {
    "duration": 15,
    "start_time": "2022-05-01T11:32:40.523Z"
   },
   {
    "duration": 45,
    "start_time": "2022-05-01T11:32:40.540Z"
   },
   {
    "duration": 25,
    "start_time": "2022-05-01T11:32:40.588Z"
   },
   {
    "duration": 53,
    "start_time": "2022-05-01T11:32:40.615Z"
   },
   {
    "duration": 38,
    "start_time": "2022-05-01T11:32:40.670Z"
   },
   {
    "duration": 17,
    "start_time": "2022-05-01T11:32:40.711Z"
   },
   {
    "duration": 59,
    "start_time": "2022-05-01T11:32:40.731Z"
   },
   {
    "duration": 28,
    "start_time": "2022-05-01T11:32:40.793Z"
   },
   {
    "duration": 27,
    "start_time": "2022-05-01T11:32:40.823Z"
   },
   {
    "duration": 23,
    "start_time": "2022-05-01T11:32:40.856Z"
   },
   {
    "duration": 42,
    "start_time": "2022-05-01T11:32:40.882Z"
   },
   {
    "duration": 26,
    "start_time": "2022-05-01T11:32:40.926Z"
   },
   {
    "duration": 58,
    "start_time": "2022-05-01T11:32:40.955Z"
   },
   {
    "duration": 36,
    "start_time": "2022-05-01T11:32:41.015Z"
   },
   {
    "duration": 34,
    "start_time": "2022-05-01T11:32:41.055Z"
   },
   {
    "duration": 33,
    "start_time": "2022-05-01T11:32:41.092Z"
   },
   {
    "duration": 12,
    "start_time": "2022-05-01T11:32:41.127Z"
   },
   {
    "duration": 63,
    "start_time": "2022-05-01T11:32:41.141Z"
   },
   {
    "duration": 28,
    "start_time": "2022-05-01T11:32:41.206Z"
   },
   {
    "duration": 34,
    "start_time": "2022-05-01T11:32:41.236Z"
   },
   {
    "duration": 30,
    "start_time": "2022-05-01T11:32:41.273Z"
   },
   {
    "duration": 44,
    "start_time": "2022-05-01T11:32:41.305Z"
   },
   {
    "duration": 0,
    "start_time": "2022-05-01T11:32:41.357Z"
   },
   {
    "duration": 0,
    "start_time": "2022-05-01T11:32:41.359Z"
   },
   {
    "duration": 0,
    "start_time": "2022-05-01T11:32:41.362Z"
   },
   {
    "duration": 0,
    "start_time": "2022-05-01T11:32:41.365Z"
   },
   {
    "duration": 0,
    "start_time": "2022-05-01T11:32:41.367Z"
   },
   {
    "duration": 0,
    "start_time": "2022-05-01T11:32:41.369Z"
   },
   {
    "duration": 0,
    "start_time": "2022-05-01T11:32:41.371Z"
   },
   {
    "duration": 0,
    "start_time": "2022-05-01T11:32:41.372Z"
   },
   {
    "duration": 0,
    "start_time": "2022-05-01T11:32:41.374Z"
   },
   {
    "duration": 0,
    "start_time": "2022-05-01T11:32:41.375Z"
   },
   {
    "duration": 0,
    "start_time": "2022-05-01T11:32:41.377Z"
   },
   {
    "duration": 0,
    "start_time": "2022-05-01T11:32:41.379Z"
   },
   {
    "duration": 19,
    "start_time": "2022-05-01T11:32:51.485Z"
   },
   {
    "duration": 5,
    "start_time": "2022-05-01T11:33:27.758Z"
   },
   {
    "duration": 115,
    "start_time": "2022-05-01T11:33:27.765Z"
   },
   {
    "duration": 24,
    "start_time": "2022-05-01T11:33:27.883Z"
   },
   {
    "duration": 10,
    "start_time": "2022-05-01T11:33:27.910Z"
   },
   {
    "duration": 4,
    "start_time": "2022-05-01T11:33:27.952Z"
   },
   {
    "duration": 25,
    "start_time": "2022-05-01T11:33:27.958Z"
   },
   {
    "duration": 5,
    "start_time": "2022-05-01T11:33:27.985Z"
   },
   {
    "duration": 126,
    "start_time": "2022-05-01T11:33:27.992Z"
   },
   {
    "duration": 12,
    "start_time": "2022-05-01T11:33:28.121Z"
   },
   {
    "duration": 25,
    "start_time": "2022-05-01T11:33:28.136Z"
   },
   {
    "duration": 6,
    "start_time": "2022-05-01T11:33:28.164Z"
   },
   {
    "duration": 6,
    "start_time": "2022-05-01T11:33:28.172Z"
   },
   {
    "duration": 7,
    "start_time": "2022-05-01T11:33:28.181Z"
   },
   {
    "duration": 8,
    "start_time": "2022-05-01T11:33:28.190Z"
   },
   {
    "duration": 56,
    "start_time": "2022-05-01T11:33:28.200Z"
   },
   {
    "duration": 6,
    "start_time": "2022-05-01T11:33:28.258Z"
   },
   {
    "duration": 10,
    "start_time": "2022-05-01T11:33:28.267Z"
   },
   {
    "duration": 7,
    "start_time": "2022-05-01T11:33:28.279Z"
   },
   {
    "duration": 5,
    "start_time": "2022-05-01T11:33:28.288Z"
   },
   {
    "duration": 6,
    "start_time": "2022-05-01T11:33:28.295Z"
   },
   {
    "duration": 50,
    "start_time": "2022-05-01T11:33:28.303Z"
   },
   {
    "duration": 11,
    "start_time": "2022-05-01T11:33:28.355Z"
   },
   {
    "duration": 10,
    "start_time": "2022-05-01T11:33:28.368Z"
   },
   {
    "duration": 4,
    "start_time": "2022-05-01T11:33:28.384Z"
   },
   {
    "duration": 13,
    "start_time": "2022-05-01T11:33:28.390Z"
   },
   {
    "duration": 12,
    "start_time": "2022-05-01T11:33:28.405Z"
   },
   {
    "duration": 11,
    "start_time": "2022-05-01T11:33:28.453Z"
   },
   {
    "duration": 5,
    "start_time": "2022-05-01T11:33:28.467Z"
   },
   {
    "duration": 6,
    "start_time": "2022-05-01T11:33:28.474Z"
   },
   {
    "duration": 12,
    "start_time": "2022-05-01T11:33:28.482Z"
   },
   {
    "duration": 66,
    "start_time": "2022-05-01T11:33:28.496Z"
   },
   {
    "duration": 5,
    "start_time": "2022-05-01T11:33:28.564Z"
   },
   {
    "duration": 26,
    "start_time": "2022-05-01T11:33:28.571Z"
   },
   {
    "duration": 21,
    "start_time": "2022-05-01T11:33:28.599Z"
   },
   {
    "duration": 30,
    "start_time": "2022-05-01T11:33:28.622Z"
   },
   {
    "duration": 24,
    "start_time": "2022-05-01T11:33:28.654Z"
   },
   {
    "duration": 15,
    "start_time": "2022-05-01T11:33:28.679Z"
   },
   {
    "duration": 21,
    "start_time": "2022-05-01T11:33:28.696Z"
   },
   {
    "duration": 17,
    "start_time": "2022-05-01T11:33:28.719Z"
   },
   {
    "duration": 20,
    "start_time": "2022-05-01T11:33:28.738Z"
   },
   {
    "duration": 21,
    "start_time": "2022-05-01T11:33:28.760Z"
   },
   {
    "duration": 20,
    "start_time": "2022-05-01T11:33:28.783Z"
   },
   {
    "duration": 36,
    "start_time": "2022-05-01T11:33:28.805Z"
   },
   {
    "duration": 28,
    "start_time": "2022-05-01T11:33:28.843Z"
   },
   {
    "duration": 5,
    "start_time": "2022-05-01T11:33:28.873Z"
   },
   {
    "duration": 26,
    "start_time": "2022-05-01T11:33:28.880Z"
   },
   {
    "duration": 12,
    "start_time": "2022-05-01T11:33:28.908Z"
   },
   {
    "duration": 31,
    "start_time": "2022-05-01T11:33:28.922Z"
   },
   {
    "duration": 5,
    "start_time": "2022-05-01T11:33:28.955Z"
   },
   {
    "duration": 42,
    "start_time": "2022-05-01T11:33:28.962Z"
   },
   {
    "duration": 31,
    "start_time": "2022-05-01T11:33:29.006Z"
   },
   {
    "duration": 302,
    "start_time": "2022-05-01T11:33:29.039Z"
   },
   {
    "duration": 16,
    "start_time": "2022-05-01T11:33:29.343Z"
   },
   {
    "duration": 339,
    "start_time": "2022-05-01T11:33:29.361Z"
   },
   {
    "duration": 11,
    "start_time": "2022-05-01T11:33:29.702Z"
   },
   {
    "duration": 278,
    "start_time": "2022-05-01T11:33:29.715Z"
   },
   {
    "duration": 14,
    "start_time": "2022-05-01T11:33:29.996Z"
   },
   {
    "duration": 359,
    "start_time": "2022-05-01T11:33:30.013Z"
   },
   {
    "duration": 356,
    "start_time": "2022-05-01T11:33:30.375Z"
   },
   {
    "duration": 21,
    "start_time": "2022-05-01T11:33:30.734Z"
   },
   {
    "duration": 217,
    "start_time": "2022-05-01T11:33:30.757Z"
   },
   {
    "duration": 318,
    "start_time": "2022-05-01T11:34:19.370Z"
   },
   {
    "duration": 205,
    "start_time": "2022-05-01T11:34:29.110Z"
   },
   {
    "duration": 164,
    "start_time": "2022-05-01T11:52:31.295Z"
   },
   {
    "duration": 300,
    "start_time": "2022-05-01T11:59:46.038Z"
   },
   {
    "duration": 357,
    "start_time": "2022-05-01T11:59:59.698Z"
   },
   {
    "duration": 473,
    "start_time": "2022-05-01T12:00:11.599Z"
   },
   {
    "duration": 338,
    "start_time": "2022-05-01T12:00:34.545Z"
   },
   {
    "duration": 15,
    "start_time": "2022-05-01T12:04:30.015Z"
   },
   {
    "duration": 156,
    "start_time": "2022-05-01T12:05:50.802Z"
   },
   {
    "duration": 4,
    "start_time": "2022-05-01T12:07:20.189Z"
   },
   {
    "duration": 101,
    "start_time": "2022-05-01T12:07:20.196Z"
   },
   {
    "duration": 23,
    "start_time": "2022-05-01T12:07:20.300Z"
   },
   {
    "duration": 28,
    "start_time": "2022-05-01T12:07:20.325Z"
   },
   {
    "duration": 11,
    "start_time": "2022-05-01T12:07:20.356Z"
   },
   {
    "duration": 24,
    "start_time": "2022-05-01T12:07:20.369Z"
   },
   {
    "duration": 6,
    "start_time": "2022-05-01T12:07:20.395Z"
   },
   {
    "duration": 132,
    "start_time": "2022-05-01T12:07:20.403Z"
   },
   {
    "duration": 21,
    "start_time": "2022-05-01T12:07:20.537Z"
   },
   {
    "duration": 12,
    "start_time": "2022-05-01T12:07:20.560Z"
   },
   {
    "duration": 6,
    "start_time": "2022-05-01T12:07:20.575Z"
   },
   {
    "duration": 5,
    "start_time": "2022-05-01T12:07:20.583Z"
   },
   {
    "duration": 8,
    "start_time": "2022-05-01T12:07:20.590Z"
   },
   {
    "duration": 54,
    "start_time": "2022-05-01T12:07:20.600Z"
   },
   {
    "duration": 15,
    "start_time": "2022-05-01T12:07:20.656Z"
   },
   {
    "duration": 7,
    "start_time": "2022-05-01T12:07:20.673Z"
   },
   {
    "duration": 9,
    "start_time": "2022-05-01T12:07:20.682Z"
   },
   {
    "duration": 7,
    "start_time": "2022-05-01T12:07:20.693Z"
   },
   {
    "duration": 4,
    "start_time": "2022-05-01T12:07:20.702Z"
   },
   {
    "duration": 44,
    "start_time": "2022-05-01T12:07:20.708Z"
   },
   {
    "duration": 13,
    "start_time": "2022-05-01T12:07:20.755Z"
   },
   {
    "duration": 10,
    "start_time": "2022-05-01T12:07:20.770Z"
   },
   {
    "duration": 9,
    "start_time": "2022-05-01T12:07:20.782Z"
   },
   {
    "duration": 7,
    "start_time": "2022-05-01T12:07:20.793Z"
   },
   {
    "duration": 12,
    "start_time": "2022-05-01T12:07:20.802Z"
   },
   {
    "duration": 46,
    "start_time": "2022-05-01T12:07:20.817Z"
   },
   {
    "duration": 12,
    "start_time": "2022-05-01T12:07:20.866Z"
   },
   {
    "duration": 6,
    "start_time": "2022-05-01T12:07:20.880Z"
   },
   {
    "duration": 5,
    "start_time": "2022-05-01T12:07:20.892Z"
   },
   {
    "duration": 54,
    "start_time": "2022-05-01T12:07:20.899Z"
   },
   {
    "duration": 28,
    "start_time": "2022-05-01T12:07:20.956Z"
   },
   {
    "duration": 7,
    "start_time": "2022-05-01T12:07:20.987Z"
   },
   {
    "duration": 15,
    "start_time": "2022-05-01T12:07:20.997Z"
   },
   {
    "duration": 43,
    "start_time": "2022-05-01T12:07:21.013Z"
   },
   {
    "duration": 11,
    "start_time": "2022-05-01T12:07:21.058Z"
   },
   {
    "duration": 22,
    "start_time": "2022-05-01T12:07:21.071Z"
   },
   {
    "duration": 10,
    "start_time": "2022-05-01T12:07:21.095Z"
   },
   {
    "duration": 10,
    "start_time": "2022-05-01T12:07:21.107Z"
   },
   {
    "duration": 34,
    "start_time": "2022-05-01T12:07:21.119Z"
   },
   {
    "duration": 5,
    "start_time": "2022-05-01T12:07:21.156Z"
   },
   {
    "duration": 11,
    "start_time": "2022-05-01T12:07:21.163Z"
   },
   {
    "duration": 10,
    "start_time": "2022-05-01T12:07:21.176Z"
   },
   {
    "duration": 23,
    "start_time": "2022-05-01T12:07:21.188Z"
   },
   {
    "duration": 51,
    "start_time": "2022-05-01T12:07:21.213Z"
   },
   {
    "duration": 5,
    "start_time": "2022-05-01T12:07:21.266Z"
   },
   {
    "duration": 20,
    "start_time": "2022-05-01T12:07:21.273Z"
   },
   {
    "duration": 13,
    "start_time": "2022-05-01T12:07:21.296Z"
   },
   {
    "duration": 5,
    "start_time": "2022-05-01T12:07:21.311Z"
   },
   {
    "duration": 5,
    "start_time": "2022-05-01T12:07:21.353Z"
   },
   {
    "duration": 35,
    "start_time": "2022-05-01T12:07:21.360Z"
   },
   {
    "duration": 12,
    "start_time": "2022-05-01T12:07:21.397Z"
   },
   {
    "duration": 327,
    "start_time": "2022-05-01T12:07:21.411Z"
   },
   {
    "duration": 12,
    "start_time": "2022-05-01T12:07:21.751Z"
   },
   {
    "duration": 437,
    "start_time": "2022-05-01T12:07:21.765Z"
   },
   {
    "duration": 11,
    "start_time": "2022-05-01T12:07:22.204Z"
   },
   {
    "duration": 273,
    "start_time": "2022-05-01T12:07:22.217Z"
   },
   {
    "duration": 11,
    "start_time": "2022-05-01T12:07:22.492Z"
   },
   {
    "duration": 268,
    "start_time": "2022-05-01T12:07:22.505Z"
   },
   {
    "duration": 342,
    "start_time": "2022-05-01T12:07:22.776Z"
   },
   {
    "duration": 12,
    "start_time": "2022-05-01T12:07:23.120Z"
   },
   {
    "duration": 174,
    "start_time": "2022-05-01T12:07:23.151Z"
   },
   {
    "duration": 163,
    "start_time": "2022-05-01T12:07:23.328Z"
   },
   {
    "duration": 158,
    "start_time": "2022-05-01T12:09:59.645Z"
   },
   {
    "duration": 41,
    "start_time": "2022-05-01T12:11:05.118Z"
   },
   {
    "duration": 5,
    "start_time": "2022-05-01T12:11:23.020Z"
   },
   {
    "duration": 113,
    "start_time": "2022-05-01T12:12:01.097Z"
   },
   {
    "duration": 5,
    "start_time": "2022-05-01T12:12:06.650Z"
   },
   {
    "duration": 5,
    "start_time": "2022-05-01T12:12:11.061Z"
   },
   {
    "duration": 19,
    "start_time": "2022-05-01T12:17:22.456Z"
   },
   {
    "duration": 2858,
    "start_time": "2022-05-01T12:17:40.662Z"
   },
   {
    "duration": 4551,
    "start_time": "2022-05-01T12:18:40.313Z"
   },
   {
    "duration": 1671,
    "start_time": "2022-05-01T12:20:15.016Z"
   },
   {
    "duration": 1597,
    "start_time": "2022-05-01T12:20:26.403Z"
   },
   {
    "duration": 4746,
    "start_time": "2022-05-01T12:20:35.452Z"
   },
   {
    "duration": 12,
    "start_time": "2022-05-01T12:21:58.719Z"
   },
   {
    "duration": 8,
    "start_time": "2022-05-01T12:25:35.482Z"
   },
   {
    "duration": 13,
    "start_time": "2022-05-01T12:26:36.682Z"
   },
   {
    "duration": 4,
    "start_time": "2022-05-01T12:26:40.851Z"
   },
   {
    "duration": 129,
    "start_time": "2022-05-01T12:26:40.857Z"
   },
   {
    "duration": 23,
    "start_time": "2022-05-01T12:26:40.989Z"
   },
   {
    "duration": 20,
    "start_time": "2022-05-01T12:26:41.015Z"
   },
   {
    "duration": 32,
    "start_time": "2022-05-01T12:26:41.038Z"
   },
   {
    "duration": 35,
    "start_time": "2022-05-01T12:26:41.072Z"
   },
   {
    "duration": 6,
    "start_time": "2022-05-01T12:26:41.109Z"
   },
   {
    "duration": 99,
    "start_time": "2022-05-01T12:26:41.118Z"
   },
   {
    "duration": 14,
    "start_time": "2022-05-01T12:26:41.220Z"
   },
   {
    "duration": 16,
    "start_time": "2022-05-01T12:26:41.252Z"
   },
   {
    "duration": 7,
    "start_time": "2022-05-01T12:26:41.273Z"
   },
   {
    "duration": 37,
    "start_time": "2022-05-01T12:26:41.283Z"
   },
   {
    "duration": 26,
    "start_time": "2022-05-01T12:26:41.323Z"
   },
   {
    "duration": 21,
    "start_time": "2022-05-01T12:26:41.352Z"
   },
   {
    "duration": 41,
    "start_time": "2022-05-01T12:26:41.376Z"
   },
   {
    "duration": 17,
    "start_time": "2022-05-01T12:26:41.420Z"
   },
   {
    "duration": 29,
    "start_time": "2022-05-01T12:26:41.439Z"
   },
   {
    "duration": 14,
    "start_time": "2022-05-01T12:26:41.471Z"
   },
   {
    "duration": 12,
    "start_time": "2022-05-01T12:26:41.488Z"
   },
   {
    "duration": 26,
    "start_time": "2022-05-01T12:26:41.502Z"
   },
   {
    "duration": 18,
    "start_time": "2022-05-01T12:26:41.531Z"
   },
   {
    "duration": 24,
    "start_time": "2022-05-01T12:26:41.552Z"
   },
   {
    "duration": 9,
    "start_time": "2022-05-01T12:26:41.578Z"
   },
   {
    "duration": 7,
    "start_time": "2022-05-01T12:26:41.590Z"
   },
   {
    "duration": 11,
    "start_time": "2022-05-01T12:26:41.600Z"
   },
   {
    "duration": 12,
    "start_time": "2022-05-01T12:26:41.614Z"
   },
   {
    "duration": 34,
    "start_time": "2022-05-01T12:26:41.628Z"
   },
   {
    "duration": 6,
    "start_time": "2022-05-01T12:26:41.665Z"
   },
   {
    "duration": 5,
    "start_time": "2022-05-01T12:26:41.677Z"
   },
   {
    "duration": 13,
    "start_time": "2022-05-01T12:26:41.684Z"
   },
   {
    "duration": 66,
    "start_time": "2022-05-01T12:26:41.699Z"
   },
   {
    "duration": 6,
    "start_time": "2022-05-01T12:26:41.767Z"
   },
   {
    "duration": 13,
    "start_time": "2022-05-01T12:26:41.775Z"
   },
   {
    "duration": 12,
    "start_time": "2022-05-01T12:26:41.791Z"
   },
   {
    "duration": 52,
    "start_time": "2022-05-01T12:26:41.805Z"
   },
   {
    "duration": 12,
    "start_time": "2022-05-01T12:26:41.859Z"
   },
   {
    "duration": 19,
    "start_time": "2022-05-01T12:26:41.874Z"
   },
   {
    "duration": 10,
    "start_time": "2022-05-01T12:26:41.896Z"
   },
   {
    "duration": 46,
    "start_time": "2022-05-01T12:26:41.908Z"
   },
   {
    "duration": 6,
    "start_time": "2022-05-01T12:26:41.956Z"
   },
   {
    "duration": 6,
    "start_time": "2022-05-01T12:26:41.964Z"
   },
   {
    "duration": 9,
    "start_time": "2022-05-01T12:26:41.972Z"
   },
   {
    "duration": 8,
    "start_time": "2022-05-01T12:26:41.983Z"
   },
   {
    "duration": 19,
    "start_time": "2022-05-01T12:26:41.994Z"
   },
   {
    "duration": 57,
    "start_time": "2022-05-01T12:26:42.016Z"
   },
   {
    "duration": 6,
    "start_time": "2022-05-01T12:26:42.075Z"
   },
   {
    "duration": 19,
    "start_time": "2022-05-01T12:26:42.084Z"
   },
   {
    "duration": 13,
    "start_time": "2022-05-01T12:26:42.105Z"
   },
   {
    "duration": 5,
    "start_time": "2022-05-01T12:26:42.153Z"
   },
   {
    "duration": 8,
    "start_time": "2022-05-01T12:26:42.161Z"
   },
   {
    "duration": 27,
    "start_time": "2022-05-01T12:26:42.171Z"
   },
   {
    "duration": 15,
    "start_time": "2022-05-01T12:26:42.201Z"
   },
   {
    "duration": 336,
    "start_time": "2022-05-01T12:26:42.218Z"
   },
   {
    "duration": 12,
    "start_time": "2022-05-01T12:26:42.556Z"
   },
   {
    "duration": 341,
    "start_time": "2022-05-01T12:26:42.570Z"
   },
   {
    "duration": 12,
    "start_time": "2022-05-01T12:26:42.913Z"
   },
   {
    "duration": 266,
    "start_time": "2022-05-01T12:26:42.927Z"
   },
   {
    "duration": 13,
    "start_time": "2022-05-01T12:26:43.195Z"
   },
   {
    "duration": 493,
    "start_time": "2022-05-01T12:26:43.210Z"
   },
   {
    "duration": 449,
    "start_time": "2022-05-01T12:26:43.705Z"
   },
   {
    "duration": 12,
    "start_time": "2022-05-01T12:26:44.156Z"
   },
   {
    "duration": 192,
    "start_time": "2022-05-01T12:26:44.170Z"
   },
   {
    "duration": 5,
    "start_time": "2022-05-01T12:26:44.364Z"
   },
   {
    "duration": 45,
    "start_time": "2022-05-01T12:26:44.371Z"
   },
   {
    "duration": 5,
    "start_time": "2022-05-01T12:26:44.418Z"
   },
   {
    "duration": 121,
    "start_time": "2022-05-01T12:26:44.453Z"
   },
   {
    "duration": 8965,
    "start_time": "2022-05-01T12:26:44.577Z"
   },
   {
    "duration": 7,
    "start_time": "2022-05-01T12:28:06.229Z"
   },
   {
    "duration": 8,
    "start_time": "2022-05-01T12:28:09.617Z"
   },
   {
    "duration": 7,
    "start_time": "2022-05-01T12:28:13.610Z"
   },
   {
    "duration": 8,
    "start_time": "2022-05-01T12:28:46.442Z"
   },
   {
    "duration": 8,
    "start_time": "2022-05-01T12:28:50.282Z"
   },
   {
    "duration": 12,
    "start_time": "2022-05-01T12:28:55.620Z"
   },
   {
    "duration": 16,
    "start_time": "2022-05-01T12:29:13.901Z"
   },
   {
    "duration": 16,
    "start_time": "2022-05-01T12:29:31.194Z"
   },
   {
    "duration": 12,
    "start_time": "2022-05-01T12:31:05.935Z"
   },
   {
    "duration": 7,
    "start_time": "2022-05-01T12:31:08.761Z"
   },
   {
    "duration": 7,
    "start_time": "2022-05-01T12:31:21.671Z"
   },
   {
    "duration": 10,
    "start_time": "2022-05-01T12:31:24.875Z"
   },
   {
    "duration": 6,
    "start_time": "2022-05-01T12:31:32.621Z"
   },
   {
    "duration": 12,
    "start_time": "2022-05-01T12:31:34.789Z"
   },
   {
    "duration": 7,
    "start_time": "2022-05-01T12:31:37.127Z"
   },
   {
    "duration": 7,
    "start_time": "2022-05-01T12:33:58.135Z"
   },
   {
    "duration": 12,
    "start_time": "2022-05-01T12:34:09.677Z"
   },
   {
    "duration": 4,
    "start_time": "2022-05-01T12:34:17.858Z"
   },
   {
    "duration": 121,
    "start_time": "2022-05-01T12:34:17.865Z"
   },
   {
    "duration": 26,
    "start_time": "2022-05-01T12:34:17.988Z"
   },
   {
    "duration": 4,
    "start_time": "2022-05-01T12:34:18.052Z"
   },
   {
    "duration": 8,
    "start_time": "2022-05-01T12:34:18.059Z"
   },
   {
    "duration": 29,
    "start_time": "2022-05-01T12:34:18.069Z"
   },
   {
    "duration": 6,
    "start_time": "2022-05-01T12:34:18.100Z"
   },
   {
    "duration": 143,
    "start_time": "2022-05-01T12:34:18.108Z"
   },
   {
    "duration": 13,
    "start_time": "2022-05-01T12:34:18.255Z"
   },
   {
    "duration": 12,
    "start_time": "2022-05-01T12:34:18.270Z"
   },
   {
    "duration": 6,
    "start_time": "2022-05-01T12:34:18.284Z"
   },
   {
    "duration": 14,
    "start_time": "2022-05-01T12:34:18.292Z"
   },
   {
    "duration": 46,
    "start_time": "2022-05-01T12:34:18.308Z"
   },
   {
    "duration": 14,
    "start_time": "2022-05-01T12:34:18.357Z"
   },
   {
    "duration": 22,
    "start_time": "2022-05-01T12:34:18.373Z"
   },
   {
    "duration": 10,
    "start_time": "2022-05-01T12:34:18.398Z"
   },
   {
    "duration": 13,
    "start_time": "2022-05-01T12:34:18.411Z"
   },
   {
    "duration": 33,
    "start_time": "2022-05-01T12:34:18.426Z"
   },
   {
    "duration": 7,
    "start_time": "2022-05-01T12:34:18.461Z"
   },
   {
    "duration": 9,
    "start_time": "2022-05-01T12:34:18.470Z"
   },
   {
    "duration": 15,
    "start_time": "2022-05-01T12:34:18.482Z"
   },
   {
    "duration": 16,
    "start_time": "2022-05-01T12:34:18.500Z"
   },
   {
    "duration": 34,
    "start_time": "2022-05-01T12:34:18.519Z"
   },
   {
    "duration": 7,
    "start_time": "2022-05-01T12:34:18.565Z"
   },
   {
    "duration": 16,
    "start_time": "2022-05-01T12:34:18.574Z"
   },
   {
    "duration": 14,
    "start_time": "2022-05-01T12:34:18.593Z"
   },
   {
    "duration": 50,
    "start_time": "2022-05-01T12:34:18.610Z"
   },
   {
    "duration": 7,
    "start_time": "2022-05-01T12:34:18.663Z"
   },
   {
    "duration": 34,
    "start_time": "2022-05-01T12:34:18.672Z"
   },
   {
    "duration": 30,
    "start_time": "2022-05-01T12:34:18.708Z"
   },
   {
    "duration": 41,
    "start_time": "2022-05-01T12:34:18.740Z"
   },
   {
    "duration": 15,
    "start_time": "2022-05-01T12:34:18.784Z"
   },
   {
    "duration": 15,
    "start_time": "2022-05-01T12:34:18.801Z"
   },
   {
    "duration": 7,
    "start_time": "2022-05-01T12:34:18.818Z"
   },
   {
    "duration": 32,
    "start_time": "2022-05-01T12:34:18.828Z"
   },
   {
    "duration": 12,
    "start_time": "2022-05-01T12:34:18.862Z"
   },
   {
    "duration": 15,
    "start_time": "2022-05-01T12:34:18.876Z"
   },
   {
    "duration": 20,
    "start_time": "2022-05-01T12:34:18.893Z"
   },
   {
    "duration": 45,
    "start_time": "2022-05-01T12:34:18.915Z"
   },
   {
    "duration": 22,
    "start_time": "2022-05-01T12:34:18.962Z"
   },
   {
    "duration": 10,
    "start_time": "2022-05-01T12:34:18.986Z"
   },
   {
    "duration": 11,
    "start_time": "2022-05-01T12:34:18.998Z"
   },
   {
    "duration": 9,
    "start_time": "2022-05-01T12:34:19.011Z"
   },
   {
    "duration": 14,
    "start_time": "2022-05-01T12:34:19.022Z"
   },
   {
    "duration": 32,
    "start_time": "2022-05-01T12:34:19.039Z"
   },
   {
    "duration": 39,
    "start_time": "2022-05-01T12:34:19.074Z"
   },
   {
    "duration": 6,
    "start_time": "2022-05-01T12:34:19.116Z"
   },
   {
    "duration": 40,
    "start_time": "2022-05-01T12:34:19.125Z"
   },
   {
    "duration": 16,
    "start_time": "2022-05-01T12:34:19.167Z"
   },
   {
    "duration": 6,
    "start_time": "2022-05-01T12:34:19.185Z"
   },
   {
    "duration": 10,
    "start_time": "2022-05-01T12:34:19.194Z"
   },
   {
    "duration": 55,
    "start_time": "2022-05-01T12:34:19.206Z"
   },
   {
    "duration": 18,
    "start_time": "2022-05-01T12:34:19.264Z"
   },
   {
    "duration": 313,
    "start_time": "2022-05-01T12:34:19.284Z"
   },
   {
    "duration": 11,
    "start_time": "2022-05-01T12:34:19.599Z"
   },
   {
    "duration": 339,
    "start_time": "2022-05-01T12:34:19.612Z"
   },
   {
    "duration": 11,
    "start_time": "2022-05-01T12:34:19.953Z"
   },
   {
    "duration": 291,
    "start_time": "2022-05-01T12:34:19.967Z"
   },
   {
    "duration": 13,
    "start_time": "2022-05-01T12:34:20.260Z"
   },
   {
    "duration": 296,
    "start_time": "2022-05-01T12:34:20.275Z"
   },
   {
    "duration": 464,
    "start_time": "2022-05-01T12:34:20.574Z"
   },
   {
    "duration": 21,
    "start_time": "2022-05-01T12:34:21.040Z"
   },
   {
    "duration": 191,
    "start_time": "2022-05-01T12:34:21.063Z"
   },
   {
    "duration": 5,
    "start_time": "2022-05-01T12:34:21.256Z"
   },
   {
    "duration": 47,
    "start_time": "2022-05-01T12:34:21.263Z"
   },
   {
    "duration": 4,
    "start_time": "2022-05-01T12:34:21.312Z"
   },
   {
    "duration": 334,
    "start_time": "2022-05-01T12:34:21.319Z"
   },
   {
    "duration": 7659,
    "start_time": "2022-05-01T12:34:21.655Z"
   },
   {
    "duration": 8,
    "start_time": "2022-05-01T12:35:21.894Z"
   },
   {
    "duration": 9,
    "start_time": "2022-05-01T12:35:49.962Z"
   },
   {
    "duration": 7,
    "start_time": "2022-05-01T12:36:03.914Z"
   },
   {
    "duration": 7,
    "start_time": "2022-05-01T12:36:12.530Z"
   },
   {
    "duration": 7,
    "start_time": "2022-05-01T12:36:15.841Z"
   },
   {
    "duration": 43,
    "start_time": "2022-05-01T12:39:39.274Z"
   },
   {
    "duration": 3904,
    "start_time": "2022-05-01T12:39:53.530Z"
   },
   {
    "duration": 4889,
    "start_time": "2022-05-01T12:49:34.267Z"
   },
   {
    "duration": 4621,
    "start_time": "2022-05-01T12:50:36.667Z"
   },
   {
    "duration": 7281,
    "start_time": "2022-05-01T12:52:49.173Z"
   },
   {
    "duration": 188,
    "start_time": "2022-05-01T12:52:56.458Z"
   },
   {
    "duration": 19,
    "start_time": "2022-05-01T12:57:26.235Z"
   },
   {
    "duration": 234,
    "start_time": "2022-05-01T12:58:15.273Z"
   },
   {
    "duration": 5,
    "start_time": "2022-05-01T12:59:06.072Z"
   },
   {
    "duration": 251,
    "start_time": "2022-05-01T12:59:10.669Z"
   },
   {
    "duration": 5,
    "start_time": "2022-05-01T12:59:43.550Z"
   },
   {
    "duration": 114,
    "start_time": "2022-05-01T12:59:43.558Z"
   },
   {
    "duration": 22,
    "start_time": "2022-05-01T12:59:43.674Z"
   },
   {
    "duration": 5,
    "start_time": "2022-05-01T12:59:43.699Z"
   },
   {
    "duration": 5,
    "start_time": "2022-05-01T12:59:43.707Z"
   },
   {
    "duration": 56,
    "start_time": "2022-05-01T12:59:43.714Z"
   },
   {
    "duration": 5,
    "start_time": "2022-05-01T12:59:43.772Z"
   },
   {
    "duration": 128,
    "start_time": "2022-05-01T12:59:43.779Z"
   },
   {
    "duration": 12,
    "start_time": "2022-05-01T12:59:43.909Z"
   },
   {
    "duration": 34,
    "start_time": "2022-05-01T12:59:43.924Z"
   },
   {
    "duration": 6,
    "start_time": "2022-05-01T12:59:43.965Z"
   },
   {
    "duration": 6,
    "start_time": "2022-05-01T12:59:43.973Z"
   },
   {
    "duration": 8,
    "start_time": "2022-05-01T12:59:43.982Z"
   },
   {
    "duration": 8,
    "start_time": "2022-05-01T12:59:43.992Z"
   },
   {
    "duration": 60,
    "start_time": "2022-05-01T12:59:44.002Z"
   },
   {
    "duration": 8,
    "start_time": "2022-05-01T12:59:44.065Z"
   },
   {
    "duration": 10,
    "start_time": "2022-05-01T12:59:44.075Z"
   },
   {
    "duration": 9,
    "start_time": "2022-05-01T12:59:44.087Z"
   },
   {
    "duration": 5,
    "start_time": "2022-05-01T12:59:44.098Z"
   },
   {
    "duration": 5,
    "start_time": "2022-05-01T12:59:44.106Z"
   },
   {
    "duration": 11,
    "start_time": "2022-05-01T12:59:44.151Z"
   },
   {
    "duration": 10,
    "start_time": "2022-05-01T12:59:44.164Z"
   },
   {
    "duration": 15,
    "start_time": "2022-05-01T12:59:44.176Z"
   },
   {
    "duration": 7,
    "start_time": "2022-05-01T12:59:44.193Z"
   },
   {
    "duration": 15,
    "start_time": "2022-05-01T12:59:44.202Z"
   },
   {
    "duration": 36,
    "start_time": "2022-05-01T12:59:44.219Z"
   },
   {
    "duration": 12,
    "start_time": "2022-05-01T12:59:44.258Z"
   },
   {
    "duration": 7,
    "start_time": "2022-05-01T12:59:44.272Z"
   },
   {
    "duration": 6,
    "start_time": "2022-05-01T12:59:44.286Z"
   },
   {
    "duration": 58,
    "start_time": "2022-05-01T12:59:44.295Z"
   },
   {
    "duration": 32,
    "start_time": "2022-05-01T12:59:44.356Z"
   },
   {
    "duration": 8,
    "start_time": "2022-05-01T12:59:44.390Z"
   },
   {
    "duration": 14,
    "start_time": "2022-05-01T12:59:44.400Z"
   },
   {
    "duration": 42,
    "start_time": "2022-05-01T12:59:44.416Z"
   },
   {
    "duration": 10,
    "start_time": "2022-05-01T12:59:44.460Z"
   },
   {
    "duration": 10,
    "start_time": "2022-05-01T12:59:44.473Z"
   },
   {
    "duration": 18,
    "start_time": "2022-05-01T12:59:44.485Z"
   },
   {
    "duration": 11,
    "start_time": "2022-05-01T12:59:44.505Z"
   },
   {
    "duration": 6,
    "start_time": "2022-05-01T12:59:44.552Z"
   },
   {
    "duration": 7,
    "start_time": "2022-05-01T12:59:44.561Z"
   },
   {
    "duration": 8,
    "start_time": "2022-05-01T12:59:44.570Z"
   },
   {
    "duration": 8,
    "start_time": "2022-05-01T12:59:44.580Z"
   },
   {
    "duration": 5,
    "start_time": "2022-05-01T12:59:44.590Z"
   },
   {
    "duration": 59,
    "start_time": "2022-05-01T12:59:44.597Z"
   },
   {
    "duration": 29,
    "start_time": "2022-05-01T12:59:44.658Z"
   },
   {
    "duration": 5,
    "start_time": "2022-05-01T12:59:44.689Z"
   },
   {
    "duration": 19,
    "start_time": "2022-05-01T12:59:44.696Z"
   },
   {
    "duration": 44,
    "start_time": "2022-05-01T12:59:44.717Z"
   },
   {
    "duration": 5,
    "start_time": "2022-05-01T12:59:44.763Z"
   },
   {
    "duration": 9,
    "start_time": "2022-05-01T12:59:44.770Z"
   },
   {
    "duration": 32,
    "start_time": "2022-05-01T12:59:44.781Z"
   },
   {
    "duration": 36,
    "start_time": "2022-05-01T12:59:44.815Z"
   },
   {
    "duration": 327,
    "start_time": "2022-05-01T12:59:44.853Z"
   },
   {
    "duration": 11,
    "start_time": "2022-05-01T12:59:45.183Z"
   },
   {
    "duration": 341,
    "start_time": "2022-05-01T12:59:45.196Z"
   },
   {
    "duration": 19,
    "start_time": "2022-05-01T12:59:45.539Z"
   },
   {
    "duration": 274,
    "start_time": "2022-05-01T12:59:45.560Z"
   },
   {
    "duration": 20,
    "start_time": "2022-05-01T12:59:45.837Z"
   },
   {
    "duration": 282,
    "start_time": "2022-05-01T12:59:45.859Z"
   },
   {
    "duration": 342,
    "start_time": "2022-05-01T12:59:46.144Z"
   },
   {
    "duration": 13,
    "start_time": "2022-05-01T12:59:46.488Z"
   },
   {
    "duration": 196,
    "start_time": "2022-05-01T12:59:46.503Z"
   },
   {
    "duration": 5,
    "start_time": "2022-05-01T12:59:46.702Z"
   },
   {
    "duration": 62,
    "start_time": "2022-05-01T12:59:46.709Z"
   },
   {
    "duration": 5,
    "start_time": "2022-05-01T12:59:46.773Z"
   },
   {
    "duration": 125,
    "start_time": "2022-05-01T12:59:46.780Z"
   },
   {
    "duration": 5245,
    "start_time": "2022-05-01T12:59:46.907Z"
   },
   {
    "duration": 264,
    "start_time": "2022-05-01T12:59:52.154Z"
   },
   {
    "duration": 47,
    "start_time": "2022-05-01T13:05:18.480Z"
   },
   {
    "duration": 171,
    "start_time": "2022-05-01T13:05:25.786Z"
   },
   {
    "duration": 285,
    "start_time": "2022-05-01T13:05:37.031Z"
   },
   {
    "duration": 4556,
    "start_time": "2022-05-01T13:06:45.616Z"
   },
   {
    "duration": 253,
    "start_time": "2022-05-01T13:07:58.423Z"
   },
   {
    "duration": 1698,
    "start_time": "2022-05-01T13:15:12.987Z"
   },
   {
    "duration": 256,
    "start_time": "2022-05-01T13:16:36.228Z"
   },
   {
    "duration": 260,
    "start_time": "2022-05-01T13:16:52.149Z"
   },
   {
    "duration": 3434,
    "start_time": "2022-05-01T13:18:24.128Z"
   },
   {
    "duration": 3192,
    "start_time": "2022-05-01T13:21:25.422Z"
   },
   {
    "duration": 1881,
    "start_time": "2022-05-01T13:22:16.885Z"
   },
   {
    "duration": 2407,
    "start_time": "2022-05-01T13:22:46.468Z"
   },
   {
    "duration": 884,
    "start_time": "2022-05-01T13:24:58.807Z"
   },
   {
    "duration": 91,
    "start_time": "2022-05-01T13:26:47.039Z"
   },
   {
    "duration": 267,
    "start_time": "2022-05-01T13:27:05.778Z"
   },
   {
    "duration": 268,
    "start_time": "2022-05-01T13:29:16.722Z"
   },
   {
    "duration": 282,
    "start_time": "2022-05-01T13:29:30.386Z"
   },
   {
    "duration": 267,
    "start_time": "2022-05-01T13:29:49.363Z"
   },
   {
    "duration": 278,
    "start_time": "2022-05-01T13:30:02.456Z"
   },
   {
    "duration": 1091,
    "start_time": "2022-05-01T13:30:49.109Z"
   },
   {
    "duration": 560,
    "start_time": "2022-05-01T13:30:57.562Z"
   },
   {
    "duration": 755,
    "start_time": "2022-05-01T13:31:37.421Z"
   },
   {
    "duration": 580,
    "start_time": "2022-05-01T13:32:09.509Z"
   },
   {
    "duration": 267,
    "start_time": "2022-05-01T13:33:27.728Z"
   },
   {
    "duration": 278,
    "start_time": "2022-05-01T13:33:33.699Z"
   },
   {
    "duration": 262,
    "start_time": "2022-05-01T13:33:38.082Z"
   },
   {
    "duration": 581,
    "start_time": "2022-05-01T13:33:53.104Z"
   },
   {
    "duration": 12,
    "start_time": "2022-05-01T13:34:11.369Z"
   },
   {
    "duration": 14,
    "start_time": "2022-05-01T13:34:20.885Z"
   },
   {
    "duration": 545,
    "start_time": "2022-05-01T13:34:30.849Z"
   },
   {
    "duration": 2090,
    "start_time": "2022-05-01T13:38:27.374Z"
   },
   {
    "duration": 1468,
    "start_time": "2022-05-01T13:38:40.943Z"
   },
   {
    "duration": 2419,
    "start_time": "2022-05-01T13:38:55.640Z"
   },
   {
    "duration": 307,
    "start_time": "2022-05-01T13:39:56.526Z"
   },
   {
    "duration": 504,
    "start_time": "2022-05-01T13:40:06.271Z"
   },
   {
    "duration": 2854,
    "start_time": "2022-05-01T13:40:25.782Z"
   },
   {
    "duration": 11,
    "start_time": "2022-05-01T13:45:43.561Z"
   },
   {
    "duration": 111,
    "start_time": "2022-05-01T13:45:56.608Z"
   },
   {
    "duration": 4,
    "start_time": "2022-05-01T13:47:01.218Z"
   },
   {
    "duration": 129,
    "start_time": "2022-05-01T13:47:01.224Z"
   },
   {
    "duration": 24,
    "start_time": "2022-05-01T13:47:01.356Z"
   },
   {
    "duration": 28,
    "start_time": "2022-05-01T13:47:01.382Z"
   },
   {
    "duration": 13,
    "start_time": "2022-05-01T13:47:01.413Z"
   },
   {
    "duration": 42,
    "start_time": "2022-05-01T13:47:01.429Z"
   },
   {
    "duration": 6,
    "start_time": "2022-05-01T13:47:01.473Z"
   },
   {
    "duration": 123,
    "start_time": "2022-05-01T13:47:01.481Z"
   },
   {
    "duration": 12,
    "start_time": "2022-05-01T13:47:01.607Z"
   },
   {
    "duration": 32,
    "start_time": "2022-05-01T13:47:01.621Z"
   },
   {
    "duration": 6,
    "start_time": "2022-05-01T13:47:01.657Z"
   },
   {
    "duration": 23,
    "start_time": "2022-05-01T13:47:01.665Z"
   },
   {
    "duration": 17,
    "start_time": "2022-05-01T13:47:01.691Z"
   },
   {
    "duration": 11,
    "start_time": "2022-05-01T13:47:01.710Z"
   },
   {
    "duration": 14,
    "start_time": "2022-05-01T13:47:01.724Z"
   },
   {
    "duration": 6,
    "start_time": "2022-05-01T13:47:01.753Z"
   },
   {
    "duration": 11,
    "start_time": "2022-05-01T13:47:01.762Z"
   },
   {
    "duration": 20,
    "start_time": "2022-05-01T13:47:01.776Z"
   },
   {
    "duration": 22,
    "start_time": "2022-05-01T13:47:01.799Z"
   },
   {
    "duration": 7,
    "start_time": "2022-05-01T13:47:01.824Z"
   },
   {
    "duration": 24,
    "start_time": "2022-05-01T13:47:01.834Z"
   },
   {
    "duration": 12,
    "start_time": "2022-05-01T13:47:01.860Z"
   },
   {
    "duration": 9,
    "start_time": "2022-05-01T13:47:01.874Z"
   },
   {
    "duration": 8,
    "start_time": "2022-05-01T13:47:01.886Z"
   },
   {
    "duration": 21,
    "start_time": "2022-05-01T13:47:01.896Z"
   },
   {
    "duration": 37,
    "start_time": "2022-05-01T13:47:01.920Z"
   },
   {
    "duration": 12,
    "start_time": "2022-05-01T13:47:01.959Z"
   },
   {
    "duration": 29,
    "start_time": "2022-05-01T13:47:01.973Z"
   },
   {
    "duration": 10,
    "start_time": "2022-05-01T13:47:02.011Z"
   },
   {
    "duration": 18,
    "start_time": "2022-05-01T13:47:02.023Z"
   },
   {
    "duration": 36,
    "start_time": "2022-05-01T13:47:02.043Z"
   },
   {
    "duration": 9,
    "start_time": "2022-05-01T13:47:02.082Z"
   },
   {
    "duration": 8,
    "start_time": "2022-05-01T13:47:02.093Z"
   },
   {
    "duration": 57,
    "start_time": "2022-05-01T13:47:02.103Z"
   },
   {
    "duration": 13,
    "start_time": "2022-05-01T13:47:02.163Z"
   },
   {
    "duration": 11,
    "start_time": "2022-05-01T13:47:02.179Z"
   },
   {
    "duration": 21,
    "start_time": "2022-05-01T13:47:02.192Z"
   },
   {
    "duration": 43,
    "start_time": "2022-05-01T13:47:02.215Z"
   },
   {
    "duration": 7,
    "start_time": "2022-05-01T13:47:02.261Z"
   },
   {
    "duration": 12,
    "start_time": "2022-05-01T13:47:02.270Z"
   },
   {
    "duration": 7,
    "start_time": "2022-05-01T13:47:02.284Z"
   },
   {
    "duration": 5,
    "start_time": "2022-05-01T13:47:02.293Z"
   },
   {
    "duration": 6,
    "start_time": "2022-05-01T13:47:02.301Z"
   },
   {
    "duration": 57,
    "start_time": "2022-05-01T13:47:02.309Z"
   },
   {
    "duration": 29,
    "start_time": "2022-05-01T13:47:02.369Z"
   },
   {
    "duration": 6,
    "start_time": "2022-05-01T13:47:02.399Z"
   },
   {
    "duration": 48,
    "start_time": "2022-05-01T13:47:02.406Z"
   },
   {
    "duration": 14,
    "start_time": "2022-05-01T13:47:02.457Z"
   },
   {
    "duration": 5,
    "start_time": "2022-05-01T13:47:02.473Z"
   },
   {
    "duration": 6,
    "start_time": "2022-05-01T13:47:02.480Z"
   },
   {
    "duration": 26,
    "start_time": "2022-05-01T13:47:02.488Z"
   },
   {
    "duration": 38,
    "start_time": "2022-05-01T13:47:02.517Z"
   },
   {
    "duration": 317,
    "start_time": "2022-05-01T13:47:02.557Z"
   },
   {
    "duration": 12,
    "start_time": "2022-05-01T13:47:02.876Z"
   },
   {
    "duration": 350,
    "start_time": "2022-05-01T13:47:02.890Z"
   },
   {
    "duration": 16,
    "start_time": "2022-05-01T13:47:03.242Z"
   },
   {
    "duration": 272,
    "start_time": "2022-05-01T13:47:03.260Z"
   },
   {
    "duration": 20,
    "start_time": "2022-05-01T13:47:03.534Z"
   },
   {
    "duration": 271,
    "start_time": "2022-05-01T13:47:03.556Z"
   },
   {
    "duration": 353,
    "start_time": "2022-05-01T13:47:03.829Z"
   },
   {
    "duration": 12,
    "start_time": "2022-05-01T13:47:04.185Z"
   },
   {
    "duration": 195,
    "start_time": "2022-05-01T13:47:04.199Z"
   },
   {
    "duration": 96,
    "start_time": "2022-05-01T13:47:04.397Z"
   },
   {
    "duration": 0,
    "start_time": "2022-05-01T13:47:04.496Z"
   },
   {
    "duration": 0,
    "start_time": "2022-05-01T13:47:04.498Z"
   },
   {
    "duration": 0,
    "start_time": "2022-05-01T13:47:04.500Z"
   },
   {
    "duration": 0,
    "start_time": "2022-05-01T13:47:04.502Z"
   },
   {
    "duration": 0,
    "start_time": "2022-05-01T13:47:04.504Z"
   },
   {
    "duration": 0,
    "start_time": "2022-05-01T13:47:04.506Z"
   },
   {
    "duration": 0,
    "start_time": "2022-05-01T13:47:04.509Z"
   },
   {
    "duration": 0,
    "start_time": "2022-05-01T13:47:04.511Z"
   },
   {
    "duration": 4,
    "start_time": "2022-05-01T13:47:58.630Z"
   },
   {
    "duration": 120,
    "start_time": "2022-05-01T13:47:58.637Z"
   },
   {
    "duration": 27,
    "start_time": "2022-05-01T13:47:58.759Z"
   },
   {
    "duration": 7,
    "start_time": "2022-05-01T13:47:58.789Z"
   },
   {
    "duration": 6,
    "start_time": "2022-05-01T13:47:58.798Z"
   },
   {
    "duration": 63,
    "start_time": "2022-05-01T13:47:58.806Z"
   },
   {
    "duration": 5,
    "start_time": "2022-05-01T13:47:58.871Z"
   },
   {
    "duration": 114,
    "start_time": "2022-05-01T13:47:58.879Z"
   },
   {
    "duration": 13,
    "start_time": "2022-05-01T13:47:58.997Z"
   },
   {
    "duration": 16,
    "start_time": "2022-05-01T13:47:59.013Z"
   },
   {
    "duration": 7,
    "start_time": "2022-05-01T13:47:59.051Z"
   },
   {
    "duration": 15,
    "start_time": "2022-05-01T13:47:59.060Z"
   },
   {
    "duration": 12,
    "start_time": "2022-05-01T13:47:59.077Z"
   },
   {
    "duration": 9,
    "start_time": "2022-05-01T13:47:59.091Z"
   },
   {
    "duration": 13,
    "start_time": "2022-05-01T13:47:59.103Z"
   },
   {
    "duration": 33,
    "start_time": "2022-05-01T13:47:59.119Z"
   },
   {
    "duration": 14,
    "start_time": "2022-05-01T13:47:59.155Z"
   },
   {
    "duration": 9,
    "start_time": "2022-05-01T13:47:59.171Z"
   },
   {
    "duration": 7,
    "start_time": "2022-05-01T13:47:59.183Z"
   },
   {
    "duration": 8,
    "start_time": "2022-05-01T13:47:59.192Z"
   },
   {
    "duration": 11,
    "start_time": "2022-05-01T13:47:59.202Z"
   },
   {
    "duration": 41,
    "start_time": "2022-05-01T13:47:59.216Z"
   },
   {
    "duration": 8,
    "start_time": "2022-05-01T13:47:59.260Z"
   },
   {
    "duration": 6,
    "start_time": "2022-05-01T13:47:59.275Z"
   },
   {
    "duration": 12,
    "start_time": "2022-05-01T13:47:59.284Z"
   },
   {
    "duration": 59,
    "start_time": "2022-05-01T13:47:59.299Z"
   },
   {
    "duration": 11,
    "start_time": "2022-05-01T13:47:59.361Z"
   },
   {
    "duration": 7,
    "start_time": "2022-05-01T13:47:59.375Z"
   },
   {
    "duration": 7,
    "start_time": "2022-05-01T13:47:59.385Z"
   },
   {
    "duration": 19,
    "start_time": "2022-05-01T13:47:59.394Z"
   },
   {
    "duration": 27,
    "start_time": "2022-05-01T13:47:59.451Z"
   },
   {
    "duration": 8,
    "start_time": "2022-05-01T13:47:59.480Z"
   },
   {
    "duration": 7,
    "start_time": "2022-05-01T13:47:59.490Z"
   },
   {
    "duration": 12,
    "start_time": "2022-05-01T13:47:59.499Z"
   },
   {
    "duration": 12,
    "start_time": "2022-05-01T13:47:59.551Z"
   },
   {
    "duration": 11,
    "start_time": "2022-05-01T13:47:59.565Z"
   },
   {
    "duration": 19,
    "start_time": "2022-05-01T13:47:59.578Z"
   },
   {
    "duration": 10,
    "start_time": "2022-05-01T13:47:59.600Z"
   },
   {
    "duration": 40,
    "start_time": "2022-05-01T13:47:59.612Z"
   },
   {
    "duration": 5,
    "start_time": "2022-05-01T13:47:59.654Z"
   },
   {
    "duration": 7,
    "start_time": "2022-05-01T13:47:59.661Z"
   },
   {
    "duration": 5,
    "start_time": "2022-05-01T13:47:59.671Z"
   },
   {
    "duration": 6,
    "start_time": "2022-05-01T13:47:59.678Z"
   },
   {
    "duration": 21,
    "start_time": "2022-05-01T13:47:59.686Z"
   },
   {
    "duration": 65,
    "start_time": "2022-05-01T13:47:59.709Z"
   },
   {
    "duration": 5,
    "start_time": "2022-05-01T13:47:59.776Z"
   },
   {
    "duration": 25,
    "start_time": "2022-05-01T13:47:59.783Z"
   },
   {
    "duration": 43,
    "start_time": "2022-05-01T13:47:59.811Z"
   },
   {
    "duration": 5,
    "start_time": "2022-05-01T13:47:59.857Z"
   },
   {
    "duration": 7,
    "start_time": "2022-05-01T13:47:59.865Z"
   },
   {
    "duration": 27,
    "start_time": "2022-05-01T13:47:59.875Z"
   },
   {
    "duration": 48,
    "start_time": "2022-05-01T13:47:59.905Z"
   },
   {
    "duration": 326,
    "start_time": "2022-05-01T13:47:59.955Z"
   },
   {
    "duration": 11,
    "start_time": "2022-05-01T13:48:00.283Z"
   },
   {
    "duration": 335,
    "start_time": "2022-05-01T13:48:00.296Z"
   },
   {
    "duration": 19,
    "start_time": "2022-05-01T13:48:00.634Z"
   },
   {
    "duration": 271,
    "start_time": "2022-05-01T13:48:00.655Z"
   },
   {
    "duration": 12,
    "start_time": "2022-05-01T13:48:00.928Z"
   },
   {
    "duration": 282,
    "start_time": "2022-05-01T13:48:00.952Z"
   },
   {
    "duration": 354,
    "start_time": "2022-05-01T13:48:01.237Z"
   },
   {
    "duration": 12,
    "start_time": "2022-05-01T13:48:01.593Z"
   },
   {
    "duration": 197,
    "start_time": "2022-05-01T13:48:01.608Z"
   },
   {
    "duration": 379,
    "start_time": "2022-05-01T13:48:01.811Z"
   },
   {
    "duration": 866,
    "start_time": "2022-05-01T13:48:02.192Z"
   },
   {
    "duration": 317,
    "start_time": "2022-05-01T13:48:03.061Z"
   },
   {
    "duration": 3152,
    "start_time": "2022-05-01T13:48:03.381Z"
   },
   {
    "duration": 4,
    "start_time": "2022-05-01T13:49:23.230Z"
   },
   {
    "duration": 98,
    "start_time": "2022-05-01T13:49:23.238Z"
   },
   {
    "duration": 23,
    "start_time": "2022-05-01T13:49:23.351Z"
   },
   {
    "duration": 5,
    "start_time": "2022-05-01T13:49:23.377Z"
   },
   {
    "duration": 7,
    "start_time": "2022-05-01T13:49:23.384Z"
   },
   {
    "duration": 59,
    "start_time": "2022-05-01T13:49:23.393Z"
   },
   {
    "duration": 6,
    "start_time": "2022-05-01T13:49:23.455Z"
   },
   {
    "duration": 123,
    "start_time": "2022-05-01T13:49:23.463Z"
   },
   {
    "duration": 12,
    "start_time": "2022-05-01T13:49:23.589Z"
   },
   {
    "duration": 13,
    "start_time": "2022-05-01T13:49:23.605Z"
   },
   {
    "duration": 35,
    "start_time": "2022-05-01T13:49:23.620Z"
   },
   {
    "duration": 7,
    "start_time": "2022-05-01T13:49:23.657Z"
   },
   {
    "duration": 8,
    "start_time": "2022-05-01T13:49:23.666Z"
   },
   {
    "duration": 9,
    "start_time": "2022-05-01T13:49:23.676Z"
   },
   {
    "duration": 10,
    "start_time": "2022-05-01T13:49:23.687Z"
   },
   {
    "duration": 8,
    "start_time": "2022-05-01T13:49:23.699Z"
   },
   {
    "duration": 47,
    "start_time": "2022-05-01T13:49:23.709Z"
   },
   {
    "duration": 8,
    "start_time": "2022-05-01T13:49:23.758Z"
   },
   {
    "duration": 6,
    "start_time": "2022-05-01T13:49:23.768Z"
   },
   {
    "duration": 6,
    "start_time": "2022-05-01T13:49:23.776Z"
   },
   {
    "duration": 11,
    "start_time": "2022-05-01T13:49:23.784Z"
   },
   {
    "duration": 9,
    "start_time": "2022-05-01T13:49:23.797Z"
   },
   {
    "duration": 45,
    "start_time": "2022-05-01T13:49:23.808Z"
   },
   {
    "duration": 6,
    "start_time": "2022-05-01T13:49:23.855Z"
   },
   {
    "duration": 13,
    "start_time": "2022-05-01T13:49:23.863Z"
   },
   {
    "duration": 13,
    "start_time": "2022-05-01T13:49:23.878Z"
   },
   {
    "duration": 11,
    "start_time": "2022-05-01T13:49:23.893Z"
   },
   {
    "duration": 45,
    "start_time": "2022-05-01T13:49:23.910Z"
   },
   {
    "duration": 23,
    "start_time": "2022-05-01T13:49:23.957Z"
   },
   {
    "duration": 36,
    "start_time": "2022-05-01T13:49:23.983Z"
   },
   {
    "duration": 29,
    "start_time": "2022-05-01T13:49:24.022Z"
   },
   {
    "duration": 19,
    "start_time": "2022-05-01T13:49:24.053Z"
   },
   {
    "duration": 9,
    "start_time": "2022-05-01T13:49:24.074Z"
   },
   {
    "duration": 15,
    "start_time": "2022-05-01T13:49:24.085Z"
   },
   {
    "duration": 10,
    "start_time": "2022-05-01T13:49:24.102Z"
   },
   {
    "duration": 11,
    "start_time": "2022-05-01T13:49:24.114Z"
   },
   {
    "duration": 42,
    "start_time": "2022-05-01T13:49:24.128Z"
   },
   {
    "duration": 11,
    "start_time": "2022-05-01T13:49:24.172Z"
   },
   {
    "duration": 8,
    "start_time": "2022-05-01T13:49:24.185Z"
   },
   {
    "duration": 5,
    "start_time": "2022-05-01T13:49:24.195Z"
   },
   {
    "duration": 8,
    "start_time": "2022-05-01T13:49:24.202Z"
   },
   {
    "duration": 43,
    "start_time": "2022-05-01T13:49:24.212Z"
   },
   {
    "duration": 8,
    "start_time": "2022-05-01T13:49:24.257Z"
   },
   {
    "duration": 28,
    "start_time": "2022-05-01T13:49:24.269Z"
   },
   {
    "duration": 60,
    "start_time": "2022-05-01T13:49:24.300Z"
   },
   {
    "duration": 5,
    "start_time": "2022-05-01T13:49:24.362Z"
   },
   {
    "duration": 19,
    "start_time": "2022-05-01T13:49:24.369Z"
   },
   {
    "duration": 13,
    "start_time": "2022-05-01T13:49:24.390Z"
   },
   {
    "duration": 4,
    "start_time": "2022-05-01T13:49:24.406Z"
   },
   {
    "duration": 40,
    "start_time": "2022-05-01T13:49:24.412Z"
   },
   {
    "duration": 30,
    "start_time": "2022-05-01T13:49:24.454Z"
   },
   {
    "duration": 12,
    "start_time": "2022-05-01T13:49:24.486Z"
   },
   {
    "duration": 357,
    "start_time": "2022-05-01T13:49:24.501Z"
   },
   {
    "duration": 14,
    "start_time": "2022-05-01T13:49:24.861Z"
   },
   {
    "duration": 362,
    "start_time": "2022-05-01T13:49:24.878Z"
   },
   {
    "duration": 15,
    "start_time": "2022-05-01T13:49:25.242Z"
   },
   {
    "duration": 277,
    "start_time": "2022-05-01T13:49:25.259Z"
   },
   {
    "duration": 15,
    "start_time": "2022-05-01T13:49:25.538Z"
   },
   {
    "duration": 288,
    "start_time": "2022-05-01T13:49:25.556Z"
   },
   {
    "duration": 353,
    "start_time": "2022-05-01T13:49:25.851Z"
   },
   {
    "duration": 11,
    "start_time": "2022-05-01T13:49:26.207Z"
   },
   {
    "duration": 203,
    "start_time": "2022-05-01T13:49:26.220Z"
   },
   {
    "duration": 5,
    "start_time": "2022-05-01T13:49:26.425Z"
   },
   {
    "duration": 90,
    "start_time": "2022-05-01T13:49:26.433Z"
   },
   {
    "duration": 0,
    "start_time": "2022-05-01T13:49:26.525Z"
   },
   {
    "duration": 0,
    "start_time": "2022-05-01T13:49:26.527Z"
   },
   {
    "duration": 0,
    "start_time": "2022-05-01T13:49:26.529Z"
   },
   {
    "duration": 0,
    "start_time": "2022-05-01T13:49:26.530Z"
   },
   {
    "duration": 0,
    "start_time": "2022-05-01T13:49:26.532Z"
   },
   {
    "duration": 0,
    "start_time": "2022-05-01T13:49:26.533Z"
   },
   {
    "duration": 0,
    "start_time": "2022-05-01T13:49:26.535Z"
   },
   {
    "duration": 49,
    "start_time": "2022-05-01T13:49:46.295Z"
   },
   {
    "duration": 5,
    "start_time": "2022-05-01T13:49:46.347Z"
   },
   {
    "duration": 128,
    "start_time": "2022-05-01T13:49:46.354Z"
   },
   {
    "duration": 4861,
    "start_time": "2022-05-01T13:49:46.485Z"
   },
   {
    "duration": 302,
    "start_time": "2022-05-01T13:49:51.352Z"
   },
   {
    "duration": 642,
    "start_time": "2022-05-01T13:49:51.656Z"
   },
   {
    "duration": 340,
    "start_time": "2022-05-01T13:49:52.300Z"
   },
   {
    "duration": 3239,
    "start_time": "2022-05-01T13:49:52.642Z"
   },
   {
    "duration": 330,
    "start_time": "2022-05-01T13:57:38.040Z"
   },
   {
    "duration": 19,
    "start_time": "2022-05-01T13:58:08.528Z"
   },
   {
    "duration": 37,
    "start_time": "2022-05-01T13:58:26.201Z"
   },
   {
    "duration": 35,
    "start_time": "2022-05-01T13:59:53.831Z"
   },
   {
    "duration": 36,
    "start_time": "2022-05-01T14:07:53.220Z"
   },
   {
    "duration": 329,
    "start_time": "2022-05-01T14:10:38.395Z"
   },
   {
    "duration": 13,
    "start_time": "2022-05-01T14:20:11.254Z"
   },
   {
    "duration": 13,
    "start_time": "2022-05-01T14:20:18.066Z"
   },
   {
    "duration": 11,
    "start_time": "2022-05-01T14:20:28.864Z"
   },
   {
    "duration": 11,
    "start_time": "2022-05-01T14:22:32.347Z"
   },
   {
    "duration": 8,
    "start_time": "2022-05-01T14:25:30.203Z"
   },
   {
    "duration": 13,
    "start_time": "2022-05-01T14:25:34.097Z"
   },
   {
    "duration": 6,
    "start_time": "2022-05-01T14:26:17.058Z"
   },
   {
    "duration": 264,
    "start_time": "2022-05-01T14:26:21.421Z"
   },
   {
    "duration": 286,
    "start_time": "2022-05-01T14:28:42.066Z"
   },
   {
    "duration": 287,
    "start_time": "2022-05-01T14:29:09.468Z"
   },
   {
    "duration": 267,
    "start_time": "2022-05-01T14:29:22.173Z"
   },
   {
    "duration": 284,
    "start_time": "2022-05-01T14:29:33.184Z"
   },
   {
    "duration": 279,
    "start_time": "2022-05-01T14:30:15.393Z"
   },
   {
    "duration": 279,
    "start_time": "2022-05-01T14:30:36.235Z"
   },
   {
    "duration": 296,
    "start_time": "2022-05-01T14:31:43.662Z"
   },
   {
    "duration": 34,
    "start_time": "2022-05-01T14:32:34.123Z"
   },
   {
    "duration": 9,
    "start_time": "2022-05-01T14:32:41.200Z"
   },
   {
    "duration": 429,
    "start_time": "2022-05-01T14:32:44.154Z"
   },
   {
    "duration": 6,
    "start_time": "2022-05-01T14:33:13.138Z"
   },
   {
    "duration": 101,
    "start_time": "2022-05-01T14:35:30.500Z"
   },
   {
    "duration": 37,
    "start_time": "2022-05-01T14:36:03.431Z"
   },
   {
    "duration": 26,
    "start_time": "2022-05-01T14:36:08.270Z"
   },
   {
    "duration": 26,
    "start_time": "2022-05-01T14:36:30.036Z"
   },
   {
    "duration": 28,
    "start_time": "2022-05-01T14:36:37.882Z"
   },
   {
    "duration": 295,
    "start_time": "2022-05-01T14:36:50.024Z"
   },
   {
    "duration": 241,
    "start_time": "2022-05-01T14:43:27.187Z"
   },
   {
    "duration": 140,
    "start_time": "2022-05-01T14:45:02.019Z"
   },
   {
    "duration": 258,
    "start_time": "2022-05-01T14:45:06.928Z"
   },
   {
    "duration": 5,
    "start_time": "2022-05-01T14:47:01.175Z"
   },
   {
    "duration": 31,
    "start_time": "2022-05-01T14:50:01.189Z"
   },
   {
    "duration": 266,
    "start_time": "2022-05-01T14:50:12.736Z"
   },
   {
    "duration": 10,
    "start_time": "2022-05-01T14:59:55.479Z"
   },
   {
    "duration": 11,
    "start_time": "2022-05-01T15:00:26.620Z"
   },
   {
    "duration": 190,
    "start_time": "2022-05-01T15:02:09.849Z"
   },
   {
    "duration": 2158,
    "start_time": "2022-05-01T15:03:11.683Z"
   },
   {
    "duration": 1498,
    "start_time": "2022-05-01T15:03:14.665Z"
   },
   {
    "duration": 1736,
    "start_time": "2022-05-01T15:04:01.107Z"
   },
   {
    "duration": 163,
    "start_time": "2022-05-01T15:04:38.675Z"
   },
   {
    "duration": 160,
    "start_time": "2022-05-01T15:05:24.438Z"
   },
   {
    "duration": 194,
    "start_time": "2022-05-01T15:06:56.314Z"
   },
   {
    "duration": 169,
    "start_time": "2022-05-01T15:07:00.583Z"
   },
   {
    "duration": 182,
    "start_time": "2022-05-01T15:07:31.049Z"
   },
   {
    "duration": 161,
    "start_time": "2022-05-01T15:09:10.788Z"
   },
   {
    "duration": 196,
    "start_time": "2022-05-01T15:09:18.617Z"
   },
   {
    "duration": 199,
    "start_time": "2022-05-01T15:09:28.917Z"
   },
   {
    "duration": 12,
    "start_time": "2022-05-01T15:09:59.506Z"
   },
   {
    "duration": 205,
    "start_time": "2022-05-01T15:11:31.119Z"
   },
   {
    "duration": 209,
    "start_time": "2022-05-01T15:11:37.619Z"
   },
   {
    "duration": 1608,
    "start_time": "2022-05-01T15:11:48.313Z"
   },
   {
    "duration": 12,
    "start_time": "2022-05-01T15:12:33.226Z"
   },
   {
    "duration": 1630,
    "start_time": "2022-05-01T15:13:08.741Z"
   },
   {
    "duration": 145,
    "start_time": "2022-05-01T15:13:23.722Z"
   },
   {
    "duration": 170,
    "start_time": "2022-05-01T15:13:35.839Z"
   },
   {
    "duration": 148,
    "start_time": "2022-05-01T15:13:49.017Z"
   },
   {
    "duration": 161,
    "start_time": "2022-05-01T15:13:58.358Z"
   },
   {
    "duration": 257,
    "start_time": "2022-05-01T15:14:10.763Z"
   },
   {
    "duration": 161,
    "start_time": "2022-05-01T15:15:13.259Z"
   },
   {
    "duration": 161,
    "start_time": "2022-05-01T15:15:22.023Z"
   },
   {
    "duration": 167,
    "start_time": "2022-05-01T15:20:16.795Z"
   },
   {
    "duration": 190,
    "start_time": "2022-05-01T15:20:21.685Z"
   },
   {
    "duration": 190,
    "start_time": "2022-05-01T15:20:25.436Z"
   },
   {
    "duration": 251,
    "start_time": "2022-05-01T15:22:46.789Z"
   },
   {
    "duration": 396,
    "start_time": "2022-05-01T15:23:02.251Z"
   },
   {
    "duration": 251,
    "start_time": "2022-05-01T15:23:16.468Z"
   },
   {
    "duration": 228,
    "start_time": "2022-05-01T15:24:32.450Z"
   },
   {
    "duration": 260,
    "start_time": "2022-05-01T15:24:48.456Z"
   },
   {
    "duration": 214,
    "start_time": "2022-05-01T15:24:58.167Z"
   },
   {
    "duration": 36,
    "start_time": "2022-05-01T15:25:09.266Z"
   },
   {
    "duration": 222,
    "start_time": "2022-05-01T15:25:14.493Z"
   },
   {
    "duration": 235,
    "start_time": "2022-05-01T15:26:21.981Z"
   },
   {
    "duration": 233,
    "start_time": "2022-05-01T15:26:39.745Z"
   },
   {
    "duration": 10,
    "start_time": "2022-05-01T15:26:51.403Z"
   },
   {
    "duration": 229,
    "start_time": "2022-05-01T15:27:20.858Z"
   },
   {
    "duration": 222,
    "start_time": "2022-05-01T15:28:28.166Z"
   },
   {
    "duration": 12,
    "start_time": "2022-05-01T15:28:46.995Z"
   },
   {
    "duration": 247,
    "start_time": "2022-05-01T15:28:53.582Z"
   },
   {
    "duration": 11,
    "start_time": "2022-05-01T15:30:29.518Z"
   },
   {
    "duration": 15,
    "start_time": "2022-05-01T15:31:21.407Z"
   },
   {
    "duration": 16,
    "start_time": "2022-05-01T15:31:30.657Z"
   },
   {
    "duration": 24,
    "start_time": "2022-05-01T15:31:42.588Z"
   },
   {
    "duration": 1033,
    "start_time": "2022-05-01T15:31:48.294Z"
   },
   {
    "duration": 297,
    "start_time": "2022-05-01T15:34:48.599Z"
   },
   {
    "duration": 307,
    "start_time": "2022-05-01T15:35:32.218Z"
   },
   {
    "duration": 319,
    "start_time": "2022-05-01T15:36:50.704Z"
   },
   {
    "duration": 338,
    "start_time": "2022-05-01T15:37:10.084Z"
   },
   {
    "duration": 327,
    "start_time": "2022-05-01T15:37:31.959Z"
   },
   {
    "duration": 254,
    "start_time": "2022-05-01T15:38:26.446Z"
   },
   {
    "duration": 251,
    "start_time": "2022-05-01T15:38:36.157Z"
   },
   {
    "duration": 234,
    "start_time": "2022-05-01T15:38:41.420Z"
   },
   {
    "duration": 246,
    "start_time": "2022-05-01T15:38:46.156Z"
   },
   {
    "duration": 233,
    "start_time": "2022-05-01T15:38:52.461Z"
   },
   {
    "duration": 259,
    "start_time": "2022-05-01T15:39:05.556Z"
   },
   {
    "duration": 235,
    "start_time": "2022-05-01T15:39:10.320Z"
   },
   {
    "duration": 284,
    "start_time": "2022-05-01T15:41:11.638Z"
   },
   {
    "duration": 231,
    "start_time": "2022-05-01T15:41:28.276Z"
   },
   {
    "duration": 234,
    "start_time": "2022-05-01T15:41:39.342Z"
   },
   {
    "duration": 9,
    "start_time": "2022-05-01T15:42:12.561Z"
   },
   {
    "duration": 11,
    "start_time": "2022-05-01T15:46:04.545Z"
   },
   {
    "duration": 11,
    "start_time": "2022-05-01T15:46:14.758Z"
   },
   {
    "duration": 8,
    "start_time": "2022-05-01T15:46:25.499Z"
   },
   {
    "duration": 10,
    "start_time": "2022-05-01T15:46:39.723Z"
   },
   {
    "duration": 292,
    "start_time": "2022-05-01T15:50:59.189Z"
   },
   {
    "duration": 454,
    "start_time": "2022-05-01T15:52:01.930Z"
   },
   {
    "duration": 274,
    "start_time": "2022-05-01T15:52:19.052Z"
   },
   {
    "duration": 267,
    "start_time": "2022-05-01T15:55:39.024Z"
   },
   {
    "duration": 287,
    "start_time": "2022-05-01T15:55:44.939Z"
   },
   {
    "duration": 2007,
    "start_time": "2022-05-01T15:57:08.498Z"
   },
   {
    "duration": 5,
    "start_time": "2022-05-01T17:33:51.034Z"
   },
   {
    "duration": 19,
    "start_time": "2022-05-01T17:33:52.314Z"
   },
   {
    "duration": 17,
    "start_time": "2022-05-01T17:34:26.793Z"
   },
   {
    "duration": 18,
    "start_time": "2022-05-01T17:34:33.969Z"
   },
   {
    "duration": 17,
    "start_time": "2022-05-01T17:34:36.859Z"
   },
   {
    "duration": 52,
    "start_time": "2022-05-01T17:34:52.211Z"
   },
   {
    "duration": 4,
    "start_time": "2022-05-01T18:46:51.173Z"
   },
   {
    "duration": 102,
    "start_time": "2022-05-01T18:46:51.180Z"
   },
   {
    "duration": 23,
    "start_time": "2022-05-01T18:46:51.285Z"
   },
   {
    "duration": 4,
    "start_time": "2022-05-01T18:46:51.311Z"
   },
   {
    "duration": 5,
    "start_time": "2022-05-01T18:46:51.318Z"
   },
   {
    "duration": 22,
    "start_time": "2022-05-01T18:46:51.352Z"
   },
   {
    "duration": 6,
    "start_time": "2022-05-01T18:46:51.376Z"
   },
   {
    "duration": 136,
    "start_time": "2022-05-01T18:46:51.385Z"
   },
   {
    "duration": 34,
    "start_time": "2022-05-01T18:46:51.524Z"
   },
   {
    "duration": 13,
    "start_time": "2022-05-01T18:46:51.560Z"
   },
   {
    "duration": 7,
    "start_time": "2022-05-01T18:46:51.577Z"
   },
   {
    "duration": 6,
    "start_time": "2022-05-01T18:46:51.586Z"
   },
   {
    "duration": 7,
    "start_time": "2022-05-01T18:46:51.594Z"
   },
   {
    "duration": 7,
    "start_time": "2022-05-01T18:46:51.652Z"
   },
   {
    "duration": 15,
    "start_time": "2022-05-01T18:46:51.662Z"
   },
   {
    "duration": 7,
    "start_time": "2022-05-01T18:46:51.679Z"
   },
   {
    "duration": 8,
    "start_time": "2022-05-01T18:46:51.688Z"
   },
   {
    "duration": 55,
    "start_time": "2022-05-01T18:46:51.698Z"
   },
   {
    "duration": 3,
    "start_time": "2022-05-01T18:46:51.756Z"
   },
   {
    "duration": 24,
    "start_time": "2022-05-01T18:46:51.761Z"
   },
   {
    "duration": 13,
    "start_time": "2022-05-01T18:46:51.788Z"
   },
   {
    "duration": 12,
    "start_time": "2022-05-01T18:46:51.804Z"
   },
   {
    "duration": 12,
    "start_time": "2022-05-01T18:46:51.818Z"
   },
   {
    "duration": 22,
    "start_time": "2022-05-01T18:46:51.832Z"
   },
   {
    "duration": 12,
    "start_time": "2022-05-01T18:46:51.857Z"
   },
   {
    "duration": 12,
    "start_time": "2022-05-01T18:46:51.872Z"
   },
   {
    "duration": 12,
    "start_time": "2022-05-01T18:46:51.886Z"
   },
   {
    "duration": 5,
    "start_time": "2022-05-01T18:46:51.900Z"
   },
   {
    "duration": 6,
    "start_time": "2022-05-01T18:46:51.958Z"
   },
   {
    "duration": 12,
    "start_time": "2022-05-01T18:46:51.966Z"
   },
   {
    "duration": 29,
    "start_time": "2022-05-01T18:46:51.980Z"
   },
   {
    "duration": 44,
    "start_time": "2022-05-01T18:46:52.011Z"
   },
   {
    "duration": 6,
    "start_time": "2022-05-01T18:46:52.057Z"
   },
   {
    "duration": 14,
    "start_time": "2022-05-01T18:46:52.065Z"
   },
   {
    "duration": 12,
    "start_time": "2022-05-01T18:46:52.080Z"
   },
   {
    "duration": 10,
    "start_time": "2022-05-01T18:46:52.094Z"
   },
   {
    "duration": 61,
    "start_time": "2022-05-01T18:46:52.107Z"
   },
   {
    "duration": 10,
    "start_time": "2022-05-01T18:46:52.170Z"
   },
   {
    "duration": 8,
    "start_time": "2022-05-01T18:46:52.182Z"
   },
   {
    "duration": 6,
    "start_time": "2022-05-01T18:46:52.192Z"
   },
   {
    "duration": 6,
    "start_time": "2022-05-01T18:46:52.200Z"
   },
   {
    "duration": 44,
    "start_time": "2022-05-01T18:46:52.208Z"
   },
   {
    "duration": 7,
    "start_time": "2022-05-01T18:46:52.255Z"
   },
   {
    "duration": 24,
    "start_time": "2022-05-01T18:46:52.264Z"
   },
   {
    "duration": 27,
    "start_time": "2022-05-01T18:46:52.290Z"
   },
   {
    "duration": 5,
    "start_time": "2022-05-01T18:46:52.319Z"
   },
   {
    "duration": 42,
    "start_time": "2022-05-01T18:46:52.326Z"
   },
   {
    "duration": 13,
    "start_time": "2022-05-01T18:46:52.370Z"
   },
   {
    "duration": 6,
    "start_time": "2022-05-01T18:46:52.386Z"
   },
   {
    "duration": 6,
    "start_time": "2022-05-01T18:46:52.395Z"
   },
   {
    "duration": 80,
    "start_time": "2022-05-01T18:46:52.403Z"
   },
   {
    "duration": 14,
    "start_time": "2022-05-01T18:46:52.486Z"
   },
   {
    "duration": 364,
    "start_time": "2022-05-01T18:46:52.503Z"
   },
   {
    "duration": 12,
    "start_time": "2022-05-01T18:46:52.869Z"
   },
   {
    "duration": 377,
    "start_time": "2022-05-01T18:46:52.884Z"
   },
   {
    "duration": 11,
    "start_time": "2022-05-01T18:46:53.264Z"
   },
   {
    "duration": 285,
    "start_time": "2022-05-01T18:46:53.277Z"
   },
   {
    "duration": 14,
    "start_time": "2022-05-01T18:46:53.564Z"
   },
   {
    "duration": 290,
    "start_time": "2022-05-01T18:46:53.581Z"
   },
   {
    "duration": 1338,
    "start_time": "2022-05-01T18:46:53.873Z"
   },
   {
    "duration": 15,
    "start_time": "2022-05-01T18:46:55.214Z"
   },
   {
    "duration": 284,
    "start_time": "2022-05-01T18:46:55.232Z"
   },
   {
    "duration": 7,
    "start_time": "2022-05-01T18:46:55.519Z"
   },
   {
    "duration": 84,
    "start_time": "2022-05-01T18:46:55.529Z"
   },
   {
    "duration": 6,
    "start_time": "2022-05-01T18:46:55.616Z"
   },
   {
    "duration": 179,
    "start_time": "2022-05-01T18:46:55.624Z"
   },
   {
    "duration": 431,
    "start_time": "2022-05-01T18:46:55.806Z"
   },
   {
    "duration": 588,
    "start_time": "2022-05-01T18:46:56.251Z"
   },
   {
    "duration": 339,
    "start_time": "2022-05-01T18:46:56.842Z"
   },
   {
    "duration": 2559,
    "start_time": "2022-05-01T18:46:57.183Z"
   },
   {
    "duration": 42,
    "start_time": "2022-05-01T18:46:59.752Z"
   },
   {
    "duration": 6,
    "start_time": "2022-05-01T18:46:59.796Z"
   },
   {
    "duration": 68,
    "start_time": "2022-05-01T18:46:59.805Z"
   },
   {
    "duration": 282,
    "start_time": "2022-05-01T18:46:59.876Z"
   },
   {
    "duration": 14,
    "start_time": "2022-05-01T18:47:00.161Z"
   },
   {
    "duration": 20,
    "start_time": "2022-05-01T18:47:00.177Z"
   },
   {
    "duration": 496,
    "start_time": "2022-05-01T18:47:00.201Z"
   },
   {
    "duration": 14,
    "start_time": "2022-05-01T18:47:00.700Z"
   },
   {
    "duration": 528,
    "start_time": "2022-05-01T18:47:00.717Z"
   },
   {
    "duration": 14,
    "start_time": "2022-05-01T18:47:01.251Z"
   },
   {
    "duration": 356,
    "start_time": "2022-05-01T18:47:01.267Z"
   },
   {
    "duration": 28,
    "start_time": "2022-05-01T18:47:01.624Z"
   },
   {
    "duration": 247,
    "start_time": "2022-05-01T18:47:01.662Z"
   },
   {
    "duration": 292,
    "start_time": "2022-05-01T18:47:01.912Z"
   },
   {
    "duration": 486,
    "start_time": "2022-05-01T18:47:02.206Z"
   },
   {
    "duration": 288,
    "start_time": "2022-05-01T18:47:02.694Z"
   },
   {
    "duration": 2153,
    "start_time": "2022-05-01T18:47:02.984Z"
   },
   {
    "duration": 116,
    "start_time": "2022-05-01T18:47:50.263Z"
   },
   {
    "duration": 121,
    "start_time": "2022-05-01T18:48:32.286Z"
   },
   {
    "duration": 5,
    "start_time": "2022-05-01T18:51:49.328Z"
   },
   {
    "duration": 100,
    "start_time": "2022-05-01T18:51:49.336Z"
   },
   {
    "duration": 26,
    "start_time": "2022-05-01T18:51:49.452Z"
   },
   {
    "duration": 6,
    "start_time": "2022-05-01T18:51:49.481Z"
   },
   {
    "duration": 5,
    "start_time": "2022-05-01T18:51:49.490Z"
   },
   {
    "duration": 64,
    "start_time": "2022-05-01T18:51:49.498Z"
   },
   {
    "duration": 6,
    "start_time": "2022-05-01T18:51:49.564Z"
   },
   {
    "duration": 125,
    "start_time": "2022-05-01T18:51:49.573Z"
   },
   {
    "duration": 13,
    "start_time": "2022-05-01T18:51:49.700Z"
   },
   {
    "duration": 47,
    "start_time": "2022-05-01T18:51:49.716Z"
   },
   {
    "duration": 8,
    "start_time": "2022-05-01T18:51:49.767Z"
   },
   {
    "duration": 7,
    "start_time": "2022-05-01T18:51:49.778Z"
   },
   {
    "duration": 12,
    "start_time": "2022-05-01T18:51:49.788Z"
   },
   {
    "duration": 12,
    "start_time": "2022-05-01T18:51:49.802Z"
   },
   {
    "duration": 47,
    "start_time": "2022-05-01T18:51:49.816Z"
   },
   {
    "duration": 7,
    "start_time": "2022-05-01T18:51:49.865Z"
   },
   {
    "duration": 14,
    "start_time": "2022-05-01T18:51:49.874Z"
   },
   {
    "duration": 9,
    "start_time": "2022-05-01T18:51:49.891Z"
   },
   {
    "duration": 5,
    "start_time": "2022-05-01T18:51:49.903Z"
   },
   {
    "duration": 50,
    "start_time": "2022-05-01T18:51:49.910Z"
   },
   {
    "duration": 13,
    "start_time": "2022-05-01T18:51:49.962Z"
   },
   {
    "duration": 11,
    "start_time": "2022-05-01T18:51:49.977Z"
   },
   {
    "duration": 8,
    "start_time": "2022-05-01T18:51:49.991Z"
   },
   {
    "duration": 10,
    "start_time": "2022-05-01T18:51:50.001Z"
   },
   {
    "duration": 38,
    "start_time": "2022-05-01T18:51:50.013Z"
   },
   {
    "duration": 12,
    "start_time": "2022-05-01T18:51:50.054Z"
   },
   {
    "duration": 11,
    "start_time": "2022-05-01T18:51:50.069Z"
   },
   {
    "duration": 5,
    "start_time": "2022-05-01T18:51:50.083Z"
   },
   {
    "duration": 5,
    "start_time": "2022-05-01T18:51:50.096Z"
   },
   {
    "duration": 50,
    "start_time": "2022-05-01T18:51:50.103Z"
   },
   {
    "duration": 31,
    "start_time": "2022-05-01T18:51:50.155Z"
   },
   {
    "duration": 8,
    "start_time": "2022-05-01T18:51:50.189Z"
   },
   {
    "duration": 12,
    "start_time": "2022-05-01T18:51:50.199Z"
   },
   {
    "duration": 46,
    "start_time": "2022-05-01T18:51:50.214Z"
   },
   {
    "duration": 14,
    "start_time": "2022-05-01T18:51:50.262Z"
   },
   {
    "duration": 12,
    "start_time": "2022-05-01T18:51:50.279Z"
   },
   {
    "duration": 59,
    "start_time": "2022-05-01T18:51:50.293Z"
   },
   {
    "duration": 12,
    "start_time": "2022-05-01T18:51:50.354Z"
   },
   {
    "duration": 13,
    "start_time": "2022-05-01T18:51:50.368Z"
   },
   {
    "duration": 7,
    "start_time": "2022-05-01T18:51:50.383Z"
   },
   {
    "duration": 7,
    "start_time": "2022-05-01T18:51:50.393Z"
   },
   {
    "duration": 49,
    "start_time": "2022-05-01T18:51:50.403Z"
   },
   {
    "duration": 7,
    "start_time": "2022-05-01T18:51:50.454Z"
   },
   {
    "duration": 22,
    "start_time": "2022-05-01T18:51:50.463Z"
   },
   {
    "duration": 29,
    "start_time": "2022-05-01T18:51:50.488Z"
   },
   {
    "duration": 35,
    "start_time": "2022-05-01T18:51:50.519Z"
   },
   {
    "duration": 22,
    "start_time": "2022-05-01T18:51:50.557Z"
   },
   {
    "duration": 14,
    "start_time": "2022-05-01T18:51:50.581Z"
   },
   {
    "duration": 5,
    "start_time": "2022-05-01T18:51:50.597Z"
   },
   {
    "duration": 12,
    "start_time": "2022-05-01T18:51:50.605Z"
   },
   {
    "duration": 55,
    "start_time": "2022-05-01T18:51:50.620Z"
   },
   {
    "duration": 12,
    "start_time": "2022-05-01T18:51:50.677Z"
   },
   {
    "duration": 338,
    "start_time": "2022-05-01T18:51:50.692Z"
   },
   {
    "duration": 20,
    "start_time": "2022-05-01T18:51:51.033Z"
   },
   {
    "duration": 346,
    "start_time": "2022-05-01T18:51:51.056Z"
   },
   {
    "duration": 13,
    "start_time": "2022-05-01T18:51:51.404Z"
   },
   {
    "duration": 287,
    "start_time": "2022-05-01T18:51:51.419Z"
   },
   {
    "duration": 14,
    "start_time": "2022-05-01T18:51:51.709Z"
   },
   {
    "duration": 295,
    "start_time": "2022-05-01T18:51:51.725Z"
   },
   {
    "duration": 361,
    "start_time": "2022-05-01T18:51:52.022Z"
   },
   {
    "duration": 12,
    "start_time": "2022-05-01T18:51:52.386Z"
   },
   {
    "duration": 827,
    "start_time": "2022-05-01T18:51:52.401Z"
   },
   {
    "duration": 6,
    "start_time": "2022-05-01T18:51:53.231Z"
   },
   {
    "duration": 49,
    "start_time": "2022-05-01T18:51:53.253Z"
   },
   {
    "duration": 6,
    "start_time": "2022-05-01T18:51:53.306Z"
   },
   {
    "duration": 148,
    "start_time": "2022-05-01T18:51:53.314Z"
   },
   {
    "duration": 372,
    "start_time": "2022-05-01T18:51:53.465Z"
   },
   {
    "duration": 729,
    "start_time": "2022-05-01T18:51:53.839Z"
   },
   {
    "duration": 492,
    "start_time": "2022-05-01T18:51:54.571Z"
   },
   {
    "duration": 2478,
    "start_time": "2022-05-01T18:51:55.065Z"
   },
   {
    "duration": 41,
    "start_time": "2022-05-01T18:51:57.545Z"
   },
   {
    "duration": 5,
    "start_time": "2022-05-01T18:51:57.588Z"
   },
   {
    "duration": 56,
    "start_time": "2022-05-01T18:51:57.596Z"
   },
   {
    "duration": 290,
    "start_time": "2022-05-01T18:51:57.655Z"
   },
   {
    "duration": 11,
    "start_time": "2022-05-01T18:51:57.951Z"
   },
   {
    "duration": 13,
    "start_time": "2022-05-01T18:51:57.965Z"
   },
   {
    "duration": 440,
    "start_time": "2022-05-01T18:51:57.981Z"
   },
   {
    "duration": 12,
    "start_time": "2022-05-01T18:51:58.425Z"
   },
   {
    "duration": 359,
    "start_time": "2022-05-01T18:51:58.453Z"
   },
   {
    "duration": 12,
    "start_time": "2022-05-01T18:51:58.815Z"
   },
   {
    "duration": 266,
    "start_time": "2022-05-01T18:51:58.830Z"
   },
   {
    "duration": 13,
    "start_time": "2022-05-01T18:51:59.098Z"
   },
   {
    "duration": 253,
    "start_time": "2022-05-01T18:51:59.121Z"
   },
   {
    "duration": 296,
    "start_time": "2022-05-01T18:51:59.377Z"
   },
   {
    "duration": 511,
    "start_time": "2022-05-01T18:51:59.675Z"
   },
   {
    "duration": 293,
    "start_time": "2022-05-01T18:52:00.188Z"
   },
   {
    "duration": 2043,
    "start_time": "2022-05-01T18:52:00.483Z"
   }
  ],
  "kernelspec": {
   "display_name": "Python 3 (ipykernel)",
   "language": "python",
   "name": "python3"
  },
  "language_info": {
   "codemirror_mode": {
    "name": "ipython",
    "version": 3
   },
   "file_extension": ".py",
   "mimetype": "text/x-python",
   "name": "python",
   "nbconvert_exporter": "python",
   "pygments_lexer": "ipython3",
   "version": "3.9.5"
  },
  "toc": {
   "base_numbering": 1,
   "nav_menu": {},
   "number_sections": true,
   "sideBar": true,
   "skip_h1_title": true,
   "title_cell": "Содержание",
   "title_sidebar": "Contents",
   "toc_cell": true,
   "toc_position": {
    "height": "calc(100% - 180px)",
    "left": "10px",
    "top": "150px",
    "width": "346.667px"
   },
   "toc_section_display": true,
   "toc_window_display": false
  }
 },
 "nbformat": 4,
 "nbformat_minor": 4
}
