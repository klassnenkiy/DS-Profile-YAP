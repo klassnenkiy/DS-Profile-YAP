{
 "cells": [
  {
   "cell_type": "markdown",
   "metadata": {},
   "source": [
    "# Определение перспективного тарифа для телеком-компании\n",
    "\n",
    "### Описание проекта\n",
    "\n",
    "Вы аналитик компании «Мегалайн» — федерального оператора сотовой связи. Клиентам предлагают два тарифных плана: «Смарт» и «Ультра». Чтобы скорректировать рекламный бюджет, коммерческий департамент хочет понять, какой тариф приносит больше денег.\n",
    "Вам предстоит сделать предварительный анализ тарифов на небольшой выборке клиентов. В вашем распоряжении данные 500 пользователей «Мегалайна»: кто они, откуда, каким тарифом пользуются, сколько звонков и сообщений каждый отправил за 2018 год. Нужно проанализировать поведение клиентов и сделать вывод — какой тариф лучше.\n",
    "\n",
    "#### Описание тарифов\n",
    "\n",
    "Тариф «Смарт»\n",
    "\n",
    "Ежемесячная плата: 550 рублей\n",
    "Включено 500 минут разговора, 50 сообщений и 15 Гб интернет-трафика\n",
    "Стоимость услуг сверх тарифного пакета:\n",
    "минута разговора: 3 рубля\n",
    "сообщение: 3 рубля\n",
    "1 Гб интернет-трафика: 200 рублей\n",
    "\n",
    "Тариф «Ультра»\n",
    "\n",
    "Ежемесячная плата: 1950 рублей\n",
    "Включено 3000 минут разговора, 1000 сообщений и 30 Гб интернет-трафика\n",
    "Стоимость услуг сверх тарифного пакета:\n",
    "минута разговора: 1 рубль\n",
    "сообщение: 1 рубль\n",
    "1 Гб интернет-трафика: 150 рублей\n",
    "\n",
    "Примечание\n",
    "«Мегалайн» всегда округляет секунды до минут, а мегабайты — до гигабайт. Каждый звонок округляется отдельно: даже если он длился всего 1 секунду, будет засчитан как 1 минута.\n",
    "Для веб-трафика отдельные сессии не считаются. Вместо этого общая сумма за месяц округляется в бо́льшую сторону. Если абонент использует 1025 мегабайт в этом месяце, с него возьмут плату за 2 гигабайта. Примите, что неиспользованные за предыдущий месяц звонки, смс, интернет на следующий месяц не переносятся.\n",
    "\n",
    "#### Шаги по выполнению проекта\n",
    "Шаг 1. Откройте файл с данными и изучите общую информацию\n",
    "\n",
    "\n",
    "Шаг 2. Подготовьте данные\n",
    "Приведите данные к нужным типам;\n",
    "Найдите и исправьте ошибки в данных, если они есть.\n",
    "Поясните, какие ошибки вы нашли и как их исправили. В данных вы найдёте звонки с нулевой продолжительностью. Это не ошибка: нулями обозначены пропущенные звонки, поэтому их не нужно удалять.\n",
    "Посчитайте для каждого пользователя:\n",
    "количество сделанных звонков и израсходованных минут разговора по месяцам;\n",
    "количество отправленных сообщений по месяцам;\n",
    "объем израсходованного интернет-трафика по месяцам;\n",
    "помесячную выручку с каждого пользователя (вычтите бесплатный лимит из суммарного количества звонков, сообщений и интернет-трафика; остаток умножьте на значение из тарифного плана; прибавьте абонентскую плату, соответствующую тарифному плану).\n",
    "\n",
    "Шаг 3. Проанализируйте данные\n",
    "\n",
    "Опишите поведение клиентов оператора, исходя из выборки. Сколько минут разговора, сколько сообщений и какой объём интернет-трафика требуется пользователям каждого тарифа в месяц? Посчитайте среднее количество, дисперсию и стандартное отклонение. Постройте гистограммы. Опишите распределения.\n",
    "\n",
    "Шаг 4. Проверьте гипотезы\n",
    "\n",
    "средняя выручка пользователей тарифов «Ультра» и «Смарт» различаются;\n",
    "средняя выручка пользователей из Москвы отличается от выручки пользователей из других регионов.\n",
    "Пороговое значение alpha задайте самостоятельно.\n",
    "Поясните:\n",
    "как вы формулировали нулевую и альтернативную гипотезы;\n",
    "какой критерий использовали для проверки гипотез и почему.\n",
    "\n",
    "Шаг 5. Напишите общий вывод\n",
    "\n",
    "Оформление: Задание выполните в Jupyter Notebook. Программный код заполните в ячейках типа code, текстовые пояснения — в ячейках типа markdown. Примените форматирование и заголовки.\n",
    "\n",
    "#### Описание данных\n",
    "\n",
    "Таблица users (информация о пользователях):\n",
    "- user_id — уникальный идентификатор пользователя\n",
    "- first_name — имя пользователя\n",
    "- last_name — фамилия пользователя\n",
    "- age — возраст пользователя (годы)\n",
    "- reg_date — дата подключения тарифа (день, месяц, год)\n",
    "- churn_date — дата прекращения пользования тарифом (если значение пропущено, то тариф ещё действовал на момент выгрузки данных)\n",
    "- city — город проживания пользователя\n",
    "- tariff — название тарифного плана\n",
    "\n",
    "Таблица calls (информация о звонках):\n",
    "- id — уникальный номер звонка\n",
    "- call_date — дата звонка\n",
    "- duration — длительность звонка в минутах\n",
    "- user_id — идентификатор пользователя, сделавшего звонок\n",
    "\n",
    "Таблица messages (информация о сообщениях):\n",
    "- id — уникальный номер сообщения\n",
    "- message_date — дата сообщения\n",
    "- user_id — идентификатор пользователя, отправившего сообщение\n",
    "\n",
    "Таблица internet (информация об интернет-сессиях):\n",
    "- id — уникальный номер сессии\n",
    "- mb_used — объём потраченного за сессию интернет-трафика (в мегабайтах)\n",
    "- session_date — дата интернет-сессии\n",
    "- user_id — идентификатор пользователя\n",
    "\n",
    "Таблица tariffs (информация о тарифах):\n",
    "- tariff_name — название тарифа\n",
    "- rub_monthly_fee — ежемесячная абонентская плата в рублях\n",
    "- minutes_included — количество минут разговора в месяц, включённых в абонентскую плату\n",
    "- messages_included — количество сообщений в месяц, включённых в абонентскую плату\n",
    "- mb_per_month_included — объём интернет-трафика, включённого в абонентскую плату (в мегабайтах)\n",
    "- rub_per_minute — стоимость минуты разговора сверх тарифного пакета (например, если в тарифе 100 минут разговора в месяц, то со 101 минуты будет взиматься плата)\n",
    "- rub_per_message — стоимость отправки сообщения сверх тарифного пакета\n",
    "- rub_per_gb — стоимость дополнительного гигабайта интернет-трафика сверх тарифного пакета (1 гигабайт = 1024 мегабайта)\n",
    "\n",
    "Примечание. Если объединение таблиц командой merge приводит к ошибке dead kernell, примените join."
   ]
  },
  {
   "cell_type": "markdown",
   "metadata": {},
   "source": [
    "### Цель исследования\n",
    "\n",
    "Чтобы скорректировать рекламный бюджет, коммерческий департамент федерального оператора сотовой связи хочет понять, какой тариф приносит больше денег. Необходимо сделать предварительный анализ тарифов на небольшой выборке клиентов. В распоряжении данные 500 пользователей «Мегалайна»: кто они, откуда, каким тарифом пользуются, сколько звонков и сообщений каждый отправил за 2018 год. Нужно проанализировать поведение клиентов и сделать вывод — какой тариф лучше."
   ]
  },
  {
   "cell_type": "markdown",
   "metadata": {},
   "source": [
    "## Изучение данных из файла"
   ]
  },
  {
   "cell_type": "markdown",
   "metadata": {},
   "source": [
    "Импортирую все используемые библиотеки в проекте, читаю  таблицы  "
   ]
  },
  {
   "cell_type": "code",
   "execution_count": 1,
   "metadata": {},
   "outputs": [],
   "source": [
    "import pandas as pd\n",
    "import seaborn as sns\n",
    "import matplotlib.pyplot as plt\n",
    "import math\n",
    "import numpy as np\n",
    "from scipy import stats as st\n",
    "import warnings\n"
   ]
  },
  {
   "cell_type": "code",
   "execution_count": 2,
   "metadata": {},
   "outputs": [],
   "source": [
    "calls = pd.read_csv('/datasets/calls.csv')\n",
    "internet = pd.read_csv('/datasets/internet.csv')\n",
    "messages = pd.read_csv('/datasets/messages.csv')\n",
    "tariffs = pd.read_csv('/datasets/tariffs.csv')\n",
    "users = pd.read_csv('/datasets/users.csv')"
   ]
  },
  {
   "cell_type": "code",
   "execution_count": 3,
   "metadata": {},
   "outputs": [],
   "source": [
    "pd.set_option('display.float_format', '{:,.2f}'.format)\n",
    "pd.set_option('display.max_columns', None)"
   ]
  },
  {
   "cell_type": "code",
   "execution_count": 4,
   "metadata": {},
   "outputs": [],
   "source": [
    "warnings.filterwarnings(\"ignore\")"
   ]
  },
  {
   "cell_type": "markdown",
   "metadata": {},
   "source": [
    "Общая информация по каждой таблице:"
   ]
  },
  {
   "cell_type": "code",
   "execution_count": 5,
   "metadata": {},
   "outputs": [
    {
     "name": "stdout",
     "output_type": "stream",
     "text": [
      "<class 'pandas.core.frame.DataFrame'>\n",
      "RangeIndex: 202607 entries, 0 to 202606\n",
      "Data columns (total 4 columns):\n",
      " #   Column     Non-Null Count   Dtype  \n",
      "---  ------     --------------   -----  \n",
      " 0   id         202607 non-null  object \n",
      " 1   call_date  202607 non-null  object \n",
      " 2   duration   202607 non-null  float64\n",
      " 3   user_id    202607 non-null  int64  \n",
      "dtypes: float64(1), int64(1), object(2)\n",
      "memory usage: 6.2+ MB\n"
     ]
    },
    {
     "data": {
      "text/plain": [
       "None"
      ]
     },
     "metadata": {},
     "output_type": "display_data"
    },
    {
     "name": "stdout",
     "output_type": "stream",
     "text": [
      "<class 'pandas.core.frame.DataFrame'>\n",
      "RangeIndex: 149396 entries, 0 to 149395\n",
      "Data columns (total 5 columns):\n",
      " #   Column        Non-Null Count   Dtype  \n",
      "---  ------        --------------   -----  \n",
      " 0   Unnamed: 0    149396 non-null  int64  \n",
      " 1   id            149396 non-null  object \n",
      " 2   mb_used       149396 non-null  float64\n",
      " 3   session_date  149396 non-null  object \n",
      " 4   user_id       149396 non-null  int64  \n",
      "dtypes: float64(1), int64(2), object(2)\n",
      "memory usage: 5.7+ MB\n"
     ]
    },
    {
     "data": {
      "text/plain": [
       "None"
      ]
     },
     "metadata": {},
     "output_type": "display_data"
    },
    {
     "name": "stdout",
     "output_type": "stream",
     "text": [
      "<class 'pandas.core.frame.DataFrame'>\n",
      "RangeIndex: 123036 entries, 0 to 123035\n",
      "Data columns (total 3 columns):\n",
      " #   Column        Non-Null Count   Dtype \n",
      "---  ------        --------------   ----- \n",
      " 0   id            123036 non-null  object\n",
      " 1   message_date  123036 non-null  object\n",
      " 2   user_id       123036 non-null  int64 \n",
      "dtypes: int64(1), object(2)\n",
      "memory usage: 2.8+ MB\n"
     ]
    },
    {
     "data": {
      "text/plain": [
       "None"
      ]
     },
     "metadata": {},
     "output_type": "display_data"
    },
    {
     "name": "stdout",
     "output_type": "stream",
     "text": [
      "<class 'pandas.core.frame.DataFrame'>\n",
      "RangeIndex: 2 entries, 0 to 1\n",
      "Data columns (total 8 columns):\n",
      " #   Column                 Non-Null Count  Dtype \n",
      "---  ------                 --------------  ----- \n",
      " 0   messages_included      2 non-null      int64 \n",
      " 1   mb_per_month_included  2 non-null      int64 \n",
      " 2   minutes_included       2 non-null      int64 \n",
      " 3   rub_monthly_fee        2 non-null      int64 \n",
      " 4   rub_per_gb             2 non-null      int64 \n",
      " 5   rub_per_message        2 non-null      int64 \n",
      " 6   rub_per_minute         2 non-null      int64 \n",
      " 7   tariff_name            2 non-null      object\n",
      "dtypes: int64(7), object(1)\n",
      "memory usage: 256.0+ bytes\n"
     ]
    },
    {
     "data": {
      "text/plain": [
       "None"
      ]
     },
     "metadata": {},
     "output_type": "display_data"
    },
    {
     "name": "stdout",
     "output_type": "stream",
     "text": [
      "<class 'pandas.core.frame.DataFrame'>\n",
      "RangeIndex: 500 entries, 0 to 499\n",
      "Data columns (total 8 columns):\n",
      " #   Column      Non-Null Count  Dtype \n",
      "---  ------      --------------  ----- \n",
      " 0   user_id     500 non-null    int64 \n",
      " 1   age         500 non-null    int64 \n",
      " 2   churn_date  38 non-null     object\n",
      " 3   city        500 non-null    object\n",
      " 4   first_name  500 non-null    object\n",
      " 5   last_name   500 non-null    object\n",
      " 6   reg_date    500 non-null    object\n",
      " 7   tariff      500 non-null    object\n",
      "dtypes: int64(2), object(6)\n",
      "memory usage: 31.4+ KB\n"
     ]
    },
    {
     "data": {
      "text/plain": [
       "None"
      ]
     },
     "metadata": {},
     "output_type": "display_data"
    }
   ],
   "source": [
    "for df in [calls, internet, messages,tariffs, users]: \n",
    "    display(df.info())"
   ]
  },
  {
   "cell_type": "markdown",
   "metadata": {},
   "source": [
    "Первые 5 строк по каждой таблице:"
   ]
  },
  {
   "cell_type": "code",
   "execution_count": 6,
   "metadata": {},
   "outputs": [
    {
     "data": {
      "text/html": [
       "<div>\n",
       "<style scoped>\n",
       "    .dataframe tbody tr th:only-of-type {\n",
       "        vertical-align: middle;\n",
       "    }\n",
       "\n",
       "    .dataframe tbody tr th {\n",
       "        vertical-align: top;\n",
       "    }\n",
       "\n",
       "    .dataframe thead th {\n",
       "        text-align: right;\n",
       "    }\n",
       "</style>\n",
       "<table border=\"1\" class=\"dataframe\">\n",
       "  <thead>\n",
       "    <tr style=\"text-align: right;\">\n",
       "      <th></th>\n",
       "      <th>id</th>\n",
       "      <th>call_date</th>\n",
       "      <th>duration</th>\n",
       "      <th>user_id</th>\n",
       "    </tr>\n",
       "  </thead>\n",
       "  <tbody>\n",
       "    <tr>\n",
       "      <th>0</th>\n",
       "      <td>1000_0</td>\n",
       "      <td>2018-07-25</td>\n",
       "      <td>0.00</td>\n",
       "      <td>1000</td>\n",
       "    </tr>\n",
       "    <tr>\n",
       "      <th>1</th>\n",
       "      <td>1000_1</td>\n",
       "      <td>2018-08-17</td>\n",
       "      <td>0.00</td>\n",
       "      <td>1000</td>\n",
       "    </tr>\n",
       "    <tr>\n",
       "      <th>2</th>\n",
       "      <td>1000_2</td>\n",
       "      <td>2018-06-11</td>\n",
       "      <td>2.85</td>\n",
       "      <td>1000</td>\n",
       "    </tr>\n",
       "    <tr>\n",
       "      <th>3</th>\n",
       "      <td>1000_3</td>\n",
       "      <td>2018-09-21</td>\n",
       "      <td>13.80</td>\n",
       "      <td>1000</td>\n",
       "    </tr>\n",
       "    <tr>\n",
       "      <th>4</th>\n",
       "      <td>1000_4</td>\n",
       "      <td>2018-12-15</td>\n",
       "      <td>5.18</td>\n",
       "      <td>1000</td>\n",
       "    </tr>\n",
       "  </tbody>\n",
       "</table>\n",
       "</div>"
      ],
      "text/plain": [
       "       id   call_date  duration  user_id\n",
       "0  1000_0  2018-07-25      0.00     1000\n",
       "1  1000_1  2018-08-17      0.00     1000\n",
       "2  1000_2  2018-06-11      2.85     1000\n",
       "3  1000_3  2018-09-21     13.80     1000\n",
       "4  1000_4  2018-12-15      5.18     1000"
      ]
     },
     "metadata": {},
     "output_type": "display_data"
    },
    {
     "data": {
      "text/html": [
       "<div>\n",
       "<style scoped>\n",
       "    .dataframe tbody tr th:only-of-type {\n",
       "        vertical-align: middle;\n",
       "    }\n",
       "\n",
       "    .dataframe tbody tr th {\n",
       "        vertical-align: top;\n",
       "    }\n",
       "\n",
       "    .dataframe thead th {\n",
       "        text-align: right;\n",
       "    }\n",
       "</style>\n",
       "<table border=\"1\" class=\"dataframe\">\n",
       "  <thead>\n",
       "    <tr style=\"text-align: right;\">\n",
       "      <th></th>\n",
       "      <th>Unnamed: 0</th>\n",
       "      <th>id</th>\n",
       "      <th>mb_used</th>\n",
       "      <th>session_date</th>\n",
       "      <th>user_id</th>\n",
       "    </tr>\n",
       "  </thead>\n",
       "  <tbody>\n",
       "    <tr>\n",
       "      <th>0</th>\n",
       "      <td>0</td>\n",
       "      <td>1000_0</td>\n",
       "      <td>112.95</td>\n",
       "      <td>2018-11-25</td>\n",
       "      <td>1000</td>\n",
       "    </tr>\n",
       "    <tr>\n",
       "      <th>1</th>\n",
       "      <td>1</td>\n",
       "      <td>1000_1</td>\n",
       "      <td>1,052.81</td>\n",
       "      <td>2018-09-07</td>\n",
       "      <td>1000</td>\n",
       "    </tr>\n",
       "    <tr>\n",
       "      <th>2</th>\n",
       "      <td>2</td>\n",
       "      <td>1000_2</td>\n",
       "      <td>1,197.26</td>\n",
       "      <td>2018-06-25</td>\n",
       "      <td>1000</td>\n",
       "    </tr>\n",
       "    <tr>\n",
       "      <th>3</th>\n",
       "      <td>3</td>\n",
       "      <td>1000_3</td>\n",
       "      <td>550.27</td>\n",
       "      <td>2018-08-22</td>\n",
       "      <td>1000</td>\n",
       "    </tr>\n",
       "    <tr>\n",
       "      <th>4</th>\n",
       "      <td>4</td>\n",
       "      <td>1000_4</td>\n",
       "      <td>302.56</td>\n",
       "      <td>2018-09-24</td>\n",
       "      <td>1000</td>\n",
       "    </tr>\n",
       "  </tbody>\n",
       "</table>\n",
       "</div>"
      ],
      "text/plain": [
       "   Unnamed: 0      id  mb_used session_date  user_id\n",
       "0           0  1000_0   112.95   2018-11-25     1000\n",
       "1           1  1000_1 1,052.81   2018-09-07     1000\n",
       "2           2  1000_2 1,197.26   2018-06-25     1000\n",
       "3           3  1000_3   550.27   2018-08-22     1000\n",
       "4           4  1000_4   302.56   2018-09-24     1000"
      ]
     },
     "metadata": {},
     "output_type": "display_data"
    },
    {
     "data": {
      "text/html": [
       "<div>\n",
       "<style scoped>\n",
       "    .dataframe tbody tr th:only-of-type {\n",
       "        vertical-align: middle;\n",
       "    }\n",
       "\n",
       "    .dataframe tbody tr th {\n",
       "        vertical-align: top;\n",
       "    }\n",
       "\n",
       "    .dataframe thead th {\n",
       "        text-align: right;\n",
       "    }\n",
       "</style>\n",
       "<table border=\"1\" class=\"dataframe\">\n",
       "  <thead>\n",
       "    <tr style=\"text-align: right;\">\n",
       "      <th></th>\n",
       "      <th>id</th>\n",
       "      <th>message_date</th>\n",
       "      <th>user_id</th>\n",
       "    </tr>\n",
       "  </thead>\n",
       "  <tbody>\n",
       "    <tr>\n",
       "      <th>0</th>\n",
       "      <td>1000_0</td>\n",
       "      <td>2018-06-27</td>\n",
       "      <td>1000</td>\n",
       "    </tr>\n",
       "    <tr>\n",
       "      <th>1</th>\n",
       "      <td>1000_1</td>\n",
       "      <td>2018-10-08</td>\n",
       "      <td>1000</td>\n",
       "    </tr>\n",
       "    <tr>\n",
       "      <th>2</th>\n",
       "      <td>1000_2</td>\n",
       "      <td>2018-08-04</td>\n",
       "      <td>1000</td>\n",
       "    </tr>\n",
       "    <tr>\n",
       "      <th>3</th>\n",
       "      <td>1000_3</td>\n",
       "      <td>2018-06-16</td>\n",
       "      <td>1000</td>\n",
       "    </tr>\n",
       "    <tr>\n",
       "      <th>4</th>\n",
       "      <td>1000_4</td>\n",
       "      <td>2018-12-05</td>\n",
       "      <td>1000</td>\n",
       "    </tr>\n",
       "  </tbody>\n",
       "</table>\n",
       "</div>"
      ],
      "text/plain": [
       "       id message_date  user_id\n",
       "0  1000_0   2018-06-27     1000\n",
       "1  1000_1   2018-10-08     1000\n",
       "2  1000_2   2018-08-04     1000\n",
       "3  1000_3   2018-06-16     1000\n",
       "4  1000_4   2018-12-05     1000"
      ]
     },
     "metadata": {},
     "output_type": "display_data"
    },
    {
     "data": {
      "text/html": [
       "<div>\n",
       "<style scoped>\n",
       "    .dataframe tbody tr th:only-of-type {\n",
       "        vertical-align: middle;\n",
       "    }\n",
       "\n",
       "    .dataframe tbody tr th {\n",
       "        vertical-align: top;\n",
       "    }\n",
       "\n",
       "    .dataframe thead th {\n",
       "        text-align: right;\n",
       "    }\n",
       "</style>\n",
       "<table border=\"1\" class=\"dataframe\">\n",
       "  <thead>\n",
       "    <tr style=\"text-align: right;\">\n",
       "      <th></th>\n",
       "      <th>messages_included</th>\n",
       "      <th>mb_per_month_included</th>\n",
       "      <th>minutes_included</th>\n",
       "      <th>rub_monthly_fee</th>\n",
       "      <th>rub_per_gb</th>\n",
       "      <th>rub_per_message</th>\n",
       "      <th>rub_per_minute</th>\n",
       "      <th>tariff_name</th>\n",
       "    </tr>\n",
       "  </thead>\n",
       "  <tbody>\n",
       "    <tr>\n",
       "      <th>0</th>\n",
       "      <td>50</td>\n",
       "      <td>15360</td>\n",
       "      <td>500</td>\n",
       "      <td>550</td>\n",
       "      <td>200</td>\n",
       "      <td>3</td>\n",
       "      <td>3</td>\n",
       "      <td>smart</td>\n",
       "    </tr>\n",
       "    <tr>\n",
       "      <th>1</th>\n",
       "      <td>1000</td>\n",
       "      <td>30720</td>\n",
       "      <td>3000</td>\n",
       "      <td>1950</td>\n",
       "      <td>150</td>\n",
       "      <td>1</td>\n",
       "      <td>1</td>\n",
       "      <td>ultra</td>\n",
       "    </tr>\n",
       "  </tbody>\n",
       "</table>\n",
       "</div>"
      ],
      "text/plain": [
       "   messages_included  mb_per_month_included  minutes_included  \\\n",
       "0                 50                  15360               500   \n",
       "1               1000                  30720              3000   \n",
       "\n",
       "   rub_monthly_fee  rub_per_gb  rub_per_message  rub_per_minute tariff_name  \n",
       "0              550         200                3               3       smart  \n",
       "1             1950         150                1               1       ultra  "
      ]
     },
     "metadata": {},
     "output_type": "display_data"
    },
    {
     "data": {
      "text/html": [
       "<div>\n",
       "<style scoped>\n",
       "    .dataframe tbody tr th:only-of-type {\n",
       "        vertical-align: middle;\n",
       "    }\n",
       "\n",
       "    .dataframe tbody tr th {\n",
       "        vertical-align: top;\n",
       "    }\n",
       "\n",
       "    .dataframe thead th {\n",
       "        text-align: right;\n",
       "    }\n",
       "</style>\n",
       "<table border=\"1\" class=\"dataframe\">\n",
       "  <thead>\n",
       "    <tr style=\"text-align: right;\">\n",
       "      <th></th>\n",
       "      <th>user_id</th>\n",
       "      <th>age</th>\n",
       "      <th>churn_date</th>\n",
       "      <th>city</th>\n",
       "      <th>first_name</th>\n",
       "      <th>last_name</th>\n",
       "      <th>reg_date</th>\n",
       "      <th>tariff</th>\n",
       "    </tr>\n",
       "  </thead>\n",
       "  <tbody>\n",
       "    <tr>\n",
       "      <th>0</th>\n",
       "      <td>1000</td>\n",
       "      <td>52</td>\n",
       "      <td>NaN</td>\n",
       "      <td>Краснодар</td>\n",
       "      <td>Рафаил</td>\n",
       "      <td>Верещагин</td>\n",
       "      <td>2018-05-25</td>\n",
       "      <td>ultra</td>\n",
       "    </tr>\n",
       "    <tr>\n",
       "      <th>1</th>\n",
       "      <td>1001</td>\n",
       "      <td>41</td>\n",
       "      <td>NaN</td>\n",
       "      <td>Москва</td>\n",
       "      <td>Иван</td>\n",
       "      <td>Ежов</td>\n",
       "      <td>2018-11-01</td>\n",
       "      <td>smart</td>\n",
       "    </tr>\n",
       "    <tr>\n",
       "      <th>2</th>\n",
       "      <td>1002</td>\n",
       "      <td>59</td>\n",
       "      <td>NaN</td>\n",
       "      <td>Стерлитамак</td>\n",
       "      <td>Евгений</td>\n",
       "      <td>Абрамович</td>\n",
       "      <td>2018-06-17</td>\n",
       "      <td>smart</td>\n",
       "    </tr>\n",
       "    <tr>\n",
       "      <th>3</th>\n",
       "      <td>1003</td>\n",
       "      <td>23</td>\n",
       "      <td>NaN</td>\n",
       "      <td>Москва</td>\n",
       "      <td>Белла</td>\n",
       "      <td>Белякова</td>\n",
       "      <td>2018-08-17</td>\n",
       "      <td>ultra</td>\n",
       "    </tr>\n",
       "    <tr>\n",
       "      <th>4</th>\n",
       "      <td>1004</td>\n",
       "      <td>68</td>\n",
       "      <td>NaN</td>\n",
       "      <td>Новокузнецк</td>\n",
       "      <td>Татьяна</td>\n",
       "      <td>Авдеенко</td>\n",
       "      <td>2018-05-14</td>\n",
       "      <td>ultra</td>\n",
       "    </tr>\n",
       "  </tbody>\n",
       "</table>\n",
       "</div>"
      ],
      "text/plain": [
       "   user_id  age churn_date         city first_name  last_name    reg_date  \\\n",
       "0     1000   52        NaN    Краснодар     Рафаил  Верещагин  2018-05-25   \n",
       "1     1001   41        NaN       Москва       Иван       Ежов  2018-11-01   \n",
       "2     1002   59        NaN  Стерлитамак    Евгений  Абрамович  2018-06-17   \n",
       "3     1003   23        NaN       Москва      Белла   Белякова  2018-08-17   \n",
       "4     1004   68        NaN  Новокузнецк    Татьяна   Авдеенко  2018-05-14   \n",
       "\n",
       "  tariff  \n",
       "0  ultra  \n",
       "1  smart  \n",
       "2  smart  \n",
       "3  ultra  \n",
       "4  ultra  "
      ]
     },
     "metadata": {},
     "output_type": "display_data"
    }
   ],
   "source": [
    "for df in [calls, internet, messages,tariffs, users]:\n",
    "    display(df.head())"
   ]
  },
  {
   "cell_type": "markdown",
   "metadata": {},
   "source": [
    "**Вывод**\n",
    "\n",
    "Файлы содержат данные по 500 клиентам, потребуется заменить тип данных у столбцов с датой и временем, а также как указано в примечании проекта округлить значения минут разговора и мегабайт использованного трафика в большую сторону, так как тарифы считаются по минутам и мегабайтам.\n",
    "\n",
    "Кроме того, после объединения данных (сводная таблица по звонкам, по сообщениям и интернет-трафику) возникнут пропущенные значения (клиент мог вовсе не писать сообщений, не звонить или не использовать интернет в каком либо месяце), которые также нужно будет заменить на нули."
   ]
  },
  {
   "cell_type": "markdown",
   "metadata": {},
   "source": [
    "## Подготовьте данные"
   ]
  },
  {
   "cell_type": "markdown",
   "metadata": {},
   "source": [
    "### Замена типов данных"
   ]
  },
  {
   "cell_type": "markdown",
   "metadata": {},
   "source": [
    "Меняем  тип данных, обозначающих дату, со строчного на временной:"
   ]
  },
  {
   "cell_type": "code",
   "execution_count": 7,
   "metadata": {},
   "outputs": [],
   "source": [
    "calls['call_date'] = pd.to_datetime(calls['call_date'], format = '%Y-%m-%d')\n",
    "internet['session_date'] = pd.to_datetime(internet['session_date'], format = '%Y-%m-%d')\n",
    "messages['message_date'] = pd.to_datetime(messages['message_date'], format = '%Y-%m-%d')\n",
    "users['churn_date'] = pd.to_datetime(users['churn_date'], format = '%Y-%m-%d')\n",
    "users['reg_date'] = pd.to_datetime(users['reg_date'], format = '%Y-%m-%d')"
   ]
  },
  {
   "cell_type": "markdown",
   "metadata": {},
   "source": [
    "Изменим тип данных в user_id - приведём его к int"
   ]
  },
  {
   "cell_type": "code",
   "execution_count": 8,
   "metadata": {},
   "outputs": [],
   "source": [
    "messages['user_id'] = messages['user_id'].astype('int')"
   ]
  },
  {
   "cell_type": "markdown",
   "metadata": {},
   "source": [
    "### Исправление ошибок в данных"
   ]
  },
  {
   "cell_type": "markdown",
   "metadata": {},
   "source": [
    "анализ данных в каждой таблице:"
   ]
  },
  {
   "cell_type": "code",
   "execution_count": 9,
   "metadata": {},
   "outputs": [
    {
     "data": {
      "text/html": [
       "<div>\n",
       "<style scoped>\n",
       "    .dataframe tbody tr th:only-of-type {\n",
       "        vertical-align: middle;\n",
       "    }\n",
       "\n",
       "    .dataframe tbody tr th {\n",
       "        vertical-align: top;\n",
       "    }\n",
       "\n",
       "    .dataframe thead th {\n",
       "        text-align: right;\n",
       "    }\n",
       "</style>\n",
       "<table border=\"1\" class=\"dataframe\">\n",
       "  <thead>\n",
       "    <tr style=\"text-align: right;\">\n",
       "      <th></th>\n",
       "      <th>duration</th>\n",
       "      <th>user_id</th>\n",
       "    </tr>\n",
       "  </thead>\n",
       "  <tbody>\n",
       "    <tr>\n",
       "      <th>count</th>\n",
       "      <td>202,607.00</td>\n",
       "      <td>202,607.00</td>\n",
       "    </tr>\n",
       "    <tr>\n",
       "      <th>mean</th>\n",
       "      <td>6.76</td>\n",
       "      <td>1,253.94</td>\n",
       "    </tr>\n",
       "    <tr>\n",
       "      <th>std</th>\n",
       "      <td>5.84</td>\n",
       "      <td>144.72</td>\n",
       "    </tr>\n",
       "    <tr>\n",
       "      <th>min</th>\n",
       "      <td>0.00</td>\n",
       "      <td>1,000.00</td>\n",
       "    </tr>\n",
       "    <tr>\n",
       "      <th>25%</th>\n",
       "      <td>1.30</td>\n",
       "      <td>1,126.00</td>\n",
       "    </tr>\n",
       "    <tr>\n",
       "      <th>50%</th>\n",
       "      <td>6.00</td>\n",
       "      <td>1,260.00</td>\n",
       "    </tr>\n",
       "    <tr>\n",
       "      <th>75%</th>\n",
       "      <td>10.70</td>\n",
       "      <td>1,379.00</td>\n",
       "    </tr>\n",
       "    <tr>\n",
       "      <th>max</th>\n",
       "      <td>38.00</td>\n",
       "      <td>1,499.00</td>\n",
       "    </tr>\n",
       "  </tbody>\n",
       "</table>\n",
       "</div>"
      ],
      "text/plain": [
       "        duration    user_id\n",
       "count 202,607.00 202,607.00\n",
       "mean        6.76   1,253.94\n",
       "std         5.84     144.72\n",
       "min         0.00   1,000.00\n",
       "25%         1.30   1,126.00\n",
       "50%         6.00   1,260.00\n",
       "75%        10.70   1,379.00\n",
       "max        38.00   1,499.00"
      ]
     },
     "metadata": {},
     "output_type": "display_data"
    },
    {
     "data": {
      "text/html": [
       "<div>\n",
       "<style scoped>\n",
       "    .dataframe tbody tr th:only-of-type {\n",
       "        vertical-align: middle;\n",
       "    }\n",
       "\n",
       "    .dataframe tbody tr th {\n",
       "        vertical-align: top;\n",
       "    }\n",
       "\n",
       "    .dataframe thead th {\n",
       "        text-align: right;\n",
       "    }\n",
       "</style>\n",
       "<table border=\"1\" class=\"dataframe\">\n",
       "  <thead>\n",
       "    <tr style=\"text-align: right;\">\n",
       "      <th></th>\n",
       "      <th>Unnamed: 0</th>\n",
       "      <th>mb_used</th>\n",
       "      <th>user_id</th>\n",
       "    </tr>\n",
       "  </thead>\n",
       "  <tbody>\n",
       "    <tr>\n",
       "      <th>count</th>\n",
       "      <td>149,396.00</td>\n",
       "      <td>149,396.00</td>\n",
       "      <td>149,396.00</td>\n",
       "    </tr>\n",
       "    <tr>\n",
       "      <th>mean</th>\n",
       "      <td>74,697.50</td>\n",
       "      <td>370.19</td>\n",
       "      <td>1,252.10</td>\n",
       "    </tr>\n",
       "    <tr>\n",
       "      <th>std</th>\n",
       "      <td>43,127.05</td>\n",
       "      <td>278.30</td>\n",
       "      <td>144.05</td>\n",
       "    </tr>\n",
       "    <tr>\n",
       "      <th>min</th>\n",
       "      <td>0.00</td>\n",
       "      <td>0.00</td>\n",
       "      <td>1,000.00</td>\n",
       "    </tr>\n",
       "    <tr>\n",
       "      <th>25%</th>\n",
       "      <td>37,348.75</td>\n",
       "      <td>138.19</td>\n",
       "      <td>1,130.00</td>\n",
       "    </tr>\n",
       "    <tr>\n",
       "      <th>50%</th>\n",
       "      <td>74,697.50</td>\n",
       "      <td>348.01</td>\n",
       "      <td>1,251.00</td>\n",
       "    </tr>\n",
       "    <tr>\n",
       "      <th>75%</th>\n",
       "      <td>112,046.25</td>\n",
       "      <td>559.55</td>\n",
       "      <td>1,380.00</td>\n",
       "    </tr>\n",
       "    <tr>\n",
       "      <th>max</th>\n",
       "      <td>149,395.00</td>\n",
       "      <td>1,724.83</td>\n",
       "      <td>1,499.00</td>\n",
       "    </tr>\n",
       "  </tbody>\n",
       "</table>\n",
       "</div>"
      ],
      "text/plain": [
       "       Unnamed: 0    mb_used    user_id\n",
       "count  149,396.00 149,396.00 149,396.00\n",
       "mean    74,697.50     370.19   1,252.10\n",
       "std     43,127.05     278.30     144.05\n",
       "min          0.00       0.00   1,000.00\n",
       "25%     37,348.75     138.19   1,130.00\n",
       "50%     74,697.50     348.01   1,251.00\n",
       "75%    112,046.25     559.55   1,380.00\n",
       "max    149,395.00   1,724.83   1,499.00"
      ]
     },
     "metadata": {},
     "output_type": "display_data"
    },
    {
     "data": {
      "text/html": [
       "<div>\n",
       "<style scoped>\n",
       "    .dataframe tbody tr th:only-of-type {\n",
       "        vertical-align: middle;\n",
       "    }\n",
       "\n",
       "    .dataframe tbody tr th {\n",
       "        vertical-align: top;\n",
       "    }\n",
       "\n",
       "    .dataframe thead th {\n",
       "        text-align: right;\n",
       "    }\n",
       "</style>\n",
       "<table border=\"1\" class=\"dataframe\">\n",
       "  <thead>\n",
       "    <tr style=\"text-align: right;\">\n",
       "      <th></th>\n",
       "      <th>user_id</th>\n",
       "    </tr>\n",
       "  </thead>\n",
       "  <tbody>\n",
       "    <tr>\n",
       "      <th>count</th>\n",
       "      <td>123,036.00</td>\n",
       "    </tr>\n",
       "    <tr>\n",
       "      <th>mean</th>\n",
       "      <td>1,256.99</td>\n",
       "    </tr>\n",
       "    <tr>\n",
       "      <th>std</th>\n",
       "      <td>143.52</td>\n",
       "    </tr>\n",
       "    <tr>\n",
       "      <th>min</th>\n",
       "      <td>1,000.00</td>\n",
       "    </tr>\n",
       "    <tr>\n",
       "      <th>25%</th>\n",
       "      <td>1,134.00</td>\n",
       "    </tr>\n",
       "    <tr>\n",
       "      <th>50%</th>\n",
       "      <td>1,271.00</td>\n",
       "    </tr>\n",
       "    <tr>\n",
       "      <th>75%</th>\n",
       "      <td>1,381.00</td>\n",
       "    </tr>\n",
       "    <tr>\n",
       "      <th>max</th>\n",
       "      <td>1,499.00</td>\n",
       "    </tr>\n",
       "  </tbody>\n",
       "</table>\n",
       "</div>"
      ],
      "text/plain": [
       "         user_id\n",
       "count 123,036.00\n",
       "mean    1,256.99\n",
       "std       143.52\n",
       "min     1,000.00\n",
       "25%     1,134.00\n",
       "50%     1,271.00\n",
       "75%     1,381.00\n",
       "max     1,499.00"
      ]
     },
     "metadata": {},
     "output_type": "display_data"
    },
    {
     "data": {
      "text/html": [
       "<div>\n",
       "<style scoped>\n",
       "    .dataframe tbody tr th:only-of-type {\n",
       "        vertical-align: middle;\n",
       "    }\n",
       "\n",
       "    .dataframe tbody tr th {\n",
       "        vertical-align: top;\n",
       "    }\n",
       "\n",
       "    .dataframe thead th {\n",
       "        text-align: right;\n",
       "    }\n",
       "</style>\n",
       "<table border=\"1\" class=\"dataframe\">\n",
       "  <thead>\n",
       "    <tr style=\"text-align: right;\">\n",
       "      <th></th>\n",
       "      <th>messages_included</th>\n",
       "      <th>mb_per_month_included</th>\n",
       "      <th>minutes_included</th>\n",
       "      <th>rub_monthly_fee</th>\n",
       "      <th>rub_per_gb</th>\n",
       "      <th>rub_per_message</th>\n",
       "      <th>rub_per_minute</th>\n",
       "    </tr>\n",
       "  </thead>\n",
       "  <tbody>\n",
       "    <tr>\n",
       "      <th>count</th>\n",
       "      <td>2.00</td>\n",
       "      <td>2.00</td>\n",
       "      <td>2.00</td>\n",
       "      <td>2.00</td>\n",
       "      <td>2.00</td>\n",
       "      <td>2.00</td>\n",
       "      <td>2.00</td>\n",
       "    </tr>\n",
       "    <tr>\n",
       "      <th>mean</th>\n",
       "      <td>525.00</td>\n",
       "      <td>23,040.00</td>\n",
       "      <td>1,750.00</td>\n",
       "      <td>1,250.00</td>\n",
       "      <td>175.00</td>\n",
       "      <td>2.00</td>\n",
       "      <td>2.00</td>\n",
       "    </tr>\n",
       "    <tr>\n",
       "      <th>std</th>\n",
       "      <td>671.75</td>\n",
       "      <td>10,861.16</td>\n",
       "      <td>1,767.77</td>\n",
       "      <td>989.95</td>\n",
       "      <td>35.36</td>\n",
       "      <td>1.41</td>\n",
       "      <td>1.41</td>\n",
       "    </tr>\n",
       "    <tr>\n",
       "      <th>min</th>\n",
       "      <td>50.00</td>\n",
       "      <td>15,360.00</td>\n",
       "      <td>500.00</td>\n",
       "      <td>550.00</td>\n",
       "      <td>150.00</td>\n",
       "      <td>1.00</td>\n",
       "      <td>1.00</td>\n",
       "    </tr>\n",
       "    <tr>\n",
       "      <th>25%</th>\n",
       "      <td>287.50</td>\n",
       "      <td>19,200.00</td>\n",
       "      <td>1,125.00</td>\n",
       "      <td>900.00</td>\n",
       "      <td>162.50</td>\n",
       "      <td>1.50</td>\n",
       "      <td>1.50</td>\n",
       "    </tr>\n",
       "    <tr>\n",
       "      <th>50%</th>\n",
       "      <td>525.00</td>\n",
       "      <td>23,040.00</td>\n",
       "      <td>1,750.00</td>\n",
       "      <td>1,250.00</td>\n",
       "      <td>175.00</td>\n",
       "      <td>2.00</td>\n",
       "      <td>2.00</td>\n",
       "    </tr>\n",
       "    <tr>\n",
       "      <th>75%</th>\n",
       "      <td>762.50</td>\n",
       "      <td>26,880.00</td>\n",
       "      <td>2,375.00</td>\n",
       "      <td>1,600.00</td>\n",
       "      <td>187.50</td>\n",
       "      <td>2.50</td>\n",
       "      <td>2.50</td>\n",
       "    </tr>\n",
       "    <tr>\n",
       "      <th>max</th>\n",
       "      <td>1,000.00</td>\n",
       "      <td>30,720.00</td>\n",
       "      <td>3,000.00</td>\n",
       "      <td>1,950.00</td>\n",
       "      <td>200.00</td>\n",
       "      <td>3.00</td>\n",
       "      <td>3.00</td>\n",
       "    </tr>\n",
       "  </tbody>\n",
       "</table>\n",
       "</div>"
      ],
      "text/plain": [
       "       messages_included  mb_per_month_included  minutes_included  \\\n",
       "count               2.00                   2.00              2.00   \n",
       "mean              525.00              23,040.00          1,750.00   \n",
       "std               671.75              10,861.16          1,767.77   \n",
       "min                50.00              15,360.00            500.00   \n",
       "25%               287.50              19,200.00          1,125.00   \n",
       "50%               525.00              23,040.00          1,750.00   \n",
       "75%               762.50              26,880.00          2,375.00   \n",
       "max             1,000.00              30,720.00          3,000.00   \n",
       "\n",
       "       rub_monthly_fee  rub_per_gb  rub_per_message  rub_per_minute  \n",
       "count             2.00        2.00             2.00            2.00  \n",
       "mean          1,250.00      175.00             2.00            2.00  \n",
       "std             989.95       35.36             1.41            1.41  \n",
       "min             550.00      150.00             1.00            1.00  \n",
       "25%             900.00      162.50             1.50            1.50  \n",
       "50%           1,250.00      175.00             2.00            2.00  \n",
       "75%           1,600.00      187.50             2.50            2.50  \n",
       "max           1,950.00      200.00             3.00            3.00  "
      ]
     },
     "metadata": {},
     "output_type": "display_data"
    },
    {
     "data": {
      "text/html": [
       "<div>\n",
       "<style scoped>\n",
       "    .dataframe tbody tr th:only-of-type {\n",
       "        vertical-align: middle;\n",
       "    }\n",
       "\n",
       "    .dataframe tbody tr th {\n",
       "        vertical-align: top;\n",
       "    }\n",
       "\n",
       "    .dataframe thead th {\n",
       "        text-align: right;\n",
       "    }\n",
       "</style>\n",
       "<table border=\"1\" class=\"dataframe\">\n",
       "  <thead>\n",
       "    <tr style=\"text-align: right;\">\n",
       "      <th></th>\n",
       "      <th>user_id</th>\n",
       "      <th>age</th>\n",
       "    </tr>\n",
       "  </thead>\n",
       "  <tbody>\n",
       "    <tr>\n",
       "      <th>count</th>\n",
       "      <td>500.00</td>\n",
       "      <td>500.00</td>\n",
       "    </tr>\n",
       "    <tr>\n",
       "      <th>mean</th>\n",
       "      <td>1,249.50</td>\n",
       "      <td>46.59</td>\n",
       "    </tr>\n",
       "    <tr>\n",
       "      <th>std</th>\n",
       "      <td>144.48</td>\n",
       "      <td>16.67</td>\n",
       "    </tr>\n",
       "    <tr>\n",
       "      <th>min</th>\n",
       "      <td>1,000.00</td>\n",
       "      <td>18.00</td>\n",
       "    </tr>\n",
       "    <tr>\n",
       "      <th>25%</th>\n",
       "      <td>1,124.75</td>\n",
       "      <td>32.00</td>\n",
       "    </tr>\n",
       "    <tr>\n",
       "      <th>50%</th>\n",
       "      <td>1,249.50</td>\n",
       "      <td>46.00</td>\n",
       "    </tr>\n",
       "    <tr>\n",
       "      <th>75%</th>\n",
       "      <td>1,374.25</td>\n",
       "      <td>62.00</td>\n",
       "    </tr>\n",
       "    <tr>\n",
       "      <th>max</th>\n",
       "      <td>1,499.00</td>\n",
       "      <td>75.00</td>\n",
       "    </tr>\n",
       "  </tbody>\n",
       "</table>\n",
       "</div>"
      ],
      "text/plain": [
       "       user_id    age\n",
       "count   500.00 500.00\n",
       "mean  1,249.50  46.59\n",
       "std     144.48  16.67\n",
       "min   1,000.00  18.00\n",
       "25%   1,124.75  32.00\n",
       "50%   1,249.50  46.00\n",
       "75%   1,374.25  62.00\n",
       "max   1,499.00  75.00"
      ]
     },
     "metadata": {},
     "output_type": "display_data"
    }
   ],
   "source": [
    "for df in [calls, internet, messages,tariffs, users]:\n",
    "    display(df.describe())"
   ]
  },
  {
   "cell_type": "markdown",
   "metadata": {},
   "source": [
    "Вызывают сомнения нулевые данные в звонках и интернет сессиях, изучим их детальнее"
   ]
  },
  {
   "cell_type": "markdown",
   "metadata": {},
   "source": [
    "#### Calls "
   ]
  },
  {
   "cell_type": "markdown",
   "metadata": {},
   "source": [
    "Строим гистограмму продолжительности звонков"
   ]
  },
  {
   "cell_type": "code",
   "execution_count": 10,
   "metadata": {},
   "outputs": [
    {
     "data": {
      "image/png": "[encoded data removed]",
      "text/plain": [
       "<Figure size 432x288 with 1 Axes>"
      ]
     },
     "metadata": {
      "needs_background": "light"
     },
     "output_type": "display_data"
    }
   ],
   "source": [
    "calls['duration'].hist(bins=20)\n",
    "plt.title(f'Гистограмма продолжительности звонков')\n",
    "plt.xlabel(f'Продолжительность звонков')\n",
    "plt.ylabel('Частота')\n",
    "plt.show()"
   ]
  },
  {
   "cell_type": "markdown",
   "metadata": {},
   "source": [
    "подсчитываем количество и долю звонков с длительностью 0"
   ]
  },
  {
   "cell_type": "code",
   "execution_count": 11,
   "metadata": {},
   "outputs": [
    {
     "data": {
      "text/plain": [
       "39613"
      ]
     },
     "execution_count": 11,
     "metadata": {},
     "output_type": "execute_result"
    }
   ],
   "source": [
    "calls.loc[calls['duration'] == 0, 'duration'].value_counts()[0]"
   ]
  },
  {
   "cell_type": "code",
   "execution_count": 12,
   "metadata": {},
   "outputs": [
    {
     "name": "stdout",
     "output_type": "stream",
     "text": [
      "Доля звонков, продолжительность которых равна нулю 19.55%\n"
     ]
    }
   ],
   "source": [
    "print('Доля звонков, продолжительность которых равна нулю {0:.2%}'.format(calls.query('duration == 0').shape[0] / calls.shape[0]))"
   ]
  },
  {
   "cell_type": "markdown",
   "metadata": {},
   "source": [
    "Как указано в описании проекта **Это не ошибка: нулями обозначены пропущенные звонки, поэтому их не нужно удалять.**"
   ]
  },
  {
   "cell_type": "markdown",
   "metadata": {},
   "source": [
    "Округлим все значения в большую сторону (т.к. тариф считается по минутам)"
   ]
  },
  {
   "cell_type": "code",
   "execution_count": 13,
   "metadata": {},
   "outputs": [],
   "source": [
    "calls['duration'] = np.ceil(calls['duration'])"
   ]
  },
  {
   "cell_type": "code",
   "execution_count": 14,
   "metadata": {},
   "outputs": [],
   "source": [
    "calls['duration'] = calls['duration'].astype('int')"
   ]
  },
  {
   "cell_type": "code",
   "execution_count": 15,
   "metadata": {},
   "outputs": [
    {
     "data": {
      "text/plain": [
       "0     39613\n",
       "7     11510\n",
       "6     11457\n",
       "5     11411\n",
       "8     11272\n",
       "9     10973\n",
       "4     10918\n",
       "3     10362\n",
       "10    10186\n",
       "11     9385\n",
       "2      9194\n",
       "12     8448\n",
       "1      8402\n",
       "13     7486\n",
       "14     6554\n",
       "15     5505\n",
       "16     4551\n",
       "17     3671\n",
       "18     2984\n",
       "19     2411\n",
       "20     1806\n",
       "21     1304\n",
       "22      975\n",
       "23      720\n",
       "24      468\n",
       "25      363\n",
       "26      257\n",
       "27      151\n",
       "28      104\n",
       "29       56\n",
       "30       39\n",
       "31       30\n",
       "32       17\n",
       "33       10\n",
       "35        5\n",
       "34        3\n",
       "36        2\n",
       "37        2\n",
       "38        2\n",
       "Name: duration, dtype: int64"
      ]
     },
     "execution_count": 15,
     "metadata": {},
     "output_type": "execute_result"
    }
   ],
   "source": [
    "calls['duration'].value_counts()"
   ]
  },
  {
   "cell_type": "markdown",
   "metadata": {},
   "source": [
    "#### internet (интернет сессии) "
   ]
  },
  {
   "cell_type": "code",
   "execution_count": 16,
   "metadata": {},
   "outputs": [
    {
     "data": {
      "text/html": [
       "<div>\n",
       "<style scoped>\n",
       "    .dataframe tbody tr th:only-of-type {\n",
       "        vertical-align: middle;\n",
       "    }\n",
       "\n",
       "    .dataframe tbody tr th {\n",
       "        vertical-align: top;\n",
       "    }\n",
       "\n",
       "    .dataframe thead th {\n",
       "        text-align: right;\n",
       "    }\n",
       "</style>\n",
       "<table border=\"1\" class=\"dataframe\">\n",
       "  <thead>\n",
       "    <tr style=\"text-align: right;\">\n",
       "      <th></th>\n",
       "      <th>Unnamed: 0</th>\n",
       "      <th>mb_used</th>\n",
       "      <th>user_id</th>\n",
       "    </tr>\n",
       "  </thead>\n",
       "  <tbody>\n",
       "    <tr>\n",
       "      <th>count</th>\n",
       "      <td>149,396.00</td>\n",
       "      <td>149,396.00</td>\n",
       "      <td>149,396.00</td>\n",
       "    </tr>\n",
       "    <tr>\n",
       "      <th>mean</th>\n",
       "      <td>74,697.50</td>\n",
       "      <td>370.19</td>\n",
       "      <td>1,252.10</td>\n",
       "    </tr>\n",
       "    <tr>\n",
       "      <th>std</th>\n",
       "      <td>43,127.05</td>\n",
       "      <td>278.30</td>\n",
       "      <td>144.05</td>\n",
       "    </tr>\n",
       "    <tr>\n",
       "      <th>min</th>\n",
       "      <td>0.00</td>\n",
       "      <td>0.00</td>\n",
       "      <td>1,000.00</td>\n",
       "    </tr>\n",
       "    <tr>\n",
       "      <th>25%</th>\n",
       "      <td>37,348.75</td>\n",
       "      <td>138.19</td>\n",
       "      <td>1,130.00</td>\n",
       "    </tr>\n",
       "    <tr>\n",
       "      <th>50%</th>\n",
       "      <td>74,697.50</td>\n",
       "      <td>348.01</td>\n",
       "      <td>1,251.00</td>\n",
       "    </tr>\n",
       "    <tr>\n",
       "      <th>75%</th>\n",
       "      <td>112,046.25</td>\n",
       "      <td>559.55</td>\n",
       "      <td>1,380.00</td>\n",
       "    </tr>\n",
       "    <tr>\n",
       "      <th>max</th>\n",
       "      <td>149,395.00</td>\n",
       "      <td>1,724.83</td>\n",
       "      <td>1,499.00</td>\n",
       "    </tr>\n",
       "  </tbody>\n",
       "</table>\n",
       "</div>"
      ],
      "text/plain": [
       "       Unnamed: 0    mb_used    user_id\n",
       "count  149,396.00 149,396.00 149,396.00\n",
       "mean    74,697.50     370.19   1,252.10\n",
       "std     43,127.05     278.30     144.05\n",
       "min          0.00       0.00   1,000.00\n",
       "25%     37,348.75     138.19   1,130.00\n",
       "50%     74,697.50     348.01   1,251.00\n",
       "75%    112,046.25     559.55   1,380.00\n",
       "max    149,395.00   1,724.83   1,499.00"
      ]
     },
     "execution_count": 16,
     "metadata": {},
     "output_type": "execute_result"
    }
   ],
   "source": [
    "internet.describe()"
   ]
  },
  {
   "cell_type": "markdown",
   "metadata": {},
   "source": [
    "Построим гистограмму трафика"
   ]
  },
  {
   "cell_type": "code",
   "execution_count": 17,
   "metadata": {},
   "outputs": [
    {
     "data": {
      "image/png": "[encoded data removed]",
      "text/plain": [
       "<Figure size 432x288 with 1 Axes>"
      ]
     },
     "metadata": {
      "needs_background": "light"
     },
     "output_type": "display_data"
    }
   ],
   "source": [
    "internet['mb_used'].hist(bins=20)\n",
    "plt.title(f'Гистограмма трафика')\n",
    "plt.xlabel(f'Трафик')\n",
    "plt.ylabel('Частота')\n",
    "plt.show()"
   ]
  },
  {
   "cell_type": "code",
   "execution_count": 18,
   "metadata": {},
   "outputs": [
    {
     "name": "stdout",
     "output_type": "stream",
     "text": [
      "Трафик, продолжительность которого равна нулю 13.12%\n"
     ]
    }
   ],
   "source": [
    "print('Трафик, продолжительность которого равна нулю {0:.2%}'.format(internet.query('mb_used == 0').shape[0] / internet.shape[0]))"
   ]
  },
  {
   "cell_type": "markdown",
   "metadata": {},
   "source": [
    "Округлим все значения в большую сторону (т.к. тариф считается по мегабайтам):"
   ]
  },
  {
   "cell_type": "code",
   "execution_count": 19,
   "metadata": {},
   "outputs": [],
   "source": [
    "internet['mb_used'] = np.ceil(internet['mb_used'])"
   ]
  },
  {
   "cell_type": "markdown",
   "metadata": {},
   "source": [
    "Данные с трафиком равным 0 менять не будем, так как это вполне возможно, когда интернет подключен но его не использовали."
   ]
  },
  {
   "cell_type": "markdown",
   "metadata": {},
   "source": [
    "### Подсчет показателей"
   ]
  },
  {
   "cell_type": "markdown",
   "metadata": {},
   "source": [
    "#### количество сделанных звонков и израсходованных минут разговора по месяцам;"
   ]
  },
  {
   "cell_type": "markdown",
   "metadata": {},
   "source": [
    "добавим столбцы со значением месяца"
   ]
  },
  {
   "cell_type": "code",
   "execution_count": 20,
   "metadata": {},
   "outputs": [],
   "source": [
    "calls['month'] = pd.DatetimeIndex(calls['call_date']).month"
   ]
  },
  {
   "cell_type": "code",
   "execution_count": 21,
   "metadata": {},
   "outputs": [
    {
     "data": {
      "text/html": [
       "<div>\n",
       "<style scoped>\n",
       "    .dataframe tbody tr th:only-of-type {\n",
       "        vertical-align: middle;\n",
       "    }\n",
       "\n",
       "    .dataframe tbody tr th {\n",
       "        vertical-align: top;\n",
       "    }\n",
       "\n",
       "    .dataframe thead th {\n",
       "        text-align: right;\n",
       "    }\n",
       "</style>\n",
       "<table border=\"1\" class=\"dataframe\">\n",
       "  <thead>\n",
       "    <tr style=\"text-align: right;\">\n",
       "      <th></th>\n",
       "      <th>user_id</th>\n",
       "      <th>month</th>\n",
       "      <th>calls_count</th>\n",
       "      <th>calls_sum</th>\n",
       "    </tr>\n",
       "  </thead>\n",
       "  <tbody>\n",
       "    <tr>\n",
       "      <th>0</th>\n",
       "      <td>1000</td>\n",
       "      <td>5</td>\n",
       "      <td>22</td>\n",
       "      <td>159</td>\n",
       "    </tr>\n",
       "    <tr>\n",
       "      <th>1</th>\n",
       "      <td>1000</td>\n",
       "      <td>6</td>\n",
       "      <td>43</td>\n",
       "      <td>172</td>\n",
       "    </tr>\n",
       "    <tr>\n",
       "      <th>2</th>\n",
       "      <td>1000</td>\n",
       "      <td>7</td>\n",
       "      <td>47</td>\n",
       "      <td>340</td>\n",
       "    </tr>\n",
       "    <tr>\n",
       "      <th>3</th>\n",
       "      <td>1000</td>\n",
       "      <td>8</td>\n",
       "      <td>52</td>\n",
       "      <td>408</td>\n",
       "    </tr>\n",
       "    <tr>\n",
       "      <th>4</th>\n",
       "      <td>1000</td>\n",
       "      <td>9</td>\n",
       "      <td>58</td>\n",
       "      <td>466</td>\n",
       "    </tr>\n",
       "    <tr>\n",
       "      <th>5</th>\n",
       "      <td>1000</td>\n",
       "      <td>10</td>\n",
       "      <td>57</td>\n",
       "      <td>350</td>\n",
       "    </tr>\n",
       "    <tr>\n",
       "      <th>6</th>\n",
       "      <td>1000</td>\n",
       "      <td>11</td>\n",
       "      <td>43</td>\n",
       "      <td>338</td>\n",
       "    </tr>\n",
       "    <tr>\n",
       "      <th>7</th>\n",
       "      <td>1000</td>\n",
       "      <td>12</td>\n",
       "      <td>46</td>\n",
       "      <td>333</td>\n",
       "    </tr>\n",
       "    <tr>\n",
       "      <th>8</th>\n",
       "      <td>1001</td>\n",
       "      <td>11</td>\n",
       "      <td>59</td>\n",
       "      <td>430</td>\n",
       "    </tr>\n",
       "    <tr>\n",
       "      <th>9</th>\n",
       "      <td>1001</td>\n",
       "      <td>12</td>\n",
       "      <td>63</td>\n",
       "      <td>414</td>\n",
       "    </tr>\n",
       "    <tr>\n",
       "      <th>10</th>\n",
       "      <td>1002</td>\n",
       "      <td>6</td>\n",
       "      <td>15</td>\n",
       "      <td>117</td>\n",
       "    </tr>\n",
       "    <tr>\n",
       "      <th>11</th>\n",
       "      <td>1002</td>\n",
       "      <td>7</td>\n",
       "      <td>26</td>\n",
       "      <td>214</td>\n",
       "    </tr>\n",
       "    <tr>\n",
       "      <th>12</th>\n",
       "      <td>1002</td>\n",
       "      <td>8</td>\n",
       "      <td>42</td>\n",
       "      <td>289</td>\n",
       "    </tr>\n",
       "    <tr>\n",
       "      <th>13</th>\n",
       "      <td>1002</td>\n",
       "      <td>9</td>\n",
       "      <td>36</td>\n",
       "      <td>206</td>\n",
       "    </tr>\n",
       "    <tr>\n",
       "      <th>14</th>\n",
       "      <td>1002</td>\n",
       "      <td>10</td>\n",
       "      <td>33</td>\n",
       "      <td>212</td>\n",
       "    </tr>\n",
       "  </tbody>\n",
       "</table>\n",
       "</div>"
      ],
      "text/plain": [
       "    user_id  month  calls_count  calls_sum\n",
       "0      1000      5           22        159\n",
       "1      1000      6           43        172\n",
       "2      1000      7           47        340\n",
       "3      1000      8           52        408\n",
       "4      1000      9           58        466\n",
       "5      1000     10           57        350\n",
       "6      1000     11           43        338\n",
       "7      1000     12           46        333\n",
       "8      1001     11           59        430\n",
       "9      1001     12           63        414\n",
       "10     1002      6           15        117\n",
       "11     1002      7           26        214\n",
       "12     1002      8           42        289\n",
       "13     1002      9           36        206\n",
       "14     1002     10           33        212"
      ]
     },
     "execution_count": 21,
     "metadata": {},
     "output_type": "execute_result"
    }
   ],
   "source": [
    "calls_month = calls.groupby(['user_id','month'],as_index=True)['duration'].agg(['count',sum])\n",
    "calls_month.reset_index(inplace=True)\n",
    "calls_month.rename(columns={'count':'calls_count','sum':'calls_sum'},inplace=True)\n",
    "calls_month.head(15)"
   ]
  },
  {
   "cell_type": "markdown",
   "metadata": {},
   "source": [
    "#### количество отправленных сообщений по месяцам;"
   ]
  },
  {
   "cell_type": "markdown",
   "metadata": {},
   "source": [
    "добавим столбцы со значением месяца"
   ]
  },
  {
   "cell_type": "code",
   "execution_count": 22,
   "metadata": {},
   "outputs": [],
   "source": [
    "messages['month'] = pd.DatetimeIndex(messages['message_date']).month"
   ]
  },
  {
   "cell_type": "code",
   "execution_count": 23,
   "metadata": {},
   "outputs": [
    {
     "data": {
      "text/html": [
       "<div>\n",
       "<style scoped>\n",
       "    .dataframe tbody tr th:only-of-type {\n",
       "        vertical-align: middle;\n",
       "    }\n",
       "\n",
       "    .dataframe tbody tr th {\n",
       "        vertical-align: top;\n",
       "    }\n",
       "\n",
       "    .dataframe thead th {\n",
       "        text-align: right;\n",
       "    }\n",
       "</style>\n",
       "<table border=\"1\" class=\"dataframe\">\n",
       "  <thead>\n",
       "    <tr style=\"text-align: right;\">\n",
       "      <th></th>\n",
       "      <th>user_id</th>\n",
       "      <th>month</th>\n",
       "      <th>messages_count</th>\n",
       "    </tr>\n",
       "  </thead>\n",
       "  <tbody>\n",
       "    <tr>\n",
       "      <th>0</th>\n",
       "      <td>1000</td>\n",
       "      <td>5</td>\n",
       "      <td>22</td>\n",
       "    </tr>\n",
       "    <tr>\n",
       "      <th>1</th>\n",
       "      <td>1000</td>\n",
       "      <td>6</td>\n",
       "      <td>60</td>\n",
       "    </tr>\n",
       "    <tr>\n",
       "      <th>2</th>\n",
       "      <td>1000</td>\n",
       "      <td>7</td>\n",
       "      <td>75</td>\n",
       "    </tr>\n",
       "    <tr>\n",
       "      <th>3</th>\n",
       "      <td>1000</td>\n",
       "      <td>8</td>\n",
       "      <td>81</td>\n",
       "    </tr>\n",
       "    <tr>\n",
       "      <th>4</th>\n",
       "      <td>1000</td>\n",
       "      <td>9</td>\n",
       "      <td>57</td>\n",
       "    </tr>\n",
       "    <tr>\n",
       "      <th>5</th>\n",
       "      <td>1000</td>\n",
       "      <td>10</td>\n",
       "      <td>73</td>\n",
       "    </tr>\n",
       "    <tr>\n",
       "      <th>6</th>\n",
       "      <td>1000</td>\n",
       "      <td>11</td>\n",
       "      <td>58</td>\n",
       "    </tr>\n",
       "    <tr>\n",
       "      <th>7</th>\n",
       "      <td>1000</td>\n",
       "      <td>12</td>\n",
       "      <td>70</td>\n",
       "    </tr>\n",
       "    <tr>\n",
       "      <th>8</th>\n",
       "      <td>1002</td>\n",
       "      <td>6</td>\n",
       "      <td>4</td>\n",
       "    </tr>\n",
       "    <tr>\n",
       "      <th>9</th>\n",
       "      <td>1002</td>\n",
       "      <td>7</td>\n",
       "      <td>11</td>\n",
       "    </tr>\n",
       "    <tr>\n",
       "      <th>10</th>\n",
       "      <td>1002</td>\n",
       "      <td>8</td>\n",
       "      <td>13</td>\n",
       "    </tr>\n",
       "    <tr>\n",
       "      <th>11</th>\n",
       "      <td>1002</td>\n",
       "      <td>9</td>\n",
       "      <td>4</td>\n",
       "    </tr>\n",
       "    <tr>\n",
       "      <th>12</th>\n",
       "      <td>1002</td>\n",
       "      <td>10</td>\n",
       "      <td>10</td>\n",
       "    </tr>\n",
       "    <tr>\n",
       "      <th>13</th>\n",
       "      <td>1002</td>\n",
       "      <td>11</td>\n",
       "      <td>16</td>\n",
       "    </tr>\n",
       "    <tr>\n",
       "      <th>14</th>\n",
       "      <td>1002</td>\n",
       "      <td>12</td>\n",
       "      <td>12</td>\n",
       "    </tr>\n",
       "  </tbody>\n",
       "</table>\n",
       "</div>"
      ],
      "text/plain": [
       "    user_id  month  messages_count\n",
       "0      1000      5              22\n",
       "1      1000      6              60\n",
       "2      1000      7              75\n",
       "3      1000      8              81\n",
       "4      1000      9              57\n",
       "5      1000     10              73\n",
       "6      1000     11              58\n",
       "7      1000     12              70\n",
       "8      1002      6               4\n",
       "9      1002      7              11\n",
       "10     1002      8              13\n",
       "11     1002      9               4\n",
       "12     1002     10              10\n",
       "13     1002     11              16\n",
       "14     1002     12              12"
      ]
     },
     "execution_count": 23,
     "metadata": {},
     "output_type": "execute_result"
    }
   ],
   "source": [
    "messages_month = messages.groupby(['user_id','month'],as_index=True)['id'].agg(['count'])\n",
    "messages_month.reset_index(inplace=True)\n",
    "messages_month.rename(columns={'count':'messages_count'},inplace=True)\n",
    "messages_month.head(15)"
   ]
  },
  {
   "cell_type": "markdown",
   "metadata": {},
   "source": [
    "#### объем израсходованного интернет-трафика по месяцам;"
   ]
  },
  {
   "cell_type": "markdown",
   "metadata": {},
   "source": [
    " добавим столбец со значением месяца"
   ]
  },
  {
   "cell_type": "code",
   "execution_count": 24,
   "metadata": {},
   "outputs": [],
   "source": [
    "internet['month'] = pd.DatetimeIndex(internet['session_date']).month"
   ]
  },
  {
   "cell_type": "markdown",
   "metadata": {},
   "source": [
    "объем израсходованного интернет-трафика по месяцам для каждого пользовател "
   ]
  },
  {
   "cell_type": "code",
   "execution_count": 25,
   "metadata": {},
   "outputs": [
    {
     "data": {
      "text/html": [
       "<div>\n",
       "<style scoped>\n",
       "    .dataframe tbody tr th:only-of-type {\n",
       "        vertical-align: middle;\n",
       "    }\n",
       "\n",
       "    .dataframe tbody tr th {\n",
       "        vertical-align: top;\n",
       "    }\n",
       "\n",
       "    .dataframe thead th {\n",
       "        text-align: right;\n",
       "    }\n",
       "</style>\n",
       "<table border=\"1\" class=\"dataframe\">\n",
       "  <thead>\n",
       "    <tr style=\"text-align: right;\">\n",
       "      <th></th>\n",
       "      <th>user_id</th>\n",
       "      <th>month</th>\n",
       "      <th>internet_sum</th>\n",
       "    </tr>\n",
       "  </thead>\n",
       "  <tbody>\n",
       "    <tr>\n",
       "      <th>0</th>\n",
       "      <td>1000</td>\n",
       "      <td>5</td>\n",
       "      <td>2,256.00</td>\n",
       "    </tr>\n",
       "    <tr>\n",
       "      <th>1</th>\n",
       "      <td>1000</td>\n",
       "      <td>6</td>\n",
       "      <td>23,257.00</td>\n",
       "    </tr>\n",
       "    <tr>\n",
       "      <th>2</th>\n",
       "      <td>1000</td>\n",
       "      <td>7</td>\n",
       "      <td>14,016.00</td>\n",
       "    </tr>\n",
       "    <tr>\n",
       "      <th>3</th>\n",
       "      <td>1000</td>\n",
       "      <td>8</td>\n",
       "      <td>14,070.00</td>\n",
       "    </tr>\n",
       "    <tr>\n",
       "      <th>4</th>\n",
       "      <td>1000</td>\n",
       "      <td>9</td>\n",
       "      <td>14,581.00</td>\n",
       "    </tr>\n",
       "    <tr>\n",
       "      <th>5</th>\n",
       "      <td>1000</td>\n",
       "      <td>10</td>\n",
       "      <td>14,717.00</td>\n",
       "    </tr>\n",
       "    <tr>\n",
       "      <th>6</th>\n",
       "      <td>1000</td>\n",
       "      <td>11</td>\n",
       "      <td>14,768.00</td>\n",
       "    </tr>\n",
       "    <tr>\n",
       "      <th>7</th>\n",
       "      <td>1000</td>\n",
       "      <td>12</td>\n",
       "      <td>9,827.00</td>\n",
       "    </tr>\n",
       "    <tr>\n",
       "      <th>8</th>\n",
       "      <td>1001</td>\n",
       "      <td>11</td>\n",
       "      <td>18,452.00</td>\n",
       "    </tr>\n",
       "    <tr>\n",
       "      <th>9</th>\n",
       "      <td>1001</td>\n",
       "      <td>12</td>\n",
       "      <td>14,053.00</td>\n",
       "    </tr>\n",
       "    <tr>\n",
       "      <th>10</th>\n",
       "      <td>1002</td>\n",
       "      <td>6</td>\n",
       "      <td>10,871.00</td>\n",
       "    </tr>\n",
       "    <tr>\n",
       "      <th>11</th>\n",
       "      <td>1002</td>\n",
       "      <td>7</td>\n",
       "      <td>17,601.00</td>\n",
       "    </tr>\n",
       "    <tr>\n",
       "      <th>12</th>\n",
       "      <td>1002</td>\n",
       "      <td>8</td>\n",
       "      <td>20,347.00</td>\n",
       "    </tr>\n",
       "    <tr>\n",
       "      <th>13</th>\n",
       "      <td>1002</td>\n",
       "      <td>9</td>\n",
       "      <td>16,712.00</td>\n",
       "    </tr>\n",
       "    <tr>\n",
       "      <th>14</th>\n",
       "      <td>1002</td>\n",
       "      <td>10</td>\n",
       "      <td>13,905.00</td>\n",
       "    </tr>\n",
       "  </tbody>\n",
       "</table>\n",
       "</div>"
      ],
      "text/plain": [
       "    user_id  month  internet_sum\n",
       "0      1000      5      2,256.00\n",
       "1      1000      6     23,257.00\n",
       "2      1000      7     14,016.00\n",
       "3      1000      8     14,070.00\n",
       "4      1000      9     14,581.00\n",
       "5      1000     10     14,717.00\n",
       "6      1000     11     14,768.00\n",
       "7      1000     12      9,827.00\n",
       "8      1001     11     18,452.00\n",
       "9      1001     12     14,053.00\n",
       "10     1002      6     10,871.00\n",
       "11     1002      7     17,601.00\n",
       "12     1002      8     20,347.00\n",
       "13     1002      9     16,712.00\n",
       "14     1002     10     13,905.00"
      ]
     },
     "execution_count": 25,
     "metadata": {},
     "output_type": "execute_result"
    }
   ],
   "source": [
    "internet_month = internet.groupby(['user_id','month'],as_index=True)['mb_used'].agg([sum,])\n",
    "internet_month.reset_index(inplace=True)\n",
    "internet_month.rename(columns={'sum':'internet_sum'},inplace=True)\n",
    "internet_month.head(15)"
   ]
  },
  {
   "cell_type": "code",
   "execution_count": 26,
   "metadata": {},
   "outputs": [
    {
     "data": {
      "text/html": [
       "<div>\n",
       "<style scoped>\n",
       "    .dataframe tbody tr th:only-of-type {\n",
       "        vertical-align: middle;\n",
       "    }\n",
       "\n",
       "    .dataframe tbody tr th {\n",
       "        vertical-align: top;\n",
       "    }\n",
       "\n",
       "    .dataframe thead th {\n",
       "        text-align: right;\n",
       "    }\n",
       "</style>\n",
       "<table border=\"1\" class=\"dataframe\">\n",
       "  <thead>\n",
       "    <tr style=\"text-align: right;\">\n",
       "      <th></th>\n",
       "      <th>user_id</th>\n",
       "      <th>month</th>\n",
       "      <th>internet_sum</th>\n",
       "      <th>internet_sum_gb</th>\n",
       "    </tr>\n",
       "  </thead>\n",
       "  <tbody>\n",
       "    <tr>\n",
       "      <th>0</th>\n",
       "      <td>1000</td>\n",
       "      <td>5</td>\n",
       "      <td>2,256.00</td>\n",
       "      <td>3</td>\n",
       "    </tr>\n",
       "    <tr>\n",
       "      <th>1</th>\n",
       "      <td>1000</td>\n",
       "      <td>6</td>\n",
       "      <td>23,257.00</td>\n",
       "      <td>23</td>\n",
       "    </tr>\n",
       "    <tr>\n",
       "      <th>2</th>\n",
       "      <td>1000</td>\n",
       "      <td>7</td>\n",
       "      <td>14,016.00</td>\n",
       "      <td>14</td>\n",
       "    </tr>\n",
       "    <tr>\n",
       "      <th>3</th>\n",
       "      <td>1000</td>\n",
       "      <td>8</td>\n",
       "      <td>14,070.00</td>\n",
       "      <td>14</td>\n",
       "    </tr>\n",
       "    <tr>\n",
       "      <th>4</th>\n",
       "      <td>1000</td>\n",
       "      <td>9</td>\n",
       "      <td>14,581.00</td>\n",
       "      <td>15</td>\n",
       "    </tr>\n",
       "    <tr>\n",
       "      <th>5</th>\n",
       "      <td>1000</td>\n",
       "      <td>10</td>\n",
       "      <td>14,717.00</td>\n",
       "      <td>15</td>\n",
       "    </tr>\n",
       "    <tr>\n",
       "      <th>6</th>\n",
       "      <td>1000</td>\n",
       "      <td>11</td>\n",
       "      <td>14,768.00</td>\n",
       "      <td>15</td>\n",
       "    </tr>\n",
       "    <tr>\n",
       "      <th>7</th>\n",
       "      <td>1000</td>\n",
       "      <td>12</td>\n",
       "      <td>9,827.00</td>\n",
       "      <td>10</td>\n",
       "    </tr>\n",
       "    <tr>\n",
       "      <th>8</th>\n",
       "      <td>1001</td>\n",
       "      <td>11</td>\n",
       "      <td>18,452.00</td>\n",
       "      <td>19</td>\n",
       "    </tr>\n",
       "    <tr>\n",
       "      <th>9</th>\n",
       "      <td>1001</td>\n",
       "      <td>12</td>\n",
       "      <td>14,053.00</td>\n",
       "      <td>14</td>\n",
       "    </tr>\n",
       "    <tr>\n",
       "      <th>10</th>\n",
       "      <td>1002</td>\n",
       "      <td>6</td>\n",
       "      <td>10,871.00</td>\n",
       "      <td>11</td>\n",
       "    </tr>\n",
       "    <tr>\n",
       "      <th>11</th>\n",
       "      <td>1002</td>\n",
       "      <td>7</td>\n",
       "      <td>17,601.00</td>\n",
       "      <td>18</td>\n",
       "    </tr>\n",
       "    <tr>\n",
       "      <th>12</th>\n",
       "      <td>1002</td>\n",
       "      <td>8</td>\n",
       "      <td>20,347.00</td>\n",
       "      <td>20</td>\n",
       "    </tr>\n",
       "    <tr>\n",
       "      <th>13</th>\n",
       "      <td>1002</td>\n",
       "      <td>9</td>\n",
       "      <td>16,712.00</td>\n",
       "      <td>17</td>\n",
       "    </tr>\n",
       "    <tr>\n",
       "      <th>14</th>\n",
       "      <td>1002</td>\n",
       "      <td>10</td>\n",
       "      <td>13,905.00</td>\n",
       "      <td>14</td>\n",
       "    </tr>\n",
       "  </tbody>\n",
       "</table>\n",
       "</div>"
      ],
      "text/plain": [
       "    user_id  month  internet_sum  internet_sum_gb\n",
       "0      1000      5      2,256.00                3\n",
       "1      1000      6     23,257.00               23\n",
       "2      1000      7     14,016.00               14\n",
       "3      1000      8     14,070.00               14\n",
       "4      1000      9     14,581.00               15\n",
       "5      1000     10     14,717.00               15\n",
       "6      1000     11     14,768.00               15\n",
       "7      1000     12      9,827.00               10\n",
       "8      1001     11     18,452.00               19\n",
       "9      1001     12     14,053.00               14\n",
       "10     1002      6     10,871.00               11\n",
       "11     1002      7     17,601.00               18\n",
       "12     1002      8     20,347.00               20\n",
       "13     1002      9     16,712.00               17\n",
       "14     1002     10     13,905.00               14"
      ]
     },
     "execution_count": 26,
     "metadata": {},
     "output_type": "execute_result"
    }
   ],
   "source": [
    "internet_month['internet_sum_gb'] = internet_month.internet_sum / 1024\n",
    "internet_month.internet_sum_gb = np.ceil(internet_month.internet_sum_gb)\n",
    "internet_month['internet_sum_gb'] = internet_month['internet_sum_gb'].astype('int')\n",
    "internet_month.head(15)"
   ]
  },
  {
   "cell_type": "markdown",
   "metadata": {},
   "source": [
    "#### помесячная выручка с каждого пользователя "
   ]
  },
  {
   "cell_type": "markdown",
   "metadata": {},
   "source": [
    "Теперь для каждого пользователя посчитаем помесячную выручку (вычтем бесплатный лимит из суммарного количества звонков, сообщений и интернет-трафика; остаток умножим на значение из тарифного плана; прибавим абонентскую плату, соответствующую тарифному плану)."
   ]
  },
  {
   "cell_type": "markdown",
   "metadata": {},
   "source": [
    "Объединим данные расходов по звонкам с данными по сообщениям и трафику в одну таблицу"
   ]
  },
  {
   "cell_type": "code",
   "execution_count": 27,
   "metadata": {},
   "outputs": [],
   "source": [
    "grouped_df = calls_month.merge(internet_month, on=['user_id','month'], how='outer')"
   ]
  },
  {
   "cell_type": "code",
   "execution_count": 28,
   "metadata": {},
   "outputs": [],
   "source": [
    "grouped_df = grouped_df.merge(messages_month, on=['user_id','month'], how='outer')"
   ]
  },
  {
   "cell_type": "code",
   "execution_count": 29,
   "metadata": {},
   "outputs": [
    {
     "data": {
      "text/html": [
       "<div>\n",
       "<style scoped>\n",
       "    .dataframe tbody tr th:only-of-type {\n",
       "        vertical-align: middle;\n",
       "    }\n",
       "\n",
       "    .dataframe tbody tr th {\n",
       "        vertical-align: top;\n",
       "    }\n",
       "\n",
       "    .dataframe thead th {\n",
       "        text-align: right;\n",
       "    }\n",
       "</style>\n",
       "<table border=\"1\" class=\"dataframe\">\n",
       "  <thead>\n",
       "    <tr style=\"text-align: right;\">\n",
       "      <th></th>\n",
       "      <th>user_id</th>\n",
       "      <th>month</th>\n",
       "      <th>calls_count</th>\n",
       "      <th>calls_sum</th>\n",
       "      <th>internet_sum</th>\n",
       "      <th>internet_sum_gb</th>\n",
       "      <th>messages_count</th>\n",
       "    </tr>\n",
       "  </thead>\n",
       "  <tbody>\n",
       "    <tr>\n",
       "      <th>0</th>\n",
       "      <td>1000</td>\n",
       "      <td>5</td>\n",
       "      <td>22.00</td>\n",
       "      <td>159.00</td>\n",
       "      <td>2,256.00</td>\n",
       "      <td>3.00</td>\n",
       "      <td>22.00</td>\n",
       "    </tr>\n",
       "    <tr>\n",
       "      <th>1</th>\n",
       "      <td>1000</td>\n",
       "      <td>6</td>\n",
       "      <td>43.00</td>\n",
       "      <td>172.00</td>\n",
       "      <td>23,257.00</td>\n",
       "      <td>23.00</td>\n",
       "      <td>60.00</td>\n",
       "    </tr>\n",
       "    <tr>\n",
       "      <th>2</th>\n",
       "      <td>1000</td>\n",
       "      <td>7</td>\n",
       "      <td>47.00</td>\n",
       "      <td>340.00</td>\n",
       "      <td>14,016.00</td>\n",
       "      <td>14.00</td>\n",
       "      <td>75.00</td>\n",
       "    </tr>\n",
       "    <tr>\n",
       "      <th>3</th>\n",
       "      <td>1000</td>\n",
       "      <td>8</td>\n",
       "      <td>52.00</td>\n",
       "      <td>408.00</td>\n",
       "      <td>14,070.00</td>\n",
       "      <td>14.00</td>\n",
       "      <td>81.00</td>\n",
       "    </tr>\n",
       "    <tr>\n",
       "      <th>4</th>\n",
       "      <td>1000</td>\n",
       "      <td>9</td>\n",
       "      <td>58.00</td>\n",
       "      <td>466.00</td>\n",
       "      <td>14,581.00</td>\n",
       "      <td>15.00</td>\n",
       "      <td>57.00</td>\n",
       "    </tr>\n",
       "    <tr>\n",
       "      <th>5</th>\n",
       "      <td>1000</td>\n",
       "      <td>10</td>\n",
       "      <td>57.00</td>\n",
       "      <td>350.00</td>\n",
       "      <td>14,717.00</td>\n",
       "      <td>15.00</td>\n",
       "      <td>73.00</td>\n",
       "    </tr>\n",
       "    <tr>\n",
       "      <th>6</th>\n",
       "      <td>1000</td>\n",
       "      <td>11</td>\n",
       "      <td>43.00</td>\n",
       "      <td>338.00</td>\n",
       "      <td>14,768.00</td>\n",
       "      <td>15.00</td>\n",
       "      <td>58.00</td>\n",
       "    </tr>\n",
       "    <tr>\n",
       "      <th>7</th>\n",
       "      <td>1000</td>\n",
       "      <td>12</td>\n",
       "      <td>46.00</td>\n",
       "      <td>333.00</td>\n",
       "      <td>9,827.00</td>\n",
       "      <td>10.00</td>\n",
       "      <td>70.00</td>\n",
       "    </tr>\n",
       "    <tr>\n",
       "      <th>8</th>\n",
       "      <td>1001</td>\n",
       "      <td>11</td>\n",
       "      <td>59.00</td>\n",
       "      <td>430.00</td>\n",
       "      <td>18,452.00</td>\n",
       "      <td>19.00</td>\n",
       "      <td>NaN</td>\n",
       "    </tr>\n",
       "    <tr>\n",
       "      <th>9</th>\n",
       "      <td>1001</td>\n",
       "      <td>12</td>\n",
       "      <td>63.00</td>\n",
       "      <td>414.00</td>\n",
       "      <td>14,053.00</td>\n",
       "      <td>14.00</td>\n",
       "      <td>NaN</td>\n",
       "    </tr>\n",
       "    <tr>\n",
       "      <th>10</th>\n",
       "      <td>1002</td>\n",
       "      <td>6</td>\n",
       "      <td>15.00</td>\n",
       "      <td>117.00</td>\n",
       "      <td>10,871.00</td>\n",
       "      <td>11.00</td>\n",
       "      <td>4.00</td>\n",
       "    </tr>\n",
       "    <tr>\n",
       "      <th>11</th>\n",
       "      <td>1002</td>\n",
       "      <td>7</td>\n",
       "      <td>26.00</td>\n",
       "      <td>214.00</td>\n",
       "      <td>17,601.00</td>\n",
       "      <td>18.00</td>\n",
       "      <td>11.00</td>\n",
       "    </tr>\n",
       "    <tr>\n",
       "      <th>12</th>\n",
       "      <td>1002</td>\n",
       "      <td>8</td>\n",
       "      <td>42.00</td>\n",
       "      <td>289.00</td>\n",
       "      <td>20,347.00</td>\n",
       "      <td>20.00</td>\n",
       "      <td>13.00</td>\n",
       "    </tr>\n",
       "    <tr>\n",
       "      <th>13</th>\n",
       "      <td>1002</td>\n",
       "      <td>9</td>\n",
       "      <td>36.00</td>\n",
       "      <td>206.00</td>\n",
       "      <td>16,712.00</td>\n",
       "      <td>17.00</td>\n",
       "      <td>4.00</td>\n",
       "    </tr>\n",
       "    <tr>\n",
       "      <th>14</th>\n",
       "      <td>1002</td>\n",
       "      <td>10</td>\n",
       "      <td>33.00</td>\n",
       "      <td>212.00</td>\n",
       "      <td>13,905.00</td>\n",
       "      <td>14.00</td>\n",
       "      <td>10.00</td>\n",
       "    </tr>\n",
       "  </tbody>\n",
       "</table>\n",
       "</div>"
      ],
      "text/plain": [
       "    user_id  month  calls_count  calls_sum  internet_sum  internet_sum_gb  \\\n",
       "0      1000      5        22.00     159.00      2,256.00             3.00   \n",
       "1      1000      6        43.00     172.00     23,257.00            23.00   \n",
       "2      1000      7        47.00     340.00     14,016.00            14.00   \n",
       "3      1000      8        52.00     408.00     14,070.00            14.00   \n",
       "4      1000      9        58.00     466.00     14,581.00            15.00   \n",
       "5      1000     10        57.00     350.00     14,717.00            15.00   \n",
       "6      1000     11        43.00     338.00     14,768.00            15.00   \n",
       "7      1000     12        46.00     333.00      9,827.00            10.00   \n",
       "8      1001     11        59.00     430.00     18,452.00            19.00   \n",
       "9      1001     12        63.00     414.00     14,053.00            14.00   \n",
       "10     1002      6        15.00     117.00     10,871.00            11.00   \n",
       "11     1002      7        26.00     214.00     17,601.00            18.00   \n",
       "12     1002      8        42.00     289.00     20,347.00            20.00   \n",
       "13     1002      9        36.00     206.00     16,712.00            17.00   \n",
       "14     1002     10        33.00     212.00     13,905.00            14.00   \n",
       "\n",
       "    messages_count  \n",
       "0            22.00  \n",
       "1            60.00  \n",
       "2            75.00  \n",
       "3            81.00  \n",
       "4            57.00  \n",
       "5            73.00  \n",
       "6            58.00  \n",
       "7            70.00  \n",
       "8              NaN  \n",
       "9              NaN  \n",
       "10            4.00  \n",
       "11           11.00  \n",
       "12           13.00  \n",
       "13            4.00  \n",
       "14           10.00  "
      ]
     },
     "execution_count": 29,
     "metadata": {},
     "output_type": "execute_result"
    }
   ],
   "source": [
    "grouped_df.head(15)"
   ]
  },
  {
   "cell_type": "markdown",
   "metadata": {},
   "source": [
    "пропуски в таблице"
   ]
  },
  {
   "cell_type": "code",
   "execution_count": 30,
   "metadata": {},
   "outputs": [
    {
     "data": {
      "text/plain": [
       "user_id              0\n",
       "month                0\n",
       "calls_count         40\n",
       "calls_sum           40\n",
       "internet_sum        11\n",
       "internet_sum_gb     11\n",
       "messages_count     497\n",
       "dtype: int64"
      ]
     },
     "execution_count": 30,
     "metadata": {},
     "output_type": "execute_result"
    }
   ],
   "source": [
    "grouped_df.isna().sum()"
   ]
  },
  {
   "cell_type": "markdown",
   "metadata": {},
   "source": [
    "меняем на 0"
   ]
  },
  {
   "cell_type": "code",
   "execution_count": 31,
   "metadata": {},
   "outputs": [],
   "source": [
    "grouped_df.fillna(0,inplace=True)"
   ]
  },
  {
   "cell_type": "code",
   "execution_count": 32,
   "metadata": {},
   "outputs": [
    {
     "data": {
      "text/plain": [
       "user_id            0\n",
       "month              0\n",
       "calls_count        0\n",
       "calls_sum          0\n",
       "internet_sum       0\n",
       "internet_sum_gb    0\n",
       "messages_count     0\n",
       "dtype: int64"
      ]
     },
     "execution_count": 32,
     "metadata": {},
     "output_type": "execute_result"
    }
   ],
   "source": [
    "grouped_df.isna().sum()"
   ]
  },
  {
   "cell_type": "markdown",
   "metadata": {},
   "source": [
    "Объединим данные по расходам с таблицей пользователей"
   ]
  },
  {
   "cell_type": "code",
   "execution_count": 33,
   "metadata": {},
   "outputs": [],
   "source": [
    "grouped_df = users.merge(grouped_df,on='user_id',how='outer')"
   ]
  },
  {
   "cell_type": "markdown",
   "metadata": {},
   "source": [
    "пропуски"
   ]
  },
  {
   "cell_type": "code",
   "execution_count": 34,
   "metadata": {},
   "outputs": [
    {
     "data": {
      "text/plain": [
       "user_id               0\n",
       "age                   0\n",
       "churn_date         3027\n",
       "city                  0\n",
       "first_name            0\n",
       "last_name             0\n",
       "reg_date              0\n",
       "tariff                0\n",
       "month                 2\n",
       "calls_count           2\n",
       "calls_sum             2\n",
       "internet_sum          2\n",
       "internet_sum_gb       2\n",
       "messages_count        2\n",
       "dtype: int64"
      ]
     },
     "execution_count": 34,
     "metadata": {},
     "output_type": "execute_result"
    }
   ],
   "source": [
    "grouped_df.isna().sum()"
   ]
  },
  {
   "cell_type": "markdown",
   "metadata": {},
   "source": [
    "меняем все кроме churn_date на 0"
   ]
  },
  {
   "cell_type": "code",
   "execution_count": 35,
   "metadata": {},
   "outputs": [],
   "source": [
    "change_list =['month','calls_count','calls_sum','internet_sum','messages_count']\n",
    "for i in change_list:\n",
    "    grouped_df[i].fillna(0,inplace=True)"
   ]
  },
  {
   "cell_type": "code",
   "execution_count": 36,
   "metadata": {},
   "outputs": [
    {
     "data": {
      "text/plain": [
       "user_id               0\n",
       "age                   0\n",
       "churn_date         3027\n",
       "city                  0\n",
       "first_name            0\n",
       "last_name             0\n",
       "reg_date              0\n",
       "tariff                0\n",
       "month                 0\n",
       "calls_count           0\n",
       "calls_sum             0\n",
       "internet_sum          0\n",
       "internet_sum_gb       2\n",
       "messages_count        0\n",
       "dtype: int64"
      ]
     },
     "execution_count": 36,
     "metadata": {},
     "output_type": "execute_result"
    }
   ],
   "source": [
    "grouped_df.isna().sum()"
   ]
  },
  {
   "cell_type": "code",
   "execution_count": 37,
   "metadata": {},
   "outputs": [
    {
     "data": {
      "text/html": [
       "<div>\n",
       "<style scoped>\n",
       "    .dataframe tbody tr th:only-of-type {\n",
       "        vertical-align: middle;\n",
       "    }\n",
       "\n",
       "    .dataframe tbody tr th {\n",
       "        vertical-align: top;\n",
       "    }\n",
       "\n",
       "    .dataframe thead th {\n",
       "        text-align: right;\n",
       "    }\n",
       "</style>\n",
       "<table border=\"1\" class=\"dataframe\">\n",
       "  <thead>\n",
       "    <tr style=\"text-align: right;\">\n",
       "      <th></th>\n",
       "      <th>user_id</th>\n",
       "      <th>age</th>\n",
       "      <th>churn_date</th>\n",
       "      <th>city</th>\n",
       "      <th>first_name</th>\n",
       "      <th>last_name</th>\n",
       "      <th>reg_date</th>\n",
       "      <th>tariff</th>\n",
       "      <th>month</th>\n",
       "      <th>calls_count</th>\n",
       "      <th>calls_sum</th>\n",
       "      <th>internet_sum</th>\n",
       "      <th>internet_sum_gb</th>\n",
       "      <th>messages_count</th>\n",
       "    </tr>\n",
       "  </thead>\n",
       "  <tbody>\n",
       "    <tr>\n",
       "      <th>0</th>\n",
       "      <td>1000</td>\n",
       "      <td>52</td>\n",
       "      <td>NaT</td>\n",
       "      <td>Краснодар</td>\n",
       "      <td>Рафаил</td>\n",
       "      <td>Верещагин</td>\n",
       "      <td>2018-05-25</td>\n",
       "      <td>ultra</td>\n",
       "      <td>5.00</td>\n",
       "      <td>22.00</td>\n",
       "      <td>159.00</td>\n",
       "      <td>2,256.00</td>\n",
       "      <td>3.00</td>\n",
       "      <td>22.00</td>\n",
       "    </tr>\n",
       "    <tr>\n",
       "      <th>1</th>\n",
       "      <td>1000</td>\n",
       "      <td>52</td>\n",
       "      <td>NaT</td>\n",
       "      <td>Краснодар</td>\n",
       "      <td>Рафаил</td>\n",
       "      <td>Верещагин</td>\n",
       "      <td>2018-05-25</td>\n",
       "      <td>ultra</td>\n",
       "      <td>6.00</td>\n",
       "      <td>43.00</td>\n",
       "      <td>172.00</td>\n",
       "      <td>23,257.00</td>\n",
       "      <td>23.00</td>\n",
       "      <td>60.00</td>\n",
       "    </tr>\n",
       "    <tr>\n",
       "      <th>2</th>\n",
       "      <td>1000</td>\n",
       "      <td>52</td>\n",
       "      <td>NaT</td>\n",
       "      <td>Краснодар</td>\n",
       "      <td>Рафаил</td>\n",
       "      <td>Верещагин</td>\n",
       "      <td>2018-05-25</td>\n",
       "      <td>ultra</td>\n",
       "      <td>7.00</td>\n",
       "      <td>47.00</td>\n",
       "      <td>340.00</td>\n",
       "      <td>14,016.00</td>\n",
       "      <td>14.00</td>\n",
       "      <td>75.00</td>\n",
       "    </tr>\n",
       "    <tr>\n",
       "      <th>3</th>\n",
       "      <td>1000</td>\n",
       "      <td>52</td>\n",
       "      <td>NaT</td>\n",
       "      <td>Краснодар</td>\n",
       "      <td>Рафаил</td>\n",
       "      <td>Верещагин</td>\n",
       "      <td>2018-05-25</td>\n",
       "      <td>ultra</td>\n",
       "      <td>8.00</td>\n",
       "      <td>52.00</td>\n",
       "      <td>408.00</td>\n",
       "      <td>14,070.00</td>\n",
       "      <td>14.00</td>\n",
       "      <td>81.00</td>\n",
       "    </tr>\n",
       "    <tr>\n",
       "      <th>4</th>\n",
       "      <td>1000</td>\n",
       "      <td>52</td>\n",
       "      <td>NaT</td>\n",
       "      <td>Краснодар</td>\n",
       "      <td>Рафаил</td>\n",
       "      <td>Верещагин</td>\n",
       "      <td>2018-05-25</td>\n",
       "      <td>ultra</td>\n",
       "      <td>9.00</td>\n",
       "      <td>58.00</td>\n",
       "      <td>466.00</td>\n",
       "      <td>14,581.00</td>\n",
       "      <td>15.00</td>\n",
       "      <td>57.00</td>\n",
       "    </tr>\n",
       "    <tr>\n",
       "      <th>5</th>\n",
       "      <td>1000</td>\n",
       "      <td>52</td>\n",
       "      <td>NaT</td>\n",
       "      <td>Краснодар</td>\n",
       "      <td>Рафаил</td>\n",
       "      <td>Верещагин</td>\n",
       "      <td>2018-05-25</td>\n",
       "      <td>ultra</td>\n",
       "      <td>10.00</td>\n",
       "      <td>57.00</td>\n",
       "      <td>350.00</td>\n",
       "      <td>14,717.00</td>\n",
       "      <td>15.00</td>\n",
       "      <td>73.00</td>\n",
       "    </tr>\n",
       "    <tr>\n",
       "      <th>6</th>\n",
       "      <td>1000</td>\n",
       "      <td>52</td>\n",
       "      <td>NaT</td>\n",
       "      <td>Краснодар</td>\n",
       "      <td>Рафаил</td>\n",
       "      <td>Верещагин</td>\n",
       "      <td>2018-05-25</td>\n",
       "      <td>ultra</td>\n",
       "      <td>11.00</td>\n",
       "      <td>43.00</td>\n",
       "      <td>338.00</td>\n",
       "      <td>14,768.00</td>\n",
       "      <td>15.00</td>\n",
       "      <td>58.00</td>\n",
       "    </tr>\n",
       "    <tr>\n",
       "      <th>7</th>\n",
       "      <td>1000</td>\n",
       "      <td>52</td>\n",
       "      <td>NaT</td>\n",
       "      <td>Краснодар</td>\n",
       "      <td>Рафаил</td>\n",
       "      <td>Верещагин</td>\n",
       "      <td>2018-05-25</td>\n",
       "      <td>ultra</td>\n",
       "      <td>12.00</td>\n",
       "      <td>46.00</td>\n",
       "      <td>333.00</td>\n",
       "      <td>9,827.00</td>\n",
       "      <td>10.00</td>\n",
       "      <td>70.00</td>\n",
       "    </tr>\n",
       "    <tr>\n",
       "      <th>8</th>\n",
       "      <td>1001</td>\n",
       "      <td>41</td>\n",
       "      <td>NaT</td>\n",
       "      <td>Москва</td>\n",
       "      <td>Иван</td>\n",
       "      <td>Ежов</td>\n",
       "      <td>2018-11-01</td>\n",
       "      <td>smart</td>\n",
       "      <td>11.00</td>\n",
       "      <td>59.00</td>\n",
       "      <td>430.00</td>\n",
       "      <td>18,452.00</td>\n",
       "      <td>19.00</td>\n",
       "      <td>0.00</td>\n",
       "    </tr>\n",
       "    <tr>\n",
       "      <th>9</th>\n",
       "      <td>1001</td>\n",
       "      <td>41</td>\n",
       "      <td>NaT</td>\n",
       "      <td>Москва</td>\n",
       "      <td>Иван</td>\n",
       "      <td>Ежов</td>\n",
       "      <td>2018-11-01</td>\n",
       "      <td>smart</td>\n",
       "      <td>12.00</td>\n",
       "      <td>63.00</td>\n",
       "      <td>414.00</td>\n",
       "      <td>14,053.00</td>\n",
       "      <td>14.00</td>\n",
       "      <td>0.00</td>\n",
       "    </tr>\n",
       "    <tr>\n",
       "      <th>10</th>\n",
       "      <td>1002</td>\n",
       "      <td>59</td>\n",
       "      <td>NaT</td>\n",
       "      <td>Стерлитамак</td>\n",
       "      <td>Евгений</td>\n",
       "      <td>Абрамович</td>\n",
       "      <td>2018-06-17</td>\n",
       "      <td>smart</td>\n",
       "      <td>6.00</td>\n",
       "      <td>15.00</td>\n",
       "      <td>117.00</td>\n",
       "      <td>10,871.00</td>\n",
       "      <td>11.00</td>\n",
       "      <td>4.00</td>\n",
       "    </tr>\n",
       "    <tr>\n",
       "      <th>11</th>\n",
       "      <td>1002</td>\n",
       "      <td>59</td>\n",
       "      <td>NaT</td>\n",
       "      <td>Стерлитамак</td>\n",
       "      <td>Евгений</td>\n",
       "      <td>Абрамович</td>\n",
       "      <td>2018-06-17</td>\n",
       "      <td>smart</td>\n",
       "      <td>7.00</td>\n",
       "      <td>26.00</td>\n",
       "      <td>214.00</td>\n",
       "      <td>17,601.00</td>\n",
       "      <td>18.00</td>\n",
       "      <td>11.00</td>\n",
       "    </tr>\n",
       "    <tr>\n",
       "      <th>12</th>\n",
       "      <td>1002</td>\n",
       "      <td>59</td>\n",
       "      <td>NaT</td>\n",
       "      <td>Стерлитамак</td>\n",
       "      <td>Евгений</td>\n",
       "      <td>Абрамович</td>\n",
       "      <td>2018-06-17</td>\n",
       "      <td>smart</td>\n",
       "      <td>8.00</td>\n",
       "      <td>42.00</td>\n",
       "      <td>289.00</td>\n",
       "      <td>20,347.00</td>\n",
       "      <td>20.00</td>\n",
       "      <td>13.00</td>\n",
       "    </tr>\n",
       "    <tr>\n",
       "      <th>13</th>\n",
       "      <td>1002</td>\n",
       "      <td>59</td>\n",
       "      <td>NaT</td>\n",
       "      <td>Стерлитамак</td>\n",
       "      <td>Евгений</td>\n",
       "      <td>Абрамович</td>\n",
       "      <td>2018-06-17</td>\n",
       "      <td>smart</td>\n",
       "      <td>9.00</td>\n",
       "      <td>36.00</td>\n",
       "      <td>206.00</td>\n",
       "      <td>16,712.00</td>\n",
       "      <td>17.00</td>\n",
       "      <td>4.00</td>\n",
       "    </tr>\n",
       "    <tr>\n",
       "      <th>14</th>\n",
       "      <td>1002</td>\n",
       "      <td>59</td>\n",
       "      <td>NaT</td>\n",
       "      <td>Стерлитамак</td>\n",
       "      <td>Евгений</td>\n",
       "      <td>Абрамович</td>\n",
       "      <td>2018-06-17</td>\n",
       "      <td>smart</td>\n",
       "      <td>10.00</td>\n",
       "      <td>33.00</td>\n",
       "      <td>212.00</td>\n",
       "      <td>13,905.00</td>\n",
       "      <td>14.00</td>\n",
       "      <td>10.00</td>\n",
       "    </tr>\n",
       "  </tbody>\n",
       "</table>\n",
       "</div>"
      ],
      "text/plain": [
       "    user_id  age churn_date         city first_name  last_name   reg_date  \\\n",
       "0      1000   52        NaT    Краснодар     Рафаил  Верещагин 2018-05-25   \n",
       "1      1000   52        NaT    Краснодар     Рафаил  Верещагин 2018-05-25   \n",
       "2      1000   52        NaT    Краснодар     Рафаил  Верещагин 2018-05-25   \n",
       "3      1000   52        NaT    Краснодар     Рафаил  Верещагин 2018-05-25   \n",
       "4      1000   52        NaT    Краснодар     Рафаил  Верещагин 2018-05-25   \n",
       "5      1000   52        NaT    Краснодар     Рафаил  Верещагин 2018-05-25   \n",
       "6      1000   52        NaT    Краснодар     Рафаил  Верещагин 2018-05-25   \n",
       "7      1000   52        NaT    Краснодар     Рафаил  Верещагин 2018-05-25   \n",
       "8      1001   41        NaT       Москва       Иван       Ежов 2018-11-01   \n",
       "9      1001   41        NaT       Москва       Иван       Ежов 2018-11-01   \n",
       "10     1002   59        NaT  Стерлитамак    Евгений  Абрамович 2018-06-17   \n",
       "11     1002   59        NaT  Стерлитамак    Евгений  Абрамович 2018-06-17   \n",
       "12     1002   59        NaT  Стерлитамак    Евгений  Абрамович 2018-06-17   \n",
       "13     1002   59        NaT  Стерлитамак    Евгений  Абрамович 2018-06-17   \n",
       "14     1002   59        NaT  Стерлитамак    Евгений  Абрамович 2018-06-17   \n",
       "\n",
       "   tariff  month  calls_count  calls_sum  internet_sum  internet_sum_gb  \\\n",
       "0   ultra   5.00        22.00     159.00      2,256.00             3.00   \n",
       "1   ultra   6.00        43.00     172.00     23,257.00            23.00   \n",
       "2   ultra   7.00        47.00     340.00     14,016.00            14.00   \n",
       "3   ultra   8.00        52.00     408.00     14,070.00            14.00   \n",
       "4   ultra   9.00        58.00     466.00     14,581.00            15.00   \n",
       "5   ultra  10.00        57.00     350.00     14,717.00            15.00   \n",
       "6   ultra  11.00        43.00     338.00     14,768.00            15.00   \n",
       "7   ultra  12.00        46.00     333.00      9,827.00            10.00   \n",
       "8   smart  11.00        59.00     430.00     18,452.00            19.00   \n",
       "9   smart  12.00        63.00     414.00     14,053.00            14.00   \n",
       "10  smart   6.00        15.00     117.00     10,871.00            11.00   \n",
       "11  smart   7.00        26.00     214.00     17,601.00            18.00   \n",
       "12  smart   8.00        42.00     289.00     20,347.00            20.00   \n",
       "13  smart   9.00        36.00     206.00     16,712.00            17.00   \n",
       "14  smart  10.00        33.00     212.00     13,905.00            14.00   \n",
       "\n",
       "    messages_count  \n",
       "0            22.00  \n",
       "1            60.00  \n",
       "2            75.00  \n",
       "3            81.00  \n",
       "4            57.00  \n",
       "5            73.00  \n",
       "6            58.00  \n",
       "7            70.00  \n",
       "8             0.00  \n",
       "9             0.00  \n",
       "10            4.00  \n",
       "11           11.00  \n",
       "12           13.00  \n",
       "13            4.00  \n",
       "14           10.00  "
      ]
     },
     "execution_count": 37,
     "metadata": {},
     "output_type": "execute_result"
    }
   ],
   "source": [
    "grouped_df.head(15)"
   ]
  },
  {
   "cell_type": "markdown",
   "metadata": {},
   "source": [
    "функция подсчета выручки с каждого пользователя в месяц"
   ]
  },
  {
   "cell_type": "code",
   "execution_count": 38,
   "metadata": {},
   "outputs": [],
   "source": [
    "def det_revenue(row):\n",
    "    messages = row['messages_count']\n",
    "    mb_used = row['internet_sum']\n",
    "    tariff = row['tariff']\n",
    "    duration = row['calls_sum']\n",
    "    calls = row['calls_count']\n",
    "    \n",
    "    if tariff == 'smart':\n",
    "        extra_duration = duration - tariffs.loc[0, 'minutes_included']\n",
    "        extra_mb = mb_used - tariffs.loc[0, 'mb_per_month_included']\n",
    "        extra_messages = messages - tariffs.loc[0, 'messages_included']\n",
    "        \n",
    "        if extra_duration < 0: extra_duration = 0\n",
    "        if extra_mb < 0: extra_mb = 0\n",
    "        if extra_messages < 0: extra_messages = 0\n",
    "        \n",
    "        return (tariffs.loc[0, 'rub_per_message'] * extra_messages + \n",
    "                   (tariffs.loc[0, 'rub_per_gb'] / 1024) * extra_mb + \n",
    "                   tariffs.loc[0, 'rub_per_minute'] * extra_duration + \n",
    "                   tariffs.loc[0, 'rub_monthly_fee']\n",
    "                  ) \n",
    "    else:\n",
    "        extra_duration = duration - tariffs.loc[1, 'minutes_included']\n",
    "        extra_mb = mb_used - tariffs.loc[1, 'mb_per_month_included']\n",
    "        extra_messages = messages - tariffs.loc[1, 'messages_included']\n",
    "        \n",
    "        if extra_duration < 0: extra_duration = 0\n",
    "        if extra_mb < 0: extra_mb = 0\n",
    "        if extra_messages < 0: extra_messages = 0\n",
    "        \n",
    "        return (tariffs.loc[1, 'rub_per_message'] * extra_messages + \n",
    "                   (tariffs.loc[1, 'rub_per_gb'] / 1024) * extra_mb + \n",
    "                   tariffs.loc[1, 'rub_per_minute'] * extra_duration + \n",
    "                   tariffs.loc[1, 'rub_monthly_fee']\n",
    "                  )"
   ]
  },
  {
   "cell_type": "code",
   "execution_count": 39,
   "metadata": {},
   "outputs": [
    {
     "data": {
      "text/html": [
       "<div>\n",
       "<style scoped>\n",
       "    .dataframe tbody tr th:only-of-type {\n",
       "        vertical-align: middle;\n",
       "    }\n",
       "\n",
       "    .dataframe tbody tr th {\n",
       "        vertical-align: top;\n",
       "    }\n",
       "\n",
       "    .dataframe thead th {\n",
       "        text-align: right;\n",
       "    }\n",
       "</style>\n",
       "<table border=\"1\" class=\"dataframe\">\n",
       "  <thead>\n",
       "    <tr style=\"text-align: right;\">\n",
       "      <th></th>\n",
       "      <th>user_id</th>\n",
       "      <th>age</th>\n",
       "      <th>churn_date</th>\n",
       "      <th>city</th>\n",
       "      <th>first_name</th>\n",
       "      <th>last_name</th>\n",
       "      <th>reg_date</th>\n",
       "      <th>tariff</th>\n",
       "      <th>month</th>\n",
       "      <th>calls_count</th>\n",
       "      <th>calls_sum</th>\n",
       "      <th>internet_sum</th>\n",
       "      <th>internet_sum_gb</th>\n",
       "      <th>messages_count</th>\n",
       "      <th>revenue</th>\n",
       "    </tr>\n",
       "  </thead>\n",
       "  <tbody>\n",
       "    <tr>\n",
       "      <th>0</th>\n",
       "      <td>1000</td>\n",
       "      <td>52</td>\n",
       "      <td>NaT</td>\n",
       "      <td>Краснодар</td>\n",
       "      <td>Рафаил</td>\n",
       "      <td>Верещагин</td>\n",
       "      <td>2018-05-25</td>\n",
       "      <td>ultra</td>\n",
       "      <td>5.00</td>\n",
       "      <td>22.00</td>\n",
       "      <td>159.00</td>\n",
       "      <td>2,256.00</td>\n",
       "      <td>3.00</td>\n",
       "      <td>22.00</td>\n",
       "      <td>1,950.00</td>\n",
       "    </tr>\n",
       "    <tr>\n",
       "      <th>1</th>\n",
       "      <td>1000</td>\n",
       "      <td>52</td>\n",
       "      <td>NaT</td>\n",
       "      <td>Краснодар</td>\n",
       "      <td>Рафаил</td>\n",
       "      <td>Верещагин</td>\n",
       "      <td>2018-05-25</td>\n",
       "      <td>ultra</td>\n",
       "      <td>6.00</td>\n",
       "      <td>43.00</td>\n",
       "      <td>172.00</td>\n",
       "      <td>23,257.00</td>\n",
       "      <td>23.00</td>\n",
       "      <td>60.00</td>\n",
       "      <td>1,950.00</td>\n",
       "    </tr>\n",
       "    <tr>\n",
       "      <th>2</th>\n",
       "      <td>1000</td>\n",
       "      <td>52</td>\n",
       "      <td>NaT</td>\n",
       "      <td>Краснодар</td>\n",
       "      <td>Рафаил</td>\n",
       "      <td>Верещагин</td>\n",
       "      <td>2018-05-25</td>\n",
       "      <td>ultra</td>\n",
       "      <td>7.00</td>\n",
       "      <td>47.00</td>\n",
       "      <td>340.00</td>\n",
       "      <td>14,016.00</td>\n",
       "      <td>14.00</td>\n",
       "      <td>75.00</td>\n",
       "      <td>1,950.00</td>\n",
       "    </tr>\n",
       "    <tr>\n",
       "      <th>3</th>\n",
       "      <td>1000</td>\n",
       "      <td>52</td>\n",
       "      <td>NaT</td>\n",
       "      <td>Краснодар</td>\n",
       "      <td>Рафаил</td>\n",
       "      <td>Верещагин</td>\n",
       "      <td>2018-05-25</td>\n",
       "      <td>ultra</td>\n",
       "      <td>8.00</td>\n",
       "      <td>52.00</td>\n",
       "      <td>408.00</td>\n",
       "      <td>14,070.00</td>\n",
       "      <td>14.00</td>\n",
       "      <td>81.00</td>\n",
       "      <td>1,950.00</td>\n",
       "    </tr>\n",
       "    <tr>\n",
       "      <th>4</th>\n",
       "      <td>1000</td>\n",
       "      <td>52</td>\n",
       "      <td>NaT</td>\n",
       "      <td>Краснодар</td>\n",
       "      <td>Рафаил</td>\n",
       "      <td>Верещагин</td>\n",
       "      <td>2018-05-25</td>\n",
       "      <td>ultra</td>\n",
       "      <td>9.00</td>\n",
       "      <td>58.00</td>\n",
       "      <td>466.00</td>\n",
       "      <td>14,581.00</td>\n",
       "      <td>15.00</td>\n",
       "      <td>57.00</td>\n",
       "      <td>1,950.00</td>\n",
       "    </tr>\n",
       "    <tr>\n",
       "      <th>5</th>\n",
       "      <td>1000</td>\n",
       "      <td>52</td>\n",
       "      <td>NaT</td>\n",
       "      <td>Краснодар</td>\n",
       "      <td>Рафаил</td>\n",
       "      <td>Верещагин</td>\n",
       "      <td>2018-05-25</td>\n",
       "      <td>ultra</td>\n",
       "      <td>10.00</td>\n",
       "      <td>57.00</td>\n",
       "      <td>350.00</td>\n",
       "      <td>14,717.00</td>\n",
       "      <td>15.00</td>\n",
       "      <td>73.00</td>\n",
       "      <td>1,950.00</td>\n",
       "    </tr>\n",
       "    <tr>\n",
       "      <th>6</th>\n",
       "      <td>1000</td>\n",
       "      <td>52</td>\n",
       "      <td>NaT</td>\n",
       "      <td>Краснодар</td>\n",
       "      <td>Рафаил</td>\n",
       "      <td>Верещагин</td>\n",
       "      <td>2018-05-25</td>\n",
       "      <td>ultra</td>\n",
       "      <td>11.00</td>\n",
       "      <td>43.00</td>\n",
       "      <td>338.00</td>\n",
       "      <td>14,768.00</td>\n",
       "      <td>15.00</td>\n",
       "      <td>58.00</td>\n",
       "      <td>1,950.00</td>\n",
       "    </tr>\n",
       "    <tr>\n",
       "      <th>7</th>\n",
       "      <td>1000</td>\n",
       "      <td>52</td>\n",
       "      <td>NaT</td>\n",
       "      <td>Краснодар</td>\n",
       "      <td>Рафаил</td>\n",
       "      <td>Верещагин</td>\n",
       "      <td>2018-05-25</td>\n",
       "      <td>ultra</td>\n",
       "      <td>12.00</td>\n",
       "      <td>46.00</td>\n",
       "      <td>333.00</td>\n",
       "      <td>9,827.00</td>\n",
       "      <td>10.00</td>\n",
       "      <td>70.00</td>\n",
       "      <td>1,950.00</td>\n",
       "    </tr>\n",
       "    <tr>\n",
       "      <th>8</th>\n",
       "      <td>1001</td>\n",
       "      <td>41</td>\n",
       "      <td>NaT</td>\n",
       "      <td>Москва</td>\n",
       "      <td>Иван</td>\n",
       "      <td>Ежов</td>\n",
       "      <td>2018-11-01</td>\n",
       "      <td>smart</td>\n",
       "      <td>11.00</td>\n",
       "      <td>59.00</td>\n",
       "      <td>430.00</td>\n",
       "      <td>18,452.00</td>\n",
       "      <td>19.00</td>\n",
       "      <td>0.00</td>\n",
       "      <td>1,153.91</td>\n",
       "    </tr>\n",
       "    <tr>\n",
       "      <th>9</th>\n",
       "      <td>1001</td>\n",
       "      <td>41</td>\n",
       "      <td>NaT</td>\n",
       "      <td>Москва</td>\n",
       "      <td>Иван</td>\n",
       "      <td>Ежов</td>\n",
       "      <td>2018-11-01</td>\n",
       "      <td>smart</td>\n",
       "      <td>12.00</td>\n",
       "      <td>63.00</td>\n",
       "      <td>414.00</td>\n",
       "      <td>14,053.00</td>\n",
       "      <td>14.00</td>\n",
       "      <td>0.00</td>\n",
       "      <td>550.00</td>\n",
       "    </tr>\n",
       "    <tr>\n",
       "      <th>10</th>\n",
       "      <td>1002</td>\n",
       "      <td>59</td>\n",
       "      <td>NaT</td>\n",
       "      <td>Стерлитамак</td>\n",
       "      <td>Евгений</td>\n",
       "      <td>Абрамович</td>\n",
       "      <td>2018-06-17</td>\n",
       "      <td>smart</td>\n",
       "      <td>6.00</td>\n",
       "      <td>15.00</td>\n",
       "      <td>117.00</td>\n",
       "      <td>10,871.00</td>\n",
       "      <td>11.00</td>\n",
       "      <td>4.00</td>\n",
       "      <td>550.00</td>\n",
       "    </tr>\n",
       "    <tr>\n",
       "      <th>11</th>\n",
       "      <td>1002</td>\n",
       "      <td>59</td>\n",
       "      <td>NaT</td>\n",
       "      <td>Стерлитамак</td>\n",
       "      <td>Евгений</td>\n",
       "      <td>Абрамович</td>\n",
       "      <td>2018-06-17</td>\n",
       "      <td>smart</td>\n",
       "      <td>7.00</td>\n",
       "      <td>26.00</td>\n",
       "      <td>214.00</td>\n",
       "      <td>17,601.00</td>\n",
       "      <td>18.00</td>\n",
       "      <td>11.00</td>\n",
       "      <td>987.70</td>\n",
       "    </tr>\n",
       "    <tr>\n",
       "      <th>12</th>\n",
       "      <td>1002</td>\n",
       "      <td>59</td>\n",
       "      <td>NaT</td>\n",
       "      <td>Стерлитамак</td>\n",
       "      <td>Евгений</td>\n",
       "      <td>Абрамович</td>\n",
       "      <td>2018-06-17</td>\n",
       "      <td>smart</td>\n",
       "      <td>8.00</td>\n",
       "      <td>42.00</td>\n",
       "      <td>289.00</td>\n",
       "      <td>20,347.00</td>\n",
       "      <td>20.00</td>\n",
       "      <td>13.00</td>\n",
       "      <td>1,524.02</td>\n",
       "    </tr>\n",
       "    <tr>\n",
       "      <th>13</th>\n",
       "      <td>1002</td>\n",
       "      <td>59</td>\n",
       "      <td>NaT</td>\n",
       "      <td>Стерлитамак</td>\n",
       "      <td>Евгений</td>\n",
       "      <td>Абрамович</td>\n",
       "      <td>2018-06-17</td>\n",
       "      <td>smart</td>\n",
       "      <td>9.00</td>\n",
       "      <td>36.00</td>\n",
       "      <td>206.00</td>\n",
       "      <td>16,712.00</td>\n",
       "      <td>17.00</td>\n",
       "      <td>4.00</td>\n",
       "      <td>814.06</td>\n",
       "    </tr>\n",
       "    <tr>\n",
       "      <th>14</th>\n",
       "      <td>1002</td>\n",
       "      <td>59</td>\n",
       "      <td>NaT</td>\n",
       "      <td>Стерлитамак</td>\n",
       "      <td>Евгений</td>\n",
       "      <td>Абрамович</td>\n",
       "      <td>2018-06-17</td>\n",
       "      <td>smart</td>\n",
       "      <td>10.00</td>\n",
       "      <td>33.00</td>\n",
       "      <td>212.00</td>\n",
       "      <td>13,905.00</td>\n",
       "      <td>14.00</td>\n",
       "      <td>10.00</td>\n",
       "      <td>550.00</td>\n",
       "    </tr>\n",
       "  </tbody>\n",
       "</table>\n",
       "</div>"
      ],
      "text/plain": [
       "    user_id  age churn_date         city first_name  last_name   reg_date  \\\n",
       "0      1000   52        NaT    Краснодар     Рафаил  Верещагин 2018-05-25   \n",
       "1      1000   52        NaT    Краснодар     Рафаил  Верещагин 2018-05-25   \n",
       "2      1000   52        NaT    Краснодар     Рафаил  Верещагин 2018-05-25   \n",
       "3      1000   52        NaT    Краснодар     Рафаил  Верещагин 2018-05-25   \n",
       "4      1000   52        NaT    Краснодар     Рафаил  Верещагин 2018-05-25   \n",
       "5      1000   52        NaT    Краснодар     Рафаил  Верещагин 2018-05-25   \n",
       "6      1000   52        NaT    Краснодар     Рафаил  Верещагин 2018-05-25   \n",
       "7      1000   52        NaT    Краснодар     Рафаил  Верещагин 2018-05-25   \n",
       "8      1001   41        NaT       Москва       Иван       Ежов 2018-11-01   \n",
       "9      1001   41        NaT       Москва       Иван       Ежов 2018-11-01   \n",
       "10     1002   59        NaT  Стерлитамак    Евгений  Абрамович 2018-06-17   \n",
       "11     1002   59        NaT  Стерлитамак    Евгений  Абрамович 2018-06-17   \n",
       "12     1002   59        NaT  Стерлитамак    Евгений  Абрамович 2018-06-17   \n",
       "13     1002   59        NaT  Стерлитамак    Евгений  Абрамович 2018-06-17   \n",
       "14     1002   59        NaT  Стерлитамак    Евгений  Абрамович 2018-06-17   \n",
       "\n",
       "   tariff  month  calls_count  calls_sum  internet_sum  internet_sum_gb  \\\n",
       "0   ultra   5.00        22.00     159.00      2,256.00             3.00   \n",
       "1   ultra   6.00        43.00     172.00     23,257.00            23.00   \n",
       "2   ultra   7.00        47.00     340.00     14,016.00            14.00   \n",
       "3   ultra   8.00        52.00     408.00     14,070.00            14.00   \n",
       "4   ultra   9.00        58.00     466.00     14,581.00            15.00   \n",
       "5   ultra  10.00        57.00     350.00     14,717.00            15.00   \n",
       "6   ultra  11.00        43.00     338.00     14,768.00            15.00   \n",
       "7   ultra  12.00        46.00     333.00      9,827.00            10.00   \n",
       "8   smart  11.00        59.00     430.00     18,452.00            19.00   \n",
       "9   smart  12.00        63.00     414.00     14,053.00            14.00   \n",
       "10  smart   6.00        15.00     117.00     10,871.00            11.00   \n",
       "11  smart   7.00        26.00     214.00     17,601.00            18.00   \n",
       "12  smart   8.00        42.00     289.00     20,347.00            20.00   \n",
       "13  smart   9.00        36.00     206.00     16,712.00            17.00   \n",
       "14  smart  10.00        33.00     212.00     13,905.00            14.00   \n",
       "\n",
       "    messages_count  revenue  \n",
       "0            22.00 1,950.00  \n",
       "1            60.00 1,950.00  \n",
       "2            75.00 1,950.00  \n",
       "3            81.00 1,950.00  \n",
       "4            57.00 1,950.00  \n",
       "5            73.00 1,950.00  \n",
       "6            58.00 1,950.00  \n",
       "7            70.00 1,950.00  \n",
       "8             0.00 1,153.91  \n",
       "9             0.00   550.00  \n",
       "10            4.00   550.00  \n",
       "11           11.00   987.70  \n",
       "12           13.00 1,524.02  \n",
       "13            4.00   814.06  \n",
       "14           10.00   550.00  "
      ]
     },
     "execution_count": 39,
     "metadata": {},
     "output_type": "execute_result"
    }
   ],
   "source": [
    "grouped_df['revenue'] = grouped_df.apply(det_revenue, axis=1)\n",
    "grouped_df.head(15)"
   ]
  },
  {
   "cell_type": "markdown",
   "metadata": {},
   "source": [
    "Сформирован единый датасет со всеми необходимыми для последующего анализа данными"
   ]
  },
  {
   "cell_type": "markdown",
   "metadata": {},
   "source": [
    "## Анализ данных"
   ]
  },
  {
   "cell_type": "markdown",
   "metadata": {},
   "source": [
    "- Сколько минут разговора, сколько сообщений и какой объём интернет-трафика требуется пользователям каждого тарифа в месяц. \n",
    "Посчитайте среднее количество, дисперсию и стандартное отклонение. \n",
    "- Постройте гистограммы. Опишите распределения."
   ]
  },
  {
   "cell_type": "markdown",
   "metadata": {},
   "source": [
    "Сколько минут разговора, сколько сообщений и какой объём интернет-трафика требуется пользователям в среднем в месяц для тарифа ultra"
   ]
  },
  {
   "cell_type": "code",
   "execution_count": 40,
   "metadata": {},
   "outputs": [
    {
     "data": {
      "text/html": [
       "<div>\n",
       "<style scoped>\n",
       "    .dataframe tbody tr th:only-of-type {\n",
       "        vertical-align: middle;\n",
       "    }\n",
       "\n",
       "    .dataframe tbody tr th {\n",
       "        vertical-align: top;\n",
       "    }\n",
       "\n",
       "    .dataframe thead th {\n",
       "        text-align: right;\n",
       "    }\n",
       "</style>\n",
       "<table border=\"1\" class=\"dataframe\">\n",
       "  <thead>\n",
       "    <tr style=\"text-align: right;\">\n",
       "      <th></th>\n",
       "      <th>user_id</th>\n",
       "      <th>age</th>\n",
       "      <th>month</th>\n",
       "      <th>calls_count</th>\n",
       "      <th>calls_sum</th>\n",
       "      <th>internet_sum</th>\n",
       "      <th>internet_sum_gb</th>\n",
       "      <th>messages_count</th>\n",
       "      <th>revenue</th>\n",
       "    </tr>\n",
       "  </thead>\n",
       "  <tbody>\n",
       "    <tr>\n",
       "      <th>count</th>\n",
       "      <td>986.00</td>\n",
       "      <td>986.00</td>\n",
       "      <td>986.00</td>\n",
       "      <td>986.00</td>\n",
       "      <td>986.00</td>\n",
       "      <td>986.00</td>\n",
       "      <td>985.00</td>\n",
       "      <td>986.00</td>\n",
       "      <td>986.00</td>\n",
       "    </tr>\n",
       "    <tr>\n",
       "      <th>mean</th>\n",
       "      <td>1,262.96</td>\n",
       "      <td>46.84</td>\n",
       "      <td>8.24</td>\n",
       "      <td>73.32</td>\n",
       "      <td>526.09</td>\n",
       "      <td>19,467.14</td>\n",
       "      <td>19.53</td>\n",
       "      <td>49.31</td>\n",
       "      <td>2,060.42</td>\n",
       "    </tr>\n",
       "    <tr>\n",
       "      <th>std</th>\n",
       "      <td>140.69</td>\n",
       "      <td>17.10</td>\n",
       "      <td>2.88</td>\n",
       "      <td>43.96</td>\n",
       "      <td>317.89</td>\n",
       "      <td>10,110.26</td>\n",
       "      <td>9.87</td>\n",
       "      <td>47.81</td>\n",
       "      <td>356.14</td>\n",
       "    </tr>\n",
       "    <tr>\n",
       "      <th>min</th>\n",
       "      <td>1,000.00</td>\n",
       "      <td>18.00</td>\n",
       "      <td>0.00</td>\n",
       "      <td>0.00</td>\n",
       "      <td>0.00</td>\n",
       "      <td>0.00</td>\n",
       "      <td>0.00</td>\n",
       "      <td>0.00</td>\n",
       "      <td>1,950.00</td>\n",
       "    </tr>\n",
       "    <tr>\n",
       "      <th>25%</th>\n",
       "      <td>1,143.00</td>\n",
       "      <td>30.00</td>\n",
       "      <td>6.00</td>\n",
       "      <td>41.00</td>\n",
       "      <td>282.50</td>\n",
       "      <td>11,761.00</td>\n",
       "      <td>12.00</td>\n",
       "      <td>6.00</td>\n",
       "      <td>1,950.00</td>\n",
       "    </tr>\n",
       "    <tr>\n",
       "      <th>50%</th>\n",
       "      <td>1,277.00</td>\n",
       "      <td>45.00</td>\n",
       "      <td>9.00</td>\n",
       "      <td>73.50</td>\n",
       "      <td>518.00</td>\n",
       "      <td>19,320.00</td>\n",
       "      <td>19.00</td>\n",
       "      <td>38.00</td>\n",
       "      <td>1,950.00</td>\n",
       "    </tr>\n",
       "    <tr>\n",
       "      <th>75%</th>\n",
       "      <td>1,381.00</td>\n",
       "      <td>63.00</td>\n",
       "      <td>11.00</td>\n",
       "      <td>103.75</td>\n",
       "      <td>751.75</td>\n",
       "      <td>26,860.25</td>\n",
       "      <td>27.00</td>\n",
       "      <td>78.75</td>\n",
       "      <td>1,950.00</td>\n",
       "    </tr>\n",
       "    <tr>\n",
       "      <th>max</th>\n",
       "      <td>1,495.00</td>\n",
       "      <td>75.00</td>\n",
       "      <td>12.00</td>\n",
       "      <td>244.00</td>\n",
       "      <td>1,673.00</td>\n",
       "      <td>49,789.00</td>\n",
       "      <td>49.00</td>\n",
       "      <td>224.00</td>\n",
       "      <td>4,743.31</td>\n",
       "    </tr>\n",
       "  </tbody>\n",
       "</table>\n",
       "</div>"
      ],
      "text/plain": [
       "       user_id    age  month  calls_count  calls_sum  internet_sum  \\\n",
       "count   986.00 986.00 986.00       986.00     986.00        986.00   \n",
       "mean  1,262.96  46.84   8.24        73.32     526.09     19,467.14   \n",
       "std     140.69  17.10   2.88        43.96     317.89     10,110.26   \n",
       "min   1,000.00  18.00   0.00         0.00       0.00          0.00   \n",
       "25%   1,143.00  30.00   6.00        41.00     282.50     11,761.00   \n",
       "50%   1,277.00  45.00   9.00        73.50     518.00     19,320.00   \n",
       "75%   1,381.00  63.00  11.00       103.75     751.75     26,860.25   \n",
       "max   1,495.00  75.00  12.00       244.00   1,673.00     49,789.00   \n",
       "\n",
       "       internet_sum_gb  messages_count  revenue  \n",
       "count           985.00          986.00   986.00  \n",
       "mean             19.53           49.31 2,060.42  \n",
       "std               9.87           47.81   356.14  \n",
       "min               0.00            0.00 1,950.00  \n",
       "25%              12.00            6.00 1,950.00  \n",
       "50%              19.00           38.00 1,950.00  \n",
       "75%              27.00           78.75 1,950.00  \n",
       "max              49.00          224.00 4,743.31  "
      ]
     },
     "execution_count": 40,
     "metadata": {},
     "output_type": "execute_result"
    }
   ],
   "source": [
    "grouped_df.query('tariff == \"ultra\"').describe()"
   ]
  },
  {
   "cell_type": "markdown",
   "metadata": {},
   "source": [
    "Сколько минут разговора, сколько сообщений и какой объём интернет-трафика требуется пользователям в среднем в месяц для тарифа smart"
   ]
  },
  {
   "cell_type": "code",
   "execution_count": 41,
   "metadata": {},
   "outputs": [
    {
     "data": {
      "text/html": [
       "<div>\n",
       "<style scoped>\n",
       "    .dataframe tbody tr th:only-of-type {\n",
       "        vertical-align: middle;\n",
       "    }\n",
       "\n",
       "    .dataframe tbody tr th {\n",
       "        vertical-align: top;\n",
       "    }\n",
       "\n",
       "    .dataframe thead th {\n",
       "        text-align: right;\n",
       "    }\n",
       "</style>\n",
       "<table border=\"1\" class=\"dataframe\">\n",
       "  <thead>\n",
       "    <tr style=\"text-align: right;\">\n",
       "      <th></th>\n",
       "      <th>user_id</th>\n",
       "      <th>age</th>\n",
       "      <th>month</th>\n",
       "      <th>calls_count</th>\n",
       "      <th>calls_sum</th>\n",
       "      <th>internet_sum</th>\n",
       "      <th>internet_sum_gb</th>\n",
       "      <th>messages_count</th>\n",
       "      <th>revenue</th>\n",
       "    </tr>\n",
       "  </thead>\n",
       "  <tbody>\n",
       "    <tr>\n",
       "      <th>count</th>\n",
       "      <td>2,230.00</td>\n",
       "      <td>2,230.00</td>\n",
       "      <td>2,230.00</td>\n",
       "      <td>2,230.00</td>\n",
       "      <td>2,230.00</td>\n",
       "      <td>2,230.00</td>\n",
       "      <td>2,229.00</td>\n",
       "      <td>2,230.00</td>\n",
       "      <td>2,230.00</td>\n",
       "    </tr>\n",
       "    <tr>\n",
       "      <th>mean</th>\n",
       "      <td>1,246.56</td>\n",
       "      <td>46.56</td>\n",
       "      <td>8.34</td>\n",
       "      <td>58.44</td>\n",
       "      <td>417.75</td>\n",
       "      <td>16,221.91</td>\n",
       "      <td>16.36</td>\n",
       "      <td>33.37</td>\n",
       "      <td>1,233.04</td>\n",
       "    </tr>\n",
       "    <tr>\n",
       "      <th>std</th>\n",
       "      <td>146.11</td>\n",
       "      <td>16.35</td>\n",
       "      <td>2.93</td>\n",
       "      <td>25.96</td>\n",
       "      <td>190.48</td>\n",
       "      <td>5,886.30</td>\n",
       "      <td>5.76</td>\n",
       "      <td>28.23</td>\n",
       "      <td>787.64</td>\n",
       "    </tr>\n",
       "    <tr>\n",
       "      <th>min</th>\n",
       "      <td>1,001.00</td>\n",
       "      <td>18.00</td>\n",
       "      <td>0.00</td>\n",
       "      <td>0.00</td>\n",
       "      <td>0.00</td>\n",
       "      <td>0.00</td>\n",
       "      <td>0.00</td>\n",
       "      <td>0.00</td>\n",
       "      <td>550.00</td>\n",
       "    </tr>\n",
       "    <tr>\n",
       "      <th>25%</th>\n",
       "      <td>1,121.00</td>\n",
       "      <td>32.00</td>\n",
       "      <td>6.00</td>\n",
       "      <td>40.00</td>\n",
       "      <td>282.00</td>\n",
       "      <td>12,645.25</td>\n",
       "      <td>13.00</td>\n",
       "      <td>10.00</td>\n",
       "      <td>550.00</td>\n",
       "    </tr>\n",
       "    <tr>\n",
       "      <th>50%</th>\n",
       "      <td>1,240.00</td>\n",
       "      <td>47.00</td>\n",
       "      <td>9.00</td>\n",
       "      <td>60.00</td>\n",
       "      <td>421.50</td>\n",
       "      <td>16,529.00</td>\n",
       "      <td>17.00</td>\n",
       "      <td>28.00</td>\n",
       "      <td>959.55</td>\n",
       "    </tr>\n",
       "    <tr>\n",
       "      <th>75%</th>\n",
       "      <td>1,376.00</td>\n",
       "      <td>62.00</td>\n",
       "      <td>11.00</td>\n",
       "      <td>76.00</td>\n",
       "      <td>545.00</td>\n",
       "      <td>20,068.00</td>\n",
       "      <td>20.00</td>\n",
       "      <td>51.00</td>\n",
       "      <td>1,667.59</td>\n",
       "    </tr>\n",
       "    <tr>\n",
       "      <th>max</th>\n",
       "      <td>1,499.00</td>\n",
       "      <td>75.00</td>\n",
       "      <td>12.00</td>\n",
       "      <td>198.00</td>\n",
       "      <td>1,435.00</td>\n",
       "      <td>38,610.00</td>\n",
       "      <td>38.00</td>\n",
       "      <td>143.00</td>\n",
       "      <td>6,711.02</td>\n",
       "    </tr>\n",
       "  </tbody>\n",
       "</table>\n",
       "</div>"
      ],
      "text/plain": [
       "       user_id      age    month  calls_count  calls_sum  internet_sum  \\\n",
       "count 2,230.00 2,230.00 2,230.00     2,230.00   2,230.00      2,230.00   \n",
       "mean  1,246.56    46.56     8.34        58.44     417.75     16,221.91   \n",
       "std     146.11    16.35     2.93        25.96     190.48      5,886.30   \n",
       "min   1,001.00    18.00     0.00         0.00       0.00          0.00   \n",
       "25%   1,121.00    32.00     6.00        40.00     282.00     12,645.25   \n",
       "50%   1,240.00    47.00     9.00        60.00     421.50     16,529.00   \n",
       "75%   1,376.00    62.00    11.00        76.00     545.00     20,068.00   \n",
       "max   1,499.00    75.00    12.00       198.00   1,435.00     38,610.00   \n",
       "\n",
       "       internet_sum_gb  messages_count  revenue  \n",
       "count         2,229.00        2,230.00 2,230.00  \n",
       "mean             16.36           33.37 1,233.04  \n",
       "std               5.76           28.23   787.64  \n",
       "min               0.00            0.00   550.00  \n",
       "25%              13.00           10.00   550.00  \n",
       "50%              17.00           28.00   959.55  \n",
       "75%              20.00           51.00 1,667.59  \n",
       "max              38.00          143.00 6,711.02  "
      ]
     },
     "execution_count": 41,
     "metadata": {},
     "output_type": "execute_result"
    }
   ],
   "source": [
    "grouped_df.query('tariff == \"smart\"').describe()"
   ]
  },
  {
   "cell_type": "markdown",
   "metadata": {},
   "source": [
    "- В среднем для тарифа smart требуется 417 минут разговора,а для тарифа ultra 526 минут разговора. Медиана данных показателей 421 и 518 минут соответственно.\n",
    "- В среднем для тарифа smart требуется 33 сообщения,а для тарифа ultra 49 сообщений. Медиана данных показателей 28 и 38 сообщений соответственно.\n",
    "- В среднем для тарифа smart требуется 16 201 МБ интернет-трафика, а для тарифа ultra 19 449 МБ. Медиана данных показателей 16 505 МБ и 19304 МБ соответственно."
   ]
  },
  {
   "cell_type": "markdown",
   "metadata": {},
   "source": [
    "Cколько в среднем каждому пользователю требуется минут, сообщений и мегабайт в месяц"
   ]
  },
  {
   "cell_type": "code",
   "execution_count": 42,
   "metadata": {},
   "outputs": [
    {
     "data": {
      "text/html": [
       "<div>\n",
       "<style scoped>\n",
       "    .dataframe tbody tr th:only-of-type {\n",
       "        vertical-align: middle;\n",
       "    }\n",
       "\n",
       "    .dataframe tbody tr th {\n",
       "        vertical-align: top;\n",
       "    }\n",
       "\n",
       "    .dataframe thead th {\n",
       "        text-align: right;\n",
       "    }\n",
       "</style>\n",
       "<table border=\"1\" class=\"dataframe\">\n",
       "  <thead>\n",
       "    <tr style=\"text-align: right;\">\n",
       "      <th></th>\n",
       "      <th>calls_sum</th>\n",
       "      <th>internet_sum</th>\n",
       "      <th>messages_count</th>\n",
       "      <th>revenue</th>\n",
       "      <th>tariff</th>\n",
       "    </tr>\n",
       "    <tr>\n",
       "      <th>user_id</th>\n",
       "      <th></th>\n",
       "      <th></th>\n",
       "      <th></th>\n",
       "      <th></th>\n",
       "      <th></th>\n",
       "    </tr>\n",
       "  </thead>\n",
       "  <tbody>\n",
       "    <tr>\n",
       "      <th>1000</th>\n",
       "      <td>339.00</td>\n",
       "      <td>14,325.50</td>\n",
       "      <td>65.00</td>\n",
       "      <td>1,950.00</td>\n",
       "      <td>ultra</td>\n",
       "    </tr>\n",
       "    <tr>\n",
       "      <th>1001</th>\n",
       "      <td>422.00</td>\n",
       "      <td>16,252.50</td>\n",
       "      <td>0.00</td>\n",
       "      <td>851.95</td>\n",
       "      <td>smart</td>\n",
       "    </tr>\n",
       "    <tr>\n",
       "      <th>1002</th>\n",
       "      <td>214.00</td>\n",
       "      <td>17,601.00</td>\n",
       "      <td>11.00</td>\n",
       "      <td>987.70</td>\n",
       "      <td>smart</td>\n",
       "    </tr>\n",
       "    <tr>\n",
       "      <th>1003</th>\n",
       "      <td>824.00</td>\n",
       "      <td>11,368.00</td>\n",
       "      <td>83.00</td>\n",
       "      <td>1,950.00</td>\n",
       "      <td>ultra</td>\n",
       "    </tr>\n",
       "    <tr>\n",
       "      <th>1004</th>\n",
       "      <td>132.50</td>\n",
       "      <td>17,828.50</td>\n",
       "      <td>154.50</td>\n",
       "      <td>1,950.00</td>\n",
       "      <td>ultra</td>\n",
       "    </tr>\n",
       "    <tr>\n",
       "      <th>1005</th>\n",
       "      <td>593.50</td>\n",
       "      <td>7,843.00</td>\n",
       "      <td>49.00</td>\n",
       "      <td>836.50</td>\n",
       "      <td>smart</td>\n",
       "    </tr>\n",
       "    <tr>\n",
       "      <th>1006</th>\n",
       "      <td>356.00</td>\n",
       "      <td>15,543.00</td>\n",
       "      <td>0.00</td>\n",
       "      <td>585.74</td>\n",
       "      <td>smart</td>\n",
       "    </tr>\n",
       "    <tr>\n",
       "      <th>1007</th>\n",
       "      <td>480.00</td>\n",
       "      <td>14,444.00</td>\n",
       "      <td>26.00</td>\n",
       "      <td>843.50</td>\n",
       "      <td>smart</td>\n",
       "    </tr>\n",
       "    <tr>\n",
       "      <th>1008</th>\n",
       "      <td>339.00</td>\n",
       "      <td>13,236.00</td>\n",
       "      <td>56.00</td>\n",
       "      <td>568.00</td>\n",
       "      <td>smart</td>\n",
       "    </tr>\n",
       "    <tr>\n",
       "      <th>1009</th>\n",
       "      <td>221.00</td>\n",
       "      <td>17,754.50</td>\n",
       "      <td>12.00</td>\n",
       "      <td>1,017.68</td>\n",
       "      <td>smart</td>\n",
       "    </tr>\n",
       "  </tbody>\n",
       "</table>\n",
       "</div>"
      ],
      "text/plain": [
       "         calls_sum  internet_sum  messages_count  revenue tariff\n",
       "user_id                                                         \n",
       "1000        339.00     14,325.50           65.00 1,950.00  ultra\n",
       "1001        422.00     16,252.50            0.00   851.95  smart\n",
       "1002        214.00     17,601.00           11.00   987.70  smart\n",
       "1003        824.00     11,368.00           83.00 1,950.00  ultra\n",
       "1004        132.50     17,828.50          154.50 1,950.00  ultra\n",
       "1005        593.50      7,843.00           49.00   836.50  smart\n",
       "1006        356.00     15,543.00            0.00   585.74  smart\n",
       "1007        480.00     14,444.00           26.00   843.50  smart\n",
       "1008        339.00     13,236.00           56.00   568.00  smart\n",
       "1009        221.00     17,754.50           12.00 1,017.68  smart"
      ]
     },
     "execution_count": 42,
     "metadata": {},
     "output_type": "execute_result"
    }
   ],
   "source": [
    "medians = grouped_df.pivot_table(index='user_id', values=['calls_sum', 'messages_count', 'internet_sum', 'revenue'], aggfunc='median')\n",
    "for user_id in users['user_id']:\n",
    "    medians.loc[user_id, 'tariff'] = users.loc[user_id-1000, 'tariff']\n",
    "medians.head(10)"
   ]
  },
  {
   "cell_type": "code",
   "execution_count": 43,
   "metadata": {},
   "outputs": [
    {
     "data": {
      "text/html": [
       "<div>\n",
       "<style scoped>\n",
       "    .dataframe tbody tr th:only-of-type {\n",
       "        vertical-align: middle;\n",
       "    }\n",
       "\n",
       "    .dataframe tbody tr th {\n",
       "        vertical-align: top;\n",
       "    }\n",
       "\n",
       "    .dataframe thead th {\n",
       "        text-align: right;\n",
       "    }\n",
       "</style>\n",
       "<table border=\"1\" class=\"dataframe\">\n",
       "  <thead>\n",
       "    <tr style=\"text-align: right;\">\n",
       "      <th></th>\n",
       "      <th>user_id</th>\n",
       "      <th>age</th>\n",
       "      <th>churn_date</th>\n",
       "      <th>city</th>\n",
       "      <th>first_name</th>\n",
       "      <th>last_name</th>\n",
       "      <th>reg_date</th>\n",
       "      <th>tariff</th>\n",
       "      <th>month</th>\n",
       "      <th>calls_count</th>\n",
       "      <th>calls_sum</th>\n",
       "      <th>internet_sum</th>\n",
       "      <th>internet_sum_gb</th>\n",
       "      <th>messages_count</th>\n",
       "      <th>revenue</th>\n",
       "    </tr>\n",
       "  </thead>\n",
       "  <tbody>\n",
       "    <tr>\n",
       "      <th>0</th>\n",
       "      <td>1000</td>\n",
       "      <td>52</td>\n",
       "      <td>NaT</td>\n",
       "      <td>Краснодар</td>\n",
       "      <td>Рафаил</td>\n",
       "      <td>Верещагин</td>\n",
       "      <td>2018-05-25</td>\n",
       "      <td>ultra</td>\n",
       "      <td>5.00</td>\n",
       "      <td>22.00</td>\n",
       "      <td>159.00</td>\n",
       "      <td>2,256.00</td>\n",
       "      <td>3.00</td>\n",
       "      <td>22.00</td>\n",
       "      <td>1,950.00</td>\n",
       "    </tr>\n",
       "    <tr>\n",
       "      <th>1</th>\n",
       "      <td>1000</td>\n",
       "      <td>52</td>\n",
       "      <td>NaT</td>\n",
       "      <td>Краснодар</td>\n",
       "      <td>Рафаил</td>\n",
       "      <td>Верещагин</td>\n",
       "      <td>2018-05-25</td>\n",
       "      <td>ultra</td>\n",
       "      <td>6.00</td>\n",
       "      <td>43.00</td>\n",
       "      <td>172.00</td>\n",
       "      <td>23,257.00</td>\n",
       "      <td>23.00</td>\n",
       "      <td>60.00</td>\n",
       "      <td>1,950.00</td>\n",
       "    </tr>\n",
       "    <tr>\n",
       "      <th>2</th>\n",
       "      <td>1000</td>\n",
       "      <td>52</td>\n",
       "      <td>NaT</td>\n",
       "      <td>Краснодар</td>\n",
       "      <td>Рафаил</td>\n",
       "      <td>Верещагин</td>\n",
       "      <td>2018-05-25</td>\n",
       "      <td>ultra</td>\n",
       "      <td>7.00</td>\n",
       "      <td>47.00</td>\n",
       "      <td>340.00</td>\n",
       "      <td>14,016.00</td>\n",
       "      <td>14.00</td>\n",
       "      <td>75.00</td>\n",
       "      <td>1,950.00</td>\n",
       "    </tr>\n",
       "    <tr>\n",
       "      <th>3</th>\n",
       "      <td>1000</td>\n",
       "      <td>52</td>\n",
       "      <td>NaT</td>\n",
       "      <td>Краснодар</td>\n",
       "      <td>Рафаил</td>\n",
       "      <td>Верещагин</td>\n",
       "      <td>2018-05-25</td>\n",
       "      <td>ultra</td>\n",
       "      <td>8.00</td>\n",
       "      <td>52.00</td>\n",
       "      <td>408.00</td>\n",
       "      <td>14,070.00</td>\n",
       "      <td>14.00</td>\n",
       "      <td>81.00</td>\n",
       "      <td>1,950.00</td>\n",
       "    </tr>\n",
       "    <tr>\n",
       "      <th>4</th>\n",
       "      <td>1000</td>\n",
       "      <td>52</td>\n",
       "      <td>NaT</td>\n",
       "      <td>Краснодар</td>\n",
       "      <td>Рафаил</td>\n",
       "      <td>Верещагин</td>\n",
       "      <td>2018-05-25</td>\n",
       "      <td>ultra</td>\n",
       "      <td>9.00</td>\n",
       "      <td>58.00</td>\n",
       "      <td>466.00</td>\n",
       "      <td>14,581.00</td>\n",
       "      <td>15.00</td>\n",
       "      <td>57.00</td>\n",
       "      <td>1,950.00</td>\n",
       "    </tr>\n",
       "    <tr>\n",
       "      <th>...</th>\n",
       "      <td>...</td>\n",
       "      <td>...</td>\n",
       "      <td>...</td>\n",
       "      <td>...</td>\n",
       "      <td>...</td>\n",
       "      <td>...</td>\n",
       "      <td>...</td>\n",
       "      <td>...</td>\n",
       "      <td>...</td>\n",
       "      <td>...</td>\n",
       "      <td>...</td>\n",
       "      <td>...</td>\n",
       "      <td>...</td>\n",
       "      <td>...</td>\n",
       "      <td>...</td>\n",
       "    </tr>\n",
       "    <tr>\n",
       "      <th>3188</th>\n",
       "      <td>1495</td>\n",
       "      <td>65</td>\n",
       "      <td>NaT</td>\n",
       "      <td>Иркутск</td>\n",
       "      <td>Авксентий</td>\n",
       "      <td>Фокин</td>\n",
       "      <td>2018-08-28</td>\n",
       "      <td>ultra</td>\n",
       "      <td>8.00</td>\n",
       "      <td>17.00</td>\n",
       "      <td>92.00</td>\n",
       "      <td>2,616.00</td>\n",
       "      <td>3.00</td>\n",
       "      <td>13.00</td>\n",
       "      <td>1,950.00</td>\n",
       "    </tr>\n",
       "    <tr>\n",
       "      <th>3189</th>\n",
       "      <td>1495</td>\n",
       "      <td>65</td>\n",
       "      <td>NaT</td>\n",
       "      <td>Иркутск</td>\n",
       "      <td>Авксентий</td>\n",
       "      <td>Фокин</td>\n",
       "      <td>2018-08-28</td>\n",
       "      <td>ultra</td>\n",
       "      <td>9.00</td>\n",
       "      <td>112.00</td>\n",
       "      <td>813.00</td>\n",
       "      <td>33,105.00</td>\n",
       "      <td>33.00</td>\n",
       "      <td>82.00</td>\n",
       "      <td>2,299.37</td>\n",
       "    </tr>\n",
       "    <tr>\n",
       "      <th>3190</th>\n",
       "      <td>1495</td>\n",
       "      <td>65</td>\n",
       "      <td>NaT</td>\n",
       "      <td>Иркутск</td>\n",
       "      <td>Авксентий</td>\n",
       "      <td>Фокин</td>\n",
       "      <td>2018-08-28</td>\n",
       "      <td>ultra</td>\n",
       "      <td>10.00</td>\n",
       "      <td>152.00</td>\n",
       "      <td>1,030.00</td>\n",
       "      <td>29,393.00</td>\n",
       "      <td>29.00</td>\n",
       "      <td>82.00</td>\n",
       "      <td>1,950.00</td>\n",
       "    </tr>\n",
       "    <tr>\n",
       "      <th>3191</th>\n",
       "      <td>1495</td>\n",
       "      <td>65</td>\n",
       "      <td>NaT</td>\n",
       "      <td>Иркутск</td>\n",
       "      <td>Авксентий</td>\n",
       "      <td>Фокин</td>\n",
       "      <td>2018-08-28</td>\n",
       "      <td>ultra</td>\n",
       "      <td>11.00</td>\n",
       "      <td>129.00</td>\n",
       "      <td>954.00</td>\n",
       "      <td>38,972.00</td>\n",
       "      <td>39.00</td>\n",
       "      <td>79.00</td>\n",
       "      <td>3,158.79</td>\n",
       "    </tr>\n",
       "    <tr>\n",
       "      <th>3192</th>\n",
       "      <td>1495</td>\n",
       "      <td>65</td>\n",
       "      <td>NaT</td>\n",
       "      <td>Иркутск</td>\n",
       "      <td>Авксентий</td>\n",
       "      <td>Фокин</td>\n",
       "      <td>2018-08-28</td>\n",
       "      <td>ultra</td>\n",
       "      <td>12.00</td>\n",
       "      <td>155.00</td>\n",
       "      <td>1,031.00</td>\n",
       "      <td>23,450.00</td>\n",
       "      <td>23.00</td>\n",
       "      <td>84.00</td>\n",
       "      <td>1,950.00</td>\n",
       "    </tr>\n",
       "  </tbody>\n",
       "</table>\n",
       "<p>986 rows × 15 columns</p>\n",
       "</div>"
      ],
      "text/plain": [
       "      user_id  age churn_date       city first_name  last_name   reg_date  \\\n",
       "0        1000   52        NaT  Краснодар     Рафаил  Верещагин 2018-05-25   \n",
       "1        1000   52        NaT  Краснодар     Рафаил  Верещагин 2018-05-25   \n",
       "2        1000   52        NaT  Краснодар     Рафаил  Верещагин 2018-05-25   \n",
       "3        1000   52        NaT  Краснодар     Рафаил  Верещагин 2018-05-25   \n",
       "4        1000   52        NaT  Краснодар     Рафаил  Верещагин 2018-05-25   \n",
       "...       ...  ...        ...        ...        ...        ...        ...   \n",
       "3188     1495   65        NaT    Иркутск  Авксентий      Фокин 2018-08-28   \n",
       "3189     1495   65        NaT    Иркутск  Авксентий      Фокин 2018-08-28   \n",
       "3190     1495   65        NaT    Иркутск  Авксентий      Фокин 2018-08-28   \n",
       "3191     1495   65        NaT    Иркутск  Авксентий      Фокин 2018-08-28   \n",
       "3192     1495   65        NaT    Иркутск  Авксентий      Фокин 2018-08-28   \n",
       "\n",
       "     tariff  month  calls_count  calls_sum  internet_sum  internet_sum_gb  \\\n",
       "0     ultra   5.00        22.00     159.00      2,256.00             3.00   \n",
       "1     ultra   6.00        43.00     172.00     23,257.00            23.00   \n",
       "2     ultra   7.00        47.00     340.00     14,016.00            14.00   \n",
       "3     ultra   8.00        52.00     408.00     14,070.00            14.00   \n",
       "4     ultra   9.00        58.00     466.00     14,581.00            15.00   \n",
       "...     ...    ...          ...        ...           ...              ...   \n",
       "3188  ultra   8.00        17.00      92.00      2,616.00             3.00   \n",
       "3189  ultra   9.00       112.00     813.00     33,105.00            33.00   \n",
       "3190  ultra  10.00       152.00   1,030.00     29,393.00            29.00   \n",
       "3191  ultra  11.00       129.00     954.00     38,972.00            39.00   \n",
       "3192  ultra  12.00       155.00   1,031.00     23,450.00            23.00   \n",
       "\n",
       "      messages_count  revenue  \n",
       "0              22.00 1,950.00  \n",
       "1              60.00 1,950.00  \n",
       "2              75.00 1,950.00  \n",
       "3              81.00 1,950.00  \n",
       "4              57.00 1,950.00  \n",
       "...              ...      ...  \n",
       "3188           13.00 1,950.00  \n",
       "3189           82.00 2,299.37  \n",
       "3190           82.00 1,950.00  \n",
       "3191           79.00 3,158.79  \n",
       "3192           84.00 1,950.00  \n",
       "\n",
       "[986 rows x 15 columns]"
      ]
     },
     "execution_count": 43,
     "metadata": {},
     "output_type": "execute_result"
    }
   ],
   "source": [
    "subset = grouped_df[grouped_df['tariff'] == 'ultra']    \n",
    "subset\n"
   ]
  },
  {
   "cell_type": "markdown",
   "metadata": {},
   "source": [
    "Посчитаем среднее количество, дисперсию и стандартное отклонение по каждому из тарифов:"
   ]
  },
  {
   "cell_type": "code",
   "execution_count": 44,
   "metadata": {},
   "outputs": [
    {
     "data": {
      "text/html": [
       "<div>\n",
       "<style scoped>\n",
       "    .dataframe tbody tr th:only-of-type {\n",
       "        vertical-align: middle;\n",
       "    }\n",
       "\n",
       "    .dataframe tbody tr th {\n",
       "        vertical-align: top;\n",
       "    }\n",
       "\n",
       "    .dataframe thead tr th {\n",
       "        text-align: left;\n",
       "    }\n",
       "\n",
       "    .dataframe thead tr:last-of-type th {\n",
       "        text-align: right;\n",
       "    }\n",
       "</style>\n",
       "<table border=\"1\" class=\"dataframe\">\n",
       "  <thead>\n",
       "    <tr>\n",
       "      <th></th>\n",
       "      <th colspan=\"4\" halign=\"left\">calls_sum</th>\n",
       "      <th colspan=\"4\" halign=\"left\">internet_sum</th>\n",
       "      <th colspan=\"4\" halign=\"left\">messages_count</th>\n",
       "    </tr>\n",
       "    <tr>\n",
       "      <th></th>\n",
       "      <th>median</th>\n",
       "      <th>std</th>\n",
       "      <th>sum</th>\n",
       "      <th>var</th>\n",
       "      <th>median</th>\n",
       "      <th>std</th>\n",
       "      <th>sum</th>\n",
       "      <th>var</th>\n",
       "      <th>median</th>\n",
       "      <th>std</th>\n",
       "      <th>sum</th>\n",
       "      <th>var</th>\n",
       "    </tr>\n",
       "    <tr>\n",
       "      <th>tariff</th>\n",
       "      <th></th>\n",
       "      <th></th>\n",
       "      <th></th>\n",
       "      <th></th>\n",
       "      <th></th>\n",
       "      <th></th>\n",
       "      <th></th>\n",
       "      <th></th>\n",
       "      <th></th>\n",
       "      <th></th>\n",
       "      <th></th>\n",
       "      <th></th>\n",
       "    </tr>\n",
       "  </thead>\n",
       "  <tbody>\n",
       "    <tr>\n",
       "      <th>smart</th>\n",
       "      <td>439.50</td>\n",
       "      <td>161.73</td>\n",
       "      <td>153,114.00</td>\n",
       "      <td>26,157.24</td>\n",
       "      <td>16,935.00</td>\n",
       "      <td>4,269.42</td>\n",
       "      <td>5,898,840.00</td>\n",
       "      <td>18,227,930.63</td>\n",
       "      <td>28.50</td>\n",
       "      <td>28.03</td>\n",
       "      <td>11,819.50</td>\n",
       "      <td>785.60</td>\n",
       "    </tr>\n",
       "    <tr>\n",
       "      <th>ultra</th>\n",
       "      <td>533.50</td>\n",
       "      <td>306.19</td>\n",
       "      <td>82,510.50</td>\n",
       "      <td>93,752.96</td>\n",
       "      <td>19,675.00</td>\n",
       "      <td>9,025.92</td>\n",
       "      <td>3,007,728.50</td>\n",
       "      <td>81,467,297.18</td>\n",
       "      <td>47.50</td>\n",
       "      <td>49.29</td>\n",
       "      <td>8,433.50</td>\n",
       "      <td>2,429.68</td>\n",
       "    </tr>\n",
       "  </tbody>\n",
       "</table>\n",
       "</div>"
      ],
      "text/plain": [
       "       calls_sum                             internet_sum           \\\n",
       "          median    std        sum       var       median      std   \n",
       "tariff                                                               \n",
       "smart     439.50 161.73 153,114.00 26,157.24    16,935.00 4,269.42   \n",
       "ultra     533.50 306.19  82,510.50 93,752.96    19,675.00 9,025.92   \n",
       "\n",
       "                                  messages_count                           \n",
       "                sum           var         median   std       sum      var  \n",
       "tariff                                                                     \n",
       "smart  5,898,840.00 18,227,930.63          28.50 28.03 11,819.50   785.60  \n",
       "ultra  3,007,728.50 81,467,297.18          47.50 49.29  8,433.50 2,429.68  "
      ]
     },
     "execution_count": 44,
     "metadata": {},
     "output_type": "execute_result"
    }
   ],
   "source": [
    "medians.dropna(subset = ['calls_sum'], inplace=True)\n",
    "stat = medians.pivot_table(index = ['tariff'], values = ['calls_sum', 'internet_sum', 'messages_count'], \n",
    "                    aggfunc={'calls_sum': [sum, np.median, np.var, np.std], \n",
    "                             'internet_sum': [sum, np.median, np.var, np.std], \n",
    "                             'messages_count': [sum, np.median, np.var, np.std]})\n",
    "stat"
   ]
  },
  {
   "cell_type": "code",
   "execution_count": 45,
   "metadata": {},
   "outputs": [
    {
     "data": {
      "text/html": [
       "<div>\n",
       "<style scoped>\n",
       "    .dataframe tbody tr th:only-of-type {\n",
       "        vertical-align: middle;\n",
       "    }\n",
       "\n",
       "    .dataframe tbody tr th {\n",
       "        vertical-align: top;\n",
       "    }\n",
       "\n",
       "    .dataframe thead tr th {\n",
       "        text-align: left;\n",
       "    }\n",
       "\n",
       "    .dataframe thead tr:last-of-type th {\n",
       "        text-align: right;\n",
       "    }\n",
       "</style>\n",
       "<table border=\"1\" class=\"dataframe\">\n",
       "  <thead>\n",
       "    <tr>\n",
       "      <th></th>\n",
       "      <th colspan=\"3\" halign=\"left\">calls_sum</th>\n",
       "      <th colspan=\"3\" halign=\"left\">internet_sum</th>\n",
       "      <th colspan=\"3\" halign=\"left\">messages_count</th>\n",
       "    </tr>\n",
       "    <tr>\n",
       "      <th></th>\n",
       "      <th>median</th>\n",
       "      <th>std</th>\n",
       "      <th>var</th>\n",
       "      <th>median</th>\n",
       "      <th>std</th>\n",
       "      <th>var</th>\n",
       "      <th>median</th>\n",
       "      <th>std</th>\n",
       "      <th>var</th>\n",
       "    </tr>\n",
       "    <tr>\n",
       "      <th>tariff</th>\n",
       "      <th></th>\n",
       "      <th></th>\n",
       "      <th></th>\n",
       "      <th></th>\n",
       "      <th></th>\n",
       "      <th></th>\n",
       "      <th></th>\n",
       "      <th></th>\n",
       "      <th></th>\n",
       "    </tr>\n",
       "  </thead>\n",
       "  <tbody>\n",
       "    <tr>\n",
       "      <th>smart</th>\n",
       "      <td>421.50</td>\n",
       "      <td>190.48</td>\n",
       "      <td>36,281.39</td>\n",
       "      <td>16,529.00</td>\n",
       "      <td>5,886.30</td>\n",
       "      <td>34,648,523.30</td>\n",
       "      <td>28.00</td>\n",
       "      <td>28.23</td>\n",
       "      <td>796.96</td>\n",
       "    </tr>\n",
       "    <tr>\n",
       "      <th>ultra</th>\n",
       "      <td>518.00</td>\n",
       "      <td>317.89</td>\n",
       "      <td>101,052.49</td>\n",
       "      <td>19,320.00</td>\n",
       "      <td>10,110.26</td>\n",
       "      <td>102,217,264.28</td>\n",
       "      <td>38.00</td>\n",
       "      <td>47.81</td>\n",
       "      <td>2,285.42</td>\n",
       "    </tr>\n",
       "  </tbody>\n",
       "</table>\n",
       "</div>"
      ],
      "text/plain": [
       "       calls_sum                   internet_sum                           \\\n",
       "          median    std        var       median       std            var   \n",
       "tariff                                                                     \n",
       "smart     421.50 190.48  36,281.39    16,529.00  5,886.30  34,648,523.30   \n",
       "ultra     518.00 317.89 101,052.49    19,320.00 10,110.26 102,217,264.28   \n",
       "\n",
       "       messages_count                 \n",
       "               median   std      var  \n",
       "tariff                                \n",
       "smart           28.00 28.23   796.96  \n",
       "ultra           38.00 47.81 2,285.42  "
      ]
     },
     "execution_count": 45,
     "metadata": {},
     "output_type": "execute_result"
    }
   ],
   "source": [
    "stat = grouped_df.pivot_table(index = ['tariff'], values = ['calls_sum', 'internet_sum', 'messages_count'], \n",
    "                    aggfunc={'calls_sum': [np.median, np.var, np.std], \n",
    "                             'internet_sum': [np.median, np.var, np.std], \n",
    "                             'messages_count': [np.median, np.var, np.std]})\n",
    "stat"
   ]
  },
  {
   "cell_type": "code",
   "execution_count": 46,
   "metadata": {},
   "outputs": [
    {
     "data": {
      "text/html": [
       "<div>\n",
       "<style scoped>\n",
       "    .dataframe tbody tr th:only-of-type {\n",
       "        vertical-align: middle;\n",
       "    }\n",
       "\n",
       "    .dataframe tbody tr th {\n",
       "        vertical-align: top;\n",
       "    }\n",
       "\n",
       "    .dataframe thead tr th {\n",
       "        text-align: left;\n",
       "    }\n",
       "\n",
       "    .dataframe thead tr:last-of-type th {\n",
       "        text-align: right;\n",
       "    }\n",
       "</style>\n",
       "<table border=\"1\" class=\"dataframe\">\n",
       "  <thead>\n",
       "    <tr>\n",
       "      <th></th>\n",
       "      <th colspan=\"4\" halign=\"left\">calls_sum</th>\n",
       "      <th colspan=\"4\" halign=\"left\">internet_sum</th>\n",
       "      <th colspan=\"4\" halign=\"left\">internet_sum_gb</th>\n",
       "      <th colspan=\"4\" halign=\"left\">messages_count</th>\n",
       "    </tr>\n",
       "    <tr>\n",
       "      <th></th>\n",
       "      <th>median</th>\n",
       "      <th>mean</th>\n",
       "      <th>var</th>\n",
       "      <th>std</th>\n",
       "      <th>median</th>\n",
       "      <th>mean</th>\n",
       "      <th>var</th>\n",
       "      <th>std</th>\n",
       "      <th>median</th>\n",
       "      <th>mean</th>\n",
       "      <th>var</th>\n",
       "      <th>std</th>\n",
       "      <th>median</th>\n",
       "      <th>mean</th>\n",
       "      <th>var</th>\n",
       "      <th>std</th>\n",
       "    </tr>\n",
       "    <tr>\n",
       "      <th>tariff</th>\n",
       "      <th></th>\n",
       "      <th></th>\n",
       "      <th></th>\n",
       "      <th></th>\n",
       "      <th></th>\n",
       "      <th></th>\n",
       "      <th></th>\n",
       "      <th></th>\n",
       "      <th></th>\n",
       "      <th></th>\n",
       "      <th></th>\n",
       "      <th></th>\n",
       "      <th></th>\n",
       "      <th></th>\n",
       "      <th></th>\n",
       "      <th></th>\n",
       "    </tr>\n",
       "  </thead>\n",
       "  <tbody>\n",
       "    <tr>\n",
       "      <th>smart</th>\n",
       "      <td>421.50</td>\n",
       "      <td>417.75</td>\n",
       "      <td>36,281.39</td>\n",
       "      <td>190.48</td>\n",
       "      <td>16,529.00</td>\n",
       "      <td>16,221.91</td>\n",
       "      <td>34,648,523.30</td>\n",
       "      <td>5,886.30</td>\n",
       "      <td>17.00</td>\n",
       "      <td>16.36</td>\n",
       "      <td>33.16</td>\n",
       "      <td>5.76</td>\n",
       "      <td>28.00</td>\n",
       "      <td>33.37</td>\n",
       "      <td>796.96</td>\n",
       "      <td>28.23</td>\n",
       "    </tr>\n",
       "    <tr>\n",
       "      <th>ultra</th>\n",
       "      <td>518.00</td>\n",
       "      <td>526.09</td>\n",
       "      <td>101,052.49</td>\n",
       "      <td>317.89</td>\n",
       "      <td>19,320.00</td>\n",
       "      <td>19,467.14</td>\n",
       "      <td>102,217,264.28</td>\n",
       "      <td>10,110.26</td>\n",
       "      <td>19.00</td>\n",
       "      <td>19.53</td>\n",
       "      <td>97.33</td>\n",
       "      <td>9.87</td>\n",
       "      <td>38.00</td>\n",
       "      <td>49.31</td>\n",
       "      <td>2,285.42</td>\n",
       "      <td>47.81</td>\n",
       "    </tr>\n",
       "  </tbody>\n",
       "</table>\n",
       "</div>"
      ],
      "text/plain": [
       "       calls_sum                          internet_sum            \\\n",
       "          median   mean        var    std       median      mean   \n",
       "tariff                                                             \n",
       "smart     421.50 417.75  36,281.39 190.48    16,529.00 16,221.91   \n",
       "ultra     518.00 526.09 101,052.49 317.89    19,320.00 19,467.14   \n",
       "\n",
       "                                internet_sum_gb                   \\\n",
       "                  var       std          median  mean   var  std   \n",
       "tariff                                                             \n",
       "smart   34,648,523.30  5,886.30           17.00 16.36 33.16 5.76   \n",
       "ultra  102,217,264.28 10,110.26           19.00 19.53 97.33 9.87   \n",
       "\n",
       "       messages_count                       \n",
       "               median  mean      var   std  \n",
       "tariff                                      \n",
       "smart           28.00 33.37   796.96 28.23  \n",
       "ultra           38.00 49.31 2,285.42 47.81  "
      ]
     },
     "execution_count": 46,
     "metadata": {},
     "output_type": "execute_result"
    }
   ],
   "source": [
    "stat = grouped_df.groupby('tariff').agg({'calls_sum':['median','mean','var','std'], \n",
    "                                  'internet_sum':['median','mean','var','std'],\n",
    "                                  'internet_sum_gb': ['median','mean','var','std'],\n",
    "                                  'messages_count':['median','mean','var','std']\n",
    "                                 })\n",
    "stat"
   ]
  },
  {
   "cell_type": "markdown",
   "metadata": {},
   "source": [
    "- В среднем для тарифа smart требуется 417 минут разговора,а для тарифа ultra 526 минут разговора. Медиана данных показателей 421 и 518 минут соответственно.\n",
    "- В среднем для тарифа smart требуется 33 сообщения,а для тарифа ultra 49 сообщений. Медиана данных показателей 28 и 38 сообщений соответственно.\n",
    "- В среднем для тарифа smart требуется 16.36 GB интернет-трафика, а для тарифа ultra 19.53 GB . Медиана данных показателей 17 и 19 GB соответственно."
   ]
  },
  {
   "cell_type": "markdown",
   "metadata": {},
   "source": [
    "Посмотрим на графиках плотности частоты и бокс плот параметра по тарифам"
   ]
  },
  {
   "cell_type": "code",
   "execution_count": 47,
   "metadata": {},
   "outputs": [
    {
     "data": {
      "image/png": "[encoded data removed]",
      "text/plain": [
       "<Figure size 360x360 with 1 Axes>"
      ]
     },
     "metadata": {
      "needs_background": "light"
     },
     "output_type": "display_data"
    },
    {
     "data": {
      "image/png": "[encoded data removed]",
      "text/plain": [
       "<Figure size 360x360 with 1 Axes>"
      ]
     },
     "metadata": {
      "needs_background": "light"
     },
     "output_type": "display_data"
    },
    {
     "data": {
      "image/png": "[encoded data removed]",
      "text/plain": [
       "<Figure size 360x360 with 1 Axes>"
      ]
     },
     "metadata": {
      "needs_background": "light"
     },
     "output_type": "display_data"
    },
    {
     "data": {
      "image/png": "[encoded data removed]",
      "text/plain": [
       "<Figure size 360x360 with 1 Axes>"
      ]
     },
     "metadata": {
      "needs_background": "light"
     },
     "output_type": "display_data"
    }
   ],
   "source": [
    "for column in ['calls_sum', 'internet_sum','internet_sum_gb', 'messages_count']:    \n",
    "    sns.catplot(x=\"tariff\", y=column, kind=\"box\", data=grouped_df, orient='v')"
   ]
  },
  {
   "cell_type": "markdown",
   "metadata": {},
   "source": [
    "Количество минут разговора, число сообщений и объем потраченного интернет-трафика по тарифу «Ультра» имеет большую дисперсию по сравнению с тарифом «Смарт», и медианы по вышеперечисленным показателям также смещены в большую сторону. Кроме того, выбросов в рамках более дешевого тарифа «Смарт» больше."
   ]
  },
  {
   "cell_type": "code",
   "execution_count": 48,
   "metadata": {},
   "outputs": [
    {
     "data": {
      "image/png": "[encoded data removed]",
      "text/plain": [
       "<Figure size 432x288 with 1 Axes>"
      ]
     },
     "metadata": {
      "needs_background": "light"
     },
     "output_type": "display_data"
    }
   ],
   "source": [
    "for tariff in ['ultra', 'smart']:\n",
    "    sns.distplot(grouped_df.query('tariff == @tariff')['calls_sum'], kde=False)\n",
    "_ = plt.legend(['ultra', 'smart'])"
   ]
  },
  {
   "cell_type": "code",
   "execution_count": 49,
   "metadata": {
    "scrolled": true
   },
   "outputs": [
    {
     "data": {
      "image/png": "[encoded data removed]",
      "text/plain": [
       "<Figure size 432x288 with 1 Axes>"
      ]
     },
     "metadata": {
      "needs_background": "light"
     },
     "output_type": "display_data"
    }
   ],
   "source": [
    "for tariff in ['ultra', 'smart']:\n",
    "    sns.distplot(grouped_df.query('tariff == @tariff')['internet_sum'], kde=False)\n",
    "_ = plt.legend(['ultra', 'smart'])"
   ]
  },
  {
   "cell_type": "code",
   "execution_count": 50,
   "metadata": {},
   "outputs": [
    {
     "data": {
      "image/png": "[encoded data removed]",
      "text/plain": [
       "<Figure size 432x288 with 1 Axes>"
      ]
     },
     "metadata": {
      "needs_background": "light"
     },
     "output_type": "display_data"
    }
   ],
   "source": [
    "for tariff in ['ultra', 'smart']:\n",
    "    sns.distplot(grouped_df.query('tariff == @tariff')['internet_sum_gb'], kde=False)\n",
    "_ = plt.legend(['ultra', 'smart'])"
   ]
  },
  {
   "cell_type": "code",
   "execution_count": 51,
   "metadata": {},
   "outputs": [
    {
     "data": {
      "image/png": "[encoded data removed]",
      "text/plain": [
       "<Figure size 432x288 with 1 Axes>"
      ]
     },
     "metadata": {
      "needs_background": "light"
     },
     "output_type": "display_data"
    }
   ],
   "source": [
    "for tariff in ['ultra', 'smart']:\n",
    "    sns.distplot(grouped_df.query('tariff == @tariff')['messages_count'], kde=False)\n",
    "_ = plt.legend(['ultra', 'smart'])"
   ]
  },
  {
   "cell_type": "markdown",
   "metadata": {},
   "source": [
    "По представленным выше гистограммам видно, что дисперсия по тарифу \"Смарт\" меньше, чем у пользователей с тарифом \"Ультра\" по всем показателям: по продолжительности разговора, числу сообщений и количеству интернет-трафика.  \n",
    "\n",
    "Другими словами, поведение пользователей тарифа \"Ультра\" более разнообразное с точки зрения потребления телекоммуникационных услуг. Пользователи дорогого тарифа более свободны в выборе того, как именно использовать объемы тарифного пакета: возможно, использование дорогого тарифа помогает им не думать о том, что в какой-то момент у них отключится интернет или закончится пакет по минутам разговора."
   ]
  },
  {
   "cell_type": "markdown",
   "metadata": {},
   "source": [
    "- В среднем (mean) для тарифа smart требуется 417 минут разговора,а для тарифа ultra 526 минут разговора. Медиана данных показателей 421 и 518 минут соответственно.\n",
    "- В среднем (mean) для тарифа smart требуется 33 сообщения,а для тарифа ultra 49 сообщений. Медиана данных показателей 28 и 38 сообщений соответственно.\n",
    "- В среднем для тарифа smart требуется 16.36 GB интернет-трафика, а для тарифа ultra 19.53 GB . Медиана данных показателей 17 и 19 GB соответственно."
   ]
  },
  {
   "cell_type": "markdown",
   "metadata": {},
   "source": [
    "## Проверка Гипотез"
   ]
  },
  {
   "cell_type": "markdown",
   "metadata": {},
   "source": [
    "### средняя выручка пользователей тарифов «Ультра» и «Смарт» различаются\n",
    "\n",
    "H0 (нулевая гиптоеза)  — средняя выручка пользователей тарифа «Ультра» равна средней выручке пользователей тарифа «Смарт».\n",
    "\n",
    "H1 (альтернативная гипотеза) — средняя выручка пользователей тарифов «Ультра» и «Смарт» различаются.\n",
    "\n",
    "Пороговое значение alpha зададим на уровне α = 5%"
   ]
  },
  {
   "cell_type": "code",
   "execution_count": 52,
   "metadata": {},
   "outputs": [
    {
     "name": "stdout",
     "output_type": "stream",
     "text": [
      "p-значение: 3.665639404941842e-296\n",
      "Отвергаем нулевую гипотезу\n"
     ]
    }
   ],
   "source": [
    "ultra = grouped_df.query('tariff == \"ultra\"')['revenue']\n",
    "smart = grouped_df.query('tariff == \"smart\"')['revenue']\n",
    "\n",
    "alpha = .05\n",
    "\n",
    "results = st.ttest_ind(\n",
    "    ultra, \n",
    "    smart, \n",
    "    equal_var=False)\n",
    "\n",
    "print('p-значение:', results.pvalue)\n",
    "\n",
    "if (results.pvalue < alpha):\n",
    "    print(\"Отвергаем нулевую гипотезу\")\n",
    "else:\n",
    "    print(\"Не получилось отвергнуть нулевую гипотезу\")"
   ]
  },
  {
   "cell_type": "code",
   "execution_count": 53,
   "metadata": {},
   "outputs": [
    {
     "data": {
      "text/html": [
       "<div>\n",
       "<style scoped>\n",
       "    .dataframe tbody tr th:only-of-type {\n",
       "        vertical-align: middle;\n",
       "    }\n",
       "\n",
       "    .dataframe tbody tr th {\n",
       "        vertical-align: top;\n",
       "    }\n",
       "\n",
       "    .dataframe thead tr th {\n",
       "        text-align: left;\n",
       "    }\n",
       "\n",
       "    .dataframe thead tr:last-of-type th {\n",
       "        text-align: right;\n",
       "    }\n",
       "</style>\n",
       "<table border=\"1\" class=\"dataframe\">\n",
       "  <thead>\n",
       "    <tr>\n",
       "      <th></th>\n",
       "      <th>median</th>\n",
       "      <th>mean</th>\n",
       "    </tr>\n",
       "    <tr>\n",
       "      <th></th>\n",
       "      <th>revenue</th>\n",
       "      <th>revenue</th>\n",
       "    </tr>\n",
       "    <tr>\n",
       "      <th>tariff</th>\n",
       "      <th></th>\n",
       "      <th></th>\n",
       "    </tr>\n",
       "  </thead>\n",
       "  <tbody>\n",
       "    <tr>\n",
       "      <th>smart</th>\n",
       "      <td>959.55</td>\n",
       "      <td>1,233.04</td>\n",
       "    </tr>\n",
       "    <tr>\n",
       "      <th>ultra</th>\n",
       "      <td>1,950.00</td>\n",
       "      <td>2,060.42</td>\n",
       "    </tr>\n",
       "  </tbody>\n",
       "</table>\n",
       "</div>"
      ],
      "text/plain": [
       "         median     mean\n",
       "        revenue  revenue\n",
       "tariff                  \n",
       "smart    959.55 1,233.04\n",
       "ultra  1,950.00 2,060.42"
      ]
     },
     "execution_count": 53,
     "metadata": {},
     "output_type": "execute_result"
    }
   ],
   "source": [
    "grouped_df.pivot_table(index='tariff', values='revenue', aggfunc=['median', 'mean'])"
   ]
  },
  {
   "cell_type": "code",
   "execution_count": 54,
   "metadata": {},
   "outputs": [
    {
     "data": {
      "image/png": "[encoded data removed]",
      "text/plain": [
       "<Figure size 360x360 with 1 Axes>"
      ]
     },
     "metadata": {
      "needs_background": "light"
     },
     "output_type": "display_data"
    }
   ],
   "source": [
    "_ = sns.catplot(x=\"tariff\", y='revenue', kind=\"box\", data=grouped_df, orient='v')"
   ]
  },
  {
   "cell_type": "code",
   "execution_count": 55,
   "metadata": {},
   "outputs": [
    {
     "data": {
      "image/png": "[encoded data removed]",
      "text/plain": [
       "<Figure size 720x720 with 1 Axes>"
      ]
     },
     "metadata": {
      "needs_background": "light"
     },
     "output_type": "display_data"
    }
   ],
   "source": [
    "plt.figure(figsize=(10,10))\n",
    "subset = grouped_df[grouped_df['tariff'] == 'ultra']    \n",
    "sns.distplot(subset['revenue'], \n",
    "                 hist = True, \n",
    "                 kde = True,\n",
    "                 kde_kws = {'linewidth': 2},\n",
    "                 label = 'ultra'\n",
    "            )\n",
    "plt.legend(prop={'size': 18}, title = 'ultra')\n",
    "subset = grouped_df[grouped_df['tariff'] == 'smart']    \n",
    "sns.distplot(subset['revenue'], \n",
    "                 hist = True, \n",
    "                 kde = True,\n",
    "                 kde_kws = {'linewidth': 2},\n",
    "                 label = 'smart'\n",
    "            )\n",
    "\n",
    "plt.legend(prop={'size': 18}, title = 'smart')\n",
    "plt.title(f'График плотности по выручке')\n",
    "plt.xlabel('Выручка')\n",
    "plt.ylabel('Плотность частоты')\n",
    "plt.show()"
   ]
  },
  {
   "cell_type": "code",
   "execution_count": 56,
   "metadata": {},
   "outputs": [
    {
     "data": {
      "image/png": "[encoded data removed]",
      "text/plain": [
       "<Figure size 720x720 with 1 Axes>"
      ]
     },
     "metadata": {
      "needs_background": "light"
     },
     "output_type": "display_data"
    }
   ],
   "source": [
    "plt.figure(figsize=(10,10))\n",
    "subset = grouped_df[grouped_df['tariff'] == 'ultra']    \n",
    "sns.distplot(subset['revenue'], \n",
    "                 hist = True, \n",
    "                 kde = True,\n",
    "                 kde_kws = {'linewidth': 2},\n",
    "                 label = 'ultra'\n",
    "            )\n",
    "plt.legend(prop={'size': 18}, title = 'smart')\n",
    "subset = grouped_df[grouped_df['tariff'] == 'smart']    \n",
    "sns.distplot(subset['revenue'], \n",
    "                 hist = True, \n",
    "                 kde = True,\n",
    "                 kde_kws = {'linewidth': 2},\n",
    "                 label = 'smart'\n",
    "            )\n",
    "\n",
    "plt.legend(prop={'size': 18}, title = 'smart')\n",
    "plt.title(f'График плотности по выручке')\n",
    "plt.xlabel('Выручка')\n",
    "plt.ylabel('Плотность частоты')\n",
    "plt.show()"
   ]
  },
  {
   "cell_type": "markdown",
   "metadata": {},
   "source": [
    "Средние значения выручки по тарифам различаются практически в 2 раза. Если у клиента подключен тариф \"Смарт\" с абонентской платой в 550 рублей, то он скорее всего по итогам месяца заплатит гораздо больше из-за нехватки услуг в рамках тарифного пакета.\n",
    "\n",
    "В заключение можно подтвердить гипотезу с высокой долей вероятности, что выручка \"Мегалайна\" от клиентов по тарифу \"Ультра\" действительно отличаются по сравнению с выручкой  тарифа \"Смарт\"."
   ]
  },
  {
   "cell_type": "markdown",
   "metadata": {},
   "source": [
    "### средняя выручка пользователей из Москвы отличается от выручки пользователей из других регионов.\n",
    "\n",
    "H0 (нулевая гиптоеза)  —  средняя выручка пользователей из Москвы равна средней выручке пользователей из других регионов.\n",
    "\n",
    "H1 (альтернативная гипотеза) —  средняя выручка пользователей из Москвы отличается от средней выручке пользователей из других регионов.\n",
    "\n",
    "Пороговое значение alpha зададим на уровне α = 5%"
   ]
  },
  {
   "cell_type": "code",
   "execution_count": 57,
   "metadata": {},
   "outputs": [
    {
     "name": "stdout",
     "output_type": "stream",
     "text": [
      "p-значение: 0.4517561756356935\n",
      "Не получилось отвергнуть нулевую гипотезу\n"
     ]
    }
   ],
   "source": [
    "msk = grouped_df.query('city == \"Москва\"')['revenue']\n",
    "regions = grouped_df.query('city != \"Москва\"')['revenue']\n",
    "\n",
    "alpha = .05\n",
    "\n",
    "results = st.ttest_ind(\n",
    "    msk, \n",
    "    regions, \n",
    "    equal_var=False)\n",
    "\n",
    "print('p-значение:', results.pvalue)\n",
    "\n",
    "if (results.pvalue < alpha):\n",
    "    print(\"Отвергаем нулевую гипотезу\")\n",
    "else:\n",
    "    print(\"Не получилось отвергнуть нулевую гипотезу\")"
   ]
  },
  {
   "cell_type": "code",
   "execution_count": 58,
   "metadata": {},
   "outputs": [
    {
     "data": {
      "text/html": [
       "<div>\n",
       "<style scoped>\n",
       "    .dataframe tbody tr th:only-of-type {\n",
       "        vertical-align: middle;\n",
       "    }\n",
       "\n",
       "    .dataframe tbody tr th {\n",
       "        vertical-align: top;\n",
       "    }\n",
       "\n",
       "    .dataframe thead tr th {\n",
       "        text-align: left;\n",
       "    }\n",
       "\n",
       "    .dataframe thead tr:last-of-type th {\n",
       "        text-align: right;\n",
       "    }\n",
       "</style>\n",
       "<table border=\"1\" class=\"dataframe\">\n",
       "  <thead>\n",
       "    <tr>\n",
       "      <th></th>\n",
       "      <th>median</th>\n",
       "      <th>mean</th>\n",
       "    </tr>\n",
       "    <tr>\n",
       "      <th></th>\n",
       "      <th>revenue</th>\n",
       "      <th>revenue</th>\n",
       "    </tr>\n",
       "    <tr>\n",
       "      <th>region</th>\n",
       "      <th></th>\n",
       "      <th></th>\n",
       "    </tr>\n",
       "  </thead>\n",
       "  <tbody>\n",
       "    <tr>\n",
       "      <th>Другой регион</th>\n",
       "      <td>1,518.08</td>\n",
       "      <td>1,481.89</td>\n",
       "    </tr>\n",
       "    <tr>\n",
       "      <th>Москва</th>\n",
       "      <td>1,704.63</td>\n",
       "      <td>1,507.28</td>\n",
       "    </tr>\n",
       "  </tbody>\n",
       "</table>\n",
       "</div>"
      ],
      "text/plain": [
       "                median     mean\n",
       "               revenue  revenue\n",
       "region                         \n",
       "Другой регион 1,518.08 1,481.89\n",
       "Москва        1,704.63 1,507.28"
      ]
     },
     "execution_count": 58,
     "metadata": {},
     "output_type": "execute_result"
    }
   ],
   "source": [
    "def what_region(city):\n",
    "    if city == 'Москва': return 'Москва'\n",
    "    else: return 'Другой регион'\n",
    "    \n",
    "grouped_df['region'] = grouped_df['city'].apply(what_region)\n",
    "grouped_df.pivot_table(index='region', values='revenue', aggfunc=['median', 'mean'])"
   ]
  },
  {
   "cell_type": "code",
   "execution_count": 59,
   "metadata": {},
   "outputs": [
    {
     "data": {
      "image/png": "[encoded data removed]",
      "text/plain": [
       "<Figure size 360x360 with 1 Axes>"
      ]
     },
     "metadata": {
      "needs_background": "light"
     },
     "output_type": "display_data"
    }
   ],
   "source": [
    "_ = sns.catplot(x=\"region\", y='revenue', kind=\"box\", data=grouped_df, orient='v')"
   ]
  },
  {
   "cell_type": "code",
   "execution_count": 60,
   "metadata": {},
   "outputs": [
    {
     "data": {
      "image/png": "[encoded data removed]",
      "text/plain": [
       "<Figure size 1440x504 with 1 Axes>"
      ]
     },
     "metadata": {
      "needs_background": "light"
     },
     "output_type": "display_data"
    }
   ],
   "source": [
    "plt.figure(figsize=(20,7))\n",
    "subset = grouped_df[grouped_df['city'] == 'Москва']    \n",
    "sns.distplot(subset['revenue'], \n",
    "                 hist = True, \n",
    "                 kde = True,\n",
    "                 kde_kws = {'linewidth': 2},\n",
    "                 label = 'Москва'\n",
    "            )\n",
    "plt.legend(prop={'size': 18}, title = 'Москва')\n",
    "subset = grouped_df[grouped_df['city'] != 'Москва']    \n",
    "sns.distplot(subset['revenue'], \n",
    "                 hist = True, \n",
    "                 kde = True,\n",
    "                 kde_kws = {'linewidth': 2},\n",
    "                 label = 'Другой регион'\n",
    "            )\n",
    "\n",
    "plt.legend(prop={'size': 18}, title = 'Регион')\n",
    "plt.title(f'График плотности по выручке')\n",
    "plt.xlabel('Выручка')\n",
    "plt.ylabel('Плотность частоты')\n",
    "plt.show()"
   ]
  },
  {
   "cell_type": "markdown",
   "metadata": {},
   "source": [
    "Данный статистический тест не дал возможности опровергунть исходную гипотезу о том, что доходы от пользователей из Москвы и из других регионов равны. **Выручка в Московском регионе практически не отличается от выручки в других населенных пунктов.**\n",
    "\n",
    "Если бы мы отклонили нулевую гипотезу и констатировали, что доходы \"Мегалайна\" с каждого пользователя в Москве отличаются от доходов в других регионах, мы бы с вероятностью 45,17% ошиблись."
   ]
  },
  {
   "cell_type": "markdown",
   "metadata": {},
   "source": [
    "## Вывод"
   ]
  },
  {
   "cell_type": "markdown",
   "metadata": {},
   "source": [
    "По тарифу Ультра по всем параметрам среднее больше , чем медиана, т.е. данные скошены вправо, а по тарифу Смарт только по параметру количество сообщений данные скошены вправо, по трафику и продолжительности звонков медиана и среднее практически равны, по трафику даже небольшое смещение влево.\n",
    "Стандартное отклонения для тарифа Ультра значительно превышает стандартное отклонение для тарифа Смарт. Распределение шире по тарифу Ультра по всем показателям, кроме выручки. \n",
    "По результатам статистического анализа доходы от тарифа «Ультра» больше, чем от тарифа «Смарт»: в среднем (медиана) «Мегалайн» от одного пользователя в месяц получает 1950 рублей и 959 рублей соответственно  (p−значение=3.66,  α = 5%) .\n",
    "\n",
    "Особенности использования тарифов заключаются в следующем:\n",
    "\n",
    "- Пользователям тарифа «Смарт» не хватает услуг в рамках тарифного пакета: кроме абонентской платы пользователи в среднем доплачивают еще 409 (959 - 550) рублей ежемесячно.\n",
    "- Пользователи тарифа «Ультра», напротив, не используют тарифный пакет в полном объеме.\n",
    "- Средние доходы (медиана) от пользователей в Москве не отличаются от доходов в других населенных пунктах: разница статистически незначима (p-значение: 0,4517) и составляет 186 руб.: 1704 руб. в Москве против 1518 руб в других населенных пунктах."
   ]
  }
 ],
 "metadata": {
  "ExecuteTimeLog": [
   {
    "duration": 2154,
    "start_time": "2022-05-14T16:38:49.612Z"
   },
   {
    "duration": 74,
    "start_time": "2022-05-15T13:54:46.091Z"
   },
   {
    "duration": 9,
    "start_time": "2022-05-15T13:55:04.917Z"
   },
   {
    "duration": 2369,
    "start_time": "2022-05-15T13:55:06.909Z"
   },
   {
    "duration": 107,
    "start_time": "2022-05-15T13:55:09.281Z"
   },
   {
    "duration": 100,
    "start_time": "2022-05-15T13:55:09.534Z"
   },
   {
    "duration": 96,
    "start_time": "2022-05-15T13:55:24.205Z"
   },
   {
    "duration": 165,
    "start_time": "2022-05-15T14:01:27.499Z"
   },
   {
    "duration": 264,
    "start_time": "2022-05-15T14:02:24.448Z"
   },
   {
    "duration": 194,
    "start_time": "2022-05-15T14:02:58.705Z"
   },
   {
    "duration": 130,
    "start_time": "2022-05-15T14:03:20.844Z"
   },
   {
    "duration": 59,
    "start_time": "2022-05-15T14:03:42.323Z"
   },
   {
    "duration": 279,
    "start_time": "2022-05-15T14:03:50.028Z"
   },
   {
    "duration": 408,
    "start_time": "2022-05-15T14:04:32.116Z"
   },
   {
    "duration": 101,
    "start_time": "2022-05-15T14:09:19.060Z"
   },
   {
    "duration": 106,
    "start_time": "2022-05-15T14:09:29.300Z"
   },
   {
    "duration": 703,
    "start_time": "2022-05-15T14:09:38.774Z"
   },
   {
    "duration": 847,
    "start_time": "2022-05-15T14:09:46.531Z"
   },
   {
    "duration": 89,
    "start_time": "2022-05-15T14:10:23.463Z"
   },
   {
    "duration": 701,
    "start_time": "2022-05-15T14:10:36.686Z"
   },
   {
    "duration": 343,
    "start_time": "2022-05-15T14:11:01.668Z"
   },
   {
    "duration": 113,
    "start_time": "2022-05-15T14:15:47.973Z"
   },
   {
    "duration": 58,
    "start_time": "2022-05-15T14:15:51.989Z"
   },
   {
    "duration": 4,
    "start_time": "2022-05-15T14:23:23.270Z"
   },
   {
    "duration": 4,
    "start_time": "2022-05-15T14:23:24.613Z"
   },
   {
    "duration": 4,
    "start_time": "2022-05-15T14:23:26.589Z"
   },
   {
    "duration": 59,
    "start_time": "2022-05-15T14:23:38.753Z"
   },
   {
    "duration": 88,
    "start_time": "2022-05-15T14:23:44.716Z"
   },
   {
    "duration": 101,
    "start_time": "2022-05-15T14:24:08.077Z"
   },
   {
    "duration": 158,
    "start_time": "2022-05-15T14:26:04.313Z"
   },
   {
    "duration": 55,
    "start_time": "2022-05-15T14:27:57.076Z"
   },
   {
    "duration": 73,
    "start_time": "2022-05-15T14:35:21.898Z"
   },
   {
    "duration": 10,
    "start_time": "2022-05-15T14:35:51.936Z"
   },
   {
    "duration": 2351,
    "start_time": "2022-05-15T14:36:00.610Z"
   },
   {
    "duration": 142,
    "start_time": "2022-05-15T14:36:02.964Z"
   },
   {
    "duration": 80,
    "start_time": "2022-05-15T14:36:03.110Z"
   },
   {
    "duration": 136,
    "start_time": "2022-05-15T14:36:03.192Z"
   },
   {
    "duration": 136,
    "start_time": "2022-05-15T14:36:03.331Z"
   },
   {
    "duration": 336,
    "start_time": "2022-05-15T14:39:45.465Z"
   },
   {
    "duration": 15,
    "start_time": "2022-05-15T14:41:59.053Z"
   },
   {
    "duration": 12,
    "start_time": "2022-05-15T14:43:07.989Z"
   },
   {
    "duration": 18,
    "start_time": "2022-05-15T14:44:49.145Z"
   },
   {
    "duration": 4,
    "start_time": "2022-05-15T14:48:30.802Z"
   },
   {
    "duration": 24,
    "start_time": "2022-05-15T14:50:35.103Z"
   },
   {
    "duration": 24,
    "start_time": "2022-05-15T14:50:36.155Z"
   },
   {
    "duration": 102,
    "start_time": "2022-05-15T14:52:01.489Z"
   },
   {
    "duration": 248,
    "start_time": "2022-05-15T14:52:09.017Z"
   },
   {
    "duration": 62,
    "start_time": "2022-05-15T14:52:43.307Z"
   },
   {
    "duration": 5,
    "start_time": "2022-05-15T14:54:56.102Z"
   },
   {
    "duration": 1956,
    "start_time": "2022-05-15T14:55:42.913Z"
   },
   {
    "duration": 5,
    "start_time": "2022-05-15T14:56:34.125Z"
   },
   {
    "duration": 13,
    "start_time": "2022-05-15T14:59:42.302Z"
   },
   {
    "duration": 277,
    "start_time": "2022-05-15T15:00:58.160Z"
   },
   {
    "duration": 259,
    "start_time": "2022-05-15T15:01:11.376Z"
   },
   {
    "duration": 247,
    "start_time": "2022-05-15T15:01:25.848Z"
   },
   {
    "duration": 11,
    "start_time": "2022-05-15T15:08:58.927Z"
   },
   {
    "duration": 12,
    "start_time": "2022-05-15T15:09:11.103Z"
   },
   {
    "duration": 20,
    "start_time": "2022-05-15T15:09:13.070Z"
   },
   {
    "duration": 14,
    "start_time": "2022-05-15T15:09:30.884Z"
   },
   {
    "duration": 5,
    "start_time": "2022-05-15T15:10:04.948Z"
   },
   {
    "duration": 112,
    "start_time": "2022-05-15T15:13:26.423Z"
   },
   {
    "duration": 739,
    "start_time": "2022-05-15T15:13:49.975Z"
   },
   {
    "duration": 192,
    "start_time": "2022-05-15T15:13:50.718Z"
   },
   {
    "duration": 87,
    "start_time": "2022-05-15T15:13:50.913Z"
   },
   {
    "duration": 194,
    "start_time": "2022-05-15T15:13:51.003Z"
   },
   {
    "duration": 221,
    "start_time": "2022-05-15T15:13:51.200Z"
   },
   {
    "duration": 389,
    "start_time": "2022-05-15T15:13:51.425Z"
   },
   {
    "duration": 11,
    "start_time": "2022-05-15T15:13:51.817Z"
   },
   {
    "duration": 14,
    "start_time": "2022-05-15T15:13:51.830Z"
   },
   {
    "duration": 6,
    "start_time": "2022-05-15T15:13:51.883Z"
   },
   {
    "duration": 19,
    "start_time": "2022-05-15T15:13:51.895Z"
   },
   {
    "duration": 25,
    "start_time": "2022-05-15T15:13:51.916Z"
   },
   {
    "duration": 58,
    "start_time": "2022-05-15T15:13:51.943Z"
   },
   {
    "duration": 79,
    "start_time": "2022-05-15T15:13:52.004Z"
   },
   {
    "duration": 379,
    "start_time": "2022-05-15T15:13:52.086Z"
   },
   {
    "duration": 21,
    "start_time": "2022-05-15T15:13:52.467Z"
   },
   {
    "duration": 6,
    "start_time": "2022-05-15T15:13:52.491Z"
   },
   {
    "duration": 4,
    "start_time": "2022-05-15T15:16:45.739Z"
   },
   {
    "duration": 3,
    "start_time": "2022-05-15T15:17:01.727Z"
   },
   {
    "duration": 22,
    "start_time": "2022-05-15T15:18:18.460Z"
   },
   {
    "duration": 58,
    "start_time": "2022-05-15T15:20:48.204Z"
   },
   {
    "duration": 16,
    "start_time": "2022-05-15T15:20:52.398Z"
   },
   {
    "duration": 56,
    "start_time": "2022-05-15T15:21:37.500Z"
   },
   {
    "duration": 14,
    "start_time": "2022-05-15T15:22:07.079Z"
   },
   {
    "duration": 32,
    "start_time": "2022-05-15T15:23:40.056Z"
   },
   {
    "duration": 5,
    "start_time": "2022-05-15T15:26:39.767Z"
   },
   {
    "duration": 25,
    "start_time": "2022-05-15T15:27:08.384Z"
   },
   {
    "duration": 52,
    "start_time": "2022-05-15T15:27:10.152Z"
   },
   {
    "duration": 31,
    "start_time": "2022-05-15T15:27:30.258Z"
   },
   {
    "duration": 33,
    "start_time": "2022-05-15T15:27:34.875Z"
   },
   {
    "duration": 4,
    "start_time": "2022-05-15T15:28:40.716Z"
   },
   {
    "duration": 3,
    "start_time": "2022-05-15T15:28:42.141Z"
   },
   {
    "duration": 21,
    "start_time": "2022-05-15T15:29:28.245Z"
   },
   {
    "duration": 33,
    "start_time": "2022-05-15T15:29:29.948Z"
   },
   {
    "duration": 28,
    "start_time": "2022-05-15T15:29:37.739Z"
   },
   {
    "duration": 29,
    "start_time": "2022-05-15T15:29:46.854Z"
   },
   {
    "duration": 35,
    "start_time": "2022-05-15T15:29:51.359Z"
   },
   {
    "duration": 117,
    "start_time": "2022-05-15T15:30:14.507Z"
   },
   {
    "duration": 29,
    "start_time": "2022-05-15T15:30:45.278Z"
   },
   {
    "duration": 24,
    "start_time": "2022-05-15T15:33:05.600Z"
   },
   {
    "duration": 143,
    "start_time": "2022-05-15T15:34:31.227Z"
   },
   {
    "duration": 27,
    "start_time": "2022-05-15T15:35:04.479Z"
   },
   {
    "duration": 27,
    "start_time": "2022-05-15T15:35:16.378Z"
   },
   {
    "duration": 12,
    "start_time": "2022-05-15T15:52:14.458Z"
   },
   {
    "duration": 17,
    "start_time": "2022-05-15T15:52:38.286Z"
   },
   {
    "duration": 16,
    "start_time": "2022-05-15T15:52:46.771Z"
   },
   {
    "duration": 19,
    "start_time": "2022-05-15T15:53:04.905Z"
   },
   {
    "duration": 4,
    "start_time": "2022-05-15T15:54:31.120Z"
   },
   {
    "duration": 11,
    "start_time": "2022-05-15T15:54:47.560Z"
   },
   {
    "duration": 9,
    "start_time": "2022-05-15T15:56:09.203Z"
   },
   {
    "duration": 4,
    "start_time": "2022-05-15T15:57:15.962Z"
   },
   {
    "duration": 15,
    "start_time": "2022-05-15T16:02:47.190Z"
   },
   {
    "duration": 9,
    "start_time": "2022-05-15T16:04:19.898Z"
   },
   {
    "duration": 17,
    "start_time": "2022-05-15T16:04:27.070Z"
   },
   {
    "duration": 13,
    "start_time": "2022-05-15T16:05:29.809Z"
   },
   {
    "duration": 9,
    "start_time": "2022-05-15T16:05:42.410Z"
   },
   {
    "duration": 12,
    "start_time": "2022-05-15T16:05:44.282Z"
   },
   {
    "duration": 31,
    "start_time": "2022-05-15T16:06:09.158Z"
   },
   {
    "duration": 62,
    "start_time": "2022-05-15T16:09:50.545Z"
   },
   {
    "duration": 68,
    "start_time": "2022-05-15T16:10:04.893Z"
   },
   {
    "duration": 57,
    "start_time": "2022-05-15T16:12:25.632Z"
   },
   {
    "duration": 23,
    "start_time": "2022-05-15T16:12:42.634Z"
   },
   {
    "duration": 66,
    "start_time": "2022-05-15T16:12:50.637Z"
   },
   {
    "duration": 23,
    "start_time": "2022-05-15T16:12:53.431Z"
   },
   {
    "duration": 18,
    "start_time": "2022-05-15T16:14:40.590Z"
   },
   {
    "duration": 534,
    "start_time": "2022-05-15T16:14:59.140Z"
   },
   {
    "duration": 4,
    "start_time": "2022-05-15T16:15:00.616Z"
   },
   {
    "duration": 71,
    "start_time": "2022-05-15T16:15:07.673Z"
   },
   {
    "duration": 31,
    "start_time": "2022-05-15T16:15:09.480Z"
   },
   {
    "duration": 40,
    "start_time": "2022-05-15T16:15:22.843Z"
   },
   {
    "duration": 848,
    "start_time": "2022-05-15T16:16:10.852Z"
   },
   {
    "duration": 57,
    "start_time": "2022-05-15T16:16:34.585Z"
   },
   {
    "duration": 26,
    "start_time": "2022-05-15T16:16:39.094Z"
   },
   {
    "duration": 64,
    "start_time": "2022-05-15T16:16:42.452Z"
   },
   {
    "duration": 24,
    "start_time": "2022-05-15T16:16:44.622Z"
   },
   {
    "duration": 9,
    "start_time": "2022-05-15T16:18:36.222Z"
   },
   {
    "duration": 10,
    "start_time": "2022-05-15T16:18:38.851Z"
   },
   {
    "duration": 1982,
    "start_time": "2022-05-15T16:19:24.502Z"
   },
   {
    "duration": 10,
    "start_time": "2022-05-15T16:24:21.454Z"
   },
   {
    "duration": 1871,
    "start_time": "2022-05-15T16:24:23.885Z"
   },
   {
    "duration": 10,
    "start_time": "2022-05-15T16:27:07.268Z"
   },
   {
    "duration": 547,
    "start_time": "2022-05-15T16:27:09.098Z"
   },
   {
    "duration": 641,
    "start_time": "2022-05-15T16:28:17.144Z"
   },
   {
    "duration": 511,
    "start_time": "2022-05-15T16:28:45.644Z"
   },
   {
    "duration": 4,
    "start_time": "2022-05-15T16:29:11.410Z"
   },
   {
    "duration": 3,
    "start_time": "2022-05-15T16:29:31.968Z"
   },
   {
    "duration": 512,
    "start_time": "2022-05-15T16:30:59.964Z"
   },
   {
    "duration": 14,
    "start_time": "2022-05-15T16:44:19.593Z"
   },
   {
    "duration": 10,
    "start_time": "2022-05-15T16:44:52.298Z"
   },
   {
    "duration": 11,
    "start_time": "2022-05-15T16:44:57.191Z"
   },
   {
    "duration": 7,
    "start_time": "2022-05-15T16:45:05.272Z"
   },
   {
    "duration": 12,
    "start_time": "2022-05-15T16:45:08.921Z"
   },
   {
    "duration": 25,
    "start_time": "2022-05-15T16:45:16.063Z"
   },
   {
    "duration": 551,
    "start_time": "2022-05-15T16:45:32.480Z"
   },
   {
    "duration": 44,
    "start_time": "2022-05-15T16:45:56.442Z"
   },
   {
    "duration": 46,
    "start_time": "2022-05-15T16:46:25.141Z"
   },
   {
    "duration": 5,
    "start_time": "2022-05-15T16:48:55.710Z"
   },
   {
    "duration": 293,
    "start_time": "2022-05-15T16:54:54.154Z"
   },
   {
    "duration": 305,
    "start_time": "2022-05-15T16:55:05.659Z"
   },
   {
    "duration": 80,
    "start_time": "2022-05-15T16:56:40.654Z"
   },
   {
    "duration": 20,
    "start_time": "2022-05-15T17:05:55.133Z"
   },
   {
    "duration": 78,
    "start_time": "2022-05-15T17:06:23.353Z"
   },
   {
    "duration": 24,
    "start_time": "2022-05-15T17:07:35.768Z"
   },
   {
    "duration": 24,
    "start_time": "2022-05-15T17:07:46.542Z"
   },
   {
    "duration": 70,
    "start_time": "2022-05-15T17:07:54.859Z"
   },
   {
    "duration": 133,
    "start_time": "2022-05-15T17:10:44.921Z"
   },
   {
    "duration": 14,
    "start_time": "2022-05-15T17:13:34.080Z"
   },
   {
    "duration": 675,
    "start_time": "2022-05-15T17:14:04.187Z"
   },
   {
    "duration": 568,
    "start_time": "2022-05-15T17:14:22.239Z"
   },
   {
    "duration": 198,
    "start_time": "2022-05-15T17:14:29.238Z"
   },
   {
    "duration": 283,
    "start_time": "2022-05-15T17:14:42.675Z"
   },
   {
    "duration": 1228,
    "start_time": "2022-05-15T17:15:15.718Z"
   },
   {
    "duration": 2033,
    "start_time": "2022-05-15T17:19:57.700Z"
   },
   {
    "duration": 314,
    "start_time": "2022-05-15T17:20:18.052Z"
   },
   {
    "duration": 341,
    "start_time": "2022-05-15T17:20:48.110Z"
   },
   {
    "duration": 299,
    "start_time": "2022-05-15T17:21:24.344Z"
   },
   {
    "duration": 294,
    "start_time": "2022-05-15T17:28:12.067Z"
   },
   {
    "duration": 20,
    "start_time": "2022-05-15T17:28:21.510Z"
   },
   {
    "duration": 282,
    "start_time": "2022-05-15T17:28:29.413Z"
   },
   {
    "duration": 383,
    "start_time": "2022-05-15T17:28:58.890Z"
   },
   {
    "duration": 4,
    "start_time": "2022-05-15T17:29:54.744Z"
   },
   {
    "duration": 4,
    "start_time": "2022-05-15T17:31:00.609Z"
   },
   {
    "duration": 186,
    "start_time": "2022-05-15T17:37:02.985Z"
   },
   {
    "duration": 16,
    "start_time": "2022-05-15T17:42:29.338Z"
   },
   {
    "duration": 18,
    "start_time": "2022-05-15T17:42:59.197Z"
   },
   {
    "duration": 400,
    "start_time": "2022-05-15T17:43:15.936Z"
   },
   {
    "duration": 17,
    "start_time": "2022-05-15T17:44:17.665Z"
   },
   {
    "duration": 11,
    "start_time": "2022-05-15T17:44:40.540Z"
   },
   {
    "duration": 29,
    "start_time": "2022-05-15T17:44:47.195Z"
   },
   {
    "duration": 17,
    "start_time": "2022-05-15T17:46:04.693Z"
   },
   {
    "duration": 33,
    "start_time": "2022-05-15T17:52:53.174Z"
   },
   {
    "duration": 17,
    "start_time": "2022-05-15T17:53:50.073Z"
   },
   {
    "duration": 16,
    "start_time": "2022-05-15T17:54:38.345Z"
   },
   {
    "duration": 43,
    "start_time": "2022-05-15T17:55:14.966Z"
   },
   {
    "duration": 27,
    "start_time": "2022-05-15T17:55:59.282Z"
   },
   {
    "duration": 39,
    "start_time": "2022-05-15T17:56:32.979Z"
   },
   {
    "duration": 423,
    "start_time": "2022-05-15T17:57:03.007Z"
   },
   {
    "duration": 6,
    "start_time": "2022-05-15T17:58:19.816Z"
   },
   {
    "duration": 615,
    "start_time": "2022-05-15T17:58:19.831Z"
   },
   {
    "duration": 4,
    "start_time": "2022-05-15T17:58:20.449Z"
   },
   {
    "duration": 153,
    "start_time": "2022-05-15T17:58:20.455Z"
   },
   {
    "duration": 98,
    "start_time": "2022-05-15T17:58:20.614Z"
   },
   {
    "duration": 197,
    "start_time": "2022-05-15T17:58:20.716Z"
   },
   {
    "duration": 6,
    "start_time": "2022-05-15T17:58:20.916Z"
   },
   {
    "duration": 210,
    "start_time": "2022-05-15T17:58:20.925Z"
   },
   {
    "duration": 435,
    "start_time": "2022-05-15T17:58:21.138Z"
   },
   {
    "duration": 20,
    "start_time": "2022-05-15T17:58:21.576Z"
   },
   {
    "duration": 25,
    "start_time": "2022-05-15T17:58:21.599Z"
   },
   {
    "duration": 8,
    "start_time": "2022-05-15T17:58:21.627Z"
   },
   {
    "duration": 14,
    "start_time": "2022-05-15T17:58:21.637Z"
   },
   {
    "duration": 75,
    "start_time": "2022-05-15T17:58:21.653Z"
   },
   {
    "duration": 391,
    "start_time": "2022-05-15T17:58:21.736Z"
   },
   {
    "duration": 13,
    "start_time": "2022-05-15T17:58:22.130Z"
   },
   {
    "duration": 12,
    "start_time": "2022-05-15T17:58:22.146Z"
   },
   {
    "duration": 71,
    "start_time": "2022-05-15T17:58:22.161Z"
   },
   {
    "duration": 57,
    "start_time": "2022-05-15T17:58:22.235Z"
   },
   {
    "duration": 27,
    "start_time": "2022-05-15T17:58:22.294Z"
   },
   {
    "duration": 29,
    "start_time": "2022-05-15T17:58:22.324Z"
   },
   {
    "duration": 33,
    "start_time": "2022-05-15T17:58:22.383Z"
   },
   {
    "duration": 39,
    "start_time": "2022-05-15T17:58:22.419Z"
   },
   {
    "duration": 21,
    "start_time": "2022-05-15T17:58:22.485Z"
   },
   {
    "duration": 20,
    "start_time": "2022-05-15T17:58:22.509Z"
   },
   {
    "duration": 16,
    "start_time": "2022-05-15T17:58:22.532Z"
   },
   {
    "duration": 34,
    "start_time": "2022-05-15T17:58:22.550Z"
   },
   {
    "duration": 7,
    "start_time": "2022-05-15T17:58:22.587Z"
   },
   {
    "duration": 22,
    "start_time": "2022-05-15T17:58:22.597Z"
   },
   {
    "duration": 17,
    "start_time": "2022-05-15T17:58:22.622Z"
   },
   {
    "duration": 14,
    "start_time": "2022-05-15T17:58:22.642Z"
   },
   {
    "duration": 12,
    "start_time": "2022-05-15T17:58:22.682Z"
   },
   {
    "duration": 24,
    "start_time": "2022-05-15T17:58:22.697Z"
   },
   {
    "duration": 23,
    "start_time": "2022-05-15T17:58:22.724Z"
   },
   {
    "duration": 10,
    "start_time": "2022-05-15T17:58:22.749Z"
   },
   {
    "duration": 656,
    "start_time": "2022-05-15T17:58:22.782Z"
   },
   {
    "duration": 68,
    "start_time": "2022-05-15T17:58:23.441Z"
   },
   {
    "duration": 45,
    "start_time": "2022-05-15T17:58:23.511Z"
   },
   {
    "duration": 261,
    "start_time": "2022-05-15T17:58:23.559Z"
   },
   {
    "duration": 75,
    "start_time": "2022-05-15T17:58:23.823Z"
   },
   {
    "duration": 1233,
    "start_time": "2022-05-15T17:58:23.902Z"
   },
   {
    "duration": 549,
    "start_time": "2022-05-15T17:58:25.143Z"
   },
   {
    "duration": 345,
    "start_time": "2022-05-15T17:58:25.697Z"
   },
   {
    "duration": 304,
    "start_time": "2022-05-15T17:58:26.044Z"
   },
   {
    "duration": 34,
    "start_time": "2022-05-15T17:58:26.350Z"
   },
   {
    "duration": 31,
    "start_time": "2022-05-15T17:58:26.386Z"
   },
   {
    "duration": 525,
    "start_time": "2022-05-15T17:58:26.419Z"
   },
   {
    "duration": 68,
    "start_time": "2022-05-15T17:58:26.947Z"
   },
   {
    "duration": 18,
    "start_time": "2022-05-15T17:58:27.018Z"
   },
   {
    "duration": 55,
    "start_time": "2022-05-15T17:58:27.040Z"
   },
   {
    "duration": 476,
    "start_time": "2022-05-15T17:58:27.098Z"
   },
   {
    "duration": 6,
    "start_time": "2022-05-15T18:20:38.835Z"
   },
   {
    "duration": 703,
    "start_time": "2022-05-15T18:20:38.845Z"
   },
   {
    "duration": 5,
    "start_time": "2022-05-15T18:20:39.551Z"
   },
   {
    "duration": 164,
    "start_time": "2022-05-15T18:20:39.560Z"
   },
   {
    "duration": 97,
    "start_time": "2022-05-15T18:20:39.726Z"
   },
   {
    "duration": 185,
    "start_time": "2022-05-15T18:20:39.826Z"
   },
   {
    "duration": 6,
    "start_time": "2022-05-15T18:20:40.015Z"
   },
   {
    "duration": 217,
    "start_time": "2022-05-15T18:20:40.024Z"
   },
   {
    "duration": 512,
    "start_time": "2022-05-15T18:20:40.247Z"
   },
   {
    "duration": 24,
    "start_time": "2022-05-15T18:20:40.762Z"
   },
   {
    "duration": 24,
    "start_time": "2022-05-15T18:20:40.789Z"
   },
   {
    "duration": 10,
    "start_time": "2022-05-15T18:20:40.816Z"
   },
   {
    "duration": 21,
    "start_time": "2022-05-15T18:20:40.828Z"
   },
   {
    "duration": 65,
    "start_time": "2022-05-15T18:20:40.852Z"
   },
   {
    "duration": 281,
    "start_time": "2022-05-15T18:20:40.919Z"
   },
   {
    "duration": 15,
    "start_time": "2022-05-15T18:20:41.203Z"
   },
   {
    "duration": 8,
    "start_time": "2022-05-15T18:20:41.221Z"
   },
   {
    "duration": 78,
    "start_time": "2022-05-15T18:20:41.232Z"
   },
   {
    "duration": 49,
    "start_time": "2022-05-15T18:20:41.313Z"
   },
   {
    "duration": 30,
    "start_time": "2022-05-15T18:20:41.364Z"
   },
   {
    "duration": 37,
    "start_time": "2022-05-15T18:20:41.396Z"
   },
   {
    "duration": 63,
    "start_time": "2022-05-15T18:20:41.436Z"
   },
   {
    "duration": 29,
    "start_time": "2022-05-15T18:20:41.502Z"
   },
   {
    "duration": 16,
    "start_time": "2022-05-15T18:20:41.536Z"
   },
   {
    "duration": 17,
    "start_time": "2022-05-15T18:20:41.583Z"
   },
   {
    "duration": 28,
    "start_time": "2022-05-15T18:20:41.604Z"
   },
   {
    "duration": 10,
    "start_time": "2022-05-15T18:20:41.634Z"
   },
   {
    "duration": 34,
    "start_time": "2022-05-15T18:20:41.647Z"
   },
   {
    "duration": 11,
    "start_time": "2022-05-15T18:20:41.684Z"
   },
   {
    "duration": 26,
    "start_time": "2022-05-15T18:20:41.698Z"
   },
   {
    "duration": 14,
    "start_time": "2022-05-15T18:20:41.726Z"
   },
   {
    "duration": 42,
    "start_time": "2022-05-15T18:20:41.743Z"
   },
   {
    "duration": 20,
    "start_time": "2022-05-15T18:20:41.794Z"
   },
   {
    "duration": 36,
    "start_time": "2022-05-15T18:20:41.817Z"
   },
   {
    "duration": 31,
    "start_time": "2022-05-15T18:20:41.856Z"
   },
   {
    "duration": 1127,
    "start_time": "2022-05-15T18:20:41.891Z"
   },
   {
    "duration": 45,
    "start_time": "2022-05-15T18:20:43.020Z"
   },
   {
    "duration": 69,
    "start_time": "2022-05-15T18:20:43.086Z"
   },
   {
    "duration": 371,
    "start_time": "2022-05-15T18:20:43.157Z"
   },
   {
    "duration": 78,
    "start_time": "2022-05-15T18:20:43.531Z"
   },
   {
    "duration": 1214,
    "start_time": "2022-05-15T18:20:43.612Z"
   },
   {
    "duration": 313,
    "start_time": "2022-05-15T18:20:44.828Z"
   },
   {
    "duration": 344,
    "start_time": "2022-05-15T18:20:45.143Z"
   },
   {
    "duration": 407,
    "start_time": "2022-05-15T18:20:45.490Z"
   },
   {
    "duration": 16,
    "start_time": "2022-05-15T18:20:45.900Z"
   },
   {
    "duration": 44,
    "start_time": "2022-05-15T18:20:45.919Z"
   },
   {
    "duration": 582,
    "start_time": "2022-05-15T18:20:45.965Z"
   },
   {
    "duration": 31,
    "start_time": "2022-05-15T18:20:46.550Z"
   },
   {
    "duration": 50,
    "start_time": "2022-05-15T18:20:46.583Z"
   },
   {
    "duration": 532,
    "start_time": "2022-05-15T18:20:46.636Z"
   },
   {
    "duration": 611,
    "start_time": "2022-05-15T18:23:00.540Z"
   },
   {
    "duration": 596,
    "start_time": "2022-05-15T18:23:10.785Z"
   },
   {
    "duration": 836,
    "start_time": "2022-05-15T18:23:38.073Z"
   },
   {
    "duration": 562,
    "start_time": "2022-05-15T18:23:55.021Z"
   },
   {
    "duration": 891,
    "start_time": "2022-05-15T18:24:09.118Z"
   },
   {
    "duration": 667,
    "start_time": "2022-05-15T18:24:19.382Z"
   },
   {
    "duration": 889,
    "start_time": "2022-05-15T18:24:31.075Z"
   },
   {
    "duration": 594,
    "start_time": "2022-05-15T18:26:26.677Z"
   },
   {
    "duration": 546,
    "start_time": "2022-05-15T18:27:11.079Z"
   },
   {
    "duration": 576,
    "start_time": "2022-05-15T18:27:24.906Z"
   },
   {
    "duration": 1144,
    "start_time": "2022-05-15T18:27:56.411Z"
   },
   {
    "duration": 700,
    "start_time": "2022-05-15T18:28:23.661Z"
   },
   {
    "duration": 575,
    "start_time": "2022-05-15T18:28:34.482Z"
   },
   {
    "duration": 642,
    "start_time": "2022-05-15T18:28:45.543Z"
   },
   {
    "duration": 448,
    "start_time": "2022-05-15T18:28:57.956Z"
   },
   {
    "duration": 529,
    "start_time": "2022-05-15T18:29:09.947Z"
   },
   {
    "duration": 665,
    "start_time": "2022-05-15T18:30:59.701Z"
   },
   {
    "duration": 1195,
    "start_time": "2022-05-15T18:34:05.218Z"
   },
   {
    "duration": 1214,
    "start_time": "2022-05-15T18:34:11.495Z"
   },
   {
    "duration": 5,
    "start_time": "2022-05-15T18:34:51.504Z"
   },
   {
    "duration": 564,
    "start_time": "2022-05-15T18:34:51.512Z"
   },
   {
    "duration": 6,
    "start_time": "2022-05-15T18:34:52.078Z"
   },
   {
    "duration": 164,
    "start_time": "2022-05-15T18:34:52.087Z"
   },
   {
    "duration": 80,
    "start_time": "2022-05-15T18:34:52.253Z"
   },
   {
    "duration": 140,
    "start_time": "2022-05-15T18:34:52.335Z"
   },
   {
    "duration": 7,
    "start_time": "2022-05-15T18:34:52.478Z"
   },
   {
    "duration": 148,
    "start_time": "2022-05-15T18:34:52.489Z"
   },
   {
    "duration": 299,
    "start_time": "2022-05-15T18:34:52.643Z"
   },
   {
    "duration": 13,
    "start_time": "2022-05-15T18:34:52.946Z"
   },
   {
    "duration": 43,
    "start_time": "2022-05-15T18:34:52.963Z"
   },
   {
    "duration": 6,
    "start_time": "2022-05-15T18:34:53.009Z"
   },
   {
    "duration": 17,
    "start_time": "2022-05-15T18:34:53.019Z"
   },
   {
    "duration": 79,
    "start_time": "2022-05-15T18:34:53.039Z"
   },
   {
    "duration": 298,
    "start_time": "2022-05-15T18:34:53.121Z"
   },
   {
    "duration": 12,
    "start_time": "2022-05-15T18:34:53.422Z"
   },
   {
    "duration": 7,
    "start_time": "2022-05-15T18:34:53.436Z"
   },
   {
    "duration": 72,
    "start_time": "2022-05-15T18:34:53.445Z"
   },
   {
    "duration": 31,
    "start_time": "2022-05-15T18:34:53.519Z"
   },
   {
    "duration": 49,
    "start_time": "2022-05-15T18:34:53.552Z"
   },
   {
    "duration": 30,
    "start_time": "2022-05-15T18:34:53.605Z"
   },
   {
    "duration": 51,
    "start_time": "2022-05-15T18:34:53.637Z"
   },
   {
    "duration": 30,
    "start_time": "2022-05-15T18:34:53.690Z"
   },
   {
    "duration": 13,
    "start_time": "2022-05-15T18:34:53.725Z"
   },
   {
    "duration": 17,
    "start_time": "2022-05-15T18:34:53.740Z"
   },
   {
    "duration": 50,
    "start_time": "2022-05-15T18:34:53.759Z"
   },
   {
    "duration": 24,
    "start_time": "2022-05-15T18:34:53.811Z"
   },
   {
    "duration": 5,
    "start_time": "2022-05-15T18:34:53.837Z"
   },
   {
    "duration": 13,
    "start_time": "2022-05-15T18:34:53.844Z"
   },
   {
    "duration": 31,
    "start_time": "2022-05-15T18:34:53.860Z"
   },
   {
    "duration": 23,
    "start_time": "2022-05-15T18:34:53.894Z"
   },
   {
    "duration": 12,
    "start_time": "2022-05-15T18:34:53.920Z"
   },
   {
    "duration": 20,
    "start_time": "2022-05-15T18:34:53.934Z"
   },
   {
    "duration": 50,
    "start_time": "2022-05-15T18:34:53.957Z"
   },
   {
    "duration": 21,
    "start_time": "2022-05-15T18:34:54.010Z"
   },
   {
    "duration": 847,
    "start_time": "2022-05-15T18:34:54.034Z"
   },
   {
    "duration": 52,
    "start_time": "2022-05-15T18:34:54.884Z"
   },
   {
    "duration": 78,
    "start_time": "2022-05-15T18:34:54.939Z"
   },
   {
    "duration": 305,
    "start_time": "2022-05-15T18:34:55.020Z"
   },
   {
    "duration": 65,
    "start_time": "2022-05-15T18:34:55.327Z"
   },
   {
    "duration": 1214,
    "start_time": "2022-05-15T18:34:55.394Z"
   },
   {
    "duration": 400,
    "start_time": "2022-05-15T18:34:56.613Z"
   },
   {
    "duration": 670,
    "start_time": "2022-05-15T18:34:57.015Z"
   },
   {
    "duration": 282,
    "start_time": "2022-05-15T18:34:57.688Z"
   },
   {
    "duration": 27,
    "start_time": "2022-05-15T18:34:57.972Z"
   },
   {
    "duration": 38,
    "start_time": "2022-05-15T18:34:58.003Z"
   },
   {
    "duration": 541,
    "start_time": "2022-05-15T18:34:58.043Z"
   },
   {
    "duration": 543,
    "start_time": "2022-05-15T18:34:58.586Z"
   },
   {
    "duration": 17,
    "start_time": "2022-05-15T18:34:59.132Z"
   },
   {
    "duration": 65,
    "start_time": "2022-05-15T18:34:59.151Z"
   },
   {
    "duration": 425,
    "start_time": "2022-05-15T18:34:59.219Z"
   },
   {
    "duration": 610,
    "start_time": "2022-05-15T18:34:59.646Z"
   },
   {
    "duration": 5,
    "start_time": "2022-05-15T18:39:00.225Z"
   },
   {
    "duration": 4,
    "start_time": "2022-05-15T18:39:04.846Z"
   },
   {
    "duration": 533,
    "start_time": "2022-05-15T18:39:04.853Z"
   },
   {
    "duration": 4,
    "start_time": "2022-05-15T18:39:05.388Z"
   },
   {
    "duration": 131,
    "start_time": "2022-05-15T18:39:05.394Z"
   },
   {
    "duration": 78,
    "start_time": "2022-05-15T18:39:05.528Z"
   },
   {
    "duration": 134,
    "start_time": "2022-05-15T18:39:05.608Z"
   },
   {
    "duration": 6,
    "start_time": "2022-05-15T18:39:05.744Z"
   },
   {
    "duration": 159,
    "start_time": "2022-05-15T18:39:05.752Z"
   },
   {
    "duration": 282,
    "start_time": "2022-05-15T18:39:05.913Z"
   },
   {
    "duration": 11,
    "start_time": "2022-05-15T18:39:06.197Z"
   },
   {
    "duration": 20,
    "start_time": "2022-05-15T18:39:06.210Z"
   },
   {
    "duration": 5,
    "start_time": "2022-05-15T18:39:06.233Z"
   },
   {
    "duration": 45,
    "start_time": "2022-05-15T18:39:06.243Z"
   },
   {
    "duration": 35,
    "start_time": "2022-05-15T18:39:06.290Z"
   },
   {
    "duration": 317,
    "start_time": "2022-05-15T18:39:06.327Z"
   },
   {
    "duration": 11,
    "start_time": "2022-05-15T18:39:06.647Z"
   },
   {
    "duration": 23,
    "start_time": "2022-05-15T18:39:06.661Z"
   },
   {
    "duration": 48,
    "start_time": "2022-05-15T18:39:06.686Z"
   },
   {
    "duration": 31,
    "start_time": "2022-05-15T18:39:06.736Z"
   },
   {
    "duration": 22,
    "start_time": "2022-05-15T18:39:06.781Z"
   },
   {
    "duration": 35,
    "start_time": "2022-05-15T18:39:06.805Z"
   },
   {
    "duration": 53,
    "start_time": "2022-05-15T18:39:06.843Z"
   },
   {
    "duration": 147,
    "start_time": "2022-05-15T18:39:06.899Z"
   },
   {
    "duration": 13,
    "start_time": "2022-05-15T18:39:07.049Z"
   },
   {
    "duration": 24,
    "start_time": "2022-05-15T18:39:07.064Z"
   },
   {
    "duration": 14,
    "start_time": "2022-05-15T18:39:07.091Z"
   },
   {
    "duration": 12,
    "start_time": "2022-05-15T18:39:07.107Z"
   },
   {
    "duration": 7,
    "start_time": "2022-05-15T18:39:07.121Z"
   },
   {
    "duration": 11,
    "start_time": "2022-05-15T18:39:07.130Z"
   },
   {
    "duration": 13,
    "start_time": "2022-05-15T18:39:07.183Z"
   },
   {
    "duration": 12,
    "start_time": "2022-05-15T18:39:07.198Z"
   },
   {
    "duration": 7,
    "start_time": "2022-05-15T18:39:07.213Z"
   },
   {
    "duration": 12,
    "start_time": "2022-05-15T18:39:07.222Z"
   },
   {
    "duration": 62,
    "start_time": "2022-05-15T18:39:07.236Z"
   },
   {
    "duration": 10,
    "start_time": "2022-05-15T18:39:07.304Z"
   },
   {
    "duration": 535,
    "start_time": "2022-05-15T18:39:07.316Z"
   },
   {
    "duration": 60,
    "start_time": "2022-05-15T18:39:07.856Z"
   },
   {
    "duration": 68,
    "start_time": "2022-05-15T18:39:07.918Z"
   },
   {
    "duration": 223,
    "start_time": "2022-05-15T18:39:07.989Z"
   },
   {
    "duration": 45,
    "start_time": "2022-05-15T18:39:08.214Z"
   },
   {
    "duration": 1265,
    "start_time": "2022-05-15T18:39:08.262Z"
   },
   {
    "duration": 397,
    "start_time": "2022-05-15T18:39:09.530Z"
   },
   {
    "duration": 571,
    "start_time": "2022-05-15T18:39:09.931Z"
   },
   {
    "duration": 510,
    "start_time": "2022-05-15T18:39:10.505Z"
   },
   {
    "duration": 23,
    "start_time": "2022-05-15T18:39:11.018Z"
   },
   {
    "duration": 62,
    "start_time": "2022-05-15T18:39:11.043Z"
   },
   {
    "duration": 438,
    "start_time": "2022-05-15T18:39:11.107Z"
   },
   {
    "duration": 916,
    "start_time": "2022-05-15T18:39:11.549Z"
   },
   {
    "duration": 27,
    "start_time": "2022-05-15T18:39:12.468Z"
   },
   {
    "duration": 51,
    "start_time": "2022-05-15T18:39:12.498Z"
   },
   {
    "duration": 595,
    "start_time": "2022-05-15T18:39:12.584Z"
   },
   {
    "duration": 666,
    "start_time": "2022-05-15T18:39:13.181Z"
   },
   {
    "duration": 2381,
    "start_time": "2022-05-16T16:04:20.599Z"
   },
   {
    "duration": 828,
    "start_time": "2022-05-16T16:04:22.984Z"
   },
   {
    "duration": 4,
    "start_time": "2022-05-16T16:04:23.815Z"
   },
   {
    "duration": 192,
    "start_time": "2022-05-16T16:04:23.822Z"
   },
   {
    "duration": 84,
    "start_time": "2022-05-16T16:04:24.016Z"
   },
   {
    "duration": 165,
    "start_time": "2022-05-16T16:04:24.102Z"
   },
   {
    "duration": 8,
    "start_time": "2022-05-16T16:04:24.270Z"
   },
   {
    "duration": 169,
    "start_time": "2022-05-16T16:04:24.281Z"
   },
   {
    "duration": 382,
    "start_time": "2022-05-16T16:04:24.455Z"
   },
   {
    "duration": 13,
    "start_time": "2022-05-16T16:04:24.843Z"
   },
   {
    "duration": 45,
    "start_time": "2022-05-16T16:04:24.858Z"
   },
   {
    "duration": 13,
    "start_time": "2022-05-16T16:04:24.906Z"
   },
   {
    "duration": 20,
    "start_time": "2022-05-16T16:04:24.921Z"
   },
   {
    "duration": 87,
    "start_time": "2022-05-16T16:04:24.949Z"
   },
   {
    "duration": 373,
    "start_time": "2022-05-16T16:04:25.039Z"
   },
   {
    "duration": 16,
    "start_time": "2022-05-16T16:04:25.415Z"
   },
   {
    "duration": 22,
    "start_time": "2022-05-16T16:04:25.445Z"
   },
   {
    "duration": 71,
    "start_time": "2022-05-16T16:04:25.470Z"
   },
   {
    "duration": 52,
    "start_time": "2022-05-16T16:04:25.544Z"
   },
   {
    "duration": 38,
    "start_time": "2022-05-16T16:04:25.599Z"
   },
   {
    "duration": 44,
    "start_time": "2022-05-16T16:04:25.644Z"
   },
   {
    "duration": 36,
    "start_time": "2022-05-16T16:04:25.691Z"
   },
   {
    "duration": 61,
    "start_time": "2022-05-16T16:04:25.730Z"
   },
   {
    "duration": 13,
    "start_time": "2022-05-16T16:04:25.793Z"
   },
   {
    "duration": 12,
    "start_time": "2022-05-16T16:04:25.809Z"
   },
   {
    "duration": 24,
    "start_time": "2022-05-16T16:04:25.853Z"
   },
   {
    "duration": 17,
    "start_time": "2022-05-16T16:04:25.887Z"
   },
   {
    "duration": 6,
    "start_time": "2022-05-16T16:04:25.912Z"
   },
   {
    "duration": 13,
    "start_time": "2022-05-16T16:04:25.921Z"
   },
   {
    "duration": 23,
    "start_time": "2022-05-16T16:04:25.937Z"
   },
   {
    "duration": 40,
    "start_time": "2022-05-16T16:04:25.963Z"
   },
   {
    "duration": 18,
    "start_time": "2022-05-16T16:04:26.007Z"
   },
   {
    "duration": 21,
    "start_time": "2022-05-16T16:04:26.028Z"
   },
   {
    "duration": 59,
    "start_time": "2022-05-16T16:04:26.051Z"
   },
   {
    "duration": 14,
    "start_time": "2022-05-16T16:04:26.113Z"
   },
   {
    "duration": 771,
    "start_time": "2022-05-16T16:04:26.130Z"
   },
   {
    "duration": 81,
    "start_time": "2022-05-16T16:04:26.903Z"
   },
   {
    "duration": 45,
    "start_time": "2022-05-16T16:04:26.987Z"
   },
   {
    "duration": 254,
    "start_time": "2022-05-16T16:04:27.047Z"
   },
   {
    "duration": 85,
    "start_time": "2022-05-16T16:04:27.304Z"
   },
   {
    "duration": 1218,
    "start_time": "2022-05-16T16:04:27.392Z"
   },
   {
    "duration": 364,
    "start_time": "2022-05-16T16:04:28.614Z"
   },
   {
    "duration": 375,
    "start_time": "2022-05-16T16:04:28.981Z"
   },
   {
    "duration": 307,
    "start_time": "2022-05-16T16:04:29.359Z"
   },
   {
    "duration": 21,
    "start_time": "2022-05-16T16:04:29.671Z"
   },
   {
    "duration": 34,
    "start_time": "2022-05-16T16:04:29.695Z"
   },
   {
    "duration": 489,
    "start_time": "2022-05-16T16:04:29.731Z"
   },
   {
    "duration": 722,
    "start_time": "2022-05-16T16:04:30.223Z"
   },
   {
    "duration": 16,
    "start_time": "2022-05-16T16:04:30.949Z"
   },
   {
    "duration": 74,
    "start_time": "2022-05-16T16:04:30.967Z"
   },
   {
    "duration": 441,
    "start_time": "2022-05-16T16:04:31.044Z"
   },
   {
    "duration": 625,
    "start_time": "2022-05-16T16:04:31.490Z"
   },
   {
    "duration": 39,
    "start_time": "2022-05-16T16:24:36.075Z"
   },
   {
    "duration": 40,
    "start_time": "2022-05-16T16:35:02.655Z"
   },
   {
    "duration": 1346,
    "start_time": "2022-05-17T05:43:02.952Z"
   },
   {
    "duration": 394,
    "start_time": "2022-05-17T05:43:04.300Z"
   },
   {
    "duration": 3,
    "start_time": "2022-05-17T05:43:04.695Z"
   },
   {
    "duration": 75,
    "start_time": "2022-05-17T05:43:04.700Z"
   },
   {
    "duration": 28,
    "start_time": "2022-05-17T05:43:04.777Z"
   },
   {
    "duration": 97,
    "start_time": "2022-05-17T05:43:04.806Z"
   },
   {
    "duration": 4,
    "start_time": "2022-05-17T05:43:04.905Z"
   },
   {
    "duration": 91,
    "start_time": "2022-05-17T05:43:04.910Z"
   },
   {
    "duration": 168,
    "start_time": "2022-05-17T05:43:05.003Z"
   },
   {
    "duration": 8,
    "start_time": "2022-05-17T05:43:05.175Z"
   },
   {
    "duration": 12,
    "start_time": "2022-05-17T05:43:05.184Z"
   },
   {
    "duration": 4,
    "start_time": "2022-05-17T05:43:05.198Z"
   },
   {
    "duration": 10,
    "start_time": "2022-05-17T05:43:05.203Z"
   },
   {
    "duration": 59,
    "start_time": "2022-05-17T05:43:05.215Z"
   },
   {
    "duration": 147,
    "start_time": "2022-05-17T05:43:05.276Z"
   },
   {
    "duration": 10,
    "start_time": "2022-05-17T05:43:05.425Z"
   },
   {
    "duration": 4,
    "start_time": "2022-05-17T05:43:05.436Z"
   },
   {
    "duration": 38,
    "start_time": "2022-05-17T05:43:05.442Z"
   },
   {
    "duration": 27,
    "start_time": "2022-05-17T05:43:05.481Z"
   },
   {
    "duration": 14,
    "start_time": "2022-05-17T05:43:05.510Z"
   },
   {
    "duration": 41,
    "start_time": "2022-05-17T05:43:05.525Z"
   },
   {
    "duration": 16,
    "start_time": "2022-05-17T05:43:05.568Z"
   },
   {
    "duration": 21,
    "start_time": "2022-05-17T05:43:05.585Z"
   },
   {
    "duration": 8,
    "start_time": "2022-05-17T05:43:05.608Z"
   },
   {
    "duration": 6,
    "start_time": "2022-05-17T05:43:05.617Z"
   },
   {
    "duration": 40,
    "start_time": "2022-05-17T05:43:05.625Z"
   },
   {
    "duration": 6,
    "start_time": "2022-05-17T05:43:05.666Z"
   },
   {
    "duration": 3,
    "start_time": "2022-05-17T05:43:05.676Z"
   },
   {
    "duration": 8,
    "start_time": "2022-05-17T05:43:05.681Z"
   },
   {
    "duration": 10,
    "start_time": "2022-05-17T05:43:05.690Z"
   },
   {
    "duration": 6,
    "start_time": "2022-05-17T05:43:05.701Z"
   },
   {
    "duration": 5,
    "start_time": "2022-05-17T05:43:05.708Z"
   },
   {
    "duration": 11,
    "start_time": "2022-05-17T05:43:05.714Z"
   },
   {
    "duration": 39,
    "start_time": "2022-05-17T05:43:05.726Z"
   },
   {
    "duration": 6,
    "start_time": "2022-05-17T05:43:05.766Z"
   },
   {
    "duration": 249,
    "start_time": "2022-05-17T05:43:05.773Z"
   },
   {
    "duration": 26,
    "start_time": "2022-05-17T05:43:06.024Z"
   },
   {
    "duration": 34,
    "start_time": "2022-05-17T05:43:06.051Z"
   },
   {
    "duration": 113,
    "start_time": "2022-05-17T05:43:06.087Z"
   },
   {
    "duration": 26,
    "start_time": "2022-05-17T05:43:06.203Z"
   },
   {
    "duration": 847,
    "start_time": "2022-05-17T05:43:06.231Z"
   },
   {
    "duration": 149,
    "start_time": "2022-05-17T05:43:07.080Z"
   },
   {
    "duration": 179,
    "start_time": "2022-05-17T05:43:07.231Z"
   },
   {
    "duration": 153,
    "start_time": "2022-05-17T05:43:07.412Z"
   },
   {
    "duration": 11,
    "start_time": "2022-05-17T05:43:07.567Z"
   },
   {
    "duration": 17,
    "start_time": "2022-05-17T05:43:07.580Z"
   },
   {
    "duration": 267,
    "start_time": "2022-05-17T05:43:07.598Z"
   },
   {
    "duration": 339,
    "start_time": "2022-05-17T05:43:07.867Z"
   },
   {
    "duration": 11,
    "start_time": "2022-05-17T05:43:08.207Z"
   },
   {
    "duration": 21,
    "start_time": "2022-05-17T05:43:08.219Z"
   },
   {
    "duration": 294,
    "start_time": "2022-05-17T05:43:08.242Z"
   },
   {
    "duration": 297,
    "start_time": "2022-05-17T05:43:08.537Z"
   },
   {
    "duration": 210,
    "start_time": "2022-05-17T05:43:31.804Z"
   },
   {
    "duration": 267,
    "start_time": "2022-05-17T05:43:43.970Z"
   },
   {
    "duration": 518,
    "start_time": "2022-05-17T05:44:33.879Z"
   },
   {
    "duration": 143,
    "start_time": "2022-05-17T05:44:51.420Z"
   },
   {
    "duration": 583,
    "start_time": "2022-05-17T05:44:57.932Z"
   },
   {
    "duration": 142,
    "start_time": "2022-05-17T05:45:14.829Z"
   },
   {
    "duration": 9,
    "start_time": "2022-05-17T05:52:17.708Z"
   },
   {
    "duration": 9,
    "start_time": "2022-05-17T05:52:28.738Z"
   },
   {
    "duration": 8,
    "start_time": "2022-05-17T05:52:33.769Z"
   },
   {
    "duration": 3,
    "start_time": "2022-05-17T05:53:17.615Z"
   },
   {
    "duration": 413,
    "start_time": "2022-05-17T05:53:17.619Z"
   },
   {
    "duration": 3,
    "start_time": "2022-05-17T05:53:18.033Z"
   },
   {
    "duration": 71,
    "start_time": "2022-05-17T05:53:18.037Z"
   },
   {
    "duration": 25,
    "start_time": "2022-05-17T05:53:18.110Z"
   },
   {
    "duration": 97,
    "start_time": "2022-05-17T05:53:18.136Z"
   },
   {
    "duration": 3,
    "start_time": "2022-05-17T05:53:18.235Z"
   },
   {
    "duration": 89,
    "start_time": "2022-05-17T05:53:18.239Z"
   },
   {
    "duration": 152,
    "start_time": "2022-05-17T05:53:18.329Z"
   },
   {
    "duration": 7,
    "start_time": "2022-05-17T05:53:18.483Z"
   },
   {
    "duration": 10,
    "start_time": "2022-05-17T05:53:18.493Z"
   },
   {
    "duration": 4,
    "start_time": "2022-05-17T05:53:18.504Z"
   },
   {
    "duration": 14,
    "start_time": "2022-05-17T05:53:18.510Z"
   },
   {
    "duration": 54,
    "start_time": "2022-05-17T05:53:18.526Z"
   },
   {
    "duration": 147,
    "start_time": "2022-05-17T05:53:18.582Z"
   },
   {
    "duration": 9,
    "start_time": "2022-05-17T05:53:18.731Z"
   },
   {
    "duration": 3,
    "start_time": "2022-05-17T05:53:18.742Z"
   },
   {
    "duration": 35,
    "start_time": "2022-05-17T05:53:18.747Z"
   },
   {
    "duration": 25,
    "start_time": "2022-05-17T05:53:18.783Z"
   },
   {
    "duration": 13,
    "start_time": "2022-05-17T05:53:18.809Z"
   },
   {
    "duration": 42,
    "start_time": "2022-05-17T05:53:18.824Z"
   },
   {
    "duration": 16,
    "start_time": "2022-05-17T05:53:18.867Z"
   },
   {
    "duration": 20,
    "start_time": "2022-05-17T05:53:18.885Z"
   },
   {
    "duration": 7,
    "start_time": "2022-05-17T05:53:18.906Z"
   },
   {
    "duration": 9,
    "start_time": "2022-05-17T05:53:18.915Z"
   },
   {
    "duration": 6,
    "start_time": "2022-05-17T05:53:18.925Z"
   },
   {
    "duration": 32,
    "start_time": "2022-05-17T05:53:18.932Z"
   },
   {
    "duration": 5,
    "start_time": "2022-05-17T05:53:18.966Z"
   },
   {
    "duration": 4,
    "start_time": "2022-05-17T05:53:18.975Z"
   },
   {
    "duration": 8,
    "start_time": "2022-05-17T05:53:18.980Z"
   },
   {
    "duration": 6,
    "start_time": "2022-05-17T05:53:18.989Z"
   },
   {
    "duration": 16,
    "start_time": "2022-05-17T05:53:18.996Z"
   },
   {
    "duration": 5,
    "start_time": "2022-05-17T05:53:19.013Z"
   },
   {
    "duration": 14,
    "start_time": "2022-05-17T05:53:19.019Z"
   },
   {
    "duration": 29,
    "start_time": "2022-05-17T05:53:19.035Z"
   },
   {
    "duration": 6,
    "start_time": "2022-05-17T05:53:19.066Z"
   },
   {
    "duration": 245,
    "start_time": "2022-05-17T05:53:19.073Z"
   },
   {
    "duration": 26,
    "start_time": "2022-05-17T05:53:19.320Z"
   },
   {
    "duration": 41,
    "start_time": "2022-05-17T05:53:19.347Z"
   },
   {
    "duration": 133,
    "start_time": "2022-05-17T05:53:19.390Z"
   },
   {
    "duration": 42,
    "start_time": "2022-05-17T05:53:19.525Z"
   },
   {
    "duration": 766,
    "start_time": "2022-05-17T05:53:19.569Z"
   },
   {
    "duration": 150,
    "start_time": "2022-05-17T05:53:20.337Z"
   },
   {
    "duration": 181,
    "start_time": "2022-05-17T05:53:20.489Z"
   },
   {
    "duration": 146,
    "start_time": "2022-05-17T05:53:20.671Z"
   },
   {
    "duration": 10,
    "start_time": "2022-05-17T05:53:20.819Z"
   },
   {
    "duration": 18,
    "start_time": "2022-05-17T05:53:20.830Z"
   },
   {
    "duration": 343,
    "start_time": "2022-05-17T05:53:20.864Z"
   },
   {
    "duration": 276,
    "start_time": "2022-05-17T05:53:21.209Z"
   },
   {
    "duration": 11,
    "start_time": "2022-05-17T05:53:21.486Z"
   },
   {
    "duration": 19,
    "start_time": "2022-05-17T05:53:21.498Z"
   },
   {
    "duration": 292,
    "start_time": "2022-05-17T05:53:21.519Z"
   },
   {
    "duration": 255,
    "start_time": "2022-05-17T05:53:21.813Z"
   },
   {
    "duration": 5,
    "start_time": "2022-05-17T05:57:35.556Z"
   },
   {
    "duration": 11,
    "start_time": "2022-05-17T05:57:56.065Z"
   },
   {
    "duration": 7,
    "start_time": "2022-05-17T05:58:21.122Z"
   },
   {
    "duration": 3,
    "start_time": "2022-05-17T06:00:52.586Z"
   },
   {
    "duration": 400,
    "start_time": "2022-05-17T06:00:52.590Z"
   },
   {
    "duration": 2,
    "start_time": "2022-05-17T06:00:52.992Z"
   },
   {
    "duration": 80,
    "start_time": "2022-05-17T06:00:52.996Z"
   },
   {
    "duration": 24,
    "start_time": "2022-05-17T06:00:53.078Z"
   },
   {
    "duration": 89,
    "start_time": "2022-05-17T06:00:53.104Z"
   },
   {
    "duration": 3,
    "start_time": "2022-05-17T06:00:53.195Z"
   },
   {
    "duration": 91,
    "start_time": "2022-05-17T06:00:53.200Z"
   },
   {
    "duration": 147,
    "start_time": "2022-05-17T06:00:53.292Z"
   },
   {
    "duration": 5,
    "start_time": "2022-05-17T06:00:53.441Z"
   },
   {
    "duration": 19,
    "start_time": "2022-05-17T06:00:53.449Z"
   },
   {
    "duration": 4,
    "start_time": "2022-05-17T06:00:53.469Z"
   },
   {
    "duration": 8,
    "start_time": "2022-05-17T06:00:53.474Z"
   },
   {
    "duration": 9,
    "start_time": "2022-05-17T06:00:53.483Z"
   },
   {
    "duration": 23,
    "start_time": "2022-05-17T06:00:53.493Z"
   },
   {
    "duration": 156,
    "start_time": "2022-05-17T06:00:53.518Z"
   },
   {
    "duration": 8,
    "start_time": "2022-05-17T06:00:53.676Z"
   },
   {
    "duration": 15,
    "start_time": "2022-05-17T06:00:53.686Z"
   },
   {
    "duration": 21,
    "start_time": "2022-05-17T06:00:53.703Z"
   },
   {
    "duration": 21,
    "start_time": "2022-05-17T06:00:53.726Z"
   },
   {
    "duration": 25,
    "start_time": "2022-05-17T06:00:53.748Z"
   },
   {
    "duration": 18,
    "start_time": "2022-05-17T06:00:53.775Z"
   },
   {
    "duration": 14,
    "start_time": "2022-05-17T06:00:53.795Z"
   },
   {
    "duration": 16,
    "start_time": "2022-05-17T06:00:53.811Z"
   },
   {
    "duration": 9,
    "start_time": "2022-05-17T06:00:53.829Z"
   },
   {
    "duration": 0,
    "start_time": "2022-05-17T06:00:53.864Z"
   },
   {
    "duration": 0,
    "start_time": "2022-05-17T06:00:53.866Z"
   },
   {
    "duration": 0,
    "start_time": "2022-05-17T06:00:53.867Z"
   },
   {
    "duration": 0,
    "start_time": "2022-05-17T06:00:53.867Z"
   },
   {
    "duration": 0,
    "start_time": "2022-05-17T06:00:53.869Z"
   },
   {
    "duration": 0,
    "start_time": "2022-05-17T06:00:53.869Z"
   },
   {
    "duration": 0,
    "start_time": "2022-05-17T06:00:53.870Z"
   },
   {
    "duration": 0,
    "start_time": "2022-05-17T06:00:53.871Z"
   },
   {
    "duration": 0,
    "start_time": "2022-05-17T06:00:53.872Z"
   },
   {
    "duration": 0,
    "start_time": "2022-05-17T06:00:53.873Z"
   },
   {
    "duration": 0,
    "start_time": "2022-05-17T06:00:53.874Z"
   },
   {
    "duration": 0,
    "start_time": "2022-05-17T06:00:53.875Z"
   },
   {
    "duration": 0,
    "start_time": "2022-05-17T06:00:53.876Z"
   },
   {
    "duration": 0,
    "start_time": "2022-05-17T06:00:53.878Z"
   },
   {
    "duration": 0,
    "start_time": "2022-05-17T06:00:53.879Z"
   },
   {
    "duration": 0,
    "start_time": "2022-05-17T06:00:53.879Z"
   },
   {
    "duration": 0,
    "start_time": "2022-05-17T06:00:53.880Z"
   },
   {
    "duration": 0,
    "start_time": "2022-05-17T06:00:53.882Z"
   },
   {
    "duration": 0,
    "start_time": "2022-05-17T06:00:53.883Z"
   },
   {
    "duration": 0,
    "start_time": "2022-05-17T06:00:53.884Z"
   },
   {
    "duration": 0,
    "start_time": "2022-05-17T06:00:53.884Z"
   },
   {
    "duration": 0,
    "start_time": "2022-05-17T06:00:53.886Z"
   },
   {
    "duration": 1,
    "start_time": "2022-05-17T06:00:53.886Z"
   },
   {
    "duration": 0,
    "start_time": "2022-05-17T06:00:53.888Z"
   },
   {
    "duration": 0,
    "start_time": "2022-05-17T06:00:53.889Z"
   },
   {
    "duration": 0,
    "start_time": "2022-05-17T06:00:53.890Z"
   },
   {
    "duration": 0,
    "start_time": "2022-05-17T06:00:53.891Z"
   },
   {
    "duration": 0,
    "start_time": "2022-05-17T06:00:53.891Z"
   },
   {
    "duration": 0,
    "start_time": "2022-05-17T06:00:53.893Z"
   },
   {
    "duration": 191,
    "start_time": "2022-05-17T06:01:54.415Z"
   },
   {
    "duration": 4,
    "start_time": "2022-05-17T06:04:30.288Z"
   },
   {
    "duration": 8,
    "start_time": "2022-05-17T06:04:34.838Z"
   },
   {
    "duration": 4,
    "start_time": "2022-05-17T06:04:37.020Z"
   },
   {
    "duration": 7,
    "start_time": "2022-05-17T06:04:39.405Z"
   },
   {
    "duration": 4,
    "start_time": "2022-05-17T06:08:28.186Z"
   },
   {
    "duration": 2,
    "start_time": "2022-05-17T06:10:13.558Z"
   },
   {
    "duration": 403,
    "start_time": "2022-05-17T06:10:13.562Z"
   },
   {
    "duration": 3,
    "start_time": "2022-05-17T06:10:13.967Z"
   },
   {
    "duration": 94,
    "start_time": "2022-05-17T06:10:13.971Z"
   },
   {
    "duration": 26,
    "start_time": "2022-05-17T06:10:14.067Z"
   },
   {
    "duration": 93,
    "start_time": "2022-05-17T06:10:14.095Z"
   },
   {
    "duration": 3,
    "start_time": "2022-05-17T06:10:14.190Z"
   },
   {
    "duration": 86,
    "start_time": "2022-05-17T06:10:14.194Z"
   },
   {
    "duration": 146,
    "start_time": "2022-05-17T06:10:14.281Z"
   },
   {
    "duration": 6,
    "start_time": "2022-05-17T06:10:14.429Z"
   },
   {
    "duration": 12,
    "start_time": "2022-05-17T06:10:14.438Z"
   },
   {
    "duration": 4,
    "start_time": "2022-05-17T06:10:14.464Z"
   },
   {
    "duration": 7,
    "start_time": "2022-05-17T06:10:14.469Z"
   },
   {
    "duration": 7,
    "start_time": "2022-05-17T06:10:14.477Z"
   },
   {
    "duration": 24,
    "start_time": "2022-05-17T06:10:14.486Z"
   },
   {
    "duration": 155,
    "start_time": "2022-05-17T06:10:14.511Z"
   },
   {
    "duration": 9,
    "start_time": "2022-05-17T06:10:14.667Z"
   },
   {
    "duration": 3,
    "start_time": "2022-05-17T06:10:14.677Z"
   },
   {
    "duration": 23,
    "start_time": "2022-05-17T06:10:14.682Z"
   },
   {
    "duration": 21,
    "start_time": "2022-05-17T06:10:14.706Z"
   },
   {
    "duration": 38,
    "start_time": "2022-05-17T06:10:14.729Z"
   },
   {
    "duration": 20,
    "start_time": "2022-05-17T06:10:14.769Z"
   },
   {
    "duration": 15,
    "start_time": "2022-05-17T06:10:14.791Z"
   },
   {
    "duration": 16,
    "start_time": "2022-05-17T06:10:14.808Z"
   },
   {
    "duration": 9,
    "start_time": "2022-05-17T06:10:14.825Z"
   },
   {
    "duration": 0,
    "start_time": "2022-05-17T06:10:14.836Z"
   },
   {
    "duration": 0,
    "start_time": "2022-05-17T06:10:14.837Z"
   },
   {
    "duration": 0,
    "start_time": "2022-05-17T06:10:14.838Z"
   },
   {
    "duration": 0,
    "start_time": "2022-05-17T06:10:14.864Z"
   },
   {
    "duration": 0,
    "start_time": "2022-05-17T06:10:14.865Z"
   },
   {
    "duration": 0,
    "start_time": "2022-05-17T06:10:14.866Z"
   },
   {
    "duration": 0,
    "start_time": "2022-05-17T06:10:14.867Z"
   },
   {
    "duration": 0,
    "start_time": "2022-05-17T06:10:14.868Z"
   },
   {
    "duration": 0,
    "start_time": "2022-05-17T06:10:14.869Z"
   },
   {
    "duration": 0,
    "start_time": "2022-05-17T06:10:14.870Z"
   },
   {
    "duration": 0,
    "start_time": "2022-05-17T06:10:14.871Z"
   },
   {
    "duration": 0,
    "start_time": "2022-05-17T06:10:14.872Z"
   },
   {
    "duration": 0,
    "start_time": "2022-05-17T06:10:14.873Z"
   },
   {
    "duration": 0,
    "start_time": "2022-05-17T06:10:14.874Z"
   },
   {
    "duration": 0,
    "start_time": "2022-05-17T06:10:14.875Z"
   },
   {
    "duration": 0,
    "start_time": "2022-05-17T06:10:14.876Z"
   },
   {
    "duration": 0,
    "start_time": "2022-05-17T06:10:14.877Z"
   },
   {
    "duration": 0,
    "start_time": "2022-05-17T06:10:14.877Z"
   },
   {
    "duration": 0,
    "start_time": "2022-05-17T06:10:14.878Z"
   },
   {
    "duration": 0,
    "start_time": "2022-05-17T06:10:14.879Z"
   },
   {
    "duration": 0,
    "start_time": "2022-05-17T06:10:14.880Z"
   },
   {
    "duration": 0,
    "start_time": "2022-05-17T06:10:14.881Z"
   },
   {
    "duration": 0,
    "start_time": "2022-05-17T06:10:14.882Z"
   },
   {
    "duration": 0,
    "start_time": "2022-05-17T06:10:14.883Z"
   },
   {
    "duration": 0,
    "start_time": "2022-05-17T06:10:14.884Z"
   },
   {
    "duration": 0,
    "start_time": "2022-05-17T06:10:14.885Z"
   },
   {
    "duration": 0,
    "start_time": "2022-05-17T06:10:14.886Z"
   },
   {
    "duration": 0,
    "start_time": "2022-05-17T06:10:14.887Z"
   },
   {
    "duration": 0,
    "start_time": "2022-05-17T06:10:14.888Z"
   },
   {
    "duration": 9,
    "start_time": "2022-05-17T06:10:52.351Z"
   },
   {
    "duration": 16,
    "start_time": "2022-05-17T06:11:14.588Z"
   },
   {
    "duration": 8,
    "start_time": "2022-05-17T06:11:34.525Z"
   },
   {
    "duration": 17,
    "start_time": "2022-05-17T06:13:59.841Z"
   },
   {
    "duration": 17,
    "start_time": "2022-05-17T06:14:28.892Z"
   },
   {
    "duration": 9,
    "start_time": "2022-05-17T06:14:32.494Z"
   },
   {
    "duration": 8,
    "start_time": "2022-05-17T06:14:34.096Z"
   },
   {
    "duration": 9,
    "start_time": "2022-05-17T06:14:36.820Z"
   },
   {
    "duration": 17,
    "start_time": "2022-05-17T06:14:40.243Z"
   },
   {
    "duration": 9,
    "start_time": "2022-05-17T06:14:43.194Z"
   },
   {
    "duration": 18,
    "start_time": "2022-05-17T06:14:56.165Z"
   },
   {
    "duration": 9,
    "start_time": "2022-05-17T06:15:13.758Z"
   },
   {
    "duration": 3,
    "start_time": "2022-05-17T06:15:55.245Z"
   },
   {
    "duration": 370,
    "start_time": "2022-05-17T06:15:55.250Z"
   },
   {
    "duration": 3,
    "start_time": "2022-05-17T06:15:55.621Z"
   },
   {
    "duration": 69,
    "start_time": "2022-05-17T06:15:55.626Z"
   },
   {
    "duration": 25,
    "start_time": "2022-05-17T06:15:55.697Z"
   },
   {
    "duration": 87,
    "start_time": "2022-05-17T06:15:55.723Z"
   },
   {
    "duration": 3,
    "start_time": "2022-05-17T06:15:55.812Z"
   },
   {
    "duration": 91,
    "start_time": "2022-05-17T06:15:55.817Z"
   },
   {
    "duration": 147,
    "start_time": "2022-05-17T06:15:55.909Z"
   },
   {
    "duration": 10,
    "start_time": "2022-05-17T06:15:56.058Z"
   },
   {
    "duration": 9,
    "start_time": "2022-05-17T06:15:56.070Z"
   },
   {
    "duration": 3,
    "start_time": "2022-05-17T06:15:56.080Z"
   },
   {
    "duration": 7,
    "start_time": "2022-05-17T06:15:56.084Z"
   },
   {
    "duration": 8,
    "start_time": "2022-05-17T06:15:56.092Z"
   },
   {
    "duration": 22,
    "start_time": "2022-05-17T06:15:56.101Z"
   },
   {
    "duration": 155,
    "start_time": "2022-05-17T06:15:56.125Z"
   },
   {
    "duration": 9,
    "start_time": "2022-05-17T06:15:56.281Z"
   },
   {
    "duration": 3,
    "start_time": "2022-05-17T06:15:56.291Z"
   },
   {
    "duration": 26,
    "start_time": "2022-05-17T06:15:56.295Z"
   },
   {
    "duration": 21,
    "start_time": "2022-05-17T06:15:56.323Z"
   },
   {
    "duration": 14,
    "start_time": "2022-05-17T06:15:56.363Z"
   },
   {
    "duration": 20,
    "start_time": "2022-05-17T06:15:56.379Z"
   },
   {
    "duration": 16,
    "start_time": "2022-05-17T06:15:56.401Z"
   },
   {
    "duration": 120,
    "start_time": "2022-05-17T06:15:56.419Z"
   },
   {
    "duration": 8,
    "start_time": "2022-05-17T06:15:56.541Z"
   },
   {
    "duration": 15,
    "start_time": "2022-05-17T06:15:56.551Z"
   },
   {
    "duration": 8,
    "start_time": "2022-05-17T06:15:56.567Z"
   },
   {
    "duration": 7,
    "start_time": "2022-05-17T06:15:56.576Z"
   },
   {
    "duration": 8,
    "start_time": "2022-05-17T06:15:56.586Z"
   },
   {
    "duration": 7,
    "start_time": "2022-05-17T06:15:56.595Z"
   },
   {
    "duration": 11,
    "start_time": "2022-05-17T06:15:56.603Z"
   },
   {
    "duration": 9,
    "start_time": "2022-05-17T06:15:56.616Z"
   },
   {
    "duration": 7,
    "start_time": "2022-05-17T06:15:56.626Z"
   },
   {
    "duration": 5,
    "start_time": "2022-05-17T06:15:56.634Z"
   },
   {
    "duration": 27,
    "start_time": "2022-05-17T06:15:56.641Z"
   },
   {
    "duration": 15,
    "start_time": "2022-05-17T06:15:56.669Z"
   },
   {
    "duration": 6,
    "start_time": "2022-05-17T06:15:56.685Z"
   },
   {
    "duration": 254,
    "start_time": "2022-05-17T06:15:56.693Z"
   },
   {
    "duration": 28,
    "start_time": "2022-05-17T06:15:56.948Z"
   },
   {
    "duration": 24,
    "start_time": "2022-05-17T06:15:56.978Z"
   },
   {
    "duration": 112,
    "start_time": "2022-05-17T06:15:57.003Z"
   },
   {
    "duration": 25,
    "start_time": "2022-05-17T06:15:57.117Z"
   },
   {
    "duration": 826,
    "start_time": "2022-05-17T06:15:57.143Z"
   },
   {
    "duration": 149,
    "start_time": "2022-05-17T06:15:57.970Z"
   },
   {
    "duration": 174,
    "start_time": "2022-05-17T06:15:58.120Z"
   },
   {
    "duration": 155,
    "start_time": "2022-05-17T06:15:58.295Z"
   },
   {
    "duration": 14,
    "start_time": "2022-05-17T06:15:58.451Z"
   },
   {
    "duration": 18,
    "start_time": "2022-05-17T06:15:58.467Z"
   },
   {
    "duration": 237,
    "start_time": "2022-05-17T06:15:58.486Z"
   },
   {
    "duration": 287,
    "start_time": "2022-05-17T06:15:58.725Z"
   },
   {
    "duration": 9,
    "start_time": "2022-05-17T06:15:59.014Z"
   },
   {
    "duration": 20,
    "start_time": "2022-05-17T06:15:59.024Z"
   },
   {
    "duration": 293,
    "start_time": "2022-05-17T06:15:59.046Z"
   },
   {
    "duration": 243,
    "start_time": "2022-05-17T06:15:59.340Z"
   },
   {
    "duration": 188,
    "start_time": "2022-05-17T06:29:51.379Z"
   },
   {
    "duration": 27,
    "start_time": "2022-05-17T06:33:58.851Z"
   },
   {
    "duration": 27,
    "start_time": "2022-05-17T06:34:09.039Z"
   },
   {
    "duration": 12,
    "start_time": "2022-05-17T06:39:47.584Z"
   },
   {
    "duration": 36,
    "start_time": "2022-05-17T06:44:58.728Z"
   },
   {
    "duration": 25,
    "start_time": "2022-05-17T06:45:28.757Z"
   },
   {
    "duration": 9,
    "start_time": "2022-05-17T06:48:41.836Z"
   },
   {
    "duration": 23,
    "start_time": "2022-05-17T06:48:59.945Z"
   },
   {
    "duration": 198,
    "start_time": "2022-05-17T06:50:06.214Z"
   },
   {
    "duration": 12,
    "start_time": "2022-05-17T06:50:56.464Z"
   },
   {
    "duration": 20,
    "start_time": "2022-05-17T06:51:20.404Z"
   },
   {
    "duration": 3,
    "start_time": "2022-05-17T06:53:40.579Z"
   },
   {
    "duration": 380,
    "start_time": "2022-05-17T06:53:40.586Z"
   },
   {
    "duration": 3,
    "start_time": "2022-05-17T06:53:40.968Z"
   },
   {
    "duration": 93,
    "start_time": "2022-05-17T06:53:40.972Z"
   },
   {
    "duration": 25,
    "start_time": "2022-05-17T06:53:41.066Z"
   },
   {
    "duration": 89,
    "start_time": "2022-05-17T06:53:41.092Z"
   },
   {
    "duration": 3,
    "start_time": "2022-05-17T06:53:41.183Z"
   },
   {
    "duration": 89,
    "start_time": "2022-05-17T06:53:41.187Z"
   },
   {
    "duration": 142,
    "start_time": "2022-05-17T06:53:41.277Z"
   },
   {
    "duration": 6,
    "start_time": "2022-05-17T06:53:41.420Z"
   },
   {
    "duration": 10,
    "start_time": "2022-05-17T06:53:41.429Z"
   },
   {
    "duration": 3,
    "start_time": "2022-05-17T06:53:41.440Z"
   },
   {
    "duration": 4,
    "start_time": "2022-05-17T06:53:41.463Z"
   },
   {
    "duration": 7,
    "start_time": "2022-05-17T06:53:41.469Z"
   },
   {
    "duration": 24,
    "start_time": "2022-05-17T06:53:41.477Z"
   },
   {
    "duration": 159,
    "start_time": "2022-05-17T06:53:41.503Z"
   },
   {
    "duration": 8,
    "start_time": "2022-05-17T06:53:41.664Z"
   },
   {
    "duration": 3,
    "start_time": "2022-05-17T06:53:41.674Z"
   },
   {
    "duration": 22,
    "start_time": "2022-05-17T06:53:41.679Z"
   },
   {
    "duration": 21,
    "start_time": "2022-05-17T06:53:41.702Z"
   },
   {
    "duration": 40,
    "start_time": "2022-05-17T06:53:41.724Z"
   },
   {
    "duration": 19,
    "start_time": "2022-05-17T06:53:41.765Z"
   },
   {
    "duration": 16,
    "start_time": "2022-05-17T06:53:41.786Z"
   },
   {
    "duration": 16,
    "start_time": "2022-05-17T06:53:41.803Z"
   },
   {
    "duration": 9,
    "start_time": "2022-05-17T06:53:41.820Z"
   },
   {
    "duration": 34,
    "start_time": "2022-05-17T06:53:41.830Z"
   },
   {
    "duration": 6,
    "start_time": "2022-05-17T06:53:41.866Z"
   },
   {
    "duration": 7,
    "start_time": "2022-05-17T06:53:41.874Z"
   },
   {
    "duration": 6,
    "start_time": "2022-05-17T06:53:41.884Z"
   },
   {
    "duration": 5,
    "start_time": "2022-05-17T06:53:41.891Z"
   },
   {
    "duration": 8,
    "start_time": "2022-05-17T06:53:41.897Z"
   },
   {
    "duration": 7,
    "start_time": "2022-05-17T06:53:41.907Z"
   },
   {
    "duration": 6,
    "start_time": "2022-05-17T06:53:41.915Z"
   },
   {
    "duration": 4,
    "start_time": "2022-05-17T06:53:41.922Z"
   },
   {
    "duration": 40,
    "start_time": "2022-05-17T06:53:41.927Z"
   },
   {
    "duration": 13,
    "start_time": "2022-05-17T06:53:41.969Z"
   },
   {
    "duration": 6,
    "start_time": "2022-05-17T06:53:41.983Z"
   },
   {
    "duration": 253,
    "start_time": "2022-05-17T06:53:41.990Z"
   },
   {
    "duration": 32,
    "start_time": "2022-05-17T06:53:42.245Z"
   },
   {
    "duration": 27,
    "start_time": "2022-05-17T06:53:42.278Z"
   },
   {
    "duration": 118,
    "start_time": "2022-05-17T06:53:42.306Z"
   },
   {
    "duration": 26,
    "start_time": "2022-05-17T06:53:42.425Z"
   },
   {
    "duration": 17,
    "start_time": "2022-05-17T06:53:42.464Z"
   },
   {
    "duration": 20,
    "start_time": "2022-05-17T06:53:42.483Z"
   },
   {
    "duration": 743,
    "start_time": "2022-05-17T06:53:42.505Z"
   },
   {
    "duration": 149,
    "start_time": "2022-05-17T06:53:43.249Z"
   },
   {
    "duration": 171,
    "start_time": "2022-05-17T06:53:43.400Z"
   },
   {
    "duration": 147,
    "start_time": "2022-05-17T06:53:43.572Z"
   },
   {
    "duration": 9,
    "start_time": "2022-05-17T06:53:43.721Z"
   },
   {
    "duration": 21,
    "start_time": "2022-05-17T06:53:43.731Z"
   },
   {
    "duration": 263,
    "start_time": "2022-05-17T06:53:43.753Z"
   },
   {
    "duration": 288,
    "start_time": "2022-05-17T06:53:44.018Z"
   },
   {
    "duration": 9,
    "start_time": "2022-05-17T06:53:44.308Z"
   },
   {
    "duration": 17,
    "start_time": "2022-05-17T06:53:44.319Z"
   },
   {
    "duration": 365,
    "start_time": "2022-05-17T06:53:44.338Z"
   },
   {
    "duration": 248,
    "start_time": "2022-05-17T06:53:44.705Z"
   },
   {
    "duration": 26,
    "start_time": "2022-05-17T06:58:29.311Z"
   },
   {
    "duration": 12,
    "start_time": "2022-05-17T07:00:39.820Z"
   },
   {
    "duration": 788,
    "start_time": "2022-05-17T07:00:52.848Z"
   },
   {
    "duration": 779,
    "start_time": "2022-05-17T07:01:02.069Z"
   },
   {
    "duration": 732,
    "start_time": "2022-05-17T07:01:13.910Z"
   },
   {
    "duration": 192,
    "start_time": "2022-05-17T07:01:38.134Z"
   },
   {
    "duration": 245,
    "start_time": "2022-05-17T07:01:47.248Z"
   },
   {
    "duration": 210,
    "start_time": "2022-05-17T07:01:52.272Z"
   },
   {
    "duration": 150,
    "start_time": "2022-05-17T07:02:17.408Z"
   },
   {
    "duration": 185,
    "start_time": "2022-05-17T07:02:21.116Z"
   },
   {
    "duration": 169,
    "start_time": "2022-05-17T07:02:26.600Z"
   },
   {
    "duration": 182,
    "start_time": "2022-05-17T07:02:34.445Z"
   },
   {
    "duration": 287,
    "start_time": "2022-05-17T07:03:26.123Z"
   },
   {
    "duration": 4,
    "start_time": "2022-05-17T07:03:40.621Z"
   },
   {
    "duration": 414,
    "start_time": "2022-05-17T07:03:40.627Z"
   },
   {
    "duration": 3,
    "start_time": "2022-05-17T07:03:41.044Z"
   },
   {
    "duration": 120,
    "start_time": "2022-05-17T07:03:41.049Z"
   },
   {
    "duration": 124,
    "start_time": "2022-05-17T07:03:41.172Z"
   },
   {
    "duration": 84,
    "start_time": "2022-05-17T07:03:41.298Z"
   },
   {
    "duration": 4,
    "start_time": "2022-05-17T07:03:41.383Z"
   },
   {
    "duration": 97,
    "start_time": "2022-05-17T07:03:41.389Z"
   },
   {
    "duration": 149,
    "start_time": "2022-05-17T07:03:41.488Z"
   },
   {
    "duration": 8,
    "start_time": "2022-05-17T07:03:41.639Z"
   },
   {
    "duration": 10,
    "start_time": "2022-05-17T07:03:41.664Z"
   },
   {
    "duration": 3,
    "start_time": "2022-05-17T07:03:41.676Z"
   },
   {
    "duration": 5,
    "start_time": "2022-05-17T07:03:41.681Z"
   },
   {
    "duration": 7,
    "start_time": "2022-05-17T07:03:41.687Z"
   },
   {
    "duration": 26,
    "start_time": "2022-05-17T07:03:41.695Z"
   },
   {
    "duration": 161,
    "start_time": "2022-05-17T07:03:41.722Z"
   },
   {
    "duration": 8,
    "start_time": "2022-05-17T07:03:41.885Z"
   },
   {
    "duration": 4,
    "start_time": "2022-05-17T07:03:41.895Z"
   },
   {
    "duration": 27,
    "start_time": "2022-05-17T07:03:41.900Z"
   },
   {
    "duration": 37,
    "start_time": "2022-05-17T07:03:41.928Z"
   },
   {
    "duration": 13,
    "start_time": "2022-05-17T07:03:41.966Z"
   },
   {
    "duration": 19,
    "start_time": "2022-05-17T07:03:41.981Z"
   },
   {
    "duration": 16,
    "start_time": "2022-05-17T07:03:42.001Z"
   },
   {
    "duration": 19,
    "start_time": "2022-05-17T07:03:42.018Z"
   },
   {
    "duration": 33,
    "start_time": "2022-05-17T07:03:42.038Z"
   },
   {
    "duration": 8,
    "start_time": "2022-05-17T07:03:42.073Z"
   },
   {
    "duration": 8,
    "start_time": "2022-05-17T07:03:42.082Z"
   },
   {
    "duration": 7,
    "start_time": "2022-05-17T07:03:42.092Z"
   },
   {
    "duration": 5,
    "start_time": "2022-05-17T07:03:42.103Z"
   },
   {
    "duration": 5,
    "start_time": "2022-05-17T07:03:42.109Z"
   },
   {
    "duration": 6,
    "start_time": "2022-05-17T07:03:42.115Z"
   },
   {
    "duration": 7,
    "start_time": "2022-05-17T07:03:42.123Z"
   },
   {
    "duration": 7,
    "start_time": "2022-05-17T07:03:42.163Z"
   },
   {
    "duration": 5,
    "start_time": "2022-05-17T07:03:42.171Z"
   },
   {
    "duration": 9,
    "start_time": "2022-05-17T07:03:42.177Z"
   },
   {
    "duration": 14,
    "start_time": "2022-05-17T07:03:42.187Z"
   },
   {
    "duration": 6,
    "start_time": "2022-05-17T07:03:42.203Z"
   },
   {
    "duration": 262,
    "start_time": "2022-05-17T07:03:42.211Z"
   },
   {
    "duration": 25,
    "start_time": "2022-05-17T07:03:42.475Z"
   },
   {
    "duration": 24,
    "start_time": "2022-05-17T07:03:42.502Z"
   },
   {
    "duration": 154,
    "start_time": "2022-05-17T07:03:42.528Z"
   },
   {
    "duration": 24,
    "start_time": "2022-05-17T07:03:42.684Z"
   },
   {
    "duration": 17,
    "start_time": "2022-05-17T07:03:42.710Z"
   },
   {
    "duration": 44,
    "start_time": "2022-05-17T07:03:42.728Z"
   },
   {
    "duration": 764,
    "start_time": "2022-05-17T07:03:42.773Z"
   },
   {
    "duration": 201,
    "start_time": "2022-05-17T07:03:43.538Z"
   },
   {
    "duration": 183,
    "start_time": "2022-05-17T07:03:43.741Z"
   },
   {
    "duration": 158,
    "start_time": "2022-05-17T07:03:43.926Z"
   },
   {
    "duration": 9,
    "start_time": "2022-05-17T07:03:44.085Z"
   },
   {
    "duration": 28,
    "start_time": "2022-05-17T07:03:44.096Z"
   },
   {
    "duration": 282,
    "start_time": "2022-05-17T07:03:44.126Z"
   },
   {
    "duration": 374,
    "start_time": "2022-05-17T07:03:44.410Z"
   },
   {
    "duration": 10,
    "start_time": "2022-05-17T07:03:44.786Z"
   },
   {
    "duration": 21,
    "start_time": "2022-05-17T07:03:44.798Z"
   },
   {
    "duration": 292,
    "start_time": "2022-05-17T07:03:44.821Z"
   },
   {
    "duration": 240,
    "start_time": "2022-05-17T07:03:45.114Z"
   },
   {
    "duration": 274,
    "start_time": "2022-05-17T07:05:49.700Z"
   },
   {
    "duration": 6,
    "start_time": "2022-05-17T07:06:16.120Z"
   },
   {
    "duration": 20,
    "start_time": "2022-05-17T07:06:46.496Z"
   },
   {
    "duration": 477,
    "start_time": "2022-05-17T07:07:08.464Z"
   },
   {
    "duration": 492,
    "start_time": "2022-05-17T07:08:53.272Z"
   },
   {
    "duration": 25,
    "start_time": "2022-05-17T07:09:14.682Z"
   },
   {
    "duration": 253,
    "start_time": "2022-05-17T07:14:37.664Z"
   },
   {
    "duration": 20,
    "start_time": "2022-05-17T07:16:58.092Z"
   },
   {
    "duration": 24,
    "start_time": "2022-05-17T07:17:02.560Z"
   },
   {
    "duration": 3,
    "start_time": "2022-05-17T07:17:27.643Z"
   },
   {
    "duration": 412,
    "start_time": "2022-05-17T07:17:27.648Z"
   },
   {
    "duration": 3,
    "start_time": "2022-05-17T07:17:28.062Z"
   },
   {
    "duration": 97,
    "start_time": "2022-05-17T07:17:28.067Z"
   },
   {
    "duration": 126,
    "start_time": "2022-05-17T07:17:28.166Z"
   },
   {
    "duration": 90,
    "start_time": "2022-05-17T07:17:28.294Z"
   },
   {
    "duration": 4,
    "start_time": "2022-05-17T07:17:28.386Z"
   },
   {
    "duration": 94,
    "start_time": "2022-05-17T07:17:28.391Z"
   },
   {
    "duration": 148,
    "start_time": "2022-05-17T07:17:28.486Z"
   },
   {
    "duration": 7,
    "start_time": "2022-05-17T07:17:28.637Z"
   },
   {
    "duration": 23,
    "start_time": "2022-05-17T07:17:28.647Z"
   },
   {
    "duration": 4,
    "start_time": "2022-05-17T07:17:28.672Z"
   },
   {
    "duration": 16,
    "start_time": "2022-05-17T07:17:28.678Z"
   },
   {
    "duration": 8,
    "start_time": "2022-05-17T07:17:28.696Z"
   },
   {
    "duration": 28,
    "start_time": "2022-05-17T07:17:28.706Z"
   },
   {
    "duration": 156,
    "start_time": "2022-05-17T07:17:28.736Z"
   },
   {
    "duration": 11,
    "start_time": "2022-05-17T07:17:28.893Z"
   },
   {
    "duration": 5,
    "start_time": "2022-05-17T07:17:28.905Z"
   },
   {
    "duration": 29,
    "start_time": "2022-05-17T07:17:28.911Z"
   },
   {
    "duration": 40,
    "start_time": "2022-05-17T07:17:28.942Z"
   },
   {
    "duration": 14,
    "start_time": "2022-05-17T07:17:28.984Z"
   },
   {
    "duration": 22,
    "start_time": "2022-05-17T07:17:29.000Z"
   },
   {
    "duration": 42,
    "start_time": "2022-05-17T07:17:29.023Z"
   },
   {
    "duration": 19,
    "start_time": "2022-05-17T07:17:29.066Z"
   },
   {
    "duration": 9,
    "start_time": "2022-05-17T07:17:29.087Z"
   },
   {
    "duration": 8,
    "start_time": "2022-05-17T07:17:29.098Z"
   },
   {
    "duration": 9,
    "start_time": "2022-05-17T07:17:29.107Z"
   },
   {
    "duration": 16,
    "start_time": "2022-05-17T07:17:29.117Z"
   },
   {
    "duration": 32,
    "start_time": "2022-05-17T07:17:29.137Z"
   },
   {
    "duration": 5,
    "start_time": "2022-05-17T07:17:29.171Z"
   },
   {
    "duration": 8,
    "start_time": "2022-05-17T07:17:29.178Z"
   },
   {
    "duration": 8,
    "start_time": "2022-05-17T07:17:29.187Z"
   },
   {
    "duration": 11,
    "start_time": "2022-05-17T07:17:29.196Z"
   },
   {
    "duration": 7,
    "start_time": "2022-05-17T07:17:29.209Z"
   },
   {
    "duration": 11,
    "start_time": "2022-05-17T07:17:29.217Z"
   },
   {
    "duration": 35,
    "start_time": "2022-05-17T07:17:29.230Z"
   },
   {
    "duration": 6,
    "start_time": "2022-05-17T07:17:29.267Z"
   },
   {
    "duration": 250,
    "start_time": "2022-05-17T07:17:29.275Z"
   },
   {
    "duration": 25,
    "start_time": "2022-05-17T07:17:29.527Z"
   },
   {
    "duration": 27,
    "start_time": "2022-05-17T07:17:29.564Z"
   },
   {
    "duration": 127,
    "start_time": "2022-05-17T07:17:29.593Z"
   },
   {
    "duration": 43,
    "start_time": "2022-05-17T07:17:29.722Z"
   },
   {
    "duration": 16,
    "start_time": "2022-05-17T07:17:29.767Z"
   },
   {
    "duration": 20,
    "start_time": "2022-05-17T07:17:29.785Z"
   },
   {
    "duration": 842,
    "start_time": "2022-05-17T07:17:29.807Z"
   },
   {
    "duration": 213,
    "start_time": "2022-05-17T07:17:30.651Z"
   },
   {
    "duration": 195,
    "start_time": "2022-05-17T07:17:30.866Z"
   },
   {
    "duration": 161,
    "start_time": "2022-05-17T07:17:31.063Z"
   },
   {
    "duration": 10,
    "start_time": "2022-05-17T07:17:31.225Z"
   },
   {
    "duration": 35,
    "start_time": "2022-05-17T07:17:31.236Z"
   },
   {
    "duration": 247,
    "start_time": "2022-05-17T07:17:31.272Z"
   },
   {
    "duration": 404,
    "start_time": "2022-05-17T07:17:31.520Z"
   },
   {
    "duration": 296,
    "start_time": "2022-05-17T07:17:31.926Z"
   },
   {
    "duration": 11,
    "start_time": "2022-05-17T07:17:32.225Z"
   },
   {
    "duration": 34,
    "start_time": "2022-05-17T07:17:32.238Z"
   },
   {
    "duration": 274,
    "start_time": "2022-05-17T07:17:32.274Z"
   },
   {
    "duration": 256,
    "start_time": "2022-05-17T07:17:32.550Z"
   },
   {
    "duration": 29,
    "start_time": "2022-05-17T07:19:51.778Z"
   },
   {
    "duration": 10,
    "start_time": "2022-05-17T07:20:08.388Z"
   },
   {
    "duration": 10,
    "start_time": "2022-05-17T07:20:17.585Z"
   },
   {
    "duration": 9,
    "start_time": "2022-05-17T07:20:21.950Z"
   },
   {
    "duration": 0,
    "start_time": "2022-05-17T07:20:48.399Z"
   },
   {
    "duration": 0,
    "start_time": "2022-05-17T07:20:58.498Z"
   },
   {
    "duration": 2597,
    "start_time": "2022-05-17T07:21:09.737Z"
   },
   {
    "duration": 2441,
    "start_time": "2022-05-17T07:21:36.446Z"
   },
   {
    "duration": 22,
    "start_time": "2022-05-17T07:22:13.311Z"
   },
   {
    "duration": 7,
    "start_time": "2022-05-17T07:22:42.099Z"
   },
   {
    "duration": 8,
    "start_time": "2022-05-17T07:22:51.571Z"
   },
   {
    "duration": 11,
    "start_time": "2022-05-17T07:23:06.745Z"
   },
   {
    "duration": 10,
    "start_time": "2022-05-17T07:23:40.298Z"
   },
   {
    "duration": 19,
    "start_time": "2022-05-17T07:23:48.087Z"
   },
   {
    "duration": 10,
    "start_time": "2022-05-17T07:31:12.434Z"
   },
   {
    "duration": 18,
    "start_time": "2022-05-17T07:31:18.263Z"
   },
   {
    "duration": 11,
    "start_time": "2022-05-17T07:31:22.294Z"
   },
   {
    "duration": 16,
    "start_time": "2022-05-17T07:33:25.553Z"
   },
   {
    "duration": 3,
    "start_time": "2022-05-17T07:33:34.757Z"
   },
   {
    "duration": 460,
    "start_time": "2022-05-17T07:33:34.764Z"
   },
   {
    "duration": 3,
    "start_time": "2022-05-17T07:33:35.225Z"
   },
   {
    "duration": 92,
    "start_time": "2022-05-17T07:33:35.229Z"
   },
   {
    "duration": 43,
    "start_time": "2022-05-17T07:33:35.323Z"
   },
   {
    "duration": 68,
    "start_time": "2022-05-17T07:33:35.368Z"
   },
   {
    "duration": 4,
    "start_time": "2022-05-17T07:33:35.437Z"
   },
   {
    "duration": 96,
    "start_time": "2022-05-17T07:33:35.442Z"
   },
   {
    "duration": 159,
    "start_time": "2022-05-17T07:33:35.539Z"
   },
   {
    "duration": 9,
    "start_time": "2022-05-17T07:33:35.699Z"
   },
   {
    "duration": 12,
    "start_time": "2022-05-17T07:33:35.711Z"
   },
   {
    "duration": 4,
    "start_time": "2022-05-17T07:33:35.725Z"
   },
   {
    "duration": 6,
    "start_time": "2022-05-17T07:33:35.731Z"
   },
   {
    "duration": 30,
    "start_time": "2022-05-17T07:33:35.738Z"
   },
   {
    "duration": 25,
    "start_time": "2022-05-17T07:33:35.770Z"
   },
   {
    "duration": 156,
    "start_time": "2022-05-17T07:33:35.797Z"
   },
   {
    "duration": 13,
    "start_time": "2022-05-17T07:33:35.955Z"
   },
   {
    "duration": 4,
    "start_time": "2022-05-17T07:33:35.970Z"
   },
   {
    "duration": 30,
    "start_time": "2022-05-17T07:33:35.976Z"
   },
   {
    "duration": 21,
    "start_time": "2022-05-17T07:33:36.008Z"
   },
   {
    "duration": 40,
    "start_time": "2022-05-17T07:33:36.030Z"
   },
   {
    "duration": 30,
    "start_time": "2022-05-17T07:33:36.072Z"
   },
   {
    "duration": 16,
    "start_time": "2022-05-17T07:33:36.104Z"
   },
   {
    "duration": 17,
    "start_time": "2022-05-17T07:33:36.121Z"
   },
   {
    "duration": 33,
    "start_time": "2022-05-17T07:33:36.139Z"
   },
   {
    "duration": 13,
    "start_time": "2022-05-17T07:33:36.174Z"
   },
   {
    "duration": 6,
    "start_time": "2022-05-17T07:33:36.189Z"
   },
   {
    "duration": 14,
    "start_time": "2022-05-17T07:33:36.196Z"
   },
   {
    "duration": 8,
    "start_time": "2022-05-17T07:33:36.213Z"
   },
   {
    "duration": 5,
    "start_time": "2022-05-17T07:33:36.223Z"
   },
   {
    "duration": 7,
    "start_time": "2022-05-17T07:33:36.229Z"
   },
   {
    "duration": 31,
    "start_time": "2022-05-17T07:33:36.237Z"
   },
   {
    "duration": 8,
    "start_time": "2022-05-17T07:33:36.270Z"
   },
   {
    "duration": 7,
    "start_time": "2022-05-17T07:33:36.279Z"
   },
   {
    "duration": 12,
    "start_time": "2022-05-17T07:33:36.287Z"
   },
   {
    "duration": 13,
    "start_time": "2022-05-17T07:33:36.301Z"
   },
   {
    "duration": 16,
    "start_time": "2022-05-17T07:33:36.316Z"
   },
   {
    "duration": 264,
    "start_time": "2022-05-17T07:33:36.334Z"
   },
   {
    "duration": 29,
    "start_time": "2022-05-17T07:33:36.600Z"
   },
   {
    "duration": 49,
    "start_time": "2022-05-17T07:33:36.631Z"
   },
   {
    "duration": 130,
    "start_time": "2022-05-17T07:33:36.682Z"
   },
   {
    "duration": 19,
    "start_time": "2022-05-17T07:33:36.814Z"
   },
   {
    "duration": 41,
    "start_time": "2022-05-17T07:33:36.835Z"
   },
   {
    "duration": 18,
    "start_time": "2022-05-17T07:33:36.878Z"
   },
   {
    "duration": 22,
    "start_time": "2022-05-17T07:33:36.898Z"
   },
   {
    "duration": 917,
    "start_time": "2022-05-17T07:33:36.921Z"
   },
   {
    "duration": 267,
    "start_time": "2022-05-17T07:33:37.839Z"
   },
   {
    "duration": 230,
    "start_time": "2022-05-17T07:33:38.107Z"
   },
   {
    "duration": 168,
    "start_time": "2022-05-17T07:33:38.339Z"
   },
   {
    "duration": 12,
    "start_time": "2022-05-17T07:33:38.509Z"
   },
   {
    "duration": 48,
    "start_time": "2022-05-17T07:33:38.522Z"
   },
   {
    "duration": 272,
    "start_time": "2022-05-17T07:33:38.572Z"
   },
   {
    "duration": 299,
    "start_time": "2022-05-17T07:33:38.846Z"
   },
   {
    "duration": 281,
    "start_time": "2022-05-17T07:33:39.147Z"
   },
   {
    "duration": 11,
    "start_time": "2022-05-17T07:33:39.429Z"
   },
   {
    "duration": 35,
    "start_time": "2022-05-17T07:33:39.442Z"
   },
   {
    "duration": 340,
    "start_time": "2022-05-17T07:33:39.479Z"
   },
   {
    "duration": 305,
    "start_time": "2022-05-17T07:33:39.820Z"
   },
   {
    "duration": 9,
    "start_time": "2022-05-17T07:38:04.907Z"
   },
   {
    "duration": 3,
    "start_time": "2022-05-17T07:38:19.768Z"
   },
   {
    "duration": 3,
    "start_time": "2022-05-17T07:38:25.097Z"
   },
   {
    "duration": 448,
    "start_time": "2022-05-17T07:38:25.104Z"
   },
   {
    "duration": 3,
    "start_time": "2022-05-17T07:38:25.554Z"
   },
   {
    "duration": 18,
    "start_time": "2022-05-17T07:38:25.558Z"
   },
   {
    "duration": 77,
    "start_time": "2022-05-17T07:38:25.578Z"
   },
   {
    "duration": 29,
    "start_time": "2022-05-17T07:38:25.664Z"
   },
   {
    "duration": 115,
    "start_time": "2022-05-17T07:38:25.694Z"
   },
   {
    "duration": 3,
    "start_time": "2022-05-17T07:38:25.811Z"
   },
   {
    "duration": 104,
    "start_time": "2022-05-17T07:38:25.815Z"
   },
   {
    "duration": 187,
    "start_time": "2022-05-17T07:38:25.920Z"
   },
   {
    "duration": 6,
    "start_time": "2022-05-17T07:38:26.111Z"
   },
   {
    "duration": 12,
    "start_time": "2022-05-17T07:38:26.119Z"
   },
   {
    "duration": 4,
    "start_time": "2022-05-17T07:38:26.132Z"
   },
   {
    "duration": 27,
    "start_time": "2022-05-17T07:38:26.137Z"
   },
   {
    "duration": 7,
    "start_time": "2022-05-17T07:38:26.165Z"
   },
   {
    "duration": 27,
    "start_time": "2022-05-17T07:38:26.173Z"
   },
   {
    "duration": 152,
    "start_time": "2022-05-17T07:38:26.201Z"
   },
   {
    "duration": 15,
    "start_time": "2022-05-17T07:38:26.355Z"
   },
   {
    "duration": 4,
    "start_time": "2022-05-17T07:38:26.372Z"
   },
   {
    "duration": 27,
    "start_time": "2022-05-17T07:38:26.378Z"
   },
   {
    "duration": 22,
    "start_time": "2022-05-17T07:38:26.407Z"
   },
   {
    "duration": 39,
    "start_time": "2022-05-17T07:38:26.430Z"
   },
   {
    "duration": 20,
    "start_time": "2022-05-17T07:38:26.471Z"
   },
   {
    "duration": 15,
    "start_time": "2022-05-17T07:38:26.493Z"
   },
   {
    "duration": 16,
    "start_time": "2022-05-17T07:38:26.509Z"
   },
   {
    "duration": 9,
    "start_time": "2022-05-17T07:38:26.526Z"
   },
   {
    "duration": 8,
    "start_time": "2022-05-17T07:38:26.564Z"
   },
   {
    "duration": 7,
    "start_time": "2022-05-17T07:38:26.574Z"
   },
   {
    "duration": 11,
    "start_time": "2022-05-17T07:38:26.586Z"
   },
   {
    "duration": 7,
    "start_time": "2022-05-17T07:38:26.599Z"
   },
   {
    "duration": 3,
    "start_time": "2022-05-17T07:38:26.608Z"
   },
   {
    "duration": 6,
    "start_time": "2022-05-17T07:38:26.612Z"
   },
   {
    "duration": 7,
    "start_time": "2022-05-17T07:38:26.620Z"
   },
   {
    "duration": 43,
    "start_time": "2022-05-17T07:38:26.628Z"
   },
   {
    "duration": 6,
    "start_time": "2022-05-17T07:38:26.673Z"
   },
   {
    "duration": 9,
    "start_time": "2022-05-17T07:38:26.681Z"
   },
   {
    "duration": 14,
    "start_time": "2022-05-17T07:38:26.691Z"
   },
   {
    "duration": 6,
    "start_time": "2022-05-17T07:38:26.707Z"
   },
   {
    "duration": 273,
    "start_time": "2022-05-17T07:38:26.714Z"
   },
   {
    "duration": 28,
    "start_time": "2022-05-17T07:38:26.988Z"
   },
   {
    "duration": 27,
    "start_time": "2022-05-17T07:38:27.017Z"
   },
   {
    "duration": 106,
    "start_time": "2022-05-17T07:38:27.063Z"
   },
   {
    "duration": 18,
    "start_time": "2022-05-17T07:38:27.171Z"
   },
   {
    "duration": 26,
    "start_time": "2022-05-17T07:38:27.191Z"
   },
   {
    "duration": 17,
    "start_time": "2022-05-17T07:38:27.219Z"
   },
   {
    "duration": 51,
    "start_time": "2022-05-17T07:38:27.238Z"
   },
   {
    "duration": 838,
    "start_time": "2022-05-17T07:38:27.292Z"
   },
   {
    "duration": 254,
    "start_time": "2022-05-17T07:38:28.132Z"
   },
   {
    "duration": 202,
    "start_time": "2022-05-17T07:38:28.388Z"
   },
   {
    "duration": 289,
    "start_time": "2022-05-17T07:38:28.592Z"
   },
   {
    "duration": 13,
    "start_time": "2022-05-17T07:38:28.883Z"
   },
   {
    "duration": 21,
    "start_time": "2022-05-17T07:38:28.898Z"
   },
   {
    "duration": 318,
    "start_time": "2022-05-17T07:38:28.921Z"
   },
   {
    "duration": 304,
    "start_time": "2022-05-17T07:38:29.241Z"
   },
   {
    "duration": 286,
    "start_time": "2022-05-17T07:38:29.546Z"
   },
   {
    "duration": 12,
    "start_time": "2022-05-17T07:38:29.833Z"
   },
   {
    "duration": 32,
    "start_time": "2022-05-17T07:38:29.846Z"
   },
   {
    "duration": 272,
    "start_time": "2022-05-17T07:38:29.880Z"
   },
   {
    "duration": 315,
    "start_time": "2022-05-17T07:38:30.153Z"
   },
   {
    "duration": 409,
    "start_time": "2022-05-17T07:42:29.216Z"
   },
   {
    "duration": 445,
    "start_time": "2022-05-17T07:42:39.185Z"
   },
   {
    "duration": 331,
    "start_time": "2022-05-17T07:42:53.315Z"
   },
   {
    "duration": 2,
    "start_time": "2022-05-17T07:44:47.788Z"
   },
   {
    "duration": 389,
    "start_time": "2022-05-17T07:44:47.792Z"
   },
   {
    "duration": 3,
    "start_time": "2022-05-17T07:44:48.183Z"
   },
   {
    "duration": 7,
    "start_time": "2022-05-17T07:44:48.188Z"
   },
   {
    "duration": 83,
    "start_time": "2022-05-17T07:44:48.197Z"
   },
   {
    "duration": 26,
    "start_time": "2022-05-17T07:44:48.282Z"
   },
   {
    "duration": 93,
    "start_time": "2022-05-17T07:44:48.309Z"
   },
   {
    "duration": 4,
    "start_time": "2022-05-17T07:44:48.403Z"
   },
   {
    "duration": 93,
    "start_time": "2022-05-17T07:44:48.408Z"
   },
   {
    "duration": 160,
    "start_time": "2022-05-17T07:44:48.504Z"
   },
   {
    "duration": 7,
    "start_time": "2022-05-17T07:44:48.667Z"
   },
   {
    "duration": 12,
    "start_time": "2022-05-17T07:44:48.676Z"
   },
   {
    "duration": 5,
    "start_time": "2022-05-17T07:44:48.689Z"
   },
   {
    "duration": 7,
    "start_time": "2022-05-17T07:44:48.696Z"
   },
   {
    "duration": 11,
    "start_time": "2022-05-17T07:44:48.705Z"
   },
   {
    "duration": 53,
    "start_time": "2022-05-17T07:44:48.717Z"
   },
   {
    "duration": 152,
    "start_time": "2022-05-17T07:44:48.772Z"
   },
   {
    "duration": 9,
    "start_time": "2022-05-17T07:44:48.926Z"
   },
   {
    "duration": 4,
    "start_time": "2022-05-17T07:44:48.936Z"
   },
   {
    "duration": 36,
    "start_time": "2022-05-17T07:44:48.941Z"
   },
   {
    "duration": 20,
    "start_time": "2022-05-17T07:44:48.979Z"
   },
   {
    "duration": 14,
    "start_time": "2022-05-17T07:44:49.001Z"
   },
   {
    "duration": 19,
    "start_time": "2022-05-17T07:44:49.017Z"
   },
   {
    "duration": 37,
    "start_time": "2022-05-17T07:44:49.038Z"
   },
   {
    "duration": 21,
    "start_time": "2022-05-17T07:44:49.076Z"
   },
   {
    "duration": 10,
    "start_time": "2022-05-17T07:44:49.098Z"
   },
   {
    "duration": 16,
    "start_time": "2022-05-17T07:44:49.109Z"
   },
   {
    "duration": 7,
    "start_time": "2022-05-17T07:44:49.126Z"
   },
   {
    "duration": 29,
    "start_time": "2022-05-17T07:44:49.137Z"
   },
   {
    "duration": 12,
    "start_time": "2022-05-17T07:44:49.168Z"
   },
   {
    "duration": 12,
    "start_time": "2022-05-17T07:44:49.181Z"
   },
   {
    "duration": 10,
    "start_time": "2022-05-17T07:44:49.194Z"
   },
   {
    "duration": 8,
    "start_time": "2022-05-17T07:44:49.206Z"
   },
   {
    "duration": 8,
    "start_time": "2022-05-17T07:44:49.215Z"
   },
   {
    "duration": 5,
    "start_time": "2022-05-17T07:44:49.224Z"
   },
   {
    "duration": 11,
    "start_time": "2022-05-17T07:44:49.230Z"
   },
   {
    "duration": 31,
    "start_time": "2022-05-17T07:44:49.242Z"
   },
   {
    "duration": 7,
    "start_time": "2022-05-17T07:44:49.275Z"
   },
   {
    "duration": 258,
    "start_time": "2022-05-17T07:44:49.283Z"
   },
   {
    "duration": 33,
    "start_time": "2022-05-17T07:44:49.542Z"
   },
   {
    "duration": 30,
    "start_time": "2022-05-17T07:44:49.576Z"
   },
   {
    "duration": 131,
    "start_time": "2022-05-17T07:44:49.608Z"
   },
   {
    "duration": 38,
    "start_time": "2022-05-17T07:44:49.741Z"
   },
   {
    "duration": 28,
    "start_time": "2022-05-17T07:44:49.780Z"
   },
   {
    "duration": 19,
    "start_time": "2022-05-17T07:44:49.810Z"
   },
   {
    "duration": 46,
    "start_time": "2022-05-17T07:44:49.830Z"
   },
   {
    "duration": 802,
    "start_time": "2022-05-17T07:44:49.878Z"
   },
   {
    "duration": 213,
    "start_time": "2022-05-17T07:44:50.681Z"
   },
   {
    "duration": 328,
    "start_time": "2022-05-17T07:44:50.896Z"
   },
   {
    "duration": 194,
    "start_time": "2022-05-17T07:44:51.226Z"
   },
   {
    "duration": 11,
    "start_time": "2022-05-17T07:44:51.422Z"
   },
   {
    "duration": 34,
    "start_time": "2022-05-17T07:44:51.434Z"
   },
   {
    "duration": 283,
    "start_time": "2022-05-17T07:44:51.470Z"
   },
   {
    "duration": 332,
    "start_time": "2022-05-17T07:44:51.755Z"
   },
   {
    "duration": 295,
    "start_time": "2022-05-17T07:44:52.089Z"
   },
   {
    "duration": 12,
    "start_time": "2022-05-17T07:44:52.386Z"
   },
   {
    "duration": 21,
    "start_time": "2022-05-17T07:44:52.400Z"
   },
   {
    "duration": 292,
    "start_time": "2022-05-17T07:44:52.423Z"
   },
   {
    "duration": 294,
    "start_time": "2022-05-17T07:44:52.717Z"
   },
   {
    "duration": 20,
    "start_time": "2022-05-17T07:49:51.647Z"
   },
   {
    "duration": 23,
    "start_time": "2022-05-17T07:52:02.142Z"
   },
   {
    "duration": 21,
    "start_time": "2022-05-17T07:52:42.708Z"
   },
   {
    "duration": 189,
    "start_time": "2022-05-17T07:54:42.148Z"
   },
   {
    "duration": 22,
    "start_time": "2022-05-17T07:55:16.910Z"
   },
   {
    "duration": 203,
    "start_time": "2022-05-17T07:58:30.148Z"
   },
   {
    "duration": 1123,
    "start_time": "2022-05-17T08:05:09.407Z"
   },
   {
    "duration": 298,
    "start_time": "2022-05-17T08:05:48.924Z"
   },
   {
    "duration": 356,
    "start_time": "2022-05-17T08:06:01.794Z"
   },
   {
    "duration": 182,
    "start_time": "2022-05-17T08:06:25.601Z"
   },
   {
    "duration": 185,
    "start_time": "2022-05-17T08:06:41.110Z"
   },
   {
    "duration": 1109,
    "start_time": "2022-05-17T08:11:56.811Z"
   },
   {
    "duration": 1168,
    "start_time": "2022-05-17T08:12:10.108Z"
   },
   {
    "duration": 399,
    "start_time": "2022-05-17T08:12:11.278Z"
   },
   {
    "duration": 3,
    "start_time": "2022-05-17T08:12:11.679Z"
   },
   {
    "duration": 3,
    "start_time": "2022-05-17T08:12:11.684Z"
   },
   {
    "duration": 80,
    "start_time": "2022-05-17T08:12:11.689Z"
   },
   {
    "duration": 27,
    "start_time": "2022-05-17T08:12:11.770Z"
   },
   {
    "duration": 97,
    "start_time": "2022-05-17T08:12:11.798Z"
   },
   {
    "duration": 4,
    "start_time": "2022-05-17T08:12:11.896Z"
   },
   {
    "duration": 90,
    "start_time": "2022-05-17T08:12:11.901Z"
   },
   {
    "duration": 151,
    "start_time": "2022-05-17T08:12:11.994Z"
   },
   {
    "duration": 7,
    "start_time": "2022-05-17T08:12:12.147Z"
   },
   {
    "duration": 10,
    "start_time": "2022-05-17T08:12:12.164Z"
   },
   {
    "duration": 3,
    "start_time": "2022-05-17T08:12:12.175Z"
   },
   {
    "duration": 9,
    "start_time": "2022-05-17T08:12:12.179Z"
   },
   {
    "duration": 10,
    "start_time": "2022-05-17T08:12:12.190Z"
   },
   {
    "duration": 27,
    "start_time": "2022-05-17T08:12:12.201Z"
   },
   {
    "duration": 158,
    "start_time": "2022-05-17T08:12:12.229Z"
   },
   {
    "duration": 9,
    "start_time": "2022-05-17T08:12:12.388Z"
   },
   {
    "duration": 3,
    "start_time": "2022-05-17T08:12:12.399Z"
   },
   {
    "duration": 22,
    "start_time": "2022-05-17T08:12:12.404Z"
   },
   {
    "duration": 47,
    "start_time": "2022-05-17T08:12:12.428Z"
   },
   {
    "duration": 15,
    "start_time": "2022-05-17T08:12:12.476Z"
   },
   {
    "duration": 22,
    "start_time": "2022-05-17T08:12:12.492Z"
   },
   {
    "duration": 15,
    "start_time": "2022-05-17T08:12:12.515Z"
   },
   {
    "duration": 45,
    "start_time": "2022-05-17T08:12:12.532Z"
   },
   {
    "duration": 10,
    "start_time": "2022-05-17T08:12:12.579Z"
   },
   {
    "duration": 9,
    "start_time": "2022-05-17T08:12:12.591Z"
   },
   {
    "duration": 6,
    "start_time": "2022-05-17T08:12:12.604Z"
   },
   {
    "duration": 9,
    "start_time": "2022-05-17T08:12:12.611Z"
   },
   {
    "duration": 7,
    "start_time": "2022-05-17T08:12:12.622Z"
   },
   {
    "duration": 4,
    "start_time": "2022-05-17T08:12:12.630Z"
   },
   {
    "duration": 32,
    "start_time": "2022-05-17T08:12:12.636Z"
   },
   {
    "duration": 7,
    "start_time": "2022-05-17T08:12:12.669Z"
   },
   {
    "duration": 7,
    "start_time": "2022-05-17T08:12:12.678Z"
   },
   {
    "duration": 6,
    "start_time": "2022-05-17T08:12:12.686Z"
   },
   {
    "duration": 7,
    "start_time": "2022-05-17T08:12:12.694Z"
   },
   {
    "duration": 14,
    "start_time": "2022-05-17T08:12:12.703Z"
   },
   {
    "duration": 5,
    "start_time": "2022-05-17T08:12:12.719Z"
   },
   {
    "duration": 286,
    "start_time": "2022-05-17T08:12:12.726Z"
   },
   {
    "duration": 26,
    "start_time": "2022-05-17T08:12:13.014Z"
   },
   {
    "duration": 43,
    "start_time": "2022-05-17T08:12:13.042Z"
   },
   {
    "duration": 152,
    "start_time": "2022-05-17T08:12:13.087Z"
   },
   {
    "duration": 36,
    "start_time": "2022-05-17T08:12:13.240Z"
   },
   {
    "duration": 25,
    "start_time": "2022-05-17T08:12:13.277Z"
   },
   {
    "duration": 20,
    "start_time": "2022-05-17T08:12:13.304Z"
   },
   {
    "duration": 40,
    "start_time": "2022-05-17T08:12:13.326Z"
   },
   {
    "duration": 1056,
    "start_time": "2022-05-17T08:12:13.368Z"
   },
   {
    "duration": 202,
    "start_time": "2022-05-17T08:12:14.426Z"
   },
   {
    "duration": 260,
    "start_time": "2022-05-17T08:12:14.630Z"
   },
   {
    "duration": 195,
    "start_time": "2022-05-17T08:12:14.891Z"
   },
   {
    "duration": 156,
    "start_time": "2022-05-17T08:12:15.087Z"
   },
   {
    "duration": 20,
    "start_time": "2022-05-17T08:12:15.244Z"
   },
   {
    "duration": 16,
    "start_time": "2022-05-17T08:12:15.265Z"
   },
   {
    "duration": 242,
    "start_time": "2022-05-17T08:12:15.283Z"
   },
   {
    "duration": 294,
    "start_time": "2022-05-17T08:12:15.526Z"
   },
   {
    "duration": 288,
    "start_time": "2022-05-17T08:12:15.822Z"
   },
   {
    "duration": 10,
    "start_time": "2022-05-17T08:12:16.112Z"
   },
   {
    "duration": 24,
    "start_time": "2022-05-17T08:12:16.123Z"
   },
   {
    "duration": 295,
    "start_time": "2022-05-17T08:12:16.148Z"
   },
   {
    "duration": 379,
    "start_time": "2022-05-17T08:12:16.444Z"
   },
   {
    "duration": 1205,
    "start_time": "2022-05-17T08:13:36.956Z"
   },
   {
    "duration": 416,
    "start_time": "2022-05-17T08:13:38.163Z"
   },
   {
    "duration": 3,
    "start_time": "2022-05-17T08:13:38.580Z"
   },
   {
    "duration": 6,
    "start_time": "2022-05-17T08:13:38.585Z"
   },
   {
    "duration": 78,
    "start_time": "2022-05-17T08:13:38.592Z"
   },
   {
    "duration": 27,
    "start_time": "2022-05-17T08:13:38.671Z"
   },
   {
    "duration": 94,
    "start_time": "2022-05-17T08:13:38.700Z"
   },
   {
    "duration": 3,
    "start_time": "2022-05-17T08:13:38.795Z"
   },
   {
    "duration": 92,
    "start_time": "2022-05-17T08:13:38.800Z"
   },
   {
    "duration": 164,
    "start_time": "2022-05-17T08:13:38.895Z"
   },
   {
    "duration": 8,
    "start_time": "2022-05-17T08:13:39.061Z"
   },
   {
    "duration": 11,
    "start_time": "2022-05-17T08:13:39.070Z"
   },
   {
    "duration": 3,
    "start_time": "2022-05-17T08:13:39.083Z"
   },
   {
    "duration": 5,
    "start_time": "2022-05-17T08:13:39.087Z"
   },
   {
    "duration": 7,
    "start_time": "2022-05-17T08:13:39.094Z"
   },
   {
    "duration": 25,
    "start_time": "2022-05-17T08:13:39.103Z"
   },
   {
    "duration": 169,
    "start_time": "2022-05-17T08:13:39.129Z"
   },
   {
    "duration": 8,
    "start_time": "2022-05-17T08:13:39.300Z"
   },
   {
    "duration": 3,
    "start_time": "2022-05-17T08:13:39.310Z"
   },
   {
    "duration": 22,
    "start_time": "2022-05-17T08:13:39.314Z"
   },
   {
    "duration": 43,
    "start_time": "2022-05-17T08:13:39.337Z"
   },
   {
    "duration": 15,
    "start_time": "2022-05-17T08:13:39.381Z"
   },
   {
    "duration": 23,
    "start_time": "2022-05-17T08:13:39.398Z"
   },
   {
    "duration": 16,
    "start_time": "2022-05-17T08:13:39.423Z"
   },
   {
    "duration": 21,
    "start_time": "2022-05-17T08:13:39.463Z"
   },
   {
    "duration": 10,
    "start_time": "2022-05-17T08:13:39.485Z"
   },
   {
    "duration": 9,
    "start_time": "2022-05-17T08:13:39.496Z"
   },
   {
    "duration": 6,
    "start_time": "2022-05-17T08:13:39.509Z"
   },
   {
    "duration": 9,
    "start_time": "2022-05-17T08:13:39.517Z"
   },
   {
    "duration": 8,
    "start_time": "2022-05-17T08:13:39.527Z"
   },
   {
    "duration": 3,
    "start_time": "2022-05-17T08:13:39.565Z"
   },
   {
    "duration": 9,
    "start_time": "2022-05-17T08:13:39.569Z"
   },
   {
    "duration": 9,
    "start_time": "2022-05-17T08:13:39.579Z"
   },
   {
    "duration": 8,
    "start_time": "2022-05-17T08:13:39.589Z"
   },
   {
    "duration": 4,
    "start_time": "2022-05-17T08:13:39.599Z"
   },
   {
    "duration": 8,
    "start_time": "2022-05-17T08:13:39.604Z"
   },
   {
    "duration": 19,
    "start_time": "2022-05-17T08:13:39.614Z"
   },
   {
    "duration": 7,
    "start_time": "2022-05-17T08:13:39.634Z"
   },
   {
    "duration": 266,
    "start_time": "2022-05-17T08:13:39.642Z"
   },
   {
    "duration": 28,
    "start_time": "2022-05-17T08:13:39.909Z"
   },
   {
    "duration": 43,
    "start_time": "2022-05-17T08:13:39.938Z"
   },
   {
    "duration": 145,
    "start_time": "2022-05-17T08:13:39.983Z"
   },
   {
    "duration": 35,
    "start_time": "2022-05-17T08:13:40.130Z"
   },
   {
    "duration": 26,
    "start_time": "2022-05-17T08:13:40.166Z"
   },
   {
    "duration": 21,
    "start_time": "2022-05-17T08:13:40.193Z"
   },
   {
    "duration": 20,
    "start_time": "2022-05-17T08:13:40.216Z"
   },
   {
    "duration": 1066,
    "start_time": "2022-05-17T08:13:40.238Z"
   },
   {
    "duration": 207,
    "start_time": "2022-05-17T08:13:41.305Z"
   },
   {
    "duration": 260,
    "start_time": "2022-05-17T08:13:41.514Z"
   },
   {
    "duration": 184,
    "start_time": "2022-05-17T08:13:41.776Z"
   },
   {
    "duration": 163,
    "start_time": "2022-05-17T08:13:41.963Z"
   },
   {
    "duration": 10,
    "start_time": "2022-05-17T08:13:42.128Z"
   },
   {
    "duration": 28,
    "start_time": "2022-05-17T08:13:42.139Z"
   },
   {
    "duration": 255,
    "start_time": "2022-05-17T08:13:42.169Z"
   },
   {
    "duration": 275,
    "start_time": "2022-05-17T08:13:42.426Z"
   },
   {
    "duration": 278,
    "start_time": "2022-05-17T08:13:42.703Z"
   },
   {
    "duration": 10,
    "start_time": "2022-05-17T08:13:42.982Z"
   },
   {
    "duration": 19,
    "start_time": "2022-05-17T08:13:42.993Z"
   },
   {
    "duration": 298,
    "start_time": "2022-05-17T08:13:43.013Z"
   },
   {
    "duration": 383,
    "start_time": "2022-05-17T08:13:43.313Z"
   },
   {
    "duration": 1221,
    "start_time": "2022-05-17T08:14:01.345Z"
   },
   {
    "duration": 395,
    "start_time": "2022-05-17T08:14:02.568Z"
   },
   {
    "duration": 3,
    "start_time": "2022-05-17T08:14:02.964Z"
   },
   {
    "duration": 17,
    "start_time": "2022-05-17T08:14:02.969Z"
   },
   {
    "duration": 82,
    "start_time": "2022-05-17T08:14:02.987Z"
   },
   {
    "duration": 25,
    "start_time": "2022-05-17T08:14:03.071Z"
   },
   {
    "duration": 93,
    "start_time": "2022-05-17T08:14:03.097Z"
   },
   {
    "duration": 4,
    "start_time": "2022-05-17T08:14:03.191Z"
   },
   {
    "duration": 97,
    "start_time": "2022-05-17T08:14:03.196Z"
   },
   {
    "duration": 160,
    "start_time": "2022-05-17T08:14:03.295Z"
   },
   {
    "duration": 12,
    "start_time": "2022-05-17T08:14:03.457Z"
   },
   {
    "duration": 17,
    "start_time": "2022-05-17T08:14:03.471Z"
   },
   {
    "duration": 11,
    "start_time": "2022-05-17T08:14:03.489Z"
   },
   {
    "duration": 13,
    "start_time": "2022-05-17T08:14:03.502Z"
   },
   {
    "duration": 25,
    "start_time": "2022-05-17T08:14:03.516Z"
   },
   {
    "duration": 36,
    "start_time": "2022-05-17T08:14:03.542Z"
   },
   {
    "duration": 137,
    "start_time": "2022-05-17T08:14:03.579Z"
   },
   {
    "duration": 8,
    "start_time": "2022-05-17T08:14:03.717Z"
   },
   {
    "duration": 3,
    "start_time": "2022-05-17T08:14:03.727Z"
   },
   {
    "duration": 34,
    "start_time": "2022-05-17T08:14:03.732Z"
   },
   {
    "duration": 25,
    "start_time": "2022-05-17T08:14:03.767Z"
   },
   {
    "duration": 14,
    "start_time": "2022-05-17T08:14:03.794Z"
   },
   {
    "duration": 22,
    "start_time": "2022-05-17T08:14:03.809Z"
   },
   {
    "duration": 41,
    "start_time": "2022-05-17T08:14:03.833Z"
   },
   {
    "duration": 20,
    "start_time": "2022-05-17T08:14:03.875Z"
   },
   {
    "duration": 11,
    "start_time": "2022-05-17T08:14:03.897Z"
   },
   {
    "duration": 16,
    "start_time": "2022-05-17T08:14:03.909Z"
   },
   {
    "duration": 12,
    "start_time": "2022-05-17T08:14:03.929Z"
   },
   {
    "duration": 13,
    "start_time": "2022-05-17T08:14:03.942Z"
   },
   {
    "duration": 12,
    "start_time": "2022-05-17T08:14:03.956Z"
   },
   {
    "duration": 18,
    "start_time": "2022-05-17T08:14:03.969Z"
   },
   {
    "duration": 10,
    "start_time": "2022-05-17T08:14:03.988Z"
   },
   {
    "duration": 18,
    "start_time": "2022-05-17T08:14:03.999Z"
   },
   {
    "duration": 14,
    "start_time": "2022-05-17T08:14:04.018Z"
   },
   {
    "duration": 23,
    "start_time": "2022-05-17T08:14:04.034Z"
   },
   {
    "duration": 16,
    "start_time": "2022-05-17T08:14:04.059Z"
   },
   {
    "duration": 34,
    "start_time": "2022-05-17T08:14:04.077Z"
   },
   {
    "duration": 7,
    "start_time": "2022-05-17T08:14:04.113Z"
   },
   {
    "duration": 261,
    "start_time": "2022-05-17T08:14:04.121Z"
   },
   {
    "duration": 28,
    "start_time": "2022-05-17T08:14:04.384Z"
   },
   {
    "duration": 29,
    "start_time": "2022-05-17T08:14:04.414Z"
   },
   {
    "duration": 127,
    "start_time": "2022-05-17T08:14:04.464Z"
   },
   {
    "duration": 19,
    "start_time": "2022-05-17T08:14:04.593Z"
   },
   {
    "duration": 26,
    "start_time": "2022-05-17T08:14:04.614Z"
   },
   {
    "duration": 41,
    "start_time": "2022-05-17T08:14:04.642Z"
   },
   {
    "duration": 22,
    "start_time": "2022-05-17T08:14:04.685Z"
   },
   {
    "duration": 1104,
    "start_time": "2022-05-17T08:14:04.708Z"
   },
   {
    "duration": 201,
    "start_time": "2022-05-17T08:14:05.813Z"
   },
   {
    "duration": 261,
    "start_time": "2022-05-17T08:14:06.015Z"
   },
   {
    "duration": 187,
    "start_time": "2022-05-17T08:14:06.278Z"
   },
   {
    "duration": 163,
    "start_time": "2022-05-17T08:14:06.467Z"
   },
   {
    "duration": 11,
    "start_time": "2022-05-17T08:14:06.631Z"
   },
   {
    "duration": 29,
    "start_time": "2022-05-17T08:14:06.644Z"
   },
   {
    "duration": 270,
    "start_time": "2022-05-17T08:14:06.675Z"
   },
   {
    "duration": 379,
    "start_time": "2022-05-17T08:14:06.947Z"
   },
   {
    "duration": 277,
    "start_time": "2022-05-17T08:14:07.327Z"
   },
   {
    "duration": 11,
    "start_time": "2022-05-17T08:14:07.605Z"
   },
   {
    "duration": 29,
    "start_time": "2022-05-17T08:14:07.617Z"
   },
   {
    "duration": 300,
    "start_time": "2022-05-17T08:14:07.647Z"
   },
   {
    "duration": 396,
    "start_time": "2022-05-17T08:14:07.948Z"
   }
  ],
  "kernelspec": {
   "display_name": "Python 3 (ipykernel)",
   "language": "python",
   "name": "python3"
  },
  "language_info": {
   "codemirror_mode": {
    "name": "ipython",
    "version": 3
   },
   "file_extension": ".py",
   "mimetype": "text/x-python",
   "name": "python",
   "nbconvert_exporter": "python",
   "pygments_lexer": "ipython3",
   "version": "3.9.7"
  },
  "toc": {
   "base_numbering": 1,
   "nav_menu": {},
   "number_sections": true,
   "sideBar": true,
   "skip_h1_title": true,
   "title_cell": "Table of Contents",
   "title_sidebar": "Contents",
   "toc_cell": false,
   "toc_position": {
    "height": "calc(100% - 180px)",
    "left": "10px",
    "top": "150px",
    "width": "285.99px"
   },
   "toc_section_display": true,
   "toc_window_display": false
  }
 },
 "nbformat": 4,
 "nbformat_minor": 2
}
